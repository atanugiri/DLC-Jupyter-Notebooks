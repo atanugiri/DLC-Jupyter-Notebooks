{
 "cells": [
  {
   "cell_type": "markdown",
   "id": "14feb272-770b-4399-95c9-2e87150ee107",
   "metadata": {},
   "source": [
    "##  Load the files"
   ]
  },
  {
   "cell_type": "code",
   "execution_count": 14,
   "id": "c0b23a10-f0f5-41ff-a722-8aa2a1a43143",
   "metadata": {},
   "outputs": [],
   "source": [
    "import pandas as pd\n",
    "import numpy as np\n",
    "import cv2\n",
    "import os\n",
    "\n",
    "# Paths\n",
    "root = r\"C:\\DeepLabCutProjects\\DLC-Atanu-2024-12-25\\Analyzed-videos-filtered\"\n",
    "files = [\n",
    "    # \"Food_Only_Gen_2_2_11_25_S4_Y_CNO____Paris_London_Phoenix_None4_____Trial_1_bottom_left.csv\",\n",
    "    \"Food_Only_Gen_2_2_11_25_S2_Y_CNO____Denver_ElPaso_Waco_None4_____Trial_1_bottom_left.csv\"\n",
    "]\n",
    "full_paths = [os.path.join(root, f) for f in files]\n"
   ]
  },
  {
   "cell_type": "markdown",
   "id": "ec4da051-dfa4-4332-bbe0-eb1e747db240",
   "metadata": {},
   "source": [
    "## Define reference unit square"
   ]
  },
  {
   "cell_type": "code",
   "execution_count": 15,
   "id": "dce989c7-3e7e-44ff-b1bd-2d083e44959e",
   "metadata": {},
   "outputs": [],
   "source": [
    "# Target unit square corners (clockwise: top-left → top-right → bottom-right → bottom-left)\n",
    "unit_square = np.array([\n",
    "    [1, 0],\n",
    "    [0, 0],\n",
    "    [0, 1],\n",
    "    [1, 1]\n",
    "], dtype=np.float32)"
   ]
  },
  {
   "cell_type": "markdown",
   "id": "42ed7230-dd47-4611-932c-9c9325a598ea",
   "metadata": {},
   "source": [
    "## Process each file: compute homography & transform head"
   ]
  },
  {
   "cell_type": "code",
   "execution_count": null,
   "id": "4a7bd38e-8bf6-4d38-b9d9-1b1c80430403",
   "metadata": {
    "collapsed": true,
    "jupyter": {
     "outputs_hidden": true
    }
   },
   "outputs": [],
   "source": [
    "# Color map\n",
    "color_map = {\n",
    "    'Corner1': 'red',\n",
    "    'Corner2': 'blue',\n",
    "    'Corner3': 'green',\n",
    "    'Corner4': 'purple',\n",
    "    'Head': 'black'\n",
    "}"
   ]
  },
  {
   "cell_type": "code",
   "execution_count": 28,
   "id": "16d86188-7e89-4924-a443-161af8a1b9e4",
   "metadata": {},
   "outputs": [
    {
     "name": "stdout",
     "output_type": "stream",
     "text": [
      "\n",
      "Processing: Food_Only_Gen_2_2_11_25_S2_Y_CNO____Denver_ElPaso_Waco_None4_____Trial_1_bottom_left.csv\n",
      "[[ 8.31542805e-03 -3.56668692e-05 -2.18342895e-01]\n",
      " [-3.24543190e-04  8.59912980e-03 -6.20120644e-02]\n",
      " [-1.20883357e-04  1.66846901e-04  1.00000000e+00]]\n",
      "[9.84620185e-01 2.63677968e-16 9.84620185e-01]\n",
      "[4.44089210e-16 3.26128013e-16 9.98190416e-01]\n",
      "[4.71844785e-16 1.01788195e+00 1.01788195e+00]\n",
      "[1.00377482 1.00377482 1.00377482]\n"
     ]
    },
    {
     "data": {
      "image/png": "[encoded data removed]",
      "text/plain": [
       "<Figure size 500x500 with 1 Axes>"
      ]
     },
     "metadata": {},
     "output_type": "display_data"
    }
   ],
   "source": [
    "# Process each file\n",
    "for path in full_paths:\n",
    "    df = pd.read_csv(path, header=[1, 2])\n",
    "    print(f\"\\nProcessing: {os.path.basename(path)}\")\n",
    "\n",
    "    # Step 1: Compute average corner positions (after likelihood filter)\n",
    "    src_pts = []\n",
    "    for corner in ['Corner1', 'Corner2', 'Corner3', 'Corner4']:\n",
    "        lx = df[(corner, 'x')]\n",
    "        ly = df[(corner, 'y')]\n",
    "        ll = df[(corner, 'likelihood')]\n",
    "        mask = ll > 0.9\n",
    "        if mask.sum() == 0:\n",
    "            print(f\"Warning: no high-confidence points for {corner}\")\n",
    "            src_pts.append([np.nan, np.nan])\n",
    "        else:\n",
    "            src_pts.append([lx[mask].mean(), ly[mask].mean()])\n",
    "    src_pts = np.array(src_pts, dtype=np.float32)\n",
    "    \n",
    "    # Skip if any corner could not be computed\n",
    "    if np.isnan(src_pts).any():\n",
    "        print(\"⚠️ Skipping file due to invalid corner data.\")\n",
    "        continue\n",
    "\n",
    "    # Step 2: Compute homography to unit square\n",
    "    H, _ = cv2.findHomography(src_pts, unit_square)\n",
    "    print(H)\n",
    "\n",
    "    # Step 3: Plot normalized points\n",
    "    plt.figure(figsize=(5, 5))\n",
    "    plt.title(os.path.basename(path))\n",
    "\n",
    "    # Plot corners (in normalized space, as single points)\n",
    "    for i, corner in enumerate(['Corner1', 'Corner2', 'Corner3', 'Corner4']):\n",
    "        cx, cy = src_pts[i]\n",
    "        warped = H @ np.array([cx, cy, 1.0])\n",
    "        print(warped)\n",
    "        # warped /= warped[2]\n",
    "        # plt.scatter(warped[0], warped[1], s=80, color=color_map[corner], label=corner, marker='X')\n",
    "\n",
    "    # # Transform and plot Head trajectory\n",
    "    # xh = df[('Head', 'x')]\n",
    "    # yh = df[('Head', 'y')]\n",
    "    # lh = df[('Head', 'likelihood')]\n",
    "    # mask = lh > 0.9\n",
    "    # if mask.sum() > 0:\n",
    "    #     points = np.vstack([xh[mask], yh[mask], np.ones(mask.sum())])\n",
    "    #     warped = H @ points\n",
    "    #     warped /= warped[2]\n",
    "    #     plt.scatter(warped[0], warped[1], s=5, color=color_map['Head'], alpha=0.6, label='Head')\n",
    "\n",
    "    # plt.xlabel(\"x (normalized)\")\n",
    "    # plt.ylabel(\"y (normalized)\")\n",
    "    # plt.grid(True)\n",
    "    # # plt.legend()\n",
    "    # plt.tight_layout()\n",
    "    # plt.show()"
   ]
  },
  {
   "cell_type": "code",
   "execution_count": null,
   "id": "7c5bd5d8-df99-4281-b7a4-ad9425087e63",
   "metadata": {},
   "outputs": [],
   "source": []
  }
 ],
 "metadata": {
  "kernelspec": {
   "display_name": "Python [conda env:.conda-DLC] *",
   "language": "python",
   "name": "conda-env-.conda-DLC-py"
  },
  "language_info": {
   "codemirror_mode": {
    "name": "ipython",
    "version": 3
   },
   "file_extension": ".py",
   "mimetype": "text/x-python",
   "name": "python",
   "nbconvert_exporter": "python",
   "pygments_lexer": "ipython3",
   "version": "3.8.20"
  }
 },
 "nbformat": 4,
 "nbformat_minor": 5
}
