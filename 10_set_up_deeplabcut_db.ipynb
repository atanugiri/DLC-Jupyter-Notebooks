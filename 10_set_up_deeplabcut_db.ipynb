{
 "cells": [
  {
   "cell_type": "markdown",
   "id": "d5d1f63a-7f38-4c84-95dc-28558af86a28",
   "metadata": {},
   "source": [
    "## Imports"
   ]
  },
  {
   "cell_type": "code",
   "execution_count": 13,
   "id": "b76139fb-bdc3-44fe-aa54-9bf7e852b0eb",
   "metadata": {
    "editable": true,
    "slideshow": {
     "slide_type": ""
    },
    "tags": []
   },
   "outputs": [],
   "source": [
    "import psycopg2\n",
    "import os\n",
    "import pandas as pd"
   ]
  },
  {
   "cell_type": "markdown",
   "id": "72881ee0-395e-4e00-8b41-5cc41bbdc9c2",
   "metadata": {},
   "source": [
    "## Connect to database"
   ]
  },
  {
   "cell_type": "code",
   "execution_count": 14,
   "id": "dee5d7c7-2ec9-4180-af12-e0383adae052",
   "metadata": {
    "editable": true,
    "slideshow": {
     "slide_type": ""
    },
    "tags": []
   },
   "outputs": [],
   "source": [
    "DB_NAME = \"deeplabcut_db\"\n",
    "DB_USER = \"postgres\"\n",
    "DB_PASSWORD = \"1234\"\n",
    "DB_HOST = \"localhost\"  # or your IP\n",
    "DB_PORT = \"5432\"\n",
    "\n",
    "# Connect to PostgreSQL\n",
    "conn = psycopg2.connect(\n",
    "    dbname=DB_NAME,\n",
    "    user=DB_USER,\n",
    "    password=DB_PASSWORD,\n",
    "    host=DB_HOST,\n",
    "    port=DB_PORT\n",
    ")\n",
    "\n",
    "cursor = conn.cursor()"
   ]
  },
  {
   "cell_type": "markdown",
   "id": "63c401be-6f75-4ac4-a11a-fb470efe162e",
   "metadata": {},
   "source": [
    "## Create table"
   ]
  },
  {
   "cell_type": "code",
   "execution_count": 15,
   "id": "d2729390-1aee-4757-9697-46c7793c8c60",
   "metadata": {
    "editable": true,
    "slideshow": {
     "slide_type": ""
    },
    "tags": []
   },
   "outputs": [
    {
     "name": "stdout",
     "output_type": "stream",
     "text": [
      "Table created (or already exists).\n"
     ]
    }
   ],
   "source": [
    "# Create table (if it doesn't exist)\n",
    "cursor.execute(\"\"\"\n",
    "    CREATE TABLE IF NOT EXISTS dlc_files (\n",
    "        id SERIAL PRIMARY KEY,\n",
    "        video_path TEXT NOT NULL,\n",
    "        coord_path TEXT NOT NULL\n",
    "    )\n",
    "\"\"\")\n",
    "\n",
    "conn.commit()\n",
    "print(\"Table created (or already exists).\")"
   ]
  },
  {
   "cell_type": "markdown",
   "id": "7abddcf6-2cd8-4274-a99e-bc053be428cf",
   "metadata": {},
   "source": [
    "## Add other features to the table"
   ]
  },
  {
   "cell_type": "code",
   "execution_count": 16,
   "id": "df75b692-a40c-435c-9a03-15940b102ef9",
   "metadata": {},
   "outputs": [
    {
     "name": "stdout",
     "output_type": "stream",
     "text": [
      "Columns added successfully (if they didn't already exist).\n"
     ]
    }
   ],
   "source": [
    "# Add new columns to the table (if they don't already exist)\n",
    "alter_commands = [\n",
    "    \"ALTER TABLE dlc_files ADD COLUMN IF NOT EXISTS name TEXT\",\n",
    "    \"ALTER TABLE dlc_files ADD COLUMN IF NOT EXISTS maze TEXT\",\n",
    "    \"ALTER TABLE dlc_files ADD COLUMN IF NOT EXISTS gender TEXT\",\n",
    "    \"ALTER TABLE dlc_files ADD COLUMN IF NOT EXISTS genotype TEXT\",\n",
    "    \"ALTER TABLE dlc_files ADD COLUMN IF NOT EXISTS health TEXT\",\n",
    "    \"ALTER TABLE dlc_files ADD COLUMN IF NOT EXISTS task TEXT\",\n",
    "    \"ALTER TABLE dlc_files ADD COLUMN IF NOT EXISTS date DATE\"\n",
    "]\n",
    "\n",
    "for command in alter_commands:\n",
    "    cursor.execute(command)\n",
    "\n",
    "conn.commit()\n",
    "print(\"Columns added successfully (if they didn't already exist).\")"
   ]
  },
  {
   "cell_type": "markdown",
   "id": "481fb0ca-5a79-40a5-a88d-9713dc8488f9",
   "metadata": {},
   "source": [
    "## Show first few columns of the dlc_files table"
   ]
  },
  {
   "cell_type": "code",
   "execution_count": 17,
   "id": "26a5ac28-dd7a-4eb8-8b7d-d84442ac2f1f",
   "metadata": {
    "editable": true,
    "slideshow": {
     "slide_type": ""
    },
    "tags": []
   },
   "outputs": [
    {
     "name": "stdout",
     "output_type": "stream",
     "text": [
      "   id  \\\n",
      "0   1   \n",
      "1   2   \n",
      "2   3   \n",
      "3   4   \n",
      "4   5   \n",
      "\n",
      "                                                                                                                                                             video_path  \\\n",
      "0   C:\\DeepLabCutProjects\\DLC-Atanu-2024-12-25\\Videos-to-analyze\\Cre_and_WT_Habituation_Food_and_Maze_12_26_24_S1_Houston_Austin_Toronto_Berlin_Trial_1_bottom_left.mp4   \n",
      "1  C:\\DeepLabCutProjects\\DLC-Atanu-2024-12-25\\Videos-to-analyze\\Cre_and_WT_Habituation_Food_and_Maze_12_26_24_S1_Houston_Austin_Toronto_Berlin_Trial_1_bottom_right.mp4   \n",
      "2      C:\\DeepLabCutProjects\\DLC-Atanu-2024-12-25\\Videos-to-analyze\\Cre_and_WT_Habituation_Food_and_Maze_12_26_24_S1_Houston_Austin_Toronto_Berlin_Trial_1_top_left.mp4   \n",
      "3     C:\\DeepLabCutProjects\\DLC-Atanu-2024-12-25\\Videos-to-analyze\\Cre_and_WT_Habituation_Food_and_Maze_12_26_24_S1_Houston_Austin_Toronto_Berlin_Trial_1_top_right.mp4   \n",
      "4    C:\\DeepLabCutProjects\\DLC-Atanu-2024-12-25\\Videos-to-analyze\\Cre_and_WT_Habituation_Food_and_Maze_12_26_24_S2_Denver_El_Paso_Waco_Ft_Worth_Trial_1_bottom_left.mp4   \n",
      "\n",
      "                                                                                                                                                                                                                  coord_path  \\\n",
      "0   C:\\DeepLabCutProjects\\DLC-Atanu-2024-12-25\\Analyzed-videos-filtered\\Cre_and_WT_Habituation_Food_and_Maze_12_26_24_S1_Houston_Austin_Toronto_Berlin_Trial_1_bottom_leftDLC_resnet50_DLCDec25shuffle1_1140000_filtered.csv   \n",
      "1  C:\\DeepLabCutProjects\\DLC-Atanu-2024-12-25\\Analyzed-videos-filtered\\Cre_and_WT_Habituation_Food_and_Maze_12_26_24_S1_Houston_Austin_Toronto_Berlin_Trial_1_bottom_rightDLC_resnet50_DLCDec25shuffle1_1140000_filtered.csv   \n",
      "2      C:\\DeepLabCutProjects\\DLC-Atanu-2024-12-25\\Analyzed-videos-filtered\\Cre_and_WT_Habituation_Food_and_Maze_12_26_24_S1_Houston_Austin_Toronto_Berlin_Trial_1_top_leftDLC_resnet50_DLCDec25shuffle1_1140000_filtered.csv   \n",
      "3     C:\\DeepLabCutProjects\\DLC-Atanu-2024-12-25\\Analyzed-videos-filtered\\Cre_and_WT_Habituation_Food_and_Maze_12_26_24_S1_Houston_Austin_Toronto_Berlin_Trial_1_top_rightDLC_resnet50_DLCDec25shuffle1_1140000_filtered.csv   \n",
      "4    C:\\DeepLabCutProjects\\DLC-Atanu-2024-12-25\\Analyzed-videos-filtered\\Cre_and_WT_Habituation_Food_and_Maze_12_26_24_S2_Denver_El_Paso_Waco_Ft_Worth_Trial_1_bottom_leftDLC_resnet50_DLCDec25shuffle1_1140000_filtered.csv   \n",
      "\n",
      "   name  maze gender genotype health  task  date  \n",
      "0  None  None   None     None   None  None  None  \n",
      "1  None  None   None     None   None  None  None  \n",
      "2  None  None   None     None   None  None  None  \n",
      "3  None  None   None     None   None  None  None  \n",
      "4  None  None   None     None   None  None  None  \n"
     ]
    },
    {
     "name": "stderr",
     "output_type": "stream",
     "text": [
      "C:\\Users\\FriedmanLab Optogen\\AppData\\Local\\Temp\\ipykernel_28932\\2434452463.py:2: UserWarning: pandas only supports SQLAlchemy connectable (engine/connection) or database string URI or sqlite3 DBAPI2 connection. Other DBAPI2 objects are not tested. Please consider using SQLAlchemy.\n",
      "  df = pd.read_sql_query(\"SELECT * FROM dlc_files\", conn)\n"
     ]
    }
   ],
   "source": [
    "# Run SQL and load results into DataFrame\n",
    "df = pd.read_sql_query(\"SELECT * FROM dlc_files\", conn)\n",
    "\n",
    "# Show it\n",
    "pd.set_option('display.max_colwidth', None)\n",
    "print(df.head())\n",
    "\n",
    "conn.close()"
   ]
  },
  {
   "cell_type": "markdown",
   "id": "96d9123f-dd41-4099-be93-1d531e2c0292",
   "metadata": {},
   "source": [
    "## Close connection"
   ]
  },
  {
   "cell_type": "code",
   "execution_count": 18,
   "id": "4231a59c-6a04-490e-8004-097374aae779",
   "metadata": {},
   "outputs": [],
   "source": [
    "cursor.close()\n",
    "conn.close()"
   ]
  },
  {
   "cell_type": "code",
   "execution_count": null,
   "id": "1fa4f747-2c43-4eab-b7e3-1502497ca68c",
   "metadata": {},
   "outputs": [],
   "source": []
  }
 ],
 "metadata": {
  "kernelspec": {
   "display_name": "Python [conda env:.conda-DLC] *",
   "language": "python",
   "name": "conda-env-.conda-DLC-py"
  },
  "language_info": {
   "codemirror_mode": {
    "name": "ipython",
    "version": 3
   },
   "file_extension": ".py",
   "mimetype": "text/x-python",
   "name": "python",
   "nbconvert_exporter": "python",
   "pygments_lexer": "ipython3",
   "version": "3.8.20"
  }
 },
 "nbformat": 4,
 "nbformat_minor": 5
}
