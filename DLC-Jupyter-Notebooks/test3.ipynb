{
 "cells": [
  {
   "cell_type": "code",
   "execution_count": null,
   "id": "0",
   "metadata": {},
   "outputs": [],
   "source": [
    "import os\n",
    "import psycopg2\n",
    "import pandas as pd\n",
    "\n",
    "import platform\n",
    "\n",
    "host = \"localhost\" if platform.system() == \"Windows\" else \"129.108.49.30\"\n",
    "\n",
    "conn = psycopg2.connect(\n",
    "    dbname=\"deeplabcut_db\",\n",
    "    user=\"postgres\",\n",
    "    password=\"1234\",\n",
    "    host=host,\n",
    "    port=\"5432\"\n",
    ")\n",
    "\n",
    "cur = conn.cursor()\n",
    "cur.execute(\"SELECT * FROM dlc_files LIMIT 1;\")\n",
    "print(cur.fetchall())\n",
    "conn.close()\n"
   ]
  },
  {
   "cell_type": "code",
   "execution_count": null,
   "id": "1",
   "metadata": {},
   "outputs": [],
   "source": [
    "import psycopg2\n",
    "import pandas as pd\n",
    "\n",
    "# Connection (adjust host if needed)\n",
    "conn = psycopg2.connect(\n",
    "    dbname=\"deeplabcut_db\",\n",
    "    user=\"postgres\",\n",
    "    password=\"1234\",\n",
    "    host=\"129.108.49.30\",  # or \"localhost\" on Windows\n",
    "    port=\"5432\"\n",
    ")\n",
    "\n",
    "# Read full table into pandas\n",
    "df = pd.read_sql(\"SELECT * FROM dlc_files\", conn)\n",
    "\n",
    "# Show column names\n",
    "print(df.columns)\n",
    "\n",
    "# Optional: check the first few rows\n",
    "print(df.head())\n",
    "\n",
    "conn.close()"
   ]
  },
  {
   "cell_type": "code",
   "execution_count": null,
   "id": "2",
   "metadata": {},
   "outputs": [],
   "source": [
    "import numpy as np\n",
    "import matplotlib.pyplot as plt\n",
    "import importlib\n",
    "\n",
    "import barplot\n",
    "importlib.reload(barplot)\n",
    "from barplot import barplot\n",
    "\n",
    "# Set random seed for reproducibility\n",
    "np.random.seed(42)\n",
    "\n",
    "fig, ax = barplot(n1=12, n2=12, mu1=8, mu2=7.7)\n",
    "ax.set_xticks([0, 1])\n",
    "ax.set_xticklabels(['Saline', 'Ghrelin'])\n",
    "ax.set_title('FA')\n",
    "ax.set_ylabel('Curvature')\n",
    "plt.show()\n"
   ]
  },
  {
   "cell_type": "code",
   "execution_count": null,
   "id": "3",
   "metadata": {},
   "outputs": [],
   "source": [
    "np.random.seed(42)\n",
    "\n",
    "fig, ax = barplot(n1=12, n2=13, mu1=9, mu2=10)\n",
    "ax.set_xticks([0, 1])\n",
    "ax.set_xticklabels(['Saline', 'Ghrelin'])\n",
    "ax.set_title('EM')\n",
    "ax.set_ylabel('Curvature')\n",
    "plt.show()"
   ]
  },
  {
   "cell_type": "code",
   "execution_count": null,
   "id": "4",
   "metadata": {},
   "outputs": [],
   "source": [
    "np.random.seed(42)\n",
    "\n",
    "fig, ax = barplot(n1=12, n2=13, mu1=7, mu2=6.7)\n",
    "ax.set_xticks([0, 1])\n",
    "ax.set_xticklabels(['Saline', 'Ghrelin'])\n",
    "ax.set_title('FL')\n",
    "ax.set_ylabel('Curvature')\n",
    "plt.show()"
   ]
  },
  {
   "cell_type": "code",
   "execution_count": null,
   "id": "5",
   "metadata": {},
   "outputs": [],
   "source": []
  }
 ],
 "metadata": {
  "kernelspec": {
   "display_name": "Python 3 (ipykernel)",
   "language": "python",
   "name": "python3"
  },
  "language_info": {
   "codemirror_mode": {
    "name": "ipython",
    "version": 3
   },
   "file_extension": ".py",
   "mimetype": "text/x-python",
   "name": "python",
   "nbconvert_exporter": "python",
   "pygments_lexer": "ipython3",
   "version": "3.10.13"
  }
 },
 "nbformat": 4,
 "nbformat_minor": 5
}
