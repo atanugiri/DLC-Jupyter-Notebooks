{
 "cells": [
  {
   "cell_type": "markdown",
   "id": "0",
   "metadata": {},
   "source": [
    "# Add timestamps to DLC csv files where 'time' column alreday does not exist."
   ]
  },
  {
   "cell_type": "code",
   "execution_count": null,
   "id": "1",
   "metadata": {
    "jupyter": {
     "outputs_hidden": true
    }
   },
   "outputs": [],
   "source": [
    "import os\n",
    "import cv2\n",
    "import pandas as pd\n",
    "\n",
    "# Directories\n",
    "video_dir = r'C:\\DeepLabCutProjects\\DLC-Atanu-2024-12-25\\Videos-to-analyze-temp'\n",
    "analyzed_csv_dir = r'C:\\DeepLabCutProjects\\DLC-Atanu-2024-12-25\\Analyzed-videos-filtered-temp'\n",
    "output_dir = analyzed_csv_dir  # Overwrite in place\n",
    "\n",
    "os.makedirs(output_dir, exist_ok=True)\n",
    "\n",
    "for file in os.listdir(video_dir):\n",
    "    if file.endswith('.mp4'):\n",
    "        try:\n",
    "            base_name = os.path.splitext(file)[0]\n",
    "            video_path = os.path.join(video_dir, file)\n",
    "    \n",
    "            # Extract frame rate\n",
    "            cap = cv2.VideoCapture(video_path)\n",
    "            fps = cap.get(cv2.CAP_PROP_FPS)\n",
    "            cap.release()\n",
    "            \n",
    "            # Match CSV file based on partial match\n",
    "            matching_csv = [f for f in os.listdir(analyzed_csv_dir)\n",
    "                            if base_name in f and f.endswith('_filtered.csv')]\n",
    "            \n",
    "            # Define csv_path\n",
    "            if matching_csv:\n",
    "                csv_file = matching_csv[0]\n",
    "                csv_path = os.path.join(analyzed_csv_dir, csv_file)\n",
    "    \n",
    "                # Read CSV with multi-index header\n",
    "                df = pd.read_csv(csv_path, header=[0, 1, 2], index_col=0)\n",
    "                \n",
    "                # Check if 'time' column already exists\n",
    "                if ('time', '', 's') in df.columns:\n",
    "                    print(f\"Skipping (already has timestamp): {csv_file}\")\n",
    "                    with open('processing_log.txt', 'a') as log:\n",
    "                        log.write(f\"Skipping (already has timestamp): {csv_file}\\n\")\n",
    "                    continue\n",
    "        \n",
    "                # Create timestamp column with matching MultiIndex structure\n",
    "                time_column = pd.MultiIndex.from_tuples([('time', '', 's')])\n",
    "                time_stamps = [round(i / fps, 3) for i in range(len(df))]\n",
    "                time_df = pd.DataFrame(time_stamps, columns=time_column, index=df.index)\n",
    "                \n",
    "                # Combine and save\n",
    "                df_out = pd.concat([time_df, df], axis=1)\n",
    "                output_path = os.path.join(output_dir, csv_file)\n",
    "                df_out.to_csv(output_path)\n",
    "                print(f\"✔ Timestamp added: {csv_file}\")\n",
    "                \n",
    "            else:\n",
    "                print(f\"No matching CSV found for: {file}\")\n",
    "                with open('processing_log.txt', 'a') as log:\n",
    "                    log.write(f\"No matching CSV found for: {file}\\n\")\n",
    "\n",
    "        except Exception as e:\n",
    "            print(f\"❌ Error processing {file}: {e}\")\n",
    "            with open('processing_log.txt', 'a') as log:\n",
    "                log.write(f\"❌ Error processing {file}: {e}\\n\")        \n"
   ]
  },
  {
   "cell_type": "code",
   "execution_count": null,
   "id": "2",
   "metadata": {},
   "outputs": [],
   "source": []
  }
 ],
 "metadata": {
  "kernelspec": {
   "display_name": "Python [conda env:.conda-DLC] *",
   "language": "python",
   "name": "conda-env-.conda-DLC-py"
  },
  "language_info": {
   "codemirror_mode": {
    "name": "ipython",
    "version": 3
   },
   "file_extension": ".py",
   "mimetype": "text/x-python",
   "name": "python",
   "nbconvert_exporter": "python",
   "pygments_lexer": "ipython3",
   "version": "3.8.20"
  }
 },
 "nbformat": 4,
 "nbformat_minor": 5
}
