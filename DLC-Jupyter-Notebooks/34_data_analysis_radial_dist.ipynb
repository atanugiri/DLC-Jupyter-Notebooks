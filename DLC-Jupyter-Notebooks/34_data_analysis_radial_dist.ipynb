{
 "cells": [
  {
   "cell_type": "code",
   "execution_count": null,
   "id": "0",
   "metadata": {},
   "outputs": [],
   "source": [
    "import sys\n",
    "from pathlib import Path\n",
    "import importlib\n",
    "\n",
    "# Add the parent of the *outer* DLC-Jupyter-Notebooks folder to sys.path\n",
    "project_root = Path().resolve().parents[0]  # This is /Users/atanugiri/Downloads/DLC-Jupyter-Notebooks\n",
    "print(project_root)\n",
    "sys.path.append(str(project_root))\n"
   ]
  },
  {
   "cell_type": "code",
   "execution_count": null,
   "id": "1",
   "metadata": {},
   "outputs": [],
   "source": [
    "import importlib\n",
    "import Python_scripts.Feature_functions.toylight_rat_trajectory\n",
    "\n",
    "importlib.reload(Python_scripts.Feature_functions.toylight_rat_trajectory)\n",
    "\n",
    "from Python_scripts.Feature_functions.toylight_rat_trajectory import sparse_radial_band\n"
   ]
  },
  {
   "cell_type": "code",
   "execution_count": null,
   "id": "2",
   "metadata": {},
   "outputs": [],
   "source": [
    "import importlib\n",
    "import Python_scripts.Feature_functions.diagonal_density\n",
    "\n",
    "importlib.reload(Python_scripts.Feature_functions.diagonal_density)\n",
    "\n",
    "from Python_scripts.Feature_functions.diagonal_density import project_onto_diagonal\n",
    "from Python_scripts.Feature_functions.diagonal_density import plot_projection_and_analyze\n",
    "from Python_scripts.Feature_functions.diagonal_density import fit_and_plot_gmm_overlay\n"
   ]
  },
  {
   "cell_type": "code",
   "execution_count": null,
   "id": "3",
   "metadata": {},
   "outputs": [],
   "source": [
    "pts = sparse_radial_band()\n",
    "proj = project_onto_diagonal(pts)\n",
    "result = plot_projection_and_analyze(pts)  # PTP\n",
    "gmm_result = fit_and_plot_gmm_overlay(proj, result)  # GMM\n",
    "\n",
    "print(gmm_result)\n"
   ]
  },
  {
   "cell_type": "code",
   "execution_count": null,
   "id": "4",
   "metadata": {},
   "outputs": [],
   "source": []
  }
 ],
 "metadata": {
  "kernelspec": {
   "display_name": "Python 3 (ipykernel)",
   "language": "python",
   "name": "python3"
  },
  "language_info": {
   "codemirror_mode": {
    "name": "ipython",
    "version": 3
   },
   "file_extension": ".py",
   "mimetype": "text/x-python",
   "name": "python",
   "nbconvert_exporter": "python",
   "pygments_lexer": "ipython3",
   "version": "3.10.13"
  }
 },
 "nbformat": 4,
 "nbformat_minor": 5
}
