{
 "cells": [
  {
   "cell_type": "markdown",
   "id": "0",
   "metadata": {},
   "source": [
    "## Add project root"
   ]
  },
  {
   "cell_type": "code",
   "execution_count": null,
   "id": "1",
   "metadata": {},
   "outputs": [],
   "source": [
    "import sys\n",
    "from pathlib import Path\n",
    "import importlib\n",
    "\n",
    "# Add the parent of the *outer* DLC-Jupyter-Notebooks folder to sys.path\n",
    "project_root = Path().resolve().parents[0]  # This is /Users/atanugiri/Downloads/DLC-Jupyter-Notebooks\n",
    "print(project_root)\n",
    "sys.path.append(str(project_root))\n"
   ]
  },
  {
   "cell_type": "markdown",
   "id": "2",
   "metadata": {},
   "source": [
    "## Connect to db"
   ]
  },
  {
   "cell_type": "code",
   "execution_count": null,
   "id": "3",
   "metadata": {},
   "outputs": [],
   "source": [
    "import psycopg2\n",
    "import platform\n",
    "\n",
    "host = \"localhost\" if platform.system() == \"Windows\" else \"129.108.49.142\"\n",
    "conn = psycopg2.connect(\n",
    "    dbname=\"deeplabcut_db\", user=\"postgres\", \n",
    "    password=\"1234\", host=host, port=\"5432\")\n",
    "cursor = conn.cursor()\n"
   ]
  },
  {
   "cell_type": "markdown",
   "id": "4",
   "metadata": {},
   "source": [
    "## Insert normalized trajectory to db"
   ]
  },
  {
   "cell_type": "code",
   "execution_count": null,
   "id": "5",
   "metadata": {},
   "outputs": [],
   "source": [
    "import importlib\n",
    "import Python_scripts.Feature_functions.smooth_random_walk\n",
    "\n",
    "importlib.reload(Python_scripts.Feature_functions.smooth_random_walk)\n",
    "\n",
    "from Python_scripts.Feature_functions.smooth_random_walk import smooth_walk_sparse_band_only\n"
   ]
  },
  {
   "cell_type": "code",
   "execution_count": null,
   "id": "6",
   "metadata": {},
   "outputs": [],
   "source": [
    "# import pandas as pd\n",
    "# from tqdm import tqdm\n",
    "\n",
    "# # Step 1: Get ToyLight saline IDs with long trial durations\n",
    "# ToyLight_q = \"SELECT id FROM dlc_table WHERE task='ToyLight' AND health='ghrelin'\"\n",
    "# df = pd.read_sql_query(ToyLight_q, conn)\n",
    "# ToyLight_id = df['id'].to_list()\n",
    "\n",
    "# # Step 2: Overwrite head_x_norm and head_y_norm\n",
    "# for trial_id in tqdm(ToyLight_id):\n",
    "#     traj = smooth_walk_sparse_band_only(\n",
    "#         trial_id=trial_id, conn=conn, \n",
    "#         r_min=0.42, r_max=0.44, seed=trial_id)\n",
    "#     head_x = traj[:, 0].tolist()\n",
    "#     head_y = traj[:, 1].tolist()\n",
    "\n",
    "#     cursor.execute(\"\"\"\n",
    "#         UPDATE dlc_table_temp\n",
    "#         SET head_x_norm = %s, head_y_norm = %s\n",
    "#         WHERE id = %s\n",
    "#     \"\"\", (head_x, head_y, trial_id))\n",
    "\n",
    "# conn.commit()\n",
    "# print(\"Simulated head_x_norm and head_y_norm written to dlc_table_temp.\")\n"
   ]
  },
  {
   "cell_type": "markdown",
   "id": "7",
   "metadata": {},
   "source": [
    "## Fetch id list"
   ]
  },
  {
   "cell_type": "code",
   "execution_count": null,
   "id": "8",
   "metadata": {},
   "outputs": [],
   "source": [
    "import pandas as pd\n",
    "\n",
    "ToyLight_saline_q = \"SELECT id FROM dlc_table WHERE task='ToyLight' AND health='saline';\"\n",
    "df = pd.read_sql_query(ToyLight_saline_q, conn)\n",
    "ToyLight_saline_id = df['id'].to_list()\n",
    "\n",
    "ToyLight_ghrelin_q = \"SELECT id FROM dlc_table WHERE task='ToyLight' AND health='ghrelin';\"\n",
    "df = pd.read_sql_query(ToyLight_ghrelin_q, conn)\n",
    "ToyLight_ghrelin_id = df['id'].to_list()\n",
    "\n",
    "ToyLight_saline_id"
   ]
  },
  {
   "cell_type": "markdown",
   "id": "9",
   "metadata": {},
   "source": [
    "## Gaussian fit position projection on diagonal"
   ]
  },
  {
   "cell_type": "code",
   "execution_count": null,
   "id": "10",
   "metadata": {
    "jupyter": {
     "outputs_hidden": true
    }
   },
   "outputs": [],
   "source": [
    "proj = project_onto_diagonal(id=104, conn=conn)\n",
    "gmm_result = fit_and_plot_gmm_overlay(proj, result=None)  # GMM\n",
    "\n",
    "print(gmm_result)\n"
   ]
  },
  {
   "cell_type": "code",
   "execution_count": null,
   "id": "11",
   "metadata": {
    "jupyter": {
     "outputs_hidden": true
    }
   },
   "outputs": [],
   "source": [
    "# Run separately\n",
    "saline_widths = compute_gmm_widths(ToyLight_saline_id, conn)\n",
    "ghrelin_widths = compute_gmm_widths(ToyLight_ghrelin_id, conn)\n",
    "\n",
    "# Optional: compare using boxplot\n",
    "import seaborn as sns\n",
    "import pandas as pd\n",
    "import matplotlib.pyplot as plt\n",
    "\n",
    "df = pd.DataFrame({\n",
    "    'width': saline_widths + ghrelin_widths,\n",
    "    'group': ['Saline'] * len(saline_widths) + ['Ghrelin'] * len(ghrelin_widths)\n",
    "})\n"
   ]
  },
  {
   "cell_type": "markdown",
   "id": "12",
   "metadata": {},
   "source": [
    "## Calculate radial distances for each trajectory points"
   ]
  },
  {
   "cell_type": "code",
   "execution_count": null,
   "id": "13",
   "metadata": {},
   "outputs": [],
   "source": [
    "import importlib\n",
    "import Python_scripts.Feature_functions.get_radial_distances\n",
    "\n",
    "importlib.reload(Python_scripts.Feature_functions.get_radial_distances)\n",
    "\n",
    "from Python_scripts.Feature_functions.get_radial_distances import get_radial_distances\n"
   ]
  },
  {
   "cell_type": "code",
   "execution_count": null,
   "id": "14",
   "metadata": {},
   "outputs": [],
   "source": [
    "import numpy as np\n",
    "\n",
    "r_saline = []\n",
    "r_ghrelin = []\n",
    "\n",
    "for id in ToyLight_saline_id:\n",
    "    r = get_radial_distances(id, conn)\n",
    "    if len(r) > 0:\n",
    "        r_saline.append(r)\n",
    "\n",
    "for id in ToyLight_ghrelin_id:\n",
    "    r = get_radial_distances(id, conn)\n",
    "    if len(r) > 0:\n",
    "        r_ghrelin.append(r)\n",
    "\n",
    "# Flatten\n",
    "r_saline_all = np.concatenate(r_saline)\n",
    "r_ghrelin_all = np.concatenate(r_ghrelin)\n"
   ]
  },
  {
   "cell_type": "code",
   "execution_count": null,
   "id": "15",
   "metadata": {},
   "outputs": [],
   "source": [
    "import numpy as np\n",
    "\n",
    "heights, bin_edges = np.histogram(r_ghrelin_all, bins=100, density=True)\n",
    "bin_centers = bin_edges[:-1] + np.diff(bin_edges)/2\n",
    "\n",
    "import pandas as pd\n",
    "df = pd.DataFrame({'bin_center': bin_centers, 'height': heights})\n",
    "df.to_csv('radial_histogram_ghrelin.csv', index=False)\n"
   ]
  },
  {
   "cell_type": "code",
   "execution_count": null,
   "id": "16",
   "metadata": {},
   "outputs": [],
   "source": [
    "import importlib\n",
    "import Python_scripts.Data_analysis.compare_radial_distributions\n",
    "\n",
    "importlib.reload(Python_scripts.Data_analysis.compare_radial_distributions)\n",
    "\n",
    "from Python_scripts.Data_analysis.compare_radial_distributions import compare_radial_distributions\n",
    " "
   ]
  },
  {
   "cell_type": "code",
   "execution_count": null,
   "id": "17",
   "metadata": {},
   "outputs": [],
   "source": [
    "# CDF + KS + AUC differences\n",
    "res_cdf = compare_radial_distributions(r_saline_all, r_ghrelin_all, kind='cdf', return_data=True)\n",
    "\n",
    "print(f\"KS: D={res_cdf['ks_stat']:.4f}, p={res_cdf['ks_pval']:.4g}\")\n",
    "print(f\"AUC diff before: {res_cdf['auc_diff_before']:.4f}, after: {res_cdf['auc_diff_after']:.4f}\")\n"
   ]
  },
  {
   "cell_type": "code",
   "execution_count": null,
   "id": "18",
   "metadata": {},
   "outputs": [],
   "source": [
    "import matplotlib.pyplot as plt\n",
    "\n",
    "plt.hist(r_saline_all, bins=100, density=True, alpha=0.5, label='Saline')\n",
    "plt.hist(r_ghrelin_all, bins=100, density=True, alpha=0.5, label='Ghrelin')\n",
    "\n",
    "plt.xlabel('Radial distance from light')\n",
    "plt.ylabel('Density')\n",
    "plt.title('Radial Distribution of Trajectories')\n",
    "plt.legend()\n",
    "# plt.grid(True)\n",
    "plt.show()\n"
   ]
  },
  {
   "cell_type": "code",
   "execution_count": null,
   "id": "19",
   "metadata": {},
   "outputs": [],
   "source": [
    "import importlib\n",
    "import Python_scripts.Feature_functions.plot_radial_density_per_trial\n",
    "importlib.reload(Python_scripts.Feature_functions.plot_radial_density_per_trial)\n",
    "from Python_scripts.Feature_functions.plot_radial_density_per_trial import plot_radial_density_per_trial"
   ]
  },
  {
   "cell_type": "code",
   "execution_count": null,
   "id": "20",
   "metadata": {
    "jupyter": {
     "outputs_hidden": true
    }
   },
   "outputs": [],
   "source": [
    "plot_radial_density_per_trial(ToyLight_ghrelin_id, conn)"
   ]
  }
 ],
 "metadata": {
  "kernelspec": {
   "display_name": "Python 3 (ipykernel)",
   "language": "python",
   "name": "python3"
  },
  "language_info": {
   "codemirror_mode": {
    "name": "ipython",
    "version": 3
   },
   "file_extension": ".py",
   "mimetype": "text/x-python",
   "name": "python",
   "nbconvert_exporter": "python",
   "pygments_lexer": "ipython3",
   "version": "3.10.13"
  }
 },
 "nbformat": 4,
 "nbformat_minor": 5
}
