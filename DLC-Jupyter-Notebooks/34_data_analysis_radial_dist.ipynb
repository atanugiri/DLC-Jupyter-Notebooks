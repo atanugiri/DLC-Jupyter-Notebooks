{
 "cells": [
  {
   "cell_type": "markdown",
   "id": "0",
   "metadata": {},
   "source": [
    "## Add project root"
   ]
  },
  {
   "cell_type": "code",
   "execution_count": null,
   "id": "1",
   "metadata": {},
   "outputs": [],
   "source": [
    "import sys\n",
    "from pathlib import Path\n",
    "import importlib\n",
    "\n",
    "# Add the parent of the *outer* DLC-Jupyter-Notebooks folder to sys.path\n",
    "project_root = Path().resolve().parents[0]  # This is /Users/atanugiri/Downloads/DLC-Jupyter-Notebooks\n",
    "print(project_root)\n",
    "sys.path.append(str(project_root))\n"
   ]
  },
  {
   "cell_type": "markdown",
   "id": "2",
   "metadata": {},
   "source": [
    "## Connect to db"
   ]
  },
  {
   "cell_type": "code",
   "execution_count": null,
   "id": "3",
   "metadata": {},
   "outputs": [],
   "source": [
    "import psycopg2\n",
    "import platform\n",
    "\n",
    "host = \"localhost\" if platform.system() == \"Windows\" else \"129.108.49.30\"\n",
    "conn = psycopg2.connect(\n",
    "    dbname=\"deeplabcut_db\", user=\"postgres\", \n",
    "    password=\"1234\", host=host, port=\"5432\")\n",
    "cursor = conn.cursor()\n"
   ]
  },
  {
   "cell_type": "markdown",
   "id": "4",
   "metadata": {},
   "source": [
    "## Insert normalized trajectory to db"
   ]
  },
  {
   "cell_type": "code",
   "execution_count": null,
   "id": "5",
   "metadata": {},
   "outputs": [],
   "source": [
    "import importlib\n",
    "import Python_scripts.Feature_functions.smooth_random_walk\n",
    "\n",
    "importlib.reload(Python_scripts.Feature_functions.smooth_random_walk)\n",
    "\n",
    "from Python_scripts.Feature_functions.smooth_random_walk import smooth_walk_sparse_band_only\n"
   ]
  },
  {
   "cell_type": "code",
   "execution_count": null,
   "id": "6",
   "metadata": {},
   "outputs": [],
   "source": [
    "import pandas as pd\n",
    "from tqdm import tqdm\n",
    "\n",
    "# Step 1: Get ToyLight saline IDs with long trial durations\n",
    "ToyLight_q = \"SELECT id FROM dlc_table WHERE task='ToyLight' AND health='ghrelin'\"\n",
    "df = pd.read_sql_query(ToyLight_q, conn)\n",
    "ToyLight_id = df['id'].to_list()\n",
    "\n",
    "# Step 2: Overwrite head_x_norm and head_y_norm\n",
    "for trial_id in tqdm(ToyLight_id):\n",
    "    traj = smooth_walk_sparse_band_only(\n",
    "        trial_id=trial_id, conn=conn, \n",
    "        r_min=0.41, r_max=0.53, seed=trial_id)\n",
    "    head_x = traj[:, 0].tolist()\n",
    "    head_y = traj[:, 1].tolist()\n",
    "\n",
    "    cursor.execute(\"\"\"\n",
    "        UPDATE dlc_table_temp\n",
    "        SET head_x_norm = %s, head_y_norm = %s\n",
    "        WHERE id = %s\n",
    "    \"\"\", (head_x, head_y, trial_id))\n",
    "\n",
    "conn.commit()\n",
    "print(\"Simulated head_x_norm and head_y_norm written to dlc_table_temp.\")\n"
   ]
  },
  {
   "cell_type": "markdown",
   "id": "7",
   "metadata": {},
   "source": [
    "## Fetch id list"
   ]
  },
  {
   "cell_type": "code",
   "execution_count": null,
   "id": "8",
   "metadata": {},
   "outputs": [],
   "source": [
    "ToyLight_saline_q = \"SELECT id FROM dlc_table WHERE task='ToyLight' AND health='saline';\"\n",
    "df = pd.read_sql_query(ToyLight_saline_q, conn)\n",
    "ToyLight_saline_id = df['id'].to_list()\n",
    "\n",
    "ToyLight_ghrelin_q = \"SELECT id FROM dlc_table WHERE task='ToyLight' AND health='ghrelin';\"\n",
    "df = pd.read_sql_query(ToyLight_ghrelin_q, conn)\n",
    "ToyLight_ghrelin_id = df['id'].to_list()\n",
    "\n",
    "ToyLight_saline_id"
   ]
  },
  {
   "cell_type": "markdown",
   "id": "9",
   "metadata": {},
   "source": [
    "## Gaussian fit position projection on diagonal"
   ]
  },
  {
   "cell_type": "code",
   "execution_count": null,
   "id": "10",
   "metadata": {},
   "outputs": [],
   "source": [
    "import importlib\n",
    "import Python_scripts.Feature_functions.diagonal_density\n",
    "import Python_scripts.Feature_functions.compute_gmm_widths\n",
    "\n",
    "importlib.reload(Python_scripts.Feature_functions.diagonal_density)\n",
    "importlib.reload(Python_scripts.Feature_functions.compute_gmm_widths)\n",
    "\n",
    "from Python_scripts.Feature_functions.diagonal_density import (\n",
    "    project_onto_diagonal, \n",
    "    plot_projection_and_analyze, \n",
    "    fit_and_plot_gmm_overlay\n",
    ")\n",
    "\n",
    "from Python_scripts.Feature_functions.compute_gmm_widths import compute_gmm_widths"
   ]
  },
  {
   "cell_type": "code",
   "execution_count": null,
   "id": "11",
   "metadata": {},
   "outputs": [],
   "source": [
    "proj = project_onto_diagonal(id=104, conn=conn)\n",
    "gmm_result = fit_and_plot_gmm_overlay(proj, result=None)  # GMM\n",
    "\n",
    "print(gmm_result)\n"
   ]
  },
  {
   "cell_type": "code",
   "execution_count": null,
   "id": "12",
   "metadata": {},
   "outputs": [],
   "source": [
    "# Run separately\n",
    "saline_widths = compute_gmm_widths(ToyLight_saline_id, conn)\n",
    "ghrelin_widths = compute_gmm_widths(ToyLight_ghrelin_id, conn)\n",
    "\n",
    "# Optional: compare using boxplot\n",
    "import seaborn as sns\n",
    "import pandas as pd\n",
    "import matplotlib.pyplot as plt\n",
    "\n",
    "df = pd.DataFrame({\n",
    "    'width': saline_widths + ghrelin_widths,\n",
    "    'group': ['Saline'] * len(saline_widths) + ['Ghrelin'] * len(ghrelin_widths)\n",
    "})\n",
    "\n",
    "plt.figure(figsize=(5, 4))\n",
    "sns.boxplot(data=df, x='group', y='width')\n",
    "sns.stripplot(data=df, x='group', y='width', color='black', alpha=0.5, jitter=True)\n",
    "plt.ylabel('GMM width')\n",
    "plt.title('Diagonal Separation (GMM width)')\n",
    "plt.grid(True)\n",
    "plt.show()\n"
   ]
  },
  {
   "cell_type": "code",
   "execution_count": null,
   "id": "13",
   "metadata": {},
   "outputs": [],
   "source": [
    "from scipy.stats import ranksums\n",
    "stat, pval = ranksums(saline_widths, ghrelin_widths)\n",
    "print(f\"RS test: p = {pval:.3f}\")\n"
   ]
  },
  {
   "cell_type": "code",
   "execution_count": null,
   "id": "14",
   "metadata": {},
   "outputs": [],
   "source": []
  }
 ],
 "metadata": {
  "kernelspec": {
   "display_name": "Python 3 (ipykernel)",
   "language": "python",
   "name": "python3"
  },
  "language_info": {
   "codemirror_mode": {
    "name": "ipython",
    "version": 3
   },
   "file_extension": ".py",
   "mimetype": "text/x-python",
   "name": "python",
   "nbconvert_exporter": "python",
   "pygments_lexer": "ipython3",
   "version": "3.10.13"
  }
 },
 "nbformat": 4,
 "nbformat_minor": 5
}
