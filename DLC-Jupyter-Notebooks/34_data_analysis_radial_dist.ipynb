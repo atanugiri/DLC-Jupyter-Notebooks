{
 "cells": [
  {
   "cell_type": "markdown",
   "id": "0",
   "metadata": {},
   "source": [
    "## Add project root"
   ]
  },
  {
   "cell_type": "code",
   "execution_count": null,
   "id": "1",
   "metadata": {},
   "outputs": [],
   "source": [
    "import sys\n",
    "from pathlib import Path\n",
    "import importlib\n",
    "\n",
    "# Add the parent of the *outer* DLC-Jupyter-Notebooks folder to sys.path\n",
    "project_root = Path().resolve().parents[0]  # This is /Users/atanugiri/Downloads/DLC-Jupyter-Notebooks\n",
    "print(project_root)\n",
    "sys.path.append(str(project_root))\n"
   ]
  },
  {
   "cell_type": "markdown",
   "id": "2",
   "metadata": {},
   "source": [
    "## Connect to db"
   ]
  },
  {
   "cell_type": "code",
   "execution_count": null,
   "id": "3",
   "metadata": {},
   "outputs": [],
   "source": [
    "import psycopg2\n",
    "import platform\n",
    "\n",
    "host = \"localhost\" if platform.system() == \"Windows\" else \"129.108.49.49\"\n",
    "conn = psycopg2.connect(\n",
    "    dbname=\"deeplabcut_db\", user=\"postgres\", \n",
    "    password=\"1234\", host=host, port=\"5432\")\n",
    "cursor = conn.cursor()\n"
   ]
  },
  {
   "cell_type": "markdown",
   "id": "4",
   "metadata": {},
   "source": [
    "## Fetch id list"
   ]
  },
  {
   "cell_type": "code",
   "execution_count": null,
   "id": "5",
   "metadata": {},
   "outputs": [],
   "source": [
    "import pandas as pd\n",
    "\n",
    "task = 'FoodOnlyWhite'\n",
    "\n",
    "saline_q = f\"\"\"\n",
    "SELECT id FROM dlc_table\n",
    "WHERE genotype='white' AND task='FoodOnly' AND health = 'saline' AND head_x_norm IS NOT NULL\n",
    "ORDER BY id;\n",
    "\"\"\"\n",
    "df = pd.read_sql_query(saline_q, conn)\n",
    "saline_id = df['id'].to_list()\n",
    "# IDs to remove\n",
    "bad_id = [549, 559, 566, 567, 570, 571, 595, 617, 621, 638, 640, 36]\n",
    "# Filter them out\n",
    "saline_id = [i for i in saline_id if i not in bad_id]\n",
    "\n",
    "ghrelin_q = f\"\"\"\n",
    "SELECT id FROM dlc_table\n",
    "WHERE genotype='white' AND task='FoodOnly' AND health = 'ghrelin' AND head_x_norm IS NOT NULL\n",
    "ORDER BY id;\n",
    "\"\"\"\n",
    "df = pd.read_sql_query(ghrelin_q, conn)\n",
    "ghrelin_id = df['id'].to_list()\n",
    "# Filter them out\n",
    "ghrelin_id = [i for i in ghrelin_id if i not in bad_id]\n",
    "\n",
    "Exc_q = f\"\"\"\n",
    "SELECT id FROM dlc_table\n",
    "WHERE genotype='white' AND task='FoodOnlyExcitatory' AND head_x_norm IS NOT NULL\n",
    "ORDER BY id;\n",
    "\"\"\"\n",
    "df = pd.read_sql_query(Exc_q, conn)\n",
    "Exc_id = df['id'].to_list()\n",
    "Exc_id = [i for i in Exc_id if i not in bad_id]\n",
    "\n",
    "Inh_q = f\"\"\"\n",
    "SELECT id FROM dlc_table\n",
    "WHERE genotype='white' AND task='FoodOnlyInhibitory' AND head_x_norm IS NOT NULL\n",
    "ORDER BY id;\n",
    "\"\"\"\n",
    "df = pd.read_sql_query(Inh_q, conn)\n",
    "Inh_id = df['id'].to_list()\n",
    "Inh_id = [i for i in Inh_id if i not in bad_id]\n",
    "\n",
    "print(f\"saline_id: {saline_id}\\n\")\n",
    "print(f\"ghrelin_id: {ghrelin_id}\\n\")\n",
    "print(f\"Exc_id: {Exc_id}\\n\")\n",
    "print(f\"Inh_id: {Inh_id}\\n\")\n"
   ]
  },
  {
   "cell_type": "markdown",
   "id": "6",
   "metadata": {},
   "source": [
    "## Calculate radial distances for each trajectory points"
   ]
  },
  {
   "cell_type": "code",
   "execution_count": null,
   "id": "7",
   "metadata": {},
   "outputs": [],
   "source": [
    "import importlib\n",
    "import Python_scripts.Feature_functions.radial_distances\n",
    "import Python_scripts.Data_analysis.compare_distributions\n",
    "\n",
    "importlib.reload(Python_scripts.Feature_functions.radial_distances)\n",
    "importlib.reload(Python_scripts.Data_analysis.compare_distributions)\n",
    "\n",
    "from Python_scripts.Feature_functions.radial_distances import (\n",
    "    get_radial_distances, get_batch_radial_distances\n",
    ")\n",
    "from Python_scripts.Data_analysis.compare_distributions import compare_distributions\n"
   ]
  },
  {
   "cell_type": "markdown",
   "id": "8",
   "metadata": {},
   "source": [
    "### Batch call with different radius_limit"
   ]
  },
  {
   "cell_type": "code",
   "execution_count": null,
   "id": "9",
   "metadata": {},
   "outputs": [],
   "source": [
    "import numpy as np\n",
    "import os\n",
    "from matplotlib.backends.backend_pdf import PdfPages\n",
    "import matplotlib.pyplot as plt\n",
    "\n",
    "pdf_path = f'{task}_radial_cdf_all_radius.pdf'\n",
    "with PdfPages(pdf_path) as pdf:\n",
    "    for radius in np.arange(0.1, 1.7, 0.2):\n",
    "        print(f\"[INFO] Analyzing radius = {radius:.1f}\")\n",
    "\n",
    "        r_saline = get_batch_radial_distances(saline_id, conn, radius_limit = radius, max_time=None)\n",
    "        r_ghrelin = get_batch_radial_distances(ghrelin_id, conn, radius_limit = radius, max_time=None)\n",
    "        r_exc = get_batch_radial_distances(Exc_id, conn, radius_limit = radius, max_time=None)\n",
    "        r_inh = get_batch_radial_distances(Inh_id, conn, radius_limit = radius, max_time=None)\n",
    "        \n",
    "        if len(r_saline) == 0 or len(r_ghrelin) == 0:\n",
    "            print(f\"[WARNING] Skipping radius = {radius} due to missing data\")\n",
    "            continue\n",
    "\n",
    "        r_saline_all = np.concatenate(r_saline)\n",
    "        r_ghrelin_all = np.concatenate(r_ghrelin)\n",
    "        r_exc_all = np.concatenate(r_exc)\n",
    "        r_inh_all = np.concatenate(r_inh)\n",
    "\n",
    "        fig, ax = compare_distributions(\n",
    "            r_saline_all, r_ghrelin_all, r_exc_all, r_inh_all, \n",
    "            kind='cdf', return_data=False\n",
    "        )\n",
    "        \n",
    "        ax.legend(['Saline', 'Ghrelin', 'Excitatory', 'Inhibitory'])\n",
    "        ax.set_title(f\"{task} | radius = {radius:.1f}\")\n",
    "        pdf.savefig(fig)\n",
    "        plt.close(fig)  # Prevents inline display in notebooks\n",
    "\n",
    "print(f\"[DONE] All plots saved to: {pdf_path}\")\n"
   ]
  },
  {
   "cell_type": "markdown",
   "id": "10",
   "metadata": {},
   "source": [
    "### Batch call with different max_time"
   ]
  },
  {
   "cell_type": "code",
   "execution_count": null,
   "id": "11",
   "metadata": {},
   "outputs": [],
   "source": [
    "import numpy as np\n",
    "import os\n",
    "from matplotlib.backends.backend_pdf import PdfPages\n",
    "import matplotlib.pyplot as plt\n",
    "\n",
    "pdf_path = f'{task}_radial_cdf_all_time.pdf'\n",
    "with PdfPages(pdf_path) as pdf:\n",
    "    for max_time in range(100, 1300, 100):\n",
    "        print(f\"[INFO] Analyzing max_time = {max_time} seconds\")\n",
    "\n",
    "        r_saline = get_batch_radial_distances(saline_id, conn, table='dlc_table', max_time=max_time)\n",
    "        r_ghrelin = get_batch_radial_distances(ghrelin_id, conn, table='dlc_table', max_time=max_time)\n",
    "        r_exc = get_batch_radial_distances(Exc_id, conn, table='dlc_table', max_time=max_time)\n",
    "        r_inh = get_batch_radial_distances(Inh_id, conn, table='dlc_table', max_time=max_time)\n",
    "\n",
    "        if len(r_saline) == 0 or len(r_ghrelin) == 0:\n",
    "            print(f\"[WARNING] Skipping max_time = {max_time} due to missing data\")\n",
    "            continue\n",
    "\n",
    "        r_saline_all = np.concatenate(r_saline)\n",
    "        r_ghrelin_all = np.concatenate(r_ghrelin)\n",
    "        r_exc_all = np.concatenate(r_exc)\n",
    "        r_inh_all = np.concatenate(r_inh)\n",
    "        \n",
    "        fig, ax = compare_distributions(\n",
    "            r_saline_all, r_ghrelin_all, r_exc_all, r_inh_all, \n",
    "            kind='cdf', return_data=False\n",
    "        )\n",
    "        \n",
    "        ax.legend(['Saline', 'Ghrelin', 'Excitatory', 'Inhibitory'])\n",
    "        ax.set_title(f\"{task} | max_time = {max_time}s\")\n",
    "        pdf.savefig(fig)\n",
    "        plt.close(fig)  # Prevents inline display in notebooks\n",
    "\n",
    "print(f\"[DONE] All plots saved to: {pdf_path}\")\n"
   ]
  },
  {
   "cell_type": "markdown",
   "id": "12",
   "metadata": {},
   "source": [
    "### Best parameter call"
   ]
  },
  {
   "cell_type": "code",
   "execution_count": null,
   "id": "13",
   "metadata": {},
   "outputs": [],
   "source": [
    "import numpy as np\n",
    "\n",
    "r_saline = get_batch_radial_distances(saline_id, conn, table='dlc_table', center=None, max_time=None, radius_limit=0.7)\n",
    "r_ghrelin = get_batch_radial_distances(ghrelin_id, conn, table='dlc_table', center=None, max_time=None, radius_limit=0.7)\n",
    "r_exc = get_batch_radial_distances(Exc_id, conn, table='dlc_table', center=None, max_time=None, radius_limit=0.7)\n",
    "r_inh = get_batch_radial_distances(Inh_id, conn, table='dlc_table', center=None, max_time=None, radius_limit=0.7)\n",
    "\n",
    "# Flatten\n",
    "r_saline_all = np.concatenate(r_saline)\n",
    "r_ghrelin_all = np.concatenate(r_ghrelin)\n",
    "r_exc_all = np.concatenate(r_exc)\n",
    "r_inh_all = np.concatenate(r_inh)\n",
    "\n",
    "# CDF + KS + AUC differences\n",
    "fig, ax, result = compare_distributions(\n",
    "    r_ghrelin_all, r_exc_all, r_inh_all,\n",
    "    kind='cdf', return_data=True\n",
    ")\n",
    "\n",
    "ax.legend(['Ghrelin', 'Excitatory', 'Inhibitory'])\n",
    "ax.set_title(f\"Radial Distribution: {task}\")\n",
    "\n",
    "# fig.savefig(f\"{task}_radial_pdf_comparison.pdf\", dpi=300, bbox_inches='tight')\n"
   ]
  },
  {
   "cell_type": "markdown",
   "id": "14",
   "metadata": {},
   "source": [
    "### Save outputs"
   ]
  },
  {
   "cell_type": "code",
   "execution_count": null,
   "id": "15",
   "metadata": {},
   "outputs": [],
   "source": [
    "import numpy as np\n",
    "import pandas as pd\n",
    "\n",
    "heights, bin_edges = np.histogram(r_saline_all, bins=100, density=True)\n",
    "bin_centers = bin_edges[:-1] + np.diff(bin_edges)/2\n",
    "\n",
    "df = pd.DataFrame({'bin_center': bin_centers, 'height': heights})\n",
    "df.to_csv(f'{task}_radial_histogram_saline.csv', index=False)\n",
    "\n",
    "heights, bin_edges = np.histogram(r_ghrelin_all, bins=100, density=True)\n",
    "bin_centers = bin_edges[:-1] + np.diff(bin_edges)/2\n",
    "\n",
    "df = pd.DataFrame({'bin_center': bin_centers, 'height': heights})\n",
    "df.to_csv(f'{task}_radial_histogram_ghrelin.csv', index=False)\n"
   ]
  },
  {
   "cell_type": "markdown",
   "id": "16",
   "metadata": {},
   "source": [
    "### Batch call with different radius and time limit"
   ]
  },
  {
   "cell_type": "code",
   "execution_count": null,
   "id": "17",
   "metadata": {
    "jupyter": {
     "outputs_hidden": true
    }
   },
   "outputs": [],
   "source": [
    "import numpy as np\n",
    "import os\n",
    "from matplotlib.backends.backend_pdf import PdfPages\n",
    "import matplotlib.pyplot as plt\n",
    "\n",
    "pdf_path = f'{task}_radial_cdf_radius_time_grid.pdf'\n",
    "with PdfPages(pdf_path) as pdf:\n",
    "    for max_time in range(100, 1300, 300):\n",
    "        for radius in np.arange(0.1, 1.7, 0.3):\n",
    "            print(f\"[INFO] Analyzing radius = {radius:.1f}, max_time = {max_time}\")\n",
    "\n",
    "            r_saline = get_batch_radial_distances(saline_id, conn, radius_limit=radius, max_time=max_time)\n",
    "            r_ghrelin = get_batch_radial_distances(ghrelin_id, conn, radius_limit=radius, max_time=max_time)\n",
    "\n",
    "            if len(r_saline) == 0 or len(r_ghrelin) == 0:\n",
    "                print(f\"[WARNING] Skipping radius = {radius:.1f}, max_time = {max_time} due to missing data\")\n",
    "                continue\n",
    "\n",
    "            r_saline_all = np.concatenate(r_saline)\n",
    "            r_ghrelin_all = np.concatenate(r_ghrelin)\n",
    "\n",
    "            fig, ax = compare_distributions(\n",
    "                r_saline_all, r_ghrelin_all,\n",
    "                kind='cdf', return_data=False\n",
    "            )\n",
    "            \n",
    "            ax.legend(['Saline', 'Ghrelin', 'Excitatory', 'Inhibitory'])\n",
    "            ax.set_title(f\"{task} | radius = {radius:.1f}, max_time = {max_time}\")\n",
    "            pdf.savefig(fig)\n",
    "            plt.close(fig)\n",
    "\n",
    "print(f\"[DONE] All plots saved to: {pdf_path}\")\n"
   ]
  },
  {
   "cell_type": "code",
   "execution_count": null,
   "id": "18",
   "metadata": {},
   "outputs": [],
   "source": [
    "import importlib\n",
    "import Python_scripts.Feature_functions.plot_radial_density_per_trial\n",
    "importlib.reload(Python_scripts.Feature_functions.plot_radial_density_per_trial)\n",
    "from Python_scripts.Feature_functions.plot_radial_density_per_trial import plot_radial_density_per_trial"
   ]
  },
  {
   "cell_type": "code",
   "execution_count": null,
   "id": "19",
   "metadata": {
    "jupyter": {
     "outputs_hidden": true
    }
   },
   "outputs": [],
   "source": [
    "plot_radial_density_per_trial(ghrelin_id, conn)"
   ]
  },
  {
   "cell_type": "code",
   "execution_count": null,
   "id": "20",
   "metadata": {},
   "outputs": [],
   "source": [
    "import pandas as pd\n",
    "\n",
    "q = \"SELECT id, video_name, genotype, task, health, name, date, maze_number, num_frames, frame_rate, video_width, video_height FROM dlc_table ORDER BY id\"\n",
    "# q = \"SELECT * FROM dlc_table ORDER BY id LIMIT 1\"\n",
    "\n",
    "df = pd.read_sql_query(q, conn)\n",
    "# print(df.columns)\n",
    "df.to_csv('dlc_table_dump.csv', index=False)\n"
   ]
  }
 ],
 "metadata": {
  "kernelspec": {
   "display_name": "Python 3 (ipykernel)",
   "language": "python",
   "name": "python3"
  },
  "language_info": {
   "codemirror_mode": {
    "name": "ipython",
    "version": 3
   },
   "file_extension": ".py",
   "mimetype": "text/x-python",
   "name": "python",
   "nbconvert_exporter": "python",
   "pygments_lexer": "ipython3",
   "version": "3.10.13"
  }
 },
 "nbformat": 4,
 "nbformat_minor": 5
}
