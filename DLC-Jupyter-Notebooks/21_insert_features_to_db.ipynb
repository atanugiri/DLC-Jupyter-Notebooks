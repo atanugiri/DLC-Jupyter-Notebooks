{
 "cells": [
  {
   "cell_type": "markdown",
   "id": "0",
   "metadata": {},
   "source": [
    "## Connect to database"
   ]
  },
  {
   "cell_type": "code",
   "execution_count": null,
   "id": "1",
   "metadata": {
    "editable": true,
    "slideshow": {
     "slide_type": ""
    },
    "tags": []
   },
   "outputs": [],
   "source": [
    "import os\n",
    "import psycopg2\n",
    "import pandas as pd\n",
    "import platform\n",
    "\n",
    "host = \"localhost\" if platform.system() == \"Windows\" else \"129.108.49.30\"\n",
    "\n",
    "conn = psycopg2.connect(dbname=\"deeplabcut_db\", user=\"postgres\", password=\"1234\", host=host, port=\"5432\")\n",
    "\n",
    "cursor = conn.cursor()\n"
   ]
  },
  {
   "cell_type": "markdown",
   "id": "2",
   "metadata": {},
   "source": [
    "## Code to Add All Subdirs of \"Python_scripts\" to sys.path"
   ]
  },
  {
   "cell_type": "code",
   "execution_count": null,
   "id": "3",
   "metadata": {},
   "outputs": [],
   "source": [
    "import sys\n",
    "from pathlib import Path\n",
    "\n",
    "# Get root directory where Jupyter Lab starts\n",
    "root_dir = Path().resolve()\n",
    "scripts_dir = root_dir / \"Python_scripts\"\n",
    "\n",
    "# Add all subdirectories of Python_scripts to sys.path\n",
    "for subdir in scripts_dir.rglob(\"*\"):\n",
    "    if subdir.is_dir():\n",
    "        sys.path.append(str(subdir))\n"
   ]
  },
  {
   "cell_type": "markdown",
   "id": "4",
   "metadata": {},
   "source": [
    "## Insert video file names"
   ]
  },
  {
   "cell_type": "code",
   "execution_count": null,
   "id": "5",
   "metadata": {},
   "outputs": [],
   "source": [
    "from pathlib import Path\n",
    "\n",
    "# Define base folder\n",
    "base_folder = Path(\"data/FoodLight/SplitVideos\")\n",
    "\n",
    "# Collect all .mp4 and .avi filenames (non-recursive or recursive)\n",
    "video_files = list(base_folder.rglob(\"*.mp4\")) + list(base_folder.rglob(\"*.avi\"))\n",
    "\n",
    "# Convert to relative path strings\n",
    "video_records = [(str(vf.relative_to(base_folder.parent)),) for vf in video_files]\n",
    "\n",
    "# Insert into dlc_table\n",
    "insert_query = \"INSERT INTO dlc_table (video_name) VALUES (%s);\"\n",
    "\n",
    "# Avoid Duplicate Inserts\n",
    "cursor.execute(\"SELECT video_name FROM dlc_table;\")\n",
    "existing = set(row[0] for row in cursor.fetchall())\n",
    "\n",
    "# Filter only new videos\n",
    "new_records = [vr for vr in video_records if vr[0] not in existing]\n",
    "\n",
    "cursor.executemany(insert_query, new_records)\n",
    "conn.commit()\n"
   ]
  },
  {
   "cell_type": "markdown",
   "id": "6",
   "metadata": {},
   "source": [
    "## Insert task, date_str, name, health, id_ in dlc_table"
   ]
  },
  {
   "cell_type": "code",
   "execution_count": null,
   "id": "7",
   "metadata": {},
   "outputs": [],
   "source": [
    "from parse_video_name import parse_video_name\n",
    "\n",
    "cursor.execute(\"SELECT id, video_name FROM dlc_table WHERE video_name IS NOT NULL;\")\n",
    "rows = cursor.fetchall()\n",
    "\n",
    "updates = []\n",
    "\n",
    "for row in rows:\n",
    "    id_, video_name = row\n",
    "    task, date_str, name, health = parse_video_name(video_name)\n",
    "    updates.append((task, date_str, name, health, id_))\n",
    "\n",
    "# Update in batch\n",
    "cursor.executemany(\"\"\"\n",
    "UPDATE dlc_table\n",
    "SET task = %s, date = %s, name = %s, health = %s\n",
    "WHERE id = %s;\n",
    "\"\"\", updates)\n",
    "\n",
    "conn.commit()\n"
   ]
  },
  {
   "cell_type": "markdown",
   "id": "8",
   "metadata": {},
   "source": [
    "### Completely Clear Table First (CAREFUL)"
   ]
  },
  {
   "cell_type": "code",
   "execution_count": null,
   "id": "9",
   "metadata": {},
   "outputs": [],
   "source": [
    "cursor.execute(\"DELETE FROM dlc_files\")\n",
    "conn.commit()\n",
    "print(\"🗑️ All entries deleted from dlc_files.\")\n",
    "# conn.rollback()"
   ]
  },
  {
   "cell_type": "markdown",
   "id": "10",
   "metadata": {},
   "source": [
    "## Insert csv files into columns"
   ]
  },
  {
   "cell_type": "code",
   "execution_count": null,
   "id": "11",
   "metadata": {
    "editable": true,
    "jupyter": {
     "outputs_hidden": true
    },
    "slideshow": {
     "slide_type": ""
    },
    "tags": []
   },
   "outputs": [],
   "source": [
    "# Folder with new CSVs\n",
    "csv_dir = r\"C:\\DeepLabCutProjects\\DLC-Atanu-2024-12-25\\Analyzed-videos-filtered\"\n",
    "csv_files = [f for f in os.listdir(csv_dir) if f.endswith('.csv')]\n",
    "\n",
    "# Insert each CSV path\n",
    "for csv_file in csv_files:\n",
    "    coord_path = os.path.join(csv_dir, csv_file)\n",
    "\n",
    "    # Optional: check if already in DB to avoid duplicates\n",
    "    cursor.execute(\"SELECT 1 FROM dlc_files WHERE coord_path = %s\", (coord_path,))\n",
    "    exists = cursor.fetchone()\n",
    "    if exists:\n",
    "        print(f\"⚠️ Already in DB: {csv_file}\")\n",
    "        continue\n",
    "\n",
    "    cursor.execute(\"INSERT INTO dlc_files (coord_path) VALUES (%s)\", (coord_path,))\n",
    "    print(f\"✅ Inserted: {csv_file}\")\n",
    "\n",
    "conn.commit()\n",
    "# cursor.close()\n",
    "print(\"🎉 All new coord_paths uploaded with video_path = NULL.\")\n"
   ]
  },
  {
   "cell_type": "markdown",
   "id": "12",
   "metadata": {},
   "source": [
    "## Show first few columns of the dlc_files table"
   ]
  },
  {
   "cell_type": "code",
   "execution_count": null,
   "id": "13",
   "metadata": {},
   "outputs": [],
   "source": [
    "# Read data into DataFrame\n",
    "df = pd.read_sql_query(\"SELECT * FROM dlc_files LIMIT 5\", conn)\n",
    "\n",
    "# Optional: show full column content\n",
    "pd.set_option('display.max_colwidth', None)\n",
    "\n",
    "# Show first 5 entries\n",
    "print(df)\n",
    "\n",
    "conn.close()\n"
   ]
  },
  {
   "cell_type": "markdown",
   "id": "14",
   "metadata": {},
   "source": [
    "## Add path name"
   ]
  },
  {
   "cell_type": "code",
   "execution_count": null,
   "id": "15",
   "metadata": {},
   "outputs": [],
   "source": [
    "import importlib\n",
    "import sys\n",
    "sys.path.append('../Python_scripts')\n",
    "\n",
    "import update_dlc_table\n",
    "importlib.reload(update_dlc_table)"
   ]
  },
  {
   "cell_type": "markdown",
   "id": "16",
   "metadata": {},
   "source": [
    "## Insert animal names"
   ]
  },
  {
   "cell_type": "code",
   "execution_count": null,
   "id": "17",
   "metadata": {
    "jupyter": {
     "outputs_hidden": true
    }
   },
   "outputs": [],
   "source": [
    "update_dlc_table.update_column(\"name\")"
   ]
  },
  {
   "cell_type": "markdown",
   "id": "18",
   "metadata": {},
   "source": [
    "## Fix bad entries"
   ]
  },
  {
   "cell_type": "code",
   "execution_count": null,
   "id": "19",
   "metadata": {},
   "outputs": [],
   "source": [
    "import psycopg2\n",
    "\n",
    "fixes = {\n",
    "    'Eli.': 'Eli',\n",
    "    'Orelans': 'NewOrleans',\n",
    "    'London.': 'London'\n",
    "}\n",
    "\n",
    "conn = psycopg2.connect(\n",
    "    dbname=\"deeplabcut_db\",\n",
    "    user=\"postgres\",\n",
    "    password=\"1234\",\n",
    "    host=\"localhost\",\n",
    "    port=\"5432\"\n",
    ")\n",
    "\n",
    "cursor = conn.cursor()\n",
    "\n",
    "for old_name, corrected_name in fixes.items():\n",
    "    cursor.execute(\n",
    "        \"UPDATE dlc_files SET name = %s WHERE name = %s\",\n",
    "        (corrected_name, old_name)\n",
    "    )\n",
    "    print(f\"✔ Updated '{old_name}' → '{corrected_name}'\")\n",
    "\n",
    "conn.commit()\n",
    "cursor.close()\n",
    "conn.close()\n",
    "print(\"🎉 Name cleanup done.\")"
   ]
  },
  {
   "cell_type": "markdown",
   "id": "20",
   "metadata": {},
   "source": [
    "## Insert maze number"
   ]
  },
  {
   "cell_type": "code",
   "execution_count": null,
   "id": "21",
   "metadata": {
    "jupyter": {
     "outputs_hidden": true
    }
   },
   "outputs": [],
   "source": [
    "update_dlc_table.update_column(\"maze\")"
   ]
  },
  {
   "cell_type": "markdown",
   "id": "22",
   "metadata": {},
   "source": [
    "## Insert task name"
   ]
  },
  {
   "cell_type": "code",
   "execution_count": null,
   "id": "23",
   "metadata": {
    "jupyter": {
     "outputs_hidden": true
    }
   },
   "outputs": [],
   "source": [
    "update_dlc_table.update_column(\"task\")"
   ]
  },
  {
   "cell_type": "markdown",
   "id": "24",
   "metadata": {},
   "source": [
    "## Insert health name"
   ]
  },
  {
   "cell_type": "code",
   "execution_count": null,
   "id": "25",
   "metadata": {
    "jupyter": {
     "outputs_hidden": true
    }
   },
   "outputs": [],
   "source": [
    "update_dlc_table.update_column(\"health\")"
   ]
  },
  {
   "cell_type": "code",
   "execution_count": null,
   "id": "26",
   "metadata": {},
   "outputs": [],
   "source": [
    "update_dlc_table.update_column(\"stop_count\")"
   ]
  },
  {
   "cell_type": "code",
   "execution_count": null,
   "id": "27",
   "metadata": {},
   "outputs": [],
   "source": []
  }
 ],
 "metadata": {
  "kernelspec": {
   "display_name": "Python 3 (ipykernel)",
   "language": "python",
   "name": "python3"
  },
  "language_info": {
   "codemirror_mode": {
    "name": "ipython",
    "version": 3
   },
   "file_extension": ".py",
   "mimetype": "text/x-python",
   "name": "python",
   "nbconvert_exporter": "python",
   "pygments_lexer": "ipython3",
   "version": "3.10.13"
  }
 },
 "nbformat": 4,
 "nbformat_minor": 5
}
