{
 "cells": [
  {
   "cell_type": "markdown",
   "id": "0",
   "metadata": {},
   "source": [
    "## Copy all files to a folder which needs to be analyzed with DeepLabCut"
   ]
  },
  {
   "cell_type": "code",
   "execution_count": null,
   "id": "1",
   "metadata": {
    "jupyter": {
     "outputs_hidden": true
    }
   },
   "outputs": [],
   "source": [
    "import os\n",
    "import shutil\n",
    "import re\n",
    "\n",
    "# Define source and destination directories\n",
    "source_dir = r'C:\\DeepLabCutProjects\\DLC-Atanu-2024-12-25\\Ghrelin\\2024'\n",
    "destination_dir = r'C:\\DeepLabCutProjects\\DLC-Atanu-2024-12-25\\Videos-to-analyze-temp'\n",
    "\n",
    "# Ensure destination directory exists\n",
    "os.makedirs(destination_dir, exist_ok=True)\n",
    "\n",
    "# Updated regex pattern for all quadrants\n",
    "video_pattern = re.compile(r'.*_Trial_\\d+_(bottom_left|bottom_right|top_left|top_right)\\.mp4$')\n",
    "\n",
    "# Walk through directories recursively\n",
    "for root, _, files in os.walk(source_dir):\n",
    "    for file in files:\n",
    "        if video_pattern.match(file):  # Match filenames\n",
    "            src_path = os.path.join(root, file)\n",
    "            dst_path = os.path.join(destination_dir, file)\n",
    "\n",
    "            # Ensure the source file exists before copying\n",
    "            if os.path.exists(src_path):\n",
    "                try:\n",
    "                    shutil.copy2(src_path, dst_path)\n",
    "                    print(f'Copied: {src_path} → {dst_path}')\n",
    "                except Exception as e:\n",
    "                    print(f'Error copying {src_path}: {e}')\n",
    "            else:\n",
    "                print(f'File not found (skipped): {src_path}')\n",
    "\n",
    "print(\"All matching videos have been copied successfully!\")"
   ]
  },
  {
   "cell_type": "markdown",
   "id": "2",
   "metadata": {},
   "source": [
    "## Only copy selected files to a folder which needs to be analyzed with DeepLabCut"
   ]
  },
  {
   "cell_type": "code",
   "execution_count": null,
   "id": "3",
   "metadata": {},
   "outputs": [],
   "source": [
    "import os\n",
    "import shutil\n",
    "import re\n",
    "from tkinter import Tk, filedialog\n",
    "\n",
    "# Regex pattern to match only quadrant-labeled video files\n",
    "video_pattern = re.compile(r'.*_Trial_\\d+_(bottom_left|bottom_right|top_left|top_right)\\.mp4$')\n",
    "\n",
    "# Destination directory\n",
    "destination_dir = r'C:\\DeepLabCutProjects\\DLC-Atanu-2024-12-25\\Videos-to-analyze-temp'\n",
    "os.makedirs(destination_dir, exist_ok=True)\n",
    "\n",
    "# GUI to select base folders (from which to recursively search)\n",
    "print(\"Select base folder(s). The script will search subfolders recursively.\")\n",
    "root = Tk()\n",
    "root.withdraw()\n",
    "\n",
    "selected_folders = []\n",
    "while True:\n",
    "    folder_path = filedialog.askdirectory(title=\"Select a Base Folder (Cancel to Stop)\")\n",
    "    if folder_path:\n",
    "        selected_folders.append(folder_path)\n",
    "    else:\n",
    "        break\n",
    "\n",
    "if not selected_folders:\n",
    "    print(\"No folders selected. Exiting.\")\n",
    "    exit()\n",
    "\n",
    "# Walk through subfolders of each selected base folder\n",
    "for base_folder in selected_folders:\n",
    "    print(f\"\\n🔍 Searching inside: {base_folder}\")\n",
    "    for root_dir, _, files in os.walk(base_folder):\n",
    "        for file in files:\n",
    "            if video_pattern.match(file):\n",
    "                src_path = os.path.join(root_dir, file)\n",
    "                dst_path = os.path.join(destination_dir, file)\n",
    "\n",
    "                try:\n",
    "                    shutil.copy2(src_path, dst_path)\n",
    "                    print(f'✅ Copied: {src_path} → {dst_path}')\n",
    "                except Exception as e:\n",
    "                    print(f'❌ Error copying {src_path}: {e}')\n",
    "\n",
    "print(\"\\n🎉 All matching videos have been copied successfully!\")\n"
   ]
  },
  {
   "cell_type": "code",
   "execution_count": null,
   "id": "4",
   "metadata": {},
   "outputs": [],
   "source": []
  }
 ],
 "metadata": {
  "kernelspec": {
   "display_name": "Python [conda env:.conda-DLC] *",
   "language": "python",
   "name": "conda-env-.conda-DLC-py"
  },
  "language_info": {
   "codemirror_mode": {
    "name": "ipython",
    "version": 3
   },
   "file_extension": ".py",
   "mimetype": "text/x-python",
   "name": "python",
   "nbconvert_exporter": "python",
   "pygments_lexer": "ipython3",
   "version": "3.8.20"
  }
 },
 "nbformat": 4,
 "nbformat_minor": 5
}
