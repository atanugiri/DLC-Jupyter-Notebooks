{
 "cells": [
  {
   "cell_type": "markdown",
   "id": "0",
   "metadata": {},
   "source": [
    "## Add project root"
   ]
  },
  {
   "cell_type": "code",
   "execution_count": null,
   "id": "1",
   "metadata": {},
   "outputs": [],
   "source": [
    "import sys\n",
    "from pathlib import Path\n",
    "import importlib\n",
    "\n",
    "# Add the parent of the *outer* DLC-Jupyter-Notebooks folder to sys.path\n",
    "project_root = Path().resolve().parents[0]  # This is /Users/atanugiri/Downloads/GhrelinBehaviorQuantification\n",
    "sys.path.append(str(project_root))\n"
   ]
  },
  {
   "cell_type": "markdown",
   "id": "2",
   "metadata": {},
   "source": [
    "## Connect to db"
   ]
  },
  {
   "cell_type": "code",
   "execution_count": null,
   "id": "3",
   "metadata": {},
   "outputs": [],
   "source": [
    "import psycopg2\n",
    "import platform\n",
    "\n",
    "host = \"localhost\" if platform.system() == \"Windows\" else \"129.108.49.49\"\n",
    "conn = psycopg2.connect(\n",
    "    dbname=\"deeplabcut_db\", user=\"postgres\", \n",
    "    password=\"1234\", host=host, port=\"5432\")\n",
    "cursor = conn.cursor()\n"
   ]
  },
  {
   "cell_type": "markdown",
   "id": "4",
   "metadata": {},
   "source": [
    "## Fetch id list"
   ]
  },
  {
   "cell_type": "code",
   "execution_count": null,
   "id": "5",
   "metadata": {},
   "outputs": [],
   "source": [
    "import pandas as pd\n",
    "\n",
    "task = 'FoodLightWhite'\n",
    "\n",
    "saline_q = f\"\"\"\n",
    "SELECT id FROM dlc_table\n",
    "WHERE genotype='white' AND task='FoodLight' AND health = 'saline' AND head_x_norm IS NOT NULL\n",
    "ORDER BY id;\n",
    "\"\"\"\n",
    "df = pd.read_sql_query(saline_q, conn)\n",
    "saline_id = df['id'].to_list()\n",
    "# IDs to remove\n",
    "bad_id = [549, 559, 566, 567, 570, 571, 595, 617, 621, 638, 640, 36]\n",
    "# Filter them out\n",
    "saline_id = [i for i in saline_id if i not in bad_id]\n",
    "\n",
    "ghrelin_q = f\"\"\"\n",
    "SELECT id FROM dlc_table\n",
    "WHERE genotype='white' AND task='FoodLight' AND health = 'ghrelin' AND head_x_norm IS NOT NULL\n",
    "ORDER BY id;\n",
    "\"\"\"\n",
    "df = pd.read_sql_query(ghrelin_q, conn)\n",
    "ghrelin_id = df['id'].to_list()\n",
    "# Filter them out\n",
    "ghrelin_id = [i for i in ghrelin_id if i not in bad_id]\n",
    "\n",
    "Exc_q = f\"\"\"\n",
    "SELECT id FROM dlc_table\n",
    "WHERE genotype='white' AND task='FoodLightExcitatory' AND head_x_norm IS NOT NULL\n",
    "ORDER BY id;\n",
    "\"\"\"\n",
    "df = pd.read_sql_query(Exc_q, conn)\n",
    "Exc_id = df['id'].to_list()\n",
    "Exc_id = [i for i in Exc_id if i not in bad_id]\n",
    "\n",
    "Inh_q = f\"\"\"\n",
    "SELECT id FROM dlc_table\n",
    "WHERE genotype='white' AND task='FoodLightInhibitory' AND head_x_norm IS NOT NULL\n",
    "ORDER BY id;\n",
    "\"\"\"\n",
    "df = pd.read_sql_query(Inh_q, conn)\n",
    "Inh_id = df['id'].to_list()\n",
    "Inh_id = [i for i in Inh_id if i not in bad_id]\n",
    "\n",
    "print(f\"saline_id: {saline_id}\\n\")\n",
    "print(f\"ghrelin_id: {ghrelin_id}\\n\")\n",
    "print(f\"Exc_id: {Exc_id}\\n\")\n",
    "print(f\"Inh_id: {Inh_id}\\n\")\n"
   ]
  },
  {
   "cell_type": "markdown",
   "id": "6",
   "metadata": {},
   "source": [
    "## Calculate entropy"
   ]
  },
  {
   "cell_type": "code",
   "execution_count": null,
   "id": "7",
   "metadata": {},
   "outputs": [],
   "source": [
    "import importlib\n",
    "import Python_scripts.Feature_functions.spatial_entropy\n",
    "import Python_scripts.Data_analysis.plot_groupwise_bar\n",
    "\n",
    "importlib.reload(Python_scripts.Feature_functions.spatial_entropy)\n",
    "importlib.reload(Python_scripts.Data_analysis.plot_groupwise_bar)\n",
    "\n",
    "from Python_scripts.Feature_functions.spatial_entropy import (\n",
    "    get_spatial_entropy, get_batch_spatial_entropy_df\n",
    ")\n",
    "from Python_scripts.Data_analysis.plot_groupwise_bar import plot_groupwise_bar\n"
   ]
  },
  {
   "cell_type": "code",
   "execution_count": null,
   "id": "8",
   "metadata": {
    "jupyter": {
     "outputs_hidden": true
    }
   },
   "outputs": [],
   "source": [
    "r_saline = get_batch_spatial_entropy_df(saline_id, conn, radius_limit=0.7, max_time=300)\n",
    "r_ghrelin = get_batch_spatial_entropy_df(ghrelin_id, conn, radius_limit=0.7, max_time=300)\n",
    "\n",
    "# Add group labels\n",
    "r_saline['group'] = 'Saline'\n",
    "r_ghrelin['group'] = 'Ghrelin'\n",
    "\n",
    "# Combine into one DataFrame\n",
    "df_all = pd.concat([r_saline, r_ghrelin], ignore_index=True)\n",
    "\n",
    "# Plot\n",
    "plot_groupwise_bar(df_all, y='spatial_entropy', title='Spatial Entropy (r ≤ 0.7)', ylabel='Spatial Entropy')\n"
   ]
  },
  {
   "cell_type": "markdown",
   "id": "9",
   "metadata": {},
   "source": [
    "### Batch call with different max_time"
   ]
  },
  {
   "cell_type": "code",
   "execution_count": null,
   "id": "10",
   "metadata": {},
   "outputs": [],
   "source": [
    "import numpy as np\n",
    "import os\n",
    "from matplotlib.backends.backend_pdf import PdfPages\n",
    "import matplotlib.pyplot as plt\n",
    "\n",
    "pdf_path = f'{task}_entropy_all_time.pdf'\n",
    "with PdfPages(pdf_path) as pdf:\n",
    "    for max_time in range(100, 1300, 100):\n",
    "        print(f\"[INFO] Analyzing max_time = {max_time} seconds\")\n",
    "\n",
    "        r_saline = get_batch_spatial_entropy_df(saline_id, conn, max_time=max_time)\n",
    "        r_ghrelin = get_batch_spatial_entropy_df(ghrelin_id, conn, max_time=max_time)\n",
    "        r_exc = get_batch_spatial_entropy_df(Exc_id, conn, max_time=max_time)\n",
    "        r_inh = get_batch_spatial_entropy_df(Inh_id, conn, max_time=max_time)\n",
    "\n",
    "\n",
    "        # Add group labels\n",
    "        r_saline['group'] = 'Saline'\n",
    "        r_ghrelin['group'] = 'Ghrelin'\n",
    "        r_exc['group'] = 'Excitatory'\n",
    "        r_inh['group'] = 'Inhibitory'\n",
    "        \n",
    "        # Combine into one DataFrame\n",
    "        df_all = pd.concat([r_saline, r_ghrelin, r_exc, r_inh], ignore_index=True)\n",
    "\n",
    "        # Plot\n",
    "        fig, ax = plot_groupwise_bar(df_all, y='spatial_entropy', ylabel='Spatial Entropy')\n",
    "\n",
    "        ax.set_title(f\"{task} | max_time = {max_time}s\")\n",
    "        pdf.savefig(fig)\n",
    "        plt.close(fig)  # Prevents inline display in notebooks\n",
    "\n",
    "print(f\"[DONE] All plots saved to: {pdf_path}\")\n"
   ]
  },
  {
   "cell_type": "markdown",
   "id": "11",
   "metadata": {},
   "source": [
    "### Batch call with different radius_limit"
   ]
  },
  {
   "cell_type": "code",
   "execution_count": null,
   "id": "12",
   "metadata": {},
   "outputs": [],
   "source": [
    "import numpy as np\n",
    "import os\n",
    "from matplotlib.backends.backend_pdf import PdfPages\n",
    "import matplotlib.pyplot as plt\n",
    "\n",
    "pdf_path = f'{task}_entropy_all_radius.pdf'\n",
    "with PdfPages(pdf_path) as pdf:\n",
    "    for radius in np.arange(0.1, 1.7, 0.2):\n",
    "        print(f\"[INFO] Analyzing radius = {radius:.1f}\")\n",
    "\n",
    "        r_saline = get_batch_spatial_entropy_df(saline_id, conn, radius_limit = radius, max_time=None)\n",
    "        r_ghrelin = get_batch_spatial_entropy_df(ghrelin_id, conn, radius_limit = radius, max_time=None)\n",
    "\n",
    "        # Add group labels\n",
    "        r_saline['group'] = 'Saline'\n",
    "        r_ghrelin['group'] = 'Ghrelin'\n",
    "        \n",
    "        # Combine into one DataFrame\n",
    "        df_all = pd.concat([r_saline, r_ghrelin], ignore_index=True)\n",
    "\n",
    "        # Plot\n",
    "        fig, ax = plot_groupwise_bar(df_all, y='spatial_entropy', ylabel='Spatial Entropy')\n",
    "\n",
    "        ax.set_title(f\"{task} | radius = {radius:.1f}\")\n",
    "        pdf.savefig(fig)\n",
    "        plt.close(fig)  # Prevents inline display in notebooks\n",
    "\n",
    "print(f\"[DONE] All plots saved to: {pdf_path}\")\n"
   ]
  },
  {
   "cell_type": "markdown",
   "id": "13",
   "metadata": {},
   "source": [
    "### Batch call with different radius and time limit"
   ]
  },
  {
   "cell_type": "code",
   "execution_count": null,
   "id": "14",
   "metadata": {
    "jupyter": {
     "outputs_hidden": true,
     "source_hidden": true
    }
   },
   "outputs": [],
   "source": [
    "import numpy as np\n",
    "import os\n",
    "from matplotlib.backends.backend_pdf import PdfPages\n",
    "import matplotlib.pyplot as plt\n",
    "\n",
    "pdf_path = f'{task}_radial_cdf_radius_time_grid.pdf'\n",
    "with PdfPages(pdf_path) as pdf:\n",
    "    for max_time in range(100, 1300, 300):\n",
    "        for radius in np.arange(0.1, 1.7, 0.3):\n",
    "            print(f\"[INFO] Analyzing radius = {radius:.1f}, max_time = {max_time}\")\n",
    "\n",
    "            r_saline = get_batch_radial_distances(saline_id, conn, radius_limit=radius, max_time=max_time)\n",
    "            r_ghrelin = get_batch_radial_distances(ghrelin_id, conn, radius_limit=radius, max_time=max_time)\n",
    "\n",
    "            if len(r_saline) == 0 or len(r_ghrelin) == 0:\n",
    "                print(f\"[WARNING] Skipping radius = {radius:.1f}, max_time = {max_time} due to missing data\")\n",
    "                continue\n",
    "\n",
    "            r_saline_all = np.concatenate(r_saline)\n",
    "            r_ghrelin_all = np.concatenate(r_ghrelin)\n",
    "\n",
    "            fig, ax = compare_radial_distributions(\n",
    "                r_saline_all, r_ghrelin_all,\n",
    "                kind='cdf', return_data=False\n",
    "            )\n",
    "\n",
    "            ax.set_title(f\"{task} | radius = {radius:.1f}, max_time = {max_time}\")\n",
    "            pdf.savefig(fig)\n",
    "            plt.close(fig)\n",
    "\n",
    "print(f\"[DONE] All plots saved to: {pdf_path}\")\n"
   ]
  },
  {
   "cell_type": "markdown",
   "id": "15",
   "metadata": {},
   "source": [
    "### Sweep grid_size with Fixed radius=0.7 and max_time=500"
   ]
  },
  {
   "cell_type": "code",
   "execution_count": null,
   "id": "16",
   "metadata": {
    "jupyter": {
     "outputs_hidden": true,
     "source_hidden": true
    }
   },
   "outputs": [],
   "source": [
    "import numpy as np\n",
    "import os\n",
    "from matplotlib.backends.backend_pdf import PdfPages\n",
    "import matplotlib.pyplot as plt\n",
    "\n",
    "# Output PDF name\n",
    "pdf_path = f'{task}_entropy_grid_test.pdf'\n",
    "\n",
    "# Fixed parameters\n",
    "radius = 0.7\n",
    "max_time = 500\n",
    "\n",
    "with PdfPages(pdf_path) as pdf:\n",
    "    for grid_size in range(5, 30, 5):  # Try 5x5 to 25x25\n",
    "        print(f\"[INFO] Analyzing grid_size = {grid_size}x{grid_size}\")\n",
    "\n",
    "        r_saline = get_batch_spatial_entropy_df(\n",
    "            saline_id, conn,\n",
    "            max_time=max_time, radius_limit=radius, grid_size=grid_size\n",
    "        )\n",
    "        r_ghrelin = get_batch_spatial_entropy_df(\n",
    "            ghrelin_id, conn,\n",
    "            max_time=max_time, radius_limit=radius, grid_size=grid_size\n",
    "        )\n",
    "\n",
    "        # Add group labels\n",
    "        r_saline['group'] = 'Saline'\n",
    "        r_ghrelin['group'] = 'Ghrelin'\n",
    "\n",
    "        # Combine into one DataFrame\n",
    "        df_all = pd.concat([r_saline, r_ghrelin], ignore_index=True)\n",
    "\n",
    "        # Plot\n",
    "        fig, ax = plot_groupwise_bar(df_all, y='spatial_entropy',\n",
    "                                     ylabel='Spatial Entropy',\n",
    "                                     plot_type='box', order=['Saline', 'Ghrelin'], show_stats=True)\n",
    "\n",
    "        ax.set_title(f\"{task} | grid = {grid_size}x{grid_size}\")\n",
    "        pdf.savefig(fig)\n",
    "        plt.close(fig)\n",
    "\n",
    "print(f\"[DONE] Grid size sweep saved to: {pdf_path}\")\n"
   ]
  },
  {
   "cell_type": "markdown",
   "id": "17",
   "metadata": {},
   "source": [
    "## Entropy distribution"
   ]
  },
  {
   "cell_type": "code",
   "execution_count": null,
   "id": "18",
   "metadata": {},
   "outputs": [],
   "source": [
    "import importlib\n",
    "import Python_scripts.Feature_functions.entropy_by_distance_to_center\n",
    "import Python_scripts.Data_analysis.plot_feature_vs_binned_distance\n",
    "\n",
    "importlib.reload(Python_scripts.Feature_functions.entropy_by_distance_to_center)\n",
    "importlib.reload(Python_scripts.Data_analysis.plot_feature_vs_binned_distance)\n",
    "\n",
    "from Python_scripts.Feature_functions.entropy_by_distance_to_center import (\n",
    "    get_entropy_by_distance_to_center, get_batch_entropy_by_distance_to_center\n",
    ")\n",
    "from Python_scripts.Data_analysis.plot_feature_vs_binned_distance import plot_feature_vs_binned_distance\n"
   ]
  },
  {
   "cell_type": "code",
   "execution_count": null,
   "id": "19",
   "metadata": {},
   "outputs": [],
   "source": [
    "import numpy as np\n",
    "import pandas as pd\n",
    "\n",
    "df_saline = get_batch_entropy_by_distance_to_center(\n",
    "    id_list=saline_id, conn=conn, center=None, max_time=500,\n",
    "    normalize=False, group_label='Saline', verbose=False\n",
    ")\n",
    "\n",
    "df_ghrelin = get_batch_entropy_by_distance_to_center(\n",
    "    id_list=ghrelin_id, conn=conn, center=None, max_time=500,\n",
    "    normalize=False, group_label='Ghrelin', verbose=False\n",
    ")\n",
    "\n",
    "df_all = pd.concat([df_saline, df_ghrelin], ignore_index=True)\n"
   ]
  },
  {
   "cell_type": "code",
   "execution_count": null,
   "id": "20",
   "metadata": {},
   "outputs": [],
   "source": [
    "stats_df, fig, ax = plot_feature_vs_binned_distance(\n",
    "    df_all,\n",
    "    feature_col='entropy',\n",
    "    ylabel='Entropy'\n",
    ")\n",
    "\n",
    "ax.set_title(f\"{task}\")\n",
    "fig.savefig(f\"{task}_binned_entropy.pdf\", dpi=300)\n",
    "\n",
    "# Save stats_df as CSV\n",
    "stats_df.to_csv(f\"{task}_binned_entropy_stats.csv\", index=False)\n",
    "\n",
    "print(stats_df.head(n=2))"
   ]
  },
  {
   "cell_type": "markdown",
   "id": "21",
   "metadata": {},
   "source": [
    "### Batch call with different max_time"
   ]
  },
  {
   "cell_type": "code",
   "execution_count": null,
   "id": "22",
   "metadata": {},
   "outputs": [],
   "source": [
    "import numpy as np\n",
    "import pandas as pd\n",
    "import matplotlib.pyplot as plt\n",
    "from matplotlib.backends.backend_pdf import PdfPages\n",
    "\n",
    "# Define output file and range\n",
    "pdf_path = f\"{task}_binned_entropy_by_time.pdf\"\n",
    "max_time_array = np.arange(100, 1300, 200)  # or any array you define\n",
    "\n",
    "with PdfPages(pdf_path) as pdf:\n",
    "    for max_time in max_time_array:\n",
    "        print(f\"[INFO] Running for max_time = {max_time}s\")\n",
    "\n",
    "        df_saline = get_batch_entropy_by_distance_to_center(\n",
    "            id_list=saline_id, conn=conn, center=None,\n",
    "            max_time=max_time, normalize=False,\n",
    "            group_label='Saline', verbose=False\n",
    "        )\n",
    "\n",
    "        df_ghrelin = get_batch_entropy_by_distance_to_center(\n",
    "            id_list=ghrelin_id, conn=conn, center=None,\n",
    "            max_time=max_time, normalize=False,\n",
    "            group_label='Ghrelin', verbose=False\n",
    "        )\n",
    "\n",
    "        df_all = pd.concat([df_saline, df_ghrelin], ignore_index=True)\n",
    "        df_all['group'] = pd.Categorical(df_all['group'], categories=['Saline', 'Ghrelin'], ordered=True)\n",
    "\n",
    "        stats_df, fig, ax = plot_feature_vs_binned_distance(\n",
    "            df_all, feature_col='entropy',\n",
    "            ylabel='Entropy', title=f\"{task} | max_time = {max_time}s\"\n",
    "        )\n",
    "\n",
    "        pdf.savefig(fig)\n",
    "        plt.close(fig)\n",
    "\n",
    "print(f\"[DONE] All plots saved to: {pdf_path}\")\n"
   ]
  },
  {
   "cell_type": "markdown",
   "id": "23",
   "metadata": {},
   "source": [
    "### Save outputs"
   ]
  },
  {
   "cell_type": "code",
   "execution_count": null,
   "id": "24",
   "metadata": {},
   "outputs": [],
   "source": [
    "import numpy as np\n",
    "import pandas as pd\n",
    "\n",
    "heights, bin_edges = np.histogram(r_saline_all, bins=100, density=True)\n",
    "bin_centers = bin_edges[:-1] + np.diff(bin_edges)/2\n",
    "\n",
    "df = pd.DataFrame({'bin_center': bin_centers, 'height': heights})\n",
    "df.to_csv(f'{task}_radial_histogram_saline.csv', index=False)\n",
    "\n",
    "heights, bin_edges = np.histogram(r_ghrelin_all, bins=100, density=True)\n",
    "bin_centers = bin_edges[:-1] + np.diff(bin_edges)/2\n",
    "\n",
    "df = pd.DataFrame({'bin_center': bin_centers, 'height': heights})\n",
    "df.to_csv(f'{task}_radial_histogram_ghrelin.csv', index=False)\n"
   ]
  },
  {
   "cell_type": "code",
   "execution_count": null,
   "id": "25",
   "metadata": {},
   "outputs": [],
   "source": [
    "import importlib\n",
    "import Python_scripts.Feature_functions.entropy_by_distance_to_center\n",
    "\n",
    "importlib.reload(Python_scripts.Feature_functions.entropy_by_distance_to_center)\n",
    "\n",
    "from Python_scripts.Feature_functions.entropy_by_distance_to_center import (\n",
    "    get_entropy_by_distance_to_center, get_batch_entropy_by_distance_to_center\n",
    ")\n"
   ]
  },
  {
   "cell_type": "code",
   "execution_count": null,
   "id": "26",
   "metadata": {},
   "outputs": [],
   "source": [
    "import numpy as np\n",
    "\n",
    "df_saline = get_batch_entropy_by_distance_to_center(\n",
    "    id_list=saline_id, conn=conn, center=None,\n",
    "    bins=np.arange(0, 1.1, 0.1),\n",
    "    max_time=500, group_label='Saline', verbose=True\n",
    ")\n"
   ]
  },
  {
   "cell_type": "code",
   "execution_count": null,
   "id": "27",
   "metadata": {},
   "outputs": [],
   "source": []
  }
 ],
 "metadata": {
  "kernelspec": {
   "display_name": "Python 3 (ipykernel)",
   "language": "python",
   "name": "python3"
  },
  "language_info": {
   "codemirror_mode": {
    "name": "ipython",
    "version": 3
   },
   "file_extension": ".py",
   "mimetype": "text/x-python",
   "name": "python",
   "nbconvert_exporter": "python",
   "pygments_lexer": "ipython3",
   "version": "3.10.13"
  }
 },
 "nbformat": 4,
 "nbformat_minor": 5
}
