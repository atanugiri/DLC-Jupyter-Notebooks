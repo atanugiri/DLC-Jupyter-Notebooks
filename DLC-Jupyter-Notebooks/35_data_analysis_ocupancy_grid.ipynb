{
 "cells": [
  {
   "cell_type": "markdown",
   "id": "0",
   "metadata": {},
   "source": [
    "## Add project root"
   ]
  },
  {
   "cell_type": "code",
   "execution_count": null,
   "id": "1",
   "metadata": {},
   "outputs": [],
   "source": [
    "import sys\n",
    "from pathlib import Path\n",
    "import importlib\n",
    "\n",
    "# Add the parent of the *outer* DLC-Jupyter-Notebooks folder to sys.path\n",
    "project_root = Path().resolve().parents[0]  # This is /Users/atanugiri/Downloads/DLC-Jupyter-Notebooks\n",
    "print(project_root)\n",
    "sys.path.append(str(project_root))\n"
   ]
  },
  {
   "cell_type": "markdown",
   "id": "2",
   "metadata": {},
   "source": [
    "## Connect to db"
   ]
  },
  {
   "cell_type": "code",
   "execution_count": null,
   "id": "3",
   "metadata": {},
   "outputs": [],
   "source": [
    "import psycopg2\n",
    "import platform\n",
    "\n",
    "host = \"localhost\" if platform.system() == \"Windows\" else \"129.108.49.142\"\n",
    "conn = psycopg2.connect(\n",
    "    dbname=\"deeplabcut_db\", user=\"postgres\", \n",
    "    password=\"1234\", host=host, port=\"5432\")\n",
    "cursor = conn.cursor()\n"
   ]
  },
  {
   "cell_type": "markdown",
   "id": "4",
   "metadata": {},
   "source": [
    "## Fetch id list"
   ]
  },
  {
   "cell_type": "code",
   "execution_count": null,
   "id": "5",
   "metadata": {},
   "outputs": [],
   "source": [
    "import pandas as pd\n",
    "\n",
    "task = 'ToyLight'\n",
    "\n",
    "saline_q = f\"\"\"\n",
    "SELECT id FROM dlc_table\n",
    "WHERE task = '{task}' AND health = 'saline' AND head_x IS NOT NULL\n",
    "ORDER BY id;\n",
    "\"\"\"\n",
    "df = pd.read_sql_query(saline_q, conn)\n",
    "saline_id = df['id'].to_list()\n",
    "\n",
    "ghrelin_q = f\"\"\"\n",
    "SELECT id FROM dlc_table\n",
    "WHERE task = '{task}' AND health = 'ghrelin' AND head_x IS NOT NULL\n",
    "ORDER BY id;\n",
    "\"\"\"\n",
    "df = pd.read_sql_query(ghrelin_q, conn)\n",
    "ghrelin_id = df['id'].to_list()\n",
    "\n",
    "print(type(saline_id))\n"
   ]
  },
  {
   "cell_type": "markdown",
   "id": "6",
   "metadata": {},
   "source": [
    "## Calculate coccupancy per grid"
   ]
  },
  {
   "cell_type": "code",
   "execution_count": null,
   "id": "7",
   "metadata": {},
   "outputs": [],
   "source": [
    "import importlib\n",
    "import Python_scripts.Feature_functions.occupancy_grid\n",
    "\n",
    "importlib.reload(Python_scripts.Feature_functions.occupancy_grid)\n",
    "\n",
    "from Python_scripts.Feature_functions.occupancy_grid import (\n",
    "    compute_occupancy_grid, get_batch_occupancy_grids\n",
    ")\n"
   ]
  },
  {
   "cell_type": "markdown",
   "id": "8",
   "metadata": {},
   "source": [
    "### Export occupancy probablities"
   ]
  },
  {
   "cell_type": "code",
   "execution_count": null,
   "id": "9",
   "metadata": {},
   "outputs": [],
   "source": [
    "import numpy as np\n",
    "\n",
    "for grid_size in range(3,10):\n",
    "    g_saline = get_batch_occupancy_grids(saline_id, conn, grid_size=grid_size)\n",
    "    np.save(f'{task}_saline_{grid_size}.npy', g_saline)\n",
    "\n",
    "for grid_size in range(3,10):\n",
    "    g_ghrelin = get_batch_occupancy_grids(ghrelin_id, conn, grid_size=grid_size)\n",
    "    np.save(f'{task}_ghrelin_{grid_size}.npy', g_ghrelin)    \n"
   ]
  },
  {
   "cell_type": "code",
   "execution_count": null,
   "id": "10",
   "metadata": {},
   "outputs": [],
   "source": [
    "# # Extract only the grid from (id, grid) tuples\n",
    "# g_saline_grids = [grid for _, grid in g_saline]\n",
    "# g_ghrelin_grids = [grid for _, grid in g_ghrelin]\n",
    "\n",
    "# # Flatten\n",
    "# g_saline_stack = np.stack(g_saline_grids)          # shape: (num_trials, 10, 10)\n",
    "# g_saline_avg = np.mean(g_saline_stack, axis=0)     # shape: (10, 10)\n",
    "# bin_probs_saline = g_saline_avg.flatten()          # shape: (100, )\n",
    "\n",
    "# print(g_saline_grids[0])\n",
    "# print(g_saline_stack.shape)\n",
    "# print(g_saline_avg.shape)\n",
    "# print(bin_probs_saline.shape)\n",
    "\n",
    "# g_ghrelin_stack = np.stack(g_ghrelin_grids)\n",
    "# g_ghrelin_avg = np.mean(g_ghrelin_stack, axis=0)\n",
    "# bin_probs_ghrelin = g_ghrelin_avg.flatten()\n",
    "\n",
    "# r_saline = g_saline_stack.flatten()   # shape: (n_trials * grid_size * grid_size,)\n",
    "# r_ghrelin = g_ghrelin_stack.flatten()\n"
   ]
  },
  {
   "cell_type": "code",
   "execution_count": null,
   "id": "11",
   "metadata": {
    "jupyter": {
     "outputs_hidden": true
    }
   },
   "outputs": [],
   "source": [
    "import matplotlib.pyplot as plt\n",
    "\n",
    "plt.figure(figsize=(10, 5))\n",
    "plt.bar(np.arange(100), bin_probs_saline, label='Saline', alpha=0.6)\n",
    "plt.bar(np.arange(100), bin_probs_ghrelin, label='Ghrelin', alpha=0.6)\n",
    "plt.xlabel('Bin Index (row-wise)')\n",
    "plt.ylabel('Probability of being in bin')\n",
    "plt.title('Spatial Occupancy per Bin (Group Average)')\n",
    "plt.legend()\n",
    "plt.tight_layout()\n",
    "plt.show()\n"
   ]
  },
  {
   "cell_type": "code",
   "execution_count": null,
   "id": "12",
   "metadata": {
    "jupyter": {
     "outputs_hidden": true
    }
   },
   "outputs": [],
   "source": [
    "plt.figure(figsize=(12, 5))\n",
    "\n",
    "plt.subplot(1, 2, 1)\n",
    "plt.imshow(g_saline_avg, cmap='hot', origin='lower')\n",
    "plt.colorbar(label='Probability')\n",
    "plt.title('Saline Occupancy Map')\n",
    "\n",
    "plt.subplot(1, 2, 2)\n",
    "plt.imshow(g_ghrelin_avg, cmap='hot', origin='lower')\n",
    "plt.colorbar(label='Probability')\n",
    "plt.title('Ghrelin Occupancy Map')\n",
    "\n",
    "plt.tight_layout()\n",
    "plt.show()\n"
   ]
  },
  {
   "cell_type": "code",
   "execution_count": null,
   "id": "13",
   "metadata": {},
   "outputs": [],
   "source": []
  }
 ],
 "metadata": {
  "kernelspec": {
   "display_name": "Python 3 (ipykernel)",
   "language": "python",
   "name": "python3"
  },
  "language_info": {
   "codemirror_mode": {
    "name": "ipython",
    "version": 3
   },
   "file_extension": ".py",
   "mimetype": "text/x-python",
   "name": "python",
   "nbconvert_exporter": "python",
   "pygments_lexer": "ipython3",
   "version": "3.10.13"
  }
 },
 "nbformat": 4,
 "nbformat_minor": 5
}
