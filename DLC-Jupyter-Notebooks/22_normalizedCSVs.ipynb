{
 "cells": [
  {
   "cell_type": "markdown",
   "id": "0",
   "metadata": {},
   "source": [
    "## Normalize DeepLabCut generated csv files"
   ]
  },
  {
   "cell_type": "code",
   "execution_count": null,
   "id": "1",
   "metadata": {},
   "outputs": [],
   "source": [
    "import sys\n",
    "from pathlib import Path\n",
    "import importlib\n",
    "\n",
    "# Add the parent of the *outer* DLC-Jupyter-Notebooks folder to sys.path\n",
    "project_root = Path().resolve().parents[0]  # This is /Users/atanugiri/Downloads/DLC-Jupyter-Notebooks\n",
    "sys.path.append(str(project_root))\n",
    " \n",
    "import Python_scripts.Extract_db_columns.normalize_bodypart_by_id\n",
    "importlib.reload(Python_scripts.Extract_db_columns.normalize_bodypart_by_id)\n",
    "from Python_scripts.Extract_db_columns.normalize_bodypart_by_id import normalize_bodypart_by_id\n"
   ]
  },
  {
   "cell_type": "code",
   "execution_count": null,
   "id": "2",
   "metadata": {},
   "outputs": [],
   "source": [
    "import os\n",
    "import psycopg2\n",
    "import pandas as pd\n",
    "import platform\n",
    "\n",
    "host = \"localhost\" if platform.system() == \"Windows\" else \"129.108.49.30\"\n",
    "conn = psycopg2.connect(dbname=\"deeplabcut_db\", user=\"postgres\", password=\"1234\", host=host, port=\"5432\")\n",
    "cursor = conn.cursor()\n"
   ]
  },
  {
   "cell_type": "markdown",
   "id": "3",
   "metadata": {},
   "source": [
    "## Check data distribution"
   ]
  },
  {
   "cell_type": "code",
   "execution_count": null,
   "id": "4",
   "metadata": {},
   "outputs": [],
   "source": [
    "from Python_scripts.Utility_functions.plot_column_distribution_by_id import plot_column_distribution_by_id\n",
    "# plot_column_distribution_by_id(conn, id=56, column_name='corner4_x')\n",
    "# plot_column_distribution_by_id(conn, id=56, column_name='corner4_y')\n",
    "plot_column_distribution_by_id(conn, id=56, column_name='head_x')\n"
   ]
  },
  {
   "cell_type": "code",
   "execution_count": null,
   "id": "5",
   "metadata": {},
   "outputs": [],
   "source": [
    "import numpy as np\n",
    "\n",
    "query = \"SELECT head_y FROM dlc_table WHERE id = 56;\"\n",
    "df = pd.read_sql_query(query, conn)\n",
    "\n",
    "# Convert to array (handle stringified list if needed)\n",
    "val = df.iloc[0]['head_y']\n",
    "head_x = np.array(val if isinstance(val, list) else eval(val))\n",
    "\n",
    "# Count NaNs\n",
    "num_nans = np.isnan(head_x).sum()\n",
    "print(f\"NaNs in head_y: {num_nans} out of {len(head_x)}\")\n"
   ]
  },
  {
   "cell_type": "code",
   "execution_count": null,
   "id": "6",
   "metadata": {},
   "outputs": [],
   "source": [
    "x_norm, y_norm = normalize_bodypart_by_id(conn, id=56, bodypart='head')\n",
    "\n",
    "if x_norm is not None:\n",
    "    print(\"Normalized coordinates (first 5 frames):\")\n",
    "    print(\"x:\", x_norm[:5])\n",
    "    print(\"y:\", y_norm[:5])"
   ]
  },
  {
   "cell_type": "markdown",
   "id": "7",
   "metadata": {},
   "source": [
    "## Insert the normalized csv files into database"
   ]
  },
  {
   "cell_type": "code",
   "execution_count": null,
   "id": "8",
   "metadata": {},
   "outputs": [],
   "source": [
    "from Python_scripts.Insert_to_featuretable.insert_norm_dlc_arrays import insert_norm_dlc_arrays\n",
    "\n",
    "query = \"SELECT id FROM dlc_table WHERE head_x IS NOT NULL ORDER BY id;\"\n",
    "df = pd.read_sql_query(query, conn)\n",
    "id_list = df['id'].tolist()\n",
    "\n",
    "insert_norm_dlc_arrays(id_list, conn, bodypart=\"head\")\n"
   ]
  },
  {
   "cell_type": "code",
   "execution_count": null,
   "id": "9",
   "metadata": {},
   "outputs": [],
   "source": [
    "import pandas as pd\n",
    "\n",
    "query = \"SELECT head_x_norm, head_y_norm FROM dlc_table WHERE id = 56;\"\n",
    "df = pd.read_sql_query(query, conn)\n",
    "\n",
    "# View first 5 values\n",
    "print(\"head_x_norm:\", df['head_x_norm'].iloc[0][:5])\n",
    "print(\"head_y_norm:\", df['head_y_norm'].iloc[0][:5])\n"
   ]
  },
  {
   "cell_type": "code",
   "execution_count": null,
   "id": "10",
   "metadata": {},
   "outputs": [],
   "source": [
    "import matplotlib.pyplot as plt\n",
    "\n",
    "x = df['head_x_norm'].iloc[0]\n",
    "y = df['head_y_norm'].iloc[0]\n",
    "\n",
    "plt.figure(figsize=(6, 6))\n",
    "plt.plot(x, y, marker='o', linestyle='-')\n",
    "plt.title(\"Normalized Head Trajectory for ID 58\")\n",
    "plt.xlabel(\"x (normalized)\")\n",
    "plt.ylabel(\"y (normalized)\")\n",
    "plt.axis(\"equal\")\n",
    "plt.grid(True)\n",
    "plt.show()\n"
   ]
  },
  {
   "cell_type": "code",
   "execution_count": null,
   "id": "11",
   "metadata": {},
   "outputs": [],
   "source": [
    "query = \"\"\"\n",
    "SELECT * FROM dlc_table WHERE id = 56;\n",
    "\"\"\"\n",
    "df = pd.read_sql_query(query, conn)\n",
    "print(df)\n",
    "# for col in df.columns:\n",
    "#     print(f\"{col}: {df[col].iloc[0][:10]}\")\n"
   ]
  },
  {
   "cell_type": "code",
   "execution_count": null,
   "id": "12",
   "metadata": {},
   "outputs": [],
   "source": [
    "corner_pts = []\n",
    "for i in range(1, 5):\n",
    "    x_vals = df[f'corner{i}_x'].iloc[0]\n",
    "    y_vals = df[f'corner{i}_y'].iloc[0]\n",
    "\n",
    "    # Safely compute median if x_vals and y_vals are array-like\n",
    "    if isinstance(x_vals, (list, np.ndarray)) and isinstance(y_vals, (list, np.ndarray)):\n",
    "        x_median = np.nanmedian(x_vals)\n",
    "        y_median = np.nanmedian(y_vals)\n",
    "        corner_pts.append([x_median, y_median])\n",
    "    else:\n",
    "        print(f\"⚠️ corner{i} is not array-like — skipping\")\n",
    "        corner_pts.append([np.nan, np.nan])\n",
    "\n",
    "corner_pts = np.array(corner_pts)\n",
    "print(corner_pts)\n"
   ]
  },
  {
   "cell_type": "code",
   "execution_count": null,
   "id": "13",
   "metadata": {},
   "outputs": [],
   "source": []
  }
 ],
 "metadata": {
  "kernelspec": {
   "display_name": "Python 3 (ipykernel)",
   "language": "python",
   "name": "python3"
  },
  "language_info": {
   "codemirror_mode": {
    "name": "ipython",
    "version": 3
   },
   "file_extension": ".py",
   "mimetype": "text/x-python",
   "name": "python",
   "nbconvert_exporter": "python",
   "pygments_lexer": "ipython3",
   "version": "3.10.13"
  }
 },
 "nbformat": 4,
 "nbformat_minor": 5
}
