{
 "cells": [
  {
   "cell_type": "markdown",
   "id": "0",
   "metadata": {},
   "source": [
    "## Normalize DeepLabCut generated csv files"
   ]
  },
  {
   "cell_type": "code",
   "execution_count": null,
   "id": "1",
   "metadata": {},
   "outputs": [],
   "source": [
    "!python ../Python_scripts/normalizeCSV.py"
   ]
  },
  {
   "cell_type": "markdown",
   "id": "2",
   "metadata": {},
   "source": [
    "## Insert the normalized csv files into database"
   ]
  },
  {
   "cell_type": "code",
   "execution_count": null,
   "id": "3",
   "metadata": {},
   "outputs": [],
   "source": [
    "import os\n",
    "import psycopg2\n",
    "\n",
    "# === CONFIG ===\n",
    "normalized_dir = r\"C:\\DeepLabCutProjects\\DLC-Atanu-2024-12-25\\Analyzed-videos-filtered\\NormalizedCSVs\"\n",
    "DB_NAME = \"deeplabcut_db\"\n",
    "DB_USER = \"postgres\"\n",
    "DB_PASSWORD = \"1234\"\n",
    "DB_HOST = \"localhost\"\n",
    "DB_PORT = \"5432\"\n",
    "\n",
    "# === CONNECT TO DATABASE ===\n",
    "conn = psycopg2.connect(\n",
    "    dbname=DB_NAME, user=DB_USER, password=DB_PASSWORD, host=DB_HOST, port=DB_PORT\n",
    ")\n",
    "cursor = conn.cursor()\n",
    "\n",
    "# === FETCH ALL COORD_PATH ENTRIES ===\n",
    "cursor.execute(\"SELECT id, coord_path FROM dlc_files\")\n",
    "rows = cursor.fetchall()\n",
    "\n",
    "# === PROCESS EACH ENTRY ===\n",
    "updated = 0\n",
    "for row in rows:\n",
    "    id_, coord_path = row\n",
    "    base_name = os.path.basename(coord_path)\n",
    "\n",
    "    if \"_normalized.csv\" not in base_name:\n",
    "        # Build expected normalized filename\n",
    "        if base_name.endswith(\".csv\"):\n",
    "            normalized_name = base_name.replace(\".csv\", \"_normalized.csv\")\n",
    "            normalized_path = os.path.join(normalized_dir, normalized_name)\n",
    "\n",
    "            if os.path.exists(normalized_path):\n",
    "                cursor.execute(\n",
    "                    \"UPDATE dlc_files SET normalized_path = %s WHERE id = %s\",\n",
    "                    (normalized_path, id_)\n",
    "                )\n",
    "                updated += 1\n",
    "            else:\n",
    "                print(f\"❗ Normalized file not found for: {base_name}\")\n",
    "        else:\n",
    "            print(f\"⚠️ Skipping non-CSV: {base_name}\")\n",
    "\n",
    "# === COMMIT AND CLOSE ===\n",
    "conn.commit()\n",
    "cursor.close()\n",
    "conn.close()\n",
    "print(f\"✅ Done. Updated {updated} entries.\")"
   ]
  },
  {
   "cell_type": "code",
   "execution_count": null,
   "id": "4",
   "metadata": {},
   "outputs": [],
   "source": []
  }
 ],
 "metadata": {
  "kernelspec": {
   "display_name": "Python [conda env:.conda-DLC] *",
   "language": "python",
   "name": "conda-env-.conda-DLC-py"
  },
  "language_info": {
   "codemirror_mode": {
    "name": "ipython",
    "version": 3
   },
   "file_extension": ".py",
   "mimetype": "text/x-python",
   "name": "python",
   "nbconvert_exporter": "python",
   "pygments_lexer": "ipython3",
   "version": "3.8.20"
  }
 },
 "nbformat": 4,
 "nbformat_minor": 5
}
