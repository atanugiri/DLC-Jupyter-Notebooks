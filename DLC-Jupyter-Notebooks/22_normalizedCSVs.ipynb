{
 "cells": [
  {
   "cell_type": "markdown",
   "id": "0",
   "metadata": {},
   "source": [
    "## Set system path"
   ]
  },
  {
   "cell_type": "code",
   "execution_count": null,
   "id": "1",
   "metadata": {},
   "outputs": [],
   "source": [
    "import sys\n",
    "from pathlib import Path\n",
    "import importlib\n",
    "\n",
    "# Add the parent of the *outer* DLC-Jupyter-Notebooks folder to sys.path\n",
    "project_root = Path().resolve().parents[0]  # This is /Users/atanugiri/Downloads/DLC-Jupyter-Notebooks\n",
    "sys.path.append(str(project_root))\n"
   ]
  },
  {
   "cell_type": "markdown",
   "id": "2",
   "metadata": {},
   "source": [
    "## Connect to database"
   ]
  },
  {
   "cell_type": "code",
   "execution_count": null,
   "id": "3",
   "metadata": {},
   "outputs": [],
   "source": [
    "import os\n",
    "import psycopg2\n",
    "import pandas as pd\n",
    "import platform\n",
    "\n",
    "host = \"localhost\" if platform.system() == \"Windows\" else \"129.108.49.49\"\n",
    "conn = psycopg2.connect(dbname=\"deeplabcut_db\", user=\"postgres\", password=\"1234\", host=host, port=\"5432\")\n",
    "cursor = conn.cursor()\n"
   ]
  },
  {
   "cell_type": "markdown",
   "id": "4",
   "metadata": {},
   "source": [
    "## Insert normalized (x,y) of bodyparts"
   ]
  },
  {
   "cell_type": "code",
   "execution_count": null,
   "id": "5",
   "metadata": {},
   "outputs": [],
   "source": [
    "import Python_scripts.Data_analysis.normalized_bodypart\n",
    "importlib.reload(Python_scripts.Data_analysis.normalized_bodypart)\n",
    "from Python_scripts.Data_analysis.normalized_bodypart import get_normalized_bodypart\n"
   ]
  },
  {
   "cell_type": "code",
   "execution_count": null,
   "id": "6",
   "metadata": {},
   "outputs": [],
   "source": [
    "query = \"\"\"\n",
    "SELECT id, video_name\n",
    "FROM dlc_table\n",
    "WHERE task ILIKE 'FoodLight%' AND genotype='white' AND frame_rate IS NOT NULL ORDER BY id;\n",
    "\"\"\"\n",
    "df = pd.read_sql_query(query, conn)\n"
   ]
  },
  {
   "cell_type": "code",
   "execution_count": null,
   "id": "7",
   "metadata": {
    "jupyter": {
     "outputs_hidden": true
    }
   },
   "outputs": [],
   "source": [
    "from tqdm import tqdm\n",
    "import numpy as np\n",
    "\n",
    "for _, row in tqdm(df.iterrows(), total=len(df), desc=\"Inserting normalized head\"):\n",
    "    video_id = row[\"id\"]\n",
    "    video_name = row[\"video_name\"]\n",
    "    dir_to_search = Path.home() / \"Downloads\" / \"data\" / \"FoodLightWhite\" / \"DlcDataPytorchFiltered\"\n",
    "\n",
    "    csv_path = find_csv_for_video(video_name, dir_to_search)\n",
    "\n",
    "    if not csv_path:\n",
    "        print(f\"❌ CSV not found for {video_name}\")\n",
    "        continue\n",
    "\n",
    "    df_dlc = pd.read_csv(csv_path, header=[1, 2], index_col=0)\n",
    "\n",
    "    # Subset to required columns\n",
    "    needed_parts = ['Head'] + [f'Corner{i}' for i in range(1, 5)]\n",
    "    coords = ['x', 'y', 'likelihood']\n",
    "\n",
    "    print(f\"Normalizing id = {video_id}\")\n",
    "    \n",
    "    x_norm, y_norm = normalize_bodypart_minmax(\n",
    "        df_dlc, bodypart='Head', likelihood_threshold=0.5)\n",
    "\n",
    "    if x_norm is None:\n",
    "        print(f\"❌ Normalization failed for video_id {video_id}\")\n",
    "        continue\n",
    "\n",
    "    # Insert normalized\n",
    "    cursor = conn.cursor()\n",
    "    cursor.execute(\"\"\"\n",
    "        ALTER TABLE dlc_table \n",
    "        ADD COLUMN IF NOT EXISTS head_x_norm FLOAT[],\n",
    "        ADD COLUMN IF NOT EXISTS head_y_norm FLOAT[];\n",
    "    \"\"\")\n",
    "    cursor.execute(\"\"\"\n",
    "        UPDATE dlc_table\n",
    "        SET head_x_norm = %s, head_y_norm = %s\n",
    "        WHERE id = %s;\n",
    "    \"\"\", (np.round(x_norm, 3).tolist(), np.round(y_norm, 3).tolist(), video_id))\n",
    "    conn.commit()\n",
    "    cursor.close()\n",
    "    print(f\"✅ Normalized head for ID {video_id}\\n\")\n"
   ]
  },
  {
   "cell_type": "markdown",
   "id": "8",
   "metadata": {},
   "source": [
    "## Plot a few trajectories side by side"
   ]
  },
  {
   "cell_type": "code",
   "execution_count": null,
   "id": "9",
   "metadata": {
    "jupyter": {
     "outputs_hidden": true
    }
   },
   "outputs": [],
   "source": [
    "query = \"\"\"\n",
    "SELECT id FROM dlc_table WHERE task ILIKE 'FoodOnly%' AND genotype = 'white'\n",
    "AND head_x_norm IS NOT NULL ORDER BY id\n",
    "\"\"\"\n",
    "\n",
    "df = pd.read_sql_query(query, conn)\n",
    "id_list = df['id'].tolist()\n",
    "print(id_list)\n",
    "\n",
    "from Python_scripts.Data_analysis.plot_single_trajectory import plot_single_trajectory\n",
    "\n",
    "import matplotlib.pyplot as plt\n",
    "\n",
    "for id in id_list:\n",
    "    fig, axs = plt.subplots(1, 2, figsize=(10, 5))\n",
    "\n",
    "    plot_single_trajectory(conn, id, bodypart='Midback',\n",
    "                           normalize=False, interpolate=False, likelihood_threshold=0,\n",
    "                           label=None, color=None, style='scatter',\n",
    "                           max_points=None, color_by_time=True, ax=axs[0]\n",
    "                           )\n",
    "\n",
    "    plot_single_trajectory(conn, id, bodypart='Midback',\n",
    "                       normalize=True, interpolate=True, likelihood_threshold=0.5,\n",
    "                       label=None, color=None, style='line',\n",
    "                       max_points=None, color_by_time=False, ax=axs[1]\n",
    "                       )\n",
    "    plt.tight_layout()\n",
    "    plt.show()\n"
   ]
  },
  {
   "cell_type": "markdown",
   "id": "10",
   "metadata": {},
   "source": [
    "## Compare DLC vs Optogen"
   ]
  },
  {
   "cell_type": "code",
   "execution_count": null,
   "id": "11",
   "metadata": {},
   "outputs": [],
   "source": [
    "import importlib\n",
    "import Python_scripts.Data_analysis.plot_single_trajectory\n",
    "import Python_scripts.Data_analysis.plot_single_trajectory_optogen\n",
    "\n",
    "importlib.reload(Python_scripts.Data_analysis.plot_single_trajectory)\n",
    "importlib.reload(Python_scripts.Data_analysis.plot_single_trajectory_optogen)\n",
    "\n",
    "from Python_scripts.Data_analysis.plot_single_trajectory import plot_single_trajectory\n",
    "from Python_scripts.Data_analysis.plot_single_trajectory_optogen import plot_single_trajectory_optogen\n",
    "\n",
    "query = \"SELECT id FROM dlc_table WHERE video_name LIKE '%FoodLight_9_10_24_Indigo_Y%'\"\n",
    "\n",
    "df = pd.read_sql_query(query, conn)\n",
    "id = df['id'][0]\n",
    "print(id)\n",
    "print(type(id))\n",
    "plot_single_trajectory(conn, id, max_points=500)\n",
    "plot_single_trajectory_optogen(conn, id, max_points=500)\n"
   ]
  },
  {
   "cell_type": "code",
   "execution_count": null,
   "id": "12",
   "metadata": {
    "jupyter": {
     "outputs_hidden": true
    }
   },
   "outputs": [],
   "source": [
    "import os\n",
    "import shutil\n",
    "from pathlib import Path\n",
    "\n",
    "# Source and destination directories\n",
    "src_dir = Path(\"/Users/atanugiri/Downloads/data/FoodLightWhite/DlcDataPytorch\")\n",
    "dst_dir = Path(\"/Users/atanugiri/Downloads/data/FoodLightWhite/DlcDataPytorchFiltered\")\n",
    "\n",
    "# Create destination directory if it doesn't exist\n",
    "dst_dir.mkdir(parents=True, exist_ok=True)\n",
    "\n",
    "# Process all .csv files\n",
    "for csv_file in src_dir.glob(\"*.csv\"):\n",
    "    base = csv_file.stem  # filename without .csv extension\n",
    "    new_name = f\"{base}_filtered.csv\"\n",
    "    dst_path = dst_dir / new_name\n",
    "\n",
    "    shutil.copy(csv_file, dst_path)\n",
    "    print(f\"Copied and renamed: {csv_file.name} -> {new_name}\")\n"
   ]
  },
  {
   "cell_type": "code",
   "execution_count": null,
   "id": "13",
   "metadata": {},
   "outputs": [],
   "source": []
  }
 ],
 "metadata": {
  "kernelspec": {
   "display_name": "Python 3 (ipykernel)",
   "language": "python",
   "name": "python3"
  },
  "language_info": {
   "codemirror_mode": {
    "name": "ipython",
    "version": 3
   },
   "file_extension": ".py",
   "mimetype": "text/x-python",
   "name": "python",
   "nbconvert_exporter": "python",
   "pygments_lexer": "ipython3",
   "version": "3.10.13"
  }
 },
 "nbformat": 4,
 "nbformat_minor": 5
}
