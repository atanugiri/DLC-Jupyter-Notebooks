{
 "cells": [
  {
   "cell_type": "markdown",
   "id": "0",
   "metadata": {},
   "source": [
    "## Set system path"
   ]
  },
  {
   "cell_type": "code",
   "execution_count": null,
   "id": "1",
   "metadata": {},
   "outputs": [],
   "source": [
    "import sys\n",
    "from pathlib import Path\n",
    "import importlib\n",
    "\n",
    "# Add the parent of the *outer* DLC-Jupyter-Notebooks folder to sys.path\n",
    "project_root = Path().resolve().parents[0]  # This is /Users/atanugiri/Downloads/DLC-Jupyter-Notebooks\n",
    "sys.path.append(str(project_root))\n",
    "\n",
    "import Python_scripts.Extract_db_columns.normalize_bodypart_by_id\n",
    "importlib.reload(Python_scripts.Extract_db_columns.normalize_bodypart_by_id)\n",
    "from Python_scripts.Extract_db_columns.normalize_bodypart_by_id import normalize_bodypart_by_id\n"
   ]
  },
  {
   "cell_type": "markdown",
   "id": "2",
   "metadata": {},
   "source": [
    "## Connect to database"
   ]
  },
  {
   "cell_type": "code",
   "execution_count": null,
   "id": "3",
   "metadata": {},
   "outputs": [],
   "source": [
    "import os\n",
    "import psycopg2\n",
    "import pandas as pd\n",
    "import platform\n",
    "\n",
    "host = \"localhost\" if platform.system() == \"Windows\" else \"129.108.49.30\"\n",
    "conn = psycopg2.connect(dbname=\"deeplabcut_db\", user=\"postgres\", password=\"1234\", host=host, port=\"5432\")\n",
    "cursor = conn.cursor()\n"
   ]
  },
  {
   "cell_type": "markdown",
   "id": "4",
   "metadata": {},
   "source": [
    "## Check data distribution"
   ]
  },
  {
   "cell_type": "code",
   "execution_count": null,
   "id": "5",
   "metadata": {},
   "outputs": [],
   "source": [
    "from Python_scripts.Utility_functions.plot_column_distribution_by_id import plot_column_distribution_by_id\n",
    "\n",
    "plot_column_distribution_by_id(conn, id=56, column_name='corner4_x')\n",
    "plot_column_distribution_by_id(conn, id=56, column_name='corner4_y')\n",
    "# plot_column_distribution_by_id(conn, id=56, column_name='head_x')\n"
   ]
  },
  {
   "cell_type": "markdown",
   "id": "6",
   "metadata": {},
   "source": [
    "## Count the number of low likelihood points"
   ]
  },
  {
   "cell_type": "code",
   "execution_count": null,
   "id": "7",
   "metadata": {},
   "outputs": [],
   "source": [
    "import numpy as np\n",
    "\n",
    "query = \"SELECT head_y FROM dlc_table WHERE id = 56;\"\n",
    "df = pd.read_sql_query(query, conn)\n",
    "\n",
    "# Convert to array (handle stringified list if needed)\n",
    "val = df.iloc[0]['head_y']\n",
    "head_x = np.array(val if isinstance(val, list) else eval(val))\n",
    "\n",
    "# Count NaNs\n",
    "num_nans = np.isnan(head_x).sum()\n",
    "print(f\"NaNs in head_y: {num_nans} out of {len(head_x)}\")\n"
   ]
  },
  {
   "cell_type": "markdown",
   "id": "8",
   "metadata": {},
   "source": [
    "## Check if the function working"
   ]
  },
  {
   "cell_type": "code",
   "execution_count": null,
   "id": "9",
   "metadata": {},
   "outputs": [],
   "source": [
    "x_norm, y_norm = normalize_bodypart_by_id(conn, id=56, bodypart='head')\n",
    "\n",
    "if x_norm is not None:\n",
    "    print(\"Normalized coordinates (first 5 frames):\")\n",
    "    print(\"x:\", x_norm[:5])\n",
    "    print(\"y:\", y_norm[:5])"
   ]
  },
  {
   "cell_type": "markdown",
   "id": "10",
   "metadata": {},
   "source": [
    "## Insert the normalized csv files into database"
   ]
  },
  {
   "cell_type": "code",
   "execution_count": null,
   "id": "11",
   "metadata": {
    "jupyter": {
     "outputs_hidden": true
    }
   },
   "outputs": [],
   "source": [
    "from Python_scripts.Insert_to_featuretable.insert_norm_dlc_arrays import insert_norm_dlc_arrays\n",
    "\n",
    "query = \"SELECT id FROM dlc_table WHERE head_x IS NOT NULL ORDER BY id;\"\n",
    "df = pd.read_sql_query(query, conn)\n",
    "id_list = df['id'].tolist()\n",
    "\n",
    "insert_norm_dlc_arrays(id_list, conn, bodypart=\"head\")\n"
   ]
  },
  {
   "cell_type": "code",
   "execution_count": null,
   "id": "12",
   "metadata": {},
   "outputs": [],
   "source": [
    "import pandas as pd\n",
    "import numpy as np\n",
    "import matplotlib.pyplot as plt\n",
    "\n",
    "# Step 1: Query from database\n",
    "query = \"\"\"\n",
    "SELECT corner1_x, corner1_y,\n",
    "       corner2_x, corner2_y,\n",
    "       corner3_x, corner3_y,\n",
    "       corner4_x, corner4_y\n",
    "FROM dlc_table\n",
    "WHERE id = 49;\n",
    "\"\"\"\n",
    "df = pd.read_sql_query(query, conn)\n",
    "\n",
    "# Step 2: Compute medians for each corner\n",
    "corner_pts = []\n",
    "for i in range(1, 5):\n",
    "    x_vals = df[f'corner{i}_x'].iloc[0]\n",
    "    y_vals = df[f'corner{i}_y'].iloc[0]\n",
    "\n",
    "    if isinstance(x_vals, str):\n",
    "        x_vals = np.array(eval(x_vals))\n",
    "    if isinstance(y_vals, str):\n",
    "        y_vals = np.array(eval(y_vals))\n",
    "\n",
    "    x_median = np.nanmedian(x_vals)\n",
    "    y_median = np.nanmedian(y_vals)\n",
    "    corner_pts.append([x_median, y_median])\n",
    "\n",
    "corner_pts = np.array(corner_pts)\n",
    "\n",
    "# Step 3: Plot corners\n",
    "plt.figure(figsize=(6, 6))\n",
    "plt.plot(*np.vstack([corner_pts, corner_pts[0]]).T, 'ro-')  # close the loop\n",
    "for i, (x, y) in enumerate(corner_pts, start=1):\n",
    "    plt.text(x, y, f\"C{i}\", fontsize=12, ha='center', va='center')\n",
    "\n",
    "plt.title(\"Median Corner Positions for ID 49\")\n",
    "plt.xlabel(\"x\")\n",
    "plt.ylabel(\"y\")\n",
    "plt.axis(\"equal\")\n",
    "plt.grid(True)\n",
    "plt.show()\n"
   ]
  },
  {
   "cell_type": "markdown",
   "id": "13",
   "metadata": {},
   "source": [
    "## Plot a few trajectories side by side"
   ]
  },
  {
   "cell_type": "code",
   "execution_count": null,
   "id": "14",
   "metadata": {
    "jupyter": {
     "outputs_hidden": true
    }
   },
   "outputs": [],
   "source": [
    "query = \"SELECT id FROM dlc_table WHERE head_x IS NOT NULL ORDER BY id;\"\n",
    "df = pd.read_sql_query(query, conn)\n",
    "id_list = df['id'].tolist()\n",
    "print(id_list)\n",
    "\n",
    "from Python_scripts.Data_analysis.plot_single_trajectory import plot_single_trajectory\n",
    "import matplotlib.pyplot as plt\n",
    "\n",
    "for id in id_list:\n",
    "    fig, axs = plt.subplots(1, 2, figsize=(10, 5))\n",
    "    \n",
    "    plot_single_trajectory(axs[0], conn, trial_id=id, bodypart_x='head_x', bodypart_y='head_y', \n",
    "                           label = f\"{id}\", title='Original')\n",
    "    plot_single_trajectory(axs[1], conn, trial_id=id, \n",
    "                           label = f\"{id}\", title='Normalized')\n",
    "    \n",
    "    plt.tight_layout()\n",
    "    plt.show()\n"
   ]
  },
  {
   "cell_type": "markdown",
   "id": "15",
   "metadata": {},
   "source": [
    "## Plot corners of all id"
   ]
  },
  {
   "cell_type": "code",
   "execution_count": null,
   "id": "16",
   "metadata": {},
   "outputs": [],
   "source": [
    "query = \"SELECT id FROM dlc_table WHERE head_x IS NOT NULL ORDER BY id;\"\n",
    "df = pd.read_sql_query(query, conn)\n",
    "id_list = df['id'].tolist()\n",
    "print(id_list)\n",
    "\n",
    "from Python_scripts.Data_analysis.plot_single_trajectory import plot_single_trajectory\n",
    "import matplotlib.pyplot as plt\n",
    "\n",
    "fig, ax = plt.subplots(figsize=(5, 5))\n",
    "\n",
    "for id in id_list:\n",
    "    \n",
    "    plot_single_trajectory(ax, conn, trial_id=id, bodypart_x='corner1_x', bodypart_y='corner1_y', label=None)\n",
    "    plot_single_trajectory(ax, conn, trial_id=id, bodypart_x='corner2_x', bodypart_y='corner2_y', label=None)\n",
    "    plot_single_trajectory(ax, conn, trial_id=id, bodypart_x='corner3_x', bodypart_y='corner3_y', label=None)\n",
    "    plot_single_trajectory(ax, conn, trial_id=id, bodypart_x='corner4_x', bodypart_y='corner4_y', label=None)\n",
    "\n",
    "ax.set_title(\"All Corners Across 10 Trials\")\n",
    "plt.tight_layout()\n",
    "plt.show()"
   ]
  },
  {
   "cell_type": "code",
   "execution_count": null,
   "id": "17",
   "metadata": {},
   "outputs": [],
   "source": []
  }
 ],
 "metadata": {
  "kernelspec": {
   "display_name": "Python 3 (ipykernel)",
   "language": "python",
   "name": "python3"
  },
  "language_info": {
   "codemirror_mode": {
    "name": "ipython",
    "version": 3
   },
   "file_extension": ".py",
   "mimetype": "text/x-python",
   "name": "python",
   "nbconvert_exporter": "python",
   "pygments_lexer": "ipython3",
   "version": "3.10.13"
  }
 },
 "nbformat": 4,
 "nbformat_minor": 5
}
