{
 "cells": [
  {
   "cell_type": "markdown",
   "id": "0",
   "metadata": {},
   "source": [
    "## Set system path"
   ]
  },
  {
   "cell_type": "code",
   "execution_count": null,
   "id": "1",
   "metadata": {},
   "outputs": [],
   "source": [
    "import sys\n",
    "from pathlib import Path\n",
    "import importlib\n",
    "\n",
    "# Add the parent of the *outer* DLC-Jupyter-Notebooks folder to sys.path\n",
    "project_root = Path().resolve().parents[0]  # This is /Users/atanugiri/Downloads/DLC-Jupyter-Notebooks\n",
    "sys.path.append(str(project_root))\n"
   ]
  },
  {
   "cell_type": "markdown",
   "id": "2",
   "metadata": {},
   "source": [
    "## Connect to database"
   ]
  },
  {
   "cell_type": "code",
   "execution_count": null,
   "id": "3",
   "metadata": {},
   "outputs": [],
   "source": [
    "import os\n",
    "import psycopg2\n",
    "import pandas as pd\n",
    "import platform\n",
    "\n",
    "host = \"localhost\" if platform.system() == \"Windows\" else \"129.108.49.49\"\n",
    "conn = psycopg2.connect(dbname=\"deeplabcut_db\", user=\"postgres\", password=\"1234\", host=host, port=\"5432\")\n",
    "cursor = conn.cursor()\n"
   ]
  },
  {
   "cell_type": "markdown",
   "id": "4",
   "metadata": {},
   "source": [
    "## Insert normalized (x,y) of bodyparts"
   ]
  },
  {
   "cell_type": "code",
   "execution_count": null,
   "id": "5",
   "metadata": {},
   "outputs": [],
   "source": [
    "# First import the submodules as objects so they can be reloaded\n",
    "import Python_scripts.Extract_db_columns.find_csv_for_video as find_mod\n",
    "import Python_scripts.Extract_db_columns.normalize_bodypart_from_csv as from_mod\n",
    "import Python_scripts.Extract_db_columns.normalize_bodypart_minmax as minmax_mod\n",
    "import Python_scripts.Extract_db_columns.normalize_bodypart_with_fallback as fallback_mod\n",
    "\n",
    "# Reload them\n",
    "importlib.reload(find_mod)\n",
    "importlib.reload(from_mod)\n",
    "importlib.reload(minmax_mod)\n",
    "importlib.reload(fallback_mod)\n",
    "\n",
    "# Now import the functions freshly from the reloaded modules\n",
    "from Python_scripts.Extract_db_columns.find_csv_for_video import find_csv_for_video\n",
    "from Python_scripts.Extract_db_columns.normalize_bodypart_from_csv import normalize_bodypart_from_csv\n",
    "from Python_scripts.Extract_db_columns.normalize_bodypart_minmax import normalize_bodypart_minmax\n",
    "from Python_scripts.Extract_db_columns.normalize_bodypart_with_fallback import normalize_bodypart_with_fallback\n"
   ]
  },
  {
   "cell_type": "code",
   "execution_count": null,
   "id": "6",
   "metadata": {
    "jupyter": {
     "outputs_hidden": true
    }
   },
   "outputs": [],
   "source": [
    "df_raw = pd.read_csv('/Users/atanugiri/Downloads/data/ToyLight/DlcDataPytorchFiltered/ToyLight_10_16_23_BlackCement_PDLC_Resnet50_DLC-FoodLightJul8shuffle1_snapshot_240_filtered.csv', header=[1, 2], index_col=0)\n",
    "print(df_raw.columns[:10])\n",
    "print(df_raw[('Corner1', 'likelihood')].head())"
   ]
  },
  {
   "cell_type": "code",
   "execution_count": null,
   "id": "7",
   "metadata": {},
   "outputs": [],
   "source": [
    "query = \"\"\"\n",
    "SELECT id, video_name\n",
    "FROM dlc_table\n",
    "WHERE task ILIKE 'LightOnly%' AND genotype='white' AND frame_rate IS NOT NULL ORDER BY id;\n",
    "\"\"\"\n",
    "df = pd.read_sql_query(query, conn)\n"
   ]
  },
  {
   "cell_type": "code",
   "execution_count": null,
   "id": "8",
   "metadata": {
    "jupyter": {
     "outputs_hidden": true
    }
   },
   "outputs": [],
   "source": [
    "from tqdm import tqdm\n",
    "import numpy as np\n",
    "\n",
    "for _, row in tqdm(df.iterrows(), total=len(df), desc=\"Inserting normalized head\"):\n",
    "    video_id = row[\"id\"]\n",
    "    video_name = row[\"video_name\"]\n",
    "    dir_to_search = Path.home() / \"Downloads\" / \"data\" / \"LightOnlyWhite\" / \"DlcDataPytorchFiltered\"\n",
    "\n",
    "    csv_path = find_csv_for_video(video_name, dir_to_search)\n",
    "\n",
    "    if not csv_path:\n",
    "        print(f\"❌ CSV not found for {video_name}\")\n",
    "        continue\n",
    "\n",
    "    df_dlc = pd.read_csv(csv_path, header=[1, 2], index_col=0)\n",
    "\n",
    "    # Subset to required columns\n",
    "    needed_parts = ['Head'] + [f'Corner{i}' for i in range(1, 5)]\n",
    "    coords = ['x', 'y', 'likelihood']\n",
    "\n",
    "    print(f\"Normalizing id = {video_id}\")\n",
    "    \n",
    "    x_norm, y_norm = normalize_bodypart_minmax(\n",
    "        df_dlc, bodypart='Head', likelihood_threshold=0.5)\n",
    "\n",
    "    if x_norm is None:\n",
    "        print(f\"❌ Normalization failed for video_id {video_id}\")\n",
    "        continue\n",
    "\n",
    "    # Insert normalized\n",
    "    cursor = conn.cursor()\n",
    "    cursor.execute(\"\"\"\n",
    "        ALTER TABLE dlc_table \n",
    "        ADD COLUMN IF NOT EXISTS head_x_norm FLOAT[],\n",
    "        ADD COLUMN IF NOT EXISTS head_y_norm FLOAT[];\n",
    "    \"\"\")\n",
    "    cursor.execute(\"\"\"\n",
    "        UPDATE dlc_table\n",
    "        SET head_x_norm = %s, head_y_norm = %s\n",
    "        WHERE id = %s;\n",
    "    \"\"\", (np.round(x_norm, 3).tolist(), np.round(y_norm, 3).tolist(), video_id))\n",
    "    conn.commit()\n",
    "    cursor.close()\n",
    "    print(f\"✅ Normalized head for ID {video_id}\\n\")\n"
   ]
  },
  {
   "cell_type": "markdown",
   "id": "9",
   "metadata": {},
   "source": [
    "## Plot a few trajectories side by side"
   ]
  },
  {
   "cell_type": "code",
   "execution_count": null,
   "id": "10",
   "metadata": {},
   "outputs": [],
   "source": [
    "query = \"\"\"\n",
    "SELECT id FROM dlc_table WHERE task ILIKE 'LightOnly%' AND genotype = 'white'\n",
    "AND head_x_norm IS NOT NULL ORDER BY id\n",
    "\"\"\"\n",
    "\n",
    "df = pd.read_sql_query(query, conn)\n",
    "id_list = df['id'].tolist()\n",
    "print(id_list)\n",
    "\n",
    "from Python_scripts.Data_analysis.plot_single_trajectory import plot_single_trajectory\n",
    "from Python_scripts.Data_analysis.plot_single_trajectory_from_csv import plot_single_trajectory_from_csv\n",
    "\n",
    "import matplotlib.pyplot as plt\n",
    "\n",
    "dir_to_search = Path.home() / \"Downloads\" / \"data\" / \"LightOnlyWhite\" / \"DlcDataPytorchFiltered\"\n",
    "\n",
    "for id in id_list:\n",
    "    fig, axs = plt.subplots(1, 2, figsize=(10, 5))\n",
    "    plot_single_trajectory_from_csv(\n",
    "        conn, trial_id=id, base_data_dir=dir_to_search, \n",
    "        bodyparts=['Head'], style='scatter', color_by_time=True,\n",
    "        likelihood_threshold=0.5, ax=axs[0])\n",
    "\n",
    "    plot_single_trajectory(conn, id, bodypart_x='head_x_norm', bodypart_y='head_y_norm', \n",
    "                           label=f\"{id}\", style='line', color_by_time=True, ax=axs[1])\n",
    "    \n",
    "    plt.tight_layout()\n",
    "    plt.show()\n"
   ]
  },
  {
   "cell_type": "code",
   "execution_count": null,
   "id": "11",
   "metadata": {},
   "outputs": [],
   "source": [
    "print(len(id_list))\n"
   ]
  },
  {
   "cell_type": "code",
   "execution_count": null,
   "id": "12",
   "metadata": {},
   "outputs": [],
   "source": [
    "query = \"SELECT id FROM dlc_table WHERE task='ToyLight' AND health='ghrelin' AND head_x_norm IS NOT NULL ORDER BY id\"\n",
    "\n",
    "df = pd.read_sql_query(query, conn)\n",
    "id_list = df['id'].tolist()\n",
    "# print(id_list)\n",
    "\n",
    "\n",
    "from Python_scripts.Data_analysis.plot_single_trajectory import plot_single_trajectory\n",
    "from Python_scripts.Data_analysis.plot_single_trajectory_from_csv import plot_single_trajectory_from_csv\n",
    "\n",
    "import matplotlib.pyplot as plt\n",
    "\n",
    "for id in id_list:\n",
    "    fig, axs = plt.subplots(1, 2, figsize=(10, 5))\n",
    "    plot_single_trajectory_from_csv(\n",
    "        conn, trial_id=id, bodyparts=['Head'], style='scatter', color_by_time=False,\n",
    "        likelihood_threshold=0.5, ax=axs[0])\n",
    "\n",
    "    plot_single_trajectory(conn, id, bodypart_x='head_x_norm', bodypart_y='head_y_norm', \n",
    "                           label=f\"{id}\", style='line', color_by_time=True, ax=axs[1])\n",
    "    \n",
    "    plt.tight_layout()\n",
    "    plt.show()\n"
   ]
  },
  {
   "cell_type": "markdown",
   "id": "13",
   "metadata": {},
   "source": [
    "## Compare DLC vs Optogen"
   ]
  },
  {
   "cell_type": "code",
   "execution_count": null,
   "id": "14",
   "metadata": {},
   "outputs": [],
   "source": [
    "import importlib\n",
    "import Python_scripts.Data_analysis.plot_single_trajectory\n",
    "import Python_scripts.Data_analysis.plot_single_trajectory_optogen\n",
    "\n",
    "importlib.reload(Python_scripts.Data_analysis.plot_single_trajectory)\n",
    "importlib.reload(Python_scripts.Data_analysis.plot_single_trajectory_optogen)\n",
    "\n",
    "from Python_scripts.Data_analysis.plot_single_trajectory import plot_single_trajectory\n",
    "from Python_scripts.Data_analysis.plot_single_trajectory_optogen import plot_single_trajectory_optogen\n",
    "\n",
    "query = \"SELECT id FROM dlc_table WHERE video_name LIKE '%FoodLight_9_10_24_Indigo_Y%'\"\n",
    "\n",
    "df = pd.read_sql_query(query, conn)\n",
    "id = df['id'][0]\n",
    "print(id)\n",
    "print(type(id))\n",
    "plot_single_trajectory(conn, id, max_points=500)\n",
    "plot_single_trajectory_optogen(conn, id, max_points=500)\n"
   ]
  },
  {
   "cell_type": "code",
   "execution_count": null,
   "id": "15",
   "metadata": {
    "jupyter": {
     "outputs_hidden": true
    }
   },
   "outputs": [],
   "source": [
    "import os\n",
    "import shutil\n",
    "from pathlib import Path\n",
    "\n",
    "# Source and destination directories\n",
    "src_dir = Path(\"/Users/atanugiri/Downloads/data/FoodLightWhite/DlcDataPytorch\")\n",
    "dst_dir = Path(\"/Users/atanugiri/Downloads/data/FoodLightWhite/DlcDataPytorchFiltered\")\n",
    "\n",
    "# Create destination directory if it doesn't exist\n",
    "dst_dir.mkdir(parents=True, exist_ok=True)\n",
    "\n",
    "# Process all .csv files\n",
    "for csv_file in src_dir.glob(\"*.csv\"):\n",
    "    base = csv_file.stem  # filename without .csv extension\n",
    "    new_name = f\"{base}_filtered.csv\"\n",
    "    dst_path = dst_dir / new_name\n",
    "\n",
    "    shutil.copy(csv_file, dst_path)\n",
    "    print(f\"Copied and renamed: {csv_file.name} -> {new_name}\")\n"
   ]
  },
  {
   "cell_type": "code",
   "execution_count": null,
   "id": "16",
   "metadata": {},
   "outputs": [],
   "source": []
  }
 ],
 "metadata": {
  "kernelspec": {
   "display_name": "Python 3 (ipykernel)",
   "language": "python",
   "name": "python3"
  },
  "language_info": {
   "codemirror_mode": {
    "name": "ipython",
    "version": 3
   },
   "file_extension": ".py",
   "mimetype": "text/x-python",
   "name": "python",
   "nbconvert_exporter": "python",
   "pygments_lexer": "ipython3",
   "version": "3.10.13"
  }
 },
 "nbformat": 4,
 "nbformat_minor": 5
}
