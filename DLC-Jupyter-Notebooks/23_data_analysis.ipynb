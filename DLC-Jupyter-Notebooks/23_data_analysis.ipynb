{
 "cells": [
  {
   "cell_type": "markdown",
   "id": "0",
   "metadata": {},
   "source": [
    "## Set path"
   ]
  },
  {
   "cell_type": "code",
   "execution_count": null,
   "id": "1",
   "metadata": {},
   "outputs": [],
   "source": [
    "import importlib\n",
    "import sys\n",
    "sys.path.append('../Python_scripts')"
   ]
  },
  {
   "cell_type": "markdown",
   "id": "2",
   "metadata": {},
   "source": [
    "## Distance"
   ]
  },
  {
   "cell_type": "code",
   "execution_count": null,
   "id": "3",
   "metadata": {},
   "outputs": [],
   "source": [
    "import importlib\n",
    "import master_bar_plot\n",
    "\n",
    "importlib.reload(master_bar_plot)\n",
    "from master_bar_plot import master_bar_plot"
   ]
  },
  {
   "cell_type": "code",
   "execution_count": null,
   "id": "4",
   "metadata": {},
   "outputs": [],
   "source": [
    "# from master_bar_plot import master_bar_plot\n",
    "master_bar_plot(\"food_only\", \"distance\", ylabel=\"Distance\")"
   ]
  },
  {
   "cell_type": "code",
   "execution_count": null,
   "id": "5",
   "metadata": {
    "jupyter": {
     "outputs_hidden": true
    }
   },
   "outputs": [],
   "source": [
    "master_bar_plot(\"food_only\", \"time_in_roi\", ylabel=\"time_in_roi\")\n",
    "master_bar_plot(\"light_only\", \"time_in_roi\", ylabel=\"time_in_roi\")\n",
    "master_bar_plot(\"toy_only\", \"time_in_roi\", ylabel=\"time_in_roi\")\n",
    "master_bar_plot(\"food_light\", \"time_in_roi\", ylabel=\"time_in_roi\")\n",
    "master_bar_plot(\"toy_light\", \"time_in_roi\", ylabel=\"time_in_roi\")"
   ]
  },
  {
   "cell_type": "code",
   "execution_count": null,
   "id": "6",
   "metadata": {},
   "outputs": [],
   "source": [
    "master_bar_plot(\"food_only\", \"stop_count\")\n",
    "master_bar_plot(\"light_only\", \"stop_count\")\n",
    "master_bar_plot(\"toy_only\", \"stop_count\")\n",
    "master_bar_plot(\"food_light\", \"stop_count\")\n",
    "master_bar_plot(\"toy_light\", \"stop_count\")"
   ]
  },
  {
   "cell_type": "code",
   "execution_count": null,
   "id": "7",
   "metadata": {},
   "outputs": [],
   "source": [
    "master_bar_plot(\"food_only\", \"acc_outliers\")\n",
    "master_bar_plot(\"light_only\", \"acc_outliers\")\n",
    "master_bar_plot(\"toy_only\", \"acc_outliers\")\n",
    "master_bar_plot(\"food_light\", \"acc_outliers\")\n",
    "master_bar_plot(\"toy_light\", \"acc_outliers\")"
   ]
  },
  {
   "cell_type": "code",
   "execution_count": null,
   "id": "8",
   "metadata": {},
   "outputs": [],
   "source": []
  }
 ],
 "metadata": {
  "kernelspec": {
   "display_name": "Python [conda env:.conda-DLC] *",
   "language": "python",
   "name": "conda-env-.conda-DLC-py"
  },
  "language_info": {
   "codemirror_mode": {
    "name": "ipython",
    "version": 3
   },
   "file_extension": ".py",
   "mimetype": "text/x-python",
   "name": "python",
   "nbconvert_exporter": "python",
   "pygments_lexer": "ipython3",
   "version": "3.8.20"
  }
 },
 "nbformat": 4,
 "nbformat_minor": 5
}
