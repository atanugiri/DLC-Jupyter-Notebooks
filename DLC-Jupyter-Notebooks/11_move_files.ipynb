{
 "cells": [
  {
   "cell_type": "markdown",
   "id": "0",
   "metadata": {},
   "source": [
    "# Move DLC generated csv files to another folder to add time stamp later.\n",
    "## <span style=\"color:red\"> Add functionality to move only files which are not already in 'Analyzed-videos-filtered' folder"
   ]
  },
  {
   "cell_type": "code",
   "execution_count": null,
   "id": "1",
   "metadata": {
    "jupyter": {
     "outputs_hidden": true
    }
   },
   "outputs": [],
   "source": [
    "import shutil\n",
    "from pathlib import Path\n",
    "\n",
    "# Define source and destination folders\n",
    "src = Path('C:/DeepLabCutProjects/DLC-Atanu-2024-12-25/Analyzed-videos-temp/')\n",
    "dst = Path('C:/DeepLabCutProjects/DLC-Atanu-2024-12-25/Analyzed-videos-filtered-temp/')\n",
    "dst.mkdir(parents=True, exist_ok=True)\n",
    "\n",
    "# Move all _filtered.csv and _filtered.h5 files\n",
    "for f in src.glob('*_filtered.*'):\n",
    "    shutil.move(f, dst / f.name)\n",
    "    print(f'Moved: {f.name} → {dst}')\n",
    "\n",
    "print(\"✅ All filtered files moved successfully!\")"
   ]
  },
  {
   "cell_type": "code",
   "execution_count": null,
   "id": "2",
   "metadata": {},
   "outputs": [],
   "source": []
  }
 ],
 "metadata": {
  "kernelspec": {
   "display_name": "Python 3 (ipykernel)",
   "language": "python",
   "name": "python3"
  },
  "language_info": {
   "codemirror_mode": {
    "name": "ipython",
    "version": 3
   },
   "file_extension": ".py",
   "mimetype": "text/x-python",
   "name": "python",
   "nbconvert_exporter": "python",
   "pygments_lexer": "ipython3",
   "version": "3.10.13"
  }
 },
 "nbformat": 4,
 "nbformat_minor": 5
}
