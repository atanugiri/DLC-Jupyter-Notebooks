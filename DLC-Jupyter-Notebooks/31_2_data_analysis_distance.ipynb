{
 "cells": [
  {
   "cell_type": "markdown",
   "id": "0",
   "metadata": {},
   "source": [
    "## Add project root"
   ]
  },
  {
   "cell_type": "code",
   "execution_count": null,
   "id": "1",
   "metadata": {},
   "outputs": [],
   "source": [
    "import sys\n",
    "from pathlib import Path\n",
    "import importlib\n",
    "\n",
    "# Add the parent of the *outer* DLC-Jupyter-Notebooks folder to sys.path\n",
    "project_root = Path().resolve().parents[0]  # This is /Users/atanugiri/Downloads/DLC-Jupyter-Notebooks\n",
    "print(project_root)\n",
    "sys.path.append(str(project_root))\n"
   ]
  },
  {
   "cell_type": "markdown",
   "id": "2",
   "metadata": {},
   "source": [
    "## Connect to db"
   ]
  },
  {
   "cell_type": "code",
   "execution_count": null,
   "id": "3",
   "metadata": {},
   "outputs": [],
   "source": [
    "import psycopg2\n",
    "import platform\n",
    "\n",
    "host = \"localhost\" if platform.system() == \"Windows\" else \"129.108.49.142\"\n",
    "conn = psycopg2.connect(\n",
    "    dbname=\"deeplabcut_db\", user=\"postgres\", \n",
    "    password=\"1234\", host=host, port=\"5432\")\n",
    "cursor = conn.cursor()\n"
   ]
  },
  {
   "cell_type": "markdown",
   "id": "4",
   "metadata": {},
   "source": [
    "## Fetch id list"
   ]
  },
  {
   "cell_type": "code",
   "execution_count": null,
   "id": "5",
   "metadata": {},
   "outputs": [],
   "source": [
    "import pandas as pd\n",
    "\n",
    "task = 'ToyLight'\n",
    "\n",
    "saline_q = f\"\"\"\n",
    "SELECT id FROM dlc_table\n",
    "WHERE task = '{task}' AND health = 'saline' AND head_x_norm IS NOT NULL AND trial_length>600\n",
    "ORDER BY id;\n",
    "\"\"\"\n",
    "df = pd.read_sql_query(saline_q, conn)\n",
    "saline_id = df['id'].to_list()\n",
    "# IDs to remove\n",
    "bad_saline_id = [363, 369, 431]\n",
    "# Filter them out\n",
    "saline_id = [i for i in saline_id if i not in bad_saline_id]\n",
    "\n",
    "ghrelin_q = f\"\"\"\n",
    "SELECT id FROM dlc_table\n",
    "WHERE task = '{task}' AND health = 'ghrelin' AND head_x_norm IS NOT NULL AND trial_length>600\n",
    "ORDER BY id;\n",
    "\"\"\"\n",
    "df = pd.read_sql_query(ghrelin_q, conn)\n",
    "ghrelin_id = df['id'].to_list()\n",
    "# IDs to remove\n",
    "bad_ghrelin_id = [368, 386, 401, 406, 426]\n",
    "# Filter them out\n",
    "ghrelin_id = [i for i in ghrelin_id if i not in bad_ghrelin_id]\n",
    "\n",
    "print(f\"{task} saline_id: {saline_id}\\n\")\n",
    "print(f\"{task} ghrelin_id: {ghrelin_id}\\n\")\n"
   ]
  },
  {
   "cell_type": "markdown",
   "id": "6",
   "metadata": {},
   "source": [
    "## Calculate distance"
   ]
  },
  {
   "cell_type": "code",
   "execution_count": null,
   "id": "7",
   "metadata": {},
   "outputs": [],
   "source": [
    "import importlib\n",
    "import Python_scripts.Feature_functions.motion_features\n",
    "import Python_scripts.Data_analysis.plot_groupwise_bar\n",
    "import Python_scripts.Data_analysis.compare_distributions\n",
    "\n",
    "\n",
    "importlib.reload(Python_scripts.Feature_functions.motion_features)\n",
    "importlib.reload(Python_scripts.Data_analysis.plot_groupwise_bar)\n",
    "importlib.reload(Python_scripts.Data_analysis.compare_distributions)\n",
    "\n",
    "from Python_scripts.Feature_functions.motion_features import (\n",
    "    compute_motion_features, batch_compute_motion_feature\n",
    ")\n",
    "from Python_scripts.Data_analysis.plot_groupwise_bar import plot_groupwise_bar\n",
    "from Python_scripts.Data_analysis.compare_distributions import compare_distributions\n"
   ]
  },
  {
   "cell_type": "code",
   "execution_count": null,
   "id": "8",
   "metadata": {},
   "outputs": [],
   "source": [
    "saline_d = batch_compute_motion_feature(conn, saline_id, feature='distance', time_limit=None)\n",
    "ghrelin_d = batch_compute_motion_feature(conn, ghrelin_id, feature='distance', time_limit=None)\n"
   ]
  },
  {
   "cell_type": "markdown",
   "id": "9",
   "metadata": {},
   "source": [
    "### Distribution of distance per frame"
   ]
  },
  {
   "cell_type": "code",
   "execution_count": null,
   "id": "10",
   "metadata": {},
   "outputs": [],
   "source": [
    "import numpy as np\n",
    "\n",
    "fig, ax = compare_distributions(\n",
    "    np.concatenate(saline_d),\n",
    "    np.concatenate(ghrelin_d),\n",
    "    labels=['Saline', 'Ghrelin'],\n",
    "    kind='cdf'\n",
    ")\n",
    "\n",
    "ax.set_xlim(0, 0.075)\n",
    "ax.set_title(f\"{task}_distance_distribution.pdf\")\n",
    "fig.savefig(f\"{task}_distance_distribution.pdf\", dpi=300, bbox_inches='tight')\n"
   ]
  },
  {
   "cell_type": "markdown",
   "id": "11",
   "metadata": {},
   "source": [
    "### Batch call with different max_time"
   ]
  },
  {
   "cell_type": "code",
   "execution_count": null,
   "id": "12",
   "metadata": {},
   "outputs": [],
   "source": [
    "import numpy as np\n",
    "import os\n",
    "from matplotlib.backends.backend_pdf import PdfPages\n",
    "import matplotlib.pyplot as plt\n",
    "\n",
    "pdf_path = f'{task}_distance_all_time.pdf'\n",
    "with PdfPages(pdf_path) as pdf:\n",
    "    for max_time in range(100, 1300, 100):\n",
    "        print(f\"[INFO] Analyzing max_time = {max_time} seconds\")\n",
    "        \n",
    "        saline_d = batch_compute_motion_feature(conn, saline_id, feature='distance', time_limit=max_time)\n",
    "        ghrelin_d = batch_compute_motion_feature(conn, ghrelin_id, feature='distance', time_limit=max_time)\n",
    "\n",
    "        # 1. Total distance per trial\n",
    "        saline_totals = [d.sum() for d in saline_d]\n",
    "        ghrelin_totals = [d.sum() for d in ghrelin_d]\n",
    "        \n",
    "        # 2. Create DataFrame for plotting\n",
    "        df = pd.DataFrame({\n",
    "            'group': ['Saline'] * len(saline_totals) + ['Ghrelin'] * len(ghrelin_totals),\n",
    "            'total_distance': saline_totals + ghrelin_totals\n",
    "        })\n",
    "        # Plot\n",
    "        fig, ax = plot_groupwise_bar(df, y='total_distance', ylabel='Distance')\n",
    "\n",
    "        ax.set_title(f\"{task} | max_time = {max_time}s\")\n",
    "        pdf.savefig(fig)\n",
    "        plt.close(fig)  # Prevents inline display in notebooks\n",
    "\n",
    "print(f\"[DONE] All plots saved to: {pdf_path}\")\n"
   ]
  },
  {
   "cell_type": "markdown",
   "id": "13",
   "metadata": {},
   "source": [
    "### Comparison of total distance traveled"
   ]
  },
  {
   "cell_type": "code",
   "execution_count": null,
   "id": "14",
   "metadata": {},
   "outputs": [],
   "source": [
    "import pandas as pd\n",
    "\n",
    "# 1. Total distance per trial\n",
    "saline_totals = [d.sum() for d in saline_d]\n",
    "ghrelin_totals = [d.sum() for d in ghrelin_d]\n",
    "\n",
    "# 2. Create DataFrame for plotting\n",
    "df = pd.DataFrame({\n",
    "    'group': ['Saline'] * len(saline_totals) + ['Ghrelin'] * len(ghrelin_totals),\n",
    "    'total_distance': saline_totals + ghrelin_totals\n",
    "})\n",
    "\n",
    "# 3. Plot\n",
    "fig, ax = plot_groupwise_bar(\n",
    "    df,\n",
    "    y='total_distance',\n",
    "    title='Total Distance Traveled by Group',\n",
    "    ylabel='Total Distance (a.u.)',\n",
    "    plot_type='box',\n",
    "    order=['Saline', 'Ghrelin'],\n",
    "    show_stats=True\n",
    ")\n"
   ]
  },
  {
   "cell_type": "code",
   "execution_count": null,
   "id": "15",
   "metadata": {},
   "outputs": [],
   "source": [
    "import pandas as pd\n",
    "\n",
    "q = \"\"\"SELECT id, genotype, task, health, num_frames, frame_rate, trial_length, date \n",
    "FROM dlc_table WHERE genotype='white' ORDER BY health\n",
    "\"\"\"\n",
    "df_col = pd.read_sql_query(q, conn)\n",
    "print(df_col)\n"
   ]
  },
  {
   "cell_type": "code",
   "execution_count": null,
   "id": "16",
   "metadata": {},
   "outputs": [],
   "source": []
  }
 ],
 "metadata": {
  "kernelspec": {
   "display_name": "Python 3 (ipykernel)",
   "language": "python",
   "name": "python3"
  },
  "language_info": {
   "codemirror_mode": {
    "name": "ipython",
    "version": 3
   },
   "file_extension": ".py",
   "mimetype": "text/x-python",
   "name": "python",
   "nbconvert_exporter": "python",
   "pygments_lexer": "ipython3",
   "version": "3.10.13"
  }
 },
 "nbformat": 4,
 "nbformat_minor": 5
}
