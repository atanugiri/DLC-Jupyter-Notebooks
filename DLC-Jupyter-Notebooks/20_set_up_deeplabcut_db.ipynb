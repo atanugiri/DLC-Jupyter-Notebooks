{
 "cells": [
  {
   "cell_type": "markdown",
   "id": "0",
   "metadata": {},
   "source": [
    "# Set up deeplabcut database table"
   ]
  },
  {
   "cell_type": "markdown",
   "id": "1",
   "metadata": {},
   "source": [
    "## Imports"
   ]
  },
  {
   "cell_type": "code",
   "execution_count": null,
   "id": "2",
   "metadata": {
    "editable": true,
    "slideshow": {
     "slide_type": ""
    },
    "tags": []
   },
   "outputs": [],
   "source": [
    "import psycopg2\n",
    "import os\n",
    "import pandas as pd"
   ]
  },
  {
   "cell_type": "markdown",
   "id": "3",
   "metadata": {},
   "source": [
    "## Connect to database"
   ]
  },
  {
   "cell_type": "code",
   "execution_count": null,
   "id": "4",
   "metadata": {
    "editable": true,
    "slideshow": {
     "slide_type": ""
    },
    "tags": []
   },
   "outputs": [],
   "source": [
    "DB_NAME = \"deeplabcut_db\"\n",
    "DB_USER = \"postgres\"\n",
    "DB_PASSWORD = \"1234\"\n",
    "DB_HOST = \"localhost\"  # or your IP\n",
    "DB_PORT = \"5432\"\n",
    "\n",
    "# Connect to PostgreSQL\n",
    "conn = psycopg2.connect(\n",
    "    dbname=DB_NAME,\n",
    "    user=DB_USER,\n",
    "    password=DB_PASSWORD,\n",
    "    host=DB_HOST,\n",
    "    port=DB_PORT\n",
    ")\n",
    "\n",
    "cursor = conn.cursor()"
   ]
  },
  {
   "cell_type": "markdown",
   "id": "5",
   "metadata": {},
   "source": [
    "## To delete table"
   ]
  },
  {
   "cell_type": "code",
   "execution_count": null,
   "id": "6",
   "metadata": {},
   "outputs": [],
   "source": [
    "cursor.execute(\"DROP TABLE IF EXISTS dlc_files;\")\n",
    "conn.commit()"
   ]
  },
  {
   "cell_type": "markdown",
   "id": "7",
   "metadata": {},
   "source": [
    "## Create table"
   ]
  },
  {
   "cell_type": "code",
   "execution_count": null,
   "id": "8",
   "metadata": {
    "editable": true,
    "slideshow": {
     "slide_type": ""
    },
    "tags": []
   },
   "outputs": [],
   "source": [
    "# Create table (if it doesn't exist)\n",
    "cursor.execute(\"\"\"\n",
    "    CREATE TABLE IF NOT EXISTS dlc_files (\n",
    "        id SERIAL PRIMARY KEY,\n",
    "        coord_path TEXT NOT NULL\n",
    "    )\n",
    "\"\"\")\n",
    "\n",
    "conn.commit()\n",
    "print(\"Table created (or already exists).\")"
   ]
  },
  {
   "cell_type": "markdown",
   "id": "9",
   "metadata": {},
   "source": [
    "## Add other features to the table"
   ]
  },
  {
   "cell_type": "code",
   "execution_count": null,
   "id": "10",
   "metadata": {},
   "outputs": [],
   "source": [
    "# Add new columns to the table (if they don't already exist)\n",
    "alter_commands = [\n",
    "    \"ALTER TABLE dlc_files ADD COLUMN IF NOT EXISTS name TEXT\",\n",
    "    \"ALTER TABLE dlc_files ADD COLUMN IF NOT EXISTS maze TEXT\",\n",
    "    \"ALTER TABLE dlc_files ADD COLUMN IF NOT EXISTS gender TEXT\",\n",
    "    \"ALTER TABLE dlc_files ADD COLUMN IF NOT EXISTS genotype TEXT\",\n",
    "    \"ALTER TABLE dlc_files ADD COLUMN IF NOT EXISTS health TEXT\",\n",
    "    \"ALTER TABLE dlc_files ADD COLUMN IF NOT EXISTS task TEXT\",\n",
    "    \"ALTER TABLE dlc_files ADD COLUMN IF NOT EXISTS date DATE\",\n",
    "    \"ALTER TABLE dlc_files ADD COLUMN IF NOT EXISTS normalized_path TEXT\"\n",
    "]\n",
    "\n",
    "for command in alter_commands:\n",
    "    cursor.execute(command)\n",
    "\n",
    "conn.commit()\n",
    "print(\"Columns added successfully (if they didn't already exist).\")"
   ]
  },
  {
   "cell_type": "markdown",
   "id": "11",
   "metadata": {},
   "source": [
    "## Show first few columns of the dlc_files table"
   ]
  },
  {
   "cell_type": "code",
   "execution_count": null,
   "id": "12",
   "metadata": {
    "editable": true,
    "slideshow": {
     "slide_type": ""
    },
    "tags": []
   },
   "outputs": [],
   "source": [
    "# Run SQL and load results into DataFrame\n",
    "df = pd.read_sql_query(\"SELECT * FROM dlc_files\", conn)\n",
    "\n",
    "# Show it\n",
    "# pd.set_option('display.max_colwidth', None)\n",
    "print(df.head())"
   ]
  },
  {
   "cell_type": "markdown",
   "id": "13",
   "metadata": {},
   "source": [
    "## Close connection"
   ]
  },
  {
   "cell_type": "code",
   "execution_count": null,
   "id": "14",
   "metadata": {},
   "outputs": [],
   "source": [
    "cursor.close()\n",
    "conn.close()"
   ]
  },
  {
   "cell_type": "code",
   "execution_count": null,
   "id": "15",
   "metadata": {},
   "outputs": [],
   "source": []
  }
 ],
 "metadata": {
  "kernelspec": {
   "display_name": "Python 3 (ipykernel)",
   "language": "python",
   "name": "python3"
  },
  "language_info": {
   "codemirror_mode": {
    "name": "ipython",
    "version": 3
   },
   "file_extension": ".py",
   "mimetype": "text/x-python",
   "name": "python",
   "nbconvert_exporter": "python",
   "pygments_lexer": "ipython3",
   "version": "3.10.13"
  }
 },
 "nbformat": 4,
 "nbformat_minor": 5
}
