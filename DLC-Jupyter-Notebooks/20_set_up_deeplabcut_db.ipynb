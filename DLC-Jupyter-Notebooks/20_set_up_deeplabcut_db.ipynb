{
 "cells": [
  {
   "cell_type": "markdown",
   "id": "0",
   "metadata": {},
   "source": [
    "# Set up deeplabcut database table"
   ]
  },
  {
   "cell_type": "markdown",
   "id": "1",
   "metadata": {},
   "source": [
    "## Connect to database"
   ]
  },
  {
   "cell_type": "code",
   "execution_count": null,
   "id": "2",
   "metadata": {
    "editable": true,
    "slideshow": {
     "slide_type": ""
    },
    "tags": []
   },
   "outputs": [],
   "source": [
    "import os\n",
    "import psycopg2\n",
    "import pandas as pd\n",
    "import platform\n",
    "\n",
    "host = \"localhost\" if platform.system() == \"Windows\" else \"129.108.49.30\"\n",
    "\n",
    "conn = psycopg2.connect(dbname=\"deeplabcut_db\", user=\"postgres\", password=\"1234\", host=host, port=\"5432\")\n",
    "\n",
    "cursor = conn.cursor()\n"
   ]
  },
  {
   "cell_type": "markdown",
   "id": "3",
   "metadata": {},
   "source": [
    "## To delete table"
   ]
  },
  {
   "cell_type": "code",
   "execution_count": null,
   "id": "4",
   "metadata": {},
   "outputs": [],
   "source": [
    "cursor.execute(\"DROP TABLE IF EXISTS dlc_files;\")\n",
    "conn.commit()"
   ]
  },
  {
   "cell_type": "markdown",
   "id": "5",
   "metadata": {},
   "source": [
    "## Create table"
   ]
  },
  {
   "cell_type": "code",
   "execution_count": null,
   "id": "6",
   "metadata": {
    "editable": true,
    "slideshow": {
     "slide_type": ""
    },
    "tags": []
   },
   "outputs": [],
   "source": [
    "cursor.execute(\"CREATE TABLE IF NOT EXISTS dlc_table (id SERIAL PRIMARY KEY);\")\n",
    "conn.commit()\n"
   ]
  },
  {
   "cell_type": "markdown",
   "id": "7",
   "metadata": {},
   "source": [
    "## Add other features to the table"
   ]
  },
  {
   "cell_type": "code",
   "execution_count": null,
   "id": "8",
   "metadata": {},
   "outputs": [],
   "source": [
    "# Add new columns to the table (if they don't already exist)\n",
    "alter_commands = [\n",
    "    \"ALTER TABLE dlc_table ADD COLUMN IF NOT EXISTS video_name TEXT\",\n",
    "    \"ALTER TABLE dlc_table ADD COLUMN IF NOT EXISTS num_frames INTEGER\",\n",
    "    \"ALTER TABLE dlc_table ADD COLUMN IF NOT EXISTS frame_rate FLOAT\",\n",
    "    \"ALTER TABLE dlc_table ADD COLUMN IF NOT EXISTS genotype TEXT\",\n",
    "    \"ALTER TABLE dlc_table ADD COLUMN IF NOT EXISTS task TEXT\",\n",
    "    \"ALTER TABLE dlc_table ADD COLUMN IF NOT EXISTS health TEXT\",\n",
    "    \"ALTER TABLE dlc_table ADD COLUMN IF NOT EXISTS name TEXT\",\n",
    "    \"ALTER TABLE dlc_table ADD COLUMN IF NOT EXISTS date TIMESTAMP\"\n",
    "]\n",
    "\n",
    "for command in alter_commands:\n",
    "    cursor.execute(command)\n",
    "\n",
    "conn.commit()\n"
   ]
  },
  {
   "cell_type": "markdown",
   "id": "9",
   "metadata": {},
   "source": [
    "## Show first few columns of the dlc_files table"
   ]
  },
  {
   "cell_type": "code",
   "execution_count": 4,
   "id": "10",
   "metadata": {
    "editable": true,
    "slideshow": {
     "slide_type": ""
    },
    "tags": []
   },
   "outputs": [
    {
     "name": "stdout",
     "output_type": "stream",
     "text": [
      "   id                      video_name num_frames frame_rate genotype  task  \\\n",
      "0   1  FoodLight_9_10_24_Indigo_Y.avi       None       None     None  None   \n",
      "1   2   FoodLight_9_10_24_Lilac_Y.avi       None       None     None  None   \n",
      "2   3   FoodLight_9_10_24_Pinky_P.avi       None       None     None  None   \n",
      "3   4    FoodLight_9_10_24_Sage_P.avi       None       None     None  None   \n",
      "4   5     FoodLight_9_10_24_Sky_P.avi       None       None     None  None   \n",
      "\n",
      "  health  name  date  \n",
      "0   None  None  None  \n",
      "1   None  None  None  \n",
      "2   None  None  None  \n",
      "3   None  None  None  \n",
      "4   None  None  None  \n"
     ]
    },
    {
     "name": "stderr",
     "output_type": "stream",
     "text": [
      "C:\\Users\\FriedmanLab Optogen\\AppData\\Local\\Temp\\ipykernel_16640\\1735405013.py:2: UserWarning: pandas only supports SQLAlchemy connectable (engine/connection) or database string URI or sqlite3 DBAPI2 connection. Other DBAPI2 objects are not tested. Please consider using SQLAlchemy.\n",
      "  df = pd.read_sql_query(\"SELECT * FROM dlc_table\", conn)\n"
     ]
    }
   ],
   "source": [
    "# Run SQL and load results into DataFrame\n",
    "df = pd.read_sql_query(\"SELECT * FROM dlc_table\", conn)\n",
    "\n",
    "# Show it\n",
    "# pd.set_option('display.max_colwidth', None)\n",
    "print(df.head())"
   ]
  },
  {
   "cell_type": "markdown",
   "id": "11",
   "metadata": {},
   "source": [
    "## Close connection"
   ]
  },
  {
   "cell_type": "code",
   "execution_count": null,
   "id": "12",
   "metadata": {},
   "outputs": [],
   "source": [
    "cursor.close()\n",
    "conn.close()"
   ]
  }
 ],
 "metadata": {
  "kernelspec": {
   "display_name": "Python [conda env:.conda-DLC] *",
   "language": "python",
   "name": "conda-env-.conda-DLC-py"
  },
  "language_info": {
   "codemirror_mode": {
    "name": "ipython",
    "version": 3
   },
   "file_extension": ".py",
   "mimetype": "text/x-python",
   "name": "python",
   "nbconvert_exporter": "python",
   "pygments_lexer": "ipython3",
   "version": "3.8.20"
  }
 },
 "nbformat": 4,
 "nbformat_minor": 5
}
