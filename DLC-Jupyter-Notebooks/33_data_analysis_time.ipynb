{
 "cells": [
  {
   "cell_type": "markdown",
   "id": "0",
   "metadata": {},
   "source": [
    "## Set system path"
   ]
  },
  {
   "cell_type": "code",
   "execution_count": null,
   "id": "1",
   "metadata": {},
   "outputs": [],
   "source": [
    "import sys\n",
    "from pathlib import Path\n",
    "import importlib\n",
    "\n",
    "# Add the parent of the *outer* DLC-Jupyter-Notebooks folder to sys.path\n",
    "project_root = Path().resolve().parents[0]  # This is /Users/atanugiri/Downloads/DLC-Jupyter-Notebooks\n",
    "sys.path.append(str(project_root))\n"
   ]
  },
  {
   "cell_type": "markdown",
   "id": "2",
   "metadata": {},
   "source": [
    "## Connect to db"
   ]
  },
  {
   "cell_type": "code",
   "execution_count": null,
   "id": "3",
   "metadata": {},
   "outputs": [],
   "source": [
    "import os\n",
    "import psycopg2\n",
    "import pandas as pd\n",
    "import platform\n",
    "\n",
    "host = \"localhost\" if platform.system() == \"Windows\" else \"129.108.49.30\"\n",
    "conn = psycopg2.connect(dbname=\"deeplabcut_db\", user=\"postgres\", password=\"1234\", host=host, port=\"5432\")\n",
    "cursor = conn.cursor()\n"
   ]
  },
  {
   "cell_type": "markdown",
   "id": "4",
   "metadata": {},
   "source": [
    "## Extract IDs"
   ]
  },
  {
   "cell_type": "code",
   "execution_count": null,
   "id": "5",
   "metadata": {
    "jupyter": {
     "outputs_hidden": true
    }
   },
   "outputs": [],
   "source": [
    "FoodOnly_saline_q = \"SELECT id FROM dlc_table WHERE task='FoodOnly' AND health='saline' AND trial_length>1200;\"\n",
    "df = pd.read_sql_query(FoodOnly_saline_q, conn)\n",
    "FoodOnly_saline_id = df['id'].to_list()\n",
    "\n",
    "FoodOnly_ghrelin_q = \"SELECT id FROM dlc_table WHERE task='FoodOnly' AND health='ghrelin' AND trial_length>1200;\"\n",
    "df = pd.read_sql_query(FoodOnly_ghrelin_q, conn)\n",
    "FoodOnly_ghrelin_id = df['id'].to_list()\n",
    "\n",
    "\n",
    "LightOnly_saline_q = \"SELECT id FROM dlc_table WHERE task='LightOnly' AND health='saline' AND trial_length>1200;\"\n",
    "df = pd.read_sql_query(LightOnly_saline_q, conn)\n",
    "LightOnly_saline_id = df['id'].to_list()\n",
    "\n",
    "LightOnly_ghrelin_q = \"SELECT id FROM dlc_table WHERE task='LightOnly' AND health='ghrelin' AND trial_length>1200;\"\n",
    "df = pd.read_sql_query(LightOnly_ghrelin_q, conn)\n",
    "LightOnly_ghrelin_id = df['id'].to_list()\n",
    "\n",
    "\n",
    "ToyOnly_saline_q = \"SELECT id FROM dlc_table WHERE task='ToyOnly' AND health='saline' AND trial_length>1200;\"\n",
    "df = pd.read_sql_query(ToyOnly_saline_q, conn)\n",
    "ToyOnly_saline_id = df['id'].to_list()\n",
    "\n",
    "ToyOnly_ghrelin_q = \"SELECT id FROM dlc_table WHERE task='ToyOnly' AND health='ghrelin' AND trial_length>1200;\"\n",
    "df = pd.read_sql_query(ToyOnly_ghrelin_q, conn)\n",
    "ToyOnly_ghrelin_id = df['id'].to_list()\n",
    "\n",
    "\n",
    "ToyLight_saline_q = \"SELECT id FROM dlc_table WHERE task='ToyLight' AND health='saline' AND trial_length>1200;\"\n",
    "df = pd.read_sql_query(ToyLight_saline_q, conn)\n",
    "ToyLight_saline_id = df['id'].to_list()\n",
    "\n",
    "ToyLight_ghrelin_q = \"SELECT id FROM dlc_table WHERE task='ToyLight' AND health='ghrelin' AND trial_length>1200;\"\n",
    "df = pd.read_sql_query(ToyLight_ghrelin_q, conn)\n",
    "ToyLight_ghrelin_id = df['id'].to_list()"
   ]
  },
  {
   "cell_type": "markdown",
   "id": "6",
   "metadata": {},
   "source": [
    "## Time in each corner"
   ]
  },
  {
   "cell_type": "code",
   "execution_count": null,
   "id": "7",
   "metadata": {},
   "outputs": [],
   "source": [
    "import importlib\n",
    "import Python_scripts.Feature_functions.compute_time_in_maze_regions\n",
    "import Python_scripts.Feature_functions.batch_time_in_maze_regions\n",
    "import Python_scripts.Data_analysis.plot_groupwise_bar\n",
    "\n",
    "importlib.reload(Python_scripts.Feature_functions.compute_time_in_maze_regions)\n",
    "importlib.reload(Python_scripts.Feature_functions.batch_time_in_maze_regions)\n",
    "importlib.reload(Python_scripts.Data_analysis.plot_groupwise_bar)\n",
    "\n",
    "from Python_scripts.Feature_functions.compute_time_in_maze_regions import compute_time_in_maze_regions\n",
    "from Python_scripts.Feature_functions.batch_time_in_maze_regions import batch_time_in_maze_regions\n",
    "from Python_scripts.Data_analysis.plot_groupwise_bar import plot_groupwise_bar\n"
   ]
  },
  {
   "cell_type": "code",
   "execution_count": null,
   "id": "8",
   "metadata": {},
   "outputs": [],
   "source": [
    "time_spent = compute_time_in_maze_regions(\n",
    "    conn, 49, radius=0.35, bodypart_x='head_x_norm', bodypart_y='head_y_norm', plot_maze=True)"
   ]
  },
  {
   "cell_type": "code",
   "execution_count": null,
   "id": "9",
   "metadata": {},
   "outputs": [],
   "source": [
    "df_FO_sal_radius_035 = batch_time_in_maze_regions(conn, FoodOnly_saline_id, radius=0.35)\n",
    "df_FO_ghr_radius_035 = batch_time_in_maze_regions(conn, FoodOnly_ghrelin_id, radius=0.35)\n",
    "\n",
    "# Add group label to each DataFrame\n",
    "df_FO_sal_radius_035['group'] = 'Saline'\n",
    "df_FO_ghr_radius_035['group'] = 'Ghrelin'\n",
    "\n",
    "# Combine into a single DataFrame\n",
    "df_total = pd.concat([df_FO_sal_radius_035, df_FO_ghr_radius_035], ignore_index=True)\n",
    "\n",
    "print(df_total.head(2))\n"
   ]
  },
  {
   "cell_type": "code",
   "execution_count": null,
   "id": "10",
   "metadata": {},
   "outputs": [],
   "source": [
    "# Plot total time in all corners\n",
    "plot_groupwise_bar(df_total, y='corner_UL', title='corner_UL', ylabel='Time (s)')\n",
    "plot_groupwise_bar(df_total, y='corner_UR', title='corner_UR', ylabel='Time (s)')\n",
    "plot_groupwise_bar(df_total, y='corner_LL', title='corner_LL', ylabel='Time (s)')\n",
    "plot_groupwise_bar(df_total, y='corner_LR', title='corner_LR', ylabel='Time (s)')\n",
    "plot_groupwise_bar(df_total, y='center', title='center', ylabel='Time (s)')\n",
    "plot_groupwise_bar(df_total, y='total_corners', title='total_corners', ylabel='Time (s)')\n"
   ]
  },
  {
   "cell_type": "code",
   "execution_count": null,
   "id": "11",
   "metadata": {},
   "outputs": [],
   "source": []
  }
 ],
 "metadata": {
  "kernelspec": {
   "display_name": "Python 3 (ipykernel)",
   "language": "python",
   "name": "python3"
  },
  "language_info": {
   "codemirror_mode": {
    "name": "ipython",
    "version": 3
   },
   "file_extension": ".py",
   "mimetype": "text/x-python",
   "name": "python",
   "nbconvert_exporter": "python",
   "pygments_lexer": "ipython3",
   "version": "3.10.13"
  }
 },
 "nbformat": 4,
 "nbformat_minor": 5
}
