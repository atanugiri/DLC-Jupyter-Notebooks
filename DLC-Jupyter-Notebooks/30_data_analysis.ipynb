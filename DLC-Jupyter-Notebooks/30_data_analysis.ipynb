{
 "cells": [
  {
   "cell_type": "markdown",
   "id": "0",
   "metadata": {},
   "source": [
    "## Set system path"
   ]
  },
  {
   "cell_type": "code",
   "execution_count": null,
   "id": "1",
   "metadata": {},
   "outputs": [],
   "source": [
    "import sys\n",
    "from pathlib import Path\n",
    "import importlib\n",
    "\n",
    "# Add the parent of the *outer* DLC-Jupyter-Notebooks folder to sys.path\n",
    "project_root = Path().resolve().parents[0]  # This is /Users/atanugiri/Downloads/DLC-Jupyter-Notebooks\n",
    "sys.path.append(str(project_root))\n"
   ]
  },
  {
   "cell_type": "markdown",
   "id": "2",
   "metadata": {},
   "source": [
    "## Connect to db"
   ]
  },
  {
   "cell_type": "code",
   "execution_count": null,
   "id": "3",
   "metadata": {},
   "outputs": [],
   "source": [
    "import os\n",
    "import psycopg2\n",
    "import pandas as pd\n",
    "import platform\n",
    "\n",
    "host = \"localhost\" if platform.system() == \"Windows\" else \"129.108.49.30\"\n",
    "conn = psycopg2.connect(dbname=\"deeplabcut_db\", user=\"postgres\", password=\"1234\", host=host, port=\"5432\")\n",
    "cursor = conn.cursor()\n"
   ]
  },
  {
   "cell_type": "code",
   "execution_count": null,
   "id": "4",
   "metadata": {},
   "outputs": [],
   "source": [
    "query = \"SELECT DISTINCT(task) FROM dlc_table;\"\n",
    "df = pd.read_sql_query(query, conn)\n",
    "\n",
    "print(df)"
   ]
  },
  {
   "cell_type": "markdown",
   "id": "5",
   "metadata": {},
   "source": [
    "## Import plot_feature_barplot function "
   ]
  },
  {
   "cell_type": "code",
   "execution_count": null,
   "id": "6",
   "metadata": {},
   "outputs": [],
   "source": [
    "import Python_scripts.Data_analysis.plot_feature_barplot\n",
    "import Python_scripts.Data_analysis.plot_feature_histogram_and_boxplot\n",
    "\n",
    "importlib.reload(Python_scripts.Data_analysis.plot_feature_barplot)\n",
    "importlib.reload(Python_scripts.Data_analysis.plot_feature_histogram_and_boxplot)\n",
    "\n",
    "from Python_scripts.Data_analysis.plot_feature_barplot import plot_feature_barplot\n",
    "from Python_scripts.Data_analysis.plot_feature_histogram_and_boxplot import plot_feature_histogram_and_boxplot\n"
   ]
  },
  {
   "cell_type": "markdown",
   "id": "7",
   "metadata": {},
   "source": [
    "## Feature barplot"
   ]
  },
  {
   "cell_type": "code",
   "execution_count": null,
   "id": "8",
   "metadata": {
    "jupyter": {
     "outputs_hidden": true
    }
   },
   "outputs": [],
   "source": [
    "import matplotlib.pyplot as plt\n",
    "\n",
    "FoodOnly_saline_q = \"SELECT id FROM dlc_table WHERE task='FoodOnly' AND health='saline' AND trial_length>1200;\"\n",
    "df = pd.read_sql_query(FoodOnly_saline_q, conn)\n",
    "FoodOnly_saline_id = df['id'].to_list()\n",
    "\n",
    "FoodOnly_ghrelin_q = \"SELECT id FROM dlc_table WHERE task='FoodOnly' AND health='ghrelin' AND trial_length>1200;\"\n",
    "df = pd.read_sql_query(FoodOnly_ghrelin_q, conn)\n",
    "FoodOnly_ghrelin_id = df['id'].to_list()\n",
    "\n",
    "ax = plot_feature_barplot(conn, FoodOnly_saline_id, FoodOnly_ghrelin_id, feature='mean_curv', \n",
    "                     group_labels=[\"Saline\", \"Ghrelin\"])\n",
    "ax.set_title('Food Only')\n",
    "plt.show()\n"
   ]
  },
  {
   "cell_type": "code",
   "execution_count": null,
   "id": "9",
   "metadata": {
    "jupyter": {
     "outputs_hidden": true
    }
   },
   "outputs": [],
   "source": [
    "LightOnly_saline_q = \"SELECT id FROM dlc_table WHERE task='LightOnly' AND health='saline' AND trial_length>1200;\"\n",
    "df = pd.read_sql_query(LightOnly_saline_q, conn)\n",
    "LightOnly_saline_id = df['id'].to_list()\n",
    "\n",
    "LightOnly_ghrelin_q = \"SELECT id FROM dlc_table WHERE task='LightOnly' AND health='ghrelin' AND trial_length>1200;\"\n",
    "df = pd.read_sql_query(LightOnly_ghrelin_q, conn)\n",
    "LightOnly_ghrelin_id = df['id'].to_list()\n",
    "\n",
    "ax = plot_feature_barplot(conn, LightOnly_saline_id, LightOnly_ghrelin_id, feature='mean_curv', \n",
    "                     group_labels=[\"Saline\", \"Ghrelin\"])\n",
    "ax.set_title('Light Only')\n",
    "plt.show()\n"
   ]
  },
  {
   "cell_type": "code",
   "execution_count": null,
   "id": "10",
   "metadata": {
    "jupyter": {
     "outputs_hidden": true
    }
   },
   "outputs": [],
   "source": [
    "ToyOnly_saline_q = \"SELECT id FROM dlc_table WHERE task='ToyOnly' AND health='saline' AND trial_length>1200;\"\n",
    "df = pd.read_sql_query(ToyOnly_saline_q, conn)\n",
    "ToyOnly_saline_id = df['id'].to_list()\n",
    "\n",
    "ToyOnly_ghrelin_q = \"SELECT id FROM dlc_table WHERE task='ToyOnly' AND health='ghrelin' AND trial_length>1200;\"\n",
    "df = pd.read_sql_query(ToyOnly_ghrelin_q, conn)\n",
    "ToyOnly_ghrelin_id = df['id'].to_list()\n",
    "\n",
    "ax = plot_feature_barplot(conn, ToyOnly_saline_id, ToyOnly_ghrelin_id, feature='mean_curv', \n",
    "                     group_labels=[\"Saline\", \"Ghrelin\"])\n",
    "ax.set_title('Toy Only')\n",
    "plt.show()\n"
   ]
  },
  {
   "cell_type": "code",
   "execution_count": null,
   "id": "11",
   "metadata": {},
   "outputs": [],
   "source": [
    "ToyLight_saline_q = \"SELECT id FROM dlc_table WHERE task='ToyLight' AND health='saline' AND trial_length>1200;\"\n",
    "df = pd.read_sql_query(ToyLight_saline_q, conn)\n",
    "ToyLight_saline_id = df['id'].to_list()\n",
    "\n",
    "ToyLight_ghrelin_q = \"SELECT id FROM dlc_table WHERE task='ToyLight' AND health='ghrelin' AND trial_length>1200;\"\n",
    "df = pd.read_sql_query(ToyLight_ghrelin_q, conn)\n",
    "ToyLight_ghrelin_id = df['id'].to_list()\n",
    "\n",
    "ax = plot_feature_barplot(conn, ToyLight_saline_id, ToyLight_ghrelin_id, feature='mean_curv', \n",
    "                     group_labels=[\"Saline\", \"Ghrelin\"])\n",
    "ax.set_title('Toy Light')\n",
    "plt.show()\n"
   ]
  },
  {
   "cell_type": "markdown",
   "id": "12",
   "metadata": {},
   "source": [
    "## Feature histogram and boxplot"
   ]
  },
  {
   "cell_type": "code",
   "execution_count": null,
   "id": "13",
   "metadata": {},
   "outputs": [],
   "source": [
    "plot_feature_histogram_and_boxplot(conn, 'mean_curv')"
   ]
  },
  {
   "cell_type": "markdown",
   "id": "14",
   "metadata": {},
   "source": [
    "## Feature distribution"
   ]
  },
  {
   "cell_type": "code",
   "execution_count": null,
   "id": "15",
   "metadata": {},
   "outputs": [],
   "source": [
    "import Python_scripts.Data_analysis.plot_feature_distribution\n",
    "importlib.reload(Python_scripts.Data_analysis.plot_feature_distribution)\n",
    "from Python_scripts.Data_analysis.plot_feature_distribution import plot_feature_distribution\n"
   ]
  },
  {
   "cell_type": "code",
   "execution_count": null,
   "id": "16",
   "metadata": {},
   "outputs": [],
   "source": [
    "print(type(FoodOnly_saline_id), type(FoodOnly_saline_id[0]))\n",
    "print(type(FoodOnly_ghrelin_id), type(FoodOnly_ghrelin_id[0]))\n"
   ]
  },
  {
   "cell_type": "code",
   "execution_count": null,
   "id": "17",
   "metadata": {},
   "outputs": [],
   "source": [
    "ax = plot_feature_distribution(conn, FoodOnly_saline_id, FoodOnly_ghrelin_id, feature='mean_curv', \n",
    "                              group_labels=['Saline', 'Ghrelin'], mode='pdf')\n",
    "\n",
    "ax.set_title('Food Only')\n",
    "plt.show()\n"
   ]
  },
  {
   "cell_type": "code",
   "execution_count": null,
   "id": "18",
   "metadata": {},
   "outputs": [],
   "source": [
    "ax = plot_feature_distribution(conn, LightOnly_saline_id, LightOnly_ghrelin_id, feature='mean_curv', \n",
    "                              group_labels=['Saline', 'Ghrelin'], mode='pdf')\n",
    "ax.set_title('Light Only')\n",
    "plt.show()\n"
   ]
  },
  {
   "cell_type": "code",
   "execution_count": null,
   "id": "19",
   "metadata": {},
   "outputs": [],
   "source": [
    "ax = plot_feature_distribution(conn, ToyOnly_saline_id, ToyOnly_ghrelin_id, feature='mean_curv', \n",
    "                              group_labels=['Saline', 'Ghrelin'], mode='pdf')\n",
    "\n",
    "ax.set_title('Toy Only')\n",
    "plt.show()"
   ]
  },
  {
   "cell_type": "code",
   "execution_count": null,
   "id": "20",
   "metadata": {},
   "outputs": [],
   "source": [
    "ax = plot_feature_distribution(conn, ToyLight_saline_id, ToyLight_ghrelin_id, feature='mean_curv', \n",
    "                              group_labels=['Saline', 'Ghrelin'], mode='pdf')\n",
    "\n",
    "ax.set_title('Toy Light')\n",
    "plt.show()"
   ]
  },
  {
   "cell_type": "markdown",
   "id": "21",
   "metadata": {},
   "source": [
    "## Acceleration and jerk outliers"
   ]
  },
  {
   "cell_type": "code",
   "execution_count": null,
   "id": "22",
   "metadata": {},
   "outputs": [],
   "source": [
    "query = \"SELECT * FROM dlc_table LIMIT 1;\"\n",
    "df = pd.read_sql(query, conn)\n",
    "\n",
    "print(df.columns)"
   ]
  },
  {
   "cell_type": "code",
   "execution_count": null,
   "id": "23",
   "metadata": {},
   "outputs": [],
   "source": [
    "query = \"SELECT DISTINCT(frame_rate) FROM dlc_table WHERE head_x IS NOT NULL;\"\n",
    "df = pd.read_sql(query, conn)\n",
    "\n",
    "print(df['frame_rate'])"
   ]
  },
  {
   "cell_type": "code",
   "execution_count": null,
   "id": "24",
   "metadata": {},
   "outputs": [],
   "source": []
  }
 ],
 "metadata": {
  "kernelspec": {
   "display_name": "Python 3 (ipykernel)",
   "language": "python",
   "name": "python3"
  },
  "language_info": {
   "codemirror_mode": {
    "name": "ipython",
    "version": 3
   },
   "file_extension": ".py",
   "mimetype": "text/x-python",
   "name": "python",
   "nbconvert_exporter": "python",
   "pygments_lexer": "ipython3",
   "version": "3.10.13"
  }
 },
 "nbformat": 4,
 "nbformat_minor": 5
}
