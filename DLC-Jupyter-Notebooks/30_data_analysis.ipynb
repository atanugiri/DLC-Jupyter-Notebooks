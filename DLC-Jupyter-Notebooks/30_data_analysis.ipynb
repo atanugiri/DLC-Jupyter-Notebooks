{
 "cells": [
  {
   "cell_type": "markdown",
   "id": "0",
   "metadata": {},
   "source": [
    "## Set system path"
   ]
  },
  {
   "cell_type": "code",
   "execution_count": null,
   "id": "1",
   "metadata": {},
   "outputs": [],
   "source": [
    "import sys\n",
    "from pathlib import Path\n",
    "import importlib\n",
    "\n",
    "# Add the parent of the *outer* DLC-Jupyter-Notebooks folder to sys.path\n",
    "project_root = Path().resolve().parents[0]  # This is /Users/atanugiri/Downloads/DLC-Jupyter-Notebooks\n",
    "sys.path.append(str(project_root))\n"
   ]
  },
  {
   "cell_type": "markdown",
   "id": "2",
   "metadata": {},
   "source": [
    "## Connect to db"
   ]
  },
  {
   "cell_type": "code",
   "execution_count": null,
   "id": "3",
   "metadata": {},
   "outputs": [],
   "source": [
    "import os\n",
    "import psycopg2\n",
    "import pandas as pd\n",
    "import platform\n",
    "\n",
    "host = \"localhost\" if platform.system() == \"Windows\" else \"129.108.49.30\"\n",
    "conn = psycopg2.connect(dbname=\"deeplabcut_db\", user=\"postgres\", password=\"1234\", host=host, port=\"5432\")\n",
    "cursor = conn.cursor()\n"
   ]
  },
  {
   "cell_type": "code",
   "execution_count": null,
   "id": "4",
   "metadata": {},
   "outputs": [],
   "source": [
    "query = \"SELECT DISTINCT(task) FROM dlc_table;\"\n",
    "df = pd.read_sql_query(query, conn)\n",
    "\n",
    "print(df)"
   ]
  },
  {
   "cell_type": "markdown",
   "id": "5",
   "metadata": {},
   "source": [
    "## Import plot_feature_barplot function "
   ]
  },
  {
   "cell_type": "code",
   "execution_count": null,
   "id": "6",
   "metadata": {},
   "outputs": [],
   "source": [
    "import Python_scripts.Data_analysis.plot_feature_barplot\n",
    "import Python_scripts.Data_analysis.plot_feature_histogram_and_boxplot\n",
    "\n",
    "importlib.reload(Python_scripts.Data_analysis.plot_feature_barplot)\n",
    "importlib.reload(Python_scripts.Data_analysis.plot_feature_histogram_and_boxplot)\n",
    "\n",
    "from Python_scripts.Data_analysis.plot_feature_barplot import plot_feature_barplot\n",
    "from Python_scripts.Data_analysis.plot_feature_histogram_and_boxplot import plot_feature_histogram_and_boxplot\n"
   ]
  },
  {
   "cell_type": "markdown",
   "id": "7",
   "metadata": {},
   "source": [
    "## Extract IDs"
   ]
  },
  {
   "cell_type": "code",
   "execution_count": null,
   "id": "8",
   "metadata": {},
   "outputs": [],
   "source": [
    "FoodOnly_saline_q = \"SELECT id FROM dlc_table WHERE task='FoodOnly' AND health='saline' AND trial_length>1200;\"\n",
    "df = pd.read_sql_query(FoodOnly_saline_q, conn)\n",
    "FoodOnly_saline_id = df['id'].to_list()\n",
    "\n",
    "FoodOnly_ghrelin_q = \"SELECT id FROM dlc_table WHERE task='FoodOnly' AND health='ghrelin' AND trial_length>1200;\"\n",
    "df = pd.read_sql_query(FoodOnly_ghrelin_q, conn)\n",
    "FoodOnly_ghrelin_id = df['id'].to_list()\n",
    "\n",
    "\n",
    "LightOnly_saline_q = \"SELECT id FROM dlc_table WHERE task='LightOnly' AND health='saline' AND trial_length>1200;\"\n",
    "df = pd.read_sql_query(LightOnly_saline_q, conn)\n",
    "LightOnly_saline_id = df['id'].to_list()\n",
    "\n",
    "LightOnly_ghrelin_q = \"SELECT id FROM dlc_table WHERE task='LightOnly' AND health='ghrelin' AND trial_length>1200;\"\n",
    "df = pd.read_sql_query(LightOnly_ghrelin_q, conn)\n",
    "LightOnly_ghrelin_id = df['id'].to_list()\n",
    "\n",
    "\n",
    "ToyOnly_saline_q = \"SELECT id FROM dlc_table WHERE task='ToyOnly' AND health='saline' AND trial_length>1200;\"\n",
    "df = pd.read_sql_query(ToyOnly_saline_q, conn)\n",
    "ToyOnly_saline_id = df['id'].to_list()\n",
    "\n",
    "ToyOnly_ghrelin_q = \"SELECT id FROM dlc_table WHERE task='ToyOnly' AND health='ghrelin' AND trial_length>1200;\"\n",
    "df = pd.read_sql_query(ToyOnly_ghrelin_q, conn)\n",
    "ToyOnly_ghrelin_id = df['id'].to_list()\n",
    "\n",
    "\n",
    "ToyLight_saline_q = \"SELECT id FROM dlc_table WHERE task='ToyLight' AND health='saline' AND trial_length>1200;\"\n",
    "df = pd.read_sql_query(ToyLight_saline_q, conn)\n",
    "ToyLight_saline_id = df['id'].to_list()\n",
    "\n",
    "ToyLight_ghrelin_q = \"SELECT id FROM dlc_table WHERE task='ToyLight' AND health='ghrelin' AND trial_length>1200;\"\n",
    "df = pd.read_sql_query(ToyLight_ghrelin_q, conn)\n",
    "ToyLight_ghrelin_id = df['id'].to_list()"
   ]
  },
  {
   "cell_type": "markdown",
   "id": "9",
   "metadata": {},
   "source": [
    "## Feature barplot"
   ]
  },
  {
   "cell_type": "code",
   "execution_count": null,
   "id": "10",
   "metadata": {},
   "outputs": [],
   "source": [
    "import matplotlib.pyplot as plt\n",
    "\n",
    "ax = plot_feature_barplot(conn, FoodOnly_saline_id, FoodOnly_ghrelin_id, feature='mean_curv', \n",
    "                     group_labels=[\"Saline\", \"Ghrelin\"])\n",
    "ax.set_title('Food Only')\n",
    "plt.show()\n"
   ]
  },
  {
   "cell_type": "code",
   "execution_count": null,
   "id": "11",
   "metadata": {},
   "outputs": [],
   "source": [
    "ax = plot_feature_barplot(conn, LightOnly_saline_id, LightOnly_ghrelin_id, feature='mean_curv', \n",
    "                     group_labels=[\"Saline\", \"Ghrelin\"])\n",
    "ax.set_title('Light Only')\n",
    "plt.show()\n"
   ]
  },
  {
   "cell_type": "code",
   "execution_count": null,
   "id": "12",
   "metadata": {},
   "outputs": [],
   "source": [
    "ax = plot_feature_barplot(conn, ToyOnly_saline_id, ToyOnly_ghrelin_id, feature='mean_curv', \n",
    "                     group_labels=[\"Saline\", \"Ghrelin\"])\n",
    "ax.set_title('Toy Only')\n",
    "plt.show()\n"
   ]
  },
  {
   "cell_type": "code",
   "execution_count": null,
   "id": "13",
   "metadata": {},
   "outputs": [],
   "source": [
    "ax = plot_feature_barplot(conn, ToyLight_saline_id, ToyLight_ghrelin_id, feature='mean_curv', \n",
    "                     group_labels=[\"Saline\", \"Ghrelin\"])\n",
    "ax.set_title('Toy Light')\n",
    "plt.show()\n"
   ]
  },
  {
   "cell_type": "markdown",
   "id": "14",
   "metadata": {},
   "source": [
    "## Feature histogram and boxplot"
   ]
  },
  {
   "cell_type": "code",
   "execution_count": null,
   "id": "15",
   "metadata": {},
   "outputs": [],
   "source": [
    "plot_feature_histogram_and_boxplot(conn, 'mean_curv')"
   ]
  },
  {
   "cell_type": "markdown",
   "id": "16",
   "metadata": {},
   "source": [
    "## Feature distribution"
   ]
  },
  {
   "cell_type": "code",
   "execution_count": null,
   "id": "17",
   "metadata": {},
   "outputs": [],
   "source": [
    "import Python_scripts.Data_analysis.plot_feature_distribution\n",
    "importlib.reload(Python_scripts.Data_analysis.plot_feature_distribution)\n",
    "from Python_scripts.Data_analysis.plot_feature_distribution import plot_feature_distribution\n"
   ]
  },
  {
   "cell_type": "code",
   "execution_count": null,
   "id": "18",
   "metadata": {},
   "outputs": [],
   "source": [
    "print(type(FoodOnly_saline_id), type(FoodOnly_saline_id[0]))\n",
    "print(type(FoodOnly_ghrelin_id), type(FoodOnly_ghrelin_id[0]))\n"
   ]
  },
  {
   "cell_type": "code",
   "execution_count": null,
   "id": "19",
   "metadata": {},
   "outputs": [],
   "source": [
    "ax = plot_feature_distribution(conn, FoodOnly_saline_id, FoodOnly_ghrelin_id, feature='mean_curv', \n",
    "                              group_labels=['Saline', 'Ghrelin'], mode='pdf')\n",
    "\n",
    "ax.set_title('Food Only')\n",
    "plt.show()\n"
   ]
  },
  {
   "cell_type": "markdown",
   "id": "20",
   "metadata": {},
   "source": [
    "## Summary statistics"
   ]
  },
  {
   "cell_type": "code",
   "execution_count": null,
   "id": "21",
   "metadata": {},
   "outputs": [],
   "source": [
    "import importlib\n",
    "import Python_scripts.Data_analysis.compute_array_feature_summaries\n",
    "importlib.reload(Python_scripts.Data_analysis.compute_array_feature_summaries)\n",
    "from Python_scripts.Data_analysis.compute_array_feature_summaries import compute_array_feature_summaries\n"
   ]
  },
  {
   "cell_type": "code",
   "execution_count": null,
   "id": "22",
   "metadata": {},
   "outputs": [],
   "source": [
    "df_summary_sal = compute_array_feature_summaries(conn, LightOnly_saline_id, feature='distance')\n",
    "df_sal = df_summary_sal.copy()\n",
    "df_sal['group'] = 'Saline'\n",
    "\n",
    "df_summary_ghr = compute_array_feature_summaries(conn, LightOnly_ghrelin_id, feature='distance')\n",
    "df_ghr = df_summary_ghr.copy()\n",
    "df_ghr['group'] = 'Ghrelin'\n",
    "\n",
    "df_combined = pd.concat([df_sal, df_ghr], ignore_index=True)\n",
    "\n",
    "df_combined"
   ]
  },
  {
   "cell_type": "code",
   "execution_count": null,
   "id": "23",
   "metadata": {},
   "outputs": [],
   "source": [
    "import seaborn as sns\n",
    "import matplotlib.pyplot as plt\n",
    "\n",
    "plt.figure(figsize=(6, 4))\n",
    "sns.boxplot(data=df_combined, x='group', y='curvature_entropy')\n",
    "plt.title('Curvature Entropy')\n",
    "plt.show()\n"
   ]
  },
  {
   "cell_type": "code",
   "execution_count": null,
   "id": "24",
   "metadata": {},
   "outputs": [],
   "source": [
    "from scipy.stats import mannwhitneyu\n",
    "\n",
    "for feature in ['curvature_mean', 'curvature_max', 'curvature_std', 'curvature_entropy', \n",
    "                'curvature_area', 'curvature_z_mean_abs']:\n",
    "    u, p = mannwhitneyu(df_summary_sal[feature], df_summary_ghr[feature], alternative='two-sided')\n",
    "    print(f\"{feature}: p = {p:.4f}\")\n"
   ]
  },
  {
   "cell_type": "markdown",
   "id": "25",
   "metadata": {},
   "source": [
    "## Binned array stats"
   ]
  },
  {
   "cell_type": "code",
   "execution_count": null,
   "id": "26",
   "metadata": {},
   "outputs": [],
   "source": [
    "import importlib\n",
    "import Python_scripts.Data_analysis.compute_binned_curvature_stats\n",
    "import Python_scripts.Data_analysis.plot_binned_curvature_comparison\n",
    "\n",
    "importlib.reload(Python_scripts.Data_analysis.compute_binned_curvature_stats)\n",
    "importlib.reload(Python_scripts.Data_analysis.plot_binned_curvature_comparison)\n",
    "\n",
    "from Python_scripts.Data_analysis.compute_binned_curvature_stats import compute_binned_curvature_stats\n",
    "from Python_scripts.Data_analysis.plot_binned_curvature_comparison import plot_binned_curvature_comparison\n"
   ]
  },
  {
   "cell_type": "code",
   "execution_count": null,
   "id": "27",
   "metadata": {},
   "outputs": [],
   "source": [
    "df_sal_bins = compute_binned_curvature_stats(conn, ToyLight_saline_id, 'Saline')\n",
    "df_ghr_bins = compute_binned_curvature_stats(conn, ToyLight_ghrelin_id, 'Ghrelin')\n",
    "\n",
    "df_all_bins = pd.concat([df_sal_bins, df_ghr_bins], ignore_index=True)\n"
   ]
  },
  {
   "cell_type": "code",
   "execution_count": null,
   "id": "28",
   "metadata": {},
   "outputs": [],
   "source": [
    "plot_binned_curvature_comparison(df_all_bins, feature='curvature_mean', title='ToyLight')\n",
    "plot_binned_curvature_comparison(df_all_bins, feature='curvature_z_mean_abs', title='ToyLight')\n"
   ]
  },
  {
   "cell_type": "code",
   "execution_count": null,
   "id": "29",
   "metadata": {},
   "outputs": [],
   "source": [
    "import importlib\n",
    "import Python_scripts.Data_analysis.grid_search_curvature_hyperparams\n",
    "\n",
    "importlib.reload(Python_scripts.Data_analysis.grid_search_curvature_hyperparams)\n",
    "\n",
    "from Python_scripts.Data_analysis.grid_search_curvature_hyperparams import grid_search_curvature_hyperparams\n"
   ]
  },
  {
   "cell_type": "code",
   "execution_count": null,
   "id": "30",
   "metadata": {},
   "outputs": [],
   "source": [
    "df_result = grid_search_curvature_hyperparams(\n",
    "    conn,\n",
    "    ToyLight_saline_id,\n",
    "    ToyLight_ghrelin_id,\n",
    "    window_values=[3, 5, 7, 9, 11, 13, 15, 17],\n",
    "    speed_thresh_values=[1e-3, 5e-3, 1e-2, 2e-2, 5e-2]\n",
    ")\n"
   ]
  },
  {
   "cell_type": "code",
   "execution_count": null,
   "id": "31",
   "metadata": {},
   "outputs": [],
   "source": [
    "df_result"
   ]
  },
  {
   "cell_type": "markdown",
   "id": "32",
   "metadata": {},
   "source": [
    "## Acceleration and jerk outliers"
   ]
  },
  {
   "cell_type": "code",
   "execution_count": null,
   "id": "33",
   "metadata": {},
   "outputs": [],
   "source": [
    "query = \"SELECT * FROM dlc_table LIMIT 1;\"\n",
    "df = pd.read_sql(query, conn)\n",
    "\n",
    "print(df.columns)"
   ]
  },
  {
   "cell_type": "code",
   "execution_count": null,
   "id": "34",
   "metadata": {},
   "outputs": [],
   "source": [
    "query = \"SELECT DISTINCT(frame_rate) FROM dlc_table WHERE head_x IS NOT NULL;\"\n",
    "df = pd.read_sql(query, conn)\n",
    "\n",
    "print(df['frame_rate'])"
   ]
  },
  {
   "cell_type": "code",
   "execution_count": null,
   "id": "35",
   "metadata": {},
   "outputs": [],
   "source": []
  }
 ],
 "metadata": {
  "kernelspec": {
   "display_name": "Python 3 (ipykernel)",
   "language": "python",
   "name": "python3"
  },
  "language_info": {
   "codemirror_mode": {
    "name": "ipython",
    "version": 3
   },
   "file_extension": ".py",
   "mimetype": "text/x-python",
   "name": "python",
   "nbconvert_exporter": "python",
   "pygments_lexer": "ipython3",
   "version": "3.10.13"
  }
 },
 "nbformat": 4,
 "nbformat_minor": 5
}
