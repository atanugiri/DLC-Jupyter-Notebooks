{
 "cells": [
  {
   "cell_type": "markdown",
   "id": "0",
   "metadata": {},
   "source": [
    "## Set system path"
   ]
  },
  {
   "cell_type": "code",
   "execution_count": null,
   "id": "1",
   "metadata": {},
   "outputs": [],
   "source": [
    "import sys\n",
    "from pathlib import Path\n",
    "import importlib\n",
    "\n",
    "# Add the parent of the *outer* DLC-Jupyter-Notebooks folder to sys.path\n",
    "project_root = Path().resolve().parents[0]  # This is /Users/atanugiri/Downloads/DLC-Jupyter-Notebooks\n",
    "sys.path.append(str(project_root))\n"
   ]
  },
  {
   "cell_type": "markdown",
   "id": "2",
   "metadata": {},
   "source": [
    "## Connect to db"
   ]
  },
  {
   "cell_type": "code",
   "execution_count": null,
   "id": "3",
   "metadata": {},
   "outputs": [],
   "source": [
    "import os\n",
    "import psycopg2\n",
    "import pandas as pd\n",
    "import platform\n",
    "\n",
    "host = \"localhost\" if platform.system() == \"Windows\" else \"129.108.49.49\"\n",
    "conn = psycopg2.connect(dbname=\"deeplabcut_db\", user=\"postgres\", password=\"1234\", host=host, port=\"5432\")\n",
    "cursor = conn.cursor()\n"
   ]
  },
  {
   "cell_type": "markdown",
   "id": "4",
   "metadata": {},
   "source": [
    "## Extract IDs"
   ]
  },
  {
   "cell_type": "code",
   "execution_count": null,
   "id": "5",
   "metadata": {},
   "outputs": [],
   "source": [
    "FoodOnly_saline_q = \"SELECT id FROM dlc_table WHERE task='FoodOnly' AND health='saline' AND trial_length>1200;\"\n",
    "df = pd.read_sql_query(FoodOnly_saline_q, conn)\n",
    "FoodOnly_saline_id = df['id'].to_list()\n",
    "\n",
    "FoodOnly_ghrelin_q = \"SELECT id FROM dlc_table WHERE task='FoodOnly' AND health='ghrelin' AND trial_length>1200;\"\n",
    "df = pd.read_sql_query(FoodOnly_ghrelin_q, conn)\n",
    "FoodOnly_ghrelin_id = df['id'].to_list()\n",
    "\n",
    "\n",
    "LightOnly_saline_q = \"SELECT id FROM dlc_table WHERE task='LightOnly' AND health='saline' AND trial_length>1200;\"\n",
    "df = pd.read_sql_query(LightOnly_saline_q, conn)\n",
    "LightOnly_saline_id = df['id'].to_list()\n",
    "\n",
    "LightOnly_ghrelin_q = \"SELECT id FROM dlc_table WHERE task='LightOnly' AND health='ghrelin' AND trial_length>1200;\"\n",
    "df = pd.read_sql_query(LightOnly_ghrelin_q, conn)\n",
    "LightOnly_ghrelin_id = df['id'].to_list()\n",
    "\n",
    "\n",
    "ToyOnly_saline_q = \"SELECT id FROM dlc_table WHERE task='ToyOnly' AND health='saline' AND trial_length>1200;\"\n",
    "df = pd.read_sql_query(ToyOnly_saline_q, conn)\n",
    "ToyOnly_saline_id = df['id'].to_list()\n",
    "\n",
    "ToyOnly_ghrelin_q = \"SELECT id FROM dlc_table WHERE task='ToyOnly' AND health='ghrelin' AND trial_length>1200;\"\n",
    "df = pd.read_sql_query(ToyOnly_ghrelin_q, conn)\n",
    "ToyOnly_ghrelin_id = df['id'].to_list()\n",
    "\n",
    "\n",
    "ToyLight_saline_q = \"SELECT id FROM dlc_table WHERE task='ToyLight' AND health='saline' AND trial_length>1200;\"\n",
    "df = pd.read_sql_query(ToyLight_saline_q, conn)\n",
    "ToyLight_saline_id = df['id'].to_list()\n",
    "\n",
    "ToyLight_ghrelin_q = \"SELECT id FROM dlc_table WHERE task='ToyLight' AND health='ghrelin' AND trial_length>1200;\"\n",
    "df = pd.read_sql_query(ToyLight_ghrelin_q, conn)\n",
    "ToyLight_ghrelin_id = df['id'].to_list()"
   ]
  },
  {
   "cell_type": "markdown",
   "id": "6",
   "metadata": {},
   "source": [
    "## Total distance"
   ]
  },
  {
   "cell_type": "code",
   "execution_count": null,
   "id": "7",
   "metadata": {},
   "outputs": [],
   "source": [
    "import importlib\n",
    "import Python_scripts.Data_analysis.get_total_and_mean_feature_per_id\n",
    "import Python_scripts.Data_analysis.plot_groupwise_bar\n",
    "\n",
    "importlib.reload(Python_scripts.Data_analysis.get_total_and_mean_feature_per_id)\n",
    "importlib.reload(Python_scripts.Data_analysis.plot_groupwise_bar)\n",
    "\n",
    "from Python_scripts.Data_analysis.get_total_and_mean_feature_per_id import get_total_and_mean_feature_per_id\n",
    "from Python_scripts.Data_analysis.plot_groupwise_bar import plot_groupwise_bar\n"
   ]
  },
  {
   "cell_type": "code",
   "execution_count": null,
   "id": "8",
   "metadata": {},
   "outputs": [],
   "source": [
    "df_sal = get_total_and_mean_feature_per_id(\n",
    "    conn, FoodOnly_saline_id, 'saline', 'distance', max_time=1200)\n",
    "df_ghr = get_total_and_mean_feature_per_id(\n",
    "    conn, FoodOnly_ghrelin_id, 'ghrelin', 'distance', max_time=1200)\n",
    "df_total = pd.concat([df_sal, df_ghr], ignore_index=True)\n",
    "\n",
    "print(df_total.head(2))\n",
    "\n",
    "plot_groupwise_bar(\n",
    "    df_total, y='total_distance', title='ToyLight', ylabel='Total Distance')\n"
   ]
  },
  {
   "cell_type": "markdown",
   "id": "9",
   "metadata": {},
   "source": [
    "## Binned distance"
   ]
  },
  {
   "cell_type": "code",
   "execution_count": null,
   "id": "10",
   "metadata": {},
   "outputs": [],
   "source": [
    "import importlib\n",
    "import Python_scripts.Data_analysis.compute_binned_array_feature_stats_all\n",
    "import Python_scripts.Data_analysis.plot_binned_feature_with_sem_from_raw\n",
    "\n",
    "importlib.reload(Python_scripts.Data_analysis.compute_binned_array_feature_stats_all)\n",
    "importlib.reload(Python_scripts.Data_analysis.plot_binned_feature_with_sem_from_raw)\n",
    "\n",
    "from Python_scripts.Data_analysis.compute_binned_array_feature_stats_all import compute_binned_array_feature_stats_all\n",
    "from Python_scripts.Data_analysis.plot_binned_feature_with_sem_from_raw import plot_binned_feature_with_sem_from_raw\n"
   ]
  },
  {
   "cell_type": "code",
   "execution_count": null,
   "id": "11",
   "metadata": {},
   "outputs": [],
   "source": [
    "df_sal_bins = compute_binned_array_feature_stats_all(\n",
    "    conn, FoodOnly_saline_id, 'distance', 'saline',\n",
    "    time_limit=1200.0, bin_size=120, t_offset=1)\n",
    "\n",
    "df_ghr_bins = compute_binned_array_feature_stats_all(\n",
    "    conn, FoodOnly_ghrelin_id, 'distance', 'ghrelin',\n",
    "    time_limit=1200.0, bin_size=120, t_offset=1)\n",
    "\n",
    "print(df_sal_bins.head(2))\n",
    "\n",
    "df_all_bins = pd.concat([df_sal_bins, df_ghr_bins], ignore_index=True)\n",
    "\n",
    "plot_binned_feature_with_sem_from_raw(\n",
    "    df_all_bins,\n",
    "    feature='distance_sum',\n",
    "    title='ToyLight',\n",
    "    ylabel='Distance (sum ± SEM)'\n",
    ")\n"
   ]
  },
  {
   "cell_type": "code",
   "execution_count": null,
   "id": "12",
   "metadata": {},
   "outputs": [],
   "source": []
  }
 ],
 "metadata": {
  "kernelspec": {
   "display_name": "Python 3 (ipykernel)",
   "language": "python",
   "name": "python3"
  },
  "language_info": {
   "codemirror_mode": {
    "name": "ipython",
    "version": 3
   },
   "file_extension": ".py",
   "mimetype": "text/x-python",
   "name": "python",
   "nbconvert_exporter": "python",
   "pygments_lexer": "ipython3",
   "version": "3.10.13"
  }
 },
 "nbformat": 4,
 "nbformat_minor": 5
}
