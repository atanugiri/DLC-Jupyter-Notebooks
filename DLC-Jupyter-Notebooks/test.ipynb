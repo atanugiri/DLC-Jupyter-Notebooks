{
 "cells": [
  {
   "cell_type": "code",
   "execution_count": null,
   "id": "0",
   "metadata": {
    "jupyter": {
     "outputs_hidden": true
    }
   },
   "outputs": [],
   "source": [
    "import psycopg2\n",
    "import pandas as pd\n",
    "import matplotlib.pyplot as plt\n",
    "import os\n",
    "from collections import defaultdict\n",
    "import re\n",
    "\n",
    "# Connect to PostgreSQL\n",
    "conn = psycopg2.connect(\n",
    "    dbname=\"deeplabcut_db\",\n",
    "    user=\"postgres\",\n",
    "    password=\"1234\",\n",
    "    host=\"localhost\",\n",
    "    port=\"5432\"\n",
    ")\n",
    "cursor = conn.cursor()\n",
    "\n",
    "# Execute query\n",
    "cursor.execute(\"\"\"\n",
    "    SELECT * FROM dlc_files LIMIT 10\n",
    "\"\"\")\n",
    "\n",
    "# Fetch results\n",
    "rows = cursor.fetchall()\n",
    "\n",
    "# Get column names\n",
    "colnames = [desc[0] for desc in cursor.description]\n",
    "\n",
    "# # Print column names and rows\n",
    "# print(\"Column names:\", colnames)\n",
    "# for row in rows:\n",
    "#     print(row)\n",
    "\n",
    "# Convert to pandas DataFrame\n",
    "df = pd.DataFrame(rows, columns=colnames)\n",
    "print(\"\\nDataFrame Preview:\")\n",
    "print(df)\n",
    "\n",
    "# Optional: close cursor and connection\n",
    "cursor.close()\n",
    "conn.close()"
   ]
  },
  {
   "cell_type": "code",
   "execution_count": null,
   "id": "1",
   "metadata": {
    "jupyter": {
     "outputs_hidden": true
    }
   },
   "outputs": [],
   "source": [
    "for path, maze, name in zip(coord_paths, maze_values, name_values):\n",
    "    print(path, ':', maze, ':', name)"
   ]
  },
  {
   "cell_type": "markdown",
   "id": "2",
   "metadata": {},
   "source": [
    "## Filter Out Files with 'None%d' in Name"
   ]
  },
  {
   "cell_type": "code",
   "execution_count": null,
   "id": "3",
   "metadata": {},
   "outputs": [],
   "source": [
    "filtered_paths = []\n",
    "filtered_mazes = []\n",
    "filtered_names = []\n",
    "\n",
    "for path, maze, name in zip(coord_paths, maze_values, name_values):\n",
    "    if \"None\" not in name:\n",
    "        filtered_paths.append(path)\n",
    "        filtered_mazes.append(maze)\n",
    "        filtered_names.append(name)\n",
    "\n",
    "print(f\"No of files {len(filtered_paths)}\")"
   ]
  },
  {
   "cell_type": "markdown",
   "id": "4",
   "metadata": {},
   "source": [
    "## Plot corners to check model reproducibility"
   ]
  },
  {
   "cell_type": "code",
   "execution_count": null,
   "id": "5",
   "metadata": {},
   "outputs": [],
   "source": [
    "# Sample: maze_values and coord_paths must be aligned\n",
    "# maze_values = ['3', '4', '1', ...]  # Already defined\n",
    "# coord_paths = [...]                # Already defined\n",
    "\n",
    "from collections import defaultdict\n",
    "\n",
    "# Group coord_paths by maze number\n",
    "maze_to_paths = defaultdict(list)\n",
    "for path, maze in zip(filtered_paths, filtered_mazes):\n",
    "    maze_to_paths[maze].append(path)\n",
    "\n",
    "# Define corners\n",
    "corners = ['Corner1', 'Corner2', 'Corner3', 'Corner4']"
   ]
  },
  {
   "cell_type": "markdown",
   "id": "6",
   "metadata": {},
   "source": [
    "## Individual trail plot"
   ]
  },
  {
   "cell_type": "code",
   "execution_count": null,
   "id": "7",
   "metadata": {
    "jupyter": {
     "outputs_hidden": true
    }
   },
   "outputs": [],
   "source": [
    "for path, maze in zip(filtered_paths, filtered_mazes):\n",
    "    print(f\"Plotting {os.path.basename(path)} (Maze {maze})\")\n",
    "\n",
    "    df = pd.read_csv(path, header=[1, 2])\n",
    "\n",
    "    plt.figure(figsize=(8, 6))\n",
    "    plt.title(f\"{os.path.basename(path)} (Maze {maze})\")\n",
    "\n",
    "    for corner in corners:\n",
    "        x = df[(corner, 'x')]\n",
    "        y = df[(corner, 'y')]\n",
    "        likelihood = df[(corner, 'likelihood')]\n",
    "\n",
    "        # Apply likelihood filter\n",
    "        mask = likelihood > 0.9\n",
    "        x_filtered = x[mask]\n",
    "        y_filtered = y[mask]\n",
    "\n",
    "        plt.scatter(x_filtered, y_filtered, label=corner, s=5, alpha=0.7)\n",
    "\n",
    "    plt.xlabel(\"x\")\n",
    "    plt.ylabel(\"y\")\n",
    "    plt.legend()\n",
    "    plt.grid(True)\n",
    "    plt.tight_layout()\n",
    "    plt.show()"
   ]
  },
  {
   "cell_type": "markdown",
   "id": "8",
   "metadata": {},
   "source": [
    "## Individial maze plot"
   ]
  },
  {
   "cell_type": "code",
   "execution_count": null,
   "id": "9",
   "metadata": {
    "jupyter": {
     "outputs_hidden": true
    }
   },
   "outputs": [],
   "source": [
    "# Step 3: Define fixed colors per corner\n",
    "corner_colors = {\n",
    "    'Corner1': 'red',\n",
    "    'Corner2': 'blue',\n",
    "    'Corner3': 'green',\n",
    "    'Corner4': 'purple'\n",
    "}\n",
    "\n",
    "# Step 4: Plot grouped maze plots\n",
    "for maze, paths in sorted(maze_to_paths.items()):\n",
    "    plt.figure(figsize=(8, 6))\n",
    "    plt.title(f\"Maze {maze}: All Corner Points\")\n",
    "\n",
    "    for path in paths:\n",
    "        df = pd.read_csv(path, header=[1, 2])\n",
    "\n",
    "        for corner in corner_colors.keys():\n",
    "            x = df[(corner, 'x')]\n",
    "            y = df[(corner, 'y')]\n",
    "            likelihood = df[(corner, 'likelihood')]\n",
    "\n",
    "            # Apply likelihood filter\n",
    "            mask = likelihood > 0.9\n",
    "            plt.scatter(x[mask], y[mask],\n",
    "                        color=corner_colors[corner],\n",
    "                        label=corner, s=5, alpha=0.5)\n",
    "\n",
    "    plt.xlabel(\"x\")\n",
    "    plt.ylabel(\"y\")\n",
    "    # Avoid duplicate labels in legend\n",
    "    handles, labels = plt.gca().get_legend_handles_labels()\n",
    "    by_label = dict(zip(labels, handles))\n",
    "    plt.legend(by_label.values(), by_label.keys())\n",
    "    plt.grid(True)\n",
    "    plt.tight_layout()\n",
    "    plt.show()"
   ]
  },
  {
   "cell_type": "code",
   "execution_count": null,
   "id": "10",
   "metadata": {
    "jupyter": {
     "outputs_hidden": true
    }
   },
   "outputs": [],
   "source": [
    "for col in df.columns:\n",
    "    print(repr(col))"
   ]
  },
  {
   "cell_type": "markdown",
   "id": "11",
   "metadata": {},
   "source": [
    "## Plot all coordinates of an individual file"
   ]
  },
  {
   "cell_type": "code",
   "execution_count": null,
   "id": "12",
   "metadata": {
    "jupyter": {
     "outputs_hidden": true
    }
   },
   "outputs": [],
   "source": [
    "import matplotlib.pyplot as plt\n",
    "import pandas as pd\n",
    "import os\n",
    "import re\n",
    "\n",
    "# Step 1: Filter out 'None%d' animals\n",
    "filtered_paths = []\n",
    "filtered_mazes = []\n",
    "filtered_names = []\n",
    "\n",
    "for path, maze, name in zip(coord_paths, maze_values, name_values):\n",
    "    if not re.search(r'None\\d+', name):\n",
    "        filtered_paths.append(path)\n",
    "        filtered_mazes.append(maze)\n",
    "        filtered_names.append(name)\n",
    "\n",
    "# Step 2: Fixed colors for corners and head\n",
    "corner_colors = {\n",
    "    'Corner1': 'red',\n",
    "    'Corner2': 'blue',\n",
    "    'Corner3': 'green',\n",
    "    'Corner4': 'purple'\n",
    "}\n",
    "head_color = 'black'\n",
    "\n",
    "# Step 3: Plot each individual file\n",
    "for path, maze, name in zip(filtered_paths, filtered_mazes, filtered_names):\n",
    "    print(f\"Plotting {os.path.basename(path)} (Maze {maze}, Name: {name})\")\n",
    "    df = pd.read_csv(path, header=[1, 2])\n",
    "\n",
    "    plt.figure(figsize=(8, 6))\n",
    "    plt.title(f\"{os.path.basename(path)} (Maze {maze})\")\n",
    "\n",
    "    # Plot corners\n",
    "    for corner, color in corner_colors.items():\n",
    "        x = df[(corner, 'x')]\n",
    "        y = df[(corner, 'y')]\n",
    "        l = df[(corner, 'likelihood')]\n",
    "        mask = l > 0.9\n",
    "        plt.scatter(x[mask], y[mask], color=color, s=5, alpha=0.6, label=corner)\n",
    "\n",
    "    # Plot head\n",
    "    xh = df[('Head', 'x')]\n",
    "    yh = df[('Head', 'y')]\n",
    "    lh = df[('Head', 'likelihood')]\n",
    "    mask = lh > 0.9\n",
    "    plt.scatter(xh[mask], yh[mask], color=head_color, s=5, alpha=0.6, label='Head')\n",
    "\n",
    "    plt.xlabel(\"x\")\n",
    "    plt.ylabel(\"y\")\n",
    "    plt.grid(True)\n",
    "\n",
    "    # Prevent duplicate legend entries\n",
    "    handles, labels = plt.gca().get_legend_handles_labels()\n",
    "    by_label = dict(zip(labels, handles))\n",
    "    plt.legend(by_label.values(), by_label.keys())\n",
    "\n",
    "    plt.tight_layout()\n",
    "    plt.show()\n"
   ]
  },
  {
   "cell_type": "markdown",
   "id": "13",
   "metadata": {},
   "source": [
    "### Distance for Food only"
   ]
  },
  {
   "cell_type": "code",
   "execution_count": null,
   "id": "14",
   "metadata": {},
   "outputs": [],
   "source": [
    "import numpy as np\n",
    "import pandas as pd\n",
    "\n",
    "# Set random seed for reproducibility\n",
    "np.random.seed(42)\n",
    "\n",
    "# Simulate trial-level data\n",
    "n_trials = 50\n",
    "\n",
    "# Define function to generate data with a given mean and std\n",
    "def simulate_group_data(mean, std, n):\n",
    "    return np.random.normal(loc=mean, scale=std, size=n)\n",
    "\n",
    "# Create data for each condition\n",
    "saline_data = simulate_group_data(70, 10, n_trials)\n",
    "ghrelin_data = simulate_group_data(71, 12, n_trials)\n",
    "inhibitory_data = simulate_group_data(83, 14, n_trials)\n",
    "excitatory_data = simulate_group_data(121, 30, n_trials)\n",
    "\n",
    "# Combine into a DataFrame\n",
    "df = pd.DataFrame({\n",
    "    'Saline': saline_data,\n",
    "    'Ghrelin': ghrelin_data,\n",
    "    'Inhibitory': inhibitory_data,\n",
    "    'Excitatory': excitatory_data\n",
    "})\n",
    "\n",
    "# Compute means and standard errors\n",
    "means = df.mean().round(2).tolist()\n",
    "std_errs = (df.std(ddof=1) / np.sqrt(n_trials)).round(2).tolist()\n",
    "\n",
    "# Display results\n",
    "print(\"Group Means (Distance):\", means)\n",
    "print(\"Standard Errors:\", std_errs)\n",
    "\n",
    "# Optional: match your required output\n",
    "distance = [round(val) for val in means]\n",
    "stderr = [round(val) for val in std_errs]\n",
    "\n",
    "print(\"\\nRounded Final Output:\")\n",
    "print(\"distance =\", distance)\n",
    "print(\"stderr =\", stderr)\n"
   ]
  },
  {
   "cell_type": "code",
   "execution_count": null,
   "id": "15",
   "metadata": {},
   "outputs": [],
   "source": [
    "import matplotlib.pyplot as plt\n",
    "import numpy as np\n",
    "\n",
    "# Data\n",
    "labels = ['Saline', 'Ghrelin', 'Inhibitory', 'Excitatory']\n",
    "colors = ['green', 'blue', 'yellow', 'red']\n",
    "\n",
    "# Plot\n",
    "fig, ax = plt.subplots(figsize=(6, 5))\n",
    "x = np.arange(len(distance))\n",
    "\n",
    "bars = ax.bar(x, distance, yerr=stderr, capsize=5, color=colors)\n",
    "\n",
    "# Customize\n",
    "ax.set_xticks(x)\n",
    "ax.set_xticklabels(labels)\n",
    "ax.set_ylabel('Distance')\n",
    "ax.set_title('Distance: Food Alone')\n",
    "ax.spines[['top', 'right']].set_visible(False)\n",
    "\n",
    "plt.tight_layout()\n",
    "plt.show()\n"
   ]
  },
  {
   "cell_type": "code",
   "execution_count": null,
   "id": "16",
   "metadata": {},
   "outputs": [],
   "source": [
    "import numpy as np\n",
    "import matplotlib.pyplot as plt\n",
    "\n",
    "np.random.seed(123)\n",
    "\n",
    "n = 20000\n",
    "x = np.zeros(n)\n",
    "y = np.zeros(n)\n",
    "\n",
    "# Generate random walk with directional noise\n",
    "angles = np.random.uniform(0, 2 * np.pi, n)\n",
    "step_size = np.random.normal(loc=0.005, scale=0.002, size=n)\n",
    "\n",
    "dx = step_size * np.cos(angles)\n",
    "dy = step_size * np.sin(angles)\n",
    "\n",
    "x = np.cumsum(dx)\n",
    "y = np.cumsum(dy)\n",
    "\n",
    "# Normalize both axes to [0, 1] after walk\n",
    "x = (x - np.min(x)) / (np.max(x) - np.min(x))\n",
    "y = (y - np.min(y)) / (np.max(y) - np.min(y))\n",
    "\n",
    "# Add NaN segments to simulate bad tracking\n",
    "n_nan_segments = 40\n",
    "nan_length_range = (20, 300)\n",
    "\n",
    "for _ in range(n_nan_segments):\n",
    "    start = np.random.randint(0, n - 300)\n",
    "    length = np.random.randint(*nan_length_range)\n",
    "    x[start:start+length] = np.nan\n",
    "    y[start:start+length] = np.nan\n",
    "\n",
    "# Plot result\n",
    "plt.figure(figsize=(6, 6))\n",
    "plt.plot(x, y, linewidth=0.5, alpha=0.9)\n",
    "plt.title(\"Bad Maze Trajectory\")\n",
    "plt.xlabel(\"X\")\n",
    "plt.ylabel(\"Y\")\n",
    "plt.axis('square')\n",
    "plt.grid(True)\n",
    "plt.tight_layout()\n",
    "plt.show()\n"
   ]
  },
  {
   "cell_type": "code",
   "execution_count": null,
   "id": "17",
   "metadata": {},
   "outputs": [],
   "source": [
    "import subprocess\n",
    "\n",
    "result = subprocess.run([\"nvidia-smi\"], capture_output=True, text=True)\n",
    "print(result.stdout)\n"
   ]
  },
  {
   "cell_type": "code",
   "execution_count": null,
   "id": "18",
   "metadata": {},
   "outputs": [],
   "source": []
  }
 ],
 "metadata": {
  "kernelspec": {
   "display_name": "Python [conda env:.conda-DLC] *",
   "language": "python",
   "name": "conda-env-.conda-DLC-py"
  },
  "language_info": {
   "codemirror_mode": {
    "name": "ipython",
    "version": 3
   },
   "file_extension": ".py",
   "mimetype": "text/x-python",
   "name": "python",
   "nbconvert_exporter": "python",
   "pygments_lexer": "ipython3",
   "version": "3.8.20"
  }
 },
 "nbformat": 4,
 "nbformat_minor": 5
}
