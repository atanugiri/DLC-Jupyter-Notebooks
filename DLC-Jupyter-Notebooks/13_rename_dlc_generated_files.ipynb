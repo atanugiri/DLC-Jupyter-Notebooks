{
 "cells": [
  {
   "cell_type": "markdown",
   "id": "0",
   "metadata": {},
   "source": [
    "## Rename original files for easy parsing (Drop DLC part from the file names)"
   ]
  },
  {
   "cell_type": "code",
   "execution_count": null,
   "id": "1",
   "metadata": {},
   "outputs": [],
   "source": [
    "import os\n",
    "import re\n",
    "\n",
    "folder = r\"C:\\DeepLabCutProjects\\DLC-Atanu-2024-12-25\\Analyzed-videos-filtered-temp\"\n",
    "\n",
    "# Define known multi-word city names to fix\n",
    "city_names = [\n",
    "    'El_Paso', 'New_York', 'New_Jersey', 'New_Orleans',\n",
    "    'Las_Cruces', 'Ft_Worth'\n",
    "]\n",
    "city_replacements = {name: name.replace('_', '') for name in city_names}\n",
    "\n",
    "for file in os.listdir(folder):\n",
    "    if not file.endswith(\".csv\"):\n",
    "        continue\n",
    "\n",
    "    original_path = os.path.join(folder, file)\n",
    "    new_name = file\n",
    "\n",
    "    # Step 1: Remove DLC suffix (if it still exists)\n",
    "    new_name = re.sub(r'DLC_resnet50_.*?_filtered', '', new_name)\n",
    "\n",
    "    # Step 2: Replace 'None_#' with 'None#'\n",
    "    new_name = re.sub(r'None_(\\d+)', r'None\\1', new_name)\n",
    "\n",
    "    # Step 3: Replace multi-word city names\n",
    "    for old, new in city_replacements.items():\n",
    "        new_name = new_name.replace(old, new)\n",
    "\n",
    "    # Skip if no changes needed\n",
    "    if new_name == file:\n",
    "        continue\n",
    "\n",
    "    new_path = os.path.join(folder, new_name)\n",
    "\n",
    "    # Safety: skip if destination file already exists\n",
    "    if os.path.exists(new_path):\n",
    "        print(f\"❗Skipped (target exists): {new_name}\")\n",
    "        continue\n",
    "\n",
    "    # Rename file\n",
    "    os.rename(original_path, new_path)\n",
    "    print(f\"✅ Renamed: {file}  -->  {new_name}\")\n"
   ]
  },
  {
   "cell_type": "markdown",
   "id": "2",
   "metadata": {},
   "source": [
    "## Separate name block with '____'"
   ]
  },
  {
   "cell_type": "code",
   "execution_count": null,
   "id": "3",
   "metadata": {},
   "outputs": [],
   "source": [
    "import os\n",
    "import re\n",
    "\n",
    "folder = r\"C:\\DeepLabCutProjects\\DLC-Atanu-2024-12-25\\Analyzed-videos-filtered-temp\"\n",
    "\n",
    "for file in os.listdir(folder):\n",
    "    if not file.endswith(\".csv\"):\n",
    "        continue\n",
    "\n",
    "    if \"____Trial\" in file:\n",
    "        continue  # Already processed\n",
    "\n",
    "    # Match the position of Trial_#\n",
    "    trial_match = re.search(r'_Trial_\\d+', file)\n",
    "    if not trial_match:\n",
    "        print(f\"❌ Skipped (no Trial found): {file}\")\n",
    "        continue\n",
    "\n",
    "    trial_start = trial_match.start()\n",
    "    before_trial = file[:trial_start]\n",
    "    after_trial = file[trial_start:]  # Includes _Trial_1...\n",
    "\n",
    "    tokens = before_trial.split('_')\n",
    "    if len(tokens) < 4:\n",
    "        print(f\"❌ Skipped (not enough tokens before Trial): {file}\")\n",
    "        continue\n",
    "\n",
    "    # Get last 4 tokens = animal block\n",
    "    animal_tokens = tokens[-4:]\n",
    "    animal_block = '_'.join(animal_tokens)\n",
    "\n",
    "    # Trim trailing underscore before animal block (if any)\n",
    "    prefix = '_'.join(tokens[:-4])\n",
    "    if prefix.endswith('_'):\n",
    "        prefix = prefix[:-1]  # Remove trailing underscore\n",
    "\n",
    "    # Rebuild filename\n",
    "    new_file = f\"{prefix}____{animal_block}____{after_trial}\"\n",
    "\n",
    "    original_path = os.path.join(folder, file)\n",
    "    new_path = os.path.join(folder, new_file)\n",
    "\n",
    "    if os.path.exists(new_path):\n",
    "        print(f\"⚠️ Skipped (target exists): {new_file}\")\n",
    "        continue\n",
    "\n",
    "    os.rename(original_path, new_path)\n",
    "    print(f\"✅ Renamed:\\n{file}  -->\\n{new_file}\\n\")\n"
   ]
  },
  {
   "cell_type": "markdown",
   "id": "4",
   "metadata": {},
   "source": [
    "### Validation for extract_animal_name"
   ]
  },
  {
   "cell_type": "code",
   "execution_count": null,
   "id": "5",
   "metadata": {},
   "outputs": [],
   "source": [
    "import sys\n",
    "sys.path.append('../Python_scripts')\n",
    "\n",
    "from extract_animal_name import extract_animal_name\n",
    "\n",
    "import os\n",
    "\n",
    "# Folder path\n",
    "folder = r\"C:\\DeepLabCutProjects\\DLC-Atanu-2024-12-25\\Analyzed-videos-filtered\"\n",
    "csv_files = [f for f in os.listdir(folder) if f.endswith(\".csv\")]\n",
    "\n",
    "for file in csv_files[0:10]:\n",
    "    # print(file)\n",
    "    if file.endswith(\".csv\"):\n",
    "        animal_name = extract_animal_name(file)\n",
    "        if animal_name is not None:\n",
    "            print(f\"{file} --> {animal_name}\")\n",
    "        else:\n",
    "            print(f\"[SKIPPED] Pattern not matched: {file}\")\n"
   ]
  },
  {
   "cell_type": "markdown",
   "id": "6",
   "metadata": {},
   "source": [
    "### Validation for extract_maze_number"
   ]
  },
  {
   "cell_type": "code",
   "execution_count": null,
   "id": "7",
   "metadata": {},
   "outputs": [],
   "source": [
    "import sys\n",
    "sys.path.append('../Python_scripts')\n",
    "\n",
    "from extract_maze_number import extract_maze_number\n",
    "\n",
    "import os\n",
    "\n",
    "# Folder path\n",
    "folder = r\"C:\\DeepLabCutProjects\\DLC-Atanu-2024-12-25\\Analyzed-videos-filtered\"\n",
    "csv_files = [f for f in os.listdir(folder) if f.endswith(\".csv\")]\n",
    "\n",
    "for file in csv_files[0:10]:\n",
    "    # print(file)\n",
    "    if file.endswith(\".csv\"):\n",
    "        maze_number = extract_maze_number(file)\n",
    "        if maze_number is not None:\n",
    "            print(f\"{file} --> {maze_number}\")\n",
    "        else:\n",
    "            print(f\"[SKIPPED] Pattern not matched: {file}\")"
   ]
  },
  {
   "cell_type": "code",
   "execution_count": null,
   "id": "8",
   "metadata": {},
   "outputs": [],
   "source": []
  }
 ],
 "metadata": {
  "kernelspec": {
   "display_name": "Python 3 (ipykernel)",
   "language": "python",
   "name": "python3"
  },
  "language_info": {
   "codemirror_mode": {
    "name": "ipython",
    "version": 3
   },
   "file_extension": ".py",
   "mimetype": "text/x-python",
   "name": "python",
   "nbconvert_exporter": "python",
   "pygments_lexer": "ipython3",
   "version": "3.10.13"
  }
 },
 "nbformat": 4,
 "nbformat_minor": 5
}
