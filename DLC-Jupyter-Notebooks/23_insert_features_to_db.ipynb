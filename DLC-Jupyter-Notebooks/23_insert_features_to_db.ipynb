{
 "cells": [
  {
   "cell_type": "markdown",
   "id": "0",
   "metadata": {},
   "source": [
    "## Set system path"
   ]
  },
  {
   "cell_type": "code",
   "execution_count": null,
   "id": "1",
   "metadata": {},
   "outputs": [],
   "source": [
    "import sys\n",
    "from pathlib import Path\n",
    "import importlib\n",
    "\n",
    "# Add the parent of the *outer* DLC-Jupyter-Notebooks folder to sys.path\n",
    "project_root = Path().resolve().parents[0]  # This is /Users/atanugiri/Downloads/DLC-Jupyter-Notebooks\n",
    "sys.path.append(str(project_root))\n"
   ]
  },
  {
   "cell_type": "markdown",
   "id": "2",
   "metadata": {},
   "source": [
    "## Connect to db"
   ]
  },
  {
   "cell_type": "code",
   "execution_count": null,
   "id": "3",
   "metadata": {},
   "outputs": [],
   "source": [
    "import os\n",
    "import psycopg2\n",
    "import pandas as pd\n",
    "import platform\n",
    "\n",
    "host = \"localhost\" if platform.system() == \"Windows\" else \"129.108.49.30\"\n",
    "conn = psycopg2.connect(dbname=\"deeplabcut_db\", user=\"postgres\", password=\"1234\", host=host, port=\"5432\")\n",
    "cursor = conn.cursor()\n"
   ]
  },
  {
   "cell_type": "code",
   "execution_count": null,
   "id": "4",
   "metadata": {},
   "outputs": [],
   "source": [
    "import Python_scripts.Feature_functions.compute_motion_features\n",
    "importlib.reload(Python_scripts.Feature_functions.compute_motion_features)\n",
    "from Python_scripts.Feature_functions.compute_motion_features import compute_motion_features\n",
    "\n",
    "total_distance, average_velocity, cumulative_distance = compute_motion_features(\n",
    "    conn, 49, bodypart_x='head_x_norm', bodypart_y='head_y_norm', time_limit=480.0)"
   ]
  },
  {
   "cell_type": "markdown",
   "id": "5",
   "metadata": {},
   "source": [
    "## Insert distance, velocity, cumulative distance"
   ]
  },
  {
   "cell_type": "code",
   "execution_count": null,
   "id": "6",
   "metadata": {},
   "outputs": [],
   "source": [
    "from Python_scripts.Insert_to_featuretable.insert_motion_features import insert_motion_features\n",
    "\n",
    "query = \"SELECT id FROM dlc_table WHERE head_x_norm IS NOT NULL ORDER BY id;\"\n",
    "df = pd.read_sql_query(query, conn)\n",
    "id_list = df['id'].tolist()\n",
    "\n",
    "insert_motion_features(id_list, conn)\n"
   ]
  },
  {
   "cell_type": "markdown",
   "id": "7",
   "metadata": {},
   "source": [
    "## Insert acceleration and jerk outliers"
   ]
  },
  {
   "cell_type": "code",
   "execution_count": null,
   "id": "8",
   "metadata": {
    "jupyter": {
     "outputs_hidden": true
    }
   },
   "outputs": [],
   "source": [
    "from Python_scripts.Insert_to_featuretable.insert_motion_outliers import insert_motion_outliers\n",
    "\n",
    "query = \"SELECT id FROM dlc_table WHERE head_x IS NOT NULL ORDER BY id;\"\n",
    "df = pd.read_sql_query(query, conn)\n",
    "id_list = df['id'].tolist()\n",
    "\n",
    "insert_motion_outliers(id_list, conn, bodypart_x='head_x_norm', bodypart_y='head_y_norm', time_limit=1200.0)\n"
   ]
  },
  {
   "cell_type": "markdown",
   "id": "9",
   "metadata": {},
   "source": [
    "## Insert curvature"
   ]
  },
  {
   "cell_type": "code",
   "execution_count": null,
   "id": "10",
   "metadata": {
    "jupyter": {
     "outputs_hidden": true
    }
   },
   "outputs": [],
   "source": [
    "from Python_scripts.Insert_to_featuretable.insert_trajectory_curvature import insert_trajectory_curvature\n",
    "\n",
    "query = \"SELECT id FROM dlc_table WHERE head_x IS NOT NULL ORDER BY id;\"\n",
    "df = pd.read_sql_query(query, conn)\n",
    "id_list = df['id'].tolist()\n",
    "\n",
    "insert_trajectory_curvature(id_list, conn)\n"
   ]
  },
  {
   "cell_type": "code",
   "execution_count": null,
   "id": "11",
   "metadata": {},
   "outputs": [],
   "source": []
  }
 ],
 "metadata": {
  "kernelspec": {
   "display_name": "Python 3 (ipykernel)",
   "language": "python",
   "name": "python3"
  },
  "language_info": {
   "codemirror_mode": {
    "name": "ipython",
    "version": 3
   },
   "file_extension": ".py",
   "mimetype": "text/x-python",
   "name": "python",
   "nbconvert_exporter": "python",
   "pygments_lexer": "ipython3",
   "version": "3.10.13"
  }
 },
 "nbformat": 4,
 "nbformat_minor": 5
}
