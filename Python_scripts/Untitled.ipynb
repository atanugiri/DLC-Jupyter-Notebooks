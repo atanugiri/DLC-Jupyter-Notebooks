{
 "cells": [
  {
   "cell_type": "code",
   "execution_count": null,
   "id": "0",
   "metadata": {},
   "outputs": [],
   "source": [
    "import psycopg2\n",
    "\n",
    "conn = psycopg2.connect(dbname=\"deeplabcut_db\", user=\"postgres\", password=1234)\n",
    "cursor = conn.cursor()\n",
    "\n",
    "query = \"SELECT DISTINCT ON (health) health, coord_path FROM dlc_files WHERE name IS NOT NULL\"\n",
    "data = pd.read_sql_query(query, conn)\n",
    "\n",
    "print(\"Unique names and corresponding coord_path:\")\n",
    "print(data)\n",
    "\n",
    "conn.close()"
   ]
  },
  {
   "cell_type": "code",
   "execution_count": null,
   "id": "1",
   "metadata": {},
   "outputs": [],
   "source": [
    "import psycopg2\n",
    "import pandas as pd\n",
    "import numpy as np\n",
    "\n",
    "conn = psycopg2.connect(dbname=\"deeplabcut_db\", user=\"postgres\", password=1234)\n",
    "\n",
    "query = \"SELECT * FROM dlc_files ORDER BY ID LIMIT 1\"\n",
    "data = pd.read_sql_query(query, conn, index_col=\"id\")\n",
    "print(data)\n",
    "conn.close()\n",
    "\n",
    "# for id, row in data.iterrows():\n",
    "#     print(f\"id = {id}\")\n",
    "#     print(f\"path = {row['normalized_path']}\")\n",
    "#     print('\\n')"
   ]
  },
  {
   "cell_type": "code",
   "execution_count": null,
   "id": "2",
   "metadata": {},
   "outputs": [],
   "source": [
    "data[\"normalized_path\"].iloc[0]"
   ]
  },
  {
   "cell_type": "code",
   "execution_count": null,
   "id": "3",
   "metadata": {},
   "outputs": [],
   "source": [
    "from calculate_total_distance_custom import calculate_total_distance_custom\n",
    "total_distance, cumulative_distance = calculate_total_distance_custom(data[\"normalized_path\"].iloc[1])\n",
    "print(total_distance)"
   ]
  },
  {
   "cell_type": "code",
   "execution_count": null,
   "id": "4",
   "metadata": {
    "jupyter": {
     "outputs_hidden": true
    }
   },
   "outputs": [],
   "source": [
    "query = \"SELECT coord_path, name, maze, health, task FROM dlc_files WHERE task='food_only' AND health='Excitatory'\"\n",
    "# query = \"SELECT coord_path FROM dlc_files WHERE task='food_only' AND health='Saline'\"\n",
    "\n",
    "data = pd.read_sql_query(query, conn)\n",
    "# print(data)\n",
    "for i in data.iterrows():\n",
    "    print(i)"
   ]
  },
  {
   "cell_type": "code",
   "execution_count": null,
   "id": "5",
   "metadata": {},
   "outputs": [],
   "source": [
    "import pandas as pd\n",
    "import numpy as np\n",
    "import os\n",
    "import psycopg2\n",
    "\n",
    "# --- Connect to database ---\n",
    "conn = psycopg2.connect(dbname=\"deeplabcut_db\", user=\"postgres\", password=1234)"
   ]
  },
  {
   "cell_type": "code",
   "execution_count": null,
   "id": "6",
   "metadata": {},
   "outputs": [],
   "source": [
    "import matplotlib.pyplot as plt\n",
    "\n",
    "query = \"SELECT distance FROM dlc_files\"\n",
    "df = pd.read_sql_query(query, conn)\n",
    "\n",
    "# Step 2: Plot histogram\n",
    "plt.figure(figsize=(8, 6))\n",
    "plt.hist(df['distance'].dropna(), bins=30, edgecolor='black')\n",
    "plt.xlabel('Distance')\n",
    "plt.ylabel('Frequency')\n",
    "plt.title('Histogram of Distances')\n",
    "plt.show()\n",
    "\n",
    "# Step 3: Plot boxplot\n",
    "plt.figure(figsize=(6, 8))\n",
    "plt.boxplot(df['distance'].dropna(), vert=True)\n",
    "plt.ylabel('Distance')\n",
    "plt.title('Boxplot of Distances')\n",
    "plt.show()"
   ]
  },
  {
   "cell_type": "code",
   "execution_count": null,
   "id": "7",
   "metadata": {},
   "outputs": [],
   "source": [
    "import importlib\n",
    "import calculate_time_in_roi_20min\n",
    "\n",
    "importlib.reload(calculate_time_in_roi_20min)\n",
    "from calculate_time_in_roi_20min import calculate_time_in_roi_20min"
   ]
  },
  {
   "cell_type": "code",
   "execution_count": null,
   "id": "8",
   "metadata": {},
   "outputs": [],
   "source": [
    "import psycopg2\n",
    "import pandas as pd\n",
    "import random\n",
    "\n",
    "# Connect to your PostgreSQL database\n",
    "conn = psycopg2.connect(\n",
    "    dbname=\"deeplabcut_db\",\n",
    "    user=\"postgres\",\n",
    "    password=\"1234\",\n",
    "    host=\"localhost\",\n",
    "    port=\"5432\"\n",
    ")\n",
    "\n",
    "# Fetch normalized paths and maze numbers\n",
    "query = \"\"\"\n",
    "    SELECT normalized_path, maze\n",
    "    FROM dlc_files\n",
    "    WHERE normalized_path IS NOT NULL AND maze IS NOT NULL\n",
    "\"\"\"\n",
    "df = pd.read_sql_query(query, conn)\n",
    "conn.close()\n",
    "\n",
    "print(df.head())"
   ]
  },
  {
   "cell_type": "code",
   "execution_count": null,
   "id": "9",
   "metadata": {},
   "outputs": [],
   "source": [
    "for i in range(5):\n",
    "    maze = int(df[\"maze\"][i])  # ← cast it to a native Python int\n",
    "    file = df[\"normalized_path\"][i]\n",
    "    print(f\"maze = {maze}, file = {file}\")\n",
    "    calculate_time_in_roi_20min(file, maze=maze, plot=True)"
   ]
  },
  {
   "cell_type": "code",
   "execution_count": null,
   "id": "10",
   "metadata": {},
   "outputs": [],
   "source": [
    "updates = []\n",
    "cursor.execute(\"\"\"\n",
    "    ALTER TABLE dlc_files ADD COLUMN IF NOT EXISTS distance FLOAT;\n",
    "\"\"\")\n",
    "cursor.execute(\"SELECT id, normalized_path FROM dlc_files\")\n",
    "rows = cursor.fetchall()\n",
    "\n",
    "for row in rows:\n",
    "    id_, path = row\n",
    "    if not is_valid_csv(path, id_):\n",
    "        continue\n",
    "    try:\n",
    "        total_distance = calculate_total_distance_20min(path)\n",
    "    except Exception as e:\n",
    "        print(f\"Error for ID {id_}: {e}\")\n",
    "        continue\n",
    "\n",
    "    if total_distance is not None:\n",
    "        updates.append((total_distance, id_))\n",
    "        print(f\"Updated distance for ID {id_}: {total_distance:.2f}\")\n",
    "    else:\n",
    "        print(f\"Skipping ID {id_} — calculation failed.\")\n",
    "\n",
    "if updates:\n",
    "    cursor.executemany(\"UPDATE dlc_files SET distance = %s WHERE id = %s\", updates)"
   ]
  },
  {
   "cell_type": "code",
   "execution_count": null,
   "id": "11",
   "metadata": {},
   "outputs": [],
   "source": [
    "import psycopg2\n",
    "import pandas as pd\n",
    "import numpy as np\n",
    "\n",
    "conn = psycopg2.connect(dbname=\"deeplabcut_db\", user=\"postgres\", password=1234)\n",
    "\n",
    "query = \"SELECT * FROM dlc_files LIMIT 1\"\n",
    "data = pd.read_sql_query(query, conn)\n",
    "print(data)\n",
    "\n",
    "conn.close()"
   ]
  },
  {
   "cell_type": "code",
   "execution_count": null,
   "id": "12",
   "metadata": {},
   "outputs": [],
   "source": [
    "import psycopg2\n",
    "\n",
    "conn = psycopg2.connect(dbname=\"deeplabcut_db\", user=\"postgres\", password=1234)\n",
    "\n",
    "query = \"SELECT normalized_path FROM dlc_files  ORDER BY id LIMIT 5\"\n",
    "data = pd.read_sql_query(query, conn)\n",
    "print(data)"
   ]
  },
  {
   "cell_type": "code",
   "execution_count": null,
   "id": "13",
   "metadata": {},
   "outputs": [],
   "source": [
    "import importlib\n",
    "import count_stopping_points\n",
    "\n",
    "importlib.reload(count_stopping_points)\n",
    "from count_stopping_points import count_stopping_points"
   ]
  },
  {
   "cell_type": "code",
   "execution_count": null,
   "id": "14",
   "metadata": {},
   "outputs": [],
   "source": [
    "import pandas as pd\n",
    "import psycopg2\n",
    "from count_stopping_points import count_stopping_points\n",
    "\n",
    "# Connect to the database\n",
    "conn = psycopg2.connect(dbname=\"deeplabcut_db\", user=\"postgres\", password=1234)\n",
    "\n",
    "# Query first 5 normalized file paths\n",
    "query = \"SELECT normalized_path FROM dlc_files ORDER BY id LIMIT 5\"\n",
    "data = pd.read_sql_query(query, conn)\n",
    "conn.close()\n",
    "\n",
    "# Loop through and plot\n",
    "for i, row in data.iterrows():\n",
    "    path = row['normalized_path']\n",
    "    print(f\"\\n📂 Processing file {i+1}: {path}\")\n",
    "    count = count_stopping_points(path, plot=True)\n",
    "    print(f\"🛑 Stopping points: {count}\")"
   ]
  },
  {
   "cell_type": "code",
   "execution_count": null,
   "id": "15",
   "metadata": {
    "jupyter": {
     "outputs_hidden": true
    }
   },
   "outputs": [],
   "source": [
    "import pandas as pd\n",
    "import psycopg2\n",
    "from calculate_acc_jerk_outliers import calculate_acc_jerk_outliers\n",
    "\n",
    "# Connect to the database\n",
    "conn = psycopg2.connect(dbname=\"deeplabcut_db\", user=\"postgres\", password=1234)\n",
    "\n",
    "# Query first 5 normalized file paths\n",
    "query = \"SELECT normalized_path FROM dlc_files ORDER BY id LIMIT 2\"\n",
    "data = pd.read_sql_query(query, conn)\n",
    "conn.close()\n",
    "\n",
    "# Loop through and plot\n",
    "for i, row in data.iterrows():\n",
    "    path = row['normalized_path']\n",
    "    print(f\"\\nProcessing file {i+1}: {path}\")\n",
    "    acc_outliers, jerk_outliers = calculate_acc_jerk_outliers(path, plot=True)\n",
    "    print(f\"acc_outliers: {acc_outliers}, jerk_outliers: {jerk_outliers}\")"
   ]
  },
  {
   "cell_type": "code",
   "execution_count": null,
   "id": "16",
   "metadata": {},
   "outputs": [],
   "source": [
    "from update_outliers_to_db import update_outliers_to_db\n",
    "update_outliers_to_db()"
   ]
  },
  {
   "cell_type": "code",
   "execution_count": null,
   "id": "17",
   "metadata": {},
   "outputs": [],
   "source": [
    "from extract_treatment_ids import extract_treatment_ids\n",
    "ids = extract_treatment_ids('food_only', 'Saline')"
   ]
  },
  {
   "cell_type": "code",
   "execution_count": null,
   "id": "18",
   "metadata": {},
   "outputs": [],
   "source": [
    "import importlib\n",
    "import plot_cumulative_distance\n",
    "\n",
    "importlib.reload(plot_cumulative_distance)\n",
    "from plot_cumulative_distance import plot_cumulative_distance\n",
    "\n",
    "plot_cumulative_distance(ids)"
   ]
  },
  {
   "cell_type": "code",
   "execution_count": null,
   "id": "19",
   "metadata": {},
   "outputs": [],
   "source": [
    "ids = extract_treatment_ids('food_only', 'Ghrelin')\n",
    "plot_cumulative_distance(ids)"
   ]
  },
  {
   "cell_type": "code",
   "execution_count": null,
   "id": "20",
   "metadata": {},
   "outputs": [],
   "source": [
    "ids = extract_treatment_ids('food_only', 'Inhibitory')\n",
    "plot_cumulative_distance(ids)"
   ]
  },
  {
   "cell_type": "code",
   "execution_count": null,
   "id": "21",
   "metadata": {},
   "outputs": [],
   "source": [
    "ids = extract_treatment_ids('food_only', 'Excitatory')\n",
    "plot_cumulative_distance(ids)"
   ]
  },
  {
   "cell_type": "code",
   "execution_count": null,
   "id": "22",
   "metadata": {},
   "outputs": [],
   "source": [
    "from extract_treatment_ids import extract_treatment_ids\n",
    "from plot_grouped_cumulative_distance import plot_grouped_cumulative_distance\n",
    "\n",
    "group_ids = {\n",
    "    'Saline': extract_treatment_ids('food_only', 'Saline'),\n",
    "    'Ghrelin': extract_treatment_ids('food_only', 'Ghrelin'),\n",
    "    'Inhibitory': extract_treatment_ids('food_only', 'Inhibitory'),\n",
    "    'Excitatory': extract_treatment_ids('food_only', 'Excitatory')\n",
    "}\n",
    "\n",
    "plot_grouped_cumulative_distance(group_ids)"
   ]
  },
  {
   "cell_type": "code",
   "execution_count": null,
   "id": "23",
   "metadata": {},
   "outputs": [],
   "source": [
    "group_ids = {\n",
    "    'Saline': extract_treatment_ids('light_only', 'Saline'),\n",
    "    'Ghrelin': extract_treatment_ids('light_only', 'Ghrelin'),\n",
    "    'Inhibitory': extract_treatment_ids('light_only', 'Inhibitory'),\n",
    "    'Excitatory': extract_treatment_ids('light_only', 'Excitatory')\n",
    "}\n",
    "\n",
    "plot_grouped_cumulative_distance(group_ids)"
   ]
  },
  {
   "cell_type": "code",
   "execution_count": null,
   "id": "24",
   "metadata": {},
   "outputs": [],
   "source": [
    "group_ids = {\n",
    "    'Saline': extract_treatment_ids('toy_only', 'Saline'),\n",
    "    'Ghrelin': extract_treatment_ids('toy_only', 'Ghrelin'),\n",
    "    'Inhibitory': extract_treatment_ids('toy_only', 'Inhibitory'),\n",
    "    'Excitatory': extract_treatment_ids('toy_only', 'Excitatory')\n",
    "}\n",
    "\n",
    "plot_grouped_cumulative_distance(group_ids)"
   ]
  },
  {
   "cell_type": "code",
   "execution_count": null,
   "id": "25",
   "metadata": {},
   "outputs": [],
   "source": [
    "group_ids = {\n",
    "    'Saline': extract_treatment_ids('food_light', 'Saline'),\n",
    "    'Ghrelin': extract_treatment_ids('food_light', 'Ghrelin'),\n",
    "    'Inhibitory': extract_treatment_ids('food_light', 'Inhibitory'),\n",
    "    'Excitatory': extract_treatment_ids('food_light', 'Excitatory')\n",
    "}\n",
    "\n",
    "plot_grouped_cumulative_distance(group_ids)"
   ]
  },
  {
   "cell_type": "code",
   "execution_count": null,
   "id": "26",
   "metadata": {},
   "outputs": [],
   "source": [
    "group_ids = {\n",
    "    'Saline': extract_treatment_ids('toy_light', 'Saline'),\n",
    "    'Ghrelin': extract_treatment_ids('toy_light', 'Ghrelin'),\n",
    "    'Inhibitory': extract_treatment_ids('toy_light', 'Inhibitory'),\n",
    "    'Excitatory': extract_treatment_ids('toy_light', 'Excitatory')\n",
    "}\n",
    "\n",
    "plot_grouped_cumulative_distance(group_ids)"
   ]
  },
  {
   "cell_type": "code",
   "execution_count": null,
   "id": "27",
   "metadata": {},
   "outputs": [],
   "source": []
  }
 ],
 "metadata": {
  "kernelspec": {
   "display_name": "Python [conda env:.conda-DLC] *",
   "language": "python",
   "name": "conda-env-.conda-DLC-py"
  },
  "language_info": {
   "codemirror_mode": {
    "name": "ipython",
    "version": 3
   },
   "file_extension": ".py",
   "mimetype": "text/x-python",
   "name": "python",
   "nbconvert_exporter": "python",
   "pygments_lexer": "ipython3",
   "version": "3.8.20"
  }
 },
 "nbformat": 4,
 "nbformat_minor": 5
}
