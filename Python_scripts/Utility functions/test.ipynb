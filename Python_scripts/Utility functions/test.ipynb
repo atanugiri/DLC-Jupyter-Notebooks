{
 "cells": [
  {
   "cell_type": "code",
   "execution_count": 13,
   "id": "2dd53f66-1ae2-4341-9a53-994465f0c453",
   "metadata": {},
   "outputs": [
    {
     "name": "stdout",
     "output_type": "stream",
     "text": [
      "Saving top_left as FoodOnly_8_28_24_S3P_Teal.mp4\n",
      "Saving top_right as FoodOnly_8_28_24_S3P_Orange.mp4\n",
      "Saving bottom_right as FoodOnly_8_28_24_S3P_Cyan.mp4\n",
      "Finished processing: FoodOnly_8_28_24_S3P_Teal_Orange_None_Cyan_Trial_2.mp4\n"
     ]
    }
   ],
   "source": [
    "from split_videos_by_quadrants import split_videos_by_quadrants\n",
    "\n",
    "split_videos_by_quadrants(\n",
    "    input_dir=r\"C:\\DeepLabCutProjects\\data\\FoodOnly\\RawVideos\\FoodOnly_8_28_24_S3P_Teal_Orange_None_Cyan_Trial_2.mp4\",\n",
    "    output_dir=r\"C:\\DeepLabCutProjects\\data\\FoodOnly\\SplitVideos\",\n",
    "    mode=\"2\"  # or \"2\"\n",
    ")"
   ]
  },
  {
   "cell_type": "code",
   "execution_count": null,
   "id": "7cea71db-8de3-4ba0-b07e-08dc48d6aa98",
   "metadata": {},
   "outputs": [],
   "source": []
  }
 ],
 "metadata": {
  "kernelspec": {
   "display_name": "Python [conda env:.conda-DLC] *",
   "language": "python",
   "name": "conda-env-.conda-DLC-py"
  },
  "language_info": {
   "codemirror_mode": {
    "name": "ipython",
    "version": 3
   },
   "file_extension": ".py",
   "mimetype": "text/x-python",
   "name": "python",
   "nbconvert_exporter": "python",
   "pygments_lexer": "ipython3",
   "version": "3.8.20"
  }
 },
 "nbformat": 4,
 "nbformat_minor": 5
}
