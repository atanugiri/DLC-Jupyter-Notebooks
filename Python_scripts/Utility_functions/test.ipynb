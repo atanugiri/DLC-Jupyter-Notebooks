{
 "cells": [
  {
   "cell_type": "code",
   "execution_count": null,
   "id": "0",
   "metadata": {},
   "outputs": [],
   "source": [
    "from split_videos_by_quadrants import split_videos_by_quadrants\n",
    "\n",
    "split_videos_by_quadrants(\n",
    "    input_dir=r\"C:\\DeepLabCutProjects\\data\\FoodOnly\\RawVideos\\FoodOnly_8_28_24_S3P_Teal_Orange_None_Cyan_Trial_2.mp4\",\n",
    "    output_dir=r\"C:\\DeepLabCutProjects\\data\\FoodOnly\\SplitVideos\",\n",
    "    mode=\"2\"  # or \"2\"\n",
    ")"
   ]
  },
  {
   "cell_type": "code",
   "execution_count": null,
   "id": "1",
   "metadata": {},
   "outputs": [],
   "source": []
  }
 ],
 "metadata": {
  "kernelspec": {
   "display_name": "Python [conda env:.conda-DLC] *",
   "language": "python",
   "name": "conda-env-.conda-DLC-py"
  },
  "language_info": {
   "codemirror_mode": {
    "name": "ipython",
    "version": 3
   },
   "file_extension": ".py",
   "mimetype": "text/x-python",
   "name": "python",
   "nbconvert_exporter": "python",
   "pygments_lexer": "ipython3",
   "version": "3.8.20"
  }
 },
 "nbformat": 4,
 "nbformat_minor": 5
}
