{
 "cells": [
  {
   "cell_type": "markdown",
   "metadata": {},
   "source": [
    "# DeepLabCut Notebook"
   ]
  },
  {
   "cell_type": "markdown",
   "metadata": {},
   "source": [
    "## Create a new DeepLabCut Project"
   ]
  },
  {
   "cell_type": "markdown",
   "metadata": {},
   "source": [
    "Note: Open this jupyter notebook in your DeepLabCut environment."
   ]
  },
  {
   "cell_type": "markdown",
   "metadata": {},
   "source": [
    "### Create DLC Project"
   ]
  },
  {
   "cell_type": "markdown",
   "metadata": {},
   "source": [
    "Import python libraries needed for this notebook"
   ]
  },
  {
   "cell_type": "code",
   "execution_count": 1,
   "metadata": {},
   "outputs": [
    {
     "name": "stdout",
     "output_type": "stream",
     "text": [
      "Loading DLC 2.3.9...\n",
      "Using DeepLabCut version: 2.3.9\n",
      "Using TensorFlow version: 2.10.0\n"
     ]
    }
   ],
   "source": [
    "try:\n",
    "    import deeplabcut\n",
    "    import tensorflow\n",
    "    import tkinter\n",
    "    from tkinter import filedialog\n",
    "\n",
    "    print(f'Using DeepLabCut version: {deeplabcut. __version__}')\n",
    "    print(f'Using TensorFlow version: {tensorflow. __version__}')\n",
    "\n",
    "except:\n",
    "    print(\"Please run the notebook in in your local environment\")"
   ]
  },
  {
   "cell_type": "markdown",
   "metadata": {},
   "source": [
    "### You might have to import torch to use PyTorch engine ###"
   ]
  },
  {
   "cell_type": "code",
   "execution_count": 2,
   "metadata": {},
   "outputs": [
    {
     "name": "stdout",
     "output_type": "stream",
     "text": [
      "PyTorch version: 1.12.0+cpu\n",
      "CUDA Available: False\n"
     ]
    }
   ],
   "source": [
    "import torch\n",
    "print(\"PyTorch version:\", torch.__version__)\n",
    "print(\"CUDA Available:\", torch.cuda.is_available())\n",
    "if torch.cuda.is_available():\n",
    "    print(\"GPU Name:\", torch.cuda.get_device_name(0))\n",
    "    print(\"cuDNN Version:\", torch.backends.cudnn.version())\n",
    "    print(\"cuDNN Enabled:\", torch.backends.cudnn.enabled)"
   ]
  },
  {
   "cell_type": "markdown",
   "metadata": {},
   "source": [
    "### Check PyTorch in DeepLabCut ###"
   ]
  },
  {
   "cell_type": "code",
   "execution_count": 3,
   "metadata": {},
   "outputs": [
    {
     "name": "stdout",
     "output_type": "stream",
     "text": [
      "DeepLabCut is using PyTorch on CPU.\n"
     ]
    }
   ],
   "source": [
    "if torch.cuda.is_available():\n",
    "    print(\"DeepLabCut is using PyTorch with GPU support.\")\n",
    "else:\n",
    "    print(\"DeepLabCut is using PyTorch on CPU.\")"
   ]
  },
  {
   "cell_type": "markdown",
   "metadata": {},
   "source": [
    "### Check TensorFlow Fallback ###"
   ]
  },
  {
   "cell_type": "code",
   "execution_count": 3,
   "metadata": {},
   "outputs": [
    {
     "name": "stdout",
     "output_type": "stream",
     "text": [
      "DeepLabCut might be using TensorFlow with GPU support.\n",
      "[PhysicalDevice(name='/physical_device:GPU:0', device_type='GPU')]\n"
     ]
    }
   ],
   "source": [
    "import tensorflow as tf\n",
    "\n",
    "if tf.config.list_physical_devices('GPU'):\n",
    "    print(\"DeepLabCut might be using TensorFlow with GPU support.\")\n",
    "else:\n",
    "    print(\"DeepLabCut might be using TensorFlow on CPU.\")\n",
    "    \n",
    "print(tf.config.list_physical_devices('GPU'))"
   ]
  },
  {
   "cell_type": "markdown",
   "metadata": {},
   "source": [
    "Start by selecting the list of videos to be included in the model. You could manually type the full path of each video in a python list as argument of the deeplabcut.create_new_project() function, like so:"
   ]
  },
  {
   "cell_type": "code",
   "execution_count": null,
   "metadata": {},
   "outputs": [],
   "source": [
    "['C:\\\\Users\\\\computername\\\\Videos\\\\reachingvideo1.avi', \n",
    " 'C:\\\\Users\\\\computername\\\\Videos\\\\reachingvideo2.avi', \n",
    " 'C:\\\\Users\\\\computername\\\\Videos\\\\reachingvideo3.avi']"
   ]
  },
  {
   "cell_type": "markdown",
   "metadata": {},
   "source": [
    ":::{note}\n",
    "Windows users need to use the double backslash for path directories or a python raw filestring.\n",
    ":::"
   ]
  },
  {
   "cell_type": "markdown",
   "metadata": {},
   "source": [
    "Instead, we use ```tkinter``` to open a file dialoge and save the file paths in a python list called ```videolist```: "
   ]
  },
  {
   "cell_type": "code",
   "execution_count": 4,
   "metadata": {},
   "outputs": [
    {
     "name": "stdout",
     "output_type": "stream",
     "text": [
      "6 videos selected:\n",
      "C:/DeepLabCutProjects/DLC-Atanu-2024-12-25/videos/Cre_WT_habituation_Trial_1_bottom_left.mp4\n",
      "C:/DeepLabCutProjects/DLC-Atanu-2024-12-25/videos/Cre_WT_habituation_Trial_1_bottom_right.mp4\n",
      "C:/DeepLabCutProjects/DLC-Atanu-2024-12-25/videos/Food_center_Trial_1_bottom_right.mp4\n",
      "C:/DeepLabCutProjects/DLC-Atanu-2024-12-25/videos/FPP_Trial_1_bottom_right.mp4\n",
      "C:/DeepLabCutProjects/DLC-Atanu-2024-12-25/videos/Toy_Light_Trial_1_bottom_right.mp4\n",
      "C:/DeepLabCutProjects/DLC-Atanu-2024-12-25/videos/Trial_10_bottom_left.mp4\n"
     ]
    }
   ],
   "source": [
    "video_files = filedialog.askopenfilenames(title='Choose new video files to analyze in DeepLabCut:')\n",
    "videolist = list(video_files)\n",
    "\n",
    "print(f'{len(videolist)} videos selected:')\n",
    "for i in range(len(videolist)): \n",
    "    print(videolist[i])"
   ]
  },
  {
   "cell_type": "markdown",
   "metadata": {},
   "source": [
    "### Verify if the videos exist"
   ]
  },
  {
   "cell_type": "code",
   "execution_count": 5,
   "metadata": {},
   "outputs": [
    {
     "name": "stdout",
     "output_type": "stream",
     "text": [
      "['C:/DeepLabCutProjects/DLC-Atanu-2024-12-25/videos/Cre_WT_habituation_Trial_1_bottom_left.mp4', 'C:/DeepLabCutProjects/DLC-Atanu-2024-12-25/videos/Cre_WT_habituation_Trial_1_bottom_right.mp4', 'C:/DeepLabCutProjects/DLC-Atanu-2024-12-25/videos/Food_center_Trial_1_bottom_right.mp4', 'C:/DeepLabCutProjects/DLC-Atanu-2024-12-25/videos/FPP_Trial_1_bottom_right.mp4', 'C:/DeepLabCutProjects/DLC-Atanu-2024-12-25/videos/Toy_Light_Trial_1_bottom_right.mp4', 'C:/DeepLabCutProjects/DLC-Atanu-2024-12-25/videos/Trial_10_bottom_left.mp4']\n"
     ]
    }
   ],
   "source": [
    "print(videolist)"
   ]
  },
  {
   "cell_type": "markdown",
   "metadata": {},
   "source": [
    "Now we create a new project using the video paths in ```videolist```, give the project a name and set a few parameters:"
   ]
  },
  {
   "cell_type": "code",
   "execution_count": 17,
   "metadata": {
    "collapsed": true,
    "jupyter": {
     "outputs_hidden": true
    }
   },
   "outputs": [
    {
     "name": "stdout",
     "output_type": "stream",
     "text": [
      "Created \"C:\\DeepLabCutProjects\\DLC-Atanu-2024-12-25\\videos\"\n",
      "Created \"C:\\DeepLabCutProjects\\DLC-Atanu-2024-12-25\\labeled-data\"\n",
      "Created \"C:\\DeepLabCutProjects\\DLC-Atanu-2024-12-25\\training-datasets\"\n",
      "Created \"C:\\DeepLabCutProjects\\DLC-Atanu-2024-12-25\\dlc-models\"\n",
      "Copying the videos\n",
      "C:\\DeepLabCutProjects\\DLC-Atanu-2024-12-25\\videos\\Trial_10_top_right.mp4\n",
      "Generated \"C:\\DeepLabCutProjects\\DLC-Atanu-2024-12-25\\config.yaml\"\n",
      "\n",
      "A new project with name DLC-Atanu-2024-12-25 is created at C:\\DeepLabCutProjects and a configurable file (config.yaml) is stored there. Change the parameters in this file to adapt to your project's needs.\n",
      " Once you have changed the configuration file, use the function 'extract_frames' to select frames for labeling.\n",
      ". [OPTIONAL] Use the function 'add_new_videos' to add new videos to your project (at any stage).\n"
     ]
    }
   ],
   "source": [
    "config_path = deeplabcut.create_new_project('DLC', 'Atanu', videolist, working_directory='C:/DeepLabCutProjects/', copy_videos=True, multianimal=False)"
   ]
  },
  {
   "cell_type": "markdown",
   "metadata": {},
   "source": [
    ":::{note}\n",
    "You can load existing DeepLabCut projects by specifying the config_path as below:\n",
    ":::"
   ]
  },
  {
   "cell_type": "code",
   "execution_count": 4,
   "metadata": {},
   "outputs": [],
   "source": [
    "config_path = filedialog.askopenfilename(title='Choose DeepLabCut config.yaml file:')"
   ]
  },
  {
   "cell_type": "code",
   "execution_count": 5,
   "metadata": {},
   "outputs": [
    {
     "name": "stdout",
     "output_type": "stream",
     "text": [
      "C:/DeepLabCutProjects/DLC-Atanu-2024-12-25/config.yaml\n"
     ]
    }
   ],
   "source": [
    "print(config_path)"
   ]
  },
  {
   "cell_type": "markdown",
   "metadata": {},
   "source": [
    "### Check the Backend (TensorFlow or PyTorch)"
   ]
  },
  {
   "cell_type": "code",
   "execution_count": 6,
   "metadata": {},
   "outputs": [
    {
     "name": "stdout",
     "output_type": "stream",
     "text": [
      "Using TensorFlow backend.\n"
     ]
    }
   ],
   "source": [
    "try:\n",
    "    from tensorflow.python.client import device_lib\n",
    "    print(\"Using TensorFlow backend.\")\n",
    "except ImportError:\n",
    "    try:\n",
    "        import torch\n",
    "        print(\"Using PyTorch backend.\")\n",
    "    except ImportError:\n",
    "        print(\"No supported backend found. Ensure TensorFlow or PyTorch is installed.\")"
   ]
  },
  {
   "cell_type": "markdown",
   "metadata": {},
   "source": [
    "### Verify GPU Usage"
   ]
  },
  {
   "cell_type": "code",
   "execution_count": 7,
   "metadata": {
    "scrolled": true
   },
   "outputs": [
    {
     "name": "stdout",
     "output_type": "stream",
     "text": [
      "[name: \"/device:CPU:0\"\n",
      "device_type: \"CPU\"\n",
      "memory_limit: 268435456\n",
      "locality {\n",
      "}\n",
      "incarnation: 11762233355078615002\n",
      "xla_global_id: -1\n",
      ", name: \"/device:GPU:0\"\n",
      "device_type: \"GPU\"\n",
      "memory_limit: 2357670708\n",
      "locality {\n",
      "  bus_id: 1\n",
      "  links {\n",
      "  }\n",
      "}\n",
      "incarnation: 16700912155385197462\n",
      "physical_device_desc: \"device: 0, name: NVIDIA T1000, pci bus id: 0000:01:00.0, compute capability: 7.5\"\n",
      "xla_global_id: 416903419\n",
      "]\n"
     ]
    }
   ],
   "source": [
    "from tensorflow.python.client import device_lib\n",
    "print(device_lib.list_local_devices())"
   ]
  },
  {
   "cell_type": "markdown",
   "metadata": {},
   "source": [
    "### Configure Project"
   ]
  },
  {
   "cell_type": "markdown",
   "metadata": {},
   "source": [
    "Now that a new project has been created with a specific directory structure and configuration file, we need to tweak some parameters to tailor the bodyparts we want to track:"
   ]
  },
  {
   "cell_type": "code",
   "execution_count": null,
   "metadata": {},
   "outputs": [],
   "source": [
    "import webbrowser\n",
    "webbrowser.open(config_path)\n",
    "print('Please edit bodyparts list to be tracked')"
   ]
  },
  {
   "cell_type": "code",
   "execution_count": 37,
   "metadata": {
    "collapsed": true,
    "jupyter": {
     "outputs_hidden": true
    }
   },
   "outputs": [
    {
     "name": "stdout",
     "output_type": "stream",
     "text": [
      "    # Project definitions (do not edit)\n",
      "Task: DLC\n",
      "scorer: Atanu\n",
      "date: Dec23\n",
      "multianimalproject: false\n",
      "identity:\n",
      "\n",
      "    # Project path (change when moving around)\n",
      "project_path: C:\\DeepLabCutProjects\\DLC-Atanu-2024-12-23\n",
      "\n",
      "    # Annotation data set configuration (and individual video cropping parameters)\n",
      "video_sets:\n",
      "  C:\\DeepLabCutProjects\\DLC-Atanu-2024-12-23\\videos\\Trial_10_top_right.mp4:\n",
      "    crop: 0, 640, 0, 480\n",
      "bodyparts:\n",
      "- bodypart1\n",
      "- bodypart2\n",
      "- bodypart3\n",
      "- objectA\n",
      "\n",
      "    # Fraction of video to start/stop when extracting frames for labeling/refinement\n",
      "start: 0\n",
      "stop: 1\n",
      "numframes2pick: 20\n",
      "\n",
      "    # Plotting configuration\n",
      "skeleton:\n",
      "- - bodypart1\n",
      "  - bodypart2\n",
      "- - objectA\n",
      "  - bodypart3\n",
      "skeleton_color: black\n",
      "pcutoff: 0.6\n",
      "dotsize: 12\n",
      "alphavalue: 0.7\n",
      "colormap: rainbow\n",
      "\n",
      "    # Training,Evaluation and Analysis configuration\n",
      "TrainingFraction:\n",
      "- 0.95\n",
      "iteration: 0\n",
      "default_net_type: resnet_50\n",
      "default_augmenter: default\n",
      "snapshotindex: -1\n",
      "batch_size: 8\n",
      "\n",
      "    # Cropping Parameters (for analysis and outlier frame detection)\n",
      "cropping: false\n",
      "    #if cropping is true for analysis, then set the values here:\n",
      "x1: 0\n",
      "x2: 640\n",
      "y1: 277\n",
      "y2: 624\n",
      "\n",
      "    # Refinement configuration (parameters from annotation dataset configuration also relevant in this stage)\n",
      "corner2move2:\n",
      "- 50\n",
      "- 50\n",
      "move2corner: true\n",
      "\n"
     ]
    }
   ],
   "source": [
    "with open(config_path, 'r') as file:\n",
    "    config_content = file.read()\n",
    "print(config_content)  # Display the file contents for editing"
   ]
  },
  {
   "cell_type": "markdown",
   "metadata": {},
   "source": [
    "Once happy with all ```bodyparts```, ```skeleton:``` and ```numframes2pick:``` settings, start extracting frames to label:\n"
   ]
  },
  {
   "cell_type": "code",
   "execution_count": 23,
   "metadata": {
    "collapsed": true,
    "jupyter": {
     "outputs_hidden": true
    }
   },
   "outputs": [
    {
     "name": "stdout",
     "output_type": "stream",
     "text": [
      "Config file read successfully.\n",
      "Extracting frames based on kmeans ...\n",
      "Kmeans-quantization based extracting of frames from 0.0  seconds to 37.6  seconds.\n",
      "Extracting and downsampling... 376  frames from the video.\n"
     ]
    },
    {
     "name": "stderr",
     "output_type": "stream",
     "text": [
      "376it [00:00, 434.99it/s]\n",
      "C:\\Users\\FriedmanLab Optogen\\.conda\\envs\\DLC\\lib\\site-packages\\sklearn\\cluster\\_kmeans.py:1934: FutureWarning: The default value of `n_init` will change from 3 to 'auto' in 1.4. Set the value of `n_init` explicitly to suppress the warning\n",
      "  super()._check_params_vs_input(X, default_n_init=3)\n"
     ]
    },
    {
     "name": "stdout",
     "output_type": "stream",
     "text": [
      "Kmeans clustering ... (this might take a while)\n",
      "Frames were successfully extracted, for the videos listed in the config.yaml file.\n",
      "\n",
      "You can now label the frames using the function 'label_frames' (Note, you should label frames extracted from diverse videos (and many videos; we do not recommend training on single videos!)).\n"
     ]
    }
   ],
   "source": [
    "deeplabcut.extract_frames(config_path, mode='automatic', algo='kmeans', userfeedback=False, crop=False)"
   ]
  },
  {
   "cell_type": "markdown",
   "metadata": {},
   "source": [
    "### Label Frames (Do it in GUI)"
   ]
  },
  {
   "cell_type": "code",
   "execution_count": 7,
   "metadata": {},
   "outputs": [],
   "source": [
    "deeplabcut.label_frames(config_path)"
   ]
  },
  {
   "cell_type": "code",
   "execution_count": 9,
   "metadata": {},
   "outputs": [
    {
     "name": "stdout",
     "output_type": "stream",
     "text": [
      "3.8.20 | packaged by conda-forge | (default, Sep 30 2024, 17:44:03) [MSC v.1929 64 bit (AMD64)]\n"
     ]
    }
   ],
   "source": [
    "import sys\n",
    "print(sys.version)"
   ]
  },
  {
   "cell_type": "markdown",
   "metadata": {},
   "source": [
    "You can plot your labeled frames to check your annotation accuracy."
   ]
  },
  {
   "cell_type": "code",
   "execution_count": 9,
   "metadata": {
    "collapsed": true,
    "jupyter": {
     "outputs_hidden": true
    }
   },
   "outputs": [
    {
     "name": "stdout",
     "output_type": "stream",
     "text": [
      "Creating images with labels by Atanu.\n"
     ]
    },
    {
     "name": "stderr",
     "output_type": "stream",
     "text": [
      "100%|██████████| 20/20 [00:02<00:00,  8.74it/s]\n",
      "100%|██████████| 20/20 [00:01<00:00, 10.84it/s]\n",
      "100%|██████████| 20/20 [00:01<00:00, 10.31it/s]\n",
      "100%|██████████| 20/20 [00:01<00:00, 11.70it/s]\n",
      "100%|██████████| 20/20 [00:01<00:00, 11.11it/s]\n",
      "100%|██████████| 20/20 [00:01<00:00, 12.22it/s]\n",
      "100%|██████████| 20/20 [00:01<00:00, 10.34it/s]\n",
      "100%|██████████| 20/20 [00:02<00:00,  8.76it/s]\n",
      "100%|██████████| 20/20 [00:00<00:00, 55.25it/s]\n",
      "100%|██████████| 20/20 [00:00<00:00, 56.86it/s]\n",
      "100%|██████████| 20/20 [00:02<00:00,  9.48it/s]\n",
      "100%|██████████| 20/20 [00:01<00:00, 12.27it/s]\n",
      "100%|██████████| 20/20 [00:00<00:00, 36.27it/s]"
     ]
    },
    {
     "name": "stdout",
     "output_type": "stream",
     "text": [
      "If all the labels are ok, then use the function 'create_training_dataset' to create the training dataset!\n"
     ]
    },
    {
     "name": "stderr",
     "output_type": "stream",
     "text": [
      "\n"
     ]
    }
   ],
   "source": [
    "deeplabcut.check_labels(config_path)"
   ]
  },
  {
   "cell_type": "markdown",
   "metadata": {},
   "source": [
    "### Train Model"
   ]
  },
  {
   "cell_type": "code",
   "execution_count": 18,
   "metadata": {
    "collapsed": true,
    "jupyter": {
     "outputs_hidden": true
    }
   },
   "outputs": [
    {
     "name": "stdout",
     "output_type": "stream",
     "text": [
      "The training dataset is successfully created. Use the function 'train_network' to start training. Happy training!\n"
     ]
    },
    {
     "data": {
      "text/plain": [
       "[(0.95,\n",
       "  1,\n",
       "  (array([165,  19,  66, 198, 118, 176, 127, 159, 237,  47, 258, 233,  78,\n",
       "           37, 131,  89, 175, 107, 190, 140,  88, 240, 166, 191, 255, 150,\n",
       "          103, 156,  75, 188,  11,  10, 125,  16, 145,  85,  62, 110, 172,\n",
       "          246, 248, 186, 157, 204,  23,  77, 174, 244,  96, 102,  15, 225,\n",
       "          138,   2, 224,  17,  27, 152, 143, 162,  41,  45,  50,  57, 189,\n",
       "          201, 239, 236, 245, 229, 252,  46, 132, 257,  21, 148,  90, 202,\n",
       "          223, 182,  71,  82,  67, 254,  84, 253, 146,  95, 109, 149,  73,\n",
       "          243, 212, 133, 235,  33, 123,  40, 179, 169,  69,  99, 134, 108,\n",
       "          185,  39, 222,   1, 184, 161,  12, 217, 129, 187,  98, 211, 113,\n",
       "          197,  76, 142,  35, 111, 130, 168,   9, 178, 196,  31,  63,  43,\n",
       "           91, 104, 112, 232,  36, 155,  65,  42, 126,   3, 205, 247, 228,\n",
       "          128, 137, 219,   7,  86, 119, 192, 115,  29, 241, 101,  97, 234,\n",
       "          153,  54,  30, 195,  49, 100, 216,  24, 151, 114,  56, 144,  60,\n",
       "            6,   8,  79, 231, 230, 180, 221, 215,  38, 194, 121, 250,  44,\n",
       "          106, 209, 226, 163, 124, 154,  80,  59,  94,  48,  53,  70, 193,\n",
       "          251, 213, 206,  55, 171, 249, 218, 158, 208,  34, 117,  18, 105,\n",
       "           51, 177,  52,  74,  26, 173,  92, 167,   4, 139, 181, 242, 207,\n",
       "          259,   0,   5, 141,  61, 200, 135,  83, 122, 227,  22,  68, 210,\n",
       "           20,  28, 214,  14, 170,  32,  25, 164, 220, 203,  64, 183, 116]),\n",
       "   array([120,  81,  58,  13, 256, 199,  72, 147, 160,  87, 238,  93, 136])))]"
      ]
     },
     "execution_count": 18,
     "metadata": {},
     "output_type": "execute_result"
    }
   ],
   "source": [
    "deeplabcut.create_training_dataset(config_path, num_shuffles=1, net_type='resnet_50', augmenter_type='imgaug')"
   ]
  },
  {
   "cell_type": "code",
   "execution_count": 17,
   "metadata": {},
   "outputs": [],
   "source": [
    "deeplabcut.create_training_dataset?"
   ]
  },
  {
   "cell_type": "code",
   "execution_count": 13,
   "metadata": {},
   "outputs": [
    {
     "name": "stdout",
     "output_type": "stream",
     "text": [
      "3.19.6\n"
     ]
    }
   ],
   "source": [
    "import google.protobuf\n",
    "print(google.protobuf.__version__)"
   ]
  },
  {
   "cell_type": "code",
   "execution_count": 21,
   "metadata": {
    "collapsed": true,
    "jupyter": {
     "outputs_hidden": true
    }
   },
   "outputs": [
    {
     "name": "stderr",
     "output_type": "stream",
     "text": [
      "Config:\n",
      "{'all_joints': [[0], [1], [2], [3], [4], [5], [6], [7], [8], [9], [10]],\n",
      " 'all_joints_names': ['Head',\n",
      "                      'Leftear',\n",
      "                      'Rightear',\n",
      "                      'Tailbase',\n",
      "                      'Neck',\n",
      "                      'Midback',\n",
      "                      'Lowerback',\n",
      "                      'Corner1',\n",
      "                      'Corner2',\n",
      "                      'Corner3',\n",
      "                      'Corner4'],\n",
      " 'alpha_r': 0.02,\n",
      " 'apply_prob': 0.5,\n",
      " 'batch_size': 1,\n",
      " 'contrast': {'clahe': True,\n",
      "              'claheratio': 0.1,\n",
      "              'histeq': True,\n",
      "              'histeqratio': 0.1},\n",
      " 'convolution': {'edge': False,\n",
      "                 'emboss': {'alpha': [0.0, 1.0], 'strength': [0.5, 1.5]},\n",
      "                 'embossratio': 0.1,\n",
      "                 'sharpen': False,\n",
      "                 'sharpenratio': 0.3},\n",
      " 'crop_pad': 0,\n",
      " 'cropratio': 0.4,\n",
      " 'dataset': 'training-datasets\\\\iteration-3\\\\UnaugmentedDataSet_DLCDec25\\\\DLC_Atanu95shuffle1.mat',\n",
      " 'dataset_type': 'imgaug',\n",
      " 'decay_steps': 30000,\n",
      " 'deterministic': False,\n",
      " 'display_iters': 1000,\n",
      " 'fg_fraction': 0.25,\n",
      " 'global_scale': 0.8,\n",
      " 'init_weights': 'C:\\\\DeepLabCutProjects\\\\DLC-Atanu-2024-12-25\\\\dlc-models\\\\iteration-3\\\\DLCDec25-trainset95shuffle1\\\\train\\\\snapshot-600000',\n",
      " 'intermediate_supervision': False,\n",
      " 'intermediate_supervision_layer': 12,\n",
      " 'location_refinement': True,\n",
      " 'locref_huber_loss': True,\n",
      " 'locref_loss_weight': 0.05,\n",
      " 'locref_stdev': 7.2801,\n",
      " 'log_dir': 'log',\n",
      " 'lr_init': 0.0005,\n",
      " 'max_input_size': 1500,\n",
      " 'mean_pixel': [123.68, 116.779, 103.939],\n",
      " 'metadataset': 'training-datasets\\\\iteration-3\\\\UnaugmentedDataSet_DLCDec25\\\\Documentation_data-DLC_95shuffle1.pickle',\n",
      " 'min_input_size': 64,\n",
      " 'mirror': False,\n",
      " 'multi_stage': False,\n",
      " 'multi_step': [[0.005, 10000],\n",
      "                [0.02, 430000],\n",
      "                [0.002, 730000],\n",
      "                [0.001, 1030000]],\n",
      " 'net_type': 'resnet_50',\n",
      " 'num_joints': 11,\n",
      " 'optimizer': 'sgd',\n",
      " 'pairwise_huber_loss': False,\n",
      " 'pairwise_predict': False,\n",
      " 'partaffinityfield_predict': False,\n",
      " 'pos_dist_thresh': 17,\n",
      " 'project_path': 'C:/DeepLabCutProjects/DLC-Atanu-2024-12-25',\n",
      " 'regularize': False,\n",
      " 'rotation': 25,\n",
      " 'rotratio': 0.4,\n",
      " 'save_iters': 50000,\n",
      " 'scale_jitter_lo': 0.5,\n",
      " 'scale_jitter_up': 1.25,\n",
      " 'scoremap_dir': 'test',\n",
      " 'shuffle': True,\n",
      " 'snapshot_prefix': 'C:\\\\DeepLabCutProjects\\\\DLC-Atanu-2024-12-25\\\\dlc-models\\\\iteration-3\\\\DLCDec25-trainset95shuffle1\\\\train\\\\snapshot',\n",
      " 'stride': 8.0,\n",
      " 'weigh_negatives': False,\n",
      " 'weigh_only_present_joints': False,\n",
      " 'weigh_part_predictions': False,\n",
      " 'weight_decay': 0.0001}\n"
     ]
    },
    {
     "name": "stdout",
     "output_type": "stream",
     "text": [
      "Selecting single-animal trainer\n",
      "Batch Size is 1\n"
     ]
    },
    {
     "name": "stderr",
     "output_type": "stream",
     "text": [
      "C:\\Users\\FriedmanLab Optogen\\.conda\\envs\\DLC\\lib\\site-packages\\tensorflow\\python\\keras\\engine\\base_layer_v1.py:1694: UserWarning: `layer.apply` is deprecated and will be removed in a future version. Please use `layer.__call__` method instead.\n",
      "  warnings.warn('`layer.apply` is deprecated and '\n"
     ]
    },
    {
     "name": "stdout",
     "output_type": "stream",
     "text": [
      "Loading already trained DLC with backbone: resnet_50\n",
      "Max_iters overwritten as 1030000\n",
      "Display_iters overwritten as 200\n",
      "Save_iters overwritten as 20000\n",
      "Training parameter:\n",
      "{'stride': 8.0, 'weigh_part_predictions': False, 'weigh_negatives': False, 'fg_fraction': 0.25, 'mean_pixel': [123.68, 116.779, 103.939], 'shuffle': True, 'snapshot_prefix': 'C:\\\\DeepLabCutProjects\\\\DLC-Atanu-2024-12-25\\\\dlc-models\\\\iteration-3\\\\DLCDec25-trainset95shuffle1\\\\train\\\\snapshot', 'log_dir': 'log', 'global_scale': 0.8, 'location_refinement': True, 'locref_stdev': 7.2801, 'locref_loss_weight': 0.05, 'locref_huber_loss': True, 'optimizer': 'sgd', 'intermediate_supervision': False, 'intermediate_supervision_layer': 12, 'regularize': False, 'weight_decay': 0.0001, 'crop_pad': 0, 'scoremap_dir': 'test', 'batch_size': 1, 'dataset_type': 'imgaug', 'deterministic': False, 'mirror': False, 'pairwise_huber_loss': False, 'weigh_only_present_joints': False, 'partaffinityfield_predict': False, 'pairwise_predict': False, 'all_joints': [[0], [1], [2], [3], [4], [5], [6], [7], [8], [9], [10]], 'all_joints_names': ['Head', 'Leftear', 'Rightear', 'Tailbase', 'Neck', 'Midback', 'Lowerback', 'Corner1', 'Corner2', 'Corner3', 'Corner4'], 'alpha_r': 0.02, 'apply_prob': 0.5, 'contrast': {'clahe': True, 'claheratio': 0.1, 'histeq': True, 'histeqratio': 0.1, 'gamma': False, 'sigmoid': False, 'log': False, 'linear': False}, 'convolution': {'edge': False, 'emboss': {'alpha': [0.0, 1.0], 'strength': [0.5, 1.5]}, 'embossratio': 0.1, 'sharpen': False, 'sharpenratio': 0.3}, 'cropratio': 0.4, 'dataset': 'training-datasets\\\\iteration-3\\\\UnaugmentedDataSet_DLCDec25\\\\DLC_Atanu95shuffle1.mat', 'decay_steps': 30000, 'display_iters': 1000, 'init_weights': 'C:\\\\DeepLabCutProjects\\\\DLC-Atanu-2024-12-25\\\\dlc-models\\\\iteration-3\\\\DLCDec25-trainset95shuffle1\\\\train\\\\snapshot-600000', 'lr_init': 0.0005, 'max_input_size': 1500, 'metadataset': 'training-datasets\\\\iteration-3\\\\UnaugmentedDataSet_DLCDec25\\\\Documentation_data-DLC_95shuffle1.pickle', 'min_input_size': 64, 'multi_stage': False, 'multi_step': [[0.005, 10000], [0.02, 430000], [0.002, 730000], [0.001, 1030000]], 'net_type': 'resnet_50', 'num_joints': 11, 'pos_dist_thresh': 17, 'project_path': 'C:/DeepLabCutProjects/DLC-Atanu-2024-12-25', 'rotation': 25, 'rotratio': 0.4, 'save_iters': 50000, 'scale_jitter_lo': 0.5, 'scale_jitter_up': 1.25, 'covering': True, 'elastic_transform': True, 'motion_blur': True, 'motion_blur_params': {'k': 7, 'angle': (-90, 90)}}\n",
      "Starting training....\n"
     ]
    },
    {
     "name": "stderr",
     "output_type": "stream",
     "text": [
      "iteration: 600200 loss: 0.0021 lr: 0.005\n",
      "iteration: 600400 loss: 0.0024 lr: 0.005\n",
      "iteration: 600600 loss: 0.0022 lr: 0.005\n",
      "iteration: 600800 loss: 0.0021 lr: 0.005\n",
      "iteration: 601000 loss: 0.0022 lr: 0.005\n",
      "iteration: 601200 loss: 0.0021 lr: 0.005\n",
      "iteration: 601400 loss: 0.0021 lr: 0.005\n",
      "iteration: 601600 loss: 0.0024 lr: 0.005\n",
      "iteration: 601800 loss: 0.0021 lr: 0.005\n",
      "iteration: 602000 loss: 0.0021 lr: 0.005\n",
      "iteration: 602200 loss: 0.0022 lr: 0.005\n",
      "iteration: 602400 loss: 0.0023 lr: 0.005\n",
      "iteration: 602600 loss: 0.0021 lr: 0.005\n",
      "iteration: 602800 loss: 0.0022 lr: 0.005\n",
      "iteration: 603000 loss: 0.0023 lr: 0.005\n",
      "iteration: 603200 loss: 0.0022 lr: 0.005\n",
      "iteration: 603400 loss: 0.0023 lr: 0.005\n",
      "iteration: 603600 loss: 0.0024 lr: 0.005\n",
      "iteration: 603800 loss: 0.0021 lr: 0.005\n",
      "iteration: 604000 loss: 0.0023 lr: 0.005\n",
      "iteration: 604200 loss: 0.0022 lr: 0.005\n",
      "iteration: 604400 loss: 0.0024 lr: 0.005\n",
      "iteration: 604600 loss: 0.0023 lr: 0.005\n",
      "iteration: 604800 loss: 0.0022 lr: 0.005\n",
      "iteration: 605000 loss: 0.0024 lr: 0.005\n",
      "iteration: 605200 loss: 0.0021 lr: 0.005\n",
      "iteration: 605400 loss: 0.0023 lr: 0.005\n",
      "iteration: 605600 loss: 0.0021 lr: 0.005\n",
      "iteration: 605800 loss: 0.0022 lr: 0.005\n",
      "iteration: 606000 loss: 0.0024 lr: 0.005\n",
      "iteration: 606200 loss: 0.0022 lr: 0.005\n",
      "iteration: 606400 loss: 0.0022 lr: 0.005\n",
      "iteration: 606600 loss: 0.0024 lr: 0.005\n",
      "iteration: 606800 loss: 0.0022 lr: 0.005\n",
      "iteration: 607000 loss: 0.0023 lr: 0.005\n",
      "iteration: 607200 loss: 0.0022 lr: 0.005\n",
      "iteration: 607400 loss: 0.0023 lr: 0.005\n",
      "iteration: 607600 loss: 0.0023 lr: 0.005\n",
      "iteration: 607800 loss: 0.0022 lr: 0.005\n",
      "iteration: 608000 loss: 0.0021 lr: 0.005\n",
      "iteration: 608200 loss: 0.0022 lr: 0.005\n",
      "iteration: 608400 loss: 0.0025 lr: 0.005\n",
      "iteration: 608600 loss: 0.0023 lr: 0.005\n",
      "iteration: 608800 loss: 0.0023 lr: 0.005\n",
      "iteration: 609000 loss: 0.0022 lr: 0.005\n",
      "iteration: 609200 loss: 0.0021 lr: 0.005\n",
      "iteration: 609400 loss: 0.0023 lr: 0.005\n",
      "iteration: 609600 loss: 0.0023 lr: 0.005\n",
      "iteration: 609800 loss: 0.0023 lr: 0.005\n",
      "iteration: 610000 loss: 0.0022 lr: 0.005\n",
      "iteration: 610200 loss: 0.0024 lr: 0.02\n",
      "iteration: 610400 loss: 0.0025 lr: 0.02\n",
      "iteration: 610600 loss: 0.0026 lr: 0.02\n",
      "iteration: 610800 loss: 0.0025 lr: 0.02\n",
      "iteration: 611000 loss: 0.0024 lr: 0.02\n",
      "iteration: 611200 loss: 0.0025 lr: 0.02\n",
      "iteration: 611400 loss: 0.0025 lr: 0.02\n",
      "iteration: 611600 loss: 0.0026 lr: 0.02\n",
      "iteration: 611800 loss: 0.0026 lr: 0.02\n",
      "iteration: 612000 loss: 0.0026 lr: 0.02\n",
      "iteration: 612200 loss: 0.0026 lr: 0.02\n",
      "iteration: 612400 loss: 0.0024 lr: 0.02\n",
      "iteration: 612600 loss: 0.0026 lr: 0.02\n",
      "iteration: 612800 loss: 0.0027 lr: 0.02\n",
      "iteration: 613000 loss: 0.0026 lr: 0.02\n",
      "iteration: 613200 loss: 0.0025 lr: 0.02\n",
      "iteration: 613400 loss: 0.0025 lr: 0.02\n",
      "iteration: 613600 loss: 0.0024 lr: 0.02\n",
      "iteration: 613800 loss: 0.0025 lr: 0.02\n",
      "iteration: 614000 loss: 0.0025 lr: 0.02\n",
      "iteration: 614200 loss: 0.0025 lr: 0.02\n",
      "iteration: 614400 loss: 0.0025 lr: 0.02\n",
      "iteration: 614600 loss: 0.0025 lr: 0.02\n",
      "iteration: 614800 loss: 0.0027 lr: 0.02\n",
      "iteration: 615000 loss: 0.0028 lr: 0.02\n",
      "iteration: 615200 loss: 0.0027 lr: 0.02\n",
      "iteration: 615400 loss: 0.0025 lr: 0.02\n",
      "iteration: 615600 loss: 0.0024 lr: 0.02\n",
      "iteration: 615800 loss: 0.0024 lr: 0.02\n",
      "iteration: 616000 loss: 0.0025 lr: 0.02\n",
      "iteration: 616200 loss: 0.0027 lr: 0.02\n",
      "iteration: 616400 loss: 0.0025 lr: 0.02\n",
      "iteration: 616600 loss: 0.0027 lr: 0.02\n",
      "iteration: 616800 loss: 0.0024 lr: 0.02\n",
      "iteration: 617000 loss: 0.0025 lr: 0.02\n",
      "iteration: 617200 loss: 0.0026 lr: 0.02\n",
      "iteration: 617400 loss: 0.0026 lr: 0.02\n",
      "iteration: 617600 loss: 0.0027 lr: 0.02\n",
      "iteration: 617800 loss: 0.0027 lr: 0.02\n",
      "iteration: 618000 loss: 0.0028 lr: 0.02\n",
      "iteration: 618200 loss: 0.0025 lr: 0.02\n",
      "iteration: 618400 loss: 0.0026 lr: 0.02\n",
      "iteration: 618600 loss: 0.0023 lr: 0.02\n",
      "iteration: 618800 loss: 0.0024 lr: 0.02\n",
      "iteration: 619000 loss: 0.0025 lr: 0.02\n",
      "iteration: 619200 loss: 0.0026 lr: 0.02\n",
      "iteration: 619400 loss: 0.0026 lr: 0.02\n",
      "iteration: 619600 loss: 0.0028 lr: 0.02\n",
      "iteration: 619800 loss: 0.0026 lr: 0.02\n",
      "iteration: 620000 loss: 0.0026 lr: 0.02\n",
      "iteration: 620200 loss: 0.0026 lr: 0.02\n",
      "iteration: 620400 loss: 0.0024 lr: 0.02\n",
      "iteration: 620600 loss: 0.0026 lr: 0.02\n",
      "iteration: 620800 loss: 0.0025 lr: 0.02\n",
      "iteration: 621000 loss: 0.0028 lr: 0.02\n",
      "iteration: 621200 loss: 0.0026 lr: 0.02\n",
      "iteration: 621400 loss: 0.0027 lr: 0.02\n",
      "iteration: 621600 loss: 0.0026 lr: 0.02\n",
      "iteration: 621800 loss: 0.0025 lr: 0.02\n",
      "iteration: 622000 loss: 0.0025 lr: 0.02\n",
      "iteration: 622200 loss: 0.0024 lr: 0.02\n",
      "iteration: 622400 loss: 0.0028 lr: 0.02\n",
      "iteration: 622600 loss: 0.0026 lr: 0.02\n",
      "iteration: 622800 loss: 0.0027 lr: 0.02\n",
      "iteration: 623000 loss: 0.0025 lr: 0.02\n",
      "iteration: 623200 loss: 0.0027 lr: 0.02\n",
      "iteration: 623400 loss: 0.0026 lr: 0.02\n",
      "iteration: 623600 loss: 0.0026 lr: 0.02\n",
      "iteration: 623800 loss: 0.0026 lr: 0.02\n",
      "iteration: 624000 loss: 0.0025 lr: 0.02\n",
      "iteration: 624200 loss: 0.0025 lr: 0.02\n",
      "iteration: 624400 loss: 0.0025 lr: 0.02\n",
      "iteration: 624600 loss: 0.0025 lr: 0.02\n",
      "iteration: 624800 loss: 0.0025 lr: 0.02\n",
      "iteration: 625000 loss: 0.0026 lr: 0.02\n",
      "iteration: 625200 loss: 0.0025 lr: 0.02\n",
      "iteration: 625400 loss: 0.0024 lr: 0.02\n",
      "iteration: 625600 loss: 0.0024 lr: 0.02\n",
      "iteration: 625800 loss: 0.0027 lr: 0.02\n",
      "iteration: 626000 loss: 0.0024 lr: 0.02\n",
      "iteration: 626200 loss: 0.0026 lr: 0.02\n",
      "iteration: 626400 loss: 0.0026 lr: 0.02\n",
      "iteration: 626600 loss: 0.0025 lr: 0.02\n",
      "iteration: 626800 loss: 0.0026 lr: 0.02\n",
      "iteration: 627000 loss: 0.0024 lr: 0.02\n",
      "iteration: 627200 loss: 0.0027 lr: 0.02\n",
      "iteration: 627400 loss: 0.0025 lr: 0.02\n",
      "iteration: 627600 loss: 0.0025 lr: 0.02\n",
      "iteration: 627800 loss: 0.0024 lr: 0.02\n",
      "iteration: 628000 loss: 0.0025 lr: 0.02\n",
      "iteration: 628200 loss: 0.0024 lr: 0.02\n",
      "iteration: 628400 loss: 0.0026 lr: 0.02\n",
      "iteration: 628600 loss: 0.0025 lr: 0.02\n",
      "iteration: 628800 loss: 0.0026 lr: 0.02\n",
      "iteration: 629000 loss: 0.0026 lr: 0.02\n",
      "iteration: 629200 loss: 0.0025 lr: 0.02\n",
      "iteration: 629400 loss: 0.0025 lr: 0.02\n",
      "iteration: 629600 loss: 0.0026 lr: 0.02\n",
      "iteration: 629800 loss: 0.0024 lr: 0.02\n",
      "iteration: 630000 loss: 0.0025 lr: 0.02\n",
      "iteration: 630200 loss: 0.0026 lr: 0.02\n",
      "iteration: 630400 loss: 0.0026 lr: 0.02\n",
      "iteration: 630600 loss: 0.0027 lr: 0.02\n",
      "iteration: 630800 loss: 0.0024 lr: 0.02\n",
      "iteration: 631000 loss: 0.0026 lr: 0.02\n",
      "iteration: 631200 loss: 0.0026 lr: 0.02\n",
      "iteration: 631400 loss: 0.0026 lr: 0.02\n",
      "iteration: 631600 loss: 0.0025 lr: 0.02\n",
      "iteration: 631800 loss: 0.0025 lr: 0.02\n",
      "iteration: 632000 loss: 0.0026 lr: 0.02\n",
      "iteration: 632200 loss: 0.0024 lr: 0.02\n",
      "iteration: 632400 loss: 0.0028 lr: 0.02\n",
      "iteration: 632600 loss: 0.0026 lr: 0.02\n",
      "iteration: 632800 loss: 0.0025 lr: 0.02\n",
      "iteration: 633000 loss: 0.0026 lr: 0.02\n",
      "iteration: 633200 loss: 0.0026 lr: 0.02\n",
      "iteration: 633400 loss: 0.0028 lr: 0.02\n",
      "iteration: 633600 loss: 0.0026 lr: 0.02\n",
      "iteration: 633800 loss: 0.0025 lr: 0.02\n",
      "iteration: 634000 loss: 0.0026 lr: 0.02\n",
      "iteration: 634200 loss: 0.0025 lr: 0.02\n",
      "iteration: 634400 loss: 0.0025 lr: 0.02\n",
      "iteration: 634600 loss: 0.0025 lr: 0.02\n",
      "iteration: 634800 loss: 0.0025 lr: 0.02\n",
      "iteration: 635000 loss: 0.0026 lr: 0.02\n",
      "iteration: 635200 loss: 0.0024 lr: 0.02\n",
      "iteration: 635400 loss: 0.0026 lr: 0.02\n",
      "iteration: 635600 loss: 0.0025 lr: 0.02\n",
      "iteration: 635800 loss: 0.0025 lr: 0.02\n",
      "iteration: 636000 loss: 0.0028 lr: 0.02\n",
      "iteration: 636200 loss: 0.0026 lr: 0.02\n",
      "iteration: 636400 loss: 0.0024 lr: 0.02\n",
      "iteration: 636600 loss: 0.0027 lr: 0.02\n",
      "iteration: 636800 loss: 0.0026 lr: 0.02\n",
      "iteration: 637000 loss: 0.0025 lr: 0.02\n",
      "iteration: 637200 loss: 0.0027 lr: 0.02\n",
      "iteration: 637400 loss: 0.0027 lr: 0.02\n",
      "iteration: 637600 loss: 0.0025 lr: 0.02\n",
      "iteration: 637800 loss: 0.0027 lr: 0.02\n",
      "iteration: 638000 loss: 0.0024 lr: 0.02\n",
      "iteration: 638200 loss: 0.0024 lr: 0.02\n",
      "iteration: 638400 loss: 0.0027 lr: 0.02\n",
      "iteration: 638600 loss: 0.0027 lr: 0.02\n",
      "iteration: 638800 loss: 0.0028 lr: 0.02\n",
      "iteration: 639000 loss: 0.0026 lr: 0.02\n",
      "iteration: 639200 loss: 0.0025 lr: 0.02\n",
      "iteration: 639400 loss: 0.0026 lr: 0.02\n",
      "iteration: 639600 loss: 0.0026 lr: 0.02\n",
      "iteration: 639800 loss: 0.0025 lr: 0.02\n",
      "iteration: 640000 loss: 0.0026 lr: 0.02\n",
      "iteration: 640200 loss: 0.0026 lr: 0.02\n",
      "iteration: 640400 loss: 0.0027 lr: 0.02\n",
      "iteration: 640600 loss: 0.0025 lr: 0.02\n",
      "iteration: 640800 loss: 0.0025 lr: 0.02\n"
     ]
    },
    {
     "name": "stderr",
     "output_type": "stream",
     "text": [
      "iteration: 641000 loss: 0.0026 lr: 0.02\n",
      "iteration: 641200 loss: 0.0025 lr: 0.02\n",
      "iteration: 641400 loss: 0.0027 lr: 0.02\n",
      "iteration: 641600 loss: 0.0028 lr: 0.02\n",
      "iteration: 641800 loss: 0.0025 lr: 0.02\n",
      "iteration: 642000 loss: 0.0023 lr: 0.02\n",
      "iteration: 642200 loss: 0.0027 lr: 0.02\n",
      "iteration: 642400 loss: 0.0026 lr: 0.02\n",
      "iteration: 642600 loss: 0.0025 lr: 0.02\n",
      "iteration: 642800 loss: 0.0025 lr: 0.02\n",
      "iteration: 643000 loss: 0.0025 lr: 0.02\n",
      "iteration: 643200 loss: 0.0026 lr: 0.02\n",
      "iteration: 643400 loss: 0.0027 lr: 0.02\n",
      "iteration: 643600 loss: 0.0026 lr: 0.02\n",
      "iteration: 643800 loss: 0.0027 lr: 0.02\n",
      "iteration: 644000 loss: 0.0027 lr: 0.02\n",
      "iteration: 644200 loss: 0.0025 lr: 0.02\n",
      "iteration: 644400 loss: 0.0028 lr: 0.02\n",
      "iteration: 644600 loss: 0.0024 lr: 0.02\n",
      "iteration: 644800 loss: 0.0027 lr: 0.02\n",
      "iteration: 645000 loss: 0.0027 lr: 0.02\n",
      "iteration: 645200 loss: 0.0025 lr: 0.02\n",
      "iteration: 645400 loss: 0.0027 lr: 0.02\n",
      "iteration: 645600 loss: 0.0027 lr: 0.02\n",
      "iteration: 645800 loss: 0.0024 lr: 0.02\n",
      "iteration: 646000 loss: 0.0026 lr: 0.02\n",
      "iteration: 646200 loss: 0.0027 lr: 0.02\n",
      "iteration: 646400 loss: 0.0025 lr: 0.02\n",
      "iteration: 646600 loss: 0.0023 lr: 0.02\n",
      "iteration: 646800 loss: 0.0025 lr: 0.02\n",
      "iteration: 647000 loss: 0.0026 lr: 0.02\n",
      "iteration: 647200 loss: 0.0026 lr: 0.02\n",
      "iteration: 647400 loss: 0.0026 lr: 0.02\n",
      "iteration: 647600 loss: 0.0025 lr: 0.02\n",
      "iteration: 647800 loss: 0.0026 lr: 0.02\n",
      "iteration: 648000 loss: 0.0025 lr: 0.02\n",
      "iteration: 648200 loss: 0.0026 lr: 0.02\n",
      "iteration: 648400 loss: 0.0026 lr: 0.02\n",
      "iteration: 648600 loss: 0.0026 lr: 0.02\n",
      "iteration: 648800 loss: 0.0027 lr: 0.02\n",
      "iteration: 649000 loss: 0.0027 lr: 0.02\n",
      "iteration: 649200 loss: 0.0025 lr: 0.02\n",
      "iteration: 649400 loss: 0.0025 lr: 0.02\n",
      "iteration: 649600 loss: 0.0025 lr: 0.02\n",
      "iteration: 649800 loss: 0.0025 lr: 0.02\n",
      "iteration: 650000 loss: 0.0026 lr: 0.02\n",
      "iteration: 650200 loss: 0.0026 lr: 0.02\n",
      "iteration: 650400 loss: 0.0024 lr: 0.02\n",
      "iteration: 650600 loss: 0.0024 lr: 0.02\n",
      "iteration: 650800 loss: 0.0025 lr: 0.02\n",
      "iteration: 651000 loss: 0.0025 lr: 0.02\n",
      "iteration: 651200 loss: 0.0027 lr: 0.02\n",
      "iteration: 651400 loss: 0.0026 lr: 0.02\n",
      "iteration: 651600 loss: 0.0027 lr: 0.02\n",
      "iteration: 651800 loss: 0.0026 lr: 0.02\n",
      "iteration: 652000 loss: 0.0027 lr: 0.02\n",
      "iteration: 652200 loss: 0.0024 lr: 0.02\n",
      "iteration: 652400 loss: 0.0025 lr: 0.02\n",
      "iteration: 652600 loss: 0.0025 lr: 0.02\n",
      "iteration: 652800 loss: 0.0026 lr: 0.02\n",
      "iteration: 653000 loss: 0.0025 lr: 0.02\n",
      "iteration: 653200 loss: 0.0025 lr: 0.02\n",
      "iteration: 653400 loss: 0.0024 lr: 0.02\n",
      "iteration: 653600 loss: 0.0024 lr: 0.02\n",
      "iteration: 653800 loss: 0.0025 lr: 0.02\n",
      "iteration: 654000 loss: 0.0024 lr: 0.02\n",
      "iteration: 654200 loss: 0.0025 lr: 0.02\n",
      "iteration: 654400 loss: 0.0025 lr: 0.02\n",
      "iteration: 654600 loss: 0.0025 lr: 0.02\n",
      "iteration: 654800 loss: 0.0026 lr: 0.02\n",
      "iteration: 655000 loss: 0.0027 lr: 0.02\n",
      "iteration: 655200 loss: 0.0028 lr: 0.02\n",
      "iteration: 655400 loss: 0.0026 lr: 0.02\n",
      "iteration: 655600 loss: 0.0025 lr: 0.02\n",
      "iteration: 655800 loss: 0.0028 lr: 0.02\n",
      "iteration: 656000 loss: 0.0025 lr: 0.02\n",
      "iteration: 656200 loss: 0.0026 lr: 0.02\n",
      "iteration: 656400 loss: 0.0026 lr: 0.02\n",
      "iteration: 656600 loss: 0.0028 lr: 0.02\n",
      "iteration: 656800 loss: 0.0026 lr: 0.02\n",
      "iteration: 657000 loss: 0.0026 lr: 0.02\n",
      "iteration: 657200 loss: 0.0026 lr: 0.02\n",
      "iteration: 657400 loss: 0.0024 lr: 0.02\n",
      "iteration: 657600 loss: 0.0026 lr: 0.02\n",
      "iteration: 657800 loss: 0.0026 lr: 0.02\n",
      "iteration: 658000 loss: 0.0026 lr: 0.02\n",
      "iteration: 658200 loss: 0.0025 lr: 0.02\n",
      "iteration: 658400 loss: 0.0023 lr: 0.02\n",
      "iteration: 658600 loss: 0.0026 lr: 0.02\n",
      "iteration: 658800 loss: 0.0026 lr: 0.02\n",
      "iteration: 659000 loss: 0.0026 lr: 0.02\n",
      "iteration: 659200 loss: 0.0024 lr: 0.02\n",
      "iteration: 659400 loss: 0.0026 lr: 0.02\n",
      "iteration: 659600 loss: 0.0024 lr: 0.02\n",
      "iteration: 659800 loss: 0.0026 lr: 0.02\n",
      "iteration: 660000 loss: 0.0023 lr: 0.02\n",
      "iteration: 660200 loss: 0.0024 lr: 0.02\n",
      "iteration: 660400 loss: 0.0026 lr: 0.02\n",
      "iteration: 660600 loss: 0.0025 lr: 0.02\n",
      "iteration: 660800 loss: 0.0027 lr: 0.02\n",
      "iteration: 661000 loss: 0.0028 lr: 0.02\n",
      "iteration: 661200 loss: 0.0027 lr: 0.02\n",
      "iteration: 661400 loss: 0.0025 lr: 0.02\n",
      "iteration: 661600 loss: 0.0025 lr: 0.02\n",
      "iteration: 661800 loss: 0.0025 lr: 0.02\n",
      "iteration: 662000 loss: 0.0025 lr: 0.02\n",
      "iteration: 662200 loss: 0.0026 lr: 0.02\n",
      "iteration: 662400 loss: 0.0025 lr: 0.02\n",
      "iteration: 662600 loss: 0.0024 lr: 0.02\n",
      "iteration: 662800 loss: 0.0025 lr: 0.02\n",
      "iteration: 663000 loss: 0.0025 lr: 0.02\n",
      "iteration: 663200 loss: 0.0026 lr: 0.02\n",
      "iteration: 663400 loss: 0.0025 lr: 0.02\n",
      "iteration: 663600 loss: 0.0024 lr: 0.02\n",
      "iteration: 663800 loss: 0.0024 lr: 0.02\n",
      "iteration: 664000 loss: 0.0025 lr: 0.02\n",
      "iteration: 664200 loss: 0.0025 lr: 0.02\n",
      "iteration: 664400 loss: 0.0024 lr: 0.02\n",
      "iteration: 664600 loss: 0.0026 lr: 0.02\n",
      "iteration: 664800 loss: 0.0027 lr: 0.02\n",
      "iteration: 665000 loss: 0.0027 lr: 0.02\n",
      "iteration: 665200 loss: 0.0025 lr: 0.02\n",
      "iteration: 665400 loss: 0.0025 lr: 0.02\n",
      "iteration: 665600 loss: 0.0028 lr: 0.02\n",
      "iteration: 665800 loss: 0.0028 lr: 0.02\n",
      "iteration: 666000 loss: 0.0026 lr: 0.02\n",
      "iteration: 666200 loss: 0.0027 lr: 0.02\n",
      "iteration: 666400 loss: 0.0027 lr: 0.02\n",
      "iteration: 666600 loss: 0.0024 lr: 0.02\n",
      "iteration: 666800 loss: 0.0026 lr: 0.02\n",
      "iteration: 667000 loss: 0.0029 lr: 0.02\n",
      "iteration: 667200 loss: 0.0024 lr: 0.02\n",
      "iteration: 667400 loss: 0.0025 lr: 0.02\n",
      "iteration: 667600 loss: 0.0025 lr: 0.02\n",
      "iteration: 667800 loss: 0.0025 lr: 0.02\n",
      "iteration: 668000 loss: 0.0026 lr: 0.02\n",
      "iteration: 668200 loss: 0.0023 lr: 0.02\n",
      "iteration: 668400 loss: 0.0027 lr: 0.02\n",
      "iteration: 668600 loss: 0.0025 lr: 0.02\n",
      "iteration: 668800 loss: 0.0028 lr: 0.02\n",
      "iteration: 669000 loss: 0.0025 lr: 0.02\n",
      "iteration: 669200 loss: 0.0026 lr: 0.02\n",
      "iteration: 669400 loss: 0.0024 lr: 0.02\n",
      "iteration: 669600 loss: 0.0024 lr: 0.02\n",
      "iteration: 669800 loss: 0.0024 lr: 0.02\n",
      "iteration: 670000 loss: 0.0025 lr: 0.02\n",
      "iteration: 670200 loss: 0.0025 lr: 0.02\n",
      "iteration: 670400 loss: 0.0026 lr: 0.02\n",
      "iteration: 670600 loss: 0.0026 lr: 0.02\n",
      "iteration: 670800 loss: 0.0023 lr: 0.02\n",
      "iteration: 671000 loss: 0.0025 lr: 0.02\n",
      "iteration: 671200 loss: 0.0024 lr: 0.02\n",
      "iteration: 671400 loss: 0.0027 lr: 0.02\n",
      "iteration: 671600 loss: 0.0024 lr: 0.02\n",
      "iteration: 671800 loss: 0.0024 lr: 0.02\n",
      "iteration: 672000 loss: 0.0025 lr: 0.02\n",
      "iteration: 672200 loss: 0.0026 lr: 0.02\n",
      "iteration: 672400 loss: 0.0024 lr: 0.02\n",
      "iteration: 672600 loss: 0.0027 lr: 0.02\n",
      "iteration: 672800 loss: 0.0026 lr: 0.02\n",
      "iteration: 673000 loss: 0.0025 lr: 0.02\n",
      "iteration: 673200 loss: 0.0024 lr: 0.02\n",
      "iteration: 673400 loss: 0.0025 lr: 0.02\n",
      "iteration: 673600 loss: 0.0026 lr: 0.02\n",
      "iteration: 673800 loss: 0.0027 lr: 0.02\n",
      "iteration: 674000 loss: 0.0026 lr: 0.02\n",
      "iteration: 674200 loss: 0.0024 lr: 0.02\n",
      "iteration: 674400 loss: 0.0029 lr: 0.02\n",
      "iteration: 674600 loss: 0.0025 lr: 0.02\n",
      "iteration: 674800 loss: 0.0024 lr: 0.02\n",
      "iteration: 675000 loss: 0.0025 lr: 0.02\n",
      "iteration: 675200 loss: 0.0024 lr: 0.02\n",
      "iteration: 675400 loss: 0.0026 lr: 0.02\n",
      "iteration: 675600 loss: 0.0027 lr: 0.02\n",
      "iteration: 675800 loss: 0.0024 lr: 0.02\n",
      "iteration: 676000 loss: 0.0026 lr: 0.02\n",
      "iteration: 676200 loss: 0.0024 lr: 0.02\n",
      "iteration: 676400 loss: 0.0026 lr: 0.02\n",
      "iteration: 676600 loss: 0.0025 lr: 0.02\n",
      "iteration: 676800 loss: 0.0025 lr: 0.02\n",
      "iteration: 677000 loss: 0.0023 lr: 0.02\n",
      "iteration: 677200 loss: 0.0027 lr: 0.02\n",
      "iteration: 677400 loss: 0.0026 lr: 0.02\n",
      "iteration: 677600 loss: 0.0027 lr: 0.02\n",
      "iteration: 677800 loss: 0.0026 lr: 0.02\n",
      "iteration: 678000 loss: 0.0025 lr: 0.02\n",
      "iteration: 678200 loss: 0.0027 lr: 0.02\n",
      "iteration: 678400 loss: 0.0025 lr: 0.02\n",
      "iteration: 678600 loss: 0.0023 lr: 0.02\n",
      "iteration: 678800 loss: 0.0026 lr: 0.02\n",
      "iteration: 679000 loss: 0.0027 lr: 0.02\n",
      "iteration: 679200 loss: 0.0026 lr: 0.02\n",
      "iteration: 679400 loss: 0.0023 lr: 0.02\n",
      "iteration: 679600 loss: 0.0026 lr: 0.02\n",
      "iteration: 679800 loss: 0.0027 lr: 0.02\n",
      "iteration: 680000 loss: 0.0025 lr: 0.02\n",
      "iteration: 680200 loss: 0.0026 lr: 0.02\n",
      "iteration: 680400 loss: 0.0026 lr: 0.02\n",
      "iteration: 680600 loss: 0.0023 lr: 0.02\n",
      "iteration: 680800 loss: 0.0024 lr: 0.02\n",
      "iteration: 681000 loss: 0.0026 lr: 0.02\n",
      "iteration: 681200 loss: 0.0025 lr: 0.02\n",
      "iteration: 681400 loss: 0.0025 lr: 0.02\n",
      "iteration: 681600 loss: 0.0025 lr: 0.02\n",
      "iteration: 681800 loss: 0.0024 lr: 0.02\n"
     ]
    },
    {
     "name": "stderr",
     "output_type": "stream",
     "text": [
      "iteration: 682000 loss: 0.0025 lr: 0.02\n",
      "iteration: 682200 loss: 0.0026 lr: 0.02\n",
      "iteration: 682400 loss: 0.0027 lr: 0.02\n",
      "iteration: 682600 loss: 0.0025 lr: 0.02\n",
      "iteration: 682800 loss: 0.0025 lr: 0.02\n",
      "iteration: 683000 loss: 0.0026 lr: 0.02\n",
      "iteration: 683200 loss: 0.0024 lr: 0.02\n",
      "iteration: 683400 loss: 0.0027 lr: 0.02\n",
      "iteration: 683600 loss: 0.0023 lr: 0.02\n",
      "iteration: 683800 loss: 0.0024 lr: 0.02\n",
      "iteration: 684000 loss: 0.0026 lr: 0.02\n",
      "iteration: 684200 loss: 0.0026 lr: 0.02\n",
      "iteration: 684400 loss: 0.0025 lr: 0.02\n",
      "iteration: 684600 loss: 0.0028 lr: 0.02\n",
      "iteration: 684800 loss: 0.0025 lr: 0.02\n",
      "iteration: 685000 loss: 0.0024 lr: 0.02\n",
      "iteration: 685200 loss: 0.0026 lr: 0.02\n",
      "iteration: 685400 loss: 0.0023 lr: 0.02\n",
      "iteration: 685600 loss: 0.0024 lr: 0.02\n",
      "iteration: 685800 loss: 0.0026 lr: 0.02\n",
      "iteration: 686000 loss: 0.0025 lr: 0.02\n",
      "iteration: 686200 loss: 0.0026 lr: 0.02\n",
      "iteration: 686400 loss: 0.0024 lr: 0.02\n",
      "iteration: 686600 loss: 0.0026 lr: 0.02\n",
      "iteration: 686800 loss: 0.0025 lr: 0.02\n",
      "iteration: 687000 loss: 0.0026 lr: 0.02\n",
      "iteration: 687200 loss: 0.0027 lr: 0.02\n",
      "iteration: 687400 loss: 0.0027 lr: 0.02\n",
      "iteration: 687600 loss: 0.0024 lr: 0.02\n",
      "iteration: 687800 loss: 0.0024 lr: 0.02\n",
      "iteration: 688000 loss: 0.0024 lr: 0.02\n",
      "iteration: 688200 loss: 0.0025 lr: 0.02\n",
      "iteration: 688400 loss: 0.0029 lr: 0.02\n",
      "iteration: 688600 loss: 0.0026 lr: 0.02\n",
      "iteration: 688800 loss: 0.0025 lr: 0.02\n",
      "iteration: 689000 loss: 0.0025 lr: 0.02\n",
      "iteration: 689200 loss: 0.0028 lr: 0.02\n",
      "iteration: 689400 loss: 0.0026 lr: 0.02\n",
      "iteration: 689600 loss: 0.0025 lr: 0.02\n",
      "iteration: 689800 loss: 0.0025 lr: 0.02\n",
      "iteration: 690000 loss: 0.0024 lr: 0.02\n",
      "iteration: 690200 loss: 0.0025 lr: 0.02\n",
      "iteration: 690400 loss: 0.0025 lr: 0.02\n",
      "iteration: 690600 loss: 0.0026 lr: 0.02\n",
      "iteration: 690800 loss: 0.0024 lr: 0.02\n",
      "iteration: 691000 loss: 0.0025 lr: 0.02\n",
      "iteration: 691200 loss: 0.0023 lr: 0.02\n",
      "iteration: 691400 loss: 0.0028 lr: 0.02\n",
      "iteration: 691600 loss: 0.0028 lr: 0.02\n",
      "iteration: 691800 loss: 0.0026 lr: 0.02\n",
      "iteration: 692000 loss: 0.0026 lr: 0.02\n",
      "iteration: 692200 loss: 0.0025 lr: 0.02\n",
      "iteration: 692400 loss: 0.0025 lr: 0.02\n",
      "iteration: 692600 loss: 0.0026 lr: 0.02\n",
      "iteration: 692800 loss: 0.0025 lr: 0.02\n",
      "iteration: 693000 loss: 0.0025 lr: 0.02\n",
      "iteration: 693200 loss: 0.0024 lr: 0.02\n",
      "iteration: 693400 loss: 0.0028 lr: 0.02\n",
      "iteration: 693600 loss: 0.0026 lr: 0.02\n",
      "iteration: 693800 loss: 0.0026 lr: 0.02\n",
      "iteration: 694000 loss: 0.0022 lr: 0.02\n",
      "iteration: 694200 loss: 0.0025 lr: 0.02\n",
      "iteration: 694400 loss: 0.0024 lr: 0.02\n",
      "iteration: 694600 loss: 0.0024 lr: 0.02\n",
      "iteration: 694800 loss: 0.0023 lr: 0.02\n",
      "iteration: 695000 loss: 0.0025 lr: 0.02\n",
      "iteration: 695200 loss: 0.0027 lr: 0.02\n",
      "iteration: 695400 loss: 0.0026 lr: 0.02\n",
      "iteration: 695600 loss: 0.0026 lr: 0.02\n",
      "iteration: 695800 loss: 0.0023 lr: 0.02\n",
      "iteration: 696000 loss: 0.0026 lr: 0.02\n",
      "iteration: 696200 loss: 0.0024 lr: 0.02\n",
      "iteration: 696400 loss: 0.0027 lr: 0.02\n",
      "iteration: 696600 loss: 0.0024 lr: 0.02\n",
      "iteration: 696800 loss: 0.0026 lr: 0.02\n",
      "iteration: 697000 loss: 0.0026 lr: 0.02\n",
      "iteration: 697200 loss: 0.0024 lr: 0.02\n",
      "iteration: 697400 loss: 0.0027 lr: 0.02\n",
      "iteration: 697600 loss: 0.0023 lr: 0.02\n",
      "iteration: 697800 loss: 0.0025 lr: 0.02\n",
      "iteration: 698000 loss: 0.0024 lr: 0.02\n",
      "iteration: 698200 loss: 0.0024 lr: 0.02\n",
      "iteration: 698400 loss: 0.0024 lr: 0.02\n",
      "iteration: 698600 loss: 0.0027 lr: 0.02\n",
      "iteration: 698800 loss: 0.0026 lr: 0.02\n",
      "iteration: 699000 loss: 0.0027 lr: 0.02\n",
      "iteration: 699200 loss: 0.0027 lr: 0.02\n",
      "iteration: 699400 loss: 0.0026 lr: 0.02\n",
      "iteration: 699600 loss: 0.0026 lr: 0.02\n",
      "iteration: 699800 loss: 0.0024 lr: 0.02\n",
      "iteration: 700000 loss: 0.0025 lr: 0.02\n",
      "iteration: 700200 loss: 0.0025 lr: 0.02\n",
      "iteration: 700400 loss: 0.0025 lr: 0.02\n",
      "iteration: 700600 loss: 0.0024 lr: 0.02\n",
      "iteration: 700800 loss: 0.0025 lr: 0.02\n",
      "iteration: 701000 loss: 0.0023 lr: 0.02\n",
      "iteration: 701200 loss: 0.0025 lr: 0.02\n",
      "iteration: 701400 loss: 0.0025 lr: 0.02\n",
      "iteration: 701600 loss: 0.0025 lr: 0.02\n",
      "iteration: 701800 loss: 0.0023 lr: 0.02\n",
      "iteration: 702000 loss: 0.0024 lr: 0.02\n",
      "iteration: 702200 loss: 0.0023 lr: 0.02\n",
      "iteration: 702400 loss: 0.0025 lr: 0.02\n",
      "iteration: 702600 loss: 0.0024 lr: 0.02\n",
      "iteration: 702800 loss: 0.0026 lr: 0.02\n",
      "iteration: 703000 loss: 0.0027 lr: 0.02\n",
      "iteration: 703200 loss: 0.0025 lr: 0.02\n",
      "iteration: 703400 loss: 0.0024 lr: 0.02\n",
      "iteration: 703600 loss: 0.0024 lr: 0.02\n",
      "iteration: 703800 loss: 0.0026 lr: 0.02\n",
      "iteration: 704000 loss: 0.0023 lr: 0.02\n",
      "iteration: 704200 loss: 0.0024 lr: 0.02\n",
      "iteration: 704400 loss: 0.0026 lr: 0.02\n",
      "iteration: 704600 loss: 0.0026 lr: 0.02\n",
      "iteration: 704800 loss: 0.0024 lr: 0.02\n",
      "iteration: 705000 loss: 0.0024 lr: 0.02\n",
      "iteration: 705200 loss: 0.0024 lr: 0.02\n",
      "iteration: 705400 loss: 0.0025 lr: 0.02\n",
      "iteration: 705600 loss: 0.0025 lr: 0.02\n",
      "iteration: 705800 loss: 0.0027 lr: 0.02\n",
      "iteration: 706000 loss: 0.0024 lr: 0.02\n",
      "iteration: 706200 loss: 0.0026 lr: 0.02\n",
      "iteration: 706400 loss: 0.0025 lr: 0.02\n",
      "iteration: 706600 loss: 0.0026 lr: 0.02\n",
      "iteration: 706800 loss: 0.0025 lr: 0.02\n",
      "iteration: 707000 loss: 0.0026 lr: 0.02\n",
      "iteration: 707200 loss: 0.0025 lr: 0.02\n",
      "iteration: 707400 loss: 0.0024 lr: 0.02\n",
      "iteration: 707600 loss: 0.0027 lr: 0.02\n",
      "iteration: 707800 loss: 0.0025 lr: 0.02\n",
      "iteration: 708000 loss: 0.0025 lr: 0.02\n",
      "iteration: 708200 loss: 0.0026 lr: 0.02\n",
      "iteration: 708400 loss: 0.0025 lr: 0.02\n",
      "iteration: 708600 loss: 0.0024 lr: 0.02\n",
      "iteration: 708800 loss: 0.0027 lr: 0.02\n",
      "iteration: 709000 loss: 0.0024 lr: 0.02\n",
      "iteration: 709200 loss: 0.0025 lr: 0.02\n",
      "iteration: 709400 loss: 0.0025 lr: 0.02\n",
      "iteration: 709600 loss: 0.0023 lr: 0.02\n",
      "iteration: 709800 loss: 0.0024 lr: 0.02\n",
      "iteration: 710000 loss: 0.0027 lr: 0.02\n",
      "iteration: 710200 loss: 0.0025 lr: 0.02\n",
      "iteration: 710400 loss: 0.0024 lr: 0.02\n",
      "iteration: 710600 loss: 0.0026 lr: 0.02\n",
      "iteration: 710800 loss: 0.0025 lr: 0.02\n",
      "iteration: 711000 loss: 0.0027 lr: 0.02\n",
      "iteration: 711200 loss: 0.0026 lr: 0.02\n",
      "iteration: 711400 loss: 0.0026 lr: 0.02\n",
      "iteration: 711600 loss: 0.0025 lr: 0.02\n",
      "iteration: 711800 loss: 0.0026 lr: 0.02\n",
      "iteration: 712000 loss: 0.0024 lr: 0.02\n",
      "iteration: 712200 loss: 0.0023 lr: 0.02\n",
      "iteration: 712400 loss: 0.0026 lr: 0.02\n",
      "iteration: 712600 loss: 0.0024 lr: 0.02\n",
      "iteration: 712800 loss: 0.0023 lr: 0.02\n",
      "iteration: 713000 loss: 0.0027 lr: 0.02\n",
      "iteration: 713200 loss: 0.0025 lr: 0.02\n",
      "iteration: 713400 loss: 0.0026 lr: 0.02\n",
      "iteration: 713600 loss: 0.0024 lr: 0.02\n",
      "iteration: 713800 loss: 0.0025 lr: 0.02\n",
      "iteration: 714000 loss: 0.0024 lr: 0.02\n",
      "iteration: 714200 loss: 0.0025 lr: 0.02\n",
      "iteration: 714400 loss: 0.0025 lr: 0.02\n",
      "iteration: 714600 loss: 0.0025 lr: 0.02\n",
      "iteration: 714800 loss: 0.0025 lr: 0.02\n",
      "iteration: 715000 loss: 0.0024 lr: 0.02\n",
      "iteration: 715200 loss: 0.0022 lr: 0.02\n",
      "iteration: 715400 loss: 0.0023 lr: 0.02\n",
      "iteration: 715600 loss: 0.0026 lr: 0.02\n",
      "iteration: 715800 loss: 0.0025 lr: 0.02\n",
      "iteration: 716000 loss: 0.0025 lr: 0.02\n",
      "iteration: 716200 loss: 0.0029 lr: 0.02\n",
      "iteration: 716400 loss: 0.0027 lr: 0.02\n",
      "iteration: 716600 loss: 0.0024 lr: 0.02\n",
      "iteration: 716800 loss: 0.0024 lr: 0.02\n",
      "iteration: 717000 loss: 0.0026 lr: 0.02\n",
      "iteration: 717200 loss: 0.0025 lr: 0.02\n",
      "iteration: 717400 loss: 0.0026 lr: 0.02\n",
      "iteration: 717600 loss: 0.0026 lr: 0.02\n",
      "iteration: 717800 loss: 0.0026 lr: 0.02\n",
      "iteration: 718000 loss: 0.0026 lr: 0.02\n",
      "iteration: 718200 loss: 0.0026 lr: 0.02\n",
      "iteration: 718400 loss: 0.0024 lr: 0.02\n",
      "iteration: 718600 loss: 0.0023 lr: 0.02\n",
      "iteration: 718800 loss: 0.0026 lr: 0.02\n",
      "iteration: 719000 loss: 0.0024 lr: 0.02\n",
      "iteration: 719200 loss: 0.0026 lr: 0.02\n",
      "iteration: 719400 loss: 0.0022 lr: 0.02\n",
      "iteration: 719600 loss: 0.0024 lr: 0.02\n",
      "iteration: 719800 loss: 0.0024 lr: 0.02\n",
      "iteration: 720000 loss: 0.0024 lr: 0.02\n",
      "iteration: 720200 loss: 0.0025 lr: 0.02\n",
      "iteration: 720400 loss: 0.0025 lr: 0.02\n",
      "iteration: 720600 loss: 0.0025 lr: 0.02\n",
      "iteration: 720800 loss: 0.0024 lr: 0.02\n",
      "iteration: 721000 loss: 0.0025 lr: 0.02\n",
      "iteration: 721200 loss: 0.0025 lr: 0.02\n",
      "iteration: 721400 loss: 0.0025 lr: 0.02\n",
      "iteration: 721600 loss: 0.0025 lr: 0.02\n",
      "iteration: 721800 loss: 0.0025 lr: 0.02\n",
      "iteration: 722000 loss: 0.0025 lr: 0.02\n",
      "iteration: 722200 loss: 0.0024 lr: 0.02\n",
      "iteration: 722400 loss: 0.0027 lr: 0.02\n",
      "iteration: 722600 loss: 0.0024 lr: 0.02\n",
      "iteration: 722800 loss: 0.0024 lr: 0.02\n"
     ]
    },
    {
     "name": "stderr",
     "output_type": "stream",
     "text": [
      "iteration: 723000 loss: 0.0027 lr: 0.02\n",
      "iteration: 723200 loss: 0.0023 lr: 0.02\n",
      "iteration: 723400 loss: 0.0025 lr: 0.02\n",
      "iteration: 723600 loss: 0.0024 lr: 0.02\n",
      "iteration: 723800 loss: 0.0024 lr: 0.02\n",
      "iteration: 724000 loss: 0.0024 lr: 0.02\n",
      "iteration: 724200 loss: 0.0024 lr: 0.02\n",
      "iteration: 724400 loss: 0.0026 lr: 0.02\n",
      "iteration: 724600 loss: 0.0024 lr: 0.02\n",
      "iteration: 724800 loss: 0.0025 lr: 0.02\n",
      "iteration: 725000 loss: 0.0024 lr: 0.02\n",
      "iteration: 725200 loss: 0.0024 lr: 0.02\n",
      "iteration: 725400 loss: 0.0024 lr: 0.02\n",
      "iteration: 725600 loss: 0.0025 lr: 0.02\n",
      "iteration: 725800 loss: 0.0025 lr: 0.02\n",
      "iteration: 726000 loss: 0.0024 lr: 0.02\n",
      "iteration: 726200 loss: 0.0026 lr: 0.02\n",
      "iteration: 726400 loss: 0.0023 lr: 0.02\n",
      "iteration: 726600 loss: 0.0024 lr: 0.02\n",
      "iteration: 726800 loss: 0.0025 lr: 0.02\n",
      "iteration: 727000 loss: 0.0027 lr: 0.02\n",
      "iteration: 727200 loss: 0.0026 lr: 0.02\n",
      "iteration: 727400 loss: 0.0022 lr: 0.02\n",
      "iteration: 727600 loss: 0.0025 lr: 0.02\n",
      "iteration: 727800 loss: 0.0025 lr: 0.02\n",
      "iteration: 728000 loss: 0.0023 lr: 0.02\n",
      "iteration: 728200 loss: 0.0025 lr: 0.02\n",
      "iteration: 728400 loss: 0.0024 lr: 0.02\n",
      "iteration: 728600 loss: 0.0024 lr: 0.02\n",
      "iteration: 728800 loss: 0.0025 lr: 0.02\n",
      "iteration: 729000 loss: 0.0025 lr: 0.02\n",
      "iteration: 729200 loss: 0.0024 lr: 0.02\n",
      "iteration: 729400 loss: 0.0029 lr: 0.02\n",
      "iteration: 729600 loss: 0.0026 lr: 0.02\n",
      "iteration: 729800 loss: 0.0025 lr: 0.02\n",
      "iteration: 730000 loss: 0.0023 lr: 0.02\n",
      "iteration: 730200 loss: 0.0024 lr: 0.02\n",
      "iteration: 730400 loss: 0.0025 lr: 0.02\n",
      "iteration: 730600 loss: 0.0024 lr: 0.02\n",
      "iteration: 730800 loss: 0.0024 lr: 0.02\n",
      "iteration: 731000 loss: 0.0025 lr: 0.02\n",
      "iteration: 731200 loss: 0.0024 lr: 0.02\n",
      "iteration: 731400 loss: 0.0023 lr: 0.02\n",
      "iteration: 731600 loss: 0.0025 lr: 0.02\n",
      "iteration: 731800 loss: 0.0026 lr: 0.02\n",
      "iteration: 732000 loss: 0.0026 lr: 0.02\n",
      "iteration: 732200 loss: 0.0025 lr: 0.02\n",
      "iteration: 732400 loss: 0.0023 lr: 0.02\n",
      "iteration: 732600 loss: 0.0021 lr: 0.02\n",
      "iteration: 732800 loss: 0.0024 lr: 0.02\n",
      "iteration: 733000 loss: 0.0023 lr: 0.02\n",
      "iteration: 733200 loss: 0.0025 lr: 0.02\n",
      "iteration: 733400 loss: 0.0024 lr: 0.02\n",
      "iteration: 733600 loss: 0.0025 lr: 0.02\n",
      "iteration: 733800 loss: 0.0025 lr: 0.02\n",
      "iteration: 734000 loss: 0.0025 lr: 0.02\n",
      "iteration: 734200 loss: 0.0025 lr: 0.02\n",
      "iteration: 734400 loss: 0.0024 lr: 0.02\n",
      "iteration: 734600 loss: 0.0024 lr: 0.02\n",
      "iteration: 734800 loss: 0.0027 lr: 0.02\n",
      "iteration: 735000 loss: 0.0025 lr: 0.02\n",
      "iteration: 735200 loss: 0.0027 lr: 0.02\n",
      "iteration: 735400 loss: 0.0027 lr: 0.02\n",
      "iteration: 735600 loss: 0.0024 lr: 0.02\n",
      "iteration: 735800 loss: 0.0024 lr: 0.02\n",
      "iteration: 736000 loss: 0.0025 lr: 0.02\n",
      "iteration: 736200 loss: 0.0024 lr: 0.02\n",
      "iteration: 736400 loss: 0.0025 lr: 0.02\n",
      "iteration: 736600 loss: 0.0024 lr: 0.02\n",
      "iteration: 736800 loss: 0.0025 lr: 0.02\n",
      "iteration: 737000 loss: 0.0029 lr: 0.02\n",
      "iteration: 737200 loss: 0.0023 lr: 0.02\n",
      "iteration: 737400 loss: 0.0025 lr: 0.02\n",
      "iteration: 737600 loss: 0.0024 lr: 0.02\n",
      "iteration: 737800 loss: 0.0026 lr: 0.02\n",
      "iteration: 738000 loss: 0.0025 lr: 0.02\n",
      "iteration: 738200 loss: 0.0025 lr: 0.02\n",
      "iteration: 738400 loss: 0.0025 lr: 0.02\n",
      "iteration: 738600 loss: 0.0023 lr: 0.02\n",
      "iteration: 738800 loss: 0.0026 lr: 0.02\n",
      "iteration: 739000 loss: 0.0024 lr: 0.02\n",
      "iteration: 739200 loss: 0.0024 lr: 0.02\n",
      "iteration: 739400 loss: 0.0027 lr: 0.02\n",
      "iteration: 739600 loss: 0.0024 lr: 0.02\n",
      "iteration: 739800 loss: 0.0024 lr: 0.02\n",
      "iteration: 740000 loss: 0.0026 lr: 0.02\n",
      "iteration: 740200 loss: 0.0025 lr: 0.02\n",
      "iteration: 740400 loss: 0.0026 lr: 0.02\n",
      "iteration: 740600 loss: 0.0025 lr: 0.02\n",
      "iteration: 740800 loss: 0.0025 lr: 0.02\n",
      "iteration: 741000 loss: 0.0026 lr: 0.02\n",
      "iteration: 741200 loss: 0.0024 lr: 0.02\n",
      "iteration: 741400 loss: 0.0026 lr: 0.02\n",
      "iteration: 741600 loss: 0.0025 lr: 0.02\n",
      "iteration: 741800 loss: 0.0024 lr: 0.02\n",
      "iteration: 742000 loss: 0.0024 lr: 0.02\n",
      "iteration: 742200 loss: 0.0025 lr: 0.02\n",
      "iteration: 742400 loss: 0.0025 lr: 0.02\n",
      "iteration: 742600 loss: 0.0025 lr: 0.02\n",
      "iteration: 742800 loss: 0.0026 lr: 0.02\n",
      "iteration: 743000 loss: 0.0026 lr: 0.02\n",
      "iteration: 743200 loss: 0.0025 lr: 0.02\n",
      "iteration: 743400 loss: 0.0025 lr: 0.02\n",
      "iteration: 743600 loss: 0.0025 lr: 0.02\n",
      "iteration: 743800 loss: 0.0025 lr: 0.02\n",
      "iteration: 744000 loss: 0.0024 lr: 0.02\n",
      "iteration: 744200 loss: 0.0023 lr: 0.02\n",
      "iteration: 744400 loss: 0.0025 lr: 0.02\n",
      "iteration: 744600 loss: 0.0026 lr: 0.02\n",
      "iteration: 744800 loss: 0.0025 lr: 0.02\n",
      "iteration: 745000 loss: 0.0025 lr: 0.02\n",
      "iteration: 745200 loss: 0.0024 lr: 0.02\n",
      "iteration: 745400 loss: 0.0024 lr: 0.02\n",
      "iteration: 745600 loss: 0.0024 lr: 0.02\n",
      "iteration: 745800 loss: 0.0024 lr: 0.02\n",
      "iteration: 746000 loss: 0.0024 lr: 0.02\n",
      "iteration: 746200 loss: 0.0025 lr: 0.02\n",
      "iteration: 746400 loss: 0.0024 lr: 0.02\n",
      "iteration: 746600 loss: 0.0025 lr: 0.02\n",
      "iteration: 746800 loss: 0.0022 lr: 0.02\n",
      "iteration: 747000 loss: 0.0024 lr: 0.02\n",
      "iteration: 747200 loss: 0.0023 lr: 0.02\n",
      "iteration: 747400 loss: 0.0024 lr: 0.02\n",
      "iteration: 747600 loss: 0.0027 lr: 0.02\n",
      "iteration: 747800 loss: 0.0025 lr: 0.02\n",
      "iteration: 748000 loss: 0.0023 lr: 0.02\n",
      "iteration: 748200 loss: 0.0024 lr: 0.02\n",
      "iteration: 748400 loss: 0.0023 lr: 0.02\n",
      "iteration: 748600 loss: 0.0023 lr: 0.02\n",
      "iteration: 748800 loss: 0.0023 lr: 0.02\n",
      "iteration: 749000 loss: 0.0024 lr: 0.02\n",
      "iteration: 749200 loss: 0.0024 lr: 0.02\n",
      "iteration: 749400 loss: 0.0024 lr: 0.02\n",
      "iteration: 749600 loss: 0.0025 lr: 0.02\n",
      "iteration: 749800 loss: 0.0024 lr: 0.02\n",
      "iteration: 750000 loss: 0.0023 lr: 0.02\n",
      "iteration: 750200 loss: 0.0023 lr: 0.02\n",
      "iteration: 750400 loss: 0.0025 lr: 0.02\n",
      "iteration: 750600 loss: 0.0026 lr: 0.02\n",
      "iteration: 750800 loss: 0.0023 lr: 0.02\n",
      "iteration: 751000 loss: 0.0024 lr: 0.02\n",
      "iteration: 751200 loss: 0.0024 lr: 0.02\n",
      "iteration: 751400 loss: 0.0023 lr: 0.02\n",
      "iteration: 751600 loss: 0.0023 lr: 0.02\n",
      "iteration: 751800 loss: 0.0024 lr: 0.02\n",
      "iteration: 752000 loss: 0.0024 lr: 0.02\n",
      "iteration: 752200 loss: 0.0026 lr: 0.02\n",
      "iteration: 752400 loss: 0.0026 lr: 0.02\n",
      "iteration: 752600 loss: 0.0025 lr: 0.02\n",
      "iteration: 752800 loss: 0.0024 lr: 0.02\n",
      "iteration: 753000 loss: 0.0025 lr: 0.02\n",
      "iteration: 753200 loss: 0.0025 lr: 0.02\n",
      "iteration: 753400 loss: 0.0025 lr: 0.02\n",
      "iteration: 753600 loss: 0.0025 lr: 0.02\n",
      "iteration: 753800 loss: 0.0025 lr: 0.02\n",
      "iteration: 754000 loss: 0.0024 lr: 0.02\n",
      "iteration: 754200 loss: 0.0026 lr: 0.02\n",
      "iteration: 754400 loss: 0.0024 lr: 0.02\n",
      "iteration: 754600 loss: 0.0024 lr: 0.02\n",
      "iteration: 754800 loss: 0.0025 lr: 0.02\n",
      "iteration: 755000 loss: 0.0023 lr: 0.02\n",
      "iteration: 755200 loss: 0.0023 lr: 0.02\n",
      "iteration: 755400 loss: 0.0023 lr: 0.02\n",
      "iteration: 755600 loss: 0.0025 lr: 0.02\n",
      "iteration: 755800 loss: 0.0025 lr: 0.02\n",
      "iteration: 756000 loss: 0.0026 lr: 0.02\n",
      "iteration: 756200 loss: 0.0023 lr: 0.02\n",
      "iteration: 756400 loss: 0.0026 lr: 0.02\n",
      "iteration: 756600 loss: 0.0026 lr: 0.02\n",
      "iteration: 756800 loss: 0.0024 lr: 0.02\n",
      "iteration: 757000 loss: 0.0024 lr: 0.02\n",
      "iteration: 757200 loss: 0.0025 lr: 0.02\n",
      "iteration: 757400 loss: 0.0023 lr: 0.02\n",
      "iteration: 757600 loss: 0.0025 lr: 0.02\n",
      "iteration: 757800 loss: 0.0023 lr: 0.02\n",
      "iteration: 758000 loss: 0.0022 lr: 0.02\n",
      "iteration: 758200 loss: 0.0023 lr: 0.02\n",
      "iteration: 758400 loss: 0.0023 lr: 0.02\n",
      "iteration: 758600 loss: 0.0024 lr: 0.02\n",
      "iteration: 758800 loss: 0.0023 lr: 0.02\n",
      "iteration: 759000 loss: 0.0023 lr: 0.02\n",
      "iteration: 759200 loss: 0.0024 lr: 0.02\n",
      "iteration: 759400 loss: 0.0024 lr: 0.02\n",
      "iteration: 759600 loss: 0.0024 lr: 0.02\n",
      "iteration: 759800 loss: 0.0024 lr: 0.02\n",
      "iteration: 760000 loss: 0.0021 lr: 0.02\n",
      "iteration: 760200 loss: 0.0024 lr: 0.02\n",
      "iteration: 760400 loss: 0.0023 lr: 0.02\n",
      "iteration: 760600 loss: 0.0024 lr: 0.02\n",
      "iteration: 760800 loss: 0.0023 lr: 0.02\n",
      "iteration: 761000 loss: 0.0027 lr: 0.02\n",
      "iteration: 761200 loss: 0.0024 lr: 0.02\n",
      "iteration: 761400 loss: 0.0024 lr: 0.02\n",
      "iteration: 761600 loss: 0.0025 lr: 0.02\n",
      "iteration: 761800 loss: 0.0025 lr: 0.02\n",
      "iteration: 762000 loss: 0.0025 lr: 0.02\n",
      "iteration: 762200 loss: 0.0023 lr: 0.02\n",
      "iteration: 762400 loss: 0.0024 lr: 0.02\n",
      "iteration: 762600 loss: 0.0024 lr: 0.02\n",
      "iteration: 762800 loss: 0.0026 lr: 0.02\n",
      "iteration: 763000 loss: 0.0024 lr: 0.02\n",
      "iteration: 763200 loss: 0.0027 lr: 0.02\n",
      "iteration: 763400 loss: 0.0025 lr: 0.02\n",
      "iteration: 763600 loss: 0.0026 lr: 0.02\n",
      "iteration: 763800 loss: 0.0024 lr: 0.02\n"
     ]
    },
    {
     "name": "stderr",
     "output_type": "stream",
     "text": [
      "iteration: 764000 loss: 0.0025 lr: 0.02\n",
      "iteration: 764200 loss: 0.0023 lr: 0.02\n",
      "iteration: 764400 loss: 0.0024 lr: 0.02\n",
      "iteration: 764600 loss: 0.0024 lr: 0.02\n",
      "iteration: 764800 loss: 0.0024 lr: 0.02\n",
      "iteration: 765000 loss: 0.0024 lr: 0.02\n",
      "iteration: 765200 loss: 0.0025 lr: 0.02\n",
      "iteration: 765400 loss: 0.0026 lr: 0.02\n",
      "iteration: 765600 loss: 0.0022 lr: 0.02\n",
      "iteration: 765800 loss: 0.0024 lr: 0.02\n",
      "iteration: 766000 loss: 0.0023 lr: 0.02\n",
      "iteration: 766200 loss: 0.0025 lr: 0.02\n",
      "iteration: 766400 loss: 0.0024 lr: 0.02\n",
      "iteration: 766600 loss: 0.0023 lr: 0.02\n",
      "iteration: 766800 loss: 0.0025 lr: 0.02\n",
      "iteration: 767000 loss: 0.0022 lr: 0.02\n",
      "iteration: 767200 loss: 0.0025 lr: 0.02\n",
      "iteration: 767400 loss: 0.0023 lr: 0.02\n",
      "iteration: 767600 loss: 0.0025 lr: 0.02\n",
      "iteration: 767800 loss: 0.0023 lr: 0.02\n",
      "iteration: 768000 loss: 0.0025 lr: 0.02\n",
      "iteration: 768200 loss: 0.0023 lr: 0.02\n",
      "iteration: 768400 loss: 0.0025 lr: 0.02\n",
      "iteration: 768600 loss: 0.0024 lr: 0.02\n",
      "iteration: 768800 loss: 0.0025 lr: 0.02\n",
      "iteration: 769000 loss: 0.0024 lr: 0.02\n",
      "iteration: 769200 loss: 0.0023 lr: 0.02\n",
      "iteration: 769400 loss: 0.0024 lr: 0.02\n",
      "iteration: 769600 loss: 0.0024 lr: 0.02\n",
      "iteration: 769800 loss: 0.0022 lr: 0.02\n",
      "iteration: 770000 loss: 0.0024 lr: 0.02\n",
      "iteration: 770200 loss: 0.0023 lr: 0.02\n",
      "iteration: 770400 loss: 0.0022 lr: 0.02\n",
      "iteration: 770600 loss: 0.0024 lr: 0.02\n",
      "iteration: 770800 loss: 0.0024 lr: 0.02\n",
      "iteration: 771000 loss: 0.0022 lr: 0.02\n",
      "iteration: 771200 loss: 0.0025 lr: 0.02\n",
      "iteration: 771400 loss: 0.0024 lr: 0.02\n",
      "iteration: 771600 loss: 0.0022 lr: 0.02\n",
      "iteration: 771800 loss: 0.0026 lr: 0.02\n",
      "iteration: 772000 loss: 0.0023 lr: 0.02\n",
      "iteration: 772200 loss: 0.0024 lr: 0.02\n",
      "iteration: 772400 loss: 0.0024 lr: 0.02\n",
      "iteration: 772600 loss: 0.0025 lr: 0.02\n",
      "iteration: 772800 loss: 0.0025 lr: 0.02\n",
      "iteration: 773000 loss: 0.0024 lr: 0.02\n",
      "iteration: 773200 loss: 0.0025 lr: 0.02\n",
      "iteration: 773400 loss: 0.0024 lr: 0.02\n",
      "iteration: 773600 loss: 0.0023 lr: 0.02\n",
      "iteration: 773800 loss: 0.0022 lr: 0.02\n",
      "iteration: 774000 loss: 0.0026 lr: 0.02\n",
      "iteration: 774200 loss: 0.0024 lr: 0.02\n",
      "iteration: 774400 loss: 0.0023 lr: 0.02\n",
      "iteration: 774600 loss: 0.0023 lr: 0.02\n",
      "iteration: 774800 loss: 0.0023 lr: 0.02\n",
      "iteration: 775000 loss: 0.0024 lr: 0.02\n",
      "iteration: 775200 loss: 0.0023 lr: 0.02\n",
      "iteration: 775400 loss: 0.0024 lr: 0.02\n",
      "iteration: 775600 loss: 0.0027 lr: 0.02\n",
      "iteration: 775800 loss: 0.0026 lr: 0.02\n",
      "iteration: 776000 loss: 0.0025 lr: 0.02\n",
      "iteration: 776200 loss: 0.0025 lr: 0.02\n",
      "iteration: 776400 loss: 0.0024 lr: 0.02\n",
      "iteration: 776600 loss: 0.0025 lr: 0.02\n",
      "iteration: 776800 loss: 0.0023 lr: 0.02\n",
      "iteration: 777000 loss: 0.0023 lr: 0.02\n",
      "iteration: 777200 loss: 0.0025 lr: 0.02\n",
      "iteration: 777400 loss: 0.0026 lr: 0.02\n",
      "iteration: 777600 loss: 0.0023 lr: 0.02\n",
      "iteration: 777800 loss: 0.0022 lr: 0.02\n",
      "iteration: 778000 loss: 0.0025 lr: 0.02\n",
      "iteration: 778200 loss: 0.0027 lr: 0.02\n",
      "iteration: 778400 loss: 0.0023 lr: 0.02\n",
      "iteration: 778600 loss: 0.0024 lr: 0.02\n",
      "iteration: 778800 loss: 0.0023 lr: 0.02\n",
      "iteration: 779000 loss: 0.0024 lr: 0.02\n",
      "iteration: 779200 loss: 0.0024 lr: 0.02\n",
      "iteration: 779400 loss: 0.0023 lr: 0.02\n",
      "iteration: 779600 loss: 0.0024 lr: 0.02\n",
      "iteration: 779800 loss: 0.0025 lr: 0.02\n",
      "iteration: 780000 loss: 0.0023 lr: 0.02\n",
      "iteration: 780200 loss: 0.0023 lr: 0.02\n",
      "iteration: 780400 loss: 0.0027 lr: 0.02\n",
      "iteration: 780600 loss: 0.0024 lr: 0.02\n",
      "iteration: 780800 loss: 0.0025 lr: 0.02\n",
      "iteration: 781000 loss: 0.0023 lr: 0.02\n",
      "iteration: 781200 loss: 0.0025 lr: 0.02\n",
      "iteration: 781400 loss: 0.0025 lr: 0.02\n",
      "iteration: 781600 loss: 0.0023 lr: 0.02\n",
      "iteration: 781800 loss: 0.0026 lr: 0.02\n",
      "iteration: 782000 loss: 0.0024 lr: 0.02\n",
      "iteration: 782200 loss: 0.0023 lr: 0.02\n",
      "iteration: 782400 loss: 0.0022 lr: 0.02\n",
      "iteration: 782600 loss: 0.0025 lr: 0.02\n",
      "iteration: 782800 loss: 0.0025 lr: 0.02\n",
      "iteration: 783000 loss: 0.0023 lr: 0.02\n",
      "iteration: 783200 loss: 0.0025 lr: 0.02\n",
      "iteration: 783400 loss: 0.0023 lr: 0.02\n",
      "iteration: 783600 loss: 0.0023 lr: 0.02\n",
      "iteration: 783800 loss: 0.0023 lr: 0.02\n",
      "iteration: 784000 loss: 0.0023 lr: 0.02\n",
      "iteration: 784200 loss: 0.0024 lr: 0.02\n",
      "iteration: 784400 loss: 0.0024 lr: 0.02\n",
      "iteration: 784600 loss: 0.0023 lr: 0.02\n",
      "iteration: 784800 loss: 0.0024 lr: 0.02\n",
      "iteration: 785000 loss: 0.0024 lr: 0.02\n",
      "iteration: 785200 loss: 0.0024 lr: 0.02\n",
      "iteration: 785400 loss: 0.0024 lr: 0.02\n",
      "iteration: 785600 loss: 0.0024 lr: 0.02\n",
      "iteration: 785800 loss: 0.0025 lr: 0.02\n",
      "iteration: 786000 loss: 0.0024 lr: 0.02\n",
      "iteration: 786200 loss: 0.0024 lr: 0.02\n",
      "iteration: 786400 loss: 0.0024 lr: 0.02\n",
      "iteration: 786600 loss: 0.0026 lr: 0.02\n",
      "iteration: 786800 loss: 0.0026 lr: 0.02\n",
      "iteration: 787000 loss: 0.0026 lr: 0.02\n",
      "iteration: 787200 loss: 0.0026 lr: 0.02\n",
      "iteration: 787400 loss: 0.0023 lr: 0.02\n",
      "iteration: 787600 loss: 0.0024 lr: 0.02\n",
      "iteration: 787800 loss: 0.0023 lr: 0.02\n",
      "iteration: 788000 loss: 0.0022 lr: 0.02\n",
      "iteration: 788200 loss: 0.0025 lr: 0.02\n",
      "iteration: 788400 loss: 0.0025 lr: 0.02\n",
      "iteration: 788600 loss: 0.0024 lr: 0.02\n",
      "iteration: 788800 loss: 0.0025 lr: 0.02\n",
      "iteration: 789000 loss: 0.0025 lr: 0.02\n",
      "iteration: 789200 loss: 0.0026 lr: 0.02\n",
      "iteration: 789400 loss: 0.0023 lr: 0.02\n",
      "iteration: 789600 loss: 0.0024 lr: 0.02\n",
      "iteration: 789800 loss: 0.0024 lr: 0.02\n",
      "iteration: 790000 loss: 0.0024 lr: 0.02\n",
      "iteration: 790200 loss: 0.0025 lr: 0.02\n",
      "iteration: 790400 loss: 0.0024 lr: 0.02\n",
      "iteration: 790600 loss: 0.0023 lr: 0.02\n",
      "iteration: 790800 loss: 0.0023 lr: 0.02\n",
      "iteration: 791000 loss: 0.0023 lr: 0.02\n",
      "iteration: 791200 loss: 0.0025 lr: 0.02\n",
      "iteration: 791400 loss: 0.0026 lr: 0.02\n",
      "iteration: 791600 loss: 0.0025 lr: 0.02\n",
      "iteration: 791800 loss: 0.0025 lr: 0.02\n",
      "iteration: 792000 loss: 0.0025 lr: 0.02\n",
      "iteration: 792200 loss: 0.0024 lr: 0.02\n",
      "iteration: 792400 loss: 0.0026 lr: 0.02\n",
      "iteration: 792600 loss: 0.0024 lr: 0.02\n",
      "iteration: 792800 loss: 0.0027 lr: 0.02\n",
      "iteration: 793000 loss: 0.0026 lr: 0.02\n",
      "iteration: 793200 loss: 0.0025 lr: 0.02\n",
      "iteration: 793400 loss: 0.0024 lr: 0.02\n",
      "iteration: 793600 loss: 0.0025 lr: 0.02\n",
      "iteration: 793800 loss: 0.0023 lr: 0.02\n",
      "iteration: 794000 loss: 0.0024 lr: 0.02\n",
      "iteration: 794200 loss: 0.0025 lr: 0.02\n",
      "iteration: 794400 loss: 0.0024 lr: 0.02\n",
      "iteration: 794600 loss: 0.0025 lr: 0.02\n",
      "iteration: 794800 loss: 0.0024 lr: 0.02\n",
      "iteration: 795000 loss: 0.0025 lr: 0.02\n",
      "iteration: 795200 loss: 0.0025 lr: 0.02\n",
      "iteration: 795400 loss: 0.0026 lr: 0.02\n",
      "iteration: 795600 loss: 0.0023 lr: 0.02\n",
      "iteration: 795800 loss: 0.0023 lr: 0.02\n",
      "iteration: 796000 loss: 0.0023 lr: 0.02\n",
      "iteration: 796200 loss: 0.0023 lr: 0.02\n",
      "iteration: 796400 loss: 0.0025 lr: 0.02\n",
      "iteration: 796600 loss: 0.0025 lr: 0.02\n",
      "iteration: 796800 loss: 0.0024 lr: 0.02\n",
      "iteration: 797000 loss: 0.0025 lr: 0.02\n",
      "iteration: 797200 loss: 0.0026 lr: 0.02\n",
      "iteration: 797400 loss: 0.0025 lr: 0.02\n",
      "iteration: 797600 loss: 0.0025 lr: 0.02\n",
      "iteration: 797800 loss: 0.0025 lr: 0.02\n",
      "iteration: 798000 loss: 0.0024 lr: 0.02\n",
      "iteration: 798200 loss: 0.0024 lr: 0.02\n",
      "iteration: 798400 loss: 0.0025 lr: 0.02\n",
      "iteration: 798600 loss: 0.0024 lr: 0.02\n",
      "iteration: 798800 loss: 0.0024 lr: 0.02\n",
      "iteration: 799000 loss: 0.0023 lr: 0.02\n",
      "iteration: 799200 loss: 0.0023 lr: 0.02\n",
      "iteration: 799400 loss: 0.0023 lr: 0.02\n",
      "iteration: 799600 loss: 0.0024 lr: 0.02\n",
      "iteration: 799800 loss: 0.0025 lr: 0.02\n",
      "iteration: 800000 loss: 0.0024 lr: 0.02\n",
      "iteration: 800200 loss: 0.0024 lr: 0.02\n",
      "iteration: 800400 loss: 0.0025 lr: 0.02\n",
      "iteration: 800600 loss: 0.0024 lr: 0.02\n",
      "iteration: 800800 loss: 0.0024 lr: 0.02\n",
      "iteration: 801000 loss: 0.0024 lr: 0.02\n",
      "iteration: 801200 loss: 0.0024 lr: 0.02\n",
      "iteration: 801400 loss: 0.0023 lr: 0.02\n",
      "iteration: 801600 loss: 0.0023 lr: 0.02\n",
      "iteration: 801800 loss: 0.0023 lr: 0.02\n",
      "iteration: 802000 loss: 0.0024 lr: 0.02\n",
      "iteration: 802200 loss: 0.0023 lr: 0.02\n",
      "iteration: 802400 loss: 0.0023 lr: 0.02\n",
      "iteration: 802600 loss: 0.0024 lr: 0.02\n",
      "iteration: 802800 loss: 0.0024 lr: 0.02\n",
      "iteration: 803000 loss: 0.0024 lr: 0.02\n",
      "iteration: 803200 loss: 0.0024 lr: 0.02\n",
      "iteration: 803400 loss: 0.0024 lr: 0.02\n",
      "iteration: 803600 loss: 0.0024 lr: 0.02\n",
      "iteration: 803800 loss: 0.0023 lr: 0.02\n",
      "iteration: 804000 loss: 0.0025 lr: 0.02\n",
      "iteration: 804200 loss: 0.0024 lr: 0.02\n",
      "iteration: 804400 loss: 0.0025 lr: 0.02\n",
      "iteration: 804600 loss: 0.0023 lr: 0.02\n",
      "iteration: 804800 loss: 0.0021 lr: 0.02\n"
     ]
    },
    {
     "name": "stderr",
     "output_type": "stream",
     "text": [
      "iteration: 805000 loss: 0.0022 lr: 0.02\n",
      "iteration: 805200 loss: 0.0024 lr: 0.02\n",
      "iteration: 805400 loss: 0.0022 lr: 0.02\n",
      "iteration: 805600 loss: 0.0024 lr: 0.02\n",
      "iteration: 805800 loss: 0.0024 lr: 0.02\n",
      "iteration: 806000 loss: 0.0024 lr: 0.02\n",
      "iteration: 806200 loss: 0.0022 lr: 0.02\n",
      "iteration: 806400 loss: 0.0024 lr: 0.02\n",
      "iteration: 806600 loss: 0.0027 lr: 0.02\n",
      "iteration: 806800 loss: 0.0022 lr: 0.02\n",
      "iteration: 807000 loss: 0.0023 lr: 0.02\n",
      "iteration: 807200 loss: 0.0028 lr: 0.02\n",
      "iteration: 807400 loss: 0.0023 lr: 0.02\n",
      "iteration: 807600 loss: 0.0022 lr: 0.02\n",
      "iteration: 807800 loss: 0.0022 lr: 0.02\n",
      "iteration: 808000 loss: 0.0023 lr: 0.02\n",
      "iteration: 808200 loss: 0.0023 lr: 0.02\n",
      "iteration: 808400 loss: 0.0023 lr: 0.02\n",
      "iteration: 808600 loss: 0.0024 lr: 0.02\n",
      "iteration: 808800 loss: 0.0023 lr: 0.02\n",
      "iteration: 809000 loss: 0.0023 lr: 0.02\n",
      "iteration: 809200 loss: 0.0023 lr: 0.02\n",
      "iteration: 809400 loss: 0.0024 lr: 0.02\n",
      "iteration: 809600 loss: 0.0023 lr: 0.02\n",
      "iteration: 809800 loss: 0.0023 lr: 0.02\n",
      "iteration: 810000 loss: 0.0024 lr: 0.02\n",
      "iteration: 810200 loss: 0.0024 lr: 0.02\n",
      "iteration: 810400 loss: 0.0024 lr: 0.02\n",
      "iteration: 810600 loss: 0.0023 lr: 0.02\n",
      "iteration: 810800 loss: 0.0025 lr: 0.02\n",
      "iteration: 811000 loss: 0.0023 lr: 0.02\n",
      "iteration: 811200 loss: 0.0023 lr: 0.02\n",
      "iteration: 811400 loss: 0.0023 lr: 0.02\n",
      "iteration: 811600 loss: 0.0023 lr: 0.02\n",
      "iteration: 811800 loss: 0.0023 lr: 0.02\n",
      "iteration: 812000 loss: 0.0026 lr: 0.02\n",
      "iteration: 812200 loss: 0.0023 lr: 0.02\n",
      "iteration: 812400 loss: 0.0023 lr: 0.02\n",
      "iteration: 812600 loss: 0.0024 lr: 0.02\n",
      "iteration: 812800 loss: 0.0024 lr: 0.02\n",
      "iteration: 813000 loss: 0.0024 lr: 0.02\n",
      "iteration: 813200 loss: 0.0024 lr: 0.02\n",
      "iteration: 813400 loss: 0.0024 lr: 0.02\n",
      "iteration: 813600 loss: 0.0025 lr: 0.02\n",
      "iteration: 813800 loss: 0.0024 lr: 0.02\n",
      "iteration: 814000 loss: 0.0024 lr: 0.02\n",
      "iteration: 814200 loss: 0.0026 lr: 0.02\n",
      "iteration: 814400 loss: 0.0022 lr: 0.02\n",
      "iteration: 814600 loss: 0.0025 lr: 0.02\n",
      "iteration: 814800 loss: 0.0024 lr: 0.02\n",
      "iteration: 815000 loss: 0.0025 lr: 0.02\n",
      "iteration: 815200 loss: 0.0025 lr: 0.02\n",
      "iteration: 815400 loss: 0.0023 lr: 0.02\n",
      "iteration: 815600 loss: 0.0024 lr: 0.02\n",
      "iteration: 815800 loss: 0.0025 lr: 0.02\n",
      "iteration: 816000 loss: 0.0023 lr: 0.02\n",
      "iteration: 816200 loss: 0.0024 lr: 0.02\n",
      "iteration: 816400 loss: 0.0024 lr: 0.02\n",
      "iteration: 816600 loss: 0.0024 lr: 0.02\n",
      "iteration: 816800 loss: 0.0023 lr: 0.02\n",
      "iteration: 817000 loss: 0.0022 lr: 0.02\n",
      "iteration: 817200 loss: 0.0023 lr: 0.02\n",
      "iteration: 817400 loss: 0.0023 lr: 0.02\n",
      "iteration: 817600 loss: 0.0022 lr: 0.02\n",
      "iteration: 817800 loss: 0.0022 lr: 0.02\n",
      "iteration: 818000 loss: 0.0022 lr: 0.02\n",
      "iteration: 818200 loss: 0.0023 lr: 0.02\n",
      "iteration: 818400 loss: 0.0024 lr: 0.02\n",
      "iteration: 818600 loss: 0.0023 lr: 0.02\n",
      "iteration: 818800 loss: 0.0024 lr: 0.02\n",
      "iteration: 819000 loss: 0.0024 lr: 0.02\n",
      "iteration: 819200 loss: 0.0023 lr: 0.02\n",
      "iteration: 819400 loss: 0.0023 lr: 0.02\n",
      "iteration: 819600 loss: 0.0024 lr: 0.02\n",
      "iteration: 819800 loss: 0.0022 lr: 0.02\n",
      "iteration: 820000 loss: 0.0024 lr: 0.02\n",
      "iteration: 820200 loss: 0.0023 lr: 0.02\n",
      "iteration: 820400 loss: 0.0023 lr: 0.02\n",
      "iteration: 820600 loss: 0.0024 lr: 0.02\n",
      "iteration: 820800 loss: 0.0021 lr: 0.02\n",
      "iteration: 821000 loss: 0.0023 lr: 0.02\n",
      "iteration: 821200 loss: 0.0025 lr: 0.02\n",
      "iteration: 821400 loss: 0.0023 lr: 0.02\n",
      "iteration: 821600 loss: 0.0024 lr: 0.02\n",
      "iteration: 821800 loss: 0.0024 lr: 0.02\n",
      "iteration: 822000 loss: 0.0023 lr: 0.02\n",
      "iteration: 822200 loss: 0.0024 lr: 0.02\n",
      "iteration: 822400 loss: 0.0022 lr: 0.02\n",
      "iteration: 822600 loss: 0.0023 lr: 0.02\n",
      "iteration: 822800 loss: 0.0022 lr: 0.02\n",
      "iteration: 823000 loss: 0.0023 lr: 0.02\n",
      "iteration: 823200 loss: 0.0024 lr: 0.02\n",
      "iteration: 823400 loss: 0.0025 lr: 0.02\n",
      "iteration: 823600 loss: 0.0026 lr: 0.02\n",
      "iteration: 823800 loss: 0.0024 lr: 0.02\n",
      "iteration: 824000 loss: 0.0024 lr: 0.02\n",
      "iteration: 824200 loss: 0.0023 lr: 0.02\n",
      "iteration: 824400 loss: 0.0022 lr: 0.02\n",
      "iteration: 824600 loss: 0.0026 lr: 0.02\n",
      "iteration: 824800 loss: 0.0022 lr: 0.02\n",
      "iteration: 825000 loss: 0.0024 lr: 0.02\n",
      "iteration: 825200 loss: 0.0024 lr: 0.02\n",
      "iteration: 825400 loss: 0.0023 lr: 0.02\n",
      "iteration: 825600 loss: 0.0024 lr: 0.02\n",
      "iteration: 825800 loss: 0.0023 lr: 0.02\n",
      "iteration: 826000 loss: 0.0022 lr: 0.02\n",
      "iteration: 826200 loss: 0.0024 lr: 0.02\n",
      "iteration: 826400 loss: 0.0023 lr: 0.02\n",
      "iteration: 826600 loss: 0.0027 lr: 0.02\n",
      "iteration: 826800 loss: 0.0025 lr: 0.02\n",
      "iteration: 827000 loss: 0.0025 lr: 0.02\n",
      "iteration: 827200 loss: 0.0025 lr: 0.02\n",
      "iteration: 827400 loss: 0.0022 lr: 0.02\n",
      "iteration: 827600 loss: 0.0023 lr: 0.02\n",
      "iteration: 827800 loss: 0.0026 lr: 0.02\n",
      "iteration: 828000 loss: 0.0027 lr: 0.02\n",
      "iteration: 828200 loss: 0.0026 lr: 0.02\n",
      "iteration: 828400 loss: 0.0022 lr: 0.02\n",
      "iteration: 828600 loss: 0.0022 lr: 0.02\n",
      "iteration: 828800 loss: 0.0025 lr: 0.02\n",
      "iteration: 829000 loss: 0.0023 lr: 0.02\n",
      "iteration: 829200 loss: 0.0025 lr: 0.02\n",
      "iteration: 829400 loss: 0.0025 lr: 0.02\n",
      "iteration: 829600 loss: 0.0024 lr: 0.02\n",
      "iteration: 829800 loss: 0.0024 lr: 0.02\n",
      "iteration: 830000 loss: 0.0024 lr: 0.02\n",
      "iteration: 830200 loss: 0.0024 lr: 0.02\n",
      "iteration: 830400 loss: 0.0024 lr: 0.02\n",
      "iteration: 830600 loss: 0.0023 lr: 0.02\n",
      "iteration: 830800 loss: 0.0022 lr: 0.02\n",
      "iteration: 831000 loss: 0.0025 lr: 0.02\n",
      "iteration: 831200 loss: 0.0023 lr: 0.02\n",
      "iteration: 831400 loss: 0.0025 lr: 0.02\n",
      "iteration: 831600 loss: 0.0021 lr: 0.02\n",
      "iteration: 831800 loss: 0.0025 lr: 0.02\n",
      "iteration: 832000 loss: 0.0022 lr: 0.02\n",
      "iteration: 832200 loss: 0.0022 lr: 0.02\n",
      "iteration: 832400 loss: 0.0024 lr: 0.02\n",
      "iteration: 832600 loss: 0.0024 lr: 0.02\n",
      "iteration: 832800 loss: 0.0023 lr: 0.02\n",
      "iteration: 833000 loss: 0.0024 lr: 0.02\n",
      "iteration: 833200 loss: 0.0022 lr: 0.02\n",
      "iteration: 833400 loss: 0.0022 lr: 0.02\n",
      "iteration: 833600 loss: 0.0022 lr: 0.02\n",
      "iteration: 833800 loss: 0.0022 lr: 0.02\n",
      "iteration: 834000 loss: 0.0023 lr: 0.02\n",
      "iteration: 834200 loss: 0.0024 lr: 0.02\n",
      "iteration: 834400 loss: 0.0023 lr: 0.02\n",
      "iteration: 834600 loss: 0.0024 lr: 0.02\n",
      "iteration: 834800 loss: 0.0022 lr: 0.02\n",
      "iteration: 835000 loss: 0.0022 lr: 0.02\n",
      "iteration: 835200 loss: 0.0022 lr: 0.02\n",
      "iteration: 835400 loss: 0.0024 lr: 0.02\n",
      "iteration: 835600 loss: 0.0024 lr: 0.02\n",
      "iteration: 835800 loss: 0.0023 lr: 0.02\n",
      "iteration: 836000 loss: 0.0022 lr: 0.02\n",
      "iteration: 836200 loss: 0.0023 lr: 0.02\n",
      "iteration: 836400 loss: 0.0023 lr: 0.02\n",
      "iteration: 836600 loss: 0.0024 lr: 0.02\n",
      "iteration: 836800 loss: 0.0023 lr: 0.02\n",
      "iteration: 837000 loss: 0.0024 lr: 0.02\n",
      "iteration: 837200 loss: 0.0024 lr: 0.02\n",
      "iteration: 837400 loss: 0.0024 lr: 0.02\n",
      "iteration: 837600 loss: 0.0023 lr: 0.02\n",
      "iteration: 837800 loss: 0.0025 lr: 0.02\n",
      "iteration: 838000 loss: 0.0024 lr: 0.02\n",
      "iteration: 838200 loss: 0.0023 lr: 0.02\n",
      "iteration: 838400 loss: 0.0026 lr: 0.02\n",
      "iteration: 838600 loss: 0.0022 lr: 0.02\n",
      "iteration: 838800 loss: 0.0023 lr: 0.02\n",
      "iteration: 839000 loss: 0.0022 lr: 0.02\n",
      "iteration: 839200 loss: 0.0023 lr: 0.02\n",
      "iteration: 839400 loss: 0.0023 lr: 0.02\n",
      "iteration: 839600 loss: 0.0026 lr: 0.02\n",
      "iteration: 839800 loss: 0.0026 lr: 0.02\n",
      "iteration: 840000 loss: 0.0022 lr: 0.02\n",
      "iteration: 840200 loss: 0.0023 lr: 0.02\n",
      "iteration: 840400 loss: 0.0025 lr: 0.02\n",
      "iteration: 840600 loss: 0.0023 lr: 0.02\n",
      "iteration: 840800 loss: 0.0024 lr: 0.02\n",
      "iteration: 841000 loss: 0.0024 lr: 0.02\n",
      "iteration: 841200 loss: 0.0024 lr: 0.02\n",
      "iteration: 841400 loss: 0.0025 lr: 0.02\n",
      "iteration: 841600 loss: 0.0025 lr: 0.02\n",
      "iteration: 841800 loss: 0.0022 lr: 0.02\n",
      "iteration: 842000 loss: 0.0025 lr: 0.02\n",
      "iteration: 842200 loss: 0.0026 lr: 0.02\n",
      "iteration: 842400 loss: 0.0024 lr: 0.02\n",
      "iteration: 842600 loss: 0.0025 lr: 0.02\n",
      "iteration: 842800 loss: 0.0023 lr: 0.02\n",
      "iteration: 843000 loss: 0.0024 lr: 0.02\n",
      "iteration: 843200 loss: 0.0023 lr: 0.02\n",
      "iteration: 843400 loss: 0.0023 lr: 0.02\n",
      "iteration: 843600 loss: 0.0023 lr: 0.02\n",
      "iteration: 843800 loss: 0.0021 lr: 0.02\n",
      "iteration: 844000 loss: 0.0025 lr: 0.02\n",
      "iteration: 844200 loss: 0.0023 lr: 0.02\n",
      "iteration: 844400 loss: 0.0024 lr: 0.02\n",
      "iteration: 844600 loss: 0.0025 lr: 0.02\n",
      "iteration: 844800 loss: 0.0024 lr: 0.02\n",
      "iteration: 845000 loss: 0.0025 lr: 0.02\n",
      "iteration: 845200 loss: 0.0023 lr: 0.02\n",
      "iteration: 845400 loss: 0.0023 lr: 0.02\n",
      "iteration: 845600 loss: 0.0023 lr: 0.02\n",
      "iteration: 845800 loss: 0.0025 lr: 0.02\n"
     ]
    },
    {
     "name": "stderr",
     "output_type": "stream",
     "text": [
      "iteration: 846000 loss: 0.0024 lr: 0.02\n",
      "iteration: 846200 loss: 0.0023 lr: 0.02\n",
      "iteration: 846400 loss: 0.0023 lr: 0.02\n",
      "iteration: 846600 loss: 0.0023 lr: 0.02\n",
      "iteration: 846800 loss: 0.0022 lr: 0.02\n",
      "iteration: 847000 loss: 0.0024 lr: 0.02\n",
      "iteration: 847200 loss: 0.0020 lr: 0.02\n",
      "iteration: 847400 loss: 0.0025 lr: 0.02\n",
      "iteration: 847600 loss: 0.0023 lr: 0.02\n",
      "iteration: 847800 loss: 0.0026 lr: 0.02\n",
      "iteration: 848000 loss: 0.0025 lr: 0.02\n",
      "iteration: 848200 loss: 0.0024 lr: 0.02\n",
      "iteration: 848400 loss: 0.0024 lr: 0.02\n",
      "iteration: 848600 loss: 0.0023 lr: 0.02\n",
      "iteration: 848800 loss: 0.0022 lr: 0.02\n",
      "iteration: 849000 loss: 0.0022 lr: 0.02\n",
      "iteration: 849200 loss: 0.0023 lr: 0.02\n",
      "iteration: 849400 loss: 0.0023 lr: 0.02\n",
      "iteration: 849600 loss: 0.0022 lr: 0.02\n",
      "iteration: 849800 loss: 0.0024 lr: 0.02\n",
      "iteration: 850000 loss: 0.0023 lr: 0.02\n",
      "iteration: 850200 loss: 0.0022 lr: 0.02\n",
      "iteration: 850400 loss: 0.0023 lr: 0.02\n",
      "iteration: 850600 loss: 0.0024 lr: 0.02\n",
      "iteration: 850800 loss: 0.0023 lr: 0.02\n",
      "iteration: 851000 loss: 0.0023 lr: 0.02\n",
      "iteration: 851200 loss: 0.0022 lr: 0.02\n",
      "iteration: 851400 loss: 0.0026 lr: 0.02\n",
      "iteration: 851600 loss: 0.0024 lr: 0.02\n",
      "iteration: 851800 loss: 0.0024 lr: 0.02\n",
      "iteration: 852000 loss: 0.0024 lr: 0.02\n",
      "iteration: 852200 loss: 0.0023 lr: 0.02\n",
      "iteration: 852400 loss: 0.0022 lr: 0.02\n",
      "iteration: 852600 loss: 0.0024 lr: 0.02\n",
      "iteration: 852800 loss: 0.0025 lr: 0.02\n",
      "iteration: 853000 loss: 0.0023 lr: 0.02\n",
      "iteration: 853200 loss: 0.0023 lr: 0.02\n",
      "iteration: 853400 loss: 0.0023 lr: 0.02\n",
      "iteration: 853600 loss: 0.0024 lr: 0.02\n",
      "iteration: 853800 loss: 0.0022 lr: 0.02\n",
      "iteration: 854000 loss: 0.0023 lr: 0.02\n",
      "iteration: 854200 loss: 0.0023 lr: 0.02\n",
      "iteration: 854400 loss: 0.0024 lr: 0.02\n",
      "iteration: 854600 loss: 0.0023 lr: 0.02\n",
      "iteration: 854800 loss: 0.0024 lr: 0.02\n",
      "iteration: 855000 loss: 0.0024 lr: 0.02\n",
      "iteration: 855200 loss: 0.0024 lr: 0.02\n",
      "iteration: 855400 loss: 0.0022 lr: 0.02\n",
      "iteration: 855600 loss: 0.0024 lr: 0.02\n",
      "iteration: 855800 loss: 0.0022 lr: 0.02\n",
      "iteration: 856000 loss: 0.0023 lr: 0.02\n",
      "iteration: 856200 loss: 0.0026 lr: 0.02\n",
      "iteration: 856400 loss: 0.0024 lr: 0.02\n",
      "iteration: 856600 loss: 0.0025 lr: 0.02\n",
      "iteration: 856800 loss: 0.0023 lr: 0.02\n",
      "iteration: 857000 loss: 0.0022 lr: 0.02\n",
      "iteration: 857200 loss: 0.0022 lr: 0.02\n",
      "iteration: 857400 loss: 0.0023 lr: 0.02\n",
      "iteration: 857600 loss: 0.0024 lr: 0.02\n",
      "iteration: 857800 loss: 0.0022 lr: 0.02\n",
      "iteration: 858000 loss: 0.0024 lr: 0.02\n",
      "iteration: 858200 loss: 0.0022 lr: 0.02\n",
      "iteration: 858400 loss: 0.0023 lr: 0.02\n",
      "iteration: 858600 loss: 0.0024 lr: 0.02\n",
      "iteration: 858800 loss: 0.0024 lr: 0.02\n",
      "iteration: 859000 loss: 0.0023 lr: 0.02\n",
      "iteration: 859200 loss: 0.0023 lr: 0.02\n",
      "iteration: 859400 loss: 0.0022 lr: 0.02\n",
      "iteration: 859600 loss: 0.0022 lr: 0.02\n",
      "iteration: 859800 loss: 0.0024 lr: 0.02\n",
      "iteration: 860000 loss: 0.0025 lr: 0.02\n",
      "iteration: 860200 loss: 0.0023 lr: 0.02\n",
      "iteration: 860400 loss: 0.0022 lr: 0.02\n",
      "iteration: 860600 loss: 0.0023 lr: 0.02\n",
      "iteration: 860800 loss: 0.0025 lr: 0.02\n",
      "iteration: 861000 loss: 0.0023 lr: 0.02\n",
      "iteration: 861200 loss: 0.0023 lr: 0.02\n",
      "iteration: 861400 loss: 0.0025 lr: 0.02\n",
      "iteration: 861600 loss: 0.0024 lr: 0.02\n",
      "iteration: 861800 loss: 0.0024 lr: 0.02\n",
      "iteration: 862000 loss: 0.0024 lr: 0.02\n",
      "iteration: 862200 loss: 0.0025 lr: 0.02\n",
      "iteration: 862400 loss: 0.0024 lr: 0.02\n",
      "iteration: 862600 loss: 0.0022 lr: 0.02\n",
      "iteration: 862800 loss: 0.0024 lr: 0.02\n",
      "iteration: 863000 loss: 0.0022 lr: 0.02\n",
      "iteration: 863200 loss: 0.0024 lr: 0.02\n",
      "iteration: 863400 loss: 0.0023 lr: 0.02\n",
      "iteration: 863600 loss: 0.0023 lr: 0.02\n",
      "iteration: 863800 loss: 0.0023 lr: 0.02\n",
      "iteration: 864000 loss: 0.0021 lr: 0.02\n",
      "iteration: 864200 loss: 0.0024 lr: 0.02\n",
      "iteration: 864400 loss: 0.0023 lr: 0.02\n",
      "iteration: 864600 loss: 0.0022 lr: 0.02\n",
      "iteration: 864800 loss: 0.0025 lr: 0.02\n",
      "iteration: 865000 loss: 0.0023 lr: 0.02\n",
      "iteration: 865200 loss: 0.0022 lr: 0.02\n",
      "iteration: 865400 loss: 0.0022 lr: 0.02\n",
      "iteration: 865600 loss: 0.0023 lr: 0.02\n",
      "iteration: 865800 loss: 0.0022 lr: 0.02\n",
      "iteration: 866000 loss: 0.0021 lr: 0.02\n",
      "iteration: 866200 loss: 0.0024 lr: 0.02\n",
      "iteration: 866400 loss: 0.0023 lr: 0.02\n",
      "iteration: 866600 loss: 0.0025 lr: 0.02\n",
      "iteration: 866800 loss: 0.0023 lr: 0.02\n",
      "iteration: 867000 loss: 0.0023 lr: 0.02\n",
      "iteration: 867200 loss: 0.0022 lr: 0.02\n",
      "iteration: 867400 loss: 0.0022 lr: 0.02\n",
      "iteration: 867600 loss: 0.0023 lr: 0.02\n",
      "iteration: 867800 loss: 0.0023 lr: 0.02\n",
      "iteration: 868000 loss: 0.0023 lr: 0.02\n",
      "iteration: 868200 loss: 0.0022 lr: 0.02\n",
      "iteration: 868400 loss: 0.0024 lr: 0.02\n",
      "iteration: 868600 loss: 0.0023 lr: 0.02\n",
      "iteration: 868800 loss: 0.0025 lr: 0.02\n",
      "iteration: 869000 loss: 0.0022 lr: 0.02\n",
      "iteration: 869200 loss: 0.0024 lr: 0.02\n",
      "iteration: 869400 loss: 0.0021 lr: 0.02\n",
      "iteration: 869600 loss: 0.0025 lr: 0.02\n",
      "iteration: 869800 loss: 0.0023 lr: 0.02\n",
      "iteration: 870000 loss: 0.0023 lr: 0.02\n",
      "iteration: 870200 loss: 0.0023 lr: 0.02\n",
      "iteration: 870400 loss: 0.0023 lr: 0.02\n",
      "iteration: 870600 loss: 0.0023 lr: 0.02\n",
      "iteration: 870800 loss: 0.0024 lr: 0.02\n",
      "iteration: 871000 loss: 0.0022 lr: 0.02\n",
      "iteration: 871200 loss: 0.0022 lr: 0.02\n",
      "iteration: 871400 loss: 0.0024 lr: 0.02\n",
      "iteration: 871600 loss: 0.0022 lr: 0.02\n",
      "iteration: 871800 loss: 0.0021 lr: 0.02\n",
      "iteration: 872000 loss: 0.0023 lr: 0.02\n",
      "iteration: 872200 loss: 0.0024 lr: 0.02\n",
      "iteration: 872400 loss: 0.0022 lr: 0.02\n",
      "iteration: 872600 loss: 0.0025 lr: 0.02\n",
      "iteration: 872800 loss: 0.0022 lr: 0.02\n",
      "iteration: 873000 loss: 0.0026 lr: 0.02\n",
      "iteration: 873200 loss: 0.0024 lr: 0.02\n",
      "iteration: 873400 loss: 0.0023 lr: 0.02\n",
      "iteration: 873600 loss: 0.0023 lr: 0.02\n",
      "iteration: 873800 loss: 0.0025 lr: 0.02\n",
      "iteration: 874000 loss: 0.0022 lr: 0.02\n",
      "iteration: 874200 loss: 0.0024 lr: 0.02\n",
      "iteration: 874400 loss: 0.0023 lr: 0.02\n",
      "iteration: 874600 loss: 0.0023 lr: 0.02\n",
      "iteration: 874800 loss: 0.0022 lr: 0.02\n",
      "iteration: 875000 loss: 0.0022 lr: 0.02\n",
      "iteration: 875200 loss: 0.0022 lr: 0.02\n",
      "iteration: 875400 loss: 0.0023 lr: 0.02\n",
      "iteration: 875600 loss: 0.0022 lr: 0.02\n",
      "iteration: 875800 loss: 0.0023 lr: 0.02\n",
      "iteration: 876000 loss: 0.0022 lr: 0.02\n",
      "iteration: 876200 loss: 0.0025 lr: 0.02\n",
      "iteration: 876400 loss: 0.0024 lr: 0.02\n",
      "iteration: 876600 loss: 0.0023 lr: 0.02\n",
      "iteration: 876800 loss: 0.0023 lr: 0.02\n",
      "iteration: 877000 loss: 0.0023 lr: 0.02\n",
      "iteration: 877200 loss: 0.0024 lr: 0.02\n",
      "iteration: 877400 loss: 0.0024 lr: 0.02\n",
      "iteration: 877600 loss: 0.0023 lr: 0.02\n",
      "iteration: 877800 loss: 0.0022 lr: 0.02\n",
      "iteration: 878000 loss: 0.0024 lr: 0.02\n",
      "iteration: 878200 loss: 0.0025 lr: 0.02\n",
      "iteration: 878400 loss: 0.0023 lr: 0.02\n",
      "iteration: 878600 loss: 0.0023 lr: 0.02\n",
      "iteration: 878800 loss: 0.0021 lr: 0.02\n",
      "iteration: 879000 loss: 0.0023 lr: 0.02\n",
      "iteration: 879200 loss: 0.0022 lr: 0.02\n",
      "iteration: 879400 loss: 0.0023 lr: 0.02\n",
      "iteration: 879600 loss: 0.0022 lr: 0.02\n",
      "iteration: 879800 loss: 0.0023 lr: 0.02\n",
      "iteration: 880000 loss: 0.0024 lr: 0.02\n",
      "iteration: 880200 loss: 0.0022 lr: 0.02\n",
      "iteration: 880400 loss: 0.0022 lr: 0.02\n",
      "iteration: 880600 loss: 0.0023 lr: 0.02\n",
      "iteration: 880800 loss: 0.0023 lr: 0.02\n",
      "iteration: 881000 loss: 0.0023 lr: 0.02\n",
      "iteration: 881200 loss: 0.0022 lr: 0.02\n",
      "iteration: 881400 loss: 0.0022 lr: 0.02\n",
      "iteration: 881600 loss: 0.0022 lr: 0.02\n",
      "iteration: 881800 loss: 0.0022 lr: 0.02\n",
      "iteration: 882000 loss: 0.0022 lr: 0.02\n",
      "iteration: 882200 loss: 0.0022 lr: 0.02\n",
      "iteration: 882400 loss: 0.0022 lr: 0.02\n",
      "iteration: 882600 loss: 0.0023 lr: 0.02\n",
      "iteration: 882800 loss: 0.0025 lr: 0.02\n",
      "iteration: 883000 loss: 0.0024 lr: 0.02\n",
      "iteration: 883200 loss: 0.0021 lr: 0.02\n",
      "iteration: 883400 loss: 0.0022 lr: 0.02\n",
      "iteration: 883600 loss: 0.0025 lr: 0.02\n",
      "iteration: 883800 loss: 0.0023 lr: 0.02\n",
      "iteration: 884000 loss: 0.0025 lr: 0.02\n",
      "iteration: 884200 loss: 0.0023 lr: 0.02\n",
      "iteration: 884400 loss: 0.0022 lr: 0.02\n",
      "iteration: 884600 loss: 0.0022 lr: 0.02\n",
      "iteration: 884800 loss: 0.0024 lr: 0.02\n",
      "iteration: 885000 loss: 0.0022 lr: 0.02\n",
      "iteration: 885200 loss: 0.0022 lr: 0.02\n",
      "iteration: 885400 loss: 0.0024 lr: 0.02\n",
      "iteration: 885600 loss: 0.0024 lr: 0.02\n",
      "iteration: 885800 loss: 0.0023 lr: 0.02\n",
      "iteration: 886000 loss: 0.0023 lr: 0.02\n",
      "iteration: 886200 loss: 0.0027 lr: 0.02\n",
      "iteration: 886400 loss: 0.0023 lr: 0.02\n",
      "iteration: 886600 loss: 0.0023 lr: 0.02\n",
      "iteration: 886800 loss: 0.0023 lr: 0.02\n"
     ]
    },
    {
     "name": "stderr",
     "output_type": "stream",
     "text": [
      "iteration: 887000 loss: 0.0023 lr: 0.02\n",
      "iteration: 887200 loss: 0.0022 lr: 0.02\n",
      "iteration: 887400 loss: 0.0024 lr: 0.02\n",
      "iteration: 887600 loss: 0.0021 lr: 0.02\n",
      "iteration: 887800 loss: 0.0022 lr: 0.02\n",
      "iteration: 888000 loss: 0.0023 lr: 0.02\n",
      "iteration: 888200 loss: 0.0023 lr: 0.02\n",
      "iteration: 888400 loss: 0.0022 lr: 0.02\n",
      "iteration: 888600 loss: 0.0024 lr: 0.02\n",
      "iteration: 888800 loss: 0.0023 lr: 0.02\n",
      "iteration: 889000 loss: 0.0022 lr: 0.02\n",
      "iteration: 889200 loss: 0.0024 lr: 0.02\n",
      "iteration: 889400 loss: 0.0023 lr: 0.02\n",
      "iteration: 889600 loss: 0.0023 lr: 0.02\n",
      "iteration: 889800 loss: 0.0023 lr: 0.02\n",
      "iteration: 890000 loss: 0.0021 lr: 0.02\n",
      "iteration: 890200 loss: 0.0022 lr: 0.02\n",
      "iteration: 890400 loss: 0.0024 lr: 0.02\n",
      "iteration: 890600 loss: 0.0023 lr: 0.02\n",
      "iteration: 890800 loss: 0.0023 lr: 0.02\n",
      "iteration: 891000 loss: 0.0023 lr: 0.02\n",
      "iteration: 891200 loss: 0.0022 lr: 0.02\n",
      "iteration: 891400 loss: 0.0022 lr: 0.02\n",
      "iteration: 891600 loss: 0.0024 lr: 0.02\n",
      "iteration: 891800 loss: 0.0022 lr: 0.02\n",
      "iteration: 892000 loss: 0.0022 lr: 0.02\n",
      "iteration: 892200 loss: 0.0022 lr: 0.02\n",
      "iteration: 892400 loss: 0.0023 lr: 0.02\n",
      "iteration: 892600 loss: 0.0023 lr: 0.02\n",
      "iteration: 892800 loss: 0.0023 lr: 0.02\n",
      "iteration: 893000 loss: 0.0021 lr: 0.02\n",
      "iteration: 893200 loss: 0.0022 lr: 0.02\n",
      "iteration: 893400 loss: 0.0021 lr: 0.02\n",
      "iteration: 893600 loss: 0.0023 lr: 0.02\n",
      "iteration: 893800 loss: 0.0022 lr: 0.02\n",
      "iteration: 894000 loss: 0.0023 lr: 0.02\n",
      "iteration: 894200 loss: 0.0021 lr: 0.02\n",
      "iteration: 894400 loss: 0.0022 lr: 0.02\n",
      "iteration: 894600 loss: 0.0024 lr: 0.02\n",
      "iteration: 894800 loss: 0.0024 lr: 0.02\n",
      "iteration: 895000 loss: 0.0023 lr: 0.02\n",
      "iteration: 895200 loss: 0.0022 lr: 0.02\n",
      "iteration: 895400 loss: 0.0024 lr: 0.02\n",
      "iteration: 895600 loss: 0.0023 lr: 0.02\n",
      "iteration: 895800 loss: 0.0024 lr: 0.02\n",
      "iteration: 896000 loss: 0.0024 lr: 0.02\n",
      "iteration: 896200 loss: 0.0024 lr: 0.02\n",
      "iteration: 896400 loss: 0.0025 lr: 0.02\n",
      "iteration: 896600 loss: 0.0022 lr: 0.02\n",
      "iteration: 896800 loss: 0.0024 lr: 0.02\n",
      "iteration: 897000 loss: 0.0023 lr: 0.02\n",
      "iteration: 897200 loss: 0.0022 lr: 0.02\n",
      "iteration: 897400 loss: 0.0022 lr: 0.02\n",
      "iteration: 897600 loss: 0.0023 lr: 0.02\n",
      "iteration: 897800 loss: 0.0023 lr: 0.02\n",
      "iteration: 898000 loss: 0.0024 lr: 0.02\n",
      "iteration: 898200 loss: 0.0023 lr: 0.02\n",
      "iteration: 898400 loss: 0.0024 lr: 0.02\n",
      "iteration: 898600 loss: 0.0022 lr: 0.02\n",
      "iteration: 898800 loss: 0.0023 lr: 0.02\n",
      "iteration: 899000 loss: 0.0025 lr: 0.02\n",
      "iteration: 899200 loss: 0.0023 lr: 0.02\n",
      "iteration: 899400 loss: 0.0023 lr: 0.02\n",
      "iteration: 899600 loss: 0.0023 lr: 0.02\n",
      "iteration: 899800 loss: 0.0023 lr: 0.02\n",
      "iteration: 900000 loss: 0.0023 lr: 0.02\n",
      "iteration: 900200 loss: 0.0025 lr: 0.02\n",
      "iteration: 900400 loss: 0.0023 lr: 0.02\n",
      "iteration: 900600 loss: 0.0023 lr: 0.02\n",
      "iteration: 900800 loss: 0.0023 lr: 0.02\n",
      "iteration: 901000 loss: 0.0021 lr: 0.02\n",
      "iteration: 901200 loss: 0.0022 lr: 0.02\n",
      "iteration: 901400 loss: 0.0023 lr: 0.02\n",
      "iteration: 901600 loss: 0.0024 lr: 0.02\n",
      "iteration: 901800 loss: 0.0024 lr: 0.02\n",
      "iteration: 902000 loss: 0.0023 lr: 0.02\n",
      "iteration: 902200 loss: 0.0024 lr: 0.02\n",
      "iteration: 902400 loss: 0.0024 lr: 0.02\n",
      "iteration: 902600 loss: 0.0022 lr: 0.02\n",
      "iteration: 902800 loss: 0.0022 lr: 0.02\n",
      "iteration: 903000 loss: 0.0023 lr: 0.02\n",
      "iteration: 903200 loss: 0.0022 lr: 0.02\n",
      "iteration: 903400 loss: 0.0021 lr: 0.02\n",
      "iteration: 903600 loss: 0.0024 lr: 0.02\n",
      "iteration: 903800 loss: 0.0023 lr: 0.02\n",
      "iteration: 904000 loss: 0.0023 lr: 0.02\n",
      "iteration: 904200 loss: 0.0022 lr: 0.02\n",
      "iteration: 904400 loss: 0.0023 lr: 0.02\n",
      "iteration: 904600 loss: 0.0023 lr: 0.02\n",
      "iteration: 904800 loss: 0.0022 lr: 0.02\n",
      "iteration: 905000 loss: 0.0022 lr: 0.02\n",
      "iteration: 905200 loss: 0.0022 lr: 0.02\n",
      "iteration: 905400 loss: 0.0021 lr: 0.02\n",
      "iteration: 905600 loss: 0.0024 lr: 0.02\n",
      "iteration: 905800 loss: 0.0021 lr: 0.02\n",
      "iteration: 906000 loss: 0.0023 lr: 0.02\n",
      "iteration: 906200 loss: 0.0021 lr: 0.02\n",
      "iteration: 906400 loss: 0.0023 lr: 0.02\n",
      "iteration: 906600 loss: 0.0023 lr: 0.02\n",
      "iteration: 906800 loss: 0.0023 lr: 0.02\n",
      "iteration: 907000 loss: 0.0022 lr: 0.02\n",
      "iteration: 907200 loss: 0.0023 lr: 0.02\n",
      "iteration: 907400 loss: 0.0025 lr: 0.02\n",
      "iteration: 907600 loss: 0.0022 lr: 0.02\n",
      "iteration: 907800 loss: 0.0022 lr: 0.02\n",
      "iteration: 908000 loss: 0.0021 lr: 0.02\n",
      "iteration: 908200 loss: 0.0023 lr: 0.02\n",
      "iteration: 908400 loss: 0.0023 lr: 0.02\n",
      "iteration: 908600 loss: 0.0023 lr: 0.02\n",
      "iteration: 908800 loss: 0.0024 lr: 0.02\n",
      "iteration: 909000 loss: 0.0024 lr: 0.02\n",
      "iteration: 909200 loss: 0.0023 lr: 0.02\n",
      "iteration: 909400 loss: 0.0021 lr: 0.02\n",
      "iteration: 909600 loss: 0.0023 lr: 0.02\n",
      "iteration: 909800 loss: 0.0022 lr: 0.02\n",
      "iteration: 910000 loss: 0.0022 lr: 0.02\n",
      "iteration: 910200 loss: 0.0024 lr: 0.02\n",
      "iteration: 910400 loss: 0.0022 lr: 0.02\n",
      "iteration: 910600 loss: 0.0024 lr: 0.02\n",
      "iteration: 910800 loss: 0.0022 lr: 0.02\n",
      "iteration: 911000 loss: 0.0022 lr: 0.02\n",
      "iteration: 911200 loss: 0.0023 lr: 0.02\n",
      "iteration: 911400 loss: 0.0024 lr: 0.02\n",
      "iteration: 911600 loss: 0.0023 lr: 0.02\n",
      "iteration: 911800 loss: 0.0023 lr: 0.02\n",
      "iteration: 912000 loss: 0.0022 lr: 0.02\n",
      "iteration: 912200 loss: 0.0023 lr: 0.02\n",
      "iteration: 912400 loss: 0.0021 lr: 0.02\n",
      "iteration: 912600 loss: 0.0022 lr: 0.02\n",
      "iteration: 912800 loss: 0.0023 lr: 0.02\n",
      "iteration: 913000 loss: 0.0021 lr: 0.02\n",
      "iteration: 913200 loss: 0.0023 lr: 0.02\n",
      "iteration: 913400 loss: 0.0023 lr: 0.02\n",
      "iteration: 913600 loss: 0.0021 lr: 0.02\n",
      "iteration: 913800 loss: 0.0023 lr: 0.02\n",
      "iteration: 914000 loss: 0.0023 lr: 0.02\n",
      "iteration: 914200 loss: 0.0024 lr: 0.02\n",
      "iteration: 914400 loss: 0.0022 lr: 0.02\n",
      "iteration: 914600 loss: 0.0024 lr: 0.02\n",
      "iteration: 914800 loss: 0.0024 lr: 0.02\n",
      "iteration: 915000 loss: 0.0023 lr: 0.02\n",
      "iteration: 915200 loss: 0.0023 lr: 0.02\n",
      "iteration: 915400 loss: 0.0023 lr: 0.02\n",
      "iteration: 915600 loss: 0.0024 lr: 0.02\n",
      "iteration: 915800 loss: 0.0023 lr: 0.02\n",
      "iteration: 916000 loss: 0.0023 lr: 0.02\n",
      "iteration: 916200 loss: 0.0024 lr: 0.02\n",
      "iteration: 916400 loss: 0.0025 lr: 0.02\n",
      "iteration: 916600 loss: 0.0023 lr: 0.02\n",
      "iteration: 916800 loss: 0.0022 lr: 0.02\n",
      "iteration: 917000 loss: 0.0022 lr: 0.02\n",
      "iteration: 917200 loss: 0.0022 lr: 0.02\n",
      "iteration: 917400 loss: 0.0021 lr: 0.02\n",
      "iteration: 917600 loss: 0.0023 lr: 0.02\n",
      "iteration: 917800 loss: 0.0021 lr: 0.02\n",
      "iteration: 918000 loss: 0.0022 lr: 0.02\n",
      "iteration: 918200 loss: 0.0021 lr: 0.02\n",
      "iteration: 918400 loss: 0.0024 lr: 0.02\n",
      "iteration: 918600 loss: 0.0022 lr: 0.02\n",
      "iteration: 918800 loss: 0.0023 lr: 0.02\n",
      "iteration: 919000 loss: 0.0021 lr: 0.02\n",
      "iteration: 919200 loss: 0.0024 lr: 0.02\n",
      "iteration: 919400 loss: 0.0021 lr: 0.02\n",
      "iteration: 919600 loss: 0.0023 lr: 0.02\n",
      "iteration: 919800 loss: 0.0023 lr: 0.02\n",
      "iteration: 920000 loss: 0.0023 lr: 0.02\n",
      "iteration: 920200 loss: 0.0022 lr: 0.02\n",
      "iteration: 920400 loss: 0.0024 lr: 0.02\n",
      "iteration: 920600 loss: 0.0025 lr: 0.02\n",
      "iteration: 920800 loss: 0.0022 lr: 0.02\n",
      "iteration: 921000 loss: 0.0022 lr: 0.02\n",
      "iteration: 921200 loss: 0.0024 lr: 0.02\n",
      "iteration: 921400 loss: 0.0023 lr: 0.02\n",
      "iteration: 921600 loss: 0.0022 lr: 0.02\n",
      "iteration: 921800 loss: 0.0022 lr: 0.02\n",
      "iteration: 922000 loss: 0.0025 lr: 0.02\n",
      "iteration: 922200 loss: 0.0021 lr: 0.02\n",
      "iteration: 922400 loss: 0.0022 lr: 0.02\n",
      "iteration: 922600 loss: 0.0022 lr: 0.02\n",
      "iteration: 922800 loss: 0.0022 lr: 0.02\n",
      "iteration: 923000 loss: 0.0021 lr: 0.02\n",
      "iteration: 923200 loss: 0.0022 lr: 0.02\n",
      "iteration: 923400 loss: 0.0024 lr: 0.02\n",
      "iteration: 923600 loss: 0.0023 lr: 0.02\n",
      "iteration: 923800 loss: 0.0021 lr: 0.02\n",
      "iteration: 924000 loss: 0.0023 lr: 0.02\n",
      "iteration: 924200 loss: 0.0024 lr: 0.02\n",
      "iteration: 924400 loss: 0.0020 lr: 0.02\n",
      "iteration: 924600 loss: 0.0022 lr: 0.02\n",
      "iteration: 924800 loss: 0.0021 lr: 0.02\n",
      "iteration: 925000 loss: 0.0024 lr: 0.02\n",
      "iteration: 925200 loss: 0.0024 lr: 0.02\n",
      "iteration: 925400 loss: 0.0023 lr: 0.02\n",
      "iteration: 925600 loss: 0.0023 lr: 0.02\n",
      "iteration: 925800 loss: 0.0025 lr: 0.02\n",
      "iteration: 926000 loss: 0.0025 lr: 0.02\n",
      "iteration: 926200 loss: 0.0024 lr: 0.02\n",
      "iteration: 926400 loss: 0.0020 lr: 0.02\n",
      "iteration: 926600 loss: 0.0022 lr: 0.02\n",
      "iteration: 926800 loss: 0.0023 lr: 0.02\n",
      "iteration: 927000 loss: 0.0022 lr: 0.02\n",
      "iteration: 927200 loss: 0.0020 lr: 0.02\n",
      "iteration: 927400 loss: 0.0025 lr: 0.02\n",
      "iteration: 927600 loss: 0.0024 lr: 0.02\n",
      "iteration: 927800 loss: 0.0025 lr: 0.02\n"
     ]
    },
    {
     "name": "stderr",
     "output_type": "stream",
     "text": [
      "iteration: 928000 loss: 0.0022 lr: 0.02\n",
      "iteration: 928200 loss: 0.0022 lr: 0.02\n",
      "iteration: 928400 loss: 0.0022 lr: 0.02\n",
      "iteration: 928600 loss: 0.0023 lr: 0.02\n",
      "iteration: 928800 loss: 0.0023 lr: 0.02\n",
      "iteration: 929000 loss: 0.0022 lr: 0.02\n",
      "iteration: 929200 loss: 0.0023 lr: 0.02\n",
      "iteration: 929400 loss: 0.0022 lr: 0.02\n",
      "iteration: 929600 loss: 0.0021 lr: 0.02\n",
      "iteration: 929800 loss: 0.0023 lr: 0.02\n",
      "iteration: 930000 loss: 0.0021 lr: 0.02\n",
      "iteration: 930200 loss: 0.0021 lr: 0.02\n",
      "iteration: 930400 loss: 0.0023 lr: 0.02\n",
      "iteration: 930600 loss: 0.0024 lr: 0.02\n",
      "iteration: 930800 loss: 0.0022 lr: 0.02\n",
      "iteration: 931000 loss: 0.0022 lr: 0.02\n",
      "iteration: 931200 loss: 0.0024 lr: 0.02\n",
      "iteration: 931400 loss: 0.0025 lr: 0.02\n",
      "iteration: 931600 loss: 0.0023 lr: 0.02\n",
      "iteration: 931800 loss: 0.0027 lr: 0.02\n",
      "iteration: 932000 loss: 0.0023 lr: 0.02\n",
      "iteration: 932200 loss: 0.0024 lr: 0.02\n",
      "iteration: 932400 loss: 0.0022 lr: 0.02\n",
      "iteration: 932600 loss: 0.0022 lr: 0.02\n",
      "iteration: 932800 loss: 0.0021 lr: 0.02\n",
      "iteration: 933000 loss: 0.0023 lr: 0.02\n",
      "iteration: 933200 loss: 0.0022 lr: 0.02\n",
      "iteration: 933400 loss: 0.0025 lr: 0.02\n",
      "iteration: 933600 loss: 0.0022 lr: 0.02\n",
      "iteration: 933800 loss: 0.0022 lr: 0.02\n",
      "iteration: 934000 loss: 0.0022 lr: 0.02\n",
      "iteration: 934200 loss: 0.0025 lr: 0.02\n",
      "iteration: 934400 loss: 0.0023 lr: 0.02\n",
      "iteration: 934600 loss: 0.0022 lr: 0.02\n",
      "iteration: 934800 loss: 0.0023 lr: 0.02\n",
      "iteration: 935000 loss: 0.0022 lr: 0.02\n",
      "iteration: 935200 loss: 0.0022 lr: 0.02\n",
      "iteration: 935400 loss: 0.0023 lr: 0.02\n",
      "iteration: 935600 loss: 0.0022 lr: 0.02\n",
      "iteration: 935800 loss: 0.0020 lr: 0.02\n",
      "iteration: 936000 loss: 0.0022 lr: 0.02\n",
      "iteration: 936200 loss: 0.0024 lr: 0.02\n",
      "iteration: 936400 loss: 0.0023 lr: 0.02\n",
      "iteration: 936600 loss: 0.0021 lr: 0.02\n",
      "iteration: 936800 loss: 0.0021 lr: 0.02\n",
      "iteration: 937000 loss: 0.0023 lr: 0.02\n",
      "iteration: 937200 loss: 0.0024 lr: 0.02\n",
      "iteration: 937400 loss: 0.0021 lr: 0.02\n",
      "iteration: 937600 loss: 0.0025 lr: 0.02\n",
      "iteration: 937800 loss: 0.0024 lr: 0.02\n",
      "iteration: 938000 loss: 0.0025 lr: 0.02\n",
      "iteration: 938200 loss: 0.0022 lr: 0.02\n",
      "iteration: 938400 loss: 0.0023 lr: 0.02\n",
      "iteration: 938600 loss: 0.0024 lr: 0.02\n",
      "iteration: 938800 loss: 0.0027 lr: 0.02\n",
      "iteration: 939000 loss: 0.0024 lr: 0.02\n",
      "iteration: 939200 loss: 0.0023 lr: 0.02\n",
      "iteration: 939400 loss: 0.0022 lr: 0.02\n",
      "iteration: 939600 loss: 0.0025 lr: 0.02\n",
      "iteration: 939800 loss: 0.0024 lr: 0.02\n",
      "iteration: 940000 loss: 0.0022 lr: 0.02\n",
      "iteration: 940200 loss: 0.0022 lr: 0.02\n",
      "iteration: 940400 loss: 0.0023 lr: 0.02\n",
      "iteration: 940600 loss: 0.0022 lr: 0.02\n",
      "iteration: 940800 loss: 0.0023 lr: 0.02\n",
      "iteration: 941000 loss: 0.0021 lr: 0.02\n",
      "iteration: 941200 loss: 0.0023 lr: 0.02\n",
      "iteration: 941400 loss: 0.0022 lr: 0.02\n",
      "iteration: 941600 loss: 0.0024 lr: 0.02\n",
      "iteration: 941800 loss: 0.0025 lr: 0.02\n",
      "iteration: 942000 loss: 0.0021 lr: 0.02\n",
      "iteration: 942200 loss: 0.0024 lr: 0.02\n",
      "iteration: 942400 loss: 0.0022 lr: 0.02\n",
      "iteration: 942600 loss: 0.0024 lr: 0.02\n",
      "iteration: 942800 loss: 0.0024 lr: 0.02\n",
      "iteration: 943000 loss: 0.0021 lr: 0.02\n",
      "iteration: 943200 loss: 0.0023 lr: 0.02\n",
      "iteration: 943400 loss: 0.0022 lr: 0.02\n",
      "iteration: 943600 loss: 0.0022 lr: 0.02\n",
      "iteration: 943800 loss: 0.0023 lr: 0.02\n",
      "iteration: 944000 loss: 0.0022 lr: 0.02\n",
      "iteration: 944200 loss: 0.0024 lr: 0.02\n",
      "iteration: 944400 loss: 0.0024 lr: 0.02\n",
      "iteration: 944600 loss: 0.0022 lr: 0.02\n",
      "iteration: 944800 loss: 0.0023 lr: 0.02\n",
      "iteration: 945000 loss: 0.0023 lr: 0.02\n",
      "iteration: 945200 loss: 0.0024 lr: 0.02\n",
      "iteration: 945400 loss: 0.0023 lr: 0.02\n",
      "iteration: 945600 loss: 0.0023 lr: 0.02\n",
      "iteration: 945800 loss: 0.0022 lr: 0.02\n",
      "iteration: 946000 loss: 0.0023 lr: 0.02\n",
      "iteration: 946200 loss: 0.0023 lr: 0.02\n",
      "iteration: 946400 loss: 0.0022 lr: 0.02\n",
      "iteration: 946600 loss: 0.0023 lr: 0.02\n",
      "iteration: 946800 loss: 0.0022 lr: 0.02\n",
      "iteration: 947000 loss: 0.0024 lr: 0.02\n",
      "iteration: 947200 loss: 0.0024 lr: 0.02\n",
      "iteration: 947400 loss: 0.0023 lr: 0.02\n",
      "iteration: 947600 loss: 0.0025 lr: 0.02\n",
      "iteration: 947800 loss: 0.0024 lr: 0.02\n",
      "iteration: 948000 loss: 0.0021 lr: 0.02\n",
      "iteration: 948200 loss: 0.0023 lr: 0.02\n",
      "iteration: 948400 loss: 0.0022 lr: 0.02\n",
      "iteration: 948600 loss: 0.0024 lr: 0.02\n",
      "iteration: 948800 loss: 0.0022 lr: 0.02\n",
      "iteration: 949000 loss: 0.0023 lr: 0.02\n",
      "iteration: 949200 loss: 0.0022 lr: 0.02\n",
      "iteration: 949400 loss: 0.0022 lr: 0.02\n",
      "iteration: 949600 loss: 0.0023 lr: 0.02\n",
      "iteration: 949800 loss: 0.0021 lr: 0.02\n",
      "iteration: 950000 loss: 0.0021 lr: 0.02\n",
      "iteration: 950200 loss: 0.0022 lr: 0.02\n",
      "iteration: 950400 loss: 0.0023 lr: 0.02\n",
      "iteration: 950600 loss: 0.0022 lr: 0.02\n",
      "iteration: 950800 loss: 0.0024 lr: 0.02\n",
      "iteration: 951000 loss: 0.0022 lr: 0.02\n",
      "iteration: 951200 loss: 0.0022 lr: 0.02\n",
      "iteration: 951400 loss: 0.0022 lr: 0.02\n",
      "iteration: 951600 loss: 0.0021 lr: 0.02\n",
      "iteration: 951800 loss: 0.0023 lr: 0.02\n",
      "iteration: 952000 loss: 0.0021 lr: 0.02\n",
      "iteration: 952200 loss: 0.0024 lr: 0.02\n",
      "iteration: 952400 loss: 0.0022 lr: 0.02\n",
      "iteration: 952600 loss: 0.0023 lr: 0.02\n",
      "iteration: 952800 loss: 0.0024 lr: 0.02\n",
      "iteration: 953000 loss: 0.0022 lr: 0.02\n",
      "iteration: 953200 loss: 0.0021 lr: 0.02\n",
      "iteration: 953400 loss: 0.0023 lr: 0.02\n",
      "iteration: 953600 loss: 0.0024 lr: 0.02\n",
      "iteration: 953800 loss: 0.0023 lr: 0.02\n",
      "iteration: 954000 loss: 0.0023 lr: 0.02\n",
      "iteration: 954200 loss: 0.0023 lr: 0.02\n",
      "iteration: 954400 loss: 0.0023 lr: 0.02\n",
      "iteration: 954600 loss: 0.0023 lr: 0.02\n",
      "iteration: 954800 loss: 0.0024 lr: 0.02\n",
      "iteration: 955000 loss: 0.0022 lr: 0.02\n",
      "iteration: 955200 loss: 0.0023 lr: 0.02\n",
      "iteration: 955400 loss: 0.0025 lr: 0.02\n",
      "iteration: 955600 loss: 0.0023 lr: 0.02\n",
      "iteration: 955800 loss: 0.0024 lr: 0.02\n",
      "iteration: 956000 loss: 0.0022 lr: 0.02\n",
      "iteration: 956200 loss: 0.0022 lr: 0.02\n",
      "iteration: 956400 loss: 0.0020 lr: 0.02\n",
      "iteration: 956600 loss: 0.0020 lr: 0.02\n",
      "iteration: 956800 loss: 0.0023 lr: 0.02\n",
      "iteration: 957000 loss: 0.0022 lr: 0.02\n",
      "iteration: 957200 loss: 0.0024 lr: 0.02\n",
      "iteration: 957400 loss: 0.0025 lr: 0.02\n",
      "iteration: 957600 loss: 0.0022 lr: 0.02\n",
      "iteration: 957800 loss: 0.0023 lr: 0.02\n",
      "iteration: 958000 loss: 0.0024 lr: 0.02\n",
      "iteration: 958200 loss: 0.0024 lr: 0.02\n",
      "iteration: 958400 loss: 0.0021 lr: 0.02\n",
      "iteration: 958600 loss: 0.0022 lr: 0.02\n",
      "iteration: 958800 loss: 0.0021 lr: 0.02\n",
      "iteration: 959000 loss: 0.0024 lr: 0.02\n",
      "iteration: 959200 loss: 0.0023 lr: 0.02\n",
      "iteration: 959400 loss: 0.0022 lr: 0.02\n",
      "iteration: 959600 loss: 0.0021 lr: 0.02\n",
      "iteration: 959800 loss: 0.0022 lr: 0.02\n",
      "iteration: 960000 loss: 0.0023 lr: 0.02\n",
      "iteration: 960200 loss: 0.0023 lr: 0.02\n",
      "iteration: 960400 loss: 0.0022 lr: 0.02\n",
      "iteration: 960600 loss: 0.0023 lr: 0.02\n",
      "iteration: 960800 loss: 0.0023 lr: 0.02\n",
      "iteration: 961000 loss: 0.0021 lr: 0.02\n",
      "iteration: 961200 loss: 0.0022 lr: 0.02\n",
      "iteration: 961400 loss: 0.0020 lr: 0.02\n",
      "iteration: 961600 loss: 0.0023 lr: 0.02\n",
      "iteration: 961800 loss: 0.0024 lr: 0.02\n",
      "iteration: 962000 loss: 0.0021 lr: 0.02\n",
      "iteration: 962200 loss: 0.0024 lr: 0.02\n",
      "iteration: 962400 loss: 0.0023 lr: 0.02\n",
      "iteration: 962600 loss: 0.0021 lr: 0.02\n",
      "iteration: 962800 loss: 0.0021 lr: 0.02\n",
      "iteration: 963000 loss: 0.0023 lr: 0.02\n",
      "iteration: 963200 loss: 0.0020 lr: 0.02\n",
      "iteration: 963400 loss: 0.0021 lr: 0.02\n",
      "iteration: 963600 loss: 0.0023 lr: 0.02\n",
      "iteration: 963800 loss: 0.0023 lr: 0.02\n",
      "iteration: 964000 loss: 0.0022 lr: 0.02\n",
      "iteration: 964200 loss: 0.0022 lr: 0.02\n",
      "iteration: 964400 loss: 0.0021 lr: 0.02\n",
      "iteration: 964600 loss: 0.0023 lr: 0.02\n",
      "iteration: 964800 loss: 0.0022 lr: 0.02\n",
      "iteration: 965000 loss: 0.0026 lr: 0.02\n",
      "iteration: 965200 loss: 0.0022 lr: 0.02\n",
      "iteration: 965400 loss: 0.0022 lr: 0.02\n",
      "iteration: 965600 loss: 0.0023 lr: 0.02\n",
      "iteration: 965800 loss: 0.0023 lr: 0.02\n",
      "iteration: 966000 loss: 0.0023 lr: 0.02\n",
      "iteration: 966200 loss: 0.0023 lr: 0.02\n",
      "iteration: 966400 loss: 0.0022 lr: 0.02\n",
      "iteration: 966600 loss: 0.0021 lr: 0.02\n",
      "iteration: 966800 loss: 0.0024 lr: 0.02\n",
      "iteration: 967000 loss: 0.0025 lr: 0.02\n",
      "iteration: 967200 loss: 0.0023 lr: 0.02\n",
      "iteration: 967400 loss: 0.0022 lr: 0.02\n",
      "iteration: 967600 loss: 0.0022 lr: 0.02\n",
      "iteration: 967800 loss: 0.0022 lr: 0.02\n",
      "iteration: 968000 loss: 0.0021 lr: 0.02\n",
      "iteration: 968200 loss: 0.0022 lr: 0.02\n",
      "iteration: 968400 loss: 0.0023 lr: 0.02\n",
      "iteration: 968600 loss: 0.0023 lr: 0.02\n",
      "iteration: 968800 loss: 0.0023 lr: 0.02\n"
     ]
    },
    {
     "name": "stderr",
     "output_type": "stream",
     "text": [
      "iteration: 969000 loss: 0.0022 lr: 0.02\n",
      "iteration: 969200 loss: 0.0021 lr: 0.02\n",
      "iteration: 969400 loss: 0.0021 lr: 0.02\n",
      "iteration: 969600 loss: 0.0020 lr: 0.02\n",
      "iteration: 969800 loss: 0.0022 lr: 0.02\n",
      "iteration: 970000 loss: 0.0023 lr: 0.02\n",
      "iteration: 970200 loss: 0.0022 lr: 0.02\n",
      "iteration: 970400 loss: 0.0022 lr: 0.02\n",
      "iteration: 970600 loss: 0.0021 lr: 0.02\n",
      "iteration: 970800 loss: 0.0022 lr: 0.02\n",
      "iteration: 971000 loss: 0.0020 lr: 0.02\n",
      "iteration: 971200 loss: 0.0022 lr: 0.02\n",
      "iteration: 971400 loss: 0.0023 lr: 0.02\n",
      "iteration: 971600 loss: 0.0022 lr: 0.02\n",
      "iteration: 971800 loss: 0.0024 lr: 0.02\n",
      "iteration: 972000 loss: 0.0022 lr: 0.02\n",
      "iteration: 972200 loss: 0.0022 lr: 0.02\n",
      "iteration: 972400 loss: 0.0022 lr: 0.02\n",
      "iteration: 972600 loss: 0.0022 lr: 0.02\n",
      "iteration: 972800 loss: 0.0022 lr: 0.02\n",
      "iteration: 973000 loss: 0.0020 lr: 0.02\n",
      "iteration: 973200 loss: 0.0022 lr: 0.02\n",
      "iteration: 973400 loss: 0.0022 lr: 0.02\n",
      "iteration: 973600 loss: 0.0025 lr: 0.02\n",
      "iteration: 973800 loss: 0.0026 lr: 0.02\n",
      "iteration: 974000 loss: 0.0023 lr: 0.02\n",
      "iteration: 974200 loss: 0.0022 lr: 0.02\n",
      "iteration: 974400 loss: 0.0025 lr: 0.02\n",
      "iteration: 974600 loss: 0.0021 lr: 0.02\n",
      "iteration: 974800 loss: 0.0023 lr: 0.02\n",
      "iteration: 975000 loss: 0.0023 lr: 0.02\n",
      "iteration: 975200 loss: 0.0021 lr: 0.02\n",
      "iteration: 975400 loss: 0.0022 lr: 0.02\n",
      "iteration: 975600 loss: 0.0022 lr: 0.02\n",
      "iteration: 975800 loss: 0.0022 lr: 0.02\n",
      "iteration: 976000 loss: 0.0022 lr: 0.02\n",
      "iteration: 976200 loss: 0.0022 lr: 0.02\n",
      "iteration: 976400 loss: 0.0022 lr: 0.02\n",
      "iteration: 976600 loss: 0.0022 lr: 0.02\n",
      "iteration: 976800 loss: 0.0022 lr: 0.02\n",
      "iteration: 977000 loss: 0.0021 lr: 0.02\n",
      "iteration: 977200 loss: 0.0022 lr: 0.02\n",
      "iteration: 977400 loss: 0.0022 lr: 0.02\n",
      "iteration: 977600 loss: 0.0022 lr: 0.02\n",
      "iteration: 977800 loss: 0.0023 lr: 0.02\n",
      "iteration: 978000 loss: 0.0022 lr: 0.02\n",
      "iteration: 978200 loss: 0.0022 lr: 0.02\n",
      "iteration: 978400 loss: 0.0022 lr: 0.02\n",
      "iteration: 978600 loss: 0.0024 lr: 0.02\n",
      "iteration: 978800 loss: 0.0024 lr: 0.02\n",
      "iteration: 979000 loss: 0.0023 lr: 0.02\n",
      "iteration: 979200 loss: 0.0022 lr: 0.02\n",
      "iteration: 979400 loss: 0.0021 lr: 0.02\n",
      "iteration: 979600 loss: 0.0022 lr: 0.02\n",
      "iteration: 979800 loss: 0.0022 lr: 0.02\n",
      "iteration: 980000 loss: 0.0020 lr: 0.02\n",
      "iteration: 980200 loss: 0.0020 lr: 0.02\n",
      "iteration: 980400 loss: 0.0021 lr: 0.02\n",
      "iteration: 980600 loss: 0.0021 lr: 0.02\n",
      "iteration: 980800 loss: 0.0023 lr: 0.02\n",
      "iteration: 981000 loss: 0.0024 lr: 0.02\n",
      "iteration: 981200 loss: 0.0021 lr: 0.02\n",
      "iteration: 981400 loss: 0.0021 lr: 0.02\n",
      "iteration: 981600 loss: 0.0026 lr: 0.02\n",
      "iteration: 981800 loss: 0.0023 lr: 0.02\n",
      "iteration: 982000 loss: 0.0022 lr: 0.02\n",
      "iteration: 982200 loss: 0.0020 lr: 0.02\n",
      "iteration: 982400 loss: 0.0021 lr: 0.02\n",
      "iteration: 982600 loss: 0.0023 lr: 0.02\n",
      "iteration: 982800 loss: 0.0021 lr: 0.02\n",
      "iteration: 983000 loss: 0.0023 lr: 0.02\n",
      "iteration: 983200 loss: 0.0024 lr: 0.02\n",
      "iteration: 983400 loss: 0.0022 lr: 0.02\n",
      "iteration: 983600 loss: 0.0021 lr: 0.02\n",
      "iteration: 983800 loss: 0.0021 lr: 0.02\n",
      "iteration: 984000 loss: 0.0023 lr: 0.02\n",
      "iteration: 984200 loss: 0.0024 lr: 0.02\n",
      "iteration: 984400 loss: 0.0021 lr: 0.02\n",
      "iteration: 984600 loss: 0.0025 lr: 0.02\n",
      "iteration: 984800 loss: 0.0023 lr: 0.02\n",
      "iteration: 985000 loss: 0.0023 lr: 0.02\n",
      "iteration: 985200 loss: 0.0022 lr: 0.02\n",
      "iteration: 985400 loss: 0.0023 lr: 0.02\n",
      "iteration: 985600 loss: 0.0022 lr: 0.02\n",
      "iteration: 985800 loss: 0.0022 lr: 0.02\n",
      "iteration: 986000 loss: 0.0023 lr: 0.02\n",
      "iteration: 986200 loss: 0.0023 lr: 0.02\n",
      "iteration: 986400 loss: 0.0022 lr: 0.02\n",
      "iteration: 986600 loss: 0.0023 lr: 0.02\n",
      "iteration: 986800 loss: 0.0023 lr: 0.02\n",
      "iteration: 987000 loss: 0.0019 lr: 0.02\n",
      "iteration: 987200 loss: 0.0023 lr: 0.02\n",
      "iteration: 987400 loss: 0.0024 lr: 0.02\n",
      "iteration: 987600 loss: 0.0022 lr: 0.02\n",
      "iteration: 987800 loss: 0.0021 lr: 0.02\n",
      "iteration: 988000 loss: 0.0022 lr: 0.02\n",
      "iteration: 988200 loss: 0.0022 lr: 0.02\n",
      "iteration: 988400 loss: 0.0021 lr: 0.02\n",
      "iteration: 988600 loss: 0.0022 lr: 0.02\n",
      "iteration: 988800 loss: 0.0021 lr: 0.02\n",
      "iteration: 989000 loss: 0.0023 lr: 0.02\n",
      "iteration: 989200 loss: 0.0020 lr: 0.02\n",
      "iteration: 989400 loss: 0.0022 lr: 0.02\n",
      "iteration: 989600 loss: 0.0021 lr: 0.02\n",
      "iteration: 989800 loss: 0.0022 lr: 0.02\n",
      "iteration: 990000 loss: 0.0022 lr: 0.02\n",
      "iteration: 990200 loss: 0.0023 lr: 0.02\n",
      "iteration: 990400 loss: 0.0022 lr: 0.02\n",
      "iteration: 990600 loss: 0.0022 lr: 0.02\n",
      "iteration: 990800 loss: 0.0023 lr: 0.02\n",
      "iteration: 991000 loss: 0.0021 lr: 0.02\n",
      "iteration: 991200 loss: 0.0022 lr: 0.02\n",
      "iteration: 991400 loss: 0.0022 lr: 0.02\n",
      "iteration: 991600 loss: 0.0022 lr: 0.02\n",
      "iteration: 991800 loss: 0.0023 lr: 0.02\n",
      "iteration: 992000 loss: 0.0024 lr: 0.02\n",
      "iteration: 992200 loss: 0.0023 lr: 0.02\n",
      "iteration: 992400 loss: 0.0024 lr: 0.02\n",
      "iteration: 992600 loss: 0.0021 lr: 0.02\n",
      "iteration: 992800 loss: 0.0022 lr: 0.02\n",
      "iteration: 993000 loss: 0.0022 lr: 0.02\n",
      "iteration: 993200 loss: 0.0023 lr: 0.02\n",
      "iteration: 993400 loss: 0.0021 lr: 0.02\n",
      "iteration: 993600 loss: 0.0023 lr: 0.02\n",
      "iteration: 993800 loss: 0.0022 lr: 0.02\n",
      "iteration: 994000 loss: 0.0025 lr: 0.02\n",
      "iteration: 994200 loss: 0.0021 lr: 0.02\n",
      "iteration: 994400 loss: 0.0022 lr: 0.02\n",
      "iteration: 994600 loss: 0.0021 lr: 0.02\n",
      "iteration: 994800 loss: 0.0023 lr: 0.02\n",
      "iteration: 995000 loss: 0.0022 lr: 0.02\n",
      "iteration: 995200 loss: 0.0023 lr: 0.02\n",
      "iteration: 995400 loss: 0.0022 lr: 0.02\n",
      "iteration: 995600 loss: 0.0022 lr: 0.02\n",
      "iteration: 995800 loss: 0.0021 lr: 0.02\n",
      "iteration: 996000 loss: 0.0023 lr: 0.02\n",
      "iteration: 996200 loss: 0.0024 lr: 0.02\n",
      "iteration: 996400 loss: 0.0022 lr: 0.02\n",
      "iteration: 996600 loss: 0.0022 lr: 0.02\n",
      "iteration: 996800 loss: 0.0022 lr: 0.02\n",
      "iteration: 997000 loss: 0.0022 lr: 0.02\n",
      "iteration: 997200 loss: 0.0021 lr: 0.02\n",
      "iteration: 997400 loss: 0.0023 lr: 0.02\n",
      "iteration: 997600 loss: 0.0022 lr: 0.02\n",
      "iteration: 997800 loss: 0.0021 lr: 0.02\n",
      "iteration: 998000 loss: 0.0022 lr: 0.02\n",
      "iteration: 998200 loss: 0.0023 lr: 0.02\n",
      "iteration: 998400 loss: 0.0023 lr: 0.02\n",
      "iteration: 998600 loss: 0.0023 lr: 0.02\n",
      "iteration: 998800 loss: 0.0023 lr: 0.02\n",
      "iteration: 999000 loss: 0.0023 lr: 0.02\n",
      "iteration: 999200 loss: 0.0023 lr: 0.02\n",
      "iteration: 999400 loss: 0.0024 lr: 0.02\n",
      "iteration: 999600 loss: 0.0024 lr: 0.02\n",
      "iteration: 999800 loss: 0.0020 lr: 0.02\n",
      "iteration: 1000000 loss: 0.0022 lr: 0.02\n",
      "iteration: 1000200 loss: 0.0021 lr: 0.02\n",
      "iteration: 1000400 loss: 0.0023 lr: 0.02\n",
      "iteration: 1000600 loss: 0.0021 lr: 0.02\n",
      "iteration: 1000800 loss: 0.0022 lr: 0.02\n",
      "iteration: 1001000 loss: 0.0022 lr: 0.02\n",
      "iteration: 1001200 loss: 0.0021 lr: 0.02\n",
      "iteration: 1001400 loss: 0.0023 lr: 0.02\n",
      "iteration: 1001600 loss: 0.0021 lr: 0.02\n",
      "iteration: 1001800 loss: 0.0021 lr: 0.02\n",
      "iteration: 1002000 loss: 0.0021 lr: 0.02\n",
      "iteration: 1002200 loss: 0.0023 lr: 0.02\n",
      "iteration: 1002400 loss: 0.0020 lr: 0.02\n",
      "iteration: 1002600 loss: 0.0022 lr: 0.02\n",
      "iteration: 1002800 loss: 0.0022 lr: 0.02\n",
      "iteration: 1003000 loss: 0.0022 lr: 0.02\n",
      "iteration: 1003200 loss: 0.0020 lr: 0.02\n",
      "iteration: 1003400 loss: 0.0022 lr: 0.02\n",
      "iteration: 1003600 loss: 0.0025 lr: 0.02\n",
      "iteration: 1003800 loss: 0.0020 lr: 0.02\n",
      "iteration: 1004000 loss: 0.0024 lr: 0.02\n",
      "iteration: 1004200 loss: 0.0022 lr: 0.02\n",
      "iteration: 1004400 loss: 0.0021 lr: 0.02\n",
      "iteration: 1004600 loss: 0.0021 lr: 0.02\n",
      "iteration: 1004800 loss: 0.0022 lr: 0.02\n",
      "iteration: 1005000 loss: 0.0021 lr: 0.02\n",
      "iteration: 1005200 loss: 0.0021 lr: 0.02\n",
      "iteration: 1005400 loss: 0.0019 lr: 0.02\n",
      "iteration: 1005600 loss: 0.0022 lr: 0.02\n",
      "iteration: 1005800 loss: 0.0024 lr: 0.02\n",
      "iteration: 1006000 loss: 0.0021 lr: 0.02\n",
      "iteration: 1006200 loss: 0.0021 lr: 0.02\n",
      "iteration: 1006400 loss: 0.0021 lr: 0.02\n",
      "iteration: 1006600 loss: 0.0022 lr: 0.02\n",
      "iteration: 1006800 loss: 0.0022 lr: 0.02\n",
      "iteration: 1007000 loss: 0.0022 lr: 0.02\n",
      "iteration: 1007200 loss: 0.0020 lr: 0.02\n",
      "iteration: 1007400 loss: 0.0026 lr: 0.02\n",
      "iteration: 1007600 loss: 0.0023 lr: 0.02\n",
      "iteration: 1007800 loss: 0.0023 lr: 0.02\n",
      "iteration: 1008000 loss: 0.0023 lr: 0.02\n",
      "iteration: 1008200 loss: 0.0022 lr: 0.02\n",
      "iteration: 1008400 loss: 0.0022 lr: 0.02\n",
      "iteration: 1008600 loss: 0.0021 lr: 0.02\n",
      "iteration: 1008800 loss: 0.0021 lr: 0.02\n",
      "iteration: 1009000 loss: 0.0021 lr: 0.02\n",
      "iteration: 1009200 loss: 0.0023 lr: 0.02\n",
      "iteration: 1009400 loss: 0.0023 lr: 0.02\n",
      "iteration: 1009600 loss: 0.0022 lr: 0.02\n"
     ]
    },
    {
     "name": "stderr",
     "output_type": "stream",
     "text": [
      "iteration: 1009800 loss: 0.0023 lr: 0.02\n",
      "iteration: 1010000 loss: 0.0024 lr: 0.02\n",
      "iteration: 1010200 loss: 0.0022 lr: 0.02\n",
      "iteration: 1010400 loss: 0.0023 lr: 0.02\n",
      "iteration: 1010600 loss: 0.0021 lr: 0.02\n",
      "iteration: 1010800 loss: 0.0021 lr: 0.02\n",
      "iteration: 1011000 loss: 0.0023 lr: 0.02\n",
      "iteration: 1011200 loss: 0.0024 lr: 0.02\n",
      "iteration: 1011400 loss: 0.0021 lr: 0.02\n",
      "iteration: 1011600 loss: 0.0022 lr: 0.02\n",
      "iteration: 1011800 loss: 0.0021 lr: 0.02\n",
      "iteration: 1012000 loss: 0.0024 lr: 0.02\n",
      "iteration: 1012200 loss: 0.0021 lr: 0.02\n",
      "iteration: 1012400 loss: 0.0023 lr: 0.02\n",
      "iteration: 1012600 loss: 0.0023 lr: 0.02\n",
      "iteration: 1012800 loss: 0.0021 lr: 0.02\n",
      "iteration: 1013000 loss: 0.0024 lr: 0.02\n",
      "iteration: 1013200 loss: 0.0024 lr: 0.02\n",
      "iteration: 1013400 loss: 0.0022 lr: 0.02\n",
      "iteration: 1013600 loss: 0.0022 lr: 0.02\n",
      "iteration: 1013800 loss: 0.0021 lr: 0.02\n",
      "iteration: 1014000 loss: 0.0020 lr: 0.02\n",
      "iteration: 1014200 loss: 0.0023 lr: 0.02\n",
      "iteration: 1014400 loss: 0.0022 lr: 0.02\n",
      "iteration: 1014600 loss: 0.0024 lr: 0.02\n",
      "iteration: 1014800 loss: 0.0024 lr: 0.02\n",
      "iteration: 1015000 loss: 0.0021 lr: 0.02\n",
      "iteration: 1015200 loss: 0.0022 lr: 0.02\n",
      "iteration: 1015400 loss: 0.0021 lr: 0.02\n",
      "iteration: 1015600 loss: 0.0024 lr: 0.02\n",
      "iteration: 1015800 loss: 0.0021 lr: 0.02\n",
      "iteration: 1016000 loss: 0.0021 lr: 0.02\n",
      "iteration: 1016200 loss: 0.0023 lr: 0.02\n",
      "iteration: 1016400 loss: 0.0023 lr: 0.02\n",
      "iteration: 1016600 loss: 0.0023 lr: 0.02\n",
      "iteration: 1016800 loss: 0.0021 lr: 0.02\n",
      "iteration: 1017000 loss: 0.0020 lr: 0.02\n",
      "iteration: 1017200 loss: 0.0021 lr: 0.02\n",
      "iteration: 1017400 loss: 0.0020 lr: 0.02\n",
      "iteration: 1017600 loss: 0.0022 lr: 0.02\n",
      "iteration: 1017800 loss: 0.0024 lr: 0.02\n",
      "iteration: 1018000 loss: 0.0021 lr: 0.02\n",
      "iteration: 1018200 loss: 0.0022 lr: 0.02\n",
      "iteration: 1018400 loss: 0.0022 lr: 0.02\n",
      "iteration: 1018600 loss: 0.0021 lr: 0.02\n",
      "iteration: 1018800 loss: 0.0022 lr: 0.02\n",
      "iteration: 1019000 loss: 0.0022 lr: 0.02\n",
      "iteration: 1019200 loss: 0.0021 lr: 0.02\n",
      "iteration: 1019400 loss: 0.0020 lr: 0.02\n",
      "iteration: 1019600 loss: 0.0022 lr: 0.02\n",
      "iteration: 1019800 loss: 0.0023 lr: 0.02\n",
      "iteration: 1020000 loss: 0.0023 lr: 0.02\n",
      "iteration: 1020200 loss: 0.0023 lr: 0.02\n",
      "iteration: 1020400 loss: 0.0022 lr: 0.02\n",
      "iteration: 1020600 loss: 0.0022 lr: 0.02\n",
      "iteration: 1020800 loss: 0.0023 lr: 0.02\n",
      "iteration: 1021000 loss: 0.0021 lr: 0.02\n",
      "iteration: 1021200 loss: 0.0025 lr: 0.02\n",
      "iteration: 1021400 loss: 0.0022 lr: 0.02\n",
      "iteration: 1021600 loss: 0.0023 lr: 0.02\n",
      "iteration: 1021800 loss: 0.0021 lr: 0.02\n",
      "iteration: 1022000 loss: 0.0023 lr: 0.02\n",
      "iteration: 1022200 loss: 0.0022 lr: 0.02\n",
      "iteration: 1022400 loss: 0.0023 lr: 0.02\n",
      "iteration: 1022600 loss: 0.0021 lr: 0.02\n",
      "iteration: 1022800 loss: 0.0022 lr: 0.02\n",
      "iteration: 1023000 loss: 0.0022 lr: 0.02\n",
      "iteration: 1023200 loss: 0.0023 lr: 0.02\n",
      "iteration: 1023400 loss: 0.0020 lr: 0.02\n",
      "iteration: 1023600 loss: 0.0024 lr: 0.02\n",
      "iteration: 1023800 loss: 0.0023 lr: 0.02\n",
      "iteration: 1024000 loss: 0.0022 lr: 0.02\n",
      "iteration: 1024200 loss: 0.0020 lr: 0.02\n",
      "iteration: 1024400 loss: 0.0022 lr: 0.02\n",
      "iteration: 1024600 loss: 0.0021 lr: 0.02\n",
      "iteration: 1024800 loss: 0.0020 lr: 0.02\n",
      "iteration: 1025000 loss: 0.0022 lr: 0.02\n",
      "iteration: 1025200 loss: 0.0021 lr: 0.02\n",
      "iteration: 1025400 loss: 0.0023 lr: 0.02\n",
      "iteration: 1025600 loss: 0.0023 lr: 0.02\n",
      "iteration: 1025800 loss: 0.0021 lr: 0.02\n",
      "iteration: 1026000 loss: 0.0021 lr: 0.02\n",
      "iteration: 1026200 loss: 0.0023 lr: 0.02\n",
      "iteration: 1026400 loss: 0.0021 lr: 0.02\n",
      "iteration: 1026600 loss: 0.0022 lr: 0.02\n",
      "iteration: 1026800 loss: 0.0023 lr: 0.02\n",
      "iteration: 1027000 loss: 0.0023 lr: 0.02\n",
      "iteration: 1027200 loss: 0.0021 lr: 0.02\n",
      "iteration: 1027400 loss: 0.0023 lr: 0.02\n",
      "iteration: 1027600 loss: 0.0024 lr: 0.02\n",
      "iteration: 1027800 loss: 0.0022 lr: 0.02\n",
      "iteration: 1028000 loss: 0.0022 lr: 0.02\n",
      "iteration: 1028200 loss: 0.0021 lr: 0.02\n",
      "iteration: 1028400 loss: 0.0021 lr: 0.02\n",
      "iteration: 1028600 loss: 0.0023 lr: 0.02\n",
      "iteration: 1028800 loss: 0.0022 lr: 0.02\n",
      "iteration: 1029000 loss: 0.0023 lr: 0.02\n",
      "iteration: 1029200 loss: 0.0021 lr: 0.02\n",
      "iteration: 1029400 loss: 0.0020 lr: 0.02\n",
      "iteration: 1029600 loss: 0.0021 lr: 0.02\n",
      "iteration: 1029800 loss: 0.0021 lr: 0.02\n",
      "iteration: 1030000 loss: 0.0022 lr: 0.02\n",
      "iteration: 1030200 loss: 0.0020 lr: 0.002\n",
      "iteration: 1030400 loss: 0.0022 lr: 0.002\n",
      "iteration: 1030600 loss: 0.0022 lr: 0.002\n",
      "iteration: 1030800 loss: 0.0019 lr: 0.002\n",
      "iteration: 1031000 loss: 0.0021 lr: 0.002\n",
      "iteration: 1031200 loss: 0.0021 lr: 0.002\n",
      "iteration: 1031400 loss: 0.0019 lr: 0.002\n",
      "iteration: 1031600 loss: 0.0018 lr: 0.002\n",
      "iteration: 1031800 loss: 0.0020 lr: 0.002\n",
      "iteration: 1032000 loss: 0.0020 lr: 0.002\n",
      "iteration: 1032200 loss: 0.0019 lr: 0.002\n",
      "iteration: 1032400 loss: 0.0020 lr: 0.002\n",
      "iteration: 1032600 loss: 0.0020 lr: 0.002\n",
      "iteration: 1032800 loss: 0.0019 lr: 0.002\n",
      "iteration: 1033000 loss: 0.0020 lr: 0.002\n",
      "iteration: 1033200 loss: 0.0019 lr: 0.002\n",
      "iteration: 1033400 loss: 0.0020 lr: 0.002\n",
      "iteration: 1033600 loss: 0.0021 lr: 0.002\n",
      "iteration: 1033800 loss: 0.0019 lr: 0.002\n",
      "iteration: 1034000 loss: 0.0020 lr: 0.002\n",
      "iteration: 1034200 loss: 0.0019 lr: 0.002\n",
      "iteration: 1034400 loss: 0.0020 lr: 0.002\n",
      "iteration: 1034600 loss: 0.0021 lr: 0.002\n",
      "iteration: 1034800 loss: 0.0019 lr: 0.002\n",
      "iteration: 1035000 loss: 0.0018 lr: 0.002\n",
      "iteration: 1035200 loss: 0.0019 lr: 0.002\n",
      "iteration: 1035400 loss: 0.0020 lr: 0.002\n",
      "iteration: 1035600 loss: 0.0021 lr: 0.002\n",
      "iteration: 1035800 loss: 0.0020 lr: 0.002\n",
      "iteration: 1036000 loss: 0.0020 lr: 0.002\n",
      "iteration: 1036200 loss: 0.0019 lr: 0.002\n",
      "iteration: 1036400 loss: 0.0021 lr: 0.002\n",
      "iteration: 1036600 loss: 0.0020 lr: 0.002\n",
      "iteration: 1036800 loss: 0.0019 lr: 0.002\n",
      "iteration: 1037000 loss: 0.0019 lr: 0.002\n",
      "iteration: 1037200 loss: 0.0019 lr: 0.002\n",
      "iteration: 1037400 loss: 0.0019 lr: 0.002\n",
      "iteration: 1037600 loss: 0.0019 lr: 0.002\n",
      "iteration: 1037800 loss: 0.0020 lr: 0.002\n",
      "iteration: 1038000 loss: 0.0020 lr: 0.002\n",
      "iteration: 1038200 loss: 0.0020 lr: 0.002\n",
      "iteration: 1038400 loss: 0.0021 lr: 0.002\n",
      "iteration: 1038600 loss: 0.0019 lr: 0.002\n",
      "iteration: 1038800 loss: 0.0020 lr: 0.002\n",
      "iteration: 1039000 loss: 0.0019 lr: 0.002\n",
      "iteration: 1039200 loss: 0.0019 lr: 0.002\n",
      "iteration: 1039400 loss: 0.0019 lr: 0.002\n",
      "iteration: 1039600 loss: 0.0020 lr: 0.002\n",
      "iteration: 1039800 loss: 0.0020 lr: 0.002\n",
      "iteration: 1040000 loss: 0.0020 lr: 0.002\n",
      "iteration: 1040200 loss: 0.0020 lr: 0.002\n",
      "iteration: 1040400 loss: 0.0019 lr: 0.002\n",
      "iteration: 1040600 loss: 0.0019 lr: 0.002\n",
      "iteration: 1040800 loss: 0.0021 lr: 0.002\n",
      "iteration: 1041000 loss: 0.0020 lr: 0.002\n",
      "iteration: 1041200 loss: 0.0020 lr: 0.002\n",
      "iteration: 1041400 loss: 0.0020 lr: 0.002\n",
      "iteration: 1041600 loss: 0.0020 lr: 0.002\n",
      "iteration: 1041800 loss: 0.0020 lr: 0.002\n",
      "iteration: 1042000 loss: 0.0018 lr: 0.002\n",
      "iteration: 1042200 loss: 0.0019 lr: 0.002\n",
      "iteration: 1042400 loss: 0.0021 lr: 0.002\n",
      "iteration: 1042600 loss: 0.0020 lr: 0.002\n",
      "iteration: 1042800 loss: 0.0018 lr: 0.002\n",
      "iteration: 1043000 loss: 0.0019 lr: 0.002\n",
      "iteration: 1043200 loss: 0.0019 lr: 0.002\n",
      "iteration: 1043400 loss: 0.0019 lr: 0.002\n",
      "iteration: 1043600 loss: 0.0019 lr: 0.002\n",
      "iteration: 1043800 loss: 0.0019 lr: 0.002\n",
      "iteration: 1044000 loss: 0.0019 lr: 0.002\n",
      "iteration: 1044200 loss: 0.0020 lr: 0.002\n",
      "iteration: 1044400 loss: 0.0019 lr: 0.002\n",
      "iteration: 1044600 loss: 0.0020 lr: 0.002\n",
      "iteration: 1044800 loss: 0.0019 lr: 0.002\n",
      "iteration: 1045000 loss: 0.0018 lr: 0.002\n",
      "iteration: 1045200 loss: 0.0019 lr: 0.002\n",
      "iteration: 1045400 loss: 0.0021 lr: 0.002\n",
      "iteration: 1045600 loss: 0.0020 lr: 0.002\n",
      "iteration: 1045800 loss: 0.0019 lr: 0.002\n",
      "iteration: 1046000 loss: 0.0019 lr: 0.002\n",
      "iteration: 1046200 loss: 0.0021 lr: 0.002\n",
      "iteration: 1046400 loss: 0.0022 lr: 0.002\n",
      "iteration: 1046600 loss: 0.0020 lr: 0.002\n",
      "iteration: 1046800 loss: 0.0020 lr: 0.002\n",
      "iteration: 1047000 loss: 0.0020 lr: 0.002\n",
      "iteration: 1047200 loss: 0.0019 lr: 0.002\n",
      "iteration: 1047400 loss: 0.0021 lr: 0.002\n",
      "iteration: 1047600 loss: 0.0020 lr: 0.002\n",
      "iteration: 1047800 loss: 0.0020 lr: 0.002\n",
      "iteration: 1048000 loss: 0.0019 lr: 0.002\n",
      "iteration: 1048200 loss: 0.0020 lr: 0.002\n",
      "iteration: 1048400 loss: 0.0019 lr: 0.002\n",
      "iteration: 1048600 loss: 0.0019 lr: 0.002\n",
      "iteration: 1048800 loss: 0.0020 lr: 0.002\n",
      "iteration: 1049000 loss: 0.0019 lr: 0.002\n",
      "iteration: 1049200 loss: 0.0019 lr: 0.002\n"
     ]
    },
    {
     "name": "stderr",
     "output_type": "stream",
     "text": [
      "iteration: 1049400 loss: 0.0018 lr: 0.002\n",
      "iteration: 1049600 loss: 0.0018 lr: 0.002\n",
      "iteration: 1049800 loss: 0.0020 lr: 0.002\n",
      "iteration: 1050000 loss: 0.0021 lr: 0.002\n",
      "iteration: 1050200 loss: 0.0020 lr: 0.002\n",
      "iteration: 1050400 loss: 0.0019 lr: 0.002\n",
      "iteration: 1050600 loss: 0.0020 lr: 0.002\n",
      "iteration: 1050800 loss: 0.0020 lr: 0.002\n",
      "iteration: 1051000 loss: 0.0019 lr: 0.002\n",
      "iteration: 1051200 loss: 0.0021 lr: 0.002\n",
      "iteration: 1051400 loss: 0.0019 lr: 0.002\n",
      "iteration: 1051600 loss: 0.0020 lr: 0.002\n",
      "iteration: 1051800 loss: 0.0020 lr: 0.002\n",
      "iteration: 1052000 loss: 0.0019 lr: 0.002\n",
      "iteration: 1052200 loss: 0.0019 lr: 0.002\n",
      "iteration: 1052400 loss: 0.0019 lr: 0.002\n",
      "iteration: 1052600 loss: 0.0019 lr: 0.002\n",
      "iteration: 1052800 loss: 0.0018 lr: 0.002\n",
      "iteration: 1053000 loss: 0.0018 lr: 0.002\n",
      "iteration: 1053200 loss: 0.0020 lr: 0.002\n",
      "iteration: 1053400 loss: 0.0019 lr: 0.002\n",
      "iteration: 1053600 loss: 0.0019 lr: 0.002\n",
      "iteration: 1053800 loss: 0.0019 lr: 0.002\n",
      "iteration: 1054000 loss: 0.0019 lr: 0.002\n",
      "iteration: 1054200 loss: 0.0019 lr: 0.002\n",
      "iteration: 1054400 loss: 0.0019 lr: 0.002\n",
      "iteration: 1054600 loss: 0.0019 lr: 0.002\n",
      "iteration: 1054800 loss: 0.0019 lr: 0.002\n",
      "iteration: 1055000 loss: 0.0018 lr: 0.002\n",
      "iteration: 1055200 loss: 0.0019 lr: 0.002\n",
      "iteration: 1055400 loss: 0.0018 lr: 0.002\n",
      "iteration: 1055600 loss: 0.0019 lr: 0.002\n",
      "iteration: 1055800 loss: 0.0020 lr: 0.002\n",
      "iteration: 1056000 loss: 0.0018 lr: 0.002\n",
      "iteration: 1056200 loss: 0.0019 lr: 0.002\n",
      "iteration: 1056400 loss: 0.0020 lr: 0.002\n",
      "iteration: 1056600 loss: 0.0021 lr: 0.002\n",
      "iteration: 1056800 loss: 0.0020 lr: 0.002\n",
      "iteration: 1057000 loss: 0.0017 lr: 0.002\n",
      "iteration: 1057200 loss: 0.0019 lr: 0.002\n",
      "iteration: 1057400 loss: 0.0019 lr: 0.002\n",
      "iteration: 1057600 loss: 0.0019 lr: 0.002\n",
      "iteration: 1057800 loss: 0.0019 lr: 0.002\n",
      "iteration: 1058000 loss: 0.0020 lr: 0.002\n",
      "iteration: 1058200 loss: 0.0020 lr: 0.002\n",
      "iteration: 1058400 loss: 0.0019 lr: 0.002\n",
      "iteration: 1058600 loss: 0.0018 lr: 0.002\n",
      "iteration: 1058800 loss: 0.0021 lr: 0.002\n",
      "iteration: 1059000 loss: 0.0020 lr: 0.002\n",
      "iteration: 1059200 loss: 0.0019 lr: 0.002\n",
      "iteration: 1059400 loss: 0.0019 lr: 0.002\n",
      "iteration: 1059600 loss: 0.0019 lr: 0.002\n",
      "iteration: 1059800 loss: 0.0020 lr: 0.002\n",
      "iteration: 1060000 loss: 0.0018 lr: 0.002\n",
      "iteration: 1060200 loss: 0.0018 lr: 0.002\n",
      "iteration: 1060400 loss: 0.0020 lr: 0.002\n",
      "iteration: 1060600 loss: 0.0019 lr: 0.002\n",
      "iteration: 1060800 loss: 0.0018 lr: 0.002\n",
      "iteration: 1061000 loss: 0.0019 lr: 0.002\n",
      "iteration: 1061200 loss: 0.0018 lr: 0.002\n",
      "iteration: 1061400 loss: 0.0020 lr: 0.002\n",
      "iteration: 1061600 loss: 0.0019 lr: 0.002\n",
      "iteration: 1061800 loss: 0.0019 lr: 0.002\n",
      "iteration: 1062000 loss: 0.0018 lr: 0.002\n",
      "iteration: 1062200 loss: 0.0019 lr: 0.002\n",
      "iteration: 1062400 loss: 0.0021 lr: 0.002\n",
      "iteration: 1062600 loss: 0.0019 lr: 0.002\n",
      "iteration: 1062800 loss: 0.0019 lr: 0.002\n",
      "iteration: 1063000 loss: 0.0019 lr: 0.002\n",
      "iteration: 1063200 loss: 0.0019 lr: 0.002\n",
      "iteration: 1063400 loss: 0.0020 lr: 0.002\n",
      "iteration: 1063600 loss: 0.0020 lr: 0.002\n",
      "iteration: 1063800 loss: 0.0019 lr: 0.002\n",
      "iteration: 1064000 loss: 0.0018 lr: 0.002\n",
      "iteration: 1064200 loss: 0.0020 lr: 0.002\n",
      "iteration: 1064400 loss: 0.0017 lr: 0.002\n",
      "iteration: 1064600 loss: 0.0019 lr: 0.002\n",
      "iteration: 1064800 loss: 0.0019 lr: 0.002\n",
      "iteration: 1065000 loss: 0.0020 lr: 0.002\n",
      "iteration: 1065200 loss: 0.0019 lr: 0.002\n",
      "iteration: 1065400 loss: 0.0019 lr: 0.002\n",
      "iteration: 1065600 loss: 0.0020 lr: 0.002\n",
      "iteration: 1065800 loss: 0.0019 lr: 0.002\n",
      "iteration: 1066000 loss: 0.0019 lr: 0.002\n",
      "iteration: 1066200 loss: 0.0019 lr: 0.002\n",
      "iteration: 1066400 loss: 0.0018 lr: 0.002\n",
      "iteration: 1066600 loss: 0.0019 lr: 0.002\n",
      "iteration: 1066800 loss: 0.0020 lr: 0.002\n",
      "iteration: 1067000 loss: 0.0019 lr: 0.002\n",
      "iteration: 1067200 loss: 0.0020 lr: 0.002\n",
      "iteration: 1067400 loss: 0.0018 lr: 0.002\n",
      "iteration: 1067600 loss: 0.0020 lr: 0.002\n",
      "iteration: 1067800 loss: 0.0019 lr: 0.002\n",
      "iteration: 1068000 loss: 0.0020 lr: 0.002\n",
      "iteration: 1068200 loss: 0.0019 lr: 0.002\n",
      "iteration: 1068400 loss: 0.0019 lr: 0.002\n",
      "iteration: 1068600 loss: 0.0019 lr: 0.002\n",
      "iteration: 1068800 loss: 0.0018 lr: 0.002\n",
      "iteration: 1069000 loss: 0.0019 lr: 0.002\n",
      "iteration: 1069200 loss: 0.0020 lr: 0.002\n",
      "iteration: 1069400 loss: 0.0019 lr: 0.002\n",
      "iteration: 1069600 loss: 0.0020 lr: 0.002\n",
      "iteration: 1069800 loss: 0.0018 lr: 0.002\n",
      "iteration: 1070000 loss: 0.0019 lr: 0.002\n",
      "iteration: 1070200 loss: 0.0019 lr: 0.002\n",
      "iteration: 1070400 loss: 0.0019 lr: 0.002\n",
      "iteration: 1070600 loss: 0.0020 lr: 0.002\n",
      "iteration: 1070800 loss: 0.0019 lr: 0.002\n",
      "iteration: 1071000 loss: 0.0018 lr: 0.002\n",
      "iteration: 1071200 loss: 0.0019 lr: 0.002\n",
      "iteration: 1071400 loss: 0.0019 lr: 0.002\n",
      "iteration: 1071600 loss: 0.0018 lr: 0.002\n",
      "iteration: 1071800 loss: 0.0019 lr: 0.002\n",
      "iteration: 1072000 loss: 0.0019 lr: 0.002\n",
      "iteration: 1072200 loss: 0.0019 lr: 0.002\n",
      "iteration: 1072400 loss: 0.0022 lr: 0.002\n",
      "iteration: 1072600 loss: 0.0019 lr: 0.002\n",
      "iteration: 1072800 loss: 0.0018 lr: 0.002\n",
      "iteration: 1073000 loss: 0.0019 lr: 0.002\n",
      "iteration: 1073200 loss: 0.0018 lr: 0.002\n",
      "iteration: 1073400 loss: 0.0019 lr: 0.002\n",
      "iteration: 1073600 loss: 0.0019 lr: 0.002\n",
      "iteration: 1073800 loss: 0.0018 lr: 0.002\n",
      "iteration: 1074000 loss: 0.0017 lr: 0.002\n",
      "iteration: 1074200 loss: 0.0018 lr: 0.002\n",
      "iteration: 1074400 loss: 0.0018 lr: 0.002\n",
      "iteration: 1074600 loss: 0.0019 lr: 0.002\n",
      "iteration: 1074800 loss: 0.0020 lr: 0.002\n",
      "iteration: 1075000 loss: 0.0019 lr: 0.002\n",
      "iteration: 1075200 loss: 0.0019 lr: 0.002\n",
      "iteration: 1075400 loss: 0.0019 lr: 0.002\n",
      "iteration: 1075600 loss: 0.0018 lr: 0.002\n",
      "iteration: 1075800 loss: 0.0018 lr: 0.002\n",
      "iteration: 1076000 loss: 0.0020 lr: 0.002\n",
      "iteration: 1076200 loss: 0.0018 lr: 0.002\n",
      "iteration: 1076400 loss: 0.0018 lr: 0.002\n",
      "iteration: 1076600 loss: 0.0020 lr: 0.002\n",
      "iteration: 1076800 loss: 0.0020 lr: 0.002\n",
      "iteration: 1077000 loss: 0.0019 lr: 0.002\n",
      "iteration: 1077200 loss: 0.0018 lr: 0.002\n",
      "iteration: 1077400 loss: 0.0017 lr: 0.002\n",
      "iteration: 1077600 loss: 0.0020 lr: 0.002\n",
      "iteration: 1077800 loss: 0.0020 lr: 0.002\n",
      "iteration: 1078000 loss: 0.0019 lr: 0.002\n",
      "iteration: 1078200 loss: 0.0019 lr: 0.002\n",
      "iteration: 1078400 loss: 0.0017 lr: 0.002\n",
      "iteration: 1078600 loss: 0.0019 lr: 0.002\n",
      "iteration: 1078800 loss: 0.0018 lr: 0.002\n",
      "iteration: 1079000 loss: 0.0017 lr: 0.002\n",
      "iteration: 1079200 loss: 0.0019 lr: 0.002\n",
      "iteration: 1079400 loss: 0.0019 lr: 0.002\n",
      "iteration: 1079600 loss: 0.0019 lr: 0.002\n",
      "iteration: 1079800 loss: 0.0018 lr: 0.002\n",
      "iteration: 1080000 loss: 0.0019 lr: 0.002\n",
      "iteration: 1080200 loss: 0.0018 lr: 0.002\n",
      "iteration: 1080400 loss: 0.0018 lr: 0.002\n",
      "iteration: 1080600 loss: 0.0019 lr: 0.002\n",
      "iteration: 1080800 loss: 0.0019 lr: 0.002\n",
      "iteration: 1081000 loss: 0.0019 lr: 0.002\n",
      "iteration: 1081200 loss: 0.0018 lr: 0.002\n",
      "iteration: 1081400 loss: 0.0020 lr: 0.002\n",
      "iteration: 1081600 loss: 0.0020 lr: 0.002\n",
      "iteration: 1081800 loss: 0.0019 lr: 0.002\n",
      "iteration: 1082000 loss: 0.0017 lr: 0.002\n",
      "iteration: 1082200 loss: 0.0020 lr: 0.002\n",
      "iteration: 1082400 loss: 0.0019 lr: 0.002\n",
      "iteration: 1082600 loss: 0.0019 lr: 0.002\n",
      "iteration: 1082800 loss: 0.0019 lr: 0.002\n",
      "iteration: 1083000 loss: 0.0019 lr: 0.002\n",
      "iteration: 1083200 loss: 0.0018 lr: 0.002\n",
      "iteration: 1083400 loss: 0.0019 lr: 0.002\n",
      "iteration: 1083600 loss: 0.0018 lr: 0.002\n",
      "iteration: 1083800 loss: 0.0018 lr: 0.002\n",
      "iteration: 1084000 loss: 0.0019 lr: 0.002\n",
      "iteration: 1084200 loss: 0.0019 lr: 0.002\n",
      "iteration: 1084400 loss: 0.0019 lr: 0.002\n",
      "iteration: 1084600 loss: 0.0019 lr: 0.002\n",
      "iteration: 1084800 loss: 0.0019 lr: 0.002\n",
      "iteration: 1085000 loss: 0.0018 lr: 0.002\n",
      "iteration: 1085200 loss: 0.0020 lr: 0.002\n",
      "iteration: 1085400 loss: 0.0018 lr: 0.002\n",
      "iteration: 1085600 loss: 0.0019 lr: 0.002\n",
      "iteration: 1085800 loss: 0.0019 lr: 0.002\n",
      "iteration: 1086000 loss: 0.0017 lr: 0.002\n",
      "iteration: 1086200 loss: 0.0018 lr: 0.002\n",
      "iteration: 1086400 loss: 0.0018 lr: 0.002\n",
      "iteration: 1086600 loss: 0.0020 lr: 0.002\n",
      "iteration: 1086800 loss: 0.0019 lr: 0.002\n",
      "iteration: 1087000 loss: 0.0018 lr: 0.002\n",
      "iteration: 1087200 loss: 0.0019 lr: 0.002\n",
      "iteration: 1087400 loss: 0.0018 lr: 0.002\n",
      "iteration: 1087600 loss: 0.0021 lr: 0.002\n",
      "iteration: 1087800 loss: 0.0018 lr: 0.002\n",
      "iteration: 1088000 loss: 0.0020 lr: 0.002\n",
      "iteration: 1088200 loss: 0.0018 lr: 0.002\n",
      "iteration: 1088400 loss: 0.0018 lr: 0.002\n"
     ]
    },
    {
     "name": "stderr",
     "output_type": "stream",
     "text": [
      "iteration: 1088600 loss: 0.0019 lr: 0.002\n",
      "iteration: 1088800 loss: 0.0020 lr: 0.002\n",
      "iteration: 1089000 loss: 0.0019 lr: 0.002\n",
      "iteration: 1089200 loss: 0.0018 lr: 0.002\n",
      "iteration: 1089400 loss: 0.0020 lr: 0.002\n",
      "iteration: 1089600 loss: 0.0021 lr: 0.002\n",
      "iteration: 1089800 loss: 0.0019 lr: 0.002\n",
      "iteration: 1090000 loss: 0.0018 lr: 0.002\n",
      "iteration: 1090200 loss: 0.0020 lr: 0.002\n",
      "iteration: 1090400 loss: 0.0019 lr: 0.002\n",
      "iteration: 1090600 loss: 0.0019 lr: 0.002\n",
      "iteration: 1090800 loss: 0.0020 lr: 0.002\n",
      "iteration: 1091000 loss: 0.0020 lr: 0.002\n",
      "iteration: 1091200 loss: 0.0020 lr: 0.002\n",
      "iteration: 1091400 loss: 0.0018 lr: 0.002\n",
      "iteration: 1091600 loss: 0.0018 lr: 0.002\n",
      "iteration: 1091800 loss: 0.0019 lr: 0.002\n",
      "iteration: 1092000 loss: 0.0020 lr: 0.002\n",
      "iteration: 1092200 loss: 0.0018 lr: 0.002\n",
      "iteration: 1092400 loss: 0.0019 lr: 0.002\n",
      "iteration: 1092600 loss: 0.0019 lr: 0.002\n",
      "iteration: 1092800 loss: 0.0018 lr: 0.002\n",
      "iteration: 1093000 loss: 0.0019 lr: 0.002\n",
      "iteration: 1093200 loss: 0.0021 lr: 0.002\n",
      "iteration: 1093400 loss: 0.0018 lr: 0.002\n",
      "iteration: 1093600 loss: 0.0018 lr: 0.002\n",
      "iteration: 1093800 loss: 0.0019 lr: 0.002\n",
      "iteration: 1094000 loss: 0.0020 lr: 0.002\n",
      "iteration: 1094200 loss: 0.0017 lr: 0.002\n",
      "iteration: 1094400 loss: 0.0019 lr: 0.002\n",
      "iteration: 1094600 loss: 0.0018 lr: 0.002\n",
      "iteration: 1094800 loss: 0.0019 lr: 0.002\n",
      "iteration: 1095000 loss: 0.0018 lr: 0.002\n",
      "iteration: 1095200 loss: 0.0018 lr: 0.002\n",
      "iteration: 1095400 loss: 0.0017 lr: 0.002\n",
      "iteration: 1095600 loss: 0.0019 lr: 0.002\n",
      "iteration: 1095800 loss: 0.0018 lr: 0.002\n",
      "iteration: 1096000 loss: 0.0018 lr: 0.002\n",
      "iteration: 1096200 loss: 0.0019 lr: 0.002\n",
      "iteration: 1096400 loss: 0.0018 lr: 0.002\n",
      "iteration: 1096600 loss: 0.0021 lr: 0.002\n",
      "iteration: 1096800 loss: 0.0018 lr: 0.002\n",
      "iteration: 1097000 loss: 0.0019 lr: 0.002\n",
      "iteration: 1097200 loss: 0.0020 lr: 0.002\n",
      "iteration: 1097400 loss: 0.0017 lr: 0.002\n",
      "iteration: 1097600 loss: 0.0020 lr: 0.002\n",
      "iteration: 1097800 loss: 0.0019 lr: 0.002\n",
      "iteration: 1098000 loss: 0.0021 lr: 0.002\n",
      "iteration: 1098200 loss: 0.0019 lr: 0.002\n",
      "iteration: 1098400 loss: 0.0018 lr: 0.002\n",
      "iteration: 1098600 loss: 0.0019 lr: 0.002\n",
      "iteration: 1098800 loss: 0.0019 lr: 0.002\n",
      "iteration: 1099000 loss: 0.0019 lr: 0.002\n",
      "iteration: 1099200 loss: 0.0018 lr: 0.002\n",
      "iteration: 1099400 loss: 0.0019 lr: 0.002\n",
      "iteration: 1099600 loss: 0.0020 lr: 0.002\n",
      "iteration: 1099800 loss: 0.0021 lr: 0.002\n",
      "iteration: 1100000 loss: 0.0018 lr: 0.002\n",
      "iteration: 1100200 loss: 0.0019 lr: 0.002\n",
      "iteration: 1100400 loss: 0.0019 lr: 0.002\n",
      "iteration: 1100600 loss: 0.0017 lr: 0.002\n",
      "iteration: 1100800 loss: 0.0019 lr: 0.002\n",
      "iteration: 1101000 loss: 0.0019 lr: 0.002\n",
      "iteration: 1101200 loss: 0.0018 lr: 0.002\n",
      "iteration: 1101400 loss: 0.0018 lr: 0.002\n",
      "iteration: 1101600 loss: 0.0019 lr: 0.002\n",
      "iteration: 1101800 loss: 0.0019 lr: 0.002\n",
      "iteration: 1102000 loss: 0.0019 lr: 0.002\n",
      "iteration: 1102200 loss: 0.0018 lr: 0.002\n",
      "iteration: 1102400 loss: 0.0018 lr: 0.002\n",
      "iteration: 1102600 loss: 0.0019 lr: 0.002\n",
      "iteration: 1102800 loss: 0.0019 lr: 0.002\n",
      "iteration: 1103000 loss: 0.0019 lr: 0.002\n",
      "iteration: 1103200 loss: 0.0020 lr: 0.002\n",
      "iteration: 1103400 loss: 0.0019 lr: 0.002\n",
      "iteration: 1103600 loss: 0.0019 lr: 0.002\n",
      "iteration: 1103800 loss: 0.0018 lr: 0.002\n",
      "iteration: 1104000 loss: 0.0019 lr: 0.002\n",
      "iteration: 1104200 loss: 0.0018 lr: 0.002\n",
      "iteration: 1104400 loss: 0.0018 lr: 0.002\n",
      "iteration: 1104600 loss: 0.0019 lr: 0.002\n",
      "iteration: 1104800 loss: 0.0020 lr: 0.002\n",
      "iteration: 1105000 loss: 0.0018 lr: 0.002\n",
      "iteration: 1105200 loss: 0.0019 lr: 0.002\n",
      "iteration: 1105400 loss: 0.0019 lr: 0.002\n",
      "iteration: 1105600 loss: 0.0019 lr: 0.002\n",
      "iteration: 1105800 loss: 0.0018 lr: 0.002\n",
      "iteration: 1106000 loss: 0.0019 lr: 0.002\n",
      "iteration: 1106200 loss: 0.0018 lr: 0.002\n",
      "iteration: 1106400 loss: 0.0017 lr: 0.002\n",
      "iteration: 1106600 loss: 0.0020 lr: 0.002\n",
      "iteration: 1106800 loss: 0.0018 lr: 0.002\n",
      "iteration: 1107000 loss: 0.0021 lr: 0.002\n",
      "iteration: 1107200 loss: 0.0019 lr: 0.002\n",
      "iteration: 1107400 loss: 0.0018 lr: 0.002\n",
      "iteration: 1107600 loss: 0.0018 lr: 0.002\n",
      "iteration: 1107800 loss: 0.0018 lr: 0.002\n",
      "iteration: 1108000 loss: 0.0019 lr: 0.002\n",
      "iteration: 1108200 loss: 0.0017 lr: 0.002\n",
      "iteration: 1108400 loss: 0.0019 lr: 0.002\n",
      "iteration: 1108600 loss: 0.0019 lr: 0.002\n",
      "iteration: 1108800 loss: 0.0019 lr: 0.002\n",
      "iteration: 1109000 loss: 0.0018 lr: 0.002\n",
      "iteration: 1109200 loss: 0.0020 lr: 0.002\n",
      "iteration: 1109400 loss: 0.0018 lr: 0.002\n",
      "iteration: 1109600 loss: 0.0018 lr: 0.002\n",
      "iteration: 1109800 loss: 0.0020 lr: 0.002\n",
      "iteration: 1110000 loss: 0.0018 lr: 0.002\n",
      "iteration: 1110200 loss: 0.0019 lr: 0.002\n",
      "iteration: 1110400 loss: 0.0019 lr: 0.002\n",
      "iteration: 1110600 loss: 0.0018 lr: 0.002\n",
      "iteration: 1110800 loss: 0.0019 lr: 0.002\n",
      "iteration: 1111000 loss: 0.0020 lr: 0.002\n",
      "iteration: 1111200 loss: 0.0019 lr: 0.002\n",
      "iteration: 1111400 loss: 0.0019 lr: 0.002\n",
      "iteration: 1111600 loss: 0.0019 lr: 0.002\n",
      "iteration: 1111800 loss: 0.0019 lr: 0.002\n",
      "iteration: 1112000 loss: 0.0019 lr: 0.002\n",
      "iteration: 1112200 loss: 0.0018 lr: 0.002\n",
      "iteration: 1112400 loss: 0.0018 lr: 0.002\n",
      "iteration: 1112600 loss: 0.0019 lr: 0.002\n",
      "iteration: 1112800 loss: 0.0018 lr: 0.002\n",
      "iteration: 1113000 loss: 0.0018 lr: 0.002\n",
      "iteration: 1113200 loss: 0.0021 lr: 0.002\n",
      "iteration: 1113400 loss: 0.0017 lr: 0.002\n",
      "iteration: 1113600 loss: 0.0018 lr: 0.002\n",
      "iteration: 1113800 loss: 0.0019 lr: 0.002\n",
      "iteration: 1114000 loss: 0.0020 lr: 0.002\n",
      "iteration: 1114200 loss: 0.0020 lr: 0.002\n",
      "iteration: 1114400 loss: 0.0019 lr: 0.002\n",
      "iteration: 1114600 loss: 0.0018 lr: 0.002\n",
      "iteration: 1114800 loss: 0.0018 lr: 0.002\n",
      "iteration: 1115000 loss: 0.0018 lr: 0.002\n",
      "iteration: 1115200 loss: 0.0020 lr: 0.002\n",
      "iteration: 1115400 loss: 0.0018 lr: 0.002\n",
      "iteration: 1115600 loss: 0.0019 lr: 0.002\n",
      "iteration: 1115800 loss: 0.0018 lr: 0.002\n",
      "iteration: 1116000 loss: 0.0018 lr: 0.002\n",
      "iteration: 1116200 loss: 0.0019 lr: 0.002\n",
      "iteration: 1116400 loss: 0.0019 lr: 0.002\n",
      "iteration: 1116600 loss: 0.0019 lr: 0.002\n",
      "iteration: 1116800 loss: 0.0018 lr: 0.002\n",
      "iteration: 1117000 loss: 0.0020 lr: 0.002\n",
      "iteration: 1117200 loss: 0.0020 lr: 0.002\n",
      "iteration: 1117400 loss: 0.0020 lr: 0.002\n",
      "iteration: 1117600 loss: 0.0018 lr: 0.002\n",
      "iteration: 1117800 loss: 0.0019 lr: 0.002\n",
      "iteration: 1118000 loss: 0.0019 lr: 0.002\n",
      "iteration: 1118200 loss: 0.0018 lr: 0.002\n",
      "iteration: 1118400 loss: 0.0019 lr: 0.002\n",
      "iteration: 1118600 loss: 0.0019 lr: 0.002\n",
      "iteration: 1118800 loss: 0.0018 lr: 0.002\n",
      "iteration: 1119000 loss: 0.0019 lr: 0.002\n",
      "iteration: 1119200 loss: 0.0018 lr: 0.002\n",
      "iteration: 1119400 loss: 0.0020 lr: 0.002\n",
      "iteration: 1119600 loss: 0.0019 lr: 0.002\n",
      "iteration: 1119800 loss: 0.0019 lr: 0.002\n",
      "iteration: 1120000 loss: 0.0019 lr: 0.002\n",
      "iteration: 1120200 loss: 0.0018 lr: 0.002\n",
      "iteration: 1120400 loss: 0.0020 lr: 0.002\n",
      "iteration: 1120600 loss: 0.0020 lr: 0.002\n",
      "iteration: 1120800 loss: 0.0020 lr: 0.002\n",
      "iteration: 1121000 loss: 0.0020 lr: 0.002\n",
      "iteration: 1121200 loss: 0.0019 lr: 0.002\n",
      "iteration: 1121400 loss: 0.0019 lr: 0.002\n",
      "iteration: 1121600 loss: 0.0017 lr: 0.002\n",
      "iteration: 1121800 loss: 0.0018 lr: 0.002\n",
      "iteration: 1122000 loss: 0.0019 lr: 0.002\n",
      "iteration: 1122200 loss: 0.0020 lr: 0.002\n",
      "iteration: 1122400 loss: 0.0017 lr: 0.002\n",
      "iteration: 1122600 loss: 0.0019 lr: 0.002\n",
      "iteration: 1122800 loss: 0.0020 lr: 0.002\n",
      "iteration: 1123000 loss: 0.0020 lr: 0.002\n",
      "iteration: 1123200 loss: 0.0018 lr: 0.002\n",
      "iteration: 1123400 loss: 0.0019 lr: 0.002\n",
      "iteration: 1123600 loss: 0.0018 lr: 0.002\n",
      "iteration: 1123800 loss: 0.0017 lr: 0.002\n",
      "iteration: 1124000 loss: 0.0020 lr: 0.002\n",
      "iteration: 1124200 loss: 0.0019 lr: 0.002\n",
      "iteration: 1124400 loss: 0.0019 lr: 0.002\n",
      "iteration: 1124600 loss: 0.0020 lr: 0.002\n",
      "iteration: 1124800 loss: 0.0019 lr: 0.002\n",
      "iteration: 1125000 loss: 0.0018 lr: 0.002\n",
      "iteration: 1125200 loss: 0.0019 lr: 0.002\n",
      "iteration: 1125400 loss: 0.0018 lr: 0.002\n",
      "iteration: 1125600 loss: 0.0020 lr: 0.002\n",
      "iteration: 1125800 loss: 0.0019 lr: 0.002\n",
      "iteration: 1126000 loss: 0.0018 lr: 0.002\n",
      "iteration: 1126200 loss: 0.0018 lr: 0.002\n",
      "iteration: 1126400 loss: 0.0019 lr: 0.002\n",
      "iteration: 1126600 loss: 0.0019 lr: 0.002\n",
      "iteration: 1126800 loss: 0.0019 lr: 0.002\n",
      "iteration: 1127000 loss: 0.0019 lr: 0.002\n",
      "iteration: 1127200 loss: 0.0017 lr: 0.002\n",
      "iteration: 1127400 loss: 0.0020 lr: 0.002\n",
      "iteration: 1127600 loss: 0.0018 lr: 0.002\n"
     ]
    },
    {
     "name": "stderr",
     "output_type": "stream",
     "text": [
      "iteration: 1127800 loss: 0.0019 lr: 0.002\n",
      "iteration: 1128000 loss: 0.0019 lr: 0.002\n",
      "iteration: 1128200 loss: 0.0018 lr: 0.002\n",
      "iteration: 1128400 loss: 0.0018 lr: 0.002\n",
      "iteration: 1128600 loss: 0.0017 lr: 0.002\n",
      "iteration: 1128800 loss: 0.0019 lr: 0.002\n",
      "iteration: 1129000 loss: 0.0018 lr: 0.002\n",
      "iteration: 1129200 loss: 0.0018 lr: 0.002\n",
      "iteration: 1129400 loss: 0.0021 lr: 0.002\n",
      "iteration: 1129600 loss: 0.0018 lr: 0.002\n",
      "iteration: 1129800 loss: 0.0018 lr: 0.002\n",
      "iteration: 1130000 loss: 0.0019 lr: 0.002\n",
      "iteration: 1130200 loss: 0.0019 lr: 0.002\n",
      "iteration: 1130400 loss: 0.0018 lr: 0.002\n",
      "iteration: 1130600 loss: 0.0020 lr: 0.002\n",
      "iteration: 1130800 loss: 0.0019 lr: 0.002\n",
      "iteration: 1131000 loss: 0.0018 lr: 0.002\n",
      "iteration: 1131200 loss: 0.0018 lr: 0.002\n",
      "iteration: 1131400 loss: 0.0019 lr: 0.002\n",
      "iteration: 1131600 loss: 0.0018 lr: 0.002\n",
      "iteration: 1131800 loss: 0.0017 lr: 0.002\n",
      "iteration: 1132000 loss: 0.0019 lr: 0.002\n",
      "iteration: 1132200 loss: 0.0018 lr: 0.002\n",
      "iteration: 1132400 loss: 0.0019 lr: 0.002\n",
      "iteration: 1132600 loss: 0.0019 lr: 0.002\n",
      "iteration: 1132800 loss: 0.0020 lr: 0.002\n",
      "iteration: 1133000 loss: 0.0019 lr: 0.002\n",
      "iteration: 1133200 loss: 0.0019 lr: 0.002\n",
      "iteration: 1133400 loss: 0.0019 lr: 0.002\n",
      "iteration: 1133600 loss: 0.0019 lr: 0.002\n",
      "iteration: 1133800 loss: 0.0018 lr: 0.002\n",
      "iteration: 1134000 loss: 0.0018 lr: 0.002\n",
      "iteration: 1134200 loss: 0.0020 lr: 0.002\n",
      "iteration: 1134400 loss: 0.0018 lr: 0.002\n",
      "iteration: 1134600 loss: 0.0018 lr: 0.002\n",
      "iteration: 1134800 loss: 0.0017 lr: 0.002\n",
      "iteration: 1135000 loss: 0.0019 lr: 0.002\n",
      "iteration: 1135200 loss: 0.0018 lr: 0.002\n",
      "iteration: 1135400 loss: 0.0018 lr: 0.002\n",
      "iteration: 1135600 loss: 0.0019 lr: 0.002\n",
      "iteration: 1135800 loss: 0.0021 lr: 0.002\n",
      "iteration: 1136000 loss: 0.0019 lr: 0.002\n",
      "iteration: 1136200 loss: 0.0018 lr: 0.002\n",
      "iteration: 1136400 loss: 0.0019 lr: 0.002\n",
      "iteration: 1136600 loss: 0.0018 lr: 0.002\n",
      "iteration: 1136800 loss: 0.0018 lr: 0.002\n",
      "iteration: 1137000 loss: 0.0021 lr: 0.002\n",
      "iteration: 1137200 loss: 0.0019 lr: 0.002\n",
      "iteration: 1137400 loss: 0.0020 lr: 0.002\n",
      "iteration: 1137600 loss: 0.0019 lr: 0.002\n",
      "iteration: 1137800 loss: 0.0019 lr: 0.002\n",
      "iteration: 1138000 loss: 0.0019 lr: 0.002\n",
      "iteration: 1138200 loss: 0.0018 lr: 0.002\n",
      "iteration: 1138400 loss: 0.0019 lr: 0.002\n",
      "iteration: 1138600 loss: 0.0020 lr: 0.002\n",
      "iteration: 1138800 loss: 0.0019 lr: 0.002\n",
      "iteration: 1139000 loss: 0.0018 lr: 0.002\n",
      "iteration: 1139200 loss: 0.0018 lr: 0.002\n",
      "iteration: 1139400 loss: 0.0018 lr: 0.002\n",
      "iteration: 1139600 loss: 0.0018 lr: 0.002\n",
      "iteration: 1139800 loss: 0.0020 lr: 0.002\n",
      "iteration: 1140000 loss: 0.0020 lr: 0.002\n",
      "iteration: 1140200 loss: 0.0018 lr: 0.002\n",
      "iteration: 1140400 loss: 0.0018 lr: 0.002\n",
      "iteration: 1140600 loss: 0.0019 lr: 0.002\n",
      "iteration: 1140800 loss: 0.0019 lr: 0.002\n",
      "iteration: 1141000 loss: 0.0018 lr: 0.002\n",
      "iteration: 1141200 loss: 0.0019 lr: 0.002\n",
      "iteration: 1141400 loss: 0.0019 lr: 0.002\n",
      "iteration: 1141600 loss: 0.0018 lr: 0.002\n",
      "iteration: 1141800 loss: 0.0019 lr: 0.002\n",
      "iteration: 1142000 loss: 0.0019 lr: 0.002\n",
      "iteration: 1142200 loss: 0.0019 lr: 0.002\n",
      "iteration: 1142400 loss: 0.0019 lr: 0.002\n",
      "iteration: 1142600 loss: 0.0019 lr: 0.002\n",
      "iteration: 1142800 loss: 0.0020 lr: 0.002\n",
      "iteration: 1143000 loss: 0.0018 lr: 0.002\n",
      "iteration: 1143200 loss: 0.0020 lr: 0.002\n",
      "iteration: 1143400 loss: 0.0019 lr: 0.002\n",
      "iteration: 1143600 loss: 0.0019 lr: 0.002\n",
      "iteration: 1143800 loss: 0.0019 lr: 0.002\n",
      "iteration: 1144000 loss: 0.0019 lr: 0.002\n",
      "iteration: 1144200 loss: 0.0021 lr: 0.002\n",
      "iteration: 1144400 loss: 0.0019 lr: 0.002\n",
      "iteration: 1144600 loss: 0.0019 lr: 0.002\n",
      "iteration: 1144800 loss: 0.0018 lr: 0.002\n",
      "iteration: 1145000 loss: 0.0018 lr: 0.002\n",
      "iteration: 1145200 loss: 0.0018 lr: 0.002\n",
      "iteration: 1145400 loss: 0.0019 lr: 0.002\n",
      "iteration: 1145600 loss: 0.0019 lr: 0.002\n",
      "iteration: 1145800 loss: 0.0018 lr: 0.002\n",
      "iteration: 1146000 loss: 0.0018 lr: 0.002\n",
      "iteration: 1146200 loss: 0.0019 lr: 0.002\n",
      "iteration: 1146400 loss: 0.0019 lr: 0.002\n",
      "iteration: 1146600 loss: 0.0017 lr: 0.002\n",
      "iteration: 1146800 loss: 0.0018 lr: 0.002\n",
      "iteration: 1147000 loss: 0.0019 lr: 0.002\n",
      "iteration: 1147200 loss: 0.0020 lr: 0.002\n",
      "iteration: 1147400 loss: 0.0020 lr: 0.002\n",
      "iteration: 1147600 loss: 0.0017 lr: 0.002\n",
      "iteration: 1147800 loss: 0.0019 lr: 0.002\n",
      "iteration: 1148000 loss: 0.0018 lr: 0.002\n",
      "iteration: 1148200 loss: 0.0018 lr: 0.002\n",
      "iteration: 1148400 loss: 0.0018 lr: 0.002\n",
      "iteration: 1148600 loss: 0.0019 lr: 0.002\n",
      "iteration: 1148800 loss: 0.0020 lr: 0.002\n",
      "iteration: 1149000 loss: 0.0018 lr: 0.002\n",
      "iteration: 1149200 loss: 0.0018 lr: 0.002\n",
      "iteration: 1149400 loss: 0.0019 lr: 0.002\n",
      "iteration: 1149600 loss: 0.0018 lr: 0.002\n",
      "iteration: 1149800 loss: 0.0019 lr: 0.002\n",
      "iteration: 1150000 loss: 0.0019 lr: 0.002\n",
      "iteration: 1150200 loss: 0.0018 lr: 0.002\n",
      "iteration: 1150400 loss: 0.0017 lr: 0.002\n",
      "iteration: 1150600 loss: 0.0019 lr: 0.002\n",
      "iteration: 1150800 loss: 0.0019 lr: 0.002\n",
      "iteration: 1151000 loss: 0.0019 lr: 0.002\n",
      "iteration: 1151200 loss: 0.0018 lr: 0.002\n",
      "iteration: 1151400 loss: 0.0018 lr: 0.002\n",
      "iteration: 1151600 loss: 0.0018 lr: 0.002\n",
      "iteration: 1151800 loss: 0.0018 lr: 0.002\n",
      "iteration: 1152000 loss: 0.0018 lr: 0.002\n",
      "iteration: 1152200 loss: 0.0019 lr: 0.002\n",
      "iteration: 1152400 loss: 0.0019 lr: 0.002\n",
      "iteration: 1152600 loss: 0.0017 lr: 0.002\n",
      "iteration: 1152800 loss: 0.0019 lr: 0.002\n",
      "iteration: 1153000 loss: 0.0019 lr: 0.002\n",
      "iteration: 1153200 loss: 0.0019 lr: 0.002\n",
      "iteration: 1153400 loss: 0.0018 lr: 0.002\n",
      "iteration: 1153600 loss: 0.0021 lr: 0.002\n",
      "iteration: 1153800 loss: 0.0019 lr: 0.002\n",
      "iteration: 1154000 loss: 0.0020 lr: 0.002\n",
      "iteration: 1154200 loss: 0.0019 lr: 0.002\n",
      "iteration: 1154400 loss: 0.0019 lr: 0.002\n",
      "iteration: 1154600 loss: 0.0018 lr: 0.002\n",
      "iteration: 1154800 loss: 0.0020 lr: 0.002\n",
      "iteration: 1155000 loss: 0.0018 lr: 0.002\n",
      "iteration: 1155200 loss: 0.0018 lr: 0.002\n",
      "iteration: 1155400 loss: 0.0018 lr: 0.002\n",
      "iteration: 1155600 loss: 0.0017 lr: 0.002\n",
      "iteration: 1155800 loss: 0.0018 lr: 0.002\n",
      "iteration: 1156000 loss: 0.0018 lr: 0.002\n",
      "iteration: 1156200 loss: 0.0019 lr: 0.002\n",
      "iteration: 1156400 loss: 0.0018 lr: 0.002\n",
      "iteration: 1156600 loss: 0.0020 lr: 0.002\n",
      "iteration: 1156800 loss: 0.0018 lr: 0.002\n",
      "iteration: 1157000 loss: 0.0018 lr: 0.002\n"
     ]
    },
    {
     "ename": "KeyboardInterrupt",
     "evalue": "",
     "output_type": "error",
     "traceback": [
      "\u001b[1;31m---------------------------------------------------------------------------\u001b[0m",
      "\u001b[1;31mKeyboardInterrupt\u001b[0m                         Traceback (most recent call last)",
      "Cell \u001b[1;32mIn[21], line 1\u001b[0m\n\u001b[1;32m----> 1\u001b[0m \u001b[43mdeeplabcut\u001b[49m\u001b[38;5;241;43m.\u001b[39;49m\u001b[43mtrain_network\u001b[49m\u001b[43m(\u001b[49m\u001b[43mconfig_path\u001b[49m\u001b[43m,\u001b[49m\u001b[43m \u001b[49m\u001b[43mshuffle\u001b[49m\u001b[38;5;241;43m=\u001b[39;49m\u001b[38;5;241;43m1\u001b[39;49m\u001b[43m,\u001b[49m\u001b[43m \u001b[49m\u001b[43mgputouse\u001b[49m\u001b[38;5;241;43m=\u001b[39;49m\u001b[38;5;241;43m0\u001b[39;49m\u001b[43m,\u001b[49m\u001b[43m \u001b[49m\u001b[43mtrainingsetindex\u001b[49m\u001b[38;5;241;43m=\u001b[39;49m\u001b[38;5;241;43m0\u001b[39;49m\u001b[43m,\u001b[49m\u001b[43m \u001b[49m\u001b[43mmax_snapshots_to_keep\u001b[49m\u001b[38;5;241;43m=\u001b[39;49m\u001b[38;5;241;43m5\u001b[39;49m\u001b[43m,\u001b[49m\u001b[43m \u001b[49m\u001b[43mdisplayiters\u001b[49m\u001b[38;5;241;43m=\u001b[39;49m\u001b[38;5;241;43m200\u001b[39;49m\u001b[43m,\u001b[49m\u001b[43m \u001b[49m\u001b[43msaveiters\u001b[49m\u001b[38;5;241;43m=\u001b[39;49m\u001b[38;5;241;43m20000\u001b[39;49m\u001b[43m,\u001b[49m\u001b[43m \u001b[49m\u001b[43mmaxiters\u001b[49m\u001b[38;5;241;43m=\u001b[39;49m\u001b[38;5;241;43m1030000\u001b[39;49m\u001b[43m,\u001b[49m\u001b[43m \u001b[49m\u001b[43mallow_growth\u001b[49m\u001b[38;5;241;43m=\u001b[39;49m\u001b[38;5;28;43;01mTrue\u001b[39;49;00m\u001b[43m)\u001b[49m\n",
      "File \u001b[1;32m~\\.conda\\envs\\DLC\\lib\\site-packages\\deeplabcut\\pose_estimation_tensorflow\\training.py:284\u001b[0m, in \u001b[0;36mtrain_network\u001b[1;34m(config, shuffle, trainingsetindex, max_snapshots_to_keep, displayiters, saveiters, maxiters, allow_growth, gputouse, autotune, keepdeconvweights, modelprefix, superanimal_name, superanimal_transfer_learning)\u001b[0m\n\u001b[0;32m    273\u001b[0m         train(\n\u001b[0;32m    274\u001b[0m             \u001b[38;5;28mstr\u001b[39m(poseconfigfile),\n\u001b[0;32m    275\u001b[0m             displayiters,\n\u001b[1;32m   (...)\u001b[0m\n\u001b[0;32m    280\u001b[0m             allow_growth\u001b[38;5;241m=\u001b[39mallow_growth,\n\u001b[0;32m    281\u001b[0m         )  \u001b[38;5;66;03m# pass on path and file name for pose_cfg.yaml!\u001b[39;00m\n\u001b[0;32m    283\u001b[0m \u001b[38;5;28;01mexcept\u001b[39;00m \u001b[38;5;167;01mBaseException\u001b[39;00m \u001b[38;5;28;01mas\u001b[39;00m e:\n\u001b[1;32m--> 284\u001b[0m     \u001b[38;5;28;01mraise\u001b[39;00m e\n\u001b[0;32m    285\u001b[0m \u001b[38;5;28;01mfinally\u001b[39;00m:\n\u001b[0;32m    286\u001b[0m     os\u001b[38;5;241m.\u001b[39mchdir(\u001b[38;5;28mstr\u001b[39m(start_path))\n",
      "File \u001b[1;32m~\\.conda\\envs\\DLC\\lib\\site-packages\\deeplabcut\\pose_estimation_tensorflow\\training.py:273\u001b[0m, in \u001b[0;36mtrain_network\u001b[1;34m(config, shuffle, trainingsetindex, max_snapshots_to_keep, displayiters, saveiters, maxiters, allow_growth, gputouse, autotune, keepdeconvweights, modelprefix, superanimal_name, superanimal_transfer_learning)\u001b[0m\n\u001b[0;32m    270\u001b[0m         \u001b[38;5;28;01mfrom\u001b[39;00m \u001b[38;5;21;01mdeeplabcut\u001b[39;00m\u001b[38;5;21;01m.\u001b[39;00m\u001b[38;5;21;01mpose_estimation_tensorflow\u001b[39;00m\u001b[38;5;21;01m.\u001b[39;00m\u001b[38;5;21;01mcore\u001b[39;00m\u001b[38;5;21;01m.\u001b[39;00m\u001b[38;5;21;01mtrain\u001b[39;00m \u001b[38;5;28;01mimport\u001b[39;00m train\n\u001b[0;32m    272\u001b[0m         \u001b[38;5;28mprint\u001b[39m(\u001b[38;5;124m\"\u001b[39m\u001b[38;5;124mSelecting single-animal trainer\u001b[39m\u001b[38;5;124m\"\u001b[39m)\n\u001b[1;32m--> 273\u001b[0m         \u001b[43mtrain\u001b[49m\u001b[43m(\u001b[49m\n\u001b[0;32m    274\u001b[0m \u001b[43m            \u001b[49m\u001b[38;5;28;43mstr\u001b[39;49m\u001b[43m(\u001b[49m\u001b[43mposeconfigfile\u001b[49m\u001b[43m)\u001b[49m\u001b[43m,\u001b[49m\n\u001b[0;32m    275\u001b[0m \u001b[43m            \u001b[49m\u001b[43mdisplayiters\u001b[49m\u001b[43m,\u001b[49m\n\u001b[0;32m    276\u001b[0m \u001b[43m            \u001b[49m\u001b[43msaveiters\u001b[49m\u001b[43m,\u001b[49m\n\u001b[0;32m    277\u001b[0m \u001b[43m            \u001b[49m\u001b[43mmaxiters\u001b[49m\u001b[43m,\u001b[49m\n\u001b[0;32m    278\u001b[0m \u001b[43m            \u001b[49m\u001b[43mmax_to_keep\u001b[49m\u001b[38;5;241;43m=\u001b[39;49m\u001b[43mmax_snapshots_to_keep\u001b[49m\u001b[43m,\u001b[49m\n\u001b[0;32m    279\u001b[0m \u001b[43m            \u001b[49m\u001b[43mkeepdeconvweights\u001b[49m\u001b[38;5;241;43m=\u001b[39;49m\u001b[43mkeepdeconvweights\u001b[49m\u001b[43m,\u001b[49m\n\u001b[0;32m    280\u001b[0m \u001b[43m            \u001b[49m\u001b[43mallow_growth\u001b[49m\u001b[38;5;241;43m=\u001b[39;49m\u001b[43mallow_growth\u001b[49m\u001b[43m,\u001b[49m\n\u001b[0;32m    281\u001b[0m \u001b[43m        \u001b[49m\u001b[43m)\u001b[49m  \u001b[38;5;66;03m# pass on path and file name for pose_cfg.yaml!\u001b[39;00m\n\u001b[0;32m    283\u001b[0m \u001b[38;5;28;01mexcept\u001b[39;00m \u001b[38;5;167;01mBaseException\u001b[39;00m \u001b[38;5;28;01mas\u001b[39;00m e:\n\u001b[0;32m    284\u001b[0m     \u001b[38;5;28;01mraise\u001b[39;00m e\n",
      "File \u001b[1;32m~\\.conda\\envs\\DLC\\lib\\site-packages\\deeplabcut\\pose_estimation_tensorflow\\core\\train.py:287\u001b[0m, in \u001b[0;36mtrain\u001b[1;34m(config_yaml, displayiters, saveiters, maxiters, max_to_keep, keepdeconvweights, allow_growth)\u001b[0m\n\u001b[0;32m    284\u001b[0m     current_lr \u001b[38;5;241m=\u001b[39m lr_gen\u001b[38;5;241m.\u001b[39mget_lr(it \u001b[38;5;241m-\u001b[39m start_iter)\n\u001b[0;32m    285\u001b[0m     lr_dict \u001b[38;5;241m=\u001b[39m {learning_rate: current_lr}\n\u001b[1;32m--> 287\u001b[0m [_, loss_val, summary] \u001b[38;5;241m=\u001b[39m \u001b[43msess\u001b[49m\u001b[38;5;241;43m.\u001b[39;49m\u001b[43mrun\u001b[49m\u001b[43m(\u001b[49m\n\u001b[0;32m    288\u001b[0m \u001b[43m    \u001b[49m\u001b[43m[\u001b[49m\u001b[43mtrain_op\u001b[49m\u001b[43m,\u001b[49m\u001b[43m \u001b[49m\u001b[43mtotal_loss\u001b[49m\u001b[43m,\u001b[49m\u001b[43m \u001b[49m\u001b[43mmerged_summaries\u001b[49m\u001b[43m]\u001b[49m\u001b[43m,\u001b[49m\u001b[43m \u001b[49m\u001b[43mfeed_dict\u001b[49m\u001b[38;5;241;43m=\u001b[39;49m\u001b[43mlr_dict\u001b[49m\n\u001b[0;32m    289\u001b[0m \u001b[43m\u001b[49m\u001b[43m)\u001b[49m\n\u001b[0;32m    290\u001b[0m cum_loss \u001b[38;5;241m+\u001b[39m\u001b[38;5;241m=\u001b[39m loss_val\n\u001b[0;32m    291\u001b[0m train_writer\u001b[38;5;241m.\u001b[39madd_summary(summary, it)\n",
      "File \u001b[1;32m~\\.conda\\envs\\DLC\\lib\\site-packages\\tensorflow\\python\\client\\session.py:968\u001b[0m, in \u001b[0;36mBaseSession.run\u001b[1;34m(self, fetches, feed_dict, options, run_metadata)\u001b[0m\n\u001b[0;32m    965\u001b[0m run_metadata_ptr \u001b[38;5;241m=\u001b[39m tf_session\u001b[38;5;241m.\u001b[39mTF_NewBuffer() \u001b[38;5;28;01mif\u001b[39;00m run_metadata \u001b[38;5;28;01melse\u001b[39;00m \u001b[38;5;28;01mNone\u001b[39;00m\n\u001b[0;32m    967\u001b[0m \u001b[38;5;28;01mtry\u001b[39;00m:\n\u001b[1;32m--> 968\u001b[0m   result \u001b[38;5;241m=\u001b[39m \u001b[38;5;28;43mself\u001b[39;49m\u001b[38;5;241;43m.\u001b[39;49m\u001b[43m_run\u001b[49m\u001b[43m(\u001b[49m\u001b[38;5;28;43;01mNone\u001b[39;49;00m\u001b[43m,\u001b[49m\u001b[43m \u001b[49m\u001b[43mfetches\u001b[49m\u001b[43m,\u001b[49m\u001b[43m \u001b[49m\u001b[43mfeed_dict\u001b[49m\u001b[43m,\u001b[49m\u001b[43m \u001b[49m\u001b[43moptions_ptr\u001b[49m\u001b[43m,\u001b[49m\n\u001b[0;32m    969\u001b[0m \u001b[43m                     \u001b[49m\u001b[43mrun_metadata_ptr\u001b[49m\u001b[43m)\u001b[49m\n\u001b[0;32m    970\u001b[0m   \u001b[38;5;28;01mif\u001b[39;00m run_metadata:\n\u001b[0;32m    971\u001b[0m     proto_data \u001b[38;5;241m=\u001b[39m tf_session\u001b[38;5;241m.\u001b[39mTF_GetBuffer(run_metadata_ptr)\n",
      "File \u001b[1;32m~\\.conda\\envs\\DLC\\lib\\site-packages\\tensorflow\\python\\client\\session.py:1191\u001b[0m, in \u001b[0;36mBaseSession._run\u001b[1;34m(self, handle, fetches, feed_dict, options, run_metadata)\u001b[0m\n\u001b[0;32m   1188\u001b[0m \u001b[38;5;66;03m# We only want to really perform the run if fetches or targets are provided,\u001b[39;00m\n\u001b[0;32m   1189\u001b[0m \u001b[38;5;66;03m# or if the call is a partial run that specifies feeds.\u001b[39;00m\n\u001b[0;32m   1190\u001b[0m \u001b[38;5;28;01mif\u001b[39;00m final_fetches \u001b[38;5;129;01mor\u001b[39;00m final_targets \u001b[38;5;129;01mor\u001b[39;00m (handle \u001b[38;5;129;01mand\u001b[39;00m feed_dict_tensor):\n\u001b[1;32m-> 1191\u001b[0m   results \u001b[38;5;241m=\u001b[39m \u001b[38;5;28;43mself\u001b[39;49m\u001b[38;5;241;43m.\u001b[39;49m\u001b[43m_do_run\u001b[49m\u001b[43m(\u001b[49m\u001b[43mhandle\u001b[49m\u001b[43m,\u001b[49m\u001b[43m \u001b[49m\u001b[43mfinal_targets\u001b[49m\u001b[43m,\u001b[49m\u001b[43m \u001b[49m\u001b[43mfinal_fetches\u001b[49m\u001b[43m,\u001b[49m\n\u001b[0;32m   1192\u001b[0m \u001b[43m                         \u001b[49m\u001b[43mfeed_dict_tensor\u001b[49m\u001b[43m,\u001b[49m\u001b[43m \u001b[49m\u001b[43moptions\u001b[49m\u001b[43m,\u001b[49m\u001b[43m \u001b[49m\u001b[43mrun_metadata\u001b[49m\u001b[43m)\u001b[49m\n\u001b[0;32m   1193\u001b[0m \u001b[38;5;28;01melse\u001b[39;00m:\n\u001b[0;32m   1194\u001b[0m   results \u001b[38;5;241m=\u001b[39m []\n",
      "File \u001b[1;32m~\\.conda\\envs\\DLC\\lib\\site-packages\\tensorflow\\python\\client\\session.py:1371\u001b[0m, in \u001b[0;36mBaseSession._do_run\u001b[1;34m(self, handle, target_list, fetch_list, feed_dict, options, run_metadata)\u001b[0m\n\u001b[0;32m   1368\u001b[0m   \u001b[38;5;28;01mreturn\u001b[39;00m \u001b[38;5;28mself\u001b[39m\u001b[38;5;241m.\u001b[39m_call_tf_sessionprun(handle, feed_dict, fetch_list)\n\u001b[0;32m   1370\u001b[0m \u001b[38;5;28;01mif\u001b[39;00m handle \u001b[38;5;129;01mis\u001b[39;00m \u001b[38;5;28;01mNone\u001b[39;00m:\n\u001b[1;32m-> 1371\u001b[0m   \u001b[38;5;28;01mreturn\u001b[39;00m \u001b[38;5;28;43mself\u001b[39;49m\u001b[38;5;241;43m.\u001b[39;49m\u001b[43m_do_call\u001b[49m\u001b[43m(\u001b[49m\u001b[43m_run_fn\u001b[49m\u001b[43m,\u001b[49m\u001b[43m \u001b[49m\u001b[43mfeeds\u001b[49m\u001b[43m,\u001b[49m\u001b[43m \u001b[49m\u001b[43mfetches\u001b[49m\u001b[43m,\u001b[49m\u001b[43m \u001b[49m\u001b[43mtargets\u001b[49m\u001b[43m,\u001b[49m\u001b[43m \u001b[49m\u001b[43moptions\u001b[49m\u001b[43m,\u001b[49m\n\u001b[0;32m   1372\u001b[0m \u001b[43m                       \u001b[49m\u001b[43mrun_metadata\u001b[49m\u001b[43m)\u001b[49m\n\u001b[0;32m   1373\u001b[0m \u001b[38;5;28;01melse\u001b[39;00m:\n\u001b[0;32m   1374\u001b[0m   \u001b[38;5;28;01mreturn\u001b[39;00m \u001b[38;5;28mself\u001b[39m\u001b[38;5;241m.\u001b[39m_do_call(_prun_fn, handle, feeds, fetches)\n",
      "File \u001b[1;32m~\\.conda\\envs\\DLC\\lib\\site-packages\\tensorflow\\python\\client\\session.py:1378\u001b[0m, in \u001b[0;36mBaseSession._do_call\u001b[1;34m(self, fn, *args)\u001b[0m\n\u001b[0;32m   1376\u001b[0m \u001b[38;5;28;01mdef\u001b[39;00m \u001b[38;5;21m_do_call\u001b[39m(\u001b[38;5;28mself\u001b[39m, fn, \u001b[38;5;241m*\u001b[39margs):\n\u001b[0;32m   1377\u001b[0m   \u001b[38;5;28;01mtry\u001b[39;00m:\n\u001b[1;32m-> 1378\u001b[0m     \u001b[38;5;28;01mreturn\u001b[39;00m \u001b[43mfn\u001b[49m\u001b[43m(\u001b[49m\u001b[38;5;241;43m*\u001b[39;49m\u001b[43margs\u001b[49m\u001b[43m)\u001b[49m\n\u001b[0;32m   1379\u001b[0m   \u001b[38;5;28;01mexcept\u001b[39;00m errors\u001b[38;5;241m.\u001b[39mOpError \u001b[38;5;28;01mas\u001b[39;00m e:\n\u001b[0;32m   1380\u001b[0m     message \u001b[38;5;241m=\u001b[39m compat\u001b[38;5;241m.\u001b[39mas_text(e\u001b[38;5;241m.\u001b[39mmessage)\n",
      "File \u001b[1;32m~\\.conda\\envs\\DLC\\lib\\site-packages\\tensorflow\\python\\client\\session.py:1361\u001b[0m, in \u001b[0;36mBaseSession._do_run.<locals>._run_fn\u001b[1;34m(feed_dict, fetch_list, target_list, options, run_metadata)\u001b[0m\n\u001b[0;32m   1358\u001b[0m \u001b[38;5;28;01mdef\u001b[39;00m \u001b[38;5;21m_run_fn\u001b[39m(feed_dict, fetch_list, target_list, options, run_metadata):\n\u001b[0;32m   1359\u001b[0m   \u001b[38;5;66;03m# Ensure any changes to the graph are reflected in the runtime.\u001b[39;00m\n\u001b[0;32m   1360\u001b[0m   \u001b[38;5;28mself\u001b[39m\u001b[38;5;241m.\u001b[39m_extend_graph()\n\u001b[1;32m-> 1361\u001b[0m   \u001b[38;5;28;01mreturn\u001b[39;00m \u001b[38;5;28;43mself\u001b[39;49m\u001b[38;5;241;43m.\u001b[39;49m\u001b[43m_call_tf_sessionrun\u001b[49m\u001b[43m(\u001b[49m\u001b[43moptions\u001b[49m\u001b[43m,\u001b[49m\u001b[43m \u001b[49m\u001b[43mfeed_dict\u001b[49m\u001b[43m,\u001b[49m\u001b[43m \u001b[49m\u001b[43mfetch_list\u001b[49m\u001b[43m,\u001b[49m\n\u001b[0;32m   1362\u001b[0m \u001b[43m                                  \u001b[49m\u001b[43mtarget_list\u001b[49m\u001b[43m,\u001b[49m\u001b[43m \u001b[49m\u001b[43mrun_metadata\u001b[49m\u001b[43m)\u001b[49m\n",
      "File \u001b[1;32m~\\.conda\\envs\\DLC\\lib\\site-packages\\tensorflow\\python\\client\\session.py:1454\u001b[0m, in \u001b[0;36mBaseSession._call_tf_sessionrun\u001b[1;34m(self, options, feed_dict, fetch_list, target_list, run_metadata)\u001b[0m\n\u001b[0;32m   1452\u001b[0m \u001b[38;5;28;01mdef\u001b[39;00m \u001b[38;5;21m_call_tf_sessionrun\u001b[39m(\u001b[38;5;28mself\u001b[39m, options, feed_dict, fetch_list, target_list,\n\u001b[0;32m   1453\u001b[0m                         run_metadata):\n\u001b[1;32m-> 1454\u001b[0m   \u001b[38;5;28;01mreturn\u001b[39;00m \u001b[43mtf_session\u001b[49m\u001b[38;5;241;43m.\u001b[39;49m\u001b[43mTF_SessionRun_wrapper\u001b[49m\u001b[43m(\u001b[49m\u001b[38;5;28;43mself\u001b[39;49m\u001b[38;5;241;43m.\u001b[39;49m\u001b[43m_session\u001b[49m\u001b[43m,\u001b[49m\u001b[43m \u001b[49m\u001b[43moptions\u001b[49m\u001b[43m,\u001b[49m\u001b[43m \u001b[49m\u001b[43mfeed_dict\u001b[49m\u001b[43m,\u001b[49m\n\u001b[0;32m   1455\u001b[0m \u001b[43m                                          \u001b[49m\u001b[43mfetch_list\u001b[49m\u001b[43m,\u001b[49m\u001b[43m \u001b[49m\u001b[43mtarget_list\u001b[49m\u001b[43m,\u001b[49m\n\u001b[0;32m   1456\u001b[0m \u001b[43m                                          \u001b[49m\u001b[43mrun_metadata\u001b[49m\u001b[43m)\u001b[49m\n",
      "\u001b[1;31mKeyboardInterrupt\u001b[0m: "
     ]
    }
   ],
   "source": [
    "deeplabcut.train_network(config_path, shuffle=1, gputouse=0, trainingsetindex=0, max_snapshots_to_keep=5, displayiters=200, saveiters=20000, maxiters=1030000, allow_growth=True)"
   ]
  },
  {
   "cell_type": "code",
   "execution_count": 7,
   "metadata": {},
   "outputs": [],
   "source": [
    "deeplabcut.train_network?"
   ]
  },
  {
   "cell_type": "markdown",
   "metadata": {},
   "source": [
    "### Evaluate Model"
   ]
  },
  {
   "cell_type": "code",
   "execution_count": 7,
   "metadata": {
    "collapsed": true,
    "jupyter": {
     "outputs_hidden": true
    }
   },
   "outputs": [
    {
     "name": "stdout",
     "output_type": "stream",
     "text": [
      "Running  DLC_resnet50_DLCDec25shuffle1_1140000  with # of training iterations: 1140000\n"
     ]
    },
    {
     "name": "stderr",
     "output_type": "stream",
     "text": [
      "C:\\Users\\FriedmanLab Optogen\\.conda\\envs\\DLC\\lib\\site-packages\\tensorflow\\python\\keras\\engine\\base_layer_v1.py:1694: UserWarning: `layer.apply` is deprecated and will be removed in a future version. Please use `layer.__call__` method instead.\n",
      "  warnings.warn('`layer.apply` is deprecated and '\n"
     ]
    },
    {
     "name": "stdout",
     "output_type": "stream",
     "text": [
      "Running evaluation ...\n"
     ]
    },
    {
     "name": "stderr",
     "output_type": "stream",
     "text": [
      "260it [00:19, 13.62it/s]\n"
     ]
    },
    {
     "name": "stdout",
     "output_type": "stream",
     "text": [
      "Analysis is done and the results are stored (see evaluation-results) for snapshot:  snapshot-1140000\n",
      "Results for 1140000  training iterations: 95 1 train error: 1.83 pixels. Test error: 2.72  pixels.\n",
      "With pcutoff of 0.6  train error: 1.83 pixels. Test error: 2.69 pixels\n",
      "Thereby, the errors are given by the average distances between the labels by DLC and the scorer.\n",
      "Plotting...\n"
     ]
    },
    {
     "name": "stderr",
     "output_type": "stream",
     "text": [
      "100%|██████████| 260/260 [01:03<00:00,  4.08it/s]"
     ]
    },
    {
     "name": "stdout",
     "output_type": "stream",
     "text": [
      "The network is evaluated and the results are stored in the subdirectory 'evaluation_results'.\n",
      "Please check the results, then choose the best model (snapshot) for prediction. You can update the config.yaml file with the appropriate index for the 'snapshotindex'.\n",
      "Use the function 'analyze_video' to make predictions on new videos.\n",
      "Otherwise, consider adding more labeled-data and retraining the network (see DeepLabCut workflow Fig 2, Nath 2019)\n"
     ]
    },
    {
     "name": "stderr",
     "output_type": "stream",
     "text": [
      "\n"
     ]
    },
    {
     "data": {
      "image/png": "[encoded data removed]",
      "text/plain": [
       "<Figure size 640x480 with 1 Axes>"
      ]
     },
     "metadata": {},
     "output_type": "display_data"
    }
   ],
   "source": [
    "deeplabcut.evaluate_network(config_path, Shuffles=[1], gputouse=0, plotting=True)"
   ]
  },
  {
   "cell_type": "markdown",
   "metadata": {},
   "source": [
    "### Analyze Videos"
   ]
  },
  {
   "cell_type": "code",
   "execution_count": 8,
   "metadata": {
    "collapsed": true,
    "jupyter": {
     "outputs_hidden": true
    }
   },
   "outputs": [
    {
     "name": "stdout",
     "output_type": "stream",
     "text": [
      "Using snapshot-1140000 for model C:/DeepLabCutProjects/DLC-Atanu-2024-12-25\\dlc-models\\iteration-3\\DLCDec25-trainset95shuffle1\n"
     ]
    },
    {
     "name": "stderr",
     "output_type": "stream",
     "text": [
      "C:\\Users\\FriedmanLab Optogen\\.conda\\envs\\DLC\\lib\\site-packages\\tensorflow\\python\\keras\\engine\\base_layer_v1.py:1694: UserWarning: `layer.apply` is deprecated and will be removed in a future version. Please use `layer.__call__` method instead.\n",
      "  warnings.warn('`layer.apply` is deprecated and '\n"
     ]
    },
    {
     "name": "stdout",
     "output_type": "stream",
     "text": [
      "Starting to analyze %  C:/DeepLabCutProjects/DLC-Atanu-2024-12-25/videos/Cre_WT_habituation_Trial_1_bottom_left.mp4\n",
      "Loading  C:/DeepLabCutProjects/DLC-Atanu-2024-12-25/videos/Cre_WT_habituation_Trial_1_bottom_left.mp4\n",
      "Duration of video [s]:  1200.68 , recorded with  25.0 fps!\n",
      "Overall # of frames:  30017  found with (before cropping) frame dimensions:  360 288\n",
      "Starting to extract posture\n"
     ]
    },
    {
     "name": "stderr",
     "output_type": "stream",
     "text": [
      "100%|██████████| 30017/30017 [07:37<00:00, 65.65it/s]\n"
     ]
    },
    {
     "name": "stdout",
     "output_type": "stream",
     "text": [
      "Saving results in C:\\DeepLabCutProjects\\DLC-Atanu-2024-12-25\\videos...\n",
      "Saving csv poses!\n",
      "Starting to analyze %  C:/DeepLabCutProjects/DLC-Atanu-2024-12-25/videos/Cre_WT_habituation_Trial_1_bottom_right.mp4\n",
      "Loading  C:/DeepLabCutProjects/DLC-Atanu-2024-12-25/videos/Cre_WT_habituation_Trial_1_bottom_right.mp4\n",
      "Duration of video [s]:  1200.68 , recorded with  25.0 fps!\n",
      "Overall # of frames:  30017  found with (before cropping) frame dimensions:  360 288\n",
      "Starting to extract posture\n"
     ]
    },
    {
     "name": "stderr",
     "output_type": "stream",
     "text": [
      "100%|██████████| 30017/30017 [07:40<00:00, 65.19it/s]\n"
     ]
    },
    {
     "name": "stdout",
     "output_type": "stream",
     "text": [
      "Saving results in C:\\DeepLabCutProjects\\DLC-Atanu-2024-12-25\\videos...\n",
      "Saving csv poses!\n",
      "Starting to analyze %  C:/DeepLabCutProjects/DLC-Atanu-2024-12-25/videos/Food_center_Trial_1_bottom_right.mp4\n",
      "Loading  C:/DeepLabCutProjects/DLC-Atanu-2024-12-25/videos/Food_center_Trial_1_bottom_right.mp4\n",
      "Duration of video [s]:  695.9 , recorded with  10.0 fps!\n",
      "Overall # of frames:  6959  found with (before cropping) frame dimensions:  640 480\n",
      "Starting to extract posture\n"
     ]
    },
    {
     "name": "stderr",
     "output_type": "stream",
     "text": [
      "100%|██████████| 6959/6959 [04:37<00:00, 25.10it/s]\n"
     ]
    },
    {
     "name": "stdout",
     "output_type": "stream",
     "text": [
      "Saving results in C:\\DeepLabCutProjects\\DLC-Atanu-2024-12-25\\videos...\n",
      "Saving csv poses!\n",
      "Starting to analyze %  C:/DeepLabCutProjects/DLC-Atanu-2024-12-25/videos/FPP_Trial_1_bottom_right.mp4\n",
      "Loading  C:/DeepLabCutProjects/DLC-Atanu-2024-12-25/videos/FPP_Trial_1_bottom_right.mp4\n",
      "Duration of video [s]:  1200.8 , recorded with  10.0 fps!\n",
      "Overall # of frames:  12008  found with (before cropping) frame dimensions:  640 480\n",
      "Starting to extract posture\n"
     ]
    },
    {
     "name": "stderr",
     "output_type": "stream",
     "text": [
      "100%|██████████| 12008/12008 [07:52<00:00, 25.42it/s]\n"
     ]
    },
    {
     "name": "stdout",
     "output_type": "stream",
     "text": [
      "Saving results in C:\\DeepLabCutProjects\\DLC-Atanu-2024-12-25\\videos...\n",
      "Saving csv poses!\n",
      "Starting to analyze %  C:/DeepLabCutProjects/DLC-Atanu-2024-12-25/videos/Toy_Light_Trial_1_bottom_right.mp4\n",
      "Loading  C:/DeepLabCutProjects/DLC-Atanu-2024-12-25/videos/Toy_Light_Trial_1_bottom_right.mp4\n",
      "Duration of video [s]:  1200.64 , recorded with  25.0 fps!\n",
      "Overall # of frames:  30016  found with (before cropping) frame dimensions:  360 288\n",
      "Starting to extract posture\n"
     ]
    },
    {
     "name": "stderr",
     "output_type": "stream",
     "text": [
      "100%|██████████| 30016/30016 [07:35<00:00, 65.85it/s]\n"
     ]
    },
    {
     "name": "stdout",
     "output_type": "stream",
     "text": [
      "Saving results in C:\\DeepLabCutProjects\\DLC-Atanu-2024-12-25\\videos...\n",
      "Saving csv poses!\n",
      "Starting to analyze %  C:/DeepLabCutProjects/DLC-Atanu-2024-12-25/videos/Trial_10_bottom_left.mp4\n",
      "Loading  C:/DeepLabCutProjects/DLC-Atanu-2024-12-25/videos/Trial_10_bottom_left.mp4\n",
      "Duration of video [s]:  37.6 , recorded with  10.0 fps!\n",
      "Overall # of frames:  376  found with (before cropping) frame dimensions:  640 480\n",
      "Starting to extract posture\n"
     ]
    },
    {
     "name": "stderr",
     "output_type": "stream",
     "text": [
      "100%|██████████| 376/376 [00:15<00:00, 24.77it/s]"
     ]
    },
    {
     "name": "stdout",
     "output_type": "stream",
     "text": [
      "Saving results in C:\\DeepLabCutProjects\\DLC-Atanu-2024-12-25\\videos...\n",
      "Saving csv poses!\n",
      "The videos are analyzed. Now your research can truly start! \n",
      " You can create labeled videos with 'create_labeled_video'\n",
      "If the tracking is not satisfactory for some videos, consider expanding the training set. You can use the function 'extract_outlier_frames' to extract a few representative outlier frames.\n"
     ]
    },
    {
     "name": "stderr",
     "output_type": "stream",
     "text": [
      "\n"
     ]
    },
    {
     "data": {
      "text/plain": [
       "'DLC_resnet50_DLCDec25shuffle1_1140000'"
      ]
     },
     "execution_count": 8,
     "metadata": {},
     "output_type": "execute_result"
    }
   ],
   "source": [
    "deeplabcut.analyze_videos(config_path, videolist, shuffle=1, save_as_csv=True) #, videotype='mp4')"
   ]
  },
  {
   "cell_type": "code",
   "execution_count": 12,
   "metadata": {},
   "outputs": [
    {
     "name": "stdout",
     "output_type": "stream",
     "text": [
      "Filtering with median model C:/DeepLabCutProjects/DLC-Atanu-2024-12-25/videos/Cre_WT_habituation_Trial_1_bottom_left.mp4\n",
      "Data from Cre_WT_habituation_Trial_1_bottom_left were already filtered. Skipping...\n",
      "Filtering with median model C:/DeepLabCutProjects/DLC-Atanu-2024-12-25/videos/Cre_WT_habituation_Trial_1_bottom_right.mp4\n",
      "Saving filtered csv poses!\n",
      "Filtering with median model C:/DeepLabCutProjects/DLC-Atanu-2024-12-25/videos/Food_center_Trial_1_bottom_right.mp4\n",
      "Saving filtered csv poses!\n",
      "Filtering with median model C:/DeepLabCutProjects/DLC-Atanu-2024-12-25/videos/FPP_Trial_1_bottom_right.mp4\n",
      "Saving filtered csv poses!\n",
      "Filtering with median model C:/DeepLabCutProjects/DLC-Atanu-2024-12-25/videos/Toy_Light_Trial_1_bottom_right.mp4\n",
      "Saving filtered csv poses!\n",
      "Filtering with median model C:/DeepLabCutProjects/DLC-Atanu-2024-12-25/videos/Trial_10_bottom_left.mp4\n",
      "Saving filtered csv poses!\n"
     ]
    }
   ],
   "source": [
    "deeplabcut.filterpredictions(config_path, videolist, videotype='.mp4',filtertype='median')#,filtertype='arima',ARdegree=5,MAdegree=2)"
   ]
  },
  {
   "cell_type": "code",
   "execution_count": 17,
   "metadata": {},
   "outputs": [],
   "source": [
    "deeplabcut.filterpredictions?"
   ]
  },
  {
   "cell_type": "code",
   "execution_count": 11,
   "metadata": {
    "collapsed": true,
    "jupyter": {
     "outputs_hidden": true
    }
   },
   "outputs": [
    {
     "name": "stdout",
     "output_type": "stream",
     "text": [
      "Processing C:/DeepLabCutProjects/DLC-Atanu-2024-12-25/videos/Cre_WT_habituation_Trial_1_bottom_left.mp4\n",
      "Skeleton in video Cre_WT_habituation_Trial_1_bottom_left already processed. Skipping...\n",
      "Processing C:/DeepLabCutProjects/DLC-Atanu-2024-12-25/videos/Food_center_Trial_1_bottom_left.mp4\n",
      "Skeleton in video Food_center_Trial_1_bottom_left already processed. Skipping...\n",
      "Processing C:/DeepLabCutProjects/DLC-Atanu-2024-12-25/videos/Food_center_Trial_1_top_left.mp4\n",
      "Skeleton in video Food_center_Trial_1_top_left already processed. Skipping...\n",
      "Processing C:/DeepLabCutProjects/DLC-Atanu-2024-12-25/videos/FPP_Trial_1_bottom_left.mp4\n",
      "Skeleton in video FPP_Trial_1_bottom_left already processed. Skipping...\n",
      "Processing C:/DeepLabCutProjects/DLC-Atanu-2024-12-25/videos/FPP_Trial_1_top_left.mp4\n",
      "Skeleton in video FPP_Trial_1_top_left already processed. Skipping...\n",
      "Processing C:/DeepLabCutProjects/DLC-Atanu-2024-12-25/videos/Toy_Light_Trial_1_bottom_right.mp4\n",
      "Skeleton in video Toy_Light_Trial_1_bottom_right already processed. Skipping...\n",
      "Processing C:/DeepLabCutProjects/DLC-Atanu-2024-12-25/videos/Trial_10_bottom_left.mp4\n",
      "Skeleton in video Trial_10_bottom_left already processed. Skipping...\n",
      "Processing C:/DeepLabCutProjects/DLC-Atanu-2024-12-25/videos/Trial_10_bottom_right.mp4\n",
      "Skeleton in video Trial_10_bottom_right already processed. Skipping...\n",
      "Processing C:/DeepLabCutProjects/DLC-Atanu-2024-12-25/videos/Trial_10_top_left.mp4\n",
      "Skeleton in video Trial_10_top_left already processed. Skipping...\n",
      "Processing C:/DeepLabCutProjects/DLC-Atanu-2024-12-25/videos/Trial_10_top_right.mp4\n",
      "Skeleton in video Trial_10_top_right already processed. Skipping...\n",
      "Processing C:/DeepLabCutProjects/DLC-Atanu-2024-12-25/videos/Trial_22_bottom_left.mp4\n",
      "Skeleton in video Trial_22_bottom_left already processed. Skipping...\n",
      "Processing C:/DeepLabCutProjects/DLC-Atanu-2024-12-25/videos/Trial_22_bottom_right.mp4\n",
      "Skeleton in video Trial_22_bottom_right already processed. Skipping...\n",
      "Processing C:/DeepLabCutProjects/DLC-Atanu-2024-12-25/videos/Trial_22_top_left.mp4\n",
      "Skeleton in video Trial_22_top_left already processed. Skipping...\n",
      "Processing C:/DeepLabCutProjects/DLC-Atanu-2024-12-25/videos/Trial_22_top_right.mp4\n",
      "Skeleton in video Trial_22_top_right already processed. Skipping...\n"
     ]
    }
   ],
   "source": [
    "deeplabcut.analyzeskeleton(config_path, videolist, videotype='.mp4', shuffle=1, trainingsetindex=0, save_as_csv=False, destfolder=None)"
   ]
  },
  {
   "cell_type": "markdown",
   "metadata": {},
   "source": [
    "### Create labeled videos"
   ]
  },
  {
   "cell_type": "code",
   "execution_count": 13,
   "metadata": {
    "collapsed": true,
    "jupyter": {
     "outputs_hidden": true,
     "source_hidden": true
    }
   },
   "outputs": [
    {
     "name": "stdout",
     "output_type": "stream",
     "text": [
      "Starting to process video: C:/DeepLabCutProjects/DLC-Atanu-2024-12-25/videos/Cre_WT_habituation_Trial_1_bottom_left.mp4\n",
      "Loading C:/DeepLabCutProjects/DLC-Atanu-2024-12-25/videos/Cre_WT_habituation_Trial_1_bottom_left.mp4 and data.\n",
      "Duration of video [s]: 1200.68, recorded with 25.0 fps!\n",
      "Overall # of frames: 30017 with cropped frame dimensions: 360 288\n",
      "Generating frames and creating video.\n"
     ]
    },
    {
     "name": "stderr",
     "output_type": "stream",
     "text": [
      "100%|██████████| 30017/30017 [01:51<00:00, 268.54it/s]\n"
     ]
    },
    {
     "name": "stdout",
     "output_type": "stream",
     "text": [
      "Starting to process video: C:/DeepLabCutProjects/DLC-Atanu-2024-12-25/videos/Food_center_Trial_1_bottom_right.mp4\n",
      "Loading C:/DeepLabCutProjects/DLC-Atanu-2024-12-25/videos/Food_center_Trial_1_bottom_right.mp4 and data.\n",
      "Duration of video [s]: 695.9, recorded with 10.0 fps!\n",
      "Overall # of frames: 6959 with cropped frame dimensions: 640 480\n",
      "Generating frames and creating video.\n"
     ]
    },
    {
     "name": "stderr",
     "output_type": "stream",
     "text": [
      "100%|██████████| 6959/6959 [00:39<00:00, 176.64it/s]\n"
     ]
    },
    {
     "name": "stdout",
     "output_type": "stream",
     "text": [
      "Starting to process video: C:/DeepLabCutProjects/DLC-Atanu-2024-12-25/videos/FPP_Trial_1_bottom_right.mp4\n",
      "Loading C:/DeepLabCutProjects/DLC-Atanu-2024-12-25/videos/FPP_Trial_1_bottom_right.mp4 and data.\n",
      "Duration of video [s]: 1200.8, recorded with 10.0 fps!\n",
      "Overall # of frames: 12008 with cropped frame dimensions: 640 480\n",
      "Generating frames and creating video.\n"
     ]
    },
    {
     "name": "stderr",
     "output_type": "stream",
     "text": [
      "100%|██████████| 12008/12008 [01:04<00:00, 186.93it/s]\n"
     ]
    },
    {
     "name": "stdout",
     "output_type": "stream",
     "text": [
      "Starting to process video: C:/DeepLabCutProjects/DLC-Atanu-2024-12-25/videos/Toy_Light_Trial_1_bottom_right.mp4\n",
      "Loading C:/DeepLabCutProjects/DLC-Atanu-2024-12-25/videos/Toy_Light_Trial_1_bottom_right.mp4 and data.\n",
      "Duration of video [s]: 1200.64, recorded with 25.0 fps!\n",
      "Overall # of frames: 30016 with cropped frame dimensions: 360 288\n",
      "Generating frames and creating video.\n"
     ]
    },
    {
     "name": "stderr",
     "output_type": "stream",
     "text": [
      "100%|██████████| 30016/30016 [01:58<00:00, 252.85it/s]\n"
     ]
    },
    {
     "name": "stdout",
     "output_type": "stream",
     "text": [
      "Starting to process video: C:/DeepLabCutProjects/DLC-Atanu-2024-12-25/videos/Trial_10_bottom_left.mp4\n",
      "Loading C:/DeepLabCutProjects/DLC-Atanu-2024-12-25/videos/Trial_10_bottom_left.mp4 and data.\n",
      "Duration of video [s]: 37.6, recorded with 10.0 fps!\n",
      "Overall # of frames: 376 with cropped frame dimensions: 640 480\n",
      "Generating frames and creating video.\n"
     ]
    },
    {
     "name": "stderr",
     "output_type": "stream",
     "text": [
      "100%|██████████| 376/376 [00:01<00:00, 197.03it/s]\n"
     ]
    },
    {
     "name": "stdout",
     "output_type": "stream",
     "text": [
      "Starting to process video: C:/DeepLabCutProjects/DLC-Atanu-2024-12-25/videos/Trial_10_bottom_right.mp4\n",
      "Loading C:/DeepLabCutProjects/DLC-Atanu-2024-12-25/videos/Trial_10_bottom_right.mp4 and data.\n",
      "Duration of video [s]: 37.6, recorded with 10.0 fps!\n",
      "Overall # of frames: 376 with cropped frame dimensions: 640 480\n",
      "Generating frames and creating video.\n"
     ]
    },
    {
     "name": "stderr",
     "output_type": "stream",
     "text": [
      "100%|██████████| 376/376 [00:01<00:00, 224.42it/s]\n"
     ]
    },
    {
     "name": "stdout",
     "output_type": "stream",
     "text": [
      "Starting to process video: C:/DeepLabCutProjects/DLC-Atanu-2024-12-25/videos/Trial_22_bottom_left.mp4\n",
      "Loading C:/DeepLabCutProjects/DLC-Atanu-2024-12-25/videos/Trial_22_bottom_left.mp4 and data.\n",
      "Duration of video [s]: 38.6, recorded with 10.0 fps!\n",
      "Overall # of frames: 386 with cropped frame dimensions: 640 480\n",
      "Generating frames and creating video.\n"
     ]
    },
    {
     "name": "stderr",
     "output_type": "stream",
     "text": [
      "100%|██████████| 386/386 [00:01<00:00, 195.52it/s]\n"
     ]
    },
    {
     "name": "stdout",
     "output_type": "stream",
     "text": [
      "Starting to process video: C:/DeepLabCutProjects/DLC-Atanu-2024-12-25/videos/Trial_22_bottom_right.mp4\n",
      "Loading C:/DeepLabCutProjects/DLC-Atanu-2024-12-25/videos/Trial_22_bottom_right.mp4 and data.\n",
      "Duration of video [s]: 38.6, recorded with 10.0 fps!\n",
      "Overall # of frames: 386 with cropped frame dimensions: 640 480\n",
      "Generating frames and creating video.\n"
     ]
    },
    {
     "name": "stderr",
     "output_type": "stream",
     "text": [
      "100%|██████████| 386/386 [00:01<00:00, 213.12it/s]\n"
     ]
    },
    {
     "data": {
      "text/plain": [
       "[True, True, True, True, True, True, True, True]"
      ]
     },
     "execution_count": 13,
     "metadata": {},
     "output_type": "execute_result"
    }
   ],
   "source": [
    "deeplabcut.create_labeled_video(config_path, videolist, filtered=False, draw_skeleton=True) #videotype='.mp4'"
   ]
  },
  {
   "cell_type": "code",
   "execution_count": 40,
   "metadata": {
    "scrolled": true
   },
   "outputs": [
    {
     "name": "stdout",
     "output_type": "stream",
     "text": [
      "Starting to process video: C:/DeepLabCutProjects/DLC-Atanu-2024-12-25/videos/Cre_WT_habituation_Trial_1_bottom_left.mp4\n",
      "Loading C:/DeepLabCutProjects/DLC-Atanu-2024-12-25/videos/Cre_WT_habituation_Trial_1_bottom_left.mp4 and data.\n",
      "Duration of video [s]: 1200.68, recorded with 25.0 fps!\n",
      "Overall # of frames: 30017 with cropped frame dimensions: 360 288\n",
      "Generating frames and creating video.\n"
     ]
    },
    {
     "name": "stderr",
     "output_type": "stream",
     "text": [
      "100%|██████████| 30017/30017 [22:22<00:00, 22.36it/s]\n"
     ]
    },
    {
     "name": "stdout",
     "output_type": "stream",
     "text": [
      "Labeled video C:\\DeepLabCutProjects\\DLC-Atanu-2024-12-25\\videos\\Cre_WT_habituation_Trial_1_bottom_leftDLC_resnet50_DLCDec25shuffle1_1200000_filtered_labeled.mp4 successfully created.\n",
      "Starting to process video: C:/DeepLabCutProjects/DLC-Atanu-2024-12-25/videos/Cre_WT_habituation_Trial_1_bottom_right.mp4\n",
      "Loading C:/DeepLabCutProjects/DLC-Atanu-2024-12-25/videos/Cre_WT_habituation_Trial_1_bottom_right.mp4 and data.\n",
      "Duration of video [s]: 1200.68, recorded with 25.0 fps!\n",
      "Overall # of frames: 30017 with cropped frame dimensions: 360 288\n",
      "Generating frames and creating video.\n"
     ]
    },
    {
     "name": "stderr",
     "output_type": "stream",
     "text": [
      "100%|██████████| 30017/30017 [26:07<00:00, 19.15it/s]\n"
     ]
    },
    {
     "name": "stdout",
     "output_type": "stream",
     "text": [
      "Labeled video C:\\DeepLabCutProjects\\DLC-Atanu-2024-12-25\\videos\\Cre_WT_habituation_Trial_1_bottom_rightDLC_resnet50_DLCDec25shuffle1_1200000_filtered_labeled.mp4 successfully created.\n",
      "Starting to process video: C:/DeepLabCutProjects/DLC-Atanu-2024-12-25/videos/Food_center_Trial_1_bottom_right.mp4\n",
      "Loading C:/DeepLabCutProjects/DLC-Atanu-2024-12-25/videos/Food_center_Trial_1_bottom_right.mp4 and data.\n",
      "Duration of video [s]: 695.9, recorded with 10.0 fps!\n",
      "Overall # of frames: 6959 with cropped frame dimensions: 640 480\n",
      "Generating frames and creating video.\n"
     ]
    },
    {
     "name": "stderr",
     "output_type": "stream",
     "text": [
      "100%|██████████| 6959/6959 [17:23<00:00,  6.67it/s]\n"
     ]
    },
    {
     "name": "stdout",
     "output_type": "stream",
     "text": [
      "Labeled video C:\\DeepLabCutProjects\\DLC-Atanu-2024-12-25\\videos\\Food_center_Trial_1_bottom_rightDLC_resnet50_DLCDec25shuffle1_1200000_filtered_labeled.mp4 successfully created.\n",
      "Starting to process video: C:/DeepLabCutProjects/DLC-Atanu-2024-12-25/videos/Food_center_Trial_1_top_left.mp4\n",
      "Loading C:/DeepLabCutProjects/DLC-Atanu-2024-12-25/videos/Food_center_Trial_1_top_left.mp4 and data.\n",
      "Duration of video [s]: 695.9, recorded with 10.0 fps!\n",
      "Overall # of frames: 6959 with cropped frame dimensions: 640 480\n",
      "Generating frames and creating video.\n"
     ]
    },
    {
     "name": "stderr",
     "output_type": "stream",
     "text": [
      "100%|██████████| 6959/6959 [15:05<00:00,  7.69it/s]\n"
     ]
    },
    {
     "name": "stdout",
     "output_type": "stream",
     "text": [
      "Labeled video C:\\DeepLabCutProjects\\DLC-Atanu-2024-12-25\\videos\\Food_center_Trial_1_top_leftDLC_resnet50_DLCDec25shuffle1_1200000_filtered_labeled.mp4 successfully created.\n",
      "Starting to process video: C:/DeepLabCutProjects/DLC-Atanu-2024-12-25/videos/FPP_Trial_1_bottom_right.mp4\n",
      "Loading C:/DeepLabCutProjects/DLC-Atanu-2024-12-25/videos/FPP_Trial_1_bottom_right.mp4 and data.\n",
      "Duration of video [s]: 1200.8, recorded with 10.0 fps!\n",
      "Overall # of frames: 12008 with cropped frame dimensions: 640 480\n",
      "Generating frames and creating video.\n"
     ]
    },
    {
     "name": "stderr",
     "output_type": "stream",
     "text": [
      "100%|██████████| 12008/12008 [24:21<00:00,  8.21it/s]\n"
     ]
    },
    {
     "name": "stdout",
     "output_type": "stream",
     "text": [
      "Labeled video C:\\DeepLabCutProjects\\DLC-Atanu-2024-12-25\\videos\\FPP_Trial_1_bottom_rightDLC_resnet50_DLCDec25shuffle1_1200000_filtered_labeled.mp4 successfully created.\n",
      "Starting to process video: C:/DeepLabCutProjects/DLC-Atanu-2024-12-25/videos/FPP_Trial_1_top_left.mp4\n",
      "Loading C:/DeepLabCutProjects/DLC-Atanu-2024-12-25/videos/FPP_Trial_1_top_left.mp4 and data.\n",
      "Duration of video [s]: 1200.8, recorded with 10.0 fps!\n",
      "Overall # of frames: 12008 with cropped frame dimensions: 640 480\n",
      "Generating frames and creating video.\n"
     ]
    },
    {
     "name": "stderr",
     "output_type": "stream",
     "text": [
      "100%|██████████| 12008/12008 [26:00<00:00,  7.69it/s]\n"
     ]
    },
    {
     "name": "stdout",
     "output_type": "stream",
     "text": [
      "Labeled video C:\\DeepLabCutProjects\\DLC-Atanu-2024-12-25\\videos\\FPP_Trial_1_top_leftDLC_resnet50_DLCDec25shuffle1_1200000_filtered_labeled.mp4 successfully created.\n",
      "Starting to process video: C:/DeepLabCutProjects/DLC-Atanu-2024-12-25/videos/Toy_Light_Trial_1_bottom_right.mp4\n",
      "Loading C:/DeepLabCutProjects/DLC-Atanu-2024-12-25/videos/Toy_Light_Trial_1_bottom_right.mp4 and data.\n",
      "Duration of video [s]: 1200.64, recorded with 25.0 fps!\n",
      "Overall # of frames: 30016 with cropped frame dimensions: 360 288\n",
      "Generating frames and creating video.\n"
     ]
    },
    {
     "name": "stderr",
     "output_type": "stream",
     "text": [
      "100%|██████████| 30016/30016 [32:16<00:00, 15.50it/s]\n"
     ]
    },
    {
     "name": "stdout",
     "output_type": "stream",
     "text": [
      "Labeled video C:\\DeepLabCutProjects\\DLC-Atanu-2024-12-25\\videos\\Toy_Light_Trial_1_bottom_rightDLC_resnet50_DLCDec25shuffle1_1200000_filtered_labeled.mp4 successfully created.\n",
      "Starting to process video: C:/DeepLabCutProjects/DLC-Atanu-2024-12-25/videos/Toy_only_Trial_1_bottom_left.mp4\n",
      "Loading C:/DeepLabCutProjects/DLC-Atanu-2024-12-25/videos/Toy_only_Trial_1_bottom_left.mp4 and data.\n",
      "Duration of video [s]: 1200.64, recorded with 25.0 fps!\n",
      "Overall # of frames: 30016 with cropped frame dimensions: 360 288\n",
      "Generating frames and creating video.\n"
     ]
    },
    {
     "name": "stderr",
     "output_type": "stream",
     "text": [
      "100%|██████████| 30016/30016 [31:35<00:00, 15.84it/s]\n"
     ]
    },
    {
     "name": "stdout",
     "output_type": "stream",
     "text": [
      "Labeled video C:\\DeepLabCutProjects\\DLC-Atanu-2024-12-25\\videos\\Toy_only_Trial_1_bottom_leftDLC_resnet50_DLCDec25shuffle1_1200000_filtered_labeled.mp4 successfully created.\n",
      "Starting to process video: C:/DeepLabCutProjects/DLC-Atanu-2024-12-25/videos/Trial_10_bottom_left.mp4\n",
      "Loading C:/DeepLabCutProjects/DLC-Atanu-2024-12-25/videos/Trial_10_bottom_left.mp4 and data.\n",
      "Duration of video [s]: 37.6, recorded with 10.0 fps!\n",
      "Overall # of frames: 376 with cropped frame dimensions: 640 480\n",
      "Generating frames and creating video.\n"
     ]
    },
    {
     "name": "stderr",
     "output_type": "stream",
     "text": [
      "100%|██████████| 376/376 [00:50<00:00,  7.40it/s]\n"
     ]
    },
    {
     "name": "stdout",
     "output_type": "stream",
     "text": [
      "Labeled video C:\\DeepLabCutProjects\\DLC-Atanu-2024-12-25\\videos\\Trial_10_bottom_leftDLC_resnet50_DLCDec25shuffle1_1200000_filtered_labeled.mp4 successfully created.\n",
      "Starting to process video: C:/DeepLabCutProjects/DLC-Atanu-2024-12-25/videos/Trial_10_bottom_right.mp4\n",
      "Loading C:/DeepLabCutProjects/DLC-Atanu-2024-12-25/videos/Trial_10_bottom_right.mp4 and data.\n",
      "Duration of video [s]: 37.6, recorded with 10.0 fps!\n",
      "Overall # of frames: 376 with cropped frame dimensions: 640 480\n",
      "Generating frames and creating video.\n"
     ]
    },
    {
     "name": "stderr",
     "output_type": "stream",
     "text": [
      "100%|██████████| 376/376 [00:45<00:00,  8.26it/s]\n"
     ]
    },
    {
     "name": "stdout",
     "output_type": "stream",
     "text": [
      "Labeled video C:\\DeepLabCutProjects\\DLC-Atanu-2024-12-25\\videos\\Trial_10_bottom_rightDLC_resnet50_DLCDec25shuffle1_1200000_filtered_labeled.mp4 successfully created.\n",
      "Starting to process video: C:/DeepLabCutProjects/DLC-Atanu-2024-12-25/videos/Trial_10_top_left.mp4\n",
      "Loading C:/DeepLabCutProjects/DLC-Atanu-2024-12-25/videos/Trial_10_top_left.mp4 and data.\n",
      "Duration of video [s]: 37.6, recorded with 10.0 fps!\n",
      "Overall # of frames: 376 with cropped frame dimensions: 640 480\n",
      "Generating frames and creating video.\n"
     ]
    },
    {
     "name": "stderr",
     "output_type": "stream",
     "text": [
      "100%|██████████| 376/376 [00:49<00:00,  7.54it/s]\n"
     ]
    },
    {
     "name": "stdout",
     "output_type": "stream",
     "text": [
      "Labeled video C:\\DeepLabCutProjects\\DLC-Atanu-2024-12-25\\videos\\Trial_10_top_leftDLC_resnet50_DLCDec25shuffle1_1200000_filtered_labeled.mp4 successfully created.\n",
      "Starting to process video: C:/DeepLabCutProjects/DLC-Atanu-2024-12-25/videos/Trial_10_top_right.mp4\n",
      "Loading C:/DeepLabCutProjects/DLC-Atanu-2024-12-25/videos/Trial_10_top_right.mp4 and data.\n",
      "Duration of video [s]: 37.6, recorded with 10.0 fps!\n",
      "Overall # of frames: 376 with cropped frame dimensions: 640 480\n",
      "Generating frames and creating video.\n"
     ]
    },
    {
     "name": "stderr",
     "output_type": "stream",
     "text": [
      "100%|██████████| 376/376 [00:59<00:00,  6.37it/s]\n"
     ]
    },
    {
     "name": "stdout",
     "output_type": "stream",
     "text": [
      "Labeled video C:\\DeepLabCutProjects\\DLC-Atanu-2024-12-25\\videos\\Trial_10_top_rightDLC_resnet50_DLCDec25shuffle1_1200000_filtered_labeled.mp4 successfully created.\n",
      "Starting to process video: C:/DeepLabCutProjects/DLC-Atanu-2024-12-25/videos/Trial_22_bottom_left.mp4\n",
      "Loading C:/DeepLabCutProjects/DLC-Atanu-2024-12-25/videos/Trial_22_bottom_left.mp4 and data.\n",
      "Duration of video [s]: 38.6, recorded with 10.0 fps!\n",
      "Overall # of frames: 386 with cropped frame dimensions: 640 480\n",
      "Generating frames and creating video.\n"
     ]
    },
    {
     "name": "stderr",
     "output_type": "stream",
     "text": [
      "100%|██████████| 386/386 [00:53<00:00,  7.27it/s]\n"
     ]
    },
    {
     "name": "stdout",
     "output_type": "stream",
     "text": [
      "Labeled video C:\\DeepLabCutProjects\\DLC-Atanu-2024-12-25\\videos\\Trial_22_bottom_leftDLC_resnet50_DLCDec25shuffle1_1200000_filtered_labeled.mp4 successfully created.\n",
      "Starting to process video: C:/DeepLabCutProjects/DLC-Atanu-2024-12-25/videos/Trial_22_bottom_right.mp4\n",
      "Loading C:/DeepLabCutProjects/DLC-Atanu-2024-12-25/videos/Trial_22_bottom_right.mp4 and data.\n",
      "Duration of video [s]: 38.6, recorded with 10.0 fps!\n",
      "Overall # of frames: 386 with cropped frame dimensions: 640 480\n",
      "Generating frames and creating video.\n"
     ]
    },
    {
     "name": "stderr",
     "output_type": "stream",
     "text": [
      "100%|██████████| 386/386 [00:51<00:00,  7.53it/s]\n"
     ]
    },
    {
     "name": "stdout",
     "output_type": "stream",
     "text": [
      "Labeled video C:\\DeepLabCutProjects\\DLC-Atanu-2024-12-25\\videos\\Trial_22_bottom_rightDLC_resnet50_DLCDec25shuffle1_1200000_filtered_labeled.mp4 successfully created.\n",
      "Starting to process video: C:/DeepLabCutProjects/DLC-Atanu-2024-12-25/videos/Trial_22_top_left.mp4\n",
      "Loading C:/DeepLabCutProjects/DLC-Atanu-2024-12-25/videos/Trial_22_top_left.mp4 and data.\n",
      "Duration of video [s]: 38.6, recorded with 10.0 fps!\n",
      "Overall # of frames: 386 with cropped frame dimensions: 640 480\n",
      "Generating frames and creating video.\n"
     ]
    },
    {
     "name": "stderr",
     "output_type": "stream",
     "text": [
      "100%|██████████| 386/386 [00:54<00:00,  7.14it/s]\n"
     ]
    },
    {
     "name": "stdout",
     "output_type": "stream",
     "text": [
      "Labeled video C:\\DeepLabCutProjects\\DLC-Atanu-2024-12-25\\videos\\Trial_22_top_leftDLC_resnet50_DLCDec25shuffle1_1200000_filtered_labeled.mp4 successfully created.\n",
      "Starting to process video: C:/DeepLabCutProjects/DLC-Atanu-2024-12-25/videos/Trial_22_top_right.mp4\n",
      "Loading C:/DeepLabCutProjects/DLC-Atanu-2024-12-25/videos/Trial_22_top_right.mp4 and data.\n",
      "Duration of video [s]: 38.6, recorded with 10.0 fps!\n",
      "Overall # of frames: 386 with cropped frame dimensions: 640 480\n",
      "Generating frames and creating video.\n"
     ]
    },
    {
     "name": "stderr",
     "output_type": "stream",
     "text": [
      "100%|██████████| 386/386 [01:00<00:00,  6.40it/s]\n"
     ]
    },
    {
     "name": "stdout",
     "output_type": "stream",
     "text": [
      "Labeled video C:\\DeepLabCutProjects\\DLC-Atanu-2024-12-25\\videos\\Trial_22_top_rightDLC_resnet50_DLCDec25shuffle1_1200000_filtered_labeled.mp4 successfully created.\n"
     ]
    },
    {
     "data": {
      "text/plain": [
       "[True,\n",
       " True,\n",
       " True,\n",
       " True,\n",
       " True,\n",
       " True,\n",
       " True,\n",
       " True,\n",
       " True,\n",
       " True,\n",
       " True,\n",
       " True,\n",
       " True,\n",
       " True,\n",
       " True,\n",
       " True]"
      ]
     },
     "execution_count": 40,
     "metadata": {},
     "output_type": "execute_result"
    }
   ],
   "source": [
    "deeplabcut.create_labeled_video(config_path, videolist, filtered=True, save_frames=True, draw_skeleton=True) # ['fullpath/afolderofvideos']"
   ]
  },
  {
   "cell_type": "code",
   "execution_count": 7,
   "metadata": {},
   "outputs": [],
   "source": [
    "deeplabcut.create_labeled_video?"
   ]
  },
  {
   "cell_type": "code",
   "execution_count": 41,
   "metadata": {
    "collapsed": true,
    "jupyter": {
     "outputs_hidden": true
    }
   },
   "outputs": [
    {
     "name": "stdout",
     "output_type": "stream",
     "text": [
      "Loading  C:/DeepLabCutProjects/DLC-Atanu-2024-12-25/videos/Cre_WT_habituation_Trial_1_bottom_left.mp4 and data.\n",
      "Loading  C:/DeepLabCutProjects/DLC-Atanu-2024-12-25/videos/Cre_WT_habituation_Trial_1_bottom_right.mp4 and data.\n",
      "Loading  C:/DeepLabCutProjects/DLC-Atanu-2024-12-25/videos/Food_center_Trial_1_bottom_right.mp4 and data.\n",
      "Loading  C:/DeepLabCutProjects/DLC-Atanu-2024-12-25/videos/Food_center_Trial_1_top_left.mp4 and data.\n",
      "Loading  C:/DeepLabCutProjects/DLC-Atanu-2024-12-25/videos/FPP_Trial_1_bottom_right.mp4 and data.\n",
      "Loading  C:/DeepLabCutProjects/DLC-Atanu-2024-12-25/videos/FPP_Trial_1_top_left.mp4 and data.\n",
      "Loading  C:/DeepLabCutProjects/DLC-Atanu-2024-12-25/videos/Toy_Light_Trial_1_bottom_right.mp4 and data.\n",
      "Loading  C:/DeepLabCutProjects/DLC-Atanu-2024-12-25/videos/Toy_only_Trial_1_bottom_left.mp4 and data.\n",
      "Loading  C:/DeepLabCutProjects/DLC-Atanu-2024-12-25/videos/Trial_10_bottom_left.mp4 and data.\n",
      "Loading  C:/DeepLabCutProjects/DLC-Atanu-2024-12-25/videos/Trial_10_bottom_right.mp4 and data.\n",
      "Loading  C:/DeepLabCutProjects/DLC-Atanu-2024-12-25/videos/Trial_10_top_left.mp4 and data.\n",
      "Loading  C:/DeepLabCutProjects/DLC-Atanu-2024-12-25/videos/Trial_10_top_right.mp4 and data.\n",
      "Loading  C:/DeepLabCutProjects/DLC-Atanu-2024-12-25/videos/Trial_22_bottom_left.mp4 and data.\n",
      "Loading  C:/DeepLabCutProjects/DLC-Atanu-2024-12-25/videos/Trial_22_bottom_right.mp4 and data.\n",
      "Loading  C:/DeepLabCutProjects/DLC-Atanu-2024-12-25/videos/Trial_22_top_left.mp4 and data.\n",
      "Loading  C:/DeepLabCutProjects/DLC-Atanu-2024-12-25/videos/Trial_22_top_right.mp4 and data.\n",
      "Plots created! Please check the directory \"plot-poses\" within the video directory\n"
     ]
    }
   ],
   "source": [
    "deeplabcut.plot_trajectories(config_path, videolist)"
   ]
  },
  {
   "cell_type": "markdown",
   "metadata": {},
   "source": [
    "## Load Existing Model"
   ]
  },
  {
   "cell_type": "code",
   "execution_count": 4,
   "metadata": {},
   "outputs": [
    {
     "name": "stdout",
     "output_type": "stream",
     "text": [
      "Using project path: C:/DeepLabCutProjects/DLC-Atanu-2024-12-25/config.yaml\n"
     ]
    }
   ],
   "source": [
    "config_path = filedialog.askopenfilename(title='Choose the config.yaml file of your DeepLabCut project:')\n",
    "\n",
    "print(f'Using project path: {config_path}')"
   ]
  },
  {
   "cell_type": "markdown",
   "metadata": {},
   "source": [
    "Load new videos to analyze and/or merge to the project:"
   ]
  },
  {
   "cell_type": "code",
   "execution_count": 19,
   "metadata": {},
   "outputs": [
    {
     "name": "stdout",
     "output_type": "stream",
     "text": [
      "2 videos selected:\n",
      "C:/DeepLabCutProjects/DLC-Atanu-2024-12-25/Videos-to-analyze/Cre_and_WT_Habituation_Food_and_Maze_1_3_24_S2_E_L_G_H_Trial_1_bottom_left.mp4\n",
      "C:/DeepLabCutProjects/DLC-Atanu-2024-12-25/Videos-to-analyze/Cre_and_WT_Habituation_Food_and_Maze_1_3_24_S2_E_L_G_H_Trial_1_bottom_right.mp4\n"
     ]
    }
   ],
   "source": [
    "video_files = filedialog.askopenfilenames(title='Choose new video files to analyze in DeepLabCut:')\n",
    "new_videos = list(video_files)\n",
    "\n",
    "print(f'{len(new_videos)} videos selected:')\n",
    "for i in range(len(new_videos)): \n",
    "    print(new_videos[i])"
   ]
  },
  {
   "cell_type": "markdown",
   "metadata": {},
   "source": [
    "### Instead of selecting videos manually you can select the whole directory"
   ]
  },
  {
   "cell_type": "code",
   "execution_count": 8,
   "metadata": {},
   "outputs": [
    {
     "name": "stdout",
     "output_type": "stream",
     "text": [
      "292\n"
     ]
    }
   ],
   "source": [
    "# Define the directory paths\n",
    "import os\n",
    "\n",
    "video_dir = r'C:\\DeepLabCutProjects\\DLC-Atanu-2024-12-25\\Videos-to-analyze-temp'\n",
    "\n",
    "# Get a list of all video files in the directory (assuming common video formats)\n",
    "video_extensions = ('.mp4', '.avi', '.mov', '.mkv')\n",
    "new_videos = [os.path.join(video_dir, f) for f in os.listdir(video_dir) if f.lower().endswith(video_extensions)]\n",
    "print(len(new_videos))"
   ]
  },
  {
   "cell_type": "markdown",
   "metadata": {},
   "source": [
    "### Analyze new videos with the previously trained model"
   ]
  },
  {
   "cell_type": "markdown",
   "metadata": {},
   "source": [
    "The analysis results in this step will most probably not look as desired, but this is to be expected. Bare in mind, that we are trying to analyze new, unseen videos with a model trained on different data (i.e., either other individuals, other sessions and maybe even different light conditions or camera angles). The goal of this step is to find out where the model fails to generalize and cover this shortcomings."
   ]
  },
  {
   "cell_type": "code",
   "execution_count": 29,
   "metadata": {
    "collapsed": true,
    "jupyter": {
     "outputs_hidden": true
    },
    "scrolled": true
   },
   "outputs": [
    {
     "name": "stdout",
     "output_type": "stream",
     "text": [
      "Using snapshot-380000 for model C:/DeepLabCutProjects/DLC-Atanu-2024-12-25\\dlc-models\\iteration-0\\DLCDec25-trainset95shuffle1\n"
     ]
    },
    {
     "name": "stderr",
     "output_type": "stream",
     "text": [
      "C:\\Users\\FriedmanLab Optogen\\.conda\\envs\\DLC\\lib\\site-packages\\tensorflow\\python\\keras\\engine\\base_layer_v1.py:1694: UserWarning: `layer.apply` is deprecated and will be removed in a future version. Please use `layer.__call__` method instead.\n",
      "  warnings.warn('`layer.apply` is deprecated and '\n"
     ]
    },
    {
     "name": "stdout",
     "output_type": "stream",
     "text": [
      "Starting to analyze %  C:/DeepLabCutProjects/DLC-Atanu-2024-12-25/videos/Trial_10_top_left.mp4\n",
      "Loading  C:/DeepLabCutProjects/DLC-Atanu-2024-12-25/videos/Trial_10_top_left.mp4\n",
      "Duration of video [s]:  37.6 , recorded with  10.0 fps!\n",
      "Overall # of frames:  376  found with (before cropping) frame dimensions:  640 480\n",
      "Starting to extract posture\n"
     ]
    },
    {
     "name": "stderr",
     "output_type": "stream",
     "text": [
      "100%|██████████| 376/376 [00:13<00:00, 27.28it/s]"
     ]
    },
    {
     "name": "stdout",
     "output_type": "stream",
     "text": [
      "Saving results in C:\\DeepLabCutProjects\\DLC-Atanu-2024-12-25\\videos...\n",
      "Saving csv poses!\n",
      "The videos are analyzed. Now your research can truly start! \n",
      " You can create labeled videos with 'create_labeled_video'\n",
      "If the tracking is not satisfactory for some videos, consider expanding the training set. You can use the function 'extract_outlier_frames' to extract a few representative outlier frames.\n"
     ]
    },
    {
     "name": "stderr",
     "output_type": "stream",
     "text": [
      "\n"
     ]
    },
    {
     "data": {
      "text/plain": [
       "'DLC_resnet50_DLCDec25shuffle1_380000'"
      ]
     },
     "execution_count": 29,
     "metadata": {},
     "output_type": "execute_result"
    }
   ],
   "source": [
    "deeplabcut.analyze_videos(config_path, new_videos, shuffle=1, save_as_csv=True, videotype='mp4')"
   ]
  },
  {
   "cell_type": "markdown",
   "metadata": {},
   "source": [
    "### Specify the location where you want to save csv files"
   ]
  },
  {
   "cell_type": "code",
   "execution_count": null,
   "metadata": {},
   "outputs": [
    {
     "name": "stdout",
     "output_type": "stream",
     "text": [
      "Using snapshot-1140000 for model C:/DeepLabCutProjects/DLC-Atanu-2024-12-25\\dlc-models\\iteration-3\\DLCDec25-trainset95shuffle1\n"
     ]
    },
    {
     "name": "stderr",
     "output_type": "stream",
     "text": [
      "C:\\Users\\FriedmanLab Optogen\\.conda\\envs\\DLC\\lib\\site-packages\\tensorflow\\python\\keras\\engine\\base_layer_v1.py:1694: UserWarning: `layer.apply` is deprecated and will be removed in a future version. Please use `layer.__call__` method instead.\n",
      "  warnings.warn('`layer.apply` is deprecated and '\n"
     ]
    },
    {
     "name": "stdout",
     "output_type": "stream",
     "text": [
      "Starting to analyze %  C:\\DeepLabCutProjects\\DLC-Atanu-2024-12-25\\Videos-to-analyze-temp\\Food_Only_Dwarves_3_3_25_S1_Y_CNO__Dopey_Grumpy_Sneezy_Doc_Trial_1_bottom_left.mp4\n",
      "Loading  C:\\DeepLabCutProjects\\DLC-Atanu-2024-12-25\\Videos-to-analyze-temp\\Food_Only_Dwarves_3_3_25_S1_Y_CNO__Dopey_Grumpy_Sneezy_Doc_Trial_1_bottom_left.mp4\n",
      "Duration of video [s]:  1200.68 , recorded with  25.0 fps!\n",
      "Overall # of frames:  30017  found with (before cropping) frame dimensions:  360 288\n",
      "Starting to extract posture\n"
     ]
    },
    {
     "name": "stderr",
     "output_type": "stream",
     "text": [
      "100%|██████████| 30017/30017 [07:43<00:00, 64.82it/s]\n"
     ]
    },
    {
     "name": "stdout",
     "output_type": "stream",
     "text": [
      "Saving results in C:/DeepLabCutProjects/DLC-Atanu-2024-12-25/Analyzed-videos-temp/...\n",
      "Saving csv poses!\n",
      "Starting to analyze %  C:\\DeepLabCutProjects\\DLC-Atanu-2024-12-25\\Videos-to-analyze-temp\\Food_Only_Dwarves_3_3_25_S1_Y_CNO__Dopey_Grumpy_Sneezy_Doc_Trial_1_bottom_right.mp4\n",
      "Loading  C:\\DeepLabCutProjects\\DLC-Atanu-2024-12-25\\Videos-to-analyze-temp\\Food_Only_Dwarves_3_3_25_S1_Y_CNO__Dopey_Grumpy_Sneezy_Doc_Trial_1_bottom_right.mp4\n",
      "Duration of video [s]:  1200.68 , recorded with  25.0 fps!\n",
      "Overall # of frames:  30017  found with (before cropping) frame dimensions:  360 288\n",
      "Starting to extract posture\n"
     ]
    },
    {
     "name": "stderr",
     "output_type": "stream",
     "text": [
      "100%|██████████| 30017/30017 [07:36<00:00, 65.77it/s]\n"
     ]
    },
    {
     "name": "stdout",
     "output_type": "stream",
     "text": [
      "Saving results in C:/DeepLabCutProjects/DLC-Atanu-2024-12-25/Analyzed-videos-temp/...\n",
      "Saving csv poses!\n",
      "Starting to analyze %  C:\\DeepLabCutProjects\\DLC-Atanu-2024-12-25\\Videos-to-analyze-temp\\Food_Only_Dwarves_3_3_25_S1_Y_CNO__Dopey_Grumpy_Sneezy_Doc_Trial_1_top_left.mp4\n",
      "Loading  C:\\DeepLabCutProjects\\DLC-Atanu-2024-12-25\\Videos-to-analyze-temp\\Food_Only_Dwarves_3_3_25_S1_Y_CNO__Dopey_Grumpy_Sneezy_Doc_Trial_1_top_left.mp4\n",
      "Duration of video [s]:  1200.68 , recorded with  25.0 fps!\n",
      "Overall # of frames:  30017  found with (before cropping) frame dimensions:  360 288\n",
      "Starting to extract posture\n"
     ]
    },
    {
     "name": "stderr",
     "output_type": "stream",
     "text": [
      "100%|██████████| 30017/30017 [07:36<00:00, 65.76it/s]\n"
     ]
    },
    {
     "name": "stdout",
     "output_type": "stream",
     "text": [
      "Saving results in C:/DeepLabCutProjects/DLC-Atanu-2024-12-25/Analyzed-videos-temp/...\n",
      "Saving csv poses!\n",
      "Starting to analyze %  C:\\DeepLabCutProjects\\DLC-Atanu-2024-12-25\\Videos-to-analyze-temp\\Food_Only_Dwarves_3_3_25_S1_Y_CNO__Dopey_Grumpy_Sneezy_Doc_Trial_1_top_right.mp4\n",
      "Loading  C:\\DeepLabCutProjects\\DLC-Atanu-2024-12-25\\Videos-to-analyze-temp\\Food_Only_Dwarves_3_3_25_S1_Y_CNO__Dopey_Grumpy_Sneezy_Doc_Trial_1_top_right.mp4\n",
      "Duration of video [s]:  1200.68 , recorded with  25.0 fps!\n",
      "Overall # of frames:  30017  found with (before cropping) frame dimensions:  360 288\n",
      "Starting to extract posture\n"
     ]
    },
    {
     "name": "stderr",
     "output_type": "stream",
     "text": [
      "100%|██████████| 30017/30017 [07:41<00:00, 65.02it/s]\n"
     ]
    },
    {
     "name": "stdout",
     "output_type": "stream",
     "text": [
      "Saving results in C:/DeepLabCutProjects/DLC-Atanu-2024-12-25/Analyzed-videos-temp/...\n",
      "Saving csv poses!\n",
      "Starting to analyze %  C:\\DeepLabCutProjects\\DLC-Atanu-2024-12-25\\Videos-to-analyze-temp\\Food_Only_Dwarves_3_3_25_S2_Y_CNO__Bashful_Happy_Sleepy_None_4_Trial_1_bottom_left.mp4\n",
      "Loading  C:\\DeepLabCutProjects\\DLC-Atanu-2024-12-25\\Videos-to-analyze-temp\\Food_Only_Dwarves_3_3_25_S2_Y_CNO__Bashful_Happy_Sleepy_None_4_Trial_1_bottom_left.mp4\n",
      "Duration of video [s]:  1200.72 , recorded with  25.0 fps!\n",
      "Overall # of frames:  30018  found with (before cropping) frame dimensions:  360 288\n",
      "Starting to extract posture\n"
     ]
    },
    {
     "name": "stderr",
     "output_type": "stream",
     "text": [
      "100%|██████████| 30018/30018 [07:43<00:00, 64.72it/s]\n"
     ]
    },
    {
     "name": "stdout",
     "output_type": "stream",
     "text": [
      "Saving results in C:/DeepLabCutProjects/DLC-Atanu-2024-12-25/Analyzed-videos-temp/...\n",
      "Saving csv poses!\n",
      "Starting to analyze %  C:\\DeepLabCutProjects\\DLC-Atanu-2024-12-25\\Videos-to-analyze-temp\\Food_Only_Dwarves_3_3_25_S2_Y_CNO__Bashful_Happy_Sleepy_None_4_Trial_1_bottom_right.mp4\n",
      "Loading  C:\\DeepLabCutProjects\\DLC-Atanu-2024-12-25\\Videos-to-analyze-temp\\Food_Only_Dwarves_3_3_25_S2_Y_CNO__Bashful_Happy_Sleepy_None_4_Trial_1_bottom_right.mp4\n",
      "Duration of video [s]:  1200.72 , recorded with  25.0 fps!\n",
      "Overall # of frames:  30018  found with (before cropping) frame dimensions:  360 288\n",
      "Starting to extract posture\n"
     ]
    },
    {
     "name": "stderr",
     "output_type": "stream",
     "text": [
      "100%|██████████| 30018/30018 [07:42<00:00, 64.89it/s]\n"
     ]
    },
    {
     "name": "stdout",
     "output_type": "stream",
     "text": [
      "Saving results in C:/DeepLabCutProjects/DLC-Atanu-2024-12-25/Analyzed-videos-temp/...\n",
      "Saving csv poses!\n",
      "Starting to analyze %  C:\\DeepLabCutProjects\\DLC-Atanu-2024-12-25\\Videos-to-analyze-temp\\Food_Only_Dwarves_3_3_25_S2_Y_CNO__Bashful_Happy_Sleepy_None_4_Trial_1_top_left.mp4\n",
      "Loading  C:\\DeepLabCutProjects\\DLC-Atanu-2024-12-25\\Videos-to-analyze-temp\\Food_Only_Dwarves_3_3_25_S2_Y_CNO__Bashful_Happy_Sleepy_None_4_Trial_1_top_left.mp4\n",
      "Duration of video [s]:  1200.72 , recorded with  25.0 fps!\n",
      "Overall # of frames:  30018  found with (before cropping) frame dimensions:  360 288\n",
      "Starting to extract posture\n"
     ]
    },
    {
     "name": "stderr",
     "output_type": "stream",
     "text": [
      "100%|██████████| 30018/30018 [07:40<00:00, 65.20it/s]\n"
     ]
    },
    {
     "name": "stdout",
     "output_type": "stream",
     "text": [
      "Saving results in C:/DeepLabCutProjects/DLC-Atanu-2024-12-25/Analyzed-videos-temp/...\n",
      "Saving csv poses!\n",
      "Starting to analyze %  C:\\DeepLabCutProjects\\DLC-Atanu-2024-12-25\\Videos-to-analyze-temp\\Food_Only_Dwarves_3_3_25_S2_Y_CNO__Bashful_Happy_Sleepy_None_4_Trial_1_top_right.mp4\n",
      "Loading  C:\\DeepLabCutProjects\\DLC-Atanu-2024-12-25\\Videos-to-analyze-temp\\Food_Only_Dwarves_3_3_25_S2_Y_CNO__Bashful_Happy_Sleepy_None_4_Trial_1_top_right.mp4\n",
      "Duration of video [s]:  1200.72 , recorded with  25.0 fps!\n",
      "Overall # of frames:  30018  found with (before cropping) frame dimensions:  360 288\n",
      "Starting to extract posture\n"
     ]
    },
    {
     "name": "stderr",
     "output_type": "stream",
     "text": [
      "100%|██████████| 30018/30018 [07:43<00:00, 64.74it/s]\n"
     ]
    },
    {
     "name": "stdout",
     "output_type": "stream",
     "text": [
      "Saving results in C:/DeepLabCutProjects/DLC-Atanu-2024-12-25/Analyzed-videos-temp/...\n",
      "Saving csv poses!\n",
      "Starting to analyze %  C:\\DeepLabCutProjects\\DLC-Atanu-2024-12-25\\Videos-to-analyze-temp\\Food_Only_Dwarves_3_3_25_S3_Y_CNO__Roy_Sam_None_3_None_4_Trial_1_bottom_left.mp4\n",
      "Loading  C:\\DeepLabCutProjects\\DLC-Atanu-2024-12-25\\Videos-to-analyze-temp\\Food_Only_Dwarves_3_3_25_S3_Y_CNO__Roy_Sam_None_3_None_4_Trial_1_bottom_left.mp4\n",
      "Duration of video [s]:  1200.6 , recorded with  25.0 fps!\n",
      "Overall # of frames:  30015  found with (before cropping) frame dimensions:  360 288\n",
      "Starting to extract posture\n"
     ]
    },
    {
     "name": "stderr",
     "output_type": "stream",
     "text": [
      "100%|██████████| 30015/30015 [07:43<00:00, 64.74it/s]\n"
     ]
    },
    {
     "name": "stdout",
     "output_type": "stream",
     "text": [
      "Saving results in C:/DeepLabCutProjects/DLC-Atanu-2024-12-25/Analyzed-videos-temp/...\n",
      "Saving csv poses!\n",
      "Starting to analyze %  C:\\DeepLabCutProjects\\DLC-Atanu-2024-12-25\\Videos-to-analyze-temp\\Food_Only_Dwarves_3_3_25_S3_Y_CNO__Roy_Sam_None_3_None_4_Trial_1_bottom_right.mp4\n",
      "Loading  C:\\DeepLabCutProjects\\DLC-Atanu-2024-12-25\\Videos-to-analyze-temp\\Food_Only_Dwarves_3_3_25_S3_Y_CNO__Roy_Sam_None_3_None_4_Trial_1_bottom_right.mp4\n",
      "Duration of video [s]:  1200.6 , recorded with  25.0 fps!\n",
      "Overall # of frames:  30015  found with (before cropping) frame dimensions:  360 288\n",
      "Starting to extract posture\n"
     ]
    },
    {
     "name": "stderr",
     "output_type": "stream",
     "text": [
      "100%|██████████| 30015/30015 [07:43<00:00, 64.70it/s]\n"
     ]
    },
    {
     "name": "stdout",
     "output_type": "stream",
     "text": [
      "Saving results in C:/DeepLabCutProjects/DLC-Atanu-2024-12-25/Analyzed-videos-temp/...\n",
      "Saving csv poses!\n",
      "Starting to analyze %  C:\\DeepLabCutProjects\\DLC-Atanu-2024-12-25\\Videos-to-analyze-temp\\Food_Only_Dwarves_3_3_25_S3_Y_CNO__Roy_Sam_None_3_None_4_Trial_1_top_left.mp4\n",
      "Loading  C:\\DeepLabCutProjects\\DLC-Atanu-2024-12-25\\Videos-to-analyze-temp\\Food_Only_Dwarves_3_3_25_S3_Y_CNO__Roy_Sam_None_3_None_4_Trial_1_top_left.mp4\n",
      "Duration of video [s]:  1200.6 , recorded with  25.0 fps!\n",
      "Overall # of frames:  30015  found with (before cropping) frame dimensions:  360 288\n",
      "Starting to extract posture\n"
     ]
    },
    {
     "name": "stderr",
     "output_type": "stream",
     "text": [
      "100%|██████████| 30015/30015 [07:43<00:00, 64.75it/s]\n"
     ]
    },
    {
     "name": "stdout",
     "output_type": "stream",
     "text": [
      "Saving results in C:/DeepLabCutProjects/DLC-Atanu-2024-12-25/Analyzed-videos-temp/...\n",
      "Saving csv poses!\n",
      "Starting to analyze %  C:\\DeepLabCutProjects\\DLC-Atanu-2024-12-25\\Videos-to-analyze-temp\\Food_Only_Dwarves_3_3_25_S3_Y_CNO__Roy_Sam_None_3_None_4_Trial_1_top_right.mp4\n",
      "Loading  C:\\DeepLabCutProjects\\DLC-Atanu-2024-12-25\\Videos-to-analyze-temp\\Food_Only_Dwarves_3_3_25_S3_Y_CNO__Roy_Sam_None_3_None_4_Trial_1_top_right.mp4\n",
      "Duration of video [s]:  1200.6 , recorded with  25.0 fps!\n",
      "Overall # of frames:  30015  found with (before cropping) frame dimensions:  360 288\n",
      "Starting to extract posture\n"
     ]
    },
    {
     "name": "stderr",
     "output_type": "stream",
     "text": [
      "100%|██████████| 30015/30015 [07:44<00:00, 64.68it/s]\n"
     ]
    },
    {
     "name": "stdout",
     "output_type": "stream",
     "text": [
      "Saving results in C:/DeepLabCutProjects/DLC-Atanu-2024-12-25/Analyzed-videos-temp/...\n",
      "Saving csv poses!\n",
      "Starting to analyze %  C:\\DeepLabCutProjects\\DLC-Atanu-2024-12-25\\Videos-to-analyze-temp\\Food_Only_Dwarves_3_3_25_S4_Y_CNO__Ivy_May_None_3_None_4_Trial_1_bottom_left.mp4\n",
      "Loading  C:\\DeepLabCutProjects\\DLC-Atanu-2024-12-25\\Videos-to-analyze-temp\\Food_Only_Dwarves_3_3_25_S4_Y_CNO__Ivy_May_None_3_None_4_Trial_1_bottom_left.mp4\n",
      "Duration of video [s]:  1200.6 , recorded with  25.0 fps!\n",
      "Overall # of frames:  30015  found with (before cropping) frame dimensions:  360 288\n",
      "Starting to extract posture\n"
     ]
    },
    {
     "name": "stderr",
     "output_type": "stream",
     "text": [
      "100%|██████████| 30015/30015 [07:44<00:00, 64.67it/s]\n"
     ]
    },
    {
     "name": "stdout",
     "output_type": "stream",
     "text": [
      "Saving results in C:/DeepLabCutProjects/DLC-Atanu-2024-12-25/Analyzed-videos-temp/...\n",
      "Saving csv poses!\n",
      "Starting to analyze %  C:\\DeepLabCutProjects\\DLC-Atanu-2024-12-25\\Videos-to-analyze-temp\\Food_Only_Dwarves_3_3_25_S4_Y_CNO__Ivy_May_None_3_None_4_Trial_1_bottom_right.mp4\n",
      "Loading  C:\\DeepLabCutProjects\\DLC-Atanu-2024-12-25\\Videos-to-analyze-temp\\Food_Only_Dwarves_3_3_25_S4_Y_CNO__Ivy_May_None_3_None_4_Trial_1_bottom_right.mp4\n",
      "Duration of video [s]:  1200.6 , recorded with  25.0 fps!\n",
      "Overall # of frames:  30015  found with (before cropping) frame dimensions:  360 288\n",
      "Starting to extract posture\n"
     ]
    },
    {
     "name": "stderr",
     "output_type": "stream",
     "text": [
      "100%|██████████| 30015/30015 [07:44<00:00, 64.62it/s]\n"
     ]
    },
    {
     "name": "stdout",
     "output_type": "stream",
     "text": [
      "Saving results in C:/DeepLabCutProjects/DLC-Atanu-2024-12-25/Analyzed-videos-temp/...\n",
      "Saving csv poses!\n",
      "Starting to analyze %  C:\\DeepLabCutProjects\\DLC-Atanu-2024-12-25\\Videos-to-analyze-temp\\Food_Only_Dwarves_3_3_25_S4_Y_CNO__Ivy_May_None_3_None_4_Trial_1_top_left.mp4\n",
      "Loading  C:\\DeepLabCutProjects\\DLC-Atanu-2024-12-25\\Videos-to-analyze-temp\\Food_Only_Dwarves_3_3_25_S4_Y_CNO__Ivy_May_None_3_None_4_Trial_1_top_left.mp4\n",
      "Duration of video [s]:  1200.6 , recorded with  25.0 fps!\n",
      "Overall # of frames:  30015  found with (before cropping) frame dimensions:  360 288\n",
      "Starting to extract posture\n"
     ]
    },
    {
     "name": "stderr",
     "output_type": "stream",
     "text": [
      "100%|██████████| 30015/30015 [07:36<00:00, 65.69it/s]\n"
     ]
    },
    {
     "name": "stdout",
     "output_type": "stream",
     "text": [
      "Saving results in C:/DeepLabCutProjects/DLC-Atanu-2024-12-25/Analyzed-videos-temp/...\n",
      "Saving csv poses!\n",
      "Starting to analyze %  C:\\DeepLabCutProjects\\DLC-Atanu-2024-12-25\\Videos-to-analyze-temp\\Food_Only_Dwarves_3_3_25_S4_Y_CNO__Ivy_May_None_3_None_4_Trial_1_top_right.mp4\n",
      "Loading  C:\\DeepLabCutProjects\\DLC-Atanu-2024-12-25\\Videos-to-analyze-temp\\Food_Only_Dwarves_3_3_25_S4_Y_CNO__Ivy_May_None_3_None_4_Trial_1_top_right.mp4\n",
      "Duration of video [s]:  1200.6 , recorded with  25.0 fps!\n",
      "Overall # of frames:  30015  found with (before cropping) frame dimensions:  360 288\n",
      "Starting to extract posture\n"
     ]
    },
    {
     "name": "stderr",
     "output_type": "stream",
     "text": [
      "100%|██████████| 30015/30015 [07:40<00:00, 65.19it/s]\n"
     ]
    },
    {
     "name": "stdout",
     "output_type": "stream",
     "text": [
      "Saving results in C:/DeepLabCutProjects/DLC-Atanu-2024-12-25/Analyzed-videos-temp/...\n",
      "Saving csv poses!\n",
      "Starting to analyze %  C:\\DeepLabCutProjects\\DLC-Atanu-2024-12-25\\Videos-to-analyze-temp\\Food_Only_Gen_2_2_11_25_S1_Y_CNO__Austin_Houston_Toronto_Berlin_Trial_1_bottom_left.mp4\n",
      "Loading  C:\\DeepLabCutProjects\\DLC-Atanu-2024-12-25\\Videos-to-analyze-temp\\Food_Only_Gen_2_2_11_25_S1_Y_CNO__Austin_Houston_Toronto_Berlin_Trial_1_bottom_left.mp4\n",
      "Duration of video [s]:  1200.56 , recorded with  25.0 fps!\n",
      "Overall # of frames:  30014  found with (before cropping) frame dimensions:  180 144\n",
      "Starting to extract posture\n"
     ]
    },
    {
     "name": "stderr",
     "output_type": "stream",
     "text": [
      "100%|██████████| 30014/30014 [02:41<00:00, 185.94it/s]\n"
     ]
    },
    {
     "name": "stdout",
     "output_type": "stream",
     "text": [
      "Saving results in C:/DeepLabCutProjects/DLC-Atanu-2024-12-25/Analyzed-videos-temp/...\n",
      "Saving csv poses!\n",
      "Starting to analyze %  C:\\DeepLabCutProjects\\DLC-Atanu-2024-12-25\\Videos-to-analyze-temp\\Food_Only_Gen_2_2_11_25_S1_Y_CNO__Austin_Houston_Toronto_Berlin_Trial_1_bottom_right.mp4\n",
      "Loading  C:\\DeepLabCutProjects\\DLC-Atanu-2024-12-25\\Videos-to-analyze-temp\\Food_Only_Gen_2_2_11_25_S1_Y_CNO__Austin_Houston_Toronto_Berlin_Trial_1_bottom_right.mp4\n",
      "Duration of video [s]:  1200.56 , recorded with  25.0 fps!\n",
      "Overall # of frames:  30014  found with (before cropping) frame dimensions:  180 144\n",
      "Starting to extract posture\n"
     ]
    },
    {
     "name": "stderr",
     "output_type": "stream",
     "text": [
      "100%|██████████| 30014/30014 [02:37<00:00, 190.11it/s]\n"
     ]
    },
    {
     "name": "stdout",
     "output_type": "stream",
     "text": [
      "Saving results in C:/DeepLabCutProjects/DLC-Atanu-2024-12-25/Analyzed-videos-temp/...\n",
      "Saving csv poses!\n",
      "Starting to analyze %  C:\\DeepLabCutProjects\\DLC-Atanu-2024-12-25\\Videos-to-analyze-temp\\Food_Only_Gen_2_2_11_25_S1_Y_CNO__Austin_Houston_Toronto_Berlin_Trial_1_top_left.mp4\n",
      "Loading  C:\\DeepLabCutProjects\\DLC-Atanu-2024-12-25\\Videos-to-analyze-temp\\Food_Only_Gen_2_2_11_25_S1_Y_CNO__Austin_Houston_Toronto_Berlin_Trial_1_top_left.mp4\n",
      "Duration of video [s]:  1200.56 , recorded with  25.0 fps!\n",
      "Overall # of frames:  30014  found with (before cropping) frame dimensions:  180 144\n",
      "Starting to extract posture\n"
     ]
    },
    {
     "name": "stderr",
     "output_type": "stream",
     "text": [
      "100%|██████████| 30014/30014 [02:38<00:00, 189.82it/s]\n"
     ]
    },
    {
     "name": "stdout",
     "output_type": "stream",
     "text": [
      "Saving results in C:/DeepLabCutProjects/DLC-Atanu-2024-12-25/Analyzed-videos-temp/...\n",
      "Saving csv poses!\n",
      "Starting to analyze %  C:\\DeepLabCutProjects\\DLC-Atanu-2024-12-25\\Videos-to-analyze-temp\\Food_Only_Gen_2_2_11_25_S1_Y_CNO__Austin_Houston_Toronto_Berlin_Trial_1_top_right.mp4\n",
      "Loading  C:\\DeepLabCutProjects\\DLC-Atanu-2024-12-25\\Videos-to-analyze-temp\\Food_Only_Gen_2_2_11_25_S1_Y_CNO__Austin_Houston_Toronto_Berlin_Trial_1_top_right.mp4\n",
      "Duration of video [s]:  1200.56 , recorded with  25.0 fps!\n",
      "Overall # of frames:  30014  found with (before cropping) frame dimensions:  180 144\n",
      "Starting to extract posture\n"
     ]
    },
    {
     "name": "stderr",
     "output_type": "stream",
     "text": [
      "100%|██████████| 30014/30014 [02:37<00:00, 190.59it/s]\n"
     ]
    },
    {
     "name": "stdout",
     "output_type": "stream",
     "text": [
      "Saving results in C:/DeepLabCutProjects/DLC-Atanu-2024-12-25/Analyzed-videos-temp/...\n",
      "Saving csv poses!\n",
      "Starting to analyze %  C:\\DeepLabCutProjects\\DLC-Atanu-2024-12-25\\Videos-to-analyze-temp\\Food_Only_Gen_2_2_11_25_S2_Y_CNO__Denver_El_Paso_Waco_None_4_Trial_1_bottom_left.mp4\n",
      "Loading  C:\\DeepLabCutProjects\\DLC-Atanu-2024-12-25\\Videos-to-analyze-temp\\Food_Only_Gen_2_2_11_25_S2_Y_CNO__Denver_El_Paso_Waco_None_4_Trial_1_bottom_left.mp4\n",
      "Duration of video [s]:  1200.6 , recorded with  25.0 fps!\n",
      "Overall # of frames:  30015  found with (before cropping) frame dimensions:  180 144\n",
      "Starting to extract posture\n"
     ]
    },
    {
     "name": "stderr",
     "output_type": "stream",
     "text": [
      "100%|██████████| 30015/30015 [02:38<00:00, 189.80it/s]\n"
     ]
    },
    {
     "name": "stdout",
     "output_type": "stream",
     "text": [
      "Saving results in C:/DeepLabCutProjects/DLC-Atanu-2024-12-25/Analyzed-videos-temp/...\n",
      "Saving csv poses!\n",
      "Starting to analyze %  C:\\DeepLabCutProjects\\DLC-Atanu-2024-12-25\\Videos-to-analyze-temp\\Food_Only_Gen_2_2_11_25_S2_Y_CNO__Denver_El_Paso_Waco_None_4_Trial_1_bottom_right.mp4\n",
      "Loading  C:\\DeepLabCutProjects\\DLC-Atanu-2024-12-25\\Videos-to-analyze-temp\\Food_Only_Gen_2_2_11_25_S2_Y_CNO__Denver_El_Paso_Waco_None_4_Trial_1_bottom_right.mp4\n",
      "Duration of video [s]:  1200.6 , recorded with  25.0 fps!\n",
      "Overall # of frames:  30015  found with (before cropping) frame dimensions:  180 144\n",
      "Starting to extract posture\n"
     ]
    },
    {
     "name": "stderr",
     "output_type": "stream",
     "text": [
      "100%|██████████| 30015/30015 [02:37<00:00, 190.05it/s]\n"
     ]
    },
    {
     "name": "stdout",
     "output_type": "stream",
     "text": [
      "Saving results in C:/DeepLabCutProjects/DLC-Atanu-2024-12-25/Analyzed-videos-temp/...\n",
      "Saving csv poses!\n",
      "Starting to analyze %  C:\\DeepLabCutProjects\\DLC-Atanu-2024-12-25\\Videos-to-analyze-temp\\Food_Only_Gen_2_2_11_25_S2_Y_CNO__Denver_El_Paso_Waco_None_4_Trial_1_top_left.mp4\n",
      "Loading  C:\\DeepLabCutProjects\\DLC-Atanu-2024-12-25\\Videos-to-analyze-temp\\Food_Only_Gen_2_2_11_25_S2_Y_CNO__Denver_El_Paso_Waco_None_4_Trial_1_top_left.mp4\n",
      "Duration of video [s]:  1200.6 , recorded with  25.0 fps!\n",
      "Overall # of frames:  30015  found with (before cropping) frame dimensions:  180 144\n",
      "Starting to extract posture\n"
     ]
    },
    {
     "name": "stderr",
     "output_type": "stream",
     "text": [
      "100%|██████████| 30015/30015 [02:37<00:00, 190.80it/s]\n"
     ]
    },
    {
     "name": "stdout",
     "output_type": "stream",
     "text": [
      "Saving results in C:/DeepLabCutProjects/DLC-Atanu-2024-12-25/Analyzed-videos-temp/...\n",
      "Saving csv poses!\n",
      "Starting to analyze %  C:\\DeepLabCutProjects\\DLC-Atanu-2024-12-25\\Videos-to-analyze-temp\\Food_Only_Gen_2_2_11_25_S2_Y_CNO__Denver_El_Paso_Waco_None_4_Trial_1_top_right.mp4\n",
      "Loading  C:\\DeepLabCutProjects\\DLC-Atanu-2024-12-25\\Videos-to-analyze-temp\\Food_Only_Gen_2_2_11_25_S2_Y_CNO__Denver_El_Paso_Waco_None_4_Trial_1_top_right.mp4\n",
      "Duration of video [s]:  1200.6 , recorded with  25.0 fps!\n",
      "Overall # of frames:  30015  found with (before cropping) frame dimensions:  180 144\n",
      "Starting to extract posture\n"
     ]
    },
    {
     "name": "stderr",
     "output_type": "stream",
     "text": [
      "100%|██████████| 30015/30015 [02:37<00:00, 190.40it/s]\n"
     ]
    },
    {
     "name": "stdout",
     "output_type": "stream",
     "text": [
      "Saving results in C:/DeepLabCutProjects/DLC-Atanu-2024-12-25/Analyzed-videos-temp/...\n",
      "Saving csv poses!\n",
      "Starting to analyze %  C:\\DeepLabCutProjects\\DLC-Atanu-2024-12-25\\Videos-to-analyze-temp\\Food_Only_Gen_2_2_11_25_S3_Y_CNO__Lisbon_Nairobi_Rome_Venice_Trial_1_bottom_left.mp4\n",
      "Loading  C:\\DeepLabCutProjects\\DLC-Atanu-2024-12-25\\Videos-to-analyze-temp\\Food_Only_Gen_2_2_11_25_S3_Y_CNO__Lisbon_Nairobi_Rome_Venice_Trial_1_bottom_left.mp4\n",
      "Duration of video [s]:  1200.68 , recorded with  25.0 fps!\n",
      "Overall # of frames:  30017  found with (before cropping) frame dimensions:  360 288\n",
      "Starting to extract posture\n"
     ]
    },
    {
     "name": "stderr",
     "output_type": "stream",
     "text": [
      "100%|██████████| 30017/30017 [07:36<00:00, 65.76it/s]\n"
     ]
    },
    {
     "name": "stdout",
     "output_type": "stream",
     "text": [
      "Saving results in C:/DeepLabCutProjects/DLC-Atanu-2024-12-25/Analyzed-videos-temp/...\n",
      "Saving csv poses!\n",
      "Starting to analyze %  C:\\DeepLabCutProjects\\DLC-Atanu-2024-12-25\\Videos-to-analyze-temp\\Food_Only_Gen_2_2_11_25_S3_Y_CNO__Lisbon_Nairobi_Rome_Venice_Trial_1_bottom_right.mp4\n",
      "Loading  C:\\DeepLabCutProjects\\DLC-Atanu-2024-12-25\\Videos-to-analyze-temp\\Food_Only_Gen_2_2_11_25_S3_Y_CNO__Lisbon_Nairobi_Rome_Venice_Trial_1_bottom_right.mp4\n",
      "Duration of video [s]:  1200.68 , recorded with  25.0 fps!\n",
      "Overall # of frames:  30017  found with (before cropping) frame dimensions:  360 288\n",
      "Starting to extract posture\n"
     ]
    },
    {
     "name": "stderr",
     "output_type": "stream",
     "text": [
      "100%|██████████| 30017/30017 [07:37<00:00, 65.67it/s]\n"
     ]
    },
    {
     "name": "stdout",
     "output_type": "stream",
     "text": [
      "Saving results in C:/DeepLabCutProjects/DLC-Atanu-2024-12-25/Analyzed-videos-temp/...\n",
      "Saving csv poses!\n",
      "Starting to analyze %  C:\\DeepLabCutProjects\\DLC-Atanu-2024-12-25\\Videos-to-analyze-temp\\Food_Only_Gen_2_2_11_25_S3_Y_CNO__Lisbon_Nairobi_Rome_Venice_Trial_1_top_left.mp4\n",
      "Loading  C:\\DeepLabCutProjects\\DLC-Atanu-2024-12-25\\Videos-to-analyze-temp\\Food_Only_Gen_2_2_11_25_S3_Y_CNO__Lisbon_Nairobi_Rome_Venice_Trial_1_top_left.mp4\n",
      "Duration of video [s]:  1200.68 , recorded with  25.0 fps!\n",
      "Overall # of frames:  30017  found with (before cropping) frame dimensions:  360 288\n",
      "Starting to extract posture\n"
     ]
    },
    {
     "name": "stderr",
     "output_type": "stream",
     "text": [
      "100%|██████████| 30017/30017 [07:37<00:00, 65.68it/s]\n"
     ]
    },
    {
     "name": "stdout",
     "output_type": "stream",
     "text": [
      "Saving results in C:/DeepLabCutProjects/DLC-Atanu-2024-12-25/Analyzed-videos-temp/...\n",
      "Saving csv poses!\n",
      "Starting to analyze %  C:\\DeepLabCutProjects\\DLC-Atanu-2024-12-25\\Videos-to-analyze-temp\\Food_Only_Gen_2_2_11_25_S3_Y_CNO__Lisbon_Nairobi_Rome_Venice_Trial_1_top_right.mp4\n",
      "Loading  C:\\DeepLabCutProjects\\DLC-Atanu-2024-12-25\\Videos-to-analyze-temp\\Food_Only_Gen_2_2_11_25_S3_Y_CNO__Lisbon_Nairobi_Rome_Venice_Trial_1_top_right.mp4\n",
      "Duration of video [s]:  1200.68 , recorded with  25.0 fps!\n",
      "Overall # of frames:  30017  found with (before cropping) frame dimensions:  360 288\n",
      "Starting to extract posture\n"
     ]
    },
    {
     "name": "stderr",
     "output_type": "stream",
     "text": [
      "100%|██████████| 30017/30017 [07:36<00:00, 65.69it/s]\n"
     ]
    },
    {
     "name": "stdout",
     "output_type": "stream",
     "text": [
      "Saving results in C:/DeepLabCutProjects/DLC-Atanu-2024-12-25/Analyzed-videos-temp/...\n",
      "Saving csv poses!\n",
      "Starting to analyze %  C:\\DeepLabCutProjects\\DLC-Atanu-2024-12-25\\Videos-to-analyze-temp\\Food_Only_Gen_2_2_11_25_S4_Y_CNO__Paris_London_Phoenix_None_4_Trial_1_bottom_left.mp4\n",
      "Loading  C:\\DeepLabCutProjects\\DLC-Atanu-2024-12-25\\Videos-to-analyze-temp\\Food_Only_Gen_2_2_11_25_S4_Y_CNO__Paris_London_Phoenix_None_4_Trial_1_bottom_left.mp4\n",
      "Duration of video [s]:  1200.56 , recorded with  25.0 fps!\n",
      "Overall # of frames:  30014  found with (before cropping) frame dimensions:  360 288\n",
      "Starting to extract posture\n"
     ]
    },
    {
     "name": "stderr",
     "output_type": "stream",
     "text": [
      "100%|██████████| 30014/30014 [07:36<00:00, 65.72it/s]\n"
     ]
    },
    {
     "name": "stdout",
     "output_type": "stream",
     "text": [
      "Saving results in C:/DeepLabCutProjects/DLC-Atanu-2024-12-25/Analyzed-videos-temp/...\n",
      "Saving csv poses!\n",
      "Starting to analyze %  C:\\DeepLabCutProjects\\DLC-Atanu-2024-12-25\\Videos-to-analyze-temp\\Food_Only_Gen_2_2_11_25_S4_Y_CNO__Paris_London_Phoenix_None_4_Trial_1_bottom_right.mp4\n",
      "Loading  C:\\DeepLabCutProjects\\DLC-Atanu-2024-12-25\\Videos-to-analyze-temp\\Food_Only_Gen_2_2_11_25_S4_Y_CNO__Paris_London_Phoenix_None_4_Trial_1_bottom_right.mp4\n",
      "Duration of video [s]:  1200.56 , recorded with  25.0 fps!\n",
      "Overall # of frames:  30014  found with (before cropping) frame dimensions:  360 288\n",
      "Starting to extract posture\n"
     ]
    },
    {
     "name": "stderr",
     "output_type": "stream",
     "text": [
      "100%|██████████| 30014/30014 [07:40<00:00, 65.24it/s]\n"
     ]
    },
    {
     "name": "stdout",
     "output_type": "stream",
     "text": [
      "Saving results in C:/DeepLabCutProjects/DLC-Atanu-2024-12-25/Analyzed-videos-temp/...\n",
      "Saving csv poses!\n",
      "Starting to analyze %  C:\\DeepLabCutProjects\\DLC-Atanu-2024-12-25\\Videos-to-analyze-temp\\Food_Only_Gen_2_2_11_25_S4_Y_CNO__Paris_London_Phoenix_None_4_Trial_1_top_left.mp4\n",
      "Loading  C:\\DeepLabCutProjects\\DLC-Atanu-2024-12-25\\Videos-to-analyze-temp\\Food_Only_Gen_2_2_11_25_S4_Y_CNO__Paris_London_Phoenix_None_4_Trial_1_top_left.mp4\n",
      "Duration of video [s]:  1200.56 , recorded with  25.0 fps!\n",
      "Overall # of frames:  30014  found with (before cropping) frame dimensions:  360 288\n",
      "Starting to extract posture\n"
     ]
    },
    {
     "name": "stderr",
     "output_type": "stream",
     "text": [
      "100%|██████████| 30014/30014 [07:39<00:00, 65.31it/s]\n"
     ]
    },
    {
     "name": "stdout",
     "output_type": "stream",
     "text": [
      "Saving results in C:/DeepLabCutProjects/DLC-Atanu-2024-12-25/Analyzed-videos-temp/...\n",
      "Saving csv poses!\n",
      "Starting to analyze %  C:\\DeepLabCutProjects\\DLC-Atanu-2024-12-25\\Videos-to-analyze-temp\\Food_Only_Gen_2_2_11_25_S4_Y_CNO__Paris_London_Phoenix_None_4_Trial_1_top_right.mp4\n",
      "Loading  C:\\DeepLabCutProjects\\DLC-Atanu-2024-12-25\\Videos-to-analyze-temp\\Food_Only_Gen_2_2_11_25_S4_Y_CNO__Paris_London_Phoenix_None_4_Trial_1_top_right.mp4\n",
      "Duration of video [s]:  1200.56 , recorded with  25.0 fps!\n",
      "Overall # of frames:  30014  found with (before cropping) frame dimensions:  360 288\n",
      "Starting to extract posture\n"
     ]
    },
    {
     "name": "stderr",
     "output_type": "stream",
     "text": [
      "100%|██████████| 30014/30014 [07:38<00:00, 65.44it/s]\n"
     ]
    },
    {
     "name": "stdout",
     "output_type": "stream",
     "text": [
      "Saving results in C:/DeepLabCutProjects/DLC-Atanu-2024-12-25/Analyzed-videos-temp/...\n",
      "Saving csv poses!\n",
      "Starting to analyze %  C:\\DeepLabCutProjects\\DLC-Atanu-2024-12-25\\Videos-to-analyze-temp\\Food_Only_Gen_2_2_12_25_S1_P_CNO__Ft_Worth_Orlando_Tampa_Dallas_Trial_1_bottom_left.mp4\n",
      "Loading  C:\\DeepLabCutProjects\\DLC-Atanu-2024-12-25\\Videos-to-analyze-temp\\Food_Only_Gen_2_2_12_25_S1_P_CNO__Ft_Worth_Orlando_Tampa_Dallas_Trial_1_bottom_left.mp4\n",
      "Duration of video [s]:  1200.68 , recorded with  25.0 fps!\n",
      "Overall # of frames:  30017  found with (before cropping) frame dimensions:  360 288\n",
      "Starting to extract posture\n"
     ]
    },
    {
     "name": "stderr",
     "output_type": "stream",
     "text": [
      "100%|██████████| 30017/30017 [07:36<00:00, 65.71it/s]\n"
     ]
    },
    {
     "name": "stdout",
     "output_type": "stream",
     "text": [
      "Saving results in C:/DeepLabCutProjects/DLC-Atanu-2024-12-25/Analyzed-videos-temp/...\n",
      "Saving csv poses!\n",
      "Starting to analyze %  C:\\DeepLabCutProjects\\DLC-Atanu-2024-12-25\\Videos-to-analyze-temp\\Food_Only_Gen_2_2_12_25_S1_P_CNO__Ft_Worth_Orlando_Tampa_Dallas_Trial_1_bottom_right.mp4\n",
      "Loading  C:\\DeepLabCutProjects\\DLC-Atanu-2024-12-25\\Videos-to-analyze-temp\\Food_Only_Gen_2_2_12_25_S1_P_CNO__Ft_Worth_Orlando_Tampa_Dallas_Trial_1_bottom_right.mp4\n",
      "Duration of video [s]:  1200.68 , recorded with  25.0 fps!\n",
      "Overall # of frames:  30017  found with (before cropping) frame dimensions:  360 288\n",
      "Starting to extract posture\n"
     ]
    },
    {
     "name": "stderr",
     "output_type": "stream",
     "text": [
      "100%|██████████| 30017/30017 [07:37<00:00, 65.67it/s]\n"
     ]
    },
    {
     "name": "stdout",
     "output_type": "stream",
     "text": [
      "Saving results in C:/DeepLabCutProjects/DLC-Atanu-2024-12-25/Analyzed-videos-temp/...\n",
      "Saving csv poses!\n",
      "Starting to analyze %  C:\\DeepLabCutProjects\\DLC-Atanu-2024-12-25\\Videos-to-analyze-temp\\Food_Only_Gen_2_2_12_25_S1_P_CNO__Ft_Worth_Orlando_Tampa_Dallas_Trial_1_top_left.mp4\n",
      "Loading  C:\\DeepLabCutProjects\\DLC-Atanu-2024-12-25\\Videos-to-analyze-temp\\Food_Only_Gen_2_2_12_25_S1_P_CNO__Ft_Worth_Orlando_Tampa_Dallas_Trial_1_top_left.mp4\n",
      "Duration of video [s]:  1200.68 , recorded with  25.0 fps!\n",
      "Overall # of frames:  30017  found with (before cropping) frame dimensions:  360 288\n",
      "Starting to extract posture\n"
     ]
    },
    {
     "name": "stderr",
     "output_type": "stream",
     "text": [
      "100%|██████████| 30017/30017 [07:36<00:00, 65.78it/s]\n"
     ]
    },
    {
     "name": "stdout",
     "output_type": "stream",
     "text": [
      "Saving results in C:/DeepLabCutProjects/DLC-Atanu-2024-12-25/Analyzed-videos-temp/...\n",
      "Saving csv poses!\n",
      "Starting to analyze %  C:\\DeepLabCutProjects\\DLC-Atanu-2024-12-25\\Videos-to-analyze-temp\\Food_Only_Gen_2_2_12_25_S1_P_CNO__Ft_Worth_Orlando_Tampa_Dallas_Trial_1_top_right.mp4\n",
      "Loading  C:\\DeepLabCutProjects\\DLC-Atanu-2024-12-25\\Videos-to-analyze-temp\\Food_Only_Gen_2_2_12_25_S1_P_CNO__Ft_Worth_Orlando_Tampa_Dallas_Trial_1_top_right.mp4\n",
      "Duration of video [s]:  1200.68 , recorded with  25.0 fps!\n",
      "Overall # of frames:  30017  found with (before cropping) frame dimensions:  360 288\n",
      "Starting to extract posture\n"
     ]
    },
    {
     "name": "stderr",
     "output_type": "stream",
     "text": [
      "100%|██████████| 30017/30017 [07:36<00:00, 65.73it/s]\n"
     ]
    },
    {
     "name": "stdout",
     "output_type": "stream",
     "text": [
      "Saving results in C:/DeepLabCutProjects/DLC-Atanu-2024-12-25/Analyzed-videos-temp/...\n",
      "Saving csv poses!\n",
      "Starting to analyze %  C:\\DeepLabCutProjects\\DLC-Atanu-2024-12-25\\Videos-to-analyze-temp\\Food_Only_Gen_2_2_12_25_S2_P_CNO__LA_Seattle_Chicago_Las_Cruces_Trial_1_bottom_left.mp4\n",
      "Loading  C:\\DeepLabCutProjects\\DLC-Atanu-2024-12-25\\Videos-to-analyze-temp\\Food_Only_Gen_2_2_12_25_S2_P_CNO__LA_Seattle_Chicago_Las_Cruces_Trial_1_bottom_left.mp4\n",
      "Duration of video [s]:  1200.8 , recorded with  25.0 fps!\n",
      "Overall # of frames:  30020  found with (before cropping) frame dimensions:  360 288\n",
      "Starting to extract posture\n"
     ]
    },
    {
     "name": "stderr",
     "output_type": "stream",
     "text": [
      "100%|██████████| 30020/30020 [07:36<00:00, 65.69it/s]\n"
     ]
    },
    {
     "name": "stdout",
     "output_type": "stream",
     "text": [
      "Saving results in C:/DeepLabCutProjects/DLC-Atanu-2024-12-25/Analyzed-videos-temp/...\n",
      "Saving csv poses!\n",
      "Starting to analyze %  C:\\DeepLabCutProjects\\DLC-Atanu-2024-12-25\\Videos-to-analyze-temp\\Food_Only_Gen_2_2_12_25_S2_P_CNO__LA_Seattle_Chicago_Las_Cruces_Trial_1_bottom_right.mp4\n",
      "Loading  C:\\DeepLabCutProjects\\DLC-Atanu-2024-12-25\\Videos-to-analyze-temp\\Food_Only_Gen_2_2_12_25_S2_P_CNO__LA_Seattle_Chicago_Las_Cruces_Trial_1_bottom_right.mp4\n",
      "Duration of video [s]:  1200.8 , recorded with  25.0 fps!\n",
      "Overall # of frames:  30020  found with (before cropping) frame dimensions:  360 288\n",
      "Starting to extract posture\n"
     ]
    },
    {
     "name": "stderr",
     "output_type": "stream",
     "text": [
      "100%|██████████| 30020/30020 [07:36<00:00, 65.73it/s]\n"
     ]
    },
    {
     "name": "stdout",
     "output_type": "stream",
     "text": [
      "Saving results in C:/DeepLabCutProjects/DLC-Atanu-2024-12-25/Analyzed-videos-temp/...\n",
      "Saving csv poses!\n",
      "Starting to analyze %  C:\\DeepLabCutProjects\\DLC-Atanu-2024-12-25\\Videos-to-analyze-temp\\Food_Only_Gen_2_2_12_25_S2_P_CNO__LA_Seattle_Chicago_Las_Cruces_Trial_1_top_left.mp4\n",
      "Loading  C:\\DeepLabCutProjects\\DLC-Atanu-2024-12-25\\Videos-to-analyze-temp\\Food_Only_Gen_2_2_12_25_S2_P_CNO__LA_Seattle_Chicago_Las_Cruces_Trial_1_top_left.mp4\n",
      "Duration of video [s]:  1200.8 , recorded with  25.0 fps!\n",
      "Overall # of frames:  30020  found with (before cropping) frame dimensions:  360 288\n",
      "Starting to extract posture\n"
     ]
    },
    {
     "name": "stderr",
     "output_type": "stream",
     "text": [
      "100%|██████████| 30020/30020 [07:36<00:00, 65.73it/s]\n"
     ]
    },
    {
     "name": "stdout",
     "output_type": "stream",
     "text": [
      "Saving results in C:/DeepLabCutProjects/DLC-Atanu-2024-12-25/Analyzed-videos-temp/...\n",
      "Saving csv poses!\n",
      "Starting to analyze %  C:\\DeepLabCutProjects\\DLC-Atanu-2024-12-25\\Videos-to-analyze-temp\\Food_Only_Gen_2_2_12_25_S2_P_CNO__LA_Seattle_Chicago_Las_Cruces_Trial_1_top_right.mp4\n",
      "Loading  C:\\DeepLabCutProjects\\DLC-Atanu-2024-12-25\\Videos-to-analyze-temp\\Food_Only_Gen_2_2_12_25_S2_P_CNO__LA_Seattle_Chicago_Las_Cruces_Trial_1_top_right.mp4\n",
      "Duration of video [s]:  1200.8 , recorded with  25.0 fps!\n",
      "Overall # of frames:  30020  found with (before cropping) frame dimensions:  360 288\n",
      "Starting to extract posture\n"
     ]
    },
    {
     "name": "stderr",
     "output_type": "stream",
     "text": [
      "100%|██████████| 30020/30020 [07:36<00:00, 65.73it/s]\n"
     ]
    },
    {
     "name": "stdout",
     "output_type": "stream",
     "text": [
      "Saving results in C:/DeepLabCutProjects/DLC-Atanu-2024-12-25/Analyzed-videos-temp/...\n",
      "Saving csv poses!\n",
      "Starting to analyze %  C:\\DeepLabCutProjects\\DLC-Atanu-2024-12-25\\Videos-to-analyze-temp\\Food_Only_Gen_2_2_12_25_S3_P_CNO__Tokyo_Ruidoso_New_Orleans_Atlanta_Trial_1_bottom_left.mp4\n",
      "Loading  C:\\DeepLabCutProjects\\DLC-Atanu-2024-12-25\\Videos-to-analyze-temp\\Food_Only_Gen_2_2_12_25_S3_P_CNO__Tokyo_Ruidoso_New_Orleans_Atlanta_Trial_1_bottom_left.mp4\n",
      "Duration of video [s]:  1200.68 , recorded with  25.0 fps!\n",
      "Overall # of frames:  30017  found with (before cropping) frame dimensions:  360 288\n",
      "Starting to extract posture\n"
     ]
    },
    {
     "name": "stderr",
     "output_type": "stream",
     "text": [
      "100%|██████████| 30017/30017 [07:36<00:00, 65.72it/s]\n"
     ]
    },
    {
     "name": "stdout",
     "output_type": "stream",
     "text": [
      "Saving results in C:/DeepLabCutProjects/DLC-Atanu-2024-12-25/Analyzed-videos-temp/...\n",
      "Saving csv poses!\n",
      "Starting to analyze %  C:\\DeepLabCutProjects\\DLC-Atanu-2024-12-25\\Videos-to-analyze-temp\\Food_Only_Gen_2_2_12_25_S3_P_CNO__Tokyo_Ruidoso_New_Orleans_Atlanta_Trial_1_bottom_right.mp4\n",
      "Loading  C:\\DeepLabCutProjects\\DLC-Atanu-2024-12-25\\Videos-to-analyze-temp\\Food_Only_Gen_2_2_12_25_S3_P_CNO__Tokyo_Ruidoso_New_Orleans_Atlanta_Trial_1_bottom_right.mp4\n",
      "Duration of video [s]:  1200.68 , recorded with  25.0 fps!\n",
      "Overall # of frames:  30017  found with (before cropping) frame dimensions:  360 288\n",
      "Starting to extract posture\n"
     ]
    },
    {
     "name": "stderr",
     "output_type": "stream",
     "text": [
      "100%|██████████| 30017/30017 [07:36<00:00, 65.76it/s]\n"
     ]
    },
    {
     "name": "stdout",
     "output_type": "stream",
     "text": [
      "Saving results in C:/DeepLabCutProjects/DLC-Atanu-2024-12-25/Analyzed-videos-temp/...\n",
      "Saving csv poses!\n",
      "Starting to analyze %  C:\\DeepLabCutProjects\\DLC-Atanu-2024-12-25\\Videos-to-analyze-temp\\Food_Only_Gen_2_2_12_25_S3_P_CNO__Tokyo_Ruidoso_New_Orleans_Atlanta_Trial_1_top_left.mp4\n",
      "Loading  C:\\DeepLabCutProjects\\DLC-Atanu-2024-12-25\\Videos-to-analyze-temp\\Food_Only_Gen_2_2_12_25_S3_P_CNO__Tokyo_Ruidoso_New_Orleans_Atlanta_Trial_1_top_left.mp4\n",
      "Duration of video [s]:  1200.68 , recorded with  25.0 fps!\n",
      "Overall # of frames:  30017  found with (before cropping) frame dimensions:  360 288\n",
      "Starting to extract posture\n"
     ]
    },
    {
     "name": "stderr",
     "output_type": "stream",
     "text": [
      "100%|██████████| 30017/30017 [07:37<00:00, 65.66it/s]\n"
     ]
    },
    {
     "name": "stdout",
     "output_type": "stream",
     "text": [
      "Saving results in C:/DeepLabCutProjects/DLC-Atanu-2024-12-25/Analyzed-videos-temp/...\n",
      "Saving csv poses!\n",
      "Starting to analyze %  C:\\DeepLabCutProjects\\DLC-Atanu-2024-12-25\\Videos-to-analyze-temp\\Food_Only_Gen_2_2_12_25_S3_P_CNO__Tokyo_Ruidoso_New_Orleans_Atlanta_Trial_1_top_right.mp4\n",
      "Loading  C:\\DeepLabCutProjects\\DLC-Atanu-2024-12-25\\Videos-to-analyze-temp\\Food_Only_Gen_2_2_12_25_S3_P_CNO__Tokyo_Ruidoso_New_Orleans_Atlanta_Trial_1_top_right.mp4\n",
      "Duration of video [s]:  1200.68 , recorded with  25.0 fps!\n",
      "Overall # of frames:  30017  found with (before cropping) frame dimensions:  360 288\n",
      "Starting to extract posture\n"
     ]
    },
    {
     "name": "stderr",
     "output_type": "stream",
     "text": [
      "100%|██████████| 30017/30017 [07:36<00:00, 65.74it/s]\n"
     ]
    },
    {
     "name": "stdout",
     "output_type": "stream",
     "text": [
      "Saving results in C:/DeepLabCutProjects/DLC-Atanu-2024-12-25/Analyzed-videos-temp/...\n",
      "Saving csv poses!\n",
      "Starting to analyze %  C:\\DeepLabCutProjects\\DLC-Atanu-2024-12-25\\Videos-to-analyze-temp\\Food_Only_Gen_2_2_12_25_S4_P_Y_CNO__New_York_New_Jersey_9_10_Trial_1_bottom_left.mp4\n",
      "Loading  C:\\DeepLabCutProjects\\DLC-Atanu-2024-12-25\\Videos-to-analyze-temp\\Food_Only_Gen_2_2_12_25_S4_P_Y_CNO__New_York_New_Jersey_9_10_Trial_1_bottom_left.mp4\n",
      "Duration of video [s]:  1200.6 , recorded with  25.0 fps!\n",
      "Overall # of frames:  30015  found with (before cropping) frame dimensions:  360 288\n",
      "Starting to extract posture\n"
     ]
    },
    {
     "name": "stderr",
     "output_type": "stream",
     "text": [
      "100%|██████████| 30015/30015 [07:39<00:00, 65.33it/s]\n"
     ]
    },
    {
     "name": "stdout",
     "output_type": "stream",
     "text": [
      "Saving results in C:/DeepLabCutProjects/DLC-Atanu-2024-12-25/Analyzed-videos-temp/...\n",
      "Saving csv poses!\n",
      "Starting to analyze %  C:\\DeepLabCutProjects\\DLC-Atanu-2024-12-25\\Videos-to-analyze-temp\\Food_Only_Gen_2_2_12_25_S4_P_Y_CNO__New_York_New_Jersey_9_10_Trial_1_bottom_right.mp4\n",
      "Loading  C:\\DeepLabCutProjects\\DLC-Atanu-2024-12-25\\Videos-to-analyze-temp\\Food_Only_Gen_2_2_12_25_S4_P_Y_CNO__New_York_New_Jersey_9_10_Trial_1_bottom_right.mp4\n",
      "Duration of video [s]:  1200.6 , recorded with  25.0 fps!\n",
      "Overall # of frames:  30015  found with (before cropping) frame dimensions:  360 288\n",
      "Starting to extract posture\n"
     ]
    },
    {
     "name": "stderr",
     "output_type": "stream",
     "text": [
      "100%|██████████| 30015/30015 [07:36<00:00, 65.71it/s]\n"
     ]
    },
    {
     "name": "stdout",
     "output_type": "stream",
     "text": [
      "Saving results in C:/DeepLabCutProjects/DLC-Atanu-2024-12-25/Analyzed-videos-temp/...\n",
      "Saving csv poses!\n",
      "Starting to analyze %  C:\\DeepLabCutProjects\\DLC-Atanu-2024-12-25\\Videos-to-analyze-temp\\Food_Only_Gen_2_2_12_25_S4_P_Y_CNO__New_York_New_Jersey_9_10_Trial_1_top_left.mp4\n",
      "Loading  C:\\DeepLabCutProjects\\DLC-Atanu-2024-12-25\\Videos-to-analyze-temp\\Food_Only_Gen_2_2_12_25_S4_P_Y_CNO__New_York_New_Jersey_9_10_Trial_1_top_left.mp4\n",
      "Duration of video [s]:  1200.6 , recorded with  25.0 fps!\n",
      "Overall # of frames:  30015  found with (before cropping) frame dimensions:  360 288\n",
      "Starting to extract posture\n"
     ]
    },
    {
     "name": "stderr",
     "output_type": "stream",
     "text": [
      "100%|██████████| 30015/30015 [07:34<00:00, 65.97it/s]\n"
     ]
    },
    {
     "name": "stdout",
     "output_type": "stream",
     "text": [
      "Saving results in C:/DeepLabCutProjects/DLC-Atanu-2024-12-25/Analyzed-videos-temp/...\n",
      "Saving csv poses!\n",
      "Starting to analyze %  C:\\DeepLabCutProjects\\DLC-Atanu-2024-12-25\\Videos-to-analyze-temp\\Food_Only_Gen_2_2_12_25_S4_P_Y_CNO__New_York_New_Jersey_9_10_Trial_1_top_right.mp4\n",
      "Loading  C:\\DeepLabCutProjects\\DLC-Atanu-2024-12-25\\Videos-to-analyze-temp\\Food_Only_Gen_2_2_12_25_S4_P_Y_CNO__New_York_New_Jersey_9_10_Trial_1_top_right.mp4\n",
      "Duration of video [s]:  1200.6 , recorded with  25.0 fps!\n",
      "Overall # of frames:  30015  found with (before cropping) frame dimensions:  360 288\n",
      "Starting to extract posture\n"
     ]
    },
    {
     "name": "stderr",
     "output_type": "stream",
     "text": [
      "100%|██████████| 30015/30015 [07:19<00:00, 68.25it/s]\n"
     ]
    },
    {
     "name": "stdout",
     "output_type": "stream",
     "text": [
      "Saving results in C:/DeepLabCutProjects/DLC-Atanu-2024-12-25/Analyzed-videos-temp/...\n",
      "Saving csv poses!\n",
      "Starting to analyze %  C:\\DeepLabCutProjects\\DLC-Atanu-2024-12-25\\Videos-to-analyze-temp\\Food_Only_Gen_2_2_13_25_S1_P_CNO__A_B_C_F_Trial_1_bottom_left.mp4\n",
      "Loading  C:\\DeepLabCutProjects\\DLC-Atanu-2024-12-25\\Videos-to-analyze-temp\\Food_Only_Gen_2_2_13_25_S1_P_CNO__A_B_C_F_Trial_1_bottom_left.mp4\n",
      "Duration of video [s]:  1200.68 , recorded with  25.0 fps!\n",
      "Overall # of frames:  30017  found with (before cropping) frame dimensions:  360 288\n",
      "Starting to extract posture\n"
     ]
    },
    {
     "name": "stderr",
     "output_type": "stream",
     "text": [
      "100%|██████████| 30017/30017 [07:19<00:00, 68.24it/s]\n"
     ]
    },
    {
     "name": "stdout",
     "output_type": "stream",
     "text": [
      "Saving results in C:/DeepLabCutProjects/DLC-Atanu-2024-12-25/Analyzed-videos-temp/...\n",
      "Saving csv poses!\n",
      "Starting to analyze %  C:\\DeepLabCutProjects\\DLC-Atanu-2024-12-25\\Videos-to-analyze-temp\\Food_Only_Gen_2_2_13_25_S1_P_CNO__A_B_C_F_Trial_1_bottom_right.mp4\n",
      "Loading  C:\\DeepLabCutProjects\\DLC-Atanu-2024-12-25\\Videos-to-analyze-temp\\Food_Only_Gen_2_2_13_25_S1_P_CNO__A_B_C_F_Trial_1_bottom_right.mp4\n",
      "Duration of video [s]:  1200.68 , recorded with  25.0 fps!\n",
      "Overall # of frames:  30017  found with (before cropping) frame dimensions:  360 288\n",
      "Starting to extract posture\n"
     ]
    },
    {
     "name": "stderr",
     "output_type": "stream",
     "text": [
      "100%|██████████| 30017/30017 [07:19<00:00, 68.25it/s]\n"
     ]
    },
    {
     "name": "stdout",
     "output_type": "stream",
     "text": [
      "Saving results in C:/DeepLabCutProjects/DLC-Atanu-2024-12-25/Analyzed-videos-temp/...\n",
      "Saving csv poses!\n",
      "Starting to analyze %  C:\\DeepLabCutProjects\\DLC-Atanu-2024-12-25\\Videos-to-analyze-temp\\Food_Only_Gen_2_2_13_25_S1_P_CNO__A_B_C_F_Trial_1_top_left.mp4\n",
      "Loading  C:\\DeepLabCutProjects\\DLC-Atanu-2024-12-25\\Videos-to-analyze-temp\\Food_Only_Gen_2_2_13_25_S1_P_CNO__A_B_C_F_Trial_1_top_left.mp4\n",
      "Duration of video [s]:  1200.68 , recorded with  25.0 fps!\n",
      "Overall # of frames:  30017  found with (before cropping) frame dimensions:  360 288\n",
      "Starting to extract posture\n"
     ]
    },
    {
     "name": "stderr",
     "output_type": "stream",
     "text": [
      "100%|██████████| 30017/30017 [07:20<00:00, 68.21it/s]\n"
     ]
    },
    {
     "name": "stdout",
     "output_type": "stream",
     "text": [
      "Saving results in C:/DeepLabCutProjects/DLC-Atanu-2024-12-25/Analyzed-videos-temp/...\n",
      "Saving csv poses!\n",
      "Starting to analyze %  C:\\DeepLabCutProjects\\DLC-Atanu-2024-12-25\\Videos-to-analyze-temp\\Food_Only_Gen_2_2_13_25_S1_P_CNO__A_B_C_F_Trial_1_top_right.mp4\n",
      "Loading  C:\\DeepLabCutProjects\\DLC-Atanu-2024-12-25\\Videos-to-analyze-temp\\Food_Only_Gen_2_2_13_25_S1_P_CNO__A_B_C_F_Trial_1_top_right.mp4\n",
      "Duration of video [s]:  1200.68 , recorded with  25.0 fps!\n",
      "Overall # of frames:  30017  found with (before cropping) frame dimensions:  360 288\n",
      "Starting to extract posture\n"
     ]
    },
    {
     "name": "stderr",
     "output_type": "stream",
     "text": [
      "100%|██████████| 30017/30017 [07:19<00:00, 68.23it/s]\n"
     ]
    },
    {
     "name": "stdout",
     "output_type": "stream",
     "text": [
      "Saving results in C:/DeepLabCutProjects/DLC-Atanu-2024-12-25/Analyzed-videos-temp/...\n",
      "Saving csv poses!\n",
      "Starting to analyze %  C:\\DeepLabCutProjects\\DLC-Atanu-2024-12-25\\Videos-to-analyze-temp\\Food_Only_Gen_2_2_13_25_S2_P_CNO__E_L_G_H_Trial_1_bottom_left.mp4\n",
      "Loading  C:\\DeepLabCutProjects\\DLC-Atanu-2024-12-25\\Videos-to-analyze-temp\\Food_Only_Gen_2_2_13_25_S2_P_CNO__E_L_G_H_Trial_1_bottom_left.mp4\n",
      "Duration of video [s]:  1200.76 , recorded with  25.0 fps!\n",
      "Overall # of frames:  30019  found with (before cropping) frame dimensions:  360 288\n",
      "Starting to extract posture\n"
     ]
    },
    {
     "name": "stderr",
     "output_type": "stream",
     "text": [
      "100%|██████████| 30019/30019 [07:19<00:00, 68.25it/s]\n"
     ]
    },
    {
     "name": "stdout",
     "output_type": "stream",
     "text": [
      "Saving results in C:/DeepLabCutProjects/DLC-Atanu-2024-12-25/Analyzed-videos-temp/...\n",
      "Saving csv poses!\n",
      "Starting to analyze %  C:\\DeepLabCutProjects\\DLC-Atanu-2024-12-25\\Videos-to-analyze-temp\\Food_Only_Gen_2_2_13_25_S2_P_CNO__E_L_G_H_Trial_1_bottom_right.mp4\n",
      "Loading  C:\\DeepLabCutProjects\\DLC-Atanu-2024-12-25\\Videos-to-analyze-temp\\Food_Only_Gen_2_2_13_25_S2_P_CNO__E_L_G_H_Trial_1_bottom_right.mp4\n",
      "Duration of video [s]:  1200.76 , recorded with  25.0 fps!\n",
      "Overall # of frames:  30019  found with (before cropping) frame dimensions:  360 288\n",
      "Starting to extract posture\n"
     ]
    },
    {
     "name": "stderr",
     "output_type": "stream",
     "text": [
      "100%|██████████| 30019/30019 [07:19<00:00, 68.24it/s]\n"
     ]
    },
    {
     "name": "stdout",
     "output_type": "stream",
     "text": [
      "Saving results in C:/DeepLabCutProjects/DLC-Atanu-2024-12-25/Analyzed-videos-temp/...\n",
      "Saving csv poses!\n",
      "Starting to analyze %  C:\\DeepLabCutProjects\\DLC-Atanu-2024-12-25\\Videos-to-analyze-temp\\Food_Only_Gen_2_2_13_25_S2_P_CNO__E_L_G_H_Trial_1_top_left.mp4\n",
      "Loading  C:\\DeepLabCutProjects\\DLC-Atanu-2024-12-25\\Videos-to-analyze-temp\\Food_Only_Gen_2_2_13_25_S2_P_CNO__E_L_G_H_Trial_1_top_left.mp4\n",
      "Duration of video [s]:  1200.76 , recorded with  25.0 fps!\n",
      "Overall # of frames:  30019  found with (before cropping) frame dimensions:  360 288\n",
      "Starting to extract posture\n"
     ]
    },
    {
     "name": "stderr",
     "output_type": "stream",
     "text": [
      "100%|██████████| 30019/30019 [07:19<00:00, 68.23it/s]\n"
     ]
    },
    {
     "name": "stdout",
     "output_type": "stream",
     "text": [
      "Saving results in C:/DeepLabCutProjects/DLC-Atanu-2024-12-25/Analyzed-videos-temp/...\n",
      "Saving csv poses!\n",
      "Starting to analyze %  C:\\DeepLabCutProjects\\DLC-Atanu-2024-12-25\\Videos-to-analyze-temp\\Food_Only_Gen_2_2_13_25_S2_P_CNO__E_L_G_H_Trial_1_top_right.mp4\n",
      "Loading  C:\\DeepLabCutProjects\\DLC-Atanu-2024-12-25\\Videos-to-analyze-temp\\Food_Only_Gen_2_2_13_25_S2_P_CNO__E_L_G_H_Trial_1_top_right.mp4\n",
      "Duration of video [s]:  1200.76 , recorded with  25.0 fps!\n",
      "Overall # of frames:  30019  found with (before cropping) frame dimensions:  360 288\n",
      "Starting to extract posture\n"
     ]
    },
    {
     "name": "stderr",
     "output_type": "stream",
     "text": [
      "100%|██████████| 30019/30019 [07:20<00:00, 68.22it/s]\n"
     ]
    },
    {
     "name": "stdout",
     "output_type": "stream",
     "text": [
      "Saving results in C:/DeepLabCutProjects/DLC-Atanu-2024-12-25/Analyzed-videos-temp/...\n",
      "Saving csv poses!\n",
      "Starting to analyze %  C:\\DeepLabCutProjects\\DLC-Atanu-2024-12-25\\Videos-to-analyze-temp\\Food_Only_Gen_2_2_13_25_S3_P_CNO__I_J_K_O_Trial_1_bottom_left.mp4\n",
      "Loading  C:\\DeepLabCutProjects\\DLC-Atanu-2024-12-25\\Videos-to-analyze-temp\\Food_Only_Gen_2_2_13_25_S3_P_CNO__I_J_K_O_Trial_1_bottom_left.mp4\n",
      "Duration of video [s]:  1200.64 , recorded with  25.0 fps!\n",
      "Overall # of frames:  30016  found with (before cropping) frame dimensions:  360 288\n",
      "Starting to extract posture\n"
     ]
    },
    {
     "name": "stderr",
     "output_type": "stream",
     "text": [
      "100%|██████████| 30016/30016 [07:19<00:00, 68.26it/s]\n"
     ]
    },
    {
     "name": "stdout",
     "output_type": "stream",
     "text": [
      "Saving results in C:/DeepLabCutProjects/DLC-Atanu-2024-12-25/Analyzed-videos-temp/...\n",
      "Saving csv poses!\n",
      "Starting to analyze %  C:\\DeepLabCutProjects\\DLC-Atanu-2024-12-25\\Videos-to-analyze-temp\\Food_Only_Gen_2_2_13_25_S3_P_CNO__I_J_K_O_Trial_1_bottom_right.mp4\n",
      "Loading  C:\\DeepLabCutProjects\\DLC-Atanu-2024-12-25\\Videos-to-analyze-temp\\Food_Only_Gen_2_2_13_25_S3_P_CNO__I_J_K_O_Trial_1_bottom_right.mp4\n",
      "Duration of video [s]:  1200.64 , recorded with  25.0 fps!\n",
      "Overall # of frames:  30016  found with (before cropping) frame dimensions:  360 288\n",
      "Starting to extract posture\n"
     ]
    },
    {
     "name": "stderr",
     "output_type": "stream",
     "text": [
      "100%|██████████| 30016/30016 [07:19<00:00, 68.27it/s]\n"
     ]
    },
    {
     "name": "stdout",
     "output_type": "stream",
     "text": [
      "Saving results in C:/DeepLabCutProjects/DLC-Atanu-2024-12-25/Analyzed-videos-temp/...\n",
      "Saving csv poses!\n",
      "Starting to analyze %  C:\\DeepLabCutProjects\\DLC-Atanu-2024-12-25\\Videos-to-analyze-temp\\Food_Only_Gen_2_2_13_25_S3_P_CNO__I_J_K_O_Trial_1_top_left.mp4\n",
      "Loading  C:\\DeepLabCutProjects\\DLC-Atanu-2024-12-25\\Videos-to-analyze-temp\\Food_Only_Gen_2_2_13_25_S3_P_CNO__I_J_K_O_Trial_1_top_left.mp4\n",
      "Duration of video [s]:  1200.64 , recorded with  25.0 fps!\n",
      "Overall # of frames:  30016  found with (before cropping) frame dimensions:  360 288\n",
      "Starting to extract posture\n"
     ]
    },
    {
     "name": "stderr",
     "output_type": "stream",
     "text": [
      "100%|██████████| 30016/30016 [07:19<00:00, 68.23it/s]\n"
     ]
    },
    {
     "name": "stdout",
     "output_type": "stream",
     "text": [
      "Saving results in C:/DeepLabCutProjects/DLC-Atanu-2024-12-25/Analyzed-videos-temp/...\n",
      "Saving csv poses!\n",
      "Starting to analyze %  C:\\DeepLabCutProjects\\DLC-Atanu-2024-12-25\\Videos-to-analyze-temp\\Food_Only_Gen_2_2_13_25_S3_P_CNO__I_J_K_O_Trial_1_top_right.mp4\n",
      "Loading  C:\\DeepLabCutProjects\\DLC-Atanu-2024-12-25\\Videos-to-analyze-temp\\Food_Only_Gen_2_2_13_25_S3_P_CNO__I_J_K_O_Trial_1_top_right.mp4\n",
      "Duration of video [s]:  1200.64 , recorded with  25.0 fps!\n",
      "Overall # of frames:  30016  found with (before cropping) frame dimensions:  360 288\n",
      "Starting to extract posture\n"
     ]
    },
    {
     "name": "stderr",
     "output_type": "stream",
     "text": [
      "100%|██████████| 30016/30016 [07:19<00:00, 68.27it/s]\n"
     ]
    },
    {
     "name": "stdout",
     "output_type": "stream",
     "text": [
      "Saving results in C:/DeepLabCutProjects/DLC-Atanu-2024-12-25/Analyzed-videos-temp/...\n",
      "Saving csv poses!\n",
      "Starting to analyze %  C:\\DeepLabCutProjects\\DLC-Atanu-2024-12-25\\Videos-to-analyze-temp\\Food_Only_Gen_2_2_13_25_S4_P_CNO__M_P_Q_None_4_Trial_1_bottom_left.mp4\n",
      "Loading  C:\\DeepLabCutProjects\\DLC-Atanu-2024-12-25\\Videos-to-analyze-temp\\Food_Only_Gen_2_2_13_25_S4_P_CNO__M_P_Q_None_4_Trial_1_bottom_left.mp4\n",
      "Duration of video [s]:  1200.64 , recorded with  25.0 fps!\n",
      "Overall # of frames:  30016  found with (before cropping) frame dimensions:  360 288\n",
      "Starting to extract posture\n"
     ]
    },
    {
     "name": "stderr",
     "output_type": "stream",
     "text": [
      "100%|██████████| 30016/30016 [07:19<00:00, 68.25it/s]\n"
     ]
    },
    {
     "name": "stdout",
     "output_type": "stream",
     "text": [
      "Saving results in C:/DeepLabCutProjects/DLC-Atanu-2024-12-25/Analyzed-videos-temp/...\n",
      "Saving csv poses!\n",
      "Starting to analyze %  C:\\DeepLabCutProjects\\DLC-Atanu-2024-12-25\\Videos-to-analyze-temp\\Food_Only_Gen_2_2_13_25_S4_P_CNO__M_P_Q_None_4_Trial_1_bottom_right.mp4\n",
      "Loading  C:\\DeepLabCutProjects\\DLC-Atanu-2024-12-25\\Videos-to-analyze-temp\\Food_Only_Gen_2_2_13_25_S4_P_CNO__M_P_Q_None_4_Trial_1_bottom_right.mp4\n",
      "Duration of video [s]:  1200.64 , recorded with  25.0 fps!\n",
      "Overall # of frames:  30016  found with (before cropping) frame dimensions:  360 288\n",
      "Starting to extract posture\n"
     ]
    },
    {
     "name": "stderr",
     "output_type": "stream",
     "text": [
      "100%|██████████| 30016/30016 [07:19<00:00, 68.24it/s]\n"
     ]
    },
    {
     "name": "stdout",
     "output_type": "stream",
     "text": [
      "Saving results in C:/DeepLabCutProjects/DLC-Atanu-2024-12-25/Analyzed-videos-temp/...\n",
      "Saving csv poses!\n",
      "Starting to analyze %  C:\\DeepLabCutProjects\\DLC-Atanu-2024-12-25\\Videos-to-analyze-temp\\Food_Only_Gen_2_2_13_25_S4_P_CNO__M_P_Q_None_4_Trial_1_top_left.mp4\n",
      "Loading  C:\\DeepLabCutProjects\\DLC-Atanu-2024-12-25\\Videos-to-analyze-temp\\Food_Only_Gen_2_2_13_25_S4_P_CNO__M_P_Q_None_4_Trial_1_top_left.mp4\n",
      "Duration of video [s]:  1200.64 , recorded with  25.0 fps!\n",
      "Overall # of frames:  30016  found with (before cropping) frame dimensions:  360 288\n",
      "Starting to extract posture\n"
     ]
    },
    {
     "name": "stderr",
     "output_type": "stream",
     "text": [
      "100%|██████████| 30016/30016 [07:19<00:00, 68.22it/s]\n"
     ]
    },
    {
     "name": "stdout",
     "output_type": "stream",
     "text": [
      "Saving results in C:/DeepLabCutProjects/DLC-Atanu-2024-12-25/Analyzed-videos-temp/...\n",
      "Saving csv poses!\n",
      "Starting to analyze %  C:\\DeepLabCutProjects\\DLC-Atanu-2024-12-25\\Videos-to-analyze-temp\\Food_Only_Gen_2_2_13_25_S4_P_CNO__M_P_Q_None_4_Trial_1_top_right.mp4\n",
      "Loading  C:\\DeepLabCutProjects\\DLC-Atanu-2024-12-25\\Videos-to-analyze-temp\\Food_Only_Gen_2_2_13_25_S4_P_CNO__M_P_Q_None_4_Trial_1_top_right.mp4\n",
      "Duration of video [s]:  1200.64 , recorded with  25.0 fps!\n",
      "Overall # of frames:  30016  found with (before cropping) frame dimensions:  360 288\n",
      "Starting to extract posture\n"
     ]
    },
    {
     "name": "stderr",
     "output_type": "stream",
     "text": [
      "100%|██████████| 30016/30016 [07:19<00:00, 68.24it/s]\n"
     ]
    },
    {
     "name": "stdout",
     "output_type": "stream",
     "text": [
      "Saving results in C:/DeepLabCutProjects/DLC-Atanu-2024-12-25/Analyzed-videos-temp/...\n",
      "Saving csv poses!\n",
      "Starting to analyze %  C:\\DeepLabCutProjects\\DLC-Atanu-2024-12-25\\Videos-to-analyze-temp\\Food_Only_Gen_2_Gen_2.5_S1_Y_CNO__1_2_3_4_Trial_1_bottom_left.mp4\n",
      "Loading  C:\\DeepLabCutProjects\\DLC-Atanu-2024-12-25\\Videos-to-analyze-temp\\Food_Only_Gen_2_Gen_2.5_S1_Y_CNO__1_2_3_4_Trial_1_bottom_left.mp4\n",
      "Duration of video [s]:  1200.8 , recorded with  25.0 fps!\n",
      "Overall # of frames:  30020  found with (before cropping) frame dimensions:  360 288\n",
      "Starting to extract posture\n"
     ]
    },
    {
     "name": "stderr",
     "output_type": "stream",
     "text": [
      "100%|██████████| 30020/30020 [07:20<00:00, 68.21it/s]\n"
     ]
    },
    {
     "name": "stdout",
     "output_type": "stream",
     "text": [
      "Saving results in C:/DeepLabCutProjects/DLC-Atanu-2024-12-25/Analyzed-videos-temp/...\n",
      "Saving csv poses!\n",
      "Starting to analyze %  C:\\DeepLabCutProjects\\DLC-Atanu-2024-12-25\\Videos-to-analyze-temp\\Food_Only_Gen_2_Gen_2.5_S1_Y_CNO__1_2_3_4_Trial_1_bottom_right.mp4\n",
      "Loading  C:\\DeepLabCutProjects\\DLC-Atanu-2024-12-25\\Videos-to-analyze-temp\\Food_Only_Gen_2_Gen_2.5_S1_Y_CNO__1_2_3_4_Trial_1_bottom_right.mp4\n",
      "Duration of video [s]:  1200.8 , recorded with  25.0 fps!\n",
      "Overall # of frames:  30020  found with (before cropping) frame dimensions:  360 288\n",
      "Starting to extract posture\n"
     ]
    },
    {
     "name": "stderr",
     "output_type": "stream",
     "text": [
      "100%|██████████| 30020/30020 [07:19<00:00, 68.24it/s]\n"
     ]
    },
    {
     "name": "stdout",
     "output_type": "stream",
     "text": [
      "Saving results in C:/DeepLabCutProjects/DLC-Atanu-2024-12-25/Analyzed-videos-temp/...\n",
      "Saving csv poses!\n",
      "Starting to analyze %  C:\\DeepLabCutProjects\\DLC-Atanu-2024-12-25\\Videos-to-analyze-temp\\Food_Only_Gen_2_Gen_2.5_S1_Y_CNO__1_2_3_4_Trial_1_top_left.mp4\n",
      "Loading  C:\\DeepLabCutProjects\\DLC-Atanu-2024-12-25\\Videos-to-analyze-temp\\Food_Only_Gen_2_Gen_2.5_S1_Y_CNO__1_2_3_4_Trial_1_top_left.mp4\n",
      "Duration of video [s]:  1200.8 , recorded with  25.0 fps!\n",
      "Overall # of frames:  30020  found with (before cropping) frame dimensions:  360 288\n",
      "Starting to extract posture\n"
     ]
    },
    {
     "name": "stderr",
     "output_type": "stream",
     "text": [
      "100%|██████████| 30020/30020 [07:19<00:00, 68.26it/s]\n"
     ]
    },
    {
     "name": "stdout",
     "output_type": "stream",
     "text": [
      "Saving results in C:/DeepLabCutProjects/DLC-Atanu-2024-12-25/Analyzed-videos-temp/...\n",
      "Saving csv poses!\n",
      "Starting to analyze %  C:\\DeepLabCutProjects\\DLC-Atanu-2024-12-25\\Videos-to-analyze-temp\\Food_Only_Gen_2_Gen_2.5_S1_Y_CNO__1_2_3_4_Trial_1_top_right.mp4\n",
      "Loading  C:\\DeepLabCutProjects\\DLC-Atanu-2024-12-25\\Videos-to-analyze-temp\\Food_Only_Gen_2_Gen_2.5_S1_Y_CNO__1_2_3_4_Trial_1_top_right.mp4\n",
      "Duration of video [s]:  1200.8 , recorded with  25.0 fps!\n",
      "Overall # of frames:  30020  found with (before cropping) frame dimensions:  360 288\n",
      "Starting to extract posture\n"
     ]
    },
    {
     "name": "stderr",
     "output_type": "stream",
     "text": [
      "100%|██████████| 30020/30020 [07:20<00:00, 68.22it/s]\n"
     ]
    },
    {
     "name": "stdout",
     "output_type": "stream",
     "text": [
      "Saving results in C:/DeepLabCutProjects/DLC-Atanu-2024-12-25/Analyzed-videos-temp/...\n",
      "Saving csv poses!\n",
      "Starting to analyze %  C:\\DeepLabCutProjects\\DLC-Atanu-2024-12-25\\Videos-to-analyze-temp\\Food_Only_Gen_2_Gen_2.5_S2_Y_CNO__5_6_7_8_Trial_1_bottom_left.mp4\n",
      "Loading  C:\\DeepLabCutProjects\\DLC-Atanu-2024-12-25\\Videos-to-analyze-temp\\Food_Only_Gen_2_Gen_2.5_S2_Y_CNO__5_6_7_8_Trial_1_bottom_left.mp4\n",
      "Duration of video [s]:  1200.68 , recorded with  25.0 fps!\n",
      "Overall # of frames:  30017  found with (before cropping) frame dimensions:  360 288\n",
      "Starting to extract posture\n"
     ]
    },
    {
     "name": "stderr",
     "output_type": "stream",
     "text": [
      "100%|██████████| 30017/30017 [07:19<00:00, 68.24it/s]\n"
     ]
    },
    {
     "name": "stdout",
     "output_type": "stream",
     "text": [
      "Saving results in C:/DeepLabCutProjects/DLC-Atanu-2024-12-25/Analyzed-videos-temp/...\n",
      "Saving csv poses!\n",
      "Starting to analyze %  C:\\DeepLabCutProjects\\DLC-Atanu-2024-12-25\\Videos-to-analyze-temp\\Food_Only_Gen_2_Gen_2.5_S2_Y_CNO__5_6_7_8_Trial_1_bottom_right.mp4\n",
      "Loading  C:\\DeepLabCutProjects\\DLC-Atanu-2024-12-25\\Videos-to-analyze-temp\\Food_Only_Gen_2_Gen_2.5_S2_Y_CNO__5_6_7_8_Trial_1_bottom_right.mp4\n",
      "Duration of video [s]:  1200.68 , recorded with  25.0 fps!\n",
      "Overall # of frames:  30017  found with (before cropping) frame dimensions:  360 288\n",
      "Starting to extract posture\n"
     ]
    },
    {
     "name": "stderr",
     "output_type": "stream",
     "text": [
      "100%|██████████| 30017/30017 [07:19<00:00, 68.24it/s]\n"
     ]
    },
    {
     "name": "stdout",
     "output_type": "stream",
     "text": [
      "Saving results in C:/DeepLabCutProjects/DLC-Atanu-2024-12-25/Analyzed-videos-temp/...\n",
      "Saving csv poses!\n",
      "Starting to analyze %  C:\\DeepLabCutProjects\\DLC-Atanu-2024-12-25\\Videos-to-analyze-temp\\Food_Only_Gen_2_Gen_2.5_S2_Y_CNO__5_6_7_8_Trial_1_top_left.mp4\n",
      "Loading  C:\\DeepLabCutProjects\\DLC-Atanu-2024-12-25\\Videos-to-analyze-temp\\Food_Only_Gen_2_Gen_2.5_S2_Y_CNO__5_6_7_8_Trial_1_top_left.mp4\n",
      "Duration of video [s]:  1200.68 , recorded with  25.0 fps!\n",
      "Overall # of frames:  30017  found with (before cropping) frame dimensions:  360 288\n",
      "Starting to extract posture\n"
     ]
    },
    {
     "name": "stderr",
     "output_type": "stream",
     "text": [
      "100%|██████████| 30017/30017 [07:20<00:00, 68.21it/s]\n"
     ]
    },
    {
     "name": "stdout",
     "output_type": "stream",
     "text": [
      "Saving results in C:/DeepLabCutProjects/DLC-Atanu-2024-12-25/Analyzed-videos-temp/...\n",
      "Saving csv poses!\n",
      "Starting to analyze %  C:\\DeepLabCutProjects\\DLC-Atanu-2024-12-25\\Videos-to-analyze-temp\\Food_Only_Gen_2_Gen_2.5_S2_Y_CNO__5_6_7_8_Trial_1_top_right.mp4\n",
      "Loading  C:\\DeepLabCutProjects\\DLC-Atanu-2024-12-25\\Videos-to-analyze-temp\\Food_Only_Gen_2_Gen_2.5_S2_Y_CNO__5_6_7_8_Trial_1_top_right.mp4\n",
      "Duration of video [s]:  1200.68 , recorded with  25.0 fps!\n",
      "Overall # of frames:  30017  found with (before cropping) frame dimensions:  360 288\n",
      "Starting to extract posture\n"
     ]
    },
    {
     "name": "stderr",
     "output_type": "stream",
     "text": [
      "100%|██████████| 30017/30017 [07:20<00:00, 68.19it/s]\n"
     ]
    },
    {
     "name": "stdout",
     "output_type": "stream",
     "text": [
      "Saving results in C:/DeepLabCutProjects/DLC-Atanu-2024-12-25/Analyzed-videos-temp/...\n",
      "Saving csv poses!\n",
      "Starting to analyze %  C:\\DeepLabCutProjects\\DLC-Atanu-2024-12-25\\Videos-to-analyze-temp\\Light_Only_Dwarves_2_21_25_S1_Y_CNO__Dopey_Grumpy_Sneezy_Doc_Trial_1_bottom_left.mp4\n",
      "Loading  C:\\DeepLabCutProjects\\DLC-Atanu-2024-12-25\\Videos-to-analyze-temp\\Light_Only_Dwarves_2_21_25_S1_Y_CNO__Dopey_Grumpy_Sneezy_Doc_Trial_1_bottom_left.mp4\n",
      "Duration of video [s]:  1200.64 , recorded with  25.0 fps!\n",
      "Overall # of frames:  30016  found with (before cropping) frame dimensions:  360 288\n",
      "Starting to extract posture\n"
     ]
    },
    {
     "name": "stderr",
     "output_type": "stream",
     "text": [
      "100%|██████████| 30016/30016 [07:19<00:00, 68.25it/s]\n"
     ]
    },
    {
     "name": "stdout",
     "output_type": "stream",
     "text": [
      "Saving results in C:/DeepLabCutProjects/DLC-Atanu-2024-12-25/Analyzed-videos-temp/...\n",
      "Saving csv poses!\n",
      "Starting to analyze %  C:\\DeepLabCutProjects\\DLC-Atanu-2024-12-25\\Videos-to-analyze-temp\\Light_Only_Dwarves_2_21_25_S1_Y_CNO__Dopey_Grumpy_Sneezy_Doc_Trial_1_bottom_right.mp4\n",
      "Loading  C:\\DeepLabCutProjects\\DLC-Atanu-2024-12-25\\Videos-to-analyze-temp\\Light_Only_Dwarves_2_21_25_S1_Y_CNO__Dopey_Grumpy_Sneezy_Doc_Trial_1_bottom_right.mp4\n",
      "Duration of video [s]:  1200.64 , recorded with  25.0 fps!\n",
      "Overall # of frames:  30016  found with (before cropping) frame dimensions:  360 288\n",
      "Starting to extract posture\n"
     ]
    },
    {
     "name": "stderr",
     "output_type": "stream",
     "text": [
      "100%|██████████| 30016/30016 [07:19<00:00, 68.23it/s]\n"
     ]
    },
    {
     "name": "stdout",
     "output_type": "stream",
     "text": [
      "Saving results in C:/DeepLabCutProjects/DLC-Atanu-2024-12-25/Analyzed-videos-temp/...\n",
      "Saving csv poses!\n",
      "Starting to analyze %  C:\\DeepLabCutProjects\\DLC-Atanu-2024-12-25\\Videos-to-analyze-temp\\Light_Only_Dwarves_2_21_25_S1_Y_CNO__Dopey_Grumpy_Sneezy_Doc_Trial_1_top_left.mp4\n",
      "Loading  C:\\DeepLabCutProjects\\DLC-Atanu-2024-12-25\\Videos-to-analyze-temp\\Light_Only_Dwarves_2_21_25_S1_Y_CNO__Dopey_Grumpy_Sneezy_Doc_Trial_1_top_left.mp4\n",
      "Duration of video [s]:  1200.64 , recorded with  25.0 fps!\n",
      "Overall # of frames:  30016  found with (before cropping) frame dimensions:  360 288\n",
      "Starting to extract posture\n"
     ]
    },
    {
     "name": "stderr",
     "output_type": "stream",
     "text": [
      "100%|██████████| 30016/30016 [07:19<00:00, 68.22it/s]\n"
     ]
    },
    {
     "name": "stdout",
     "output_type": "stream",
     "text": [
      "Saving results in C:/DeepLabCutProjects/DLC-Atanu-2024-12-25/Analyzed-videos-temp/...\n",
      "Saving csv poses!\n",
      "Starting to analyze %  C:\\DeepLabCutProjects\\DLC-Atanu-2024-12-25\\Videos-to-analyze-temp\\Light_Only_Dwarves_2_21_25_S1_Y_CNO__Dopey_Grumpy_Sneezy_Doc_Trial_1_top_right.mp4\n",
      "Loading  C:\\DeepLabCutProjects\\DLC-Atanu-2024-12-25\\Videos-to-analyze-temp\\Light_Only_Dwarves_2_21_25_S1_Y_CNO__Dopey_Grumpy_Sneezy_Doc_Trial_1_top_right.mp4\n",
      "Duration of video [s]:  1200.64 , recorded with  25.0 fps!\n",
      "Overall # of frames:  30016  found with (before cropping) frame dimensions:  360 288\n",
      "Starting to extract posture\n"
     ]
    },
    {
     "name": "stderr",
     "output_type": "stream",
     "text": [
      "100%|██████████| 30016/30016 [07:19<00:00, 68.25it/s]\n"
     ]
    },
    {
     "name": "stdout",
     "output_type": "stream",
     "text": [
      "Saving results in C:/DeepLabCutProjects/DLC-Atanu-2024-12-25/Analyzed-videos-temp/...\n",
      "Saving csv poses!\n",
      "Starting to analyze %  C:\\DeepLabCutProjects\\DLC-Atanu-2024-12-25\\Videos-to-analyze-temp\\Light_Only_Dwarves_2_21_25_S2_Y_CNO__Bashful_Happy_Sleepy_None_4_Trial_1_bottom_left.mp4\n",
      "Loading  C:\\DeepLabCutProjects\\DLC-Atanu-2024-12-25\\Videos-to-analyze-temp\\Light_Only_Dwarves_2_21_25_S2_Y_CNO__Bashful_Happy_Sleepy_None_4_Trial_1_bottom_left.mp4\n",
      "Duration of video [s]:  1200.8 , recorded with  25.0 fps!\n",
      "Overall # of frames:  30020  found with (before cropping) frame dimensions:  360 288\n",
      "Starting to extract posture\n"
     ]
    },
    {
     "name": "stderr",
     "output_type": "stream",
     "text": [
      "100%|██████████| 30020/30020 [07:20<00:00, 68.23it/s]\n"
     ]
    },
    {
     "name": "stdout",
     "output_type": "stream",
     "text": [
      "Saving results in C:/DeepLabCutProjects/DLC-Atanu-2024-12-25/Analyzed-videos-temp/...\n",
      "Saving csv poses!\n",
      "Starting to analyze %  C:\\DeepLabCutProjects\\DLC-Atanu-2024-12-25\\Videos-to-analyze-temp\\Light_Only_Dwarves_2_21_25_S2_Y_CNO__Bashful_Happy_Sleepy_None_4_Trial_1_bottom_right.mp4\n",
      "Loading  C:\\DeepLabCutProjects\\DLC-Atanu-2024-12-25\\Videos-to-analyze-temp\\Light_Only_Dwarves_2_21_25_S2_Y_CNO__Bashful_Happy_Sleepy_None_4_Trial_1_bottom_right.mp4\n",
      "Duration of video [s]:  1200.8 , recorded with  25.0 fps!\n",
      "Overall # of frames:  30020  found with (before cropping) frame dimensions:  360 288\n",
      "Starting to extract posture\n"
     ]
    },
    {
     "name": "stderr",
     "output_type": "stream",
     "text": [
      "100%|██████████| 30020/30020 [07:19<00:00, 68.25it/s]\n"
     ]
    },
    {
     "name": "stdout",
     "output_type": "stream",
     "text": [
      "Saving results in C:/DeepLabCutProjects/DLC-Atanu-2024-12-25/Analyzed-videos-temp/...\n",
      "Saving csv poses!\n",
      "Starting to analyze %  C:\\DeepLabCutProjects\\DLC-Atanu-2024-12-25\\Videos-to-analyze-temp\\Light_Only_Dwarves_2_21_25_S2_Y_CNO__Bashful_Happy_Sleepy_None_4_Trial_1_top_left.mp4\n",
      "Loading  C:\\DeepLabCutProjects\\DLC-Atanu-2024-12-25\\Videos-to-analyze-temp\\Light_Only_Dwarves_2_21_25_S2_Y_CNO__Bashful_Happy_Sleepy_None_4_Trial_1_top_left.mp4\n",
      "Duration of video [s]:  1200.8 , recorded with  25.0 fps!\n",
      "Overall # of frames:  30020  found with (before cropping) frame dimensions:  360 288\n",
      "Starting to extract posture\n"
     ]
    },
    {
     "name": "stderr",
     "output_type": "stream",
     "text": [
      "100%|██████████| 30020/30020 [07:20<00:00, 68.22it/s]\n"
     ]
    },
    {
     "name": "stdout",
     "output_type": "stream",
     "text": [
      "Saving results in C:/DeepLabCutProjects/DLC-Atanu-2024-12-25/Analyzed-videos-temp/...\n",
      "Saving csv poses!\n",
      "Starting to analyze %  C:\\DeepLabCutProjects\\DLC-Atanu-2024-12-25\\Videos-to-analyze-temp\\Light_Only_Dwarves_2_21_25_S2_Y_CNO__Bashful_Happy_Sleepy_None_4_Trial_1_top_right.mp4\n",
      "Loading  C:\\DeepLabCutProjects\\DLC-Atanu-2024-12-25\\Videos-to-analyze-temp\\Light_Only_Dwarves_2_21_25_S2_Y_CNO__Bashful_Happy_Sleepy_None_4_Trial_1_top_right.mp4\n",
      "Duration of video [s]:  1200.8 , recorded with  25.0 fps!\n",
      "Overall # of frames:  30020  found with (before cropping) frame dimensions:  360 288\n",
      "Starting to extract posture\n"
     ]
    },
    {
     "name": "stderr",
     "output_type": "stream",
     "text": [
      "100%|██████████| 30020/30020 [07:20<00:00, 68.19it/s]\n"
     ]
    },
    {
     "name": "stdout",
     "output_type": "stream",
     "text": [
      "Saving results in C:/DeepLabCutProjects/DLC-Atanu-2024-12-25/Analyzed-videos-temp/...\n",
      "Saving csv poses!\n",
      "Starting to analyze %  C:\\DeepLabCutProjects\\DLC-Atanu-2024-12-25\\Videos-to-analyze-temp\\Light_Only_Dwarves_2_21_25_S3_Y_CNO__Roy_Sam_None_3_None_4_Trial_1_bottom_left.mp4\n",
      "Loading  C:\\DeepLabCutProjects\\DLC-Atanu-2024-12-25\\Videos-to-analyze-temp\\Light_Only_Dwarves_2_21_25_S3_Y_CNO__Roy_Sam_None_3_None_4_Trial_1_bottom_left.mp4\n",
      "Duration of video [s]:  1200.6 , recorded with  25.0 fps!\n",
      "Overall # of frames:  30015  found with (before cropping) frame dimensions:  360 288\n",
      "Starting to extract posture\n"
     ]
    },
    {
     "name": "stderr",
     "output_type": "stream",
     "text": [
      "100%|██████████| 30015/30015 [07:22<00:00, 67.80it/s]\n"
     ]
    },
    {
     "name": "stdout",
     "output_type": "stream",
     "text": [
      "Saving results in C:/DeepLabCutProjects/DLC-Atanu-2024-12-25/Analyzed-videos-temp/...\n",
      "Saving csv poses!\n",
      "Starting to analyze %  C:\\DeepLabCutProjects\\DLC-Atanu-2024-12-25\\Videos-to-analyze-temp\\Light_Only_Dwarves_2_21_25_S3_Y_CNO__Roy_Sam_None_3_None_4_Trial_1_bottom_right.mp4\n",
      "Loading  C:\\DeepLabCutProjects\\DLC-Atanu-2024-12-25\\Videos-to-analyze-temp\\Light_Only_Dwarves_2_21_25_S3_Y_CNO__Roy_Sam_None_3_None_4_Trial_1_bottom_right.mp4\n",
      "Duration of video [s]:  1200.6 , recorded with  25.0 fps!\n",
      "Overall # of frames:  30015  found with (before cropping) frame dimensions:  360 288\n",
      "Starting to extract posture\n"
     ]
    },
    {
     "name": "stderr",
     "output_type": "stream",
     "text": [
      "100%|██████████| 30015/30015 [07:22<00:00, 67.84it/s]\n"
     ]
    },
    {
     "name": "stdout",
     "output_type": "stream",
     "text": [
      "Saving results in C:/DeepLabCutProjects/DLC-Atanu-2024-12-25/Analyzed-videos-temp/...\n",
      "Saving csv poses!\n",
      "Starting to analyze %  C:\\DeepLabCutProjects\\DLC-Atanu-2024-12-25\\Videos-to-analyze-temp\\Light_Only_Dwarves_2_21_25_S3_Y_CNO__Roy_Sam_None_3_None_4_Trial_1_top_left.mp4\n",
      "Loading  C:\\DeepLabCutProjects\\DLC-Atanu-2024-12-25\\Videos-to-analyze-temp\\Light_Only_Dwarves_2_21_25_S3_Y_CNO__Roy_Sam_None_3_None_4_Trial_1_top_left.mp4\n",
      "Duration of video [s]:  1200.6 , recorded with  25.0 fps!\n",
      "Overall # of frames:  30015  found with (before cropping) frame dimensions:  360 288\n",
      "Starting to extract posture\n"
     ]
    },
    {
     "name": "stderr",
     "output_type": "stream",
     "text": [
      "100%|██████████| 30015/30015 [07:20<00:00, 68.20it/s]\n"
     ]
    },
    {
     "name": "stdout",
     "output_type": "stream",
     "text": [
      "Saving results in C:/DeepLabCutProjects/DLC-Atanu-2024-12-25/Analyzed-videos-temp/...\n",
      "Saving csv poses!\n",
      "Starting to analyze %  C:\\DeepLabCutProjects\\DLC-Atanu-2024-12-25\\Videos-to-analyze-temp\\Light_Only_Dwarves_2_21_25_S3_Y_CNO__Roy_Sam_None_3_None_4_Trial_1_top_right.mp4\n",
      "Loading  C:\\DeepLabCutProjects\\DLC-Atanu-2024-12-25\\Videos-to-analyze-temp\\Light_Only_Dwarves_2_21_25_S3_Y_CNO__Roy_Sam_None_3_None_4_Trial_1_top_right.mp4\n",
      "Duration of video [s]:  1200.6 , recorded with  25.0 fps!\n",
      "Overall # of frames:  30015  found with (before cropping) frame dimensions:  360 288\n",
      "Starting to extract posture\n"
     ]
    },
    {
     "name": "stderr",
     "output_type": "stream",
     "text": [
      "100%|██████████| 30015/30015 [07:20<00:00, 68.19it/s]\n"
     ]
    },
    {
     "name": "stdout",
     "output_type": "stream",
     "text": [
      "Saving results in C:/DeepLabCutProjects/DLC-Atanu-2024-12-25/Analyzed-videos-temp/...\n",
      "Saving csv poses!\n",
      "Starting to analyze %  C:\\DeepLabCutProjects\\DLC-Atanu-2024-12-25\\Videos-to-analyze-temp\\Light_Only_Dwarves_2_21_25_S4_Y_CNO__Ivy_May_None_3_None_4_Trial_1_bottom_left.mp4\n",
      "Loading  C:\\DeepLabCutProjects\\DLC-Atanu-2024-12-25\\Videos-to-analyze-temp\\Light_Only_Dwarves_2_21_25_S4_Y_CNO__Ivy_May_None_3_None_4_Trial_1_bottom_left.mp4\n",
      "Duration of video [s]:  1200.56 , recorded with  25.0 fps!\n",
      "Overall # of frames:  30014  found with (before cropping) frame dimensions:  360 288\n",
      "Starting to extract posture\n"
     ]
    },
    {
     "name": "stderr",
     "output_type": "stream",
     "text": [
      "100%|██████████| 30014/30014 [07:19<00:00, 68.22it/s]\n"
     ]
    },
    {
     "name": "stdout",
     "output_type": "stream",
     "text": [
      "Saving results in C:/DeepLabCutProjects/DLC-Atanu-2024-12-25/Analyzed-videos-temp/...\n",
      "Saving csv poses!\n",
      "Starting to analyze %  C:\\DeepLabCutProjects\\DLC-Atanu-2024-12-25\\Videos-to-analyze-temp\\Light_Only_Dwarves_2_21_25_S4_Y_CNO__Ivy_May_None_3_None_4_Trial_1_bottom_right.mp4\n",
      "Loading  C:\\DeepLabCutProjects\\DLC-Atanu-2024-12-25\\Videos-to-analyze-temp\\Light_Only_Dwarves_2_21_25_S4_Y_CNO__Ivy_May_None_3_None_4_Trial_1_bottom_right.mp4\n",
      "Duration of video [s]:  1200.56 , recorded with  25.0 fps!\n",
      "Overall # of frames:  30014  found with (before cropping) frame dimensions:  360 288\n",
      "Starting to extract posture\n"
     ]
    },
    {
     "name": "stderr",
     "output_type": "stream",
     "text": [
      "100%|██████████| 30014/30014 [07:20<00:00, 68.21it/s]\n"
     ]
    },
    {
     "name": "stdout",
     "output_type": "stream",
     "text": [
      "Saving results in C:/DeepLabCutProjects/DLC-Atanu-2024-12-25/Analyzed-videos-temp/...\n",
      "Saving csv poses!\n",
      "Starting to analyze %  C:\\DeepLabCutProjects\\DLC-Atanu-2024-12-25\\Videos-to-analyze-temp\\Light_Only_Dwarves_2_21_25_S4_Y_CNO__Ivy_May_None_3_None_4_Trial_1_top_left.mp4\n",
      "Loading  C:\\DeepLabCutProjects\\DLC-Atanu-2024-12-25\\Videos-to-analyze-temp\\Light_Only_Dwarves_2_21_25_S4_Y_CNO__Ivy_May_None_3_None_4_Trial_1_top_left.mp4\n",
      "Duration of video [s]:  1200.56 , recorded with  25.0 fps!\n",
      "Overall # of frames:  30014  found with (before cropping) frame dimensions:  360 288\n",
      "Starting to extract posture\n"
     ]
    },
    {
     "name": "stderr",
     "output_type": "stream",
     "text": [
      "100%|██████████| 30014/30014 [07:20<00:00, 68.21it/s]\n"
     ]
    },
    {
     "name": "stdout",
     "output_type": "stream",
     "text": [
      "Saving results in C:/DeepLabCutProjects/DLC-Atanu-2024-12-25/Analyzed-videos-temp/...\n",
      "Saving csv poses!\n",
      "Starting to analyze %  C:\\DeepLabCutProjects\\DLC-Atanu-2024-12-25\\Videos-to-analyze-temp\\Light_Only_Dwarves_2_21_25_S4_Y_CNO__Ivy_May_None_3_None_4_Trial_1_top_right.mp4\n",
      "Loading  C:\\DeepLabCutProjects\\DLC-Atanu-2024-12-25\\Videos-to-analyze-temp\\Light_Only_Dwarves_2_21_25_S4_Y_CNO__Ivy_May_None_3_None_4_Trial_1_top_right.mp4\n",
      "Duration of video [s]:  1200.56 , recorded with  25.0 fps!\n",
      "Overall # of frames:  30014  found with (before cropping) frame dimensions:  360 288\n",
      "Starting to extract posture\n"
     ]
    },
    {
     "name": "stderr",
     "output_type": "stream",
     "text": [
      "100%|██████████| 30014/30014 [07:20<00:00, 68.20it/s]\n"
     ]
    },
    {
     "name": "stdout",
     "output_type": "stream",
     "text": [
      "Saving results in C:/DeepLabCutProjects/DLC-Atanu-2024-12-25/Analyzed-videos-temp/...\n",
      "Saving csv poses!\n",
      "Starting to analyze %  C:\\DeepLabCutProjects\\DLC-Atanu-2024-12-25\\Videos-to-analyze-temp\\Light_Only_Dwarves_2_28_25_S1_Y_CNO__Dopey_Grumpy_Sneezy_Doc_Trial_1_bottom_left.mp4\n",
      "Loading  C:\\DeepLabCutProjects\\DLC-Atanu-2024-12-25\\Videos-to-analyze-temp\\Light_Only_Dwarves_2_28_25_S1_Y_CNO__Dopey_Grumpy_Sneezy_Doc_Trial_1_bottom_left.mp4\n",
      "Duration of video [s]:  1200.68 , recorded with  25.0 fps!\n",
      "Overall # of frames:  30017  found with (before cropping) frame dimensions:  360 288\n",
      "Starting to extract posture\n"
     ]
    },
    {
     "name": "stderr",
     "output_type": "stream",
     "text": [
      "100%|██████████| 30017/30017 [07:20<00:00, 68.20it/s]\n"
     ]
    },
    {
     "name": "stdout",
     "output_type": "stream",
     "text": [
      "Saving results in C:/DeepLabCutProjects/DLC-Atanu-2024-12-25/Analyzed-videos-temp/...\n",
      "Saving csv poses!\n",
      "Starting to analyze %  C:\\DeepLabCutProjects\\DLC-Atanu-2024-12-25\\Videos-to-analyze-temp\\Light_Only_Dwarves_2_28_25_S1_Y_CNO__Dopey_Grumpy_Sneezy_Doc_Trial_1_bottom_right.mp4\n",
      "Loading  C:\\DeepLabCutProjects\\DLC-Atanu-2024-12-25\\Videos-to-analyze-temp\\Light_Only_Dwarves_2_28_25_S1_Y_CNO__Dopey_Grumpy_Sneezy_Doc_Trial_1_bottom_right.mp4\n",
      "Duration of video [s]:  1200.68 , recorded with  25.0 fps!\n",
      "Overall # of frames:  30017  found with (before cropping) frame dimensions:  360 288\n",
      "Starting to extract posture\n"
     ]
    },
    {
     "name": "stderr",
     "output_type": "stream",
     "text": [
      "100%|██████████| 30017/30017 [07:20<00:00, 68.21it/s]\n"
     ]
    },
    {
     "name": "stdout",
     "output_type": "stream",
     "text": [
      "Saving results in C:/DeepLabCutProjects/DLC-Atanu-2024-12-25/Analyzed-videos-temp/...\n",
      "Saving csv poses!\n",
      "Starting to analyze %  C:\\DeepLabCutProjects\\DLC-Atanu-2024-12-25\\Videos-to-analyze-temp\\Light_Only_Dwarves_2_28_25_S1_Y_CNO__Dopey_Grumpy_Sneezy_Doc_Trial_1_top_left.mp4\n",
      "Loading  C:\\DeepLabCutProjects\\DLC-Atanu-2024-12-25\\Videos-to-analyze-temp\\Light_Only_Dwarves_2_28_25_S1_Y_CNO__Dopey_Grumpy_Sneezy_Doc_Trial_1_top_left.mp4\n",
      "Duration of video [s]:  1200.68 , recorded with  25.0 fps!\n",
      "Overall # of frames:  30017  found with (before cropping) frame dimensions:  360 288\n",
      "Starting to extract posture\n"
     ]
    },
    {
     "name": "stderr",
     "output_type": "stream",
     "text": [
      "100%|██████████| 30017/30017 [07:20<00:00, 68.19it/s]\n"
     ]
    },
    {
     "name": "stdout",
     "output_type": "stream",
     "text": [
      "Saving results in C:/DeepLabCutProjects/DLC-Atanu-2024-12-25/Analyzed-videos-temp/...\n",
      "Saving csv poses!\n",
      "Starting to analyze %  C:\\DeepLabCutProjects\\DLC-Atanu-2024-12-25\\Videos-to-analyze-temp\\Light_Only_Dwarves_2_28_25_S1_Y_CNO__Dopey_Grumpy_Sneezy_Doc_Trial_1_top_right.mp4\n",
      "Loading  C:\\DeepLabCutProjects\\DLC-Atanu-2024-12-25\\Videos-to-analyze-temp\\Light_Only_Dwarves_2_28_25_S1_Y_CNO__Dopey_Grumpy_Sneezy_Doc_Trial_1_top_right.mp4\n",
      "Duration of video [s]:  1200.68 , recorded with  25.0 fps!\n",
      "Overall # of frames:  30017  found with (before cropping) frame dimensions:  360 288\n",
      "Starting to extract posture\n"
     ]
    },
    {
     "name": "stderr",
     "output_type": "stream",
     "text": [
      "100%|██████████| 30017/30017 [07:20<00:00, 68.20it/s]\n"
     ]
    },
    {
     "name": "stdout",
     "output_type": "stream",
     "text": [
      "Saving results in C:/DeepLabCutProjects/DLC-Atanu-2024-12-25/Analyzed-videos-temp/...\n",
      "Saving csv poses!\n",
      "Starting to analyze %  C:\\DeepLabCutProjects\\DLC-Atanu-2024-12-25\\Videos-to-analyze-temp\\Light_Only_Dwarves_2_28_25_S2_Y_CNO__Bashful_Happy_Sleepy_None_4_Trial_1_bottom_left.mp4\n",
      "Loading  C:\\DeepLabCutProjects\\DLC-Atanu-2024-12-25\\Videos-to-analyze-temp\\Light_Only_Dwarves_2_28_25_S2_Y_CNO__Bashful_Happy_Sleepy_None_4_Trial_1_bottom_left.mp4\n",
      "Duration of video [s]:  1200.6 , recorded with  25.0 fps!\n",
      "Overall # of frames:  30015  found with (before cropping) frame dimensions:  360 288\n",
      "Starting to extract posture\n"
     ]
    },
    {
     "name": "stderr",
     "output_type": "stream",
     "text": [
      "100%|██████████| 30015/30015 [07:20<00:00, 68.21it/s]\n"
     ]
    },
    {
     "name": "stdout",
     "output_type": "stream",
     "text": [
      "Saving results in C:/DeepLabCutProjects/DLC-Atanu-2024-12-25/Analyzed-videos-temp/...\n",
      "Saving csv poses!\n",
      "Starting to analyze %  C:\\DeepLabCutProjects\\DLC-Atanu-2024-12-25\\Videos-to-analyze-temp\\Light_Only_Dwarves_2_28_25_S2_Y_CNO__Bashful_Happy_Sleepy_None_4_Trial_1_bottom_right.mp4\n",
      "Loading  C:\\DeepLabCutProjects\\DLC-Atanu-2024-12-25\\Videos-to-analyze-temp\\Light_Only_Dwarves_2_28_25_S2_Y_CNO__Bashful_Happy_Sleepy_None_4_Trial_1_bottom_right.mp4\n",
      "Duration of video [s]:  1200.6 , recorded with  25.0 fps!\n",
      "Overall # of frames:  30015  found with (before cropping) frame dimensions:  360 288\n",
      "Starting to extract posture\n"
     ]
    },
    {
     "name": "stderr",
     "output_type": "stream",
     "text": [
      "100%|██████████| 30015/30015 [07:20<00:00, 68.21it/s]\n"
     ]
    },
    {
     "name": "stdout",
     "output_type": "stream",
     "text": [
      "Saving results in C:/DeepLabCutProjects/DLC-Atanu-2024-12-25/Analyzed-videos-temp/...\n",
      "Saving csv poses!\n",
      "Starting to analyze %  C:\\DeepLabCutProjects\\DLC-Atanu-2024-12-25\\Videos-to-analyze-temp\\Light_Only_Dwarves_2_28_25_S2_Y_CNO__Bashful_Happy_Sleepy_None_4_Trial_1_top_left.mp4\n",
      "Loading  C:\\DeepLabCutProjects\\DLC-Atanu-2024-12-25\\Videos-to-analyze-temp\\Light_Only_Dwarves_2_28_25_S2_Y_CNO__Bashful_Happy_Sleepy_None_4_Trial_1_top_left.mp4\n",
      "Duration of video [s]:  1200.6 , recorded with  25.0 fps!\n",
      "Overall # of frames:  30015  found with (before cropping) frame dimensions:  360 288\n",
      "Starting to extract posture\n"
     ]
    },
    {
     "name": "stderr",
     "output_type": "stream",
     "text": [
      "100%|██████████| 30015/30015 [07:19<00:00, 68.23it/s]\n"
     ]
    },
    {
     "name": "stdout",
     "output_type": "stream",
     "text": [
      "Saving results in C:/DeepLabCutProjects/DLC-Atanu-2024-12-25/Analyzed-videos-temp/...\n",
      "Saving csv poses!\n",
      "Starting to analyze %  C:\\DeepLabCutProjects\\DLC-Atanu-2024-12-25\\Videos-to-analyze-temp\\Light_Only_Dwarves_2_28_25_S2_Y_CNO__Bashful_Happy_Sleepy_None_4_Trial_1_top_right.mp4\n",
      "Loading  C:\\DeepLabCutProjects\\DLC-Atanu-2024-12-25\\Videos-to-analyze-temp\\Light_Only_Dwarves_2_28_25_S2_Y_CNO__Bashful_Happy_Sleepy_None_4_Trial_1_top_right.mp4\n",
      "Duration of video [s]:  1200.6 , recorded with  25.0 fps!\n",
      "Overall # of frames:  30015  found with (before cropping) frame dimensions:  360 288\n",
      "Starting to extract posture\n"
     ]
    },
    {
     "name": "stderr",
     "output_type": "stream",
     "text": [
      "100%|██████████| 30015/30015 [07:20<00:00, 68.18it/s]\n"
     ]
    },
    {
     "name": "stdout",
     "output_type": "stream",
     "text": [
      "Saving results in C:/DeepLabCutProjects/DLC-Atanu-2024-12-25/Analyzed-videos-temp/...\n",
      "Saving csv poses!\n",
      "Starting to analyze %  C:\\DeepLabCutProjects\\DLC-Atanu-2024-12-25\\Videos-to-analyze-temp\\Light_Only_Dwarves_2_28_25_S3_Y_CNO__Roy_Sam_None_3_None_4_Trial_1_bottom_left.mp4\n",
      "Loading  C:\\DeepLabCutProjects\\DLC-Atanu-2024-12-25\\Videos-to-analyze-temp\\Light_Only_Dwarves_2_28_25_S3_Y_CNO__Roy_Sam_None_3_None_4_Trial_1_bottom_left.mp4\n",
      "Duration of video [s]:  1200.68 , recorded with  25.0 fps!\n",
      "Overall # of frames:  30017  found with (before cropping) frame dimensions:  360 288\n",
      "Starting to extract posture\n"
     ]
    },
    {
     "name": "stderr",
     "output_type": "stream",
     "text": [
      "100%|██████████| 30017/30017 [07:20<00:00, 68.19it/s]\n"
     ]
    },
    {
     "name": "stdout",
     "output_type": "stream",
     "text": [
      "Saving results in C:/DeepLabCutProjects/DLC-Atanu-2024-12-25/Analyzed-videos-temp/...\n",
      "Saving csv poses!\n",
      "Starting to analyze %  C:\\DeepLabCutProjects\\DLC-Atanu-2024-12-25\\Videos-to-analyze-temp\\Light_Only_Dwarves_2_28_25_S3_Y_CNO__Roy_Sam_None_3_None_4_Trial_1_bottom_right.mp4\n",
      "Loading  C:\\DeepLabCutProjects\\DLC-Atanu-2024-12-25\\Videos-to-analyze-temp\\Light_Only_Dwarves_2_28_25_S3_Y_CNO__Roy_Sam_None_3_None_4_Trial_1_bottom_right.mp4\n",
      "Duration of video [s]:  1200.68 , recorded with  25.0 fps!\n",
      "Overall # of frames:  30017  found with (before cropping) frame dimensions:  360 288\n",
      "Starting to extract posture\n"
     ]
    },
    {
     "name": "stderr",
     "output_type": "stream",
     "text": [
      "100%|██████████| 30017/30017 [07:20<00:00, 68.21it/s]\n"
     ]
    },
    {
     "name": "stdout",
     "output_type": "stream",
     "text": [
      "Saving results in C:/DeepLabCutProjects/DLC-Atanu-2024-12-25/Analyzed-videos-temp/...\n",
      "Saving csv poses!\n",
      "Starting to analyze %  C:\\DeepLabCutProjects\\DLC-Atanu-2024-12-25\\Videos-to-analyze-temp\\Light_Only_Dwarves_2_28_25_S3_Y_CNO__Roy_Sam_None_3_None_4_Trial_1_top_left.mp4\n",
      "Loading  C:\\DeepLabCutProjects\\DLC-Atanu-2024-12-25\\Videos-to-analyze-temp\\Light_Only_Dwarves_2_28_25_S3_Y_CNO__Roy_Sam_None_3_None_4_Trial_1_top_left.mp4\n",
      "Duration of video [s]:  1200.68 , recorded with  25.0 fps!\n",
      "Overall # of frames:  30017  found with (before cropping) frame dimensions:  360 288\n",
      "Starting to extract posture\n"
     ]
    },
    {
     "name": "stderr",
     "output_type": "stream",
     "text": [
      "100%|██████████| 30017/30017 [07:20<00:00, 68.21it/s]\n"
     ]
    },
    {
     "name": "stdout",
     "output_type": "stream",
     "text": [
      "Saving results in C:/DeepLabCutProjects/DLC-Atanu-2024-12-25/Analyzed-videos-temp/...\n",
      "Saving csv poses!\n",
      "Starting to analyze %  C:\\DeepLabCutProjects\\DLC-Atanu-2024-12-25\\Videos-to-analyze-temp\\Light_Only_Dwarves_2_28_25_S3_Y_CNO__Roy_Sam_None_3_None_4_Trial_1_top_right.mp4\n",
      "Loading  C:\\DeepLabCutProjects\\DLC-Atanu-2024-12-25\\Videos-to-analyze-temp\\Light_Only_Dwarves_2_28_25_S3_Y_CNO__Roy_Sam_None_3_None_4_Trial_1_top_right.mp4\n",
      "Duration of video [s]:  1200.68 , recorded with  25.0 fps!\n",
      "Overall # of frames:  30017  found with (before cropping) frame dimensions:  360 288\n",
      "Starting to extract posture\n"
     ]
    },
    {
     "name": "stderr",
     "output_type": "stream",
     "text": [
      "100%|██████████| 30017/30017 [07:20<00:00, 68.18it/s]\n"
     ]
    },
    {
     "name": "stdout",
     "output_type": "stream",
     "text": [
      "Saving results in C:/DeepLabCutProjects/DLC-Atanu-2024-12-25/Analyzed-videos-temp/...\n",
      "Saving csv poses!\n",
      "Starting to analyze %  C:\\DeepLabCutProjects\\DLC-Atanu-2024-12-25\\Videos-to-analyze-temp\\Light_Only_Dwarves_2_28_25_S4_Y_CNO__Ivy_May_None_3_None_4_Trial_1_bottom_left.mp4\n",
      "Loading  C:\\DeepLabCutProjects\\DLC-Atanu-2024-12-25\\Videos-to-analyze-temp\\Light_Only_Dwarves_2_28_25_S4_Y_CNO__Ivy_May_None_3_None_4_Trial_1_bottom_left.mp4\n",
      "Duration of video [s]:  1200.8 , recorded with  25.0 fps!\n",
      "Overall # of frames:  30020  found with (before cropping) frame dimensions:  360 288\n",
      "Starting to extract posture\n"
     ]
    },
    {
     "name": "stderr",
     "output_type": "stream",
     "text": [
      "100%|██████████| 30020/30020 [07:20<00:00, 68.21it/s]\n"
     ]
    },
    {
     "name": "stdout",
     "output_type": "stream",
     "text": [
      "Saving results in C:/DeepLabCutProjects/DLC-Atanu-2024-12-25/Analyzed-videos-temp/...\n",
      "Saving csv poses!\n",
      "Starting to analyze %  C:\\DeepLabCutProjects\\DLC-Atanu-2024-12-25\\Videos-to-analyze-temp\\Light_Only_Dwarves_2_28_25_S4_Y_CNO__Ivy_May_None_3_None_4_Trial_1_bottom_right.mp4\n",
      "Loading  C:\\DeepLabCutProjects\\DLC-Atanu-2024-12-25\\Videos-to-analyze-temp\\Light_Only_Dwarves_2_28_25_S4_Y_CNO__Ivy_May_None_3_None_4_Trial_1_bottom_right.mp4\n",
      "Duration of video [s]:  1200.8 , recorded with  25.0 fps!\n",
      "Overall # of frames:  30020  found with (before cropping) frame dimensions:  360 288\n",
      "Starting to extract posture\n"
     ]
    },
    {
     "name": "stderr",
     "output_type": "stream",
     "text": [
      "100%|██████████| 30020/30020 [07:19<00:00, 68.24it/s]\n"
     ]
    },
    {
     "name": "stdout",
     "output_type": "stream",
     "text": [
      "Saving results in C:/DeepLabCutProjects/DLC-Atanu-2024-12-25/Analyzed-videos-temp/...\n",
      "Saving csv poses!\n",
      "Starting to analyze %  C:\\DeepLabCutProjects\\DLC-Atanu-2024-12-25\\Videos-to-analyze-temp\\Light_Only_Dwarves_2_28_25_S4_Y_CNO__Ivy_May_None_3_None_4_Trial_1_top_left.mp4\n",
      "Loading  C:\\DeepLabCutProjects\\DLC-Atanu-2024-12-25\\Videos-to-analyze-temp\\Light_Only_Dwarves_2_28_25_S4_Y_CNO__Ivy_May_None_3_None_4_Trial_1_top_left.mp4\n",
      "Duration of video [s]:  1200.8 , recorded with  25.0 fps!\n",
      "Overall # of frames:  30020  found with (before cropping) frame dimensions:  360 288\n",
      "Starting to extract posture\n"
     ]
    },
    {
     "name": "stderr",
     "output_type": "stream",
     "text": [
      "100%|██████████| 30020/30020 [07:20<00:00, 68.22it/s]\n"
     ]
    },
    {
     "name": "stdout",
     "output_type": "stream",
     "text": [
      "Saving results in C:/DeepLabCutProjects/DLC-Atanu-2024-12-25/Analyzed-videos-temp/...\n",
      "Saving csv poses!\n",
      "Starting to analyze %  C:\\DeepLabCutProjects\\DLC-Atanu-2024-12-25\\Videos-to-analyze-temp\\Light_Only_Dwarves_2_28_25_S4_Y_CNO__Ivy_May_None_3_None_4_Trial_1_top_right.mp4\n",
      "Loading  C:\\DeepLabCutProjects\\DLC-Atanu-2024-12-25\\Videos-to-analyze-temp\\Light_Only_Dwarves_2_28_25_S4_Y_CNO__Ivy_May_None_3_None_4_Trial_1_top_right.mp4\n",
      "Duration of video [s]:  1200.8 , recorded with  25.0 fps!\n",
      "Overall # of frames:  30020  found with (before cropping) frame dimensions:  360 288\n",
      "Starting to extract posture\n"
     ]
    },
    {
     "name": "stderr",
     "output_type": "stream",
     "text": [
      "100%|██████████| 30020/30020 [07:20<00:00, 68.23it/s]\n"
     ]
    },
    {
     "name": "stdout",
     "output_type": "stream",
     "text": [
      "Saving results in C:/DeepLabCutProjects/DLC-Atanu-2024-12-25/Analyzed-videos-temp/...\n",
      "Saving csv poses!\n",
      "Starting to analyze %  C:\\DeepLabCutProjects\\DLC-Atanu-2024-12-25\\Videos-to-analyze-temp\\Light_Only_Dwarves_3_5_25_S1_Y_CNO__Dopey_Grumpy_Sneezy_Doc_Trial_1_bottom_left.mp4\n",
      "Loading  C:\\DeepLabCutProjects\\DLC-Atanu-2024-12-25\\Videos-to-analyze-temp\\Light_Only_Dwarves_3_5_25_S1_Y_CNO__Dopey_Grumpy_Sneezy_Doc_Trial_1_bottom_left.mp4\n",
      "Duration of video [s]:  1200.64 , recorded with  25.0 fps!\n",
      "Overall # of frames:  30016  found with (before cropping) frame dimensions:  360 288\n",
      "Starting to extract posture\n"
     ]
    },
    {
     "name": "stderr",
     "output_type": "stream",
     "text": [
      "100%|██████████| 30016/30016 [07:20<00:00, 68.21it/s]\n"
     ]
    },
    {
     "name": "stdout",
     "output_type": "stream",
     "text": [
      "Saving results in C:/DeepLabCutProjects/DLC-Atanu-2024-12-25/Analyzed-videos-temp/...\n",
      "Saving csv poses!\n",
      "Starting to analyze %  C:\\DeepLabCutProjects\\DLC-Atanu-2024-12-25\\Videos-to-analyze-temp\\Light_Only_Dwarves_3_5_25_S1_Y_CNO__Dopey_Grumpy_Sneezy_Doc_Trial_1_bottom_right.mp4\n",
      "Loading  C:\\DeepLabCutProjects\\DLC-Atanu-2024-12-25\\Videos-to-analyze-temp\\Light_Only_Dwarves_3_5_25_S1_Y_CNO__Dopey_Grumpy_Sneezy_Doc_Trial_1_bottom_right.mp4\n",
      "Duration of video [s]:  1200.64 , recorded with  25.0 fps!\n",
      "Overall # of frames:  30016  found with (before cropping) frame dimensions:  360 288\n",
      "Starting to extract posture\n"
     ]
    },
    {
     "name": "stderr",
     "output_type": "stream",
     "text": [
      "100%|██████████| 30016/30016 [07:20<00:00, 68.20it/s]\n"
     ]
    },
    {
     "name": "stdout",
     "output_type": "stream",
     "text": [
      "Saving results in C:/DeepLabCutProjects/DLC-Atanu-2024-12-25/Analyzed-videos-temp/...\n",
      "Saving csv poses!\n",
      "Starting to analyze %  C:\\DeepLabCutProjects\\DLC-Atanu-2024-12-25\\Videos-to-analyze-temp\\Light_Only_Dwarves_3_5_25_S1_Y_CNO__Dopey_Grumpy_Sneezy_Doc_Trial_1_top_left.mp4\n",
      "Loading  C:\\DeepLabCutProjects\\DLC-Atanu-2024-12-25\\Videos-to-analyze-temp\\Light_Only_Dwarves_3_5_25_S1_Y_CNO__Dopey_Grumpy_Sneezy_Doc_Trial_1_top_left.mp4\n",
      "Duration of video [s]:  1200.64 , recorded with  25.0 fps!\n",
      "Overall # of frames:  30016  found with (before cropping) frame dimensions:  360 288\n",
      "Starting to extract posture\n"
     ]
    },
    {
     "name": "stderr",
     "output_type": "stream",
     "text": [
      "100%|██████████| 30016/30016 [07:20<00:00, 68.21it/s]\n"
     ]
    },
    {
     "name": "stdout",
     "output_type": "stream",
     "text": [
      "Saving results in C:/DeepLabCutProjects/DLC-Atanu-2024-12-25/Analyzed-videos-temp/...\n",
      "Saving csv poses!\n",
      "Starting to analyze %  C:\\DeepLabCutProjects\\DLC-Atanu-2024-12-25\\Videos-to-analyze-temp\\Light_Only_Dwarves_3_5_25_S1_Y_CNO__Dopey_Grumpy_Sneezy_Doc_Trial_1_top_right.mp4\n",
      "Loading  C:\\DeepLabCutProjects\\DLC-Atanu-2024-12-25\\Videos-to-analyze-temp\\Light_Only_Dwarves_3_5_25_S1_Y_CNO__Dopey_Grumpy_Sneezy_Doc_Trial_1_top_right.mp4\n",
      "Duration of video [s]:  1200.64 , recorded with  25.0 fps!\n",
      "Overall # of frames:  30016  found with (before cropping) frame dimensions:  360 288\n",
      "Starting to extract posture\n"
     ]
    },
    {
     "name": "stderr",
     "output_type": "stream",
     "text": [
      "100%|██████████| 30016/30016 [07:19<00:00, 68.22it/s]\n"
     ]
    },
    {
     "name": "stdout",
     "output_type": "stream",
     "text": [
      "Saving results in C:/DeepLabCutProjects/DLC-Atanu-2024-12-25/Analyzed-videos-temp/...\n",
      "Saving csv poses!\n",
      "Starting to analyze %  C:\\DeepLabCutProjects\\DLC-Atanu-2024-12-25\\Videos-to-analyze-temp\\Light_Only_Dwarves_3_5_25_S2_Y_CNO__Bashful_Happy_Sleepy_None_4_Trial_1_bottom_left.mp4\n",
      "Loading  C:\\DeepLabCutProjects\\DLC-Atanu-2024-12-25\\Videos-to-analyze-temp\\Light_Only_Dwarves_3_5_25_S2_Y_CNO__Bashful_Happy_Sleepy_None_4_Trial_1_bottom_left.mp4\n",
      "Duration of video [s]:  1200.64 , recorded with  25.0 fps!\n",
      "Overall # of frames:  30016  found with (before cropping) frame dimensions:  360 288\n",
      "Starting to extract posture\n"
     ]
    },
    {
     "name": "stderr",
     "output_type": "stream",
     "text": [
      "100%|██████████| 30016/30016 [07:19<00:00, 68.22it/s]\n"
     ]
    },
    {
     "name": "stdout",
     "output_type": "stream",
     "text": [
      "Saving results in C:/DeepLabCutProjects/DLC-Atanu-2024-12-25/Analyzed-videos-temp/...\n",
      "Saving csv poses!\n",
      "Starting to analyze %  C:\\DeepLabCutProjects\\DLC-Atanu-2024-12-25\\Videos-to-analyze-temp\\Light_Only_Dwarves_3_5_25_S2_Y_CNO__Bashful_Happy_Sleepy_None_4_Trial_1_bottom_right.mp4\n",
      "Loading  C:\\DeepLabCutProjects\\DLC-Atanu-2024-12-25\\Videos-to-analyze-temp\\Light_Only_Dwarves_3_5_25_S2_Y_CNO__Bashful_Happy_Sleepy_None_4_Trial_1_bottom_right.mp4\n",
      "Duration of video [s]:  1200.64 , recorded with  25.0 fps!\n",
      "Overall # of frames:  30016  found with (before cropping) frame dimensions:  360 288\n",
      "Starting to extract posture\n"
     ]
    },
    {
     "name": "stderr",
     "output_type": "stream",
     "text": [
      "100%|██████████| 30016/30016 [07:19<00:00, 68.24it/s]\n"
     ]
    },
    {
     "name": "stdout",
     "output_type": "stream",
     "text": [
      "Saving results in C:/DeepLabCutProjects/DLC-Atanu-2024-12-25/Analyzed-videos-temp/...\n",
      "Saving csv poses!\n",
      "Starting to analyze %  C:\\DeepLabCutProjects\\DLC-Atanu-2024-12-25\\Videos-to-analyze-temp\\Light_Only_Dwarves_3_5_25_S2_Y_CNO__Bashful_Happy_Sleepy_None_4_Trial_1_top_left.mp4\n",
      "Loading  C:\\DeepLabCutProjects\\DLC-Atanu-2024-12-25\\Videos-to-analyze-temp\\Light_Only_Dwarves_3_5_25_S2_Y_CNO__Bashful_Happy_Sleepy_None_4_Trial_1_top_left.mp4\n",
      "Duration of video [s]:  1200.64 , recorded with  25.0 fps!\n",
      "Overall # of frames:  30016  found with (before cropping) frame dimensions:  360 288\n",
      "Starting to extract posture\n"
     ]
    },
    {
     "name": "stderr",
     "output_type": "stream",
     "text": [
      "100%|██████████| 30016/30016 [07:19<00:00, 68.25it/s]\n"
     ]
    },
    {
     "name": "stdout",
     "output_type": "stream",
     "text": [
      "Saving results in C:/DeepLabCutProjects/DLC-Atanu-2024-12-25/Analyzed-videos-temp/...\n",
      "Saving csv poses!\n",
      "Starting to analyze %  C:\\DeepLabCutProjects\\DLC-Atanu-2024-12-25\\Videos-to-analyze-temp\\Light_Only_Dwarves_3_5_25_S2_Y_CNO__Bashful_Happy_Sleepy_None_4_Trial_1_top_right.mp4\n",
      "Loading  C:\\DeepLabCutProjects\\DLC-Atanu-2024-12-25\\Videos-to-analyze-temp\\Light_Only_Dwarves_3_5_25_S2_Y_CNO__Bashful_Happy_Sleepy_None_4_Trial_1_top_right.mp4\n",
      "Duration of video [s]:  1200.64 , recorded with  25.0 fps!\n",
      "Overall # of frames:  30016  found with (before cropping) frame dimensions:  360 288\n",
      "Starting to extract posture\n"
     ]
    },
    {
     "name": "stderr",
     "output_type": "stream",
     "text": [
      "100%|██████████| 30016/30016 [07:19<00:00, 68.22it/s]\n"
     ]
    },
    {
     "name": "stdout",
     "output_type": "stream",
     "text": [
      "Saving results in C:/DeepLabCutProjects/DLC-Atanu-2024-12-25/Analyzed-videos-temp/...\n",
      "Saving csv poses!\n",
      "Starting to analyze %  C:\\DeepLabCutProjects\\DLC-Atanu-2024-12-25\\Videos-to-analyze-temp\\Light_Only_Dwarves_3_5_25_S3_Y_CNO__Roy_Sam_Leo_None_4_Trial_1_bottom_left.mp4\n",
      "Loading  C:\\DeepLabCutProjects\\DLC-Atanu-2024-12-25\\Videos-to-analyze-temp\\Light_Only_Dwarves_3_5_25_S3_Y_CNO__Roy_Sam_Leo_None_4_Trial_1_bottom_left.mp4\n",
      "Duration of video [s]:  1200.68 , recorded with  25.0 fps!\n",
      "Overall # of frames:  30017  found with (before cropping) frame dimensions:  360 288\n",
      "Starting to extract posture\n"
     ]
    },
    {
     "name": "stderr",
     "output_type": "stream",
     "text": [
      "100%|██████████| 30017/30017 [07:20<00:00, 68.18it/s]\n"
     ]
    },
    {
     "name": "stdout",
     "output_type": "stream",
     "text": [
      "Saving results in C:/DeepLabCutProjects/DLC-Atanu-2024-12-25/Analyzed-videos-temp/...\n",
      "Saving csv poses!\n",
      "Starting to analyze %  C:\\DeepLabCutProjects\\DLC-Atanu-2024-12-25\\Videos-to-analyze-temp\\Light_Only_Dwarves_3_5_25_S3_Y_CNO__Roy_Sam_Leo_None_4_Trial_1_bottom_right.mp4\n",
      "Loading  C:\\DeepLabCutProjects\\DLC-Atanu-2024-12-25\\Videos-to-analyze-temp\\Light_Only_Dwarves_3_5_25_S3_Y_CNO__Roy_Sam_Leo_None_4_Trial_1_bottom_right.mp4\n",
      "Duration of video [s]:  1200.68 , recorded with  25.0 fps!\n",
      "Overall # of frames:  30017  found with (before cropping) frame dimensions:  360 288\n",
      "Starting to extract posture\n"
     ]
    },
    {
     "name": "stderr",
     "output_type": "stream",
     "text": [
      "100%|██████████| 30017/30017 [07:20<00:00, 68.21it/s]\n"
     ]
    },
    {
     "name": "stdout",
     "output_type": "stream",
     "text": [
      "Saving results in C:/DeepLabCutProjects/DLC-Atanu-2024-12-25/Analyzed-videos-temp/...\n",
      "Saving csv poses!\n",
      "Starting to analyze %  C:\\DeepLabCutProjects\\DLC-Atanu-2024-12-25\\Videos-to-analyze-temp\\Light_Only_Dwarves_3_5_25_S3_Y_CNO__Roy_Sam_Leo_None_4_Trial_1_top_left.mp4\n",
      "Loading  C:\\DeepLabCutProjects\\DLC-Atanu-2024-12-25\\Videos-to-analyze-temp\\Light_Only_Dwarves_3_5_25_S3_Y_CNO__Roy_Sam_Leo_None_4_Trial_1_top_left.mp4\n",
      "Duration of video [s]:  1200.68 , recorded with  25.0 fps!\n",
      "Overall # of frames:  30017  found with (before cropping) frame dimensions:  360 288\n",
      "Starting to extract posture\n"
     ]
    },
    {
     "name": "stderr",
     "output_type": "stream",
     "text": [
      "100%|██████████| 30017/30017 [07:20<00:00, 68.21it/s]\n"
     ]
    },
    {
     "name": "stdout",
     "output_type": "stream",
     "text": [
      "Saving results in C:/DeepLabCutProjects/DLC-Atanu-2024-12-25/Analyzed-videos-temp/...\n",
      "Saving csv poses!\n",
      "Starting to analyze %  C:\\DeepLabCutProjects\\DLC-Atanu-2024-12-25\\Videos-to-analyze-temp\\Light_Only_Dwarves_3_5_25_S3_Y_CNO__Roy_Sam_Leo_None_4_Trial_1_top_right.mp4\n",
      "Loading  C:\\DeepLabCutProjects\\DLC-Atanu-2024-12-25\\Videos-to-analyze-temp\\Light_Only_Dwarves_3_5_25_S3_Y_CNO__Roy_Sam_Leo_None_4_Trial_1_top_right.mp4\n",
      "Duration of video [s]:  1200.68 , recorded with  25.0 fps!\n",
      "Overall # of frames:  30017  found with (before cropping) frame dimensions:  360 288\n",
      "Starting to extract posture\n"
     ]
    },
    {
     "name": "stderr",
     "output_type": "stream",
     "text": [
      "100%|██████████| 30017/30017 [07:19<00:00, 68.25it/s]\n"
     ]
    },
    {
     "name": "stdout",
     "output_type": "stream",
     "text": [
      "Saving results in C:/DeepLabCutProjects/DLC-Atanu-2024-12-25/Analyzed-videos-temp/...\n",
      "Saving csv poses!\n",
      "Starting to analyze %  C:\\DeepLabCutProjects\\DLC-Atanu-2024-12-25\\Videos-to-analyze-temp\\Light_Only_Dwarves_3_5_25_S4_Y_CNO__Ivy_May_Ida_None_4_Trial_1_bottom_left.mp4\n",
      "Loading  C:\\DeepLabCutProjects\\DLC-Atanu-2024-12-25\\Videos-to-analyze-temp\\Light_Only_Dwarves_3_5_25_S4_Y_CNO__Ivy_May_Ida_None_4_Trial_1_bottom_left.mp4\n",
      "Duration of video [s]:  1200.68 , recorded with  25.0 fps!\n",
      "Overall # of frames:  30017  found with (before cropping) frame dimensions:  360 288\n",
      "Starting to extract posture\n"
     ]
    },
    {
     "name": "stderr",
     "output_type": "stream",
     "text": [
      "100%|██████████| 30017/30017 [07:19<00:00, 68.22it/s]\n"
     ]
    },
    {
     "name": "stdout",
     "output_type": "stream",
     "text": [
      "Saving results in C:/DeepLabCutProjects/DLC-Atanu-2024-12-25/Analyzed-videos-temp/...\n",
      "Saving csv poses!\n",
      "Starting to analyze %  C:\\DeepLabCutProjects\\DLC-Atanu-2024-12-25\\Videos-to-analyze-temp\\Light_Only_Dwarves_3_5_25_S4_Y_CNO__Ivy_May_Ida_None_4_Trial_1_bottom_right.mp4\n",
      "Loading  C:\\DeepLabCutProjects\\DLC-Atanu-2024-12-25\\Videos-to-analyze-temp\\Light_Only_Dwarves_3_5_25_S4_Y_CNO__Ivy_May_Ida_None_4_Trial_1_bottom_right.mp4\n",
      "Duration of video [s]:  1200.68 , recorded with  25.0 fps!\n",
      "Overall # of frames:  30017  found with (before cropping) frame dimensions:  360 288\n",
      "Starting to extract posture\n"
     ]
    },
    {
     "name": "stderr",
     "output_type": "stream",
     "text": [
      "100%|██████████| 30017/30017 [07:19<00:00, 68.22it/s]\n"
     ]
    },
    {
     "name": "stdout",
     "output_type": "stream",
     "text": [
      "Saving results in C:/DeepLabCutProjects/DLC-Atanu-2024-12-25/Analyzed-videos-temp/...\n",
      "Saving csv poses!\n",
      "Starting to analyze %  C:\\DeepLabCutProjects\\DLC-Atanu-2024-12-25\\Videos-to-analyze-temp\\Light_Only_Dwarves_3_5_25_S4_Y_CNO__Ivy_May_Ida_None_4_Trial_1_top_left.mp4\n",
      "Loading  C:\\DeepLabCutProjects\\DLC-Atanu-2024-12-25\\Videos-to-analyze-temp\\Light_Only_Dwarves_3_5_25_S4_Y_CNO__Ivy_May_Ida_None_4_Trial_1_top_left.mp4\n",
      "Duration of video [s]:  1200.68 , recorded with  25.0 fps!\n",
      "Overall # of frames:  30017  found with (before cropping) frame dimensions:  360 288\n",
      "Starting to extract posture\n"
     ]
    },
    {
     "name": "stderr",
     "output_type": "stream",
     "text": [
      "100%|██████████| 30017/30017 [07:19<00:00, 68.23it/s]\n"
     ]
    },
    {
     "name": "stdout",
     "output_type": "stream",
     "text": [
      "Saving results in C:/DeepLabCutProjects/DLC-Atanu-2024-12-25/Analyzed-videos-temp/...\n",
      "Saving csv poses!\n",
      "Starting to analyze %  C:\\DeepLabCutProjects\\DLC-Atanu-2024-12-25\\Videos-to-analyze-temp\\Light_Only_Dwarves_3_5_25_S4_Y_CNO__Ivy_May_Ida_None_4_Trial_1_top_right.mp4\n",
      "Loading  C:\\DeepLabCutProjects\\DLC-Atanu-2024-12-25\\Videos-to-analyze-temp\\Light_Only_Dwarves_3_5_25_S4_Y_CNO__Ivy_May_Ida_None_4_Trial_1_top_right.mp4\n",
      "Duration of video [s]:  1200.68 , recorded with  25.0 fps!\n",
      "Overall # of frames:  30017  found with (before cropping) frame dimensions:  360 288\n",
      "Starting to extract posture\n"
     ]
    },
    {
     "name": "stderr",
     "output_type": "stream",
     "text": [
      "100%|██████████| 30017/30017 [07:19<00:00, 68.25it/s]\n"
     ]
    },
    {
     "name": "stdout",
     "output_type": "stream",
     "text": [
      "Saving results in C:/DeepLabCutProjects/DLC-Atanu-2024-12-25/Analyzed-videos-temp/...\n",
      "Saving csv poses!\n",
      "Starting to analyze %  C:\\DeepLabCutProjects\\DLC-Atanu-2024-12-25\\Videos-to-analyze-temp\\Light_Only_Gen_2_2_10_25_S1_P_CNO__A_B_C_F_Trial_1_bottom_left.mp4\n",
      "Loading  C:\\DeepLabCutProjects\\DLC-Atanu-2024-12-25\\Videos-to-analyze-temp\\Light_Only_Gen_2_2_10_25_S1_P_CNO__A_B_C_F_Trial_1_bottom_left.mp4\n",
      "Duration of video [s]:  1200.64 , recorded with  25.0 fps!\n",
      "Overall # of frames:  30016  found with (before cropping) frame dimensions:  360 288\n",
      "Starting to extract posture\n"
     ]
    },
    {
     "name": "stderr",
     "output_type": "stream",
     "text": [
      "100%|██████████| 30016/30016 [07:19<00:00, 68.23it/s]\n"
     ]
    },
    {
     "name": "stdout",
     "output_type": "stream",
     "text": [
      "Saving results in C:/DeepLabCutProjects/DLC-Atanu-2024-12-25/Analyzed-videos-temp/...\n",
      "Saving csv poses!\n",
      "Starting to analyze %  C:\\DeepLabCutProjects\\DLC-Atanu-2024-12-25\\Videos-to-analyze-temp\\Light_Only_Gen_2_2_10_25_S1_P_CNO__A_B_C_F_Trial_1_bottom_right.mp4\n",
      "Loading  C:\\DeepLabCutProjects\\DLC-Atanu-2024-12-25\\Videos-to-analyze-temp\\Light_Only_Gen_2_2_10_25_S1_P_CNO__A_B_C_F_Trial_1_bottom_right.mp4\n",
      "Duration of video [s]:  1200.64 , recorded with  25.0 fps!\n",
      "Overall # of frames:  30016  found with (before cropping) frame dimensions:  360 288\n",
      "Starting to extract posture\n"
     ]
    },
    {
     "name": "stderr",
     "output_type": "stream",
     "text": [
      "100%|██████████| 30016/30016 [07:20<00:00, 68.21it/s]\n"
     ]
    },
    {
     "name": "stdout",
     "output_type": "stream",
     "text": [
      "Saving results in C:/DeepLabCutProjects/DLC-Atanu-2024-12-25/Analyzed-videos-temp/...\n",
      "Saving csv poses!\n",
      "Starting to analyze %  C:\\DeepLabCutProjects\\DLC-Atanu-2024-12-25\\Videos-to-analyze-temp\\Light_Only_Gen_2_2_10_25_S1_P_CNO__A_B_C_F_Trial_1_top_left.mp4\n",
      "Loading  C:\\DeepLabCutProjects\\DLC-Atanu-2024-12-25\\Videos-to-analyze-temp\\Light_Only_Gen_2_2_10_25_S1_P_CNO__A_B_C_F_Trial_1_top_left.mp4\n",
      "Duration of video [s]:  1200.64 , recorded with  25.0 fps!\n",
      "Overall # of frames:  30016  found with (before cropping) frame dimensions:  360 288\n",
      "Starting to extract posture\n"
     ]
    },
    {
     "name": "stderr",
     "output_type": "stream",
     "text": [
      "100%|██████████| 30016/30016 [07:20<00:00, 68.21it/s]\n"
     ]
    },
    {
     "name": "stdout",
     "output_type": "stream",
     "text": [
      "Saving results in C:/DeepLabCutProjects/DLC-Atanu-2024-12-25/Analyzed-videos-temp/...\n",
      "Saving csv poses!\n",
      "Starting to analyze %  C:\\DeepLabCutProjects\\DLC-Atanu-2024-12-25\\Videos-to-analyze-temp\\Light_Only_Gen_2_2_10_25_S1_P_CNO__A_B_C_F_Trial_1_top_right.mp4\n",
      "Loading  C:\\DeepLabCutProjects\\DLC-Atanu-2024-12-25\\Videos-to-analyze-temp\\Light_Only_Gen_2_2_10_25_S1_P_CNO__A_B_C_F_Trial_1_top_right.mp4\n",
      "Duration of video [s]:  1200.64 , recorded with  25.0 fps!\n",
      "Overall # of frames:  30016  found with (before cropping) frame dimensions:  360 288\n",
      "Starting to extract posture\n"
     ]
    },
    {
     "name": "stderr",
     "output_type": "stream",
     "text": [
      "100%|██████████| 30016/30016 [07:19<00:00, 68.23it/s]\n"
     ]
    },
    {
     "name": "stdout",
     "output_type": "stream",
     "text": [
      "Saving results in C:/DeepLabCutProjects/DLC-Atanu-2024-12-25/Analyzed-videos-temp/...\n",
      "Saving csv poses!\n",
      "Starting to analyze %  C:\\DeepLabCutProjects\\DLC-Atanu-2024-12-25\\Videos-to-analyze-temp\\Light_Only_Gen_2_2_10_25_S2_P_CNO__E_L_G_H_Trial_1_bottom_left.mp4\n",
      "Loading  C:\\DeepLabCutProjects\\DLC-Atanu-2024-12-25\\Videos-to-analyze-temp\\Light_Only_Gen_2_2_10_25_S2_P_CNO__E_L_G_H_Trial_1_bottom_left.mp4\n",
      "Duration of video [s]:  1200.68 , recorded with  25.0 fps!\n",
      "Overall # of frames:  30017  found with (before cropping) frame dimensions:  360 288\n",
      "Starting to extract posture\n"
     ]
    },
    {
     "name": "stderr",
     "output_type": "stream",
     "text": [
      "100%|██████████| 30017/30017 [07:20<00:00, 68.21it/s]\n"
     ]
    },
    {
     "name": "stdout",
     "output_type": "stream",
     "text": [
      "Saving results in C:/DeepLabCutProjects/DLC-Atanu-2024-12-25/Analyzed-videos-temp/...\n",
      "Saving csv poses!\n",
      "Starting to analyze %  C:\\DeepLabCutProjects\\DLC-Atanu-2024-12-25\\Videos-to-analyze-temp\\Light_Only_Gen_2_2_10_25_S2_P_CNO__E_L_G_H_Trial_1_bottom_right.mp4\n",
      "Loading  C:\\DeepLabCutProjects\\DLC-Atanu-2024-12-25\\Videos-to-analyze-temp\\Light_Only_Gen_2_2_10_25_S2_P_CNO__E_L_G_H_Trial_1_bottom_right.mp4\n",
      "Duration of video [s]:  1200.68 , recorded with  25.0 fps!\n",
      "Overall # of frames:  30017  found with (before cropping) frame dimensions:  360 288\n",
      "Starting to extract posture\n"
     ]
    },
    {
     "name": "stderr",
     "output_type": "stream",
     "text": [
      "100%|██████████| 30017/30017 [07:20<00:00, 68.21it/s]\n"
     ]
    },
    {
     "name": "stdout",
     "output_type": "stream",
     "text": [
      "Saving results in C:/DeepLabCutProjects/DLC-Atanu-2024-12-25/Analyzed-videos-temp/...\n",
      "Saving csv poses!\n",
      "Starting to analyze %  C:\\DeepLabCutProjects\\DLC-Atanu-2024-12-25\\Videos-to-analyze-temp\\Light_Only_Gen_2_2_10_25_S2_P_CNO__E_L_G_H_Trial_1_top_left.mp4\n",
      "Loading  C:\\DeepLabCutProjects\\DLC-Atanu-2024-12-25\\Videos-to-analyze-temp\\Light_Only_Gen_2_2_10_25_S2_P_CNO__E_L_G_H_Trial_1_top_left.mp4\n",
      "Duration of video [s]:  1200.68 , recorded with  25.0 fps!\n",
      "Overall # of frames:  30017  found with (before cropping) frame dimensions:  360 288\n",
      "Starting to extract posture\n"
     ]
    },
    {
     "name": "stderr",
     "output_type": "stream",
     "text": [
      "100%|██████████| 30017/30017 [07:20<00:00, 68.21it/s]\n"
     ]
    },
    {
     "name": "stdout",
     "output_type": "stream",
     "text": [
      "Saving results in C:/DeepLabCutProjects/DLC-Atanu-2024-12-25/Analyzed-videos-temp/...\n",
      "Saving csv poses!\n",
      "Starting to analyze %  C:\\DeepLabCutProjects\\DLC-Atanu-2024-12-25\\Videos-to-analyze-temp\\Light_Only_Gen_2_2_10_25_S2_P_CNO__E_L_G_H_Trial_1_top_right.mp4\n",
      "Loading  C:\\DeepLabCutProjects\\DLC-Atanu-2024-12-25\\Videos-to-analyze-temp\\Light_Only_Gen_2_2_10_25_S2_P_CNO__E_L_G_H_Trial_1_top_right.mp4\n",
      "Duration of video [s]:  1200.68 , recorded with  25.0 fps!\n",
      "Overall # of frames:  30017  found with (before cropping) frame dimensions:  360 288\n",
      "Starting to extract posture\n"
     ]
    },
    {
     "name": "stderr",
     "output_type": "stream",
     "text": [
      "100%|██████████| 30017/30017 [07:20<00:00, 68.21it/s]\n"
     ]
    },
    {
     "name": "stdout",
     "output_type": "stream",
     "text": [
      "Saving results in C:/DeepLabCutProjects/DLC-Atanu-2024-12-25/Analyzed-videos-temp/...\n",
      "Saving csv poses!\n",
      "Starting to analyze %  C:\\DeepLabCutProjects\\DLC-Atanu-2024-12-25\\Videos-to-analyze-temp\\Light_Only_Gen_2_2_10_25_S3_P_CNO__I_J_K_O_Trial_1_bottom_left.mp4\n",
      "Loading  C:\\DeepLabCutProjects\\DLC-Atanu-2024-12-25\\Videos-to-analyze-temp\\Light_Only_Gen_2_2_10_25_S3_P_CNO__I_J_K_O_Trial_1_bottom_left.mp4\n",
      "Duration of video [s]:  1200.68 , recorded with  25.0 fps!\n",
      "Overall # of frames:  30017  found with (before cropping) frame dimensions:  360 288\n",
      "Starting to extract posture\n"
     ]
    },
    {
     "name": "stderr",
     "output_type": "stream",
     "text": [
      "100%|██████████| 30017/30017 [07:20<00:00, 68.19it/s]\n"
     ]
    },
    {
     "name": "stdout",
     "output_type": "stream",
     "text": [
      "Saving results in C:/DeepLabCutProjects/DLC-Atanu-2024-12-25/Analyzed-videos-temp/...\n",
      "Saving csv poses!\n",
      "Starting to analyze %  C:\\DeepLabCutProjects\\DLC-Atanu-2024-12-25\\Videos-to-analyze-temp\\Light_Only_Gen_2_2_10_25_S3_P_CNO__I_J_K_O_Trial_1_bottom_right.mp4\n",
      "Loading  C:\\DeepLabCutProjects\\DLC-Atanu-2024-12-25\\Videos-to-analyze-temp\\Light_Only_Gen_2_2_10_25_S3_P_CNO__I_J_K_O_Trial_1_bottom_right.mp4\n",
      "Duration of video [s]:  1200.68 , recorded with  25.0 fps!\n",
      "Overall # of frames:  30017  found with (before cropping) frame dimensions:  360 288\n",
      "Starting to extract posture\n"
     ]
    },
    {
     "name": "stderr",
     "output_type": "stream",
     "text": [
      "100%|██████████| 30017/30017 [07:20<00:00, 68.22it/s]\n"
     ]
    },
    {
     "name": "stdout",
     "output_type": "stream",
     "text": [
      "Saving results in C:/DeepLabCutProjects/DLC-Atanu-2024-12-25/Analyzed-videos-temp/...\n",
      "Saving csv poses!\n",
      "Starting to analyze %  C:\\DeepLabCutProjects\\DLC-Atanu-2024-12-25\\Videos-to-analyze-temp\\Light_Only_Gen_2_2_10_25_S3_P_CNO__I_J_K_O_Trial_1_top_left.mp4\n",
      "Loading  C:\\DeepLabCutProjects\\DLC-Atanu-2024-12-25\\Videos-to-analyze-temp\\Light_Only_Gen_2_2_10_25_S3_P_CNO__I_J_K_O_Trial_1_top_left.mp4\n",
      "Duration of video [s]:  1200.68 , recorded with  25.0 fps!\n",
      "Overall # of frames:  30017  found with (before cropping) frame dimensions:  360 288\n",
      "Starting to extract posture\n"
     ]
    },
    {
     "name": "stderr",
     "output_type": "stream",
     "text": [
      "100%|██████████| 30017/30017 [07:20<00:00, 68.19it/s]\n"
     ]
    },
    {
     "name": "stdout",
     "output_type": "stream",
     "text": [
      "Saving results in C:/DeepLabCutProjects/DLC-Atanu-2024-12-25/Analyzed-videos-temp/...\n",
      "Saving csv poses!\n",
      "Starting to analyze %  C:\\DeepLabCutProjects\\DLC-Atanu-2024-12-25\\Videos-to-analyze-temp\\Light_Only_Gen_2_2_10_25_S3_P_CNO__I_J_K_O_Trial_1_top_right.mp4\n",
      "Loading  C:\\DeepLabCutProjects\\DLC-Atanu-2024-12-25\\Videos-to-analyze-temp\\Light_Only_Gen_2_2_10_25_S3_P_CNO__I_J_K_O_Trial_1_top_right.mp4\n",
      "Duration of video [s]:  1200.68 , recorded with  25.0 fps!\n",
      "Overall # of frames:  30017  found with (before cropping) frame dimensions:  360 288\n",
      "Starting to extract posture\n"
     ]
    },
    {
     "name": "stderr",
     "output_type": "stream",
     "text": [
      "100%|██████████| 30017/30017 [07:23<00:00, 67.71it/s]\n"
     ]
    },
    {
     "name": "stdout",
     "output_type": "stream",
     "text": [
      "Saving results in C:/DeepLabCutProjects/DLC-Atanu-2024-12-25/Analyzed-videos-temp/...\n",
      "Saving csv poses!\n",
      "Starting to analyze %  C:\\DeepLabCutProjects\\DLC-Atanu-2024-12-25\\Videos-to-analyze-temp\\Light_Only_Gen_2_2_10_25_S4_P_CNO__M_P_Q_None_4_Trial_1_bottom_left.mp4\n",
      "Loading  C:\\DeepLabCutProjects\\DLC-Atanu-2024-12-25\\Videos-to-analyze-temp\\Light_Only_Gen_2_2_10_25_S4_P_CNO__M_P_Q_None_4_Trial_1_bottom_left.mp4\n",
      "Duration of video [s]:  1200.64 , recorded with  25.0 fps!\n",
      "Overall # of frames:  30016  found with (before cropping) frame dimensions:  360 288\n",
      "Starting to extract posture\n"
     ]
    },
    {
     "name": "stderr",
     "output_type": "stream",
     "text": [
      "100%|██████████| 30016/30016 [07:21<00:00, 67.96it/s]\n"
     ]
    },
    {
     "name": "stdout",
     "output_type": "stream",
     "text": [
      "Saving results in C:/DeepLabCutProjects/DLC-Atanu-2024-12-25/Analyzed-videos-temp/...\n",
      "Saving csv poses!\n",
      "Starting to analyze %  C:\\DeepLabCutProjects\\DLC-Atanu-2024-12-25\\Videos-to-analyze-temp\\Light_Only_Gen_2_2_10_25_S4_P_CNO__M_P_Q_None_4_Trial_1_bottom_right.mp4\n",
      "Loading  C:\\DeepLabCutProjects\\DLC-Atanu-2024-12-25\\Videos-to-analyze-temp\\Light_Only_Gen_2_2_10_25_S4_P_CNO__M_P_Q_None_4_Trial_1_bottom_right.mp4\n",
      "Duration of video [s]:  1200.64 , recorded with  25.0 fps!\n",
      "Overall # of frames:  30016  found with (before cropping) frame dimensions:  360 288\n",
      "Starting to extract posture\n"
     ]
    },
    {
     "name": "stderr",
     "output_type": "stream",
     "text": [
      "100%|██████████| 30016/30016 [07:20<00:00, 68.22it/s]\n"
     ]
    },
    {
     "name": "stdout",
     "output_type": "stream",
     "text": [
      "Saving results in C:/DeepLabCutProjects/DLC-Atanu-2024-12-25/Analyzed-videos-temp/...\n",
      "Saving csv poses!\n",
      "Starting to analyze %  C:\\DeepLabCutProjects\\DLC-Atanu-2024-12-25\\Videos-to-analyze-temp\\Light_Only_Gen_2_2_10_25_S4_P_CNO__M_P_Q_None_4_Trial_1_top_left.mp4\n",
      "Loading  C:\\DeepLabCutProjects\\DLC-Atanu-2024-12-25\\Videos-to-analyze-temp\\Light_Only_Gen_2_2_10_25_S4_P_CNO__M_P_Q_None_4_Trial_1_top_left.mp4\n",
      "Duration of video [s]:  1200.64 , recorded with  25.0 fps!\n",
      "Overall # of frames:  30016  found with (before cropping) frame dimensions:  360 288\n",
      "Starting to extract posture\n"
     ]
    },
    {
     "name": "stderr",
     "output_type": "stream",
     "text": [
      "100%|██████████| 30016/30016 [07:19<00:00, 68.23it/s]\n"
     ]
    },
    {
     "name": "stdout",
     "output_type": "stream",
     "text": [
      "Saving results in C:/DeepLabCutProjects/DLC-Atanu-2024-12-25/Analyzed-videos-temp/...\n",
      "Saving csv poses!\n",
      "Starting to analyze %  C:\\DeepLabCutProjects\\DLC-Atanu-2024-12-25\\Videos-to-analyze-temp\\Light_Only_Gen_2_2_10_25_S4_P_CNO__M_P_Q_None_4_Trial_1_top_right.mp4\n",
      "Loading  C:\\DeepLabCutProjects\\DLC-Atanu-2024-12-25\\Videos-to-analyze-temp\\Light_Only_Gen_2_2_10_25_S4_P_CNO__M_P_Q_None_4_Trial_1_top_right.mp4\n",
      "Duration of video [s]:  1200.64 , recorded with  25.0 fps!\n",
      "Overall # of frames:  30016  found with (before cropping) frame dimensions:  360 288\n",
      "Starting to extract posture\n"
     ]
    },
    {
     "name": "stderr",
     "output_type": "stream",
     "text": [
      "100%|██████████| 30016/30016 [07:19<00:00, 68.25it/s]\n"
     ]
    },
    {
     "name": "stdout",
     "output_type": "stream",
     "text": [
      "Saving results in C:/DeepLabCutProjects/DLC-Atanu-2024-12-25/Analyzed-videos-temp/...\n",
      "Saving csv poses!\n",
      "Starting to analyze %  C:\\DeepLabCutProjects\\DLC-Atanu-2024-12-25\\Videos-to-analyze-temp\\Light_Only_Gen_2_2_6_25_S1_Y_CNO__Austin_Houston_Toronto_Berlin_Trial_1_bottom_left.mp4\n",
      "Loading  C:\\DeepLabCutProjects\\DLC-Atanu-2024-12-25\\Videos-to-analyze-temp\\Light_Only_Gen_2_2_6_25_S1_Y_CNO__Austin_Houston_Toronto_Berlin_Trial_1_bottom_left.mp4\n",
      "Duration of video [s]:  1200.64 , recorded with  25.0 fps!\n",
      "Overall # of frames:  30016  found with (before cropping) frame dimensions:  360 288\n",
      "Starting to extract posture\n"
     ]
    },
    {
     "name": "stderr",
     "output_type": "stream",
     "text": [
      "100%|██████████| 30016/30016 [07:20<00:00, 68.19it/s]\n"
     ]
    },
    {
     "name": "stdout",
     "output_type": "stream",
     "text": [
      "Saving results in C:/DeepLabCutProjects/DLC-Atanu-2024-12-25/Analyzed-videos-temp/...\n",
      "Saving csv poses!\n",
      "Starting to analyze %  C:\\DeepLabCutProjects\\DLC-Atanu-2024-12-25\\Videos-to-analyze-temp\\Light_Only_Gen_2_2_6_25_S1_Y_CNO__Austin_Houston_Toronto_Berlin_Trial_1_bottom_right.mp4\n",
      "Loading  C:\\DeepLabCutProjects\\DLC-Atanu-2024-12-25\\Videos-to-analyze-temp\\Light_Only_Gen_2_2_6_25_S1_Y_CNO__Austin_Houston_Toronto_Berlin_Trial_1_bottom_right.mp4\n",
      "Duration of video [s]:  1200.64 , recorded with  25.0 fps!\n",
      "Overall # of frames:  30016  found with (before cropping) frame dimensions:  360 288\n",
      "Starting to extract posture\n"
     ]
    },
    {
     "name": "stderr",
     "output_type": "stream",
     "text": [
      "100%|██████████| 30016/30016 [07:19<00:00, 68.22it/s]\n"
     ]
    },
    {
     "name": "stdout",
     "output_type": "stream",
     "text": [
      "Saving results in C:/DeepLabCutProjects/DLC-Atanu-2024-12-25/Analyzed-videos-temp/...\n",
      "Saving csv poses!\n",
      "Starting to analyze %  C:\\DeepLabCutProjects\\DLC-Atanu-2024-12-25\\Videos-to-analyze-temp\\Light_Only_Gen_2_2_6_25_S1_Y_CNO__Austin_Houston_Toronto_Berlin_Trial_1_top_left.mp4\n",
      "Loading  C:\\DeepLabCutProjects\\DLC-Atanu-2024-12-25\\Videos-to-analyze-temp\\Light_Only_Gen_2_2_6_25_S1_Y_CNO__Austin_Houston_Toronto_Berlin_Trial_1_top_left.mp4\n",
      "Duration of video [s]:  1200.64 , recorded with  25.0 fps!\n",
      "Overall # of frames:  30016  found with (before cropping) frame dimensions:  360 288\n",
      "Starting to extract posture\n"
     ]
    },
    {
     "name": "stderr",
     "output_type": "stream",
     "text": [
      "100%|██████████| 30016/30016 [07:20<00:00, 68.21it/s]\n"
     ]
    },
    {
     "name": "stdout",
     "output_type": "stream",
     "text": [
      "Saving results in C:/DeepLabCutProjects/DLC-Atanu-2024-12-25/Analyzed-videos-temp/...\n",
      "Saving csv poses!\n",
      "Starting to analyze %  C:\\DeepLabCutProjects\\DLC-Atanu-2024-12-25\\Videos-to-analyze-temp\\Light_Only_Gen_2_2_6_25_S1_Y_CNO__Austin_Houston_Toronto_Berlin_Trial_1_top_right.mp4\n",
      "Loading  C:\\DeepLabCutProjects\\DLC-Atanu-2024-12-25\\Videos-to-analyze-temp\\Light_Only_Gen_2_2_6_25_S1_Y_CNO__Austin_Houston_Toronto_Berlin_Trial_1_top_right.mp4\n",
      "Duration of video [s]:  1200.64 , recorded with  25.0 fps!\n",
      "Overall # of frames:  30016  found with (before cropping) frame dimensions:  360 288\n",
      "Starting to extract posture\n"
     ]
    },
    {
     "name": "stderr",
     "output_type": "stream",
     "text": [
      "100%|██████████| 30016/30016 [07:19<00:00, 68.23it/s]\n"
     ]
    },
    {
     "name": "stdout",
     "output_type": "stream",
     "text": [
      "Saving results in C:/DeepLabCutProjects/DLC-Atanu-2024-12-25/Analyzed-videos-temp/...\n",
      "Saving csv poses!\n",
      "Starting to analyze %  C:\\DeepLabCutProjects\\DLC-Atanu-2024-12-25\\Videos-to-analyze-temp\\Light_Only_Gen_2_2_6_25_S2_Y_CNO__Denver_El_Paso_Waco_None_4_Trial_1_bottom_left.mp4\n",
      "Loading  C:\\DeepLabCutProjects\\DLC-Atanu-2024-12-25\\Videos-to-analyze-temp\\Light_Only_Gen_2_2_6_25_S2_Y_CNO__Denver_El_Paso_Waco_None_4_Trial_1_bottom_left.mp4\n",
      "Duration of video [s]:  1200.6 , recorded with  25.0 fps!\n",
      "Overall # of frames:  30015  found with (before cropping) frame dimensions:  360 288\n",
      "Starting to extract posture\n"
     ]
    },
    {
     "name": "stderr",
     "output_type": "stream",
     "text": [
      "100%|██████████| 30015/30015 [07:19<00:00, 68.22it/s]\n"
     ]
    },
    {
     "name": "stdout",
     "output_type": "stream",
     "text": [
      "Saving results in C:/DeepLabCutProjects/DLC-Atanu-2024-12-25/Analyzed-videos-temp/...\n",
      "Saving csv poses!\n",
      "Starting to analyze %  C:\\DeepLabCutProjects\\DLC-Atanu-2024-12-25\\Videos-to-analyze-temp\\Light_Only_Gen_2_2_6_25_S2_Y_CNO__Denver_El_Paso_Waco_None_4_Trial_1_bottom_right.mp4\n",
      "Loading  C:\\DeepLabCutProjects\\DLC-Atanu-2024-12-25\\Videos-to-analyze-temp\\Light_Only_Gen_2_2_6_25_S2_Y_CNO__Denver_El_Paso_Waco_None_4_Trial_1_bottom_right.mp4\n",
      "Duration of video [s]:  1200.6 , recorded with  25.0 fps!\n",
      "Overall # of frames:  30015  found with (before cropping) frame dimensions:  360 288\n",
      "Starting to extract posture\n"
     ]
    },
    {
     "name": "stderr",
     "output_type": "stream",
     "text": [
      "100%|██████████| 30015/30015 [07:19<00:00, 68.23it/s]\n"
     ]
    },
    {
     "name": "stdout",
     "output_type": "stream",
     "text": [
      "Saving results in C:/DeepLabCutProjects/DLC-Atanu-2024-12-25/Analyzed-videos-temp/...\n",
      "Saving csv poses!\n",
      "Starting to analyze %  C:\\DeepLabCutProjects\\DLC-Atanu-2024-12-25\\Videos-to-analyze-temp\\Light_Only_Gen_2_2_6_25_S2_Y_CNO__Denver_El_Paso_Waco_None_4_Trial_1_top_left.mp4\n",
      "Loading  C:\\DeepLabCutProjects\\DLC-Atanu-2024-12-25\\Videos-to-analyze-temp\\Light_Only_Gen_2_2_6_25_S2_Y_CNO__Denver_El_Paso_Waco_None_4_Trial_1_top_left.mp4\n",
      "Duration of video [s]:  1200.6 , recorded with  25.0 fps!\n",
      "Overall # of frames:  30015  found with (before cropping) frame dimensions:  360 288\n",
      "Starting to extract posture\n"
     ]
    },
    {
     "name": "stderr",
     "output_type": "stream",
     "text": [
      "100%|██████████| 30015/30015 [07:19<00:00, 68.23it/s]\n"
     ]
    },
    {
     "name": "stdout",
     "output_type": "stream",
     "text": [
      "Saving results in C:/DeepLabCutProjects/DLC-Atanu-2024-12-25/Analyzed-videos-temp/...\n",
      "Saving csv poses!\n",
      "Starting to analyze %  C:\\DeepLabCutProjects\\DLC-Atanu-2024-12-25\\Videos-to-analyze-temp\\Light_Only_Gen_2_2_6_25_S2_Y_CNO__Denver_El_Paso_Waco_None_4_Trial_1_top_right.mp4\n",
      "Loading  C:\\DeepLabCutProjects\\DLC-Atanu-2024-12-25\\Videos-to-analyze-temp\\Light_Only_Gen_2_2_6_25_S2_Y_CNO__Denver_El_Paso_Waco_None_4_Trial_1_top_right.mp4\n",
      "Duration of video [s]:  1200.6 , recorded with  25.0 fps!\n",
      "Overall # of frames:  30015  found with (before cropping) frame dimensions:  360 288\n",
      "Starting to extract posture\n"
     ]
    },
    {
     "name": "stderr",
     "output_type": "stream",
     "text": [
      "100%|██████████| 30015/30015 [07:20<00:00, 68.20it/s]\n"
     ]
    },
    {
     "name": "stdout",
     "output_type": "stream",
     "text": [
      "Saving results in C:/DeepLabCutProjects/DLC-Atanu-2024-12-25/Analyzed-videos-temp/...\n",
      "Saving csv poses!\n",
      "Starting to analyze %  C:\\DeepLabCutProjects\\DLC-Atanu-2024-12-25\\Videos-to-analyze-temp\\Light_Only_Gen_2_2_6_25_S3_Y_CNO__Lisbon_Nairobi_Rome_Venice_Trial_1_bottom_left.mp4\n",
      "Loading  C:\\DeepLabCutProjects\\DLC-Atanu-2024-12-25\\Videos-to-analyze-temp\\Light_Only_Gen_2_2_6_25_S3_Y_CNO__Lisbon_Nairobi_Rome_Venice_Trial_1_bottom_left.mp4\n",
      "Duration of video [s]:  1200.68 , recorded with  25.0 fps!\n",
      "Overall # of frames:  30017  found with (before cropping) frame dimensions:  360 288\n",
      "Starting to extract posture\n"
     ]
    },
    {
     "name": "stderr",
     "output_type": "stream",
     "text": [
      "100%|██████████| 30017/30017 [07:20<00:00, 68.22it/s]\n"
     ]
    },
    {
     "name": "stdout",
     "output_type": "stream",
     "text": [
      "Saving results in C:/DeepLabCutProjects/DLC-Atanu-2024-12-25/Analyzed-videos-temp/...\n",
      "Saving csv poses!\n",
      "Starting to analyze %  C:\\DeepLabCutProjects\\DLC-Atanu-2024-12-25\\Videos-to-analyze-temp\\Light_Only_Gen_2_2_6_25_S3_Y_CNO__Lisbon_Nairobi_Rome_Venice_Trial_1_bottom_right.mp4\n",
      "Loading  C:\\DeepLabCutProjects\\DLC-Atanu-2024-12-25\\Videos-to-analyze-temp\\Light_Only_Gen_2_2_6_25_S3_Y_CNO__Lisbon_Nairobi_Rome_Venice_Trial_1_bottom_right.mp4\n",
      "Duration of video [s]:  1200.68 , recorded with  25.0 fps!\n",
      "Overall # of frames:  30017  found with (before cropping) frame dimensions:  360 288\n",
      "Starting to extract posture\n"
     ]
    },
    {
     "name": "stderr",
     "output_type": "stream",
     "text": [
      "100%|██████████| 30017/30017 [07:20<00:00, 68.18it/s]\n"
     ]
    },
    {
     "name": "stdout",
     "output_type": "stream",
     "text": [
      "Saving results in C:/DeepLabCutProjects/DLC-Atanu-2024-12-25/Analyzed-videos-temp/...\n",
      "Saving csv poses!\n",
      "Starting to analyze %  C:\\DeepLabCutProjects\\DLC-Atanu-2024-12-25\\Videos-to-analyze-temp\\Light_Only_Gen_2_2_6_25_S3_Y_CNO__Lisbon_Nairobi_Rome_Venice_Trial_1_top_left.mp4\n",
      "Loading  C:\\DeepLabCutProjects\\DLC-Atanu-2024-12-25\\Videos-to-analyze-temp\\Light_Only_Gen_2_2_6_25_S3_Y_CNO__Lisbon_Nairobi_Rome_Venice_Trial_1_top_left.mp4\n",
      "Duration of video [s]:  1200.68 , recorded with  25.0 fps!\n",
      "Overall # of frames:  30017  found with (before cropping) frame dimensions:  360 288\n",
      "Starting to extract posture\n"
     ]
    },
    {
     "name": "stderr",
     "output_type": "stream",
     "text": [
      "100%|██████████| 30017/30017 [07:20<00:00, 68.22it/s]\n"
     ]
    },
    {
     "name": "stdout",
     "output_type": "stream",
     "text": [
      "Saving results in C:/DeepLabCutProjects/DLC-Atanu-2024-12-25/Analyzed-videos-temp/...\n",
      "Saving csv poses!\n",
      "Starting to analyze %  C:\\DeepLabCutProjects\\DLC-Atanu-2024-12-25\\Videos-to-analyze-temp\\Light_Only_Gen_2_2_6_25_S3_Y_CNO__Lisbon_Nairobi_Rome_Venice_Trial_1_top_right.mp4\n",
      "Loading  C:\\DeepLabCutProjects\\DLC-Atanu-2024-12-25\\Videos-to-analyze-temp\\Light_Only_Gen_2_2_6_25_S3_Y_CNO__Lisbon_Nairobi_Rome_Venice_Trial_1_top_right.mp4\n",
      "Duration of video [s]:  1200.68 , recorded with  25.0 fps!\n",
      "Overall # of frames:  30017  found with (before cropping) frame dimensions:  360 288\n",
      "Starting to extract posture\n"
     ]
    },
    {
     "name": "stderr",
     "output_type": "stream",
     "text": [
      "100%|██████████| 30017/30017 [07:20<00:00, 68.21it/s]\n"
     ]
    },
    {
     "name": "stdout",
     "output_type": "stream",
     "text": [
      "Saving results in C:/DeepLabCutProjects/DLC-Atanu-2024-12-25/Analyzed-videos-temp/...\n",
      "Saving csv poses!\n",
      "Starting to analyze %  C:\\DeepLabCutProjects\\DLC-Atanu-2024-12-25\\Videos-to-analyze-temp\\Light_Only_Gen_2_2_6_25_S4_Y_CNO__Paris_London_Phoenix_None_4_Trial_1_bottom_left.mp4\n",
      "Loading  C:\\DeepLabCutProjects\\DLC-Atanu-2024-12-25\\Videos-to-analyze-temp\\Light_Only_Gen_2_2_6_25_S4_Y_CNO__Paris_London_Phoenix_None_4_Trial_1_bottom_left.mp4\n",
      "Duration of video [s]:  1200.8 , recorded with  25.0 fps!\n",
      "Overall # of frames:  30020  found with (before cropping) frame dimensions:  360 288\n",
      "Starting to extract posture\n"
     ]
    },
    {
     "name": "stderr",
     "output_type": "stream",
     "text": [
      "100%|██████████| 30020/30020 [07:19<00:00, 68.23it/s]\n"
     ]
    },
    {
     "name": "stdout",
     "output_type": "stream",
     "text": [
      "Saving results in C:/DeepLabCutProjects/DLC-Atanu-2024-12-25/Analyzed-videos-temp/...\n",
      "Saving csv poses!\n",
      "Starting to analyze %  C:\\DeepLabCutProjects\\DLC-Atanu-2024-12-25\\Videos-to-analyze-temp\\Light_Only_Gen_2_2_6_25_S4_Y_CNO__Paris_London_Phoenix_None_4_Trial_1_bottom_right.mp4\n",
      "Loading  C:\\DeepLabCutProjects\\DLC-Atanu-2024-12-25\\Videos-to-analyze-temp\\Light_Only_Gen_2_2_6_25_S4_Y_CNO__Paris_London_Phoenix_None_4_Trial_1_bottom_right.mp4\n",
      "Duration of video [s]:  1200.8 , recorded with  25.0 fps!\n",
      "Overall # of frames:  30020  found with (before cropping) frame dimensions:  360 288\n",
      "Starting to extract posture\n"
     ]
    },
    {
     "name": "stderr",
     "output_type": "stream",
     "text": [
      "100%|██████████| 30020/30020 [07:20<00:00, 68.21it/s]\n"
     ]
    },
    {
     "name": "stdout",
     "output_type": "stream",
     "text": [
      "Saving results in C:/DeepLabCutProjects/DLC-Atanu-2024-12-25/Analyzed-videos-temp/...\n",
      "Saving csv poses!\n",
      "Starting to analyze %  C:\\DeepLabCutProjects\\DLC-Atanu-2024-12-25\\Videos-to-analyze-temp\\Light_Only_Gen_2_2_6_25_S4_Y_CNO__Paris_London_Phoenix_None_4_Trial_1_top_left.mp4\n",
      "Loading  C:\\DeepLabCutProjects\\DLC-Atanu-2024-12-25\\Videos-to-analyze-temp\\Light_Only_Gen_2_2_6_25_S4_Y_CNO__Paris_London_Phoenix_None_4_Trial_1_top_left.mp4\n",
      "Duration of video [s]:  1200.8 , recorded with  25.0 fps!\n",
      "Overall # of frames:  30020  found with (before cropping) frame dimensions:  360 288\n",
      "Starting to extract posture\n"
     ]
    },
    {
     "name": "stderr",
     "output_type": "stream",
     "text": [
      "100%|██████████| 30020/30020 [07:20<00:00, 68.20it/s]\n"
     ]
    },
    {
     "name": "stdout",
     "output_type": "stream",
     "text": [
      "Saving results in C:/DeepLabCutProjects/DLC-Atanu-2024-12-25/Analyzed-videos-temp/...\n",
      "Saving csv poses!\n",
      "Starting to analyze %  C:\\DeepLabCutProjects\\DLC-Atanu-2024-12-25\\Videos-to-analyze-temp\\Light_Only_Gen_2_2_6_25_S4_Y_CNO__Paris_London_Phoenix_None_4_Trial_1_top_right.mp4\n",
      "Loading  C:\\DeepLabCutProjects\\DLC-Atanu-2024-12-25\\Videos-to-analyze-temp\\Light_Only_Gen_2_2_6_25_S4_Y_CNO__Paris_London_Phoenix_None_4_Trial_1_top_right.mp4\n",
      "Duration of video [s]:  1200.8 , recorded with  25.0 fps!\n",
      "Overall # of frames:  30020  found with (before cropping) frame dimensions:  360 288\n",
      "Starting to extract posture\n"
     ]
    },
    {
     "name": "stderr",
     "output_type": "stream",
     "text": [
      "100%|██████████| 30020/30020 [07:20<00:00, 68.21it/s]\n"
     ]
    },
    {
     "name": "stdout",
     "output_type": "stream",
     "text": [
      "Saving results in C:/DeepLabCutProjects/DLC-Atanu-2024-12-25/Analyzed-videos-temp/...\n",
      "Saving csv poses!\n",
      "Starting to analyze %  C:\\DeepLabCutProjects\\DLC-Atanu-2024-12-25\\Videos-to-analyze-temp\\Light_Only_Gen_2_2_7_25_S1_P_CNO__Ft_Worth_Orlando_Tampa_Dallas_Trial_1_bottom_left.mp4\n",
      "Loading  C:\\DeepLabCutProjects\\DLC-Atanu-2024-12-25\\Videos-to-analyze-temp\\Light_Only_Gen_2_2_7_25_S1_P_CNO__Ft_Worth_Orlando_Tampa_Dallas_Trial_1_bottom_left.mp4\n",
      "Duration of video [s]:  1200.68 , recorded with  25.0 fps!\n",
      "Overall # of frames:  30017  found with (before cropping) frame dimensions:  360 288\n",
      "Starting to extract posture\n"
     ]
    },
    {
     "name": "stderr",
     "output_type": "stream",
     "text": [
      "100%|██████████| 30017/30017 [07:20<00:00, 68.20it/s]\n"
     ]
    },
    {
     "name": "stdout",
     "output_type": "stream",
     "text": [
      "Saving results in C:/DeepLabCutProjects/DLC-Atanu-2024-12-25/Analyzed-videos-temp/...\n",
      "Saving csv poses!\n",
      "Starting to analyze %  C:\\DeepLabCutProjects\\DLC-Atanu-2024-12-25\\Videos-to-analyze-temp\\Light_Only_Gen_2_2_7_25_S1_P_CNO__Ft_Worth_Orlando_Tampa_Dallas_Trial_1_bottom_right.mp4\n",
      "Loading  C:\\DeepLabCutProjects\\DLC-Atanu-2024-12-25\\Videos-to-analyze-temp\\Light_Only_Gen_2_2_7_25_S1_P_CNO__Ft_Worth_Orlando_Tampa_Dallas_Trial_1_bottom_right.mp4\n",
      "Duration of video [s]:  1200.68 , recorded with  25.0 fps!\n",
      "Overall # of frames:  30017  found with (before cropping) frame dimensions:  360 288\n",
      "Starting to extract posture\n"
     ]
    },
    {
     "name": "stderr",
     "output_type": "stream",
     "text": [
      "100%|██████████| 30017/30017 [07:20<00:00, 68.17it/s]\n"
     ]
    },
    {
     "name": "stdout",
     "output_type": "stream",
     "text": [
      "Saving results in C:/DeepLabCutProjects/DLC-Atanu-2024-12-25/Analyzed-videos-temp/...\n",
      "Saving csv poses!\n",
      "Starting to analyze %  C:\\DeepLabCutProjects\\DLC-Atanu-2024-12-25\\Videos-to-analyze-temp\\Light_Only_Gen_2_2_7_25_S1_P_CNO__Ft_Worth_Orlando_Tampa_Dallas_Trial_1_top_left.mp4\n",
      "Loading  C:\\DeepLabCutProjects\\DLC-Atanu-2024-12-25\\Videos-to-analyze-temp\\Light_Only_Gen_2_2_7_25_S1_P_CNO__Ft_Worth_Orlando_Tampa_Dallas_Trial_1_top_left.mp4\n",
      "Duration of video [s]:  1200.68 , recorded with  25.0 fps!\n",
      "Overall # of frames:  30017  found with (before cropping) frame dimensions:  360 288\n",
      "Starting to extract posture\n"
     ]
    },
    {
     "name": "stderr",
     "output_type": "stream",
     "text": [
      "100%|██████████| 30017/30017 [07:20<00:00, 68.20it/s]\n"
     ]
    },
    {
     "name": "stdout",
     "output_type": "stream",
     "text": [
      "Saving results in C:/DeepLabCutProjects/DLC-Atanu-2024-12-25/Analyzed-videos-temp/...\n",
      "Saving csv poses!\n",
      "Starting to analyze %  C:\\DeepLabCutProjects\\DLC-Atanu-2024-12-25\\Videos-to-analyze-temp\\Light_Only_Gen_2_2_7_25_S1_P_CNO__Ft_Worth_Orlando_Tampa_Dallas_Trial_1_top_right.mp4\n",
      "Loading  C:\\DeepLabCutProjects\\DLC-Atanu-2024-12-25\\Videos-to-analyze-temp\\Light_Only_Gen_2_2_7_25_S1_P_CNO__Ft_Worth_Orlando_Tampa_Dallas_Trial_1_top_right.mp4\n",
      "Duration of video [s]:  1200.68 , recorded with  25.0 fps!\n",
      "Overall # of frames:  30017  found with (before cropping) frame dimensions:  360 288\n",
      "Starting to extract posture\n"
     ]
    },
    {
     "name": "stderr",
     "output_type": "stream",
     "text": [
      "100%|██████████| 30017/30017 [07:20<00:00, 68.21it/s]\n"
     ]
    },
    {
     "name": "stdout",
     "output_type": "stream",
     "text": [
      "Saving results in C:/DeepLabCutProjects/DLC-Atanu-2024-12-25/Analyzed-videos-temp/...\n",
      "Saving csv poses!\n",
      "Starting to analyze %  C:\\DeepLabCutProjects\\DLC-Atanu-2024-12-25\\Videos-to-analyze-temp\\Light_Only_Gen_2_2_7_25_S2_P_CNO__LA_Seattle_Chicago_Las_Cruces_Trial_1_bottom_left.mp4\n",
      "Loading  C:\\DeepLabCutProjects\\DLC-Atanu-2024-12-25\\Videos-to-analyze-temp\\Light_Only_Gen_2_2_7_25_S2_P_CNO__LA_Seattle_Chicago_Las_Cruces_Trial_1_bottom_left.mp4\n",
      "Duration of video [s]:  1200.56 , recorded with  25.0 fps!\n",
      "Overall # of frames:  30014  found with (before cropping) frame dimensions:  360 288\n",
      "Starting to extract posture\n"
     ]
    },
    {
     "name": "stderr",
     "output_type": "stream",
     "text": [
      "100%|██████████| 30014/30014 [07:19<00:00, 68.21it/s]\n"
     ]
    },
    {
     "name": "stdout",
     "output_type": "stream",
     "text": [
      "Saving results in C:/DeepLabCutProjects/DLC-Atanu-2024-12-25/Analyzed-videos-temp/...\n",
      "Saving csv poses!\n",
      "Starting to analyze %  C:\\DeepLabCutProjects\\DLC-Atanu-2024-12-25\\Videos-to-analyze-temp\\Light_Only_Gen_2_2_7_25_S2_P_CNO__LA_Seattle_Chicago_Las_Cruces_Trial_1_bottom_right.mp4\n",
      "Loading  C:\\DeepLabCutProjects\\DLC-Atanu-2024-12-25\\Videos-to-analyze-temp\\Light_Only_Gen_2_2_7_25_S2_P_CNO__LA_Seattle_Chicago_Las_Cruces_Trial_1_bottom_right.mp4\n",
      "Duration of video [s]:  1200.56 , recorded with  25.0 fps!\n",
      "Overall # of frames:  30014  found with (before cropping) frame dimensions:  360 288\n",
      "Starting to extract posture\n"
     ]
    },
    {
     "name": "stderr",
     "output_type": "stream",
     "text": [
      "100%|██████████| 30014/30014 [07:19<00:00, 68.22it/s]\n"
     ]
    },
    {
     "name": "stdout",
     "output_type": "stream",
     "text": [
      "Saving results in C:/DeepLabCutProjects/DLC-Atanu-2024-12-25/Analyzed-videos-temp/...\n",
      "Saving csv poses!\n",
      "Starting to analyze %  C:\\DeepLabCutProjects\\DLC-Atanu-2024-12-25\\Videos-to-analyze-temp\\Light_Only_Gen_2_2_7_25_S2_P_CNO__LA_Seattle_Chicago_Las_Cruces_Trial_1_top_left.mp4\n",
      "Loading  C:\\DeepLabCutProjects\\DLC-Atanu-2024-12-25\\Videos-to-analyze-temp\\Light_Only_Gen_2_2_7_25_S2_P_CNO__LA_Seattle_Chicago_Las_Cruces_Trial_1_top_left.mp4\n",
      "Duration of video [s]:  1200.56 , recorded with  25.0 fps!\n",
      "Overall # of frames:  30014  found with (before cropping) frame dimensions:  360 288\n",
      "Starting to extract posture\n"
     ]
    },
    {
     "name": "stderr",
     "output_type": "stream",
     "text": [
      "100%|██████████| 30014/30014 [07:20<00:00, 68.21it/s]\n"
     ]
    },
    {
     "name": "stdout",
     "output_type": "stream",
     "text": [
      "Saving results in C:/DeepLabCutProjects/DLC-Atanu-2024-12-25/Analyzed-videos-temp/...\n",
      "Saving csv poses!\n",
      "Starting to analyze %  C:\\DeepLabCutProjects\\DLC-Atanu-2024-12-25\\Videos-to-analyze-temp\\Light_Only_Gen_2_2_7_25_S2_P_CNO__LA_Seattle_Chicago_Las_Cruces_Trial_1_top_right.mp4\n",
      "Loading  C:\\DeepLabCutProjects\\DLC-Atanu-2024-12-25\\Videos-to-analyze-temp\\Light_Only_Gen_2_2_7_25_S2_P_CNO__LA_Seattle_Chicago_Las_Cruces_Trial_1_top_right.mp4\n",
      "Duration of video [s]:  1200.56 , recorded with  25.0 fps!\n",
      "Overall # of frames:  30014  found with (before cropping) frame dimensions:  360 288\n",
      "Starting to extract posture\n"
     ]
    },
    {
     "name": "stderr",
     "output_type": "stream",
     "text": [
      "100%|██████████| 30014/30014 [07:19<00:00, 68.23it/s]\n"
     ]
    },
    {
     "name": "stdout",
     "output_type": "stream",
     "text": [
      "Saving results in C:/DeepLabCutProjects/DLC-Atanu-2024-12-25/Analyzed-videos-temp/...\n",
      "Saving csv poses!\n",
      "Starting to analyze %  C:\\DeepLabCutProjects\\DLC-Atanu-2024-12-25\\Videos-to-analyze-temp\\Light_Only_Gen_2_2_7_25_S3_P_CNO__Tokyo_Ruidoso_New_Orleans_Atlanta_Trial_1_bottom_left.mp4\n",
      "Loading  C:\\DeepLabCutProjects\\DLC-Atanu-2024-12-25\\Videos-to-analyze-temp\\Light_Only_Gen_2_2_7_25_S3_P_CNO__Tokyo_Ruidoso_New_Orleans_Atlanta_Trial_1_bottom_left.mp4\n",
      "Duration of video [s]:  1200.72 , recorded with  25.0 fps!\n",
      "Overall # of frames:  30018  found with (before cropping) frame dimensions:  360 288\n",
      "Starting to extract posture\n"
     ]
    },
    {
     "name": "stderr",
     "output_type": "stream",
     "text": [
      "100%|██████████| 30018/30018 [07:20<00:00, 68.22it/s]\n"
     ]
    },
    {
     "name": "stdout",
     "output_type": "stream",
     "text": [
      "Saving results in C:/DeepLabCutProjects/DLC-Atanu-2024-12-25/Analyzed-videos-temp/...\n",
      "Saving csv poses!\n",
      "Starting to analyze %  C:\\DeepLabCutProjects\\DLC-Atanu-2024-12-25\\Videos-to-analyze-temp\\Light_Only_Gen_2_2_7_25_S3_P_CNO__Tokyo_Ruidoso_New_Orleans_Atlanta_Trial_1_bottom_right.mp4\n",
      "Loading  C:\\DeepLabCutProjects\\DLC-Atanu-2024-12-25\\Videos-to-analyze-temp\\Light_Only_Gen_2_2_7_25_S3_P_CNO__Tokyo_Ruidoso_New_Orleans_Atlanta_Trial_1_bottom_right.mp4\n",
      "Duration of video [s]:  1200.72 , recorded with  25.0 fps!\n",
      "Overall # of frames:  30018  found with (before cropping) frame dimensions:  360 288\n",
      "Starting to extract posture\n"
     ]
    },
    {
     "name": "stderr",
     "output_type": "stream",
     "text": [
      "100%|██████████| 30018/30018 [07:20<00:00, 68.18it/s]\n"
     ]
    },
    {
     "name": "stdout",
     "output_type": "stream",
     "text": [
      "Saving results in C:/DeepLabCutProjects/DLC-Atanu-2024-12-25/Analyzed-videos-temp/...\n",
      "Saving csv poses!\n",
      "Starting to analyze %  C:\\DeepLabCutProjects\\DLC-Atanu-2024-12-25\\Videos-to-analyze-temp\\Light_Only_Gen_2_2_7_25_S3_P_CNO__Tokyo_Ruidoso_New_Orleans_Atlanta_Trial_1_top_left.mp4\n",
      "Loading  C:\\DeepLabCutProjects\\DLC-Atanu-2024-12-25\\Videos-to-analyze-temp\\Light_Only_Gen_2_2_7_25_S3_P_CNO__Tokyo_Ruidoso_New_Orleans_Atlanta_Trial_1_top_left.mp4\n",
      "Duration of video [s]:  1200.72 , recorded with  25.0 fps!\n",
      "Overall # of frames:  30018  found with (before cropping) frame dimensions:  360 288\n",
      "Starting to extract posture\n"
     ]
    },
    {
     "name": "stderr",
     "output_type": "stream",
     "text": [
      "100%|██████████| 30018/30018 [07:20<00:00, 68.21it/s]\n"
     ]
    },
    {
     "name": "stdout",
     "output_type": "stream",
     "text": [
      "Saving results in C:/DeepLabCutProjects/DLC-Atanu-2024-12-25/Analyzed-videos-temp/...\n",
      "Saving csv poses!\n",
      "Starting to analyze %  C:\\DeepLabCutProjects\\DLC-Atanu-2024-12-25\\Videos-to-analyze-temp\\Light_Only_Gen_2_2_7_25_S3_P_CNO__Tokyo_Ruidoso_New_Orleans_Atlanta_Trial_1_top_right.mp4\n",
      "Loading  C:\\DeepLabCutProjects\\DLC-Atanu-2024-12-25\\Videos-to-analyze-temp\\Light_Only_Gen_2_2_7_25_S3_P_CNO__Tokyo_Ruidoso_New_Orleans_Atlanta_Trial_1_top_right.mp4\n",
      "Duration of video [s]:  1200.72 , recorded with  25.0 fps!\n",
      "Overall # of frames:  30018  found with (before cropping) frame dimensions:  360 288\n",
      "Starting to extract posture\n"
     ]
    },
    {
     "name": "stderr",
     "output_type": "stream",
     "text": [
      "100%|██████████| 30018/30018 [07:20<00:00, 68.19it/s]\n"
     ]
    },
    {
     "name": "stdout",
     "output_type": "stream",
     "text": [
      "Saving results in C:/DeepLabCutProjects/DLC-Atanu-2024-12-25/Analyzed-videos-temp/...\n",
      "Saving csv poses!\n",
      "Starting to analyze %  C:\\DeepLabCutProjects\\DLC-Atanu-2024-12-25\\Videos-to-analyze-temp\\Light_Only_Gen_2_2_7_25_S4_P_CNO__New_York_New_Jersey_Trial_1_bottom_left.mp4\n",
      "Loading  C:\\DeepLabCutProjects\\DLC-Atanu-2024-12-25\\Videos-to-analyze-temp\\Light_Only_Gen_2_2_7_25_S4_P_CNO__New_York_New_Jersey_Trial_1_bottom_left.mp4\n",
      "Duration of video [s]:  1200.6 , recorded with  25.0 fps!\n",
      "Overall # of frames:  30015  found with (before cropping) frame dimensions:  360 288\n",
      "Starting to extract posture\n"
     ]
    },
    {
     "name": "stderr",
     "output_type": "stream",
     "text": [
      "100%|██████████| 30015/30015 [07:19<00:00, 68.22it/s]\n"
     ]
    },
    {
     "name": "stdout",
     "output_type": "stream",
     "text": [
      "Saving results in C:/DeepLabCutProjects/DLC-Atanu-2024-12-25/Analyzed-videos-temp/...\n",
      "Saving csv poses!\n",
      "Starting to analyze %  C:\\DeepLabCutProjects\\DLC-Atanu-2024-12-25\\Videos-to-analyze-temp\\Light_Only_Gen_2_2_7_25_S4_P_CNO__New_York_New_Jersey_Trial_1_bottom_right.mp4\n",
      "Loading  C:\\DeepLabCutProjects\\DLC-Atanu-2024-12-25\\Videos-to-analyze-temp\\Light_Only_Gen_2_2_7_25_S4_P_CNO__New_York_New_Jersey_Trial_1_bottom_right.mp4\n",
      "Duration of video [s]:  1200.6 , recorded with  25.0 fps!\n",
      "Overall # of frames:  30015  found with (before cropping) frame dimensions:  360 288\n",
      "Starting to extract posture\n"
     ]
    },
    {
     "name": "stderr",
     "output_type": "stream",
     "text": [
      "100%|██████████| 30015/30015 [07:19<00:00, 68.24it/s]\n"
     ]
    },
    {
     "name": "stdout",
     "output_type": "stream",
     "text": [
      "Saving results in C:/DeepLabCutProjects/DLC-Atanu-2024-12-25/Analyzed-videos-temp/...\n",
      "Saving csv poses!\n",
      "Starting to analyze %  C:\\DeepLabCutProjects\\DLC-Atanu-2024-12-25\\Videos-to-analyze-temp\\Light_Only_Gen_2_2_7_25_S4_P_CNO__New_York_New_Jersey_Trial_1_top_left.mp4\n",
      "Loading  C:\\DeepLabCutProjects\\DLC-Atanu-2024-12-25\\Videos-to-analyze-temp\\Light_Only_Gen_2_2_7_25_S4_P_CNO__New_York_New_Jersey_Trial_1_top_left.mp4\n",
      "Duration of video [s]:  1200.6 , recorded with  25.0 fps!\n",
      "Overall # of frames:  30015  found with (before cropping) frame dimensions:  360 288\n",
      "Starting to extract posture\n"
     ]
    },
    {
     "name": "stderr",
     "output_type": "stream",
     "text": [
      "100%|██████████| 30015/30015 [07:20<00:00, 68.20it/s]\n"
     ]
    },
    {
     "name": "stdout",
     "output_type": "stream",
     "text": [
      "Saving results in C:/DeepLabCutProjects/DLC-Atanu-2024-12-25/Analyzed-videos-temp/...\n",
      "Saving csv poses!\n",
      "Starting to analyze %  C:\\DeepLabCutProjects\\DLC-Atanu-2024-12-25\\Videos-to-analyze-temp\\Light_Only_Gen_2_2_7_25_S4_P_CNO__New_York_New_Jersey_Trial_1_top_right.mp4\n",
      "Loading  C:\\DeepLabCutProjects\\DLC-Atanu-2024-12-25\\Videos-to-analyze-temp\\Light_Only_Gen_2_2_7_25_S4_P_CNO__New_York_New_Jersey_Trial_1_top_right.mp4\n",
      "Duration of video [s]:  1200.6 , recorded with  25.0 fps!\n",
      "Overall # of frames:  30015  found with (before cropping) frame dimensions:  360 288\n",
      "Starting to extract posture\n"
     ]
    },
    {
     "name": "stderr",
     "output_type": "stream",
     "text": [
      "100%|██████████| 30015/30015 [07:19<00:00, 68.23it/s]\n"
     ]
    },
    {
     "name": "stdout",
     "output_type": "stream",
     "text": [
      "Saving results in C:/DeepLabCutProjects/DLC-Atanu-2024-12-25/Analyzed-videos-temp/...\n",
      "Saving csv poses!\n",
      "Starting to analyze %  C:\\DeepLabCutProjects\\DLC-Atanu-2024-12-25\\Videos-to-analyze-temp\\Light_Only_Gen_2_Repeat_Gen_2_2_14_25_S1_Y_CNO__Austin_Houston_Toronto_Berlin_Trial_1_bottom_left.mp4\n",
      "Loading  C:\\DeepLabCutProjects\\DLC-Atanu-2024-12-25\\Videos-to-analyze-temp\\Light_Only_Gen_2_Repeat_Gen_2_2_14_25_S1_Y_CNO__Austin_Houston_Toronto_Berlin_Trial_1_bottom_left.mp4\n",
      "Duration of video [s]:  1200.6 , recorded with  25.0 fps!\n",
      "Overall # of frames:  30015  found with (before cropping) frame dimensions:  360 288\n",
      "Starting to extract posture\n"
     ]
    },
    {
     "name": "stderr",
     "output_type": "stream",
     "text": [
      "100%|██████████| 30015/30015 [07:20<00:00, 68.21it/s]\n"
     ]
    },
    {
     "name": "stdout",
     "output_type": "stream",
     "text": [
      "Saving results in C:/DeepLabCutProjects/DLC-Atanu-2024-12-25/Analyzed-videos-temp/...\n",
      "Saving csv poses!\n",
      "Starting to analyze %  C:\\DeepLabCutProjects\\DLC-Atanu-2024-12-25\\Videos-to-analyze-temp\\Light_Only_Gen_2_Repeat_Gen_2_2_14_25_S1_Y_CNO__Austin_Houston_Toronto_Berlin_Trial_1_bottom_right.mp4\n",
      "Loading  C:\\DeepLabCutProjects\\DLC-Atanu-2024-12-25\\Videos-to-analyze-temp\\Light_Only_Gen_2_Repeat_Gen_2_2_14_25_S1_Y_CNO__Austin_Houston_Toronto_Berlin_Trial_1_bottom_right.mp4\n",
      "Duration of video [s]:  1200.6 , recorded with  25.0 fps!\n",
      "Overall # of frames:  30015  found with (before cropping) frame dimensions:  360 288\n",
      "Starting to extract posture\n"
     ]
    },
    {
     "name": "stderr",
     "output_type": "stream",
     "text": [
      "100%|██████████| 30015/30015 [07:20<00:00, 68.17it/s]\n"
     ]
    },
    {
     "name": "stdout",
     "output_type": "stream",
     "text": [
      "Saving results in C:/DeepLabCutProjects/DLC-Atanu-2024-12-25/Analyzed-videos-temp/...\n",
      "Saving csv poses!\n",
      "Starting to analyze %  C:\\DeepLabCutProjects\\DLC-Atanu-2024-12-25\\Videos-to-analyze-temp\\Light_Only_Gen_2_Repeat_Gen_2_2_14_25_S1_Y_CNO__Austin_Houston_Toronto_Berlin_Trial_1_top_left.mp4\n",
      "Loading  C:\\DeepLabCutProjects\\DLC-Atanu-2024-12-25\\Videos-to-analyze-temp\\Light_Only_Gen_2_Repeat_Gen_2_2_14_25_S1_Y_CNO__Austin_Houston_Toronto_Berlin_Trial_1_top_left.mp4\n",
      "Duration of video [s]:  1200.6 , recorded with  25.0 fps!\n",
      "Overall # of frames:  30015  found with (before cropping) frame dimensions:  360 288\n",
      "Starting to extract posture\n"
     ]
    },
    {
     "name": "stderr",
     "output_type": "stream",
     "text": [
      "100%|██████████| 30015/30015 [07:20<00:00, 68.20it/s]\n"
     ]
    },
    {
     "name": "stdout",
     "output_type": "stream",
     "text": [
      "Saving results in C:/DeepLabCutProjects/DLC-Atanu-2024-12-25/Analyzed-videos-temp/...\n",
      "Saving csv poses!\n",
      "Starting to analyze %  C:\\DeepLabCutProjects\\DLC-Atanu-2024-12-25\\Videos-to-analyze-temp\\Light_Only_Gen_2_Repeat_Gen_2_2_14_25_S1_Y_CNO__Austin_Houston_Toronto_Berlin_Trial_1_top_right.mp4\n",
      "Loading  C:\\DeepLabCutProjects\\DLC-Atanu-2024-12-25\\Videos-to-analyze-temp\\Light_Only_Gen_2_Repeat_Gen_2_2_14_25_S1_Y_CNO__Austin_Houston_Toronto_Berlin_Trial_1_top_right.mp4\n",
      "Duration of video [s]:  1200.6 , recorded with  25.0 fps!\n",
      "Overall # of frames:  30015  found with (before cropping) frame dimensions:  360 288\n",
      "Starting to extract posture\n"
     ]
    },
    {
     "name": "stderr",
     "output_type": "stream",
     "text": [
      "100%|██████████| 30015/30015 [07:20<00:00, 68.20it/s]\n"
     ]
    },
    {
     "name": "stdout",
     "output_type": "stream",
     "text": [
      "Saving results in C:/DeepLabCutProjects/DLC-Atanu-2024-12-25/Analyzed-videos-temp/...\n",
      "Saving csv poses!\n",
      "Starting to analyze %  C:\\DeepLabCutProjects\\DLC-Atanu-2024-12-25\\Videos-to-analyze-temp\\Light_Only_Gen_2_Repeat_Gen_2_2_14_25_S2_Y_CNO__Denver_El_Paso_Waco_None_4_Trial_1_bottom_left.mp4\n",
      "Loading  C:\\DeepLabCutProjects\\DLC-Atanu-2024-12-25\\Videos-to-analyze-temp\\Light_Only_Gen_2_Repeat_Gen_2_2_14_25_S2_Y_CNO__Denver_El_Paso_Waco_None_4_Trial_1_bottom_left.mp4\n",
      "Duration of video [s]:  1200.8 , recorded with  25.0 fps!\n",
      "Overall # of frames:  30020  found with (before cropping) frame dimensions:  360 288\n",
      "Starting to extract posture\n"
     ]
    },
    {
     "name": "stderr",
     "output_type": "stream",
     "text": [
      "100%|██████████| 30020/30020 [07:20<00:00, 68.21it/s]\n"
     ]
    },
    {
     "name": "stdout",
     "output_type": "stream",
     "text": [
      "Saving results in C:/DeepLabCutProjects/DLC-Atanu-2024-12-25/Analyzed-videos-temp/...\n",
      "Saving csv poses!\n",
      "Starting to analyze %  C:\\DeepLabCutProjects\\DLC-Atanu-2024-12-25\\Videos-to-analyze-temp\\Light_Only_Gen_2_Repeat_Gen_2_2_14_25_S2_Y_CNO__Denver_El_Paso_Waco_None_4_Trial_1_bottom_right.mp4\n",
      "Loading  C:\\DeepLabCutProjects\\DLC-Atanu-2024-12-25\\Videos-to-analyze-temp\\Light_Only_Gen_2_Repeat_Gen_2_2_14_25_S2_Y_CNO__Denver_El_Paso_Waco_None_4_Trial_1_bottom_right.mp4\n",
      "Duration of video [s]:  1200.8 , recorded with  25.0 fps!\n",
      "Overall # of frames:  30020  found with (before cropping) frame dimensions:  360 288\n",
      "Starting to extract posture\n"
     ]
    },
    {
     "name": "stderr",
     "output_type": "stream",
     "text": [
      "100%|██████████| 30020/30020 [07:20<00:00, 68.22it/s]\n"
     ]
    },
    {
     "name": "stdout",
     "output_type": "stream",
     "text": [
      "Saving results in C:/DeepLabCutProjects/DLC-Atanu-2024-12-25/Analyzed-videos-temp/...\n",
      "Saving csv poses!\n",
      "Starting to analyze %  C:\\DeepLabCutProjects\\DLC-Atanu-2024-12-25\\Videos-to-analyze-temp\\Light_Only_Gen_2_Repeat_Gen_2_2_14_25_S2_Y_CNO__Denver_El_Paso_Waco_None_4_Trial_1_top_left.mp4\n",
      "Loading  C:\\DeepLabCutProjects\\DLC-Atanu-2024-12-25\\Videos-to-analyze-temp\\Light_Only_Gen_2_Repeat_Gen_2_2_14_25_S2_Y_CNO__Denver_El_Paso_Waco_None_4_Trial_1_top_left.mp4\n",
      "Duration of video [s]:  1200.8 , recorded with  25.0 fps!\n",
      "Overall # of frames:  30020  found with (before cropping) frame dimensions:  360 288\n",
      "Starting to extract posture\n"
     ]
    },
    {
     "name": "stderr",
     "output_type": "stream",
     "text": [
      "100%|██████████| 30020/30020 [07:20<00:00, 68.19it/s]\n"
     ]
    },
    {
     "name": "stdout",
     "output_type": "stream",
     "text": [
      "Saving results in C:/DeepLabCutProjects/DLC-Atanu-2024-12-25/Analyzed-videos-temp/...\n",
      "Saving csv poses!\n",
      "Starting to analyze %  C:\\DeepLabCutProjects\\DLC-Atanu-2024-12-25\\Videos-to-analyze-temp\\Light_Only_Gen_2_Repeat_Gen_2_2_14_25_S2_Y_CNO__Denver_El_Paso_Waco_None_4_Trial_1_top_right.mp4\n",
      "Loading  C:\\DeepLabCutProjects\\DLC-Atanu-2024-12-25\\Videos-to-analyze-temp\\Light_Only_Gen_2_Repeat_Gen_2_2_14_25_S2_Y_CNO__Denver_El_Paso_Waco_None_4_Trial_1_top_right.mp4\n",
      "Duration of video [s]:  1200.8 , recorded with  25.0 fps!\n",
      "Overall # of frames:  30020  found with (before cropping) frame dimensions:  360 288\n",
      "Starting to extract posture\n"
     ]
    },
    {
     "name": "stderr",
     "output_type": "stream",
     "text": [
      "100%|██████████| 30020/30020 [07:20<00:00, 68.22it/s]\n"
     ]
    },
    {
     "name": "stdout",
     "output_type": "stream",
     "text": [
      "Saving results in C:/DeepLabCutProjects/DLC-Atanu-2024-12-25/Analyzed-videos-temp/...\n",
      "Saving csv poses!\n",
      "Starting to analyze %  C:\\DeepLabCutProjects\\DLC-Atanu-2024-12-25\\Videos-to-analyze-temp\\Light_Only_Gen_2_Repeat_Gen_2_2_14_25_S3_Y_CNO__Lisbon_Nairobi_Rome_Venice_Trial_1_bottom_left.mp4\n",
      "Loading  C:\\DeepLabCutProjects\\DLC-Atanu-2024-12-25\\Videos-to-analyze-temp\\Light_Only_Gen_2_Repeat_Gen_2_2_14_25_S3_Y_CNO__Lisbon_Nairobi_Rome_Venice_Trial_1_bottom_left.mp4\n",
      "Duration of video [s]:  1200.68 , recorded with  25.0 fps!\n",
      "Overall # of frames:  30017  found with (before cropping) frame dimensions:  360 288\n",
      "Starting to extract posture\n"
     ]
    },
    {
     "name": "stderr",
     "output_type": "stream",
     "text": [
      "100%|██████████| 30017/30017 [07:20<00:00, 68.21it/s]\n"
     ]
    },
    {
     "name": "stdout",
     "output_type": "stream",
     "text": [
      "Saving results in C:/DeepLabCutProjects/DLC-Atanu-2024-12-25/Analyzed-videos-temp/...\n",
      "Saving csv poses!\n",
      "Starting to analyze %  C:\\DeepLabCutProjects\\DLC-Atanu-2024-12-25\\Videos-to-analyze-temp\\Light_Only_Gen_2_Repeat_Gen_2_2_14_25_S3_Y_CNO__Lisbon_Nairobi_Rome_Venice_Trial_1_bottom_right.mp4\n",
      "Loading  C:\\DeepLabCutProjects\\DLC-Atanu-2024-12-25\\Videos-to-analyze-temp\\Light_Only_Gen_2_Repeat_Gen_2_2_14_25_S3_Y_CNO__Lisbon_Nairobi_Rome_Venice_Trial_1_bottom_right.mp4\n",
      "Duration of video [s]:  1200.68 , recorded with  25.0 fps!\n",
      "Overall # of frames:  30017  found with (before cropping) frame dimensions:  360 288\n",
      "Starting to extract posture\n"
     ]
    },
    {
     "name": "stderr",
     "output_type": "stream",
     "text": [
      "100%|██████████| 30017/30017 [07:29<00:00, 66.77it/s]\n"
     ]
    },
    {
     "name": "stdout",
     "output_type": "stream",
     "text": [
      "Saving results in C:/DeepLabCutProjects/DLC-Atanu-2024-12-25/Analyzed-videos-temp/...\n",
      "Saving csv poses!\n",
      "Starting to analyze %  C:\\DeepLabCutProjects\\DLC-Atanu-2024-12-25\\Videos-to-analyze-temp\\Light_Only_Gen_2_Repeat_Gen_2_2_14_25_S3_Y_CNO__Lisbon_Nairobi_Rome_Venice_Trial_1_top_left.mp4\n",
      "Loading  C:\\DeepLabCutProjects\\DLC-Atanu-2024-12-25\\Videos-to-analyze-temp\\Light_Only_Gen_2_Repeat_Gen_2_2_14_25_S3_Y_CNO__Lisbon_Nairobi_Rome_Venice_Trial_1_top_left.mp4\n",
      "Duration of video [s]:  1200.68 , recorded with  25.0 fps!\n",
      "Overall # of frames:  30017  found with (before cropping) frame dimensions:  360 288\n",
      "Starting to extract posture\n"
     ]
    },
    {
     "name": "stderr",
     "output_type": "stream",
     "text": [
      "100%|██████████| 30017/30017 [07:42<00:00, 64.91it/s]\n"
     ]
    },
    {
     "name": "stdout",
     "output_type": "stream",
     "text": [
      "Saving results in C:/DeepLabCutProjects/DLC-Atanu-2024-12-25/Analyzed-videos-temp/...\n",
      "Saving csv poses!\n",
      "Starting to analyze %  C:\\DeepLabCutProjects\\DLC-Atanu-2024-12-25\\Videos-to-analyze-temp\\Light_Only_Gen_2_Repeat_Gen_2_2_14_25_S3_Y_CNO__Lisbon_Nairobi_Rome_Venice_Trial_1_top_right.mp4\n",
      "Loading  C:\\DeepLabCutProjects\\DLC-Atanu-2024-12-25\\Videos-to-analyze-temp\\Light_Only_Gen_2_Repeat_Gen_2_2_14_25_S3_Y_CNO__Lisbon_Nairobi_Rome_Venice_Trial_1_top_right.mp4\n",
      "Duration of video [s]:  1200.68 , recorded with  25.0 fps!\n",
      "Overall # of frames:  30017  found with (before cropping) frame dimensions:  360 288\n",
      "Starting to extract posture\n"
     ]
    },
    {
     "name": "stderr",
     "output_type": "stream",
     "text": [
      "100%|██████████| 30017/30017 [07:41<00:00, 65.11it/s]\n"
     ]
    },
    {
     "name": "stdout",
     "output_type": "stream",
     "text": [
      "Saving results in C:/DeepLabCutProjects/DLC-Atanu-2024-12-25/Analyzed-videos-temp/...\n",
      "Saving csv poses!\n",
      "Starting to analyze %  C:\\DeepLabCutProjects\\DLC-Atanu-2024-12-25\\Videos-to-analyze-temp\\Light_Only_Gen_2_Repeat_Gen_2_2_14_25_S4_Y_CNO__Paris_London_Phoenix_None_4_Trial_1_bottom_left.mp4\n",
      "Loading  C:\\DeepLabCutProjects\\DLC-Atanu-2024-12-25\\Videos-to-analyze-temp\\Light_Only_Gen_2_Repeat_Gen_2_2_14_25_S4_Y_CNO__Paris_London_Phoenix_None_4_Trial_1_bottom_left.mp4\n",
      "Duration of video [s]:  1200.8 , recorded with  25.0 fps!\n",
      "Overall # of frames:  30020  found with (before cropping) frame dimensions:  360 288\n",
      "Starting to extract posture\n"
     ]
    },
    {
     "name": "stderr",
     "output_type": "stream",
     "text": [
      "100%|██████████| 30020/30020 [07:40<00:00, 65.15it/s]\n"
     ]
    },
    {
     "name": "stdout",
     "output_type": "stream",
     "text": [
      "Saving results in C:/DeepLabCutProjects/DLC-Atanu-2024-12-25/Analyzed-videos-temp/...\n",
      "Saving csv poses!\n",
      "Starting to analyze %  C:\\DeepLabCutProjects\\DLC-Atanu-2024-12-25\\Videos-to-analyze-temp\\Light_Only_Gen_2_Repeat_Gen_2_2_14_25_S4_Y_CNO__Paris_London_Phoenix_None_4_Trial_1_bottom_right.mp4\n",
      "Loading  C:\\DeepLabCutProjects\\DLC-Atanu-2024-12-25\\Videos-to-analyze-temp\\Light_Only_Gen_2_Repeat_Gen_2_2_14_25_S4_Y_CNO__Paris_London_Phoenix_None_4_Trial_1_bottom_right.mp4\n",
      "Duration of video [s]:  1200.8 , recorded with  25.0 fps!\n",
      "Overall # of frames:  30020  found with (before cropping) frame dimensions:  360 288\n",
      "Starting to extract posture\n"
     ]
    },
    {
     "name": "stderr",
     "output_type": "stream",
     "text": [
      "100%|██████████| 30020/30020 [07:40<00:00, 65.24it/s]\n"
     ]
    },
    {
     "name": "stdout",
     "output_type": "stream",
     "text": [
      "Saving results in C:/DeepLabCutProjects/DLC-Atanu-2024-12-25/Analyzed-videos-temp/...\n",
      "Saving csv poses!\n",
      "Starting to analyze %  C:\\DeepLabCutProjects\\DLC-Atanu-2024-12-25\\Videos-to-analyze-temp\\Light_Only_Gen_2_Repeat_Gen_2_2_14_25_S4_Y_CNO__Paris_London_Phoenix_None_4_Trial_1_top_left.mp4\n",
      "Loading  C:\\DeepLabCutProjects\\DLC-Atanu-2024-12-25\\Videos-to-analyze-temp\\Light_Only_Gen_2_Repeat_Gen_2_2_14_25_S4_Y_CNO__Paris_London_Phoenix_None_4_Trial_1_top_left.mp4\n",
      "Duration of video [s]:  1200.8 , recorded with  25.0 fps!\n",
      "Overall # of frames:  30020  found with (before cropping) frame dimensions:  360 288\n",
      "Starting to extract posture\n"
     ]
    },
    {
     "name": "stderr",
     "output_type": "stream",
     "text": [
      "100%|██████████| 30020/30020 [07:42<00:00, 64.86it/s]\n"
     ]
    },
    {
     "name": "stdout",
     "output_type": "stream",
     "text": [
      "Saving results in C:/DeepLabCutProjects/DLC-Atanu-2024-12-25/Analyzed-videos-temp/...\n",
      "Saving csv poses!\n",
      "Starting to analyze %  C:\\DeepLabCutProjects\\DLC-Atanu-2024-12-25\\Videos-to-analyze-temp\\Light_Only_Gen_2_Repeat_Gen_2_2_14_25_S4_Y_CNO__Paris_London_Phoenix_None_4_Trial_1_top_right.mp4\n",
      "Loading  C:\\DeepLabCutProjects\\DLC-Atanu-2024-12-25\\Videos-to-analyze-temp\\Light_Only_Gen_2_Repeat_Gen_2_2_14_25_S4_Y_CNO__Paris_London_Phoenix_None_4_Trial_1_top_right.mp4\n",
      "Duration of video [s]:  1200.8 , recorded with  25.0 fps!\n",
      "Overall # of frames:  30020  found with (before cropping) frame dimensions:  360 288\n",
      "Starting to extract posture\n"
     ]
    },
    {
     "name": "stderr",
     "output_type": "stream",
     "text": [
      "100%|██████████| 30020/30020 [07:40<00:00, 65.21it/s]\n"
     ]
    },
    {
     "name": "stdout",
     "output_type": "stream",
     "text": [
      "Saving results in C:/DeepLabCutProjects/DLC-Atanu-2024-12-25/Analyzed-videos-temp/...\n",
      "Saving csv poses!\n",
      "Starting to analyze %  C:\\DeepLabCutProjects\\DLC-Atanu-2024-12-25\\Videos-to-analyze-temp\\Light_Only_Gen_2_Repeat_Gen_2_2_17_25_S1_P_CNO__Ft_Worth_Orlando_Tampa_Dallas_Trial_1_bottom_left.mp4\n",
      "Loading  C:\\DeepLabCutProjects\\DLC-Atanu-2024-12-25\\Videos-to-analyze-temp\\Light_Only_Gen_2_Repeat_Gen_2_2_17_25_S1_P_CNO__Ft_Worth_Orlando_Tampa_Dallas_Trial_1_bottom_left.mp4\n",
      "Duration of video [s]:  1200.68 , recorded with  25.0 fps!\n",
      "Overall # of frames:  30017  found with (before cropping) frame dimensions:  360 288\n",
      "Starting to extract posture\n"
     ]
    },
    {
     "name": "stderr",
     "output_type": "stream",
     "text": [
      "100%|██████████| 30017/30017 [07:39<00:00, 65.28it/s]\n"
     ]
    },
    {
     "name": "stdout",
     "output_type": "stream",
     "text": [
      "Saving results in C:/DeepLabCutProjects/DLC-Atanu-2024-12-25/Analyzed-videos-temp/...\n",
      "Saving csv poses!\n",
      "Starting to analyze %  C:\\DeepLabCutProjects\\DLC-Atanu-2024-12-25\\Videos-to-analyze-temp\\Light_Only_Gen_2_Repeat_Gen_2_2_17_25_S1_P_CNO__Ft_Worth_Orlando_Tampa_Dallas_Trial_1_bottom_right.mp4\n",
      "Loading  C:\\DeepLabCutProjects\\DLC-Atanu-2024-12-25\\Videos-to-analyze-temp\\Light_Only_Gen_2_Repeat_Gen_2_2_17_25_S1_P_CNO__Ft_Worth_Orlando_Tampa_Dallas_Trial_1_bottom_right.mp4\n",
      "Duration of video [s]:  1200.68 , recorded with  25.0 fps!\n",
      "Overall # of frames:  30017  found with (before cropping) frame dimensions:  360 288\n",
      "Starting to extract posture\n"
     ]
    },
    {
     "name": "stderr",
     "output_type": "stream",
     "text": [
      "  8%|▊         | 2464/30017 [00:38<06:58, 65.81it/s]"
     ]
    }
   ],
   "source": [
    "deeplabcut.analyze_videos(config_path, new_videos, shuffle=1, save_as_csv=True, videotype='.mp4', destfolder='C:/DeepLabCutProjects/DLC-Atanu-2024-12-25/Analyzed-videos-temp/')"
   ]
  },
  {
   "cell_type": "code",
   "execution_count": 30,
   "metadata": {
    "collapsed": true,
    "jupyter": {
     "outputs_hidden": true
    },
    "scrolled": true
   },
   "outputs": [
    {
     "name": "stdout",
     "output_type": "stream",
     "text": [
      "Filtering with median model C:\\DeepLabCutProjects\\DLC-Atanu-2024-12-25\\Videos-to-analyze\\Cre_and_WT_Habituation_Food_and_Maze_12_26_24_S1_Houston_Austin_Toronto_Berlin_Trial_1_bottom_left.mp4\n",
      "Saving filtered csv poses!\n",
      "Filtering with median model C:\\DeepLabCutProjects\\DLC-Atanu-2024-12-25\\Videos-to-analyze\\Cre_and_WT_Habituation_Food_and_Maze_12_26_24_S1_Houston_Austin_Toronto_Berlin_Trial_1_bottom_right.mp4\n",
      "Saving filtered csv poses!\n",
      "Filtering with median model C:\\DeepLabCutProjects\\DLC-Atanu-2024-12-25\\Videos-to-analyze\\Cre_and_WT_Habituation_Food_and_Maze_12_26_24_S1_Houston_Austin_Toronto_Berlin_Trial_1_top_left.mp4\n",
      "Saving filtered csv poses!\n",
      "Filtering with median model C:\\DeepLabCutProjects\\DLC-Atanu-2024-12-25\\Videos-to-analyze\\Cre_and_WT_Habituation_Food_and_Maze_12_26_24_S1_Houston_Austin_Toronto_Berlin_Trial_1_top_right.mp4\n",
      "Saving filtered csv poses!\n",
      "Filtering with median model C:\\DeepLabCutProjects\\DLC-Atanu-2024-12-25\\Videos-to-analyze\\Cre_and_WT_Habituation_Food_and_Maze_12_26_24_S2_Denver_El_Paso_Waco_Ft_Worth_Trial_1_bottom_left.mp4\n",
      "Saving filtered csv poses!\n",
      "Filtering with median model C:\\DeepLabCutProjects\\DLC-Atanu-2024-12-25\\Videos-to-analyze\\Cre_and_WT_Habituation_Food_and_Maze_12_26_24_S2_Denver_El_Paso_Waco_Ft_Worth_Trial_1_bottom_right.mp4\n",
      "Saving filtered csv poses!\n",
      "Filtering with median model C:\\DeepLabCutProjects\\DLC-Atanu-2024-12-25\\Videos-to-analyze\\Cre_and_WT_Habituation_Food_and_Maze_12_26_24_S2_Denver_El_Paso_Waco_Ft_Worth_Trial_1_top_left.mp4\n",
      "Saving filtered csv poses!\n",
      "Filtering with median model C:\\DeepLabCutProjects\\DLC-Atanu-2024-12-25\\Videos-to-analyze\\Cre_and_WT_Habituation_Food_and_Maze_12_26_24_S2_Denver_El_Paso_Waco_Ft_Worth_Trial_1_top_right.mp4\n",
      "Saving filtered csv poses!\n",
      "Filtering with median model C:\\DeepLabCutProjects\\DLC-Atanu-2024-12-25\\Videos-to-analyze\\Cre_and_WT_Habituation_Food_and_Maze_12_26_24_S3_Orlando_Tampa_Dallas_None_4_Trial_1_bottom_left.mp4\n",
      "Saving filtered csv poses!\n",
      "Filtering with median model C:\\DeepLabCutProjects\\DLC-Atanu-2024-12-25\\Videos-to-analyze\\Cre_and_WT_Habituation_Food_and_Maze_12_26_24_S3_Orlando_Tampa_Dallas_None_4_Trial_1_bottom_right.mp4\n",
      "Saving filtered csv poses!\n",
      "Filtering with median model C:\\DeepLabCutProjects\\DLC-Atanu-2024-12-25\\Videos-to-analyze\\Cre_and_WT_Habituation_Food_and_Maze_12_26_24_S3_Orlando_Tampa_Dallas_None_4_Trial_1_top_left.mp4\n",
      "Saving filtered csv poses!\n",
      "Filtering with median model C:\\DeepLabCutProjects\\DLC-Atanu-2024-12-25\\Videos-to-analyze\\Cre_and_WT_Habituation_Food_and_Maze_12_26_24_S3_Orlando_Tampa_Dallas_None_4_Trial_1_top_right.mp4\n",
      "Saving filtered csv poses!\n",
      "Filtering with median model C:\\DeepLabCutProjects\\DLC-Atanu-2024-12-25\\Videos-to-analyze\\Cre_and_WT_Habituation_Food_and_Maze_12_26_24_S4_Lisbon_Nirobi_Rome_Venice_Trial_1_bottom_left.mp4\n",
      "Saving filtered csv poses!\n",
      "Filtering with median model C:\\DeepLabCutProjects\\DLC-Atanu-2024-12-25\\Videos-to-analyze\\Cre_and_WT_Habituation_Food_and_Maze_12_26_24_S4_Lisbon_Nirobi_Rome_Venice_Trial_1_bottom_right.mp4\n",
      "Saving filtered csv poses!\n",
      "Filtering with median model C:\\DeepLabCutProjects\\DLC-Atanu-2024-12-25\\Videos-to-analyze\\Cre_and_WT_Habituation_Food_and_Maze_12_26_24_S4_Lisbon_Nirobi_Rome_Venice_Trial_1_top_left.mp4\n",
      "Saving filtered csv poses!\n",
      "Filtering with median model C:\\DeepLabCutProjects\\DLC-Atanu-2024-12-25\\Videos-to-analyze\\Cre_and_WT_Habituation_Food_and_Maze_12_26_24_S4_Lisbon_Nirobi_Rome_Venice_Trial_1_top_right.mp4\n",
      "Saving filtered csv poses!\n",
      "Filtering with median model C:\\DeepLabCutProjects\\DLC-Atanu-2024-12-25\\Videos-to-analyze\\Cre_and_WT_Habituation_Food_and_Maze_12_26_24_S5_London._Paris_LA_Phoenix_Trial_1_bottom_left.mp4\n",
      "Saving filtered csv poses!\n",
      "Filtering with median model C:\\DeepLabCutProjects\\DLC-Atanu-2024-12-25\\Videos-to-analyze\\Cre_and_WT_Habituation_Food_and_Maze_12_26_24_S5_London._Paris_LA_Phoenix_Trial_1_bottom_right.mp4\n",
      "Saving filtered csv poses!\n",
      "Filtering with median model C:\\DeepLabCutProjects\\DLC-Atanu-2024-12-25\\Videos-to-analyze\\Cre_and_WT_Habituation_Food_and_Maze_12_26_24_S5_London._Paris_LA_Phoenix_Trial_1_top_left.mp4\n",
      "Saving filtered csv poses!\n",
      "Filtering with median model C:\\DeepLabCutProjects\\DLC-Atanu-2024-12-25\\Videos-to-analyze\\Cre_and_WT_Habituation_Food_and_Maze_12_26_24_S5_London._Paris_LA_Phoenix_Trial_1_top_right.mp4\n",
      "Saving filtered csv poses!\n",
      "Filtering with median model C:\\DeepLabCutProjects\\DLC-Atanu-2024-12-25\\Videos-to-analyze\\Cre_and_WT_Habituation_Food_and_Maze_12_26_24_S6_Chicago_Las_Cruces_Tokyo_Ruidoso_Trial_1_bottom_left.mp4\n",
      "Saving filtered csv poses!\n",
      "Filtering with median model C:\\DeepLabCutProjects\\DLC-Atanu-2024-12-25\\Videos-to-analyze\\Cre_and_WT_Habituation_Food_and_Maze_12_26_24_S6_Chicago_Las_Cruces_Tokyo_Ruidoso_Trial_1_bottom_right.mp4\n",
      "Saving filtered csv poses!\n",
      "Filtering with median model C:\\DeepLabCutProjects\\DLC-Atanu-2024-12-25\\Videos-to-analyze\\Cre_and_WT_Habituation_Food_and_Maze_12_26_24_S6_Chicago_Las_Cruces_Tokyo_Ruidoso_Trial_1_top_left.mp4\n",
      "Saving filtered csv poses!\n",
      "Filtering with median model C:\\DeepLabCutProjects\\DLC-Atanu-2024-12-25\\Videos-to-analyze\\Cre_and_WT_Habituation_Food_and_Maze_12_26_24_S6_Chicago_Las_Cruces_Tokyo_Ruidoso_Trial_1_top_right.mp4\n",
      "Saving filtered csv poses!\n",
      "Filtering with median model C:\\DeepLabCutProjects\\DLC-Atanu-2024-12-25\\Videos-to-analyze\\Cre_and_WT_Habituation_Food_and_Maze_12_26_24_S7_New_Orelans_Atlanta_New_York_New_Jersey_Trial_1_top_left.mp4\n",
      "Saving filtered csv poses!\n",
      "Filtering with median model C:\\DeepLabCutProjects\\DLC-Atanu-2024-12-25\\Videos-to-analyze\\Cre_and_WT_Habituation_Food_and_Maze_12_26_24_S7_New_Orelans_Atlanta_New_York_New_Jersey_Trial_1_top_right.mp4\n",
      "Saving filtered csv poses!\n",
      "Filtering with median model C:\\DeepLabCutProjects\\DLC-Atanu-2024-12-25\\Videos-to-analyze\\Cre_and_WT_Habituation_Food_and_Maze_12_26_24_S8_Seattle_None_2_None_3_None_4_Trial_1_bottom_left.mp4\n",
      "Saving filtered csv poses!\n",
      "Filtering with median model C:\\DeepLabCutProjects\\DLC-Atanu-2024-12-25\\Videos-to-analyze\\Cre_and_WT_Habituation_Food_and_Maze_12_26_24_S8_Seattle_None_2_None_3_None_4_Trial_1_bottom_right.mp4\n",
      "Saving filtered csv poses!\n",
      "Filtering with median model C:\\DeepLabCutProjects\\DLC-Atanu-2024-12-25\\Videos-to-analyze\\Cre_and_WT_Habituation_Food_and_Maze_12_26_24_S8_Seattle_None_2_None_3_None_4_Trial_1_top_left.mp4\n",
      "Saving filtered csv poses!\n",
      "Filtering with median model C:\\DeepLabCutProjects\\DLC-Atanu-2024-12-25\\Videos-to-analyze\\Cre_and_WT_Habituation_Food_and_Maze_12_26_24_S8_Seattle_None_2_None_3_None_4_Trial_1_top_right.mp4\n",
      "Saving filtered csv poses!\n",
      "Filtering with median model C:\\DeepLabCutProjects\\DLC-Atanu-2024-12-25\\Videos-to-analyze\\Cre_and_WT_Habituation_Food_and_Maze_12_27_24_S1_A_B_C_D_Trial_1_bottom_left.mp4\n",
      "Saving filtered csv poses!\n",
      "Filtering with median model C:\\DeepLabCutProjects\\DLC-Atanu-2024-12-25\\Videos-to-analyze\\Cre_and_WT_Habituation_Food_and_Maze_12_27_24_S1_A_B_C_D_Trial_1_bottom_right.mp4\n",
      "Saving filtered csv poses!\n",
      "Filtering with median model C:\\DeepLabCutProjects\\DLC-Atanu-2024-12-25\\Videos-to-analyze\\Cre_and_WT_Habituation_Food_and_Maze_12_27_24_S1_A_B_C_D_Trial_1_top_left.mp4\n",
      "Saving filtered csv poses!\n",
      "Filtering with median model C:\\DeepLabCutProjects\\DLC-Atanu-2024-12-25\\Videos-to-analyze\\Cre_and_WT_Habituation_Food_and_Maze_12_27_24_S1_A_B_C_D_Trial_1_top_right.mp4\n",
      "Saving filtered csv poses!\n",
      "Filtering with median model C:\\DeepLabCutProjects\\DLC-Atanu-2024-12-25\\Videos-to-analyze\\Cre_and_WT_Habituation_Food_and_Maze_12_27_24_S2_E_L_G_H_Trial_1_bottom_left.mp4\n",
      "Saving filtered csv poses!\n",
      "Filtering with median model C:\\DeepLabCutProjects\\DLC-Atanu-2024-12-25\\Videos-to-analyze\\Cre_and_WT_Habituation_Food_and_Maze_12_27_24_S2_E_L_G_H_Trial_1_bottom_right.mp4\n",
      "Saving filtered csv poses!\n",
      "Filtering with median model C:\\DeepLabCutProjects\\DLC-Atanu-2024-12-25\\Videos-to-analyze\\Cre_and_WT_Habituation_Food_and_Maze_12_27_24_S2_E_L_G_H_Trial_1_top_left.mp4\n",
      "Saving filtered csv poses!\n",
      "Filtering with median model C:\\DeepLabCutProjects\\DLC-Atanu-2024-12-25\\Videos-to-analyze\\Cre_and_WT_Habituation_Food_and_Maze_12_27_24_S2_E_L_G_H_Trial_1_top_right.mp4\n",
      "Saving filtered csv poses!\n",
      "Filtering with median model C:\\DeepLabCutProjects\\DLC-Atanu-2024-12-25\\Videos-to-analyze\\Cre_and_WT_Habituation_Food_and_Maze_12_27_24_S3_F_None_2_None_3_None_4_Trial_1_bottom_left.mp4\n",
      "Saving filtered csv poses!\n",
      "Filtering with median model C:\\DeepLabCutProjects\\DLC-Atanu-2024-12-25\\Videos-to-analyze\\Cre_and_WT_Habituation_Food_and_Maze_12_27_24_S3_F_None_2_None_3_None_4_Trial_1_bottom_right.mp4\n",
      "Saving filtered csv poses!\n",
      "Filtering with median model C:\\DeepLabCutProjects\\DLC-Atanu-2024-12-25\\Videos-to-analyze\\Cre_and_WT_Habituation_Food_and_Maze_12_27_24_S3_F_None_2_None_3_None_4_Trial_1_top_left.mp4\n",
      "Saving filtered csv poses!\n",
      "Filtering with median model C:\\DeepLabCutProjects\\DLC-Atanu-2024-12-25\\Videos-to-analyze\\Cre_and_WT_Habituation_Food_and_Maze_12_27_24_S3_F_None_2_None_3_None_4_Trial_1_top_right.mp4\n",
      "Saving filtered csv poses!\n",
      "Filtering with median model C:\\DeepLabCutProjects\\DLC-Atanu-2024-12-25\\Videos-to-analyze\\Cre_and_WT_Habituation_Food_and_Maze_12_27_24_S5_N_M_P_Q_Trial_1_bottom_left.mp4\n",
      "Saving filtered csv poses!\n",
      "Filtering with median model C:\\DeepLabCutProjects\\DLC-Atanu-2024-12-25\\Videos-to-analyze\\Cre_and_WT_Habituation_Food_and_Maze_12_27_24_S5_N_M_P_Q_Trial_1_bottom_right.mp4\n",
      "Saving filtered csv poses!\n",
      "Filtering with median model C:\\DeepLabCutProjects\\DLC-Atanu-2024-12-25\\Videos-to-analyze\\Cre_and_WT_Habituation_Food_and_Maze_12_27_24_S5_N_M_P_Q_Trial_1_top_left.mp4\n",
      "Saving filtered csv poses!\n",
      "Filtering with median model C:\\DeepLabCutProjects\\DLC-Atanu-2024-12-25\\Videos-to-analyze\\Cre_and_WT_Habituation_Food_and_Maze_12_27_24_S5_N_M_P_Q_Trial_1_top_right.mp4\n",
      "Saving filtered csv poses!\n",
      "Filtering with median model C:\\DeepLabCutProjects\\DLC-Atanu-2024-12-25\\Videos-to-analyze\\Cre_and_WT_Habituation_Food_and_Maze_1_3_24_S2_E_L_G_H_Trial_1_bottom_left.mp4\n",
      "Saving filtered csv poses!\n",
      "Filtering with median model C:\\DeepLabCutProjects\\DLC-Atanu-2024-12-25\\Videos-to-analyze\\Cre_and_WT_Habituation_Food_and_Maze_1_3_24_S2_E_L_G_H_Trial_1_bottom_right.mp4\n",
      "Saving filtered csv poses!\n",
      "Filtering with median model C:\\DeepLabCutProjects\\DLC-Atanu-2024-12-25\\Videos-to-analyze\\Cre_and_WT_Habituation_Food_and_Maze_1_3_24_S2_E_L_G_H_Trial_1_top_left.mp4\n",
      "Saving filtered csv poses!\n",
      "Filtering with median model C:\\DeepLabCutProjects\\DLC-Atanu-2024-12-25\\Videos-to-analyze\\Cre_and_WT_Habituation_Food_and_Maze_1_3_24_S2_E_L_G_H_Trial_1_top_right.mp4\n",
      "Saving filtered csv poses!\n",
      "Filtering with median model C:\\DeepLabCutProjects\\DLC-Atanu-2024-12-25\\Videos-to-analyze\\Cre_and_WT_Habituation_Food_and_Maze_1_3_24_S3_J_I_M_None_4_Trial_1_bottom_left.mp4\n",
      "Saving filtered csv poses!\n",
      "Filtering with median model C:\\DeepLabCutProjects\\DLC-Atanu-2024-12-25\\Videos-to-analyze\\Cre_and_WT_Habituation_Food_and_Maze_1_3_24_S3_J_I_M_None_4_Trial_1_bottom_right.mp4\n",
      "Saving filtered csv poses!\n",
      "Filtering with median model C:\\DeepLabCutProjects\\DLC-Atanu-2024-12-25\\Videos-to-analyze\\Cre_and_WT_Habituation_Food_and_Maze_1_3_24_S3_J_I_M_None_4_Trial_1_top_left.mp4\n",
      "Saving filtered csv poses!\n",
      "Filtering with median model C:\\DeepLabCutProjects\\DLC-Atanu-2024-12-25\\Videos-to-analyze\\Cre_and_WT_Habituation_Food_and_Maze_1_3_24_S3_J_I_M_None_4_Trial_1_top_right.mp4\n",
      "Saving filtered csv poses!\n",
      "Filtering with median model C:\\DeepLabCutProjects\\DLC-Atanu-2024-12-25\\Videos-to-analyze\\Cre_and_WT_Habituation_Food_and_Maze_1_3_24_S4_K_O_P_Q_Trial_1_bottom_left.mp4\n",
      "Saving filtered csv poses!\n",
      "Filtering with median model C:\\DeepLabCutProjects\\DLC-Atanu-2024-12-25\\Videos-to-analyze\\Cre_and_WT_Habituation_Food_and_Maze_1_3_24_S4_K_O_P_Q_Trial_1_bottom_right.mp4\n",
      "Saving filtered csv poses!\n",
      "Filtering with median model C:\\DeepLabCutProjects\\DLC-Atanu-2024-12-25\\Videos-to-analyze\\Cre_and_WT_Habituation_Food_and_Maze_1_3_24_S4_K_O_P_Q_Trial_1_top_left.mp4\n",
      "Saving filtered csv poses!\n",
      "Filtering with median model C:\\DeepLabCutProjects\\DLC-Atanu-2024-12-25\\Videos-to-analyze\\Cre_and_WT_Habituation_Food_and_Maze_1_3_24_S4_K_O_P_Q_Trial_1_top_right.mp4\n",
      "Saving filtered csv poses!\n",
      "Filtering with median model C:\\DeepLabCutProjects\\DLC-Atanu-2024-12-25\\Videos-to-analyze\\Cre_and_WT_Habituation_Food_and_Maze_1_3_24_S5_Gen_2_M1_M2_M3_M4_Trial_1_bottom_left.mp4\n",
      "Saving filtered csv poses!\n",
      "Filtering with median model C:\\DeepLabCutProjects\\DLC-Atanu-2024-12-25\\Videos-to-analyze\\Cre_and_WT_Habituation_Food_and_Maze_1_3_24_S5_Gen_2_M1_M2_M3_M4_Trial_1_bottom_right.mp4\n",
      "Saving filtered csv poses!\n",
      "Filtering with median model C:\\DeepLabCutProjects\\DLC-Atanu-2024-12-25\\Videos-to-analyze\\Cre_and_WT_Habituation_Food_and_Maze_1_3_24_S5_Gen_2_M1_M2_M3_M4_Trial_1_top_left.mp4\n",
      "Saving filtered csv poses!\n",
      "Filtering with median model C:\\DeepLabCutProjects\\DLC-Atanu-2024-12-25\\Videos-to-analyze\\Cre_and_WT_Habituation_Food_and_Maze_1_3_24_S5_Gen_2_M1_M2_M3_M4_Trial_1_top_right.mp4\n",
      "Saving filtered csv poses!\n",
      "Filtering with median model C:\\DeepLabCutProjects\\DLC-Atanu-2024-12-25\\Videos-to-analyze\\Cre_and_WT_Habituation_Food_and_Maze_1_3_24_S6_Gen_2_M5_M6_M7_None_4_Trial_1_bottom_left.mp4\n",
      "Saving filtered csv poses!\n",
      "Filtering with median model C:\\DeepLabCutProjects\\DLC-Atanu-2024-12-25\\Videos-to-analyze\\Cre_and_WT_Habituation_Food_and_Maze_1_3_24_S6_Gen_2_M5_M6_M7_None_4_Trial_1_bottom_right.mp4\n",
      "Saving filtered csv poses!\n",
      "Filtering with median model C:\\DeepLabCutProjects\\DLC-Atanu-2024-12-25\\Videos-to-analyze\\Cre_and_WT_Habituation_Food_and_Maze_1_3_24_S6_Gen_2_M5_M6_M7_None_4_Trial_1_top_left.mp4\n",
      "Saving filtered csv poses!\n",
      "Filtering with median model C:\\DeepLabCutProjects\\DLC-Atanu-2024-12-25\\Videos-to-analyze\\Cre_and_WT_Habituation_Food_and_Maze_1_3_24_S6_Gen_2_M5_M6_M7_None_4_Trial_1_top_right.mp4\n",
      "Saving filtered csv poses!\n",
      "Filtering with median model C:\\DeepLabCutProjects\\DLC-Atanu-2024-12-25\\Videos-to-analyze\\Cre_and_WT_Habituation_Food_and_Maze_1_3_24_S7_Gen_2_F1_F2_F3_F4_Trial_1_bottom_left.mp4\n",
      "Saving filtered csv poses!\n",
      "Filtering with median model C:\\DeepLabCutProjects\\DLC-Atanu-2024-12-25\\Videos-to-analyze\\Cre_and_WT_Habituation_Food_and_Maze_1_3_24_S7_Gen_2_F1_F2_F3_F4_Trial_1_bottom_right.mp4\n",
      "Saving filtered csv poses!\n",
      "Filtering with median model C:\\DeepLabCutProjects\\DLC-Atanu-2024-12-25\\Videos-to-analyze\\Cre_and_WT_Habituation_Food_and_Maze_1_3_24_S7_Gen_2_F1_F2_F3_F4_Trial_1_top_left.mp4\n",
      "Saving filtered csv poses!\n",
      "Filtering with median model C:\\DeepLabCutProjects\\DLC-Atanu-2024-12-25\\Videos-to-analyze\\Cre_and_WT_Habituation_Food_and_Maze_1_3_24_S7_Gen_2_F1_F2_F3_F4_Trial_1_top_right.mp4\n",
      "Saving filtered csv poses!\n",
      "Filtering with median model C:\\DeepLabCutProjects\\DLC-Atanu-2024-12-25\\Videos-to-analyze\\Cre_and_WT_Habituation_Food_and_Maze_1_3_24_S8_Gen_2_F5_F6_F7_F8_Trial_1_bottom_left.mp4\n",
      "Saving filtered csv poses!\n",
      "Filtering with median model C:\\DeepLabCutProjects\\DLC-Atanu-2024-12-25\\Videos-to-analyze\\Cre_and_WT_Habituation_Food_and_Maze_1_3_24_S8_Gen_2_F5_F6_F7_F8_Trial_1_bottom_right.mp4\n",
      "Saving filtered csv poses!\n",
      "Filtering with median model C:\\DeepLabCutProjects\\DLC-Atanu-2024-12-25\\Videos-to-analyze\\Cre_and_WT_Habituation_Food_and_Maze_1_3_24_S8_Gen_2_F5_F6_F7_F8_Trial_1_top_left.mp4\n",
      "Saving filtered csv poses!\n",
      "Filtering with median model C:\\DeepLabCutProjects\\DLC-Atanu-2024-12-25\\Videos-to-analyze\\Cre_and_WT_Habituation_Food_and_Maze_1_3_24_S8_Gen_2_F5_F6_F7_F8_Trial_1_top_right.mp4\n",
      "Saving filtered csv poses!\n",
      "Filtering with median model C:\\DeepLabCutProjects\\DLC-Atanu-2024-12-25\\Videos-to-analyze\\Food_Light_CRE_WT_11_25_24_S1Y__Cat_Goose_None_3_Macaw_Trial_1_bottom_left.mp4\n",
      "Saving filtered csv poses!\n",
      "Filtering with median model C:\\DeepLabCutProjects\\DLC-Atanu-2024-12-25\\Videos-to-analyze\\Food_Light_CRE_WT_11_25_24_S1Y__Cat_Goose_None_3_Macaw_Trial_1_bottom_right.mp4\n",
      "Saving filtered csv poses!\n",
      "Filtering with median model C:\\DeepLabCutProjects\\DLC-Atanu-2024-12-25\\Videos-to-analyze\\Food_Light_CRE_WT_11_25_24_S1Y__Cat_Goose_None_3_Macaw_Trial_1_top_left.mp4\n",
      "Saving filtered csv poses!\n",
      "Filtering with median model C:\\DeepLabCutProjects\\DLC-Atanu-2024-12-25\\Videos-to-analyze\\Food_Light_CRE_WT_11_25_24_S1Y__Cat_Goose_None_3_Macaw_Trial_1_top_right.mp4\n",
      "Saving filtered csv poses!\n",
      "Filtering with median model C:\\DeepLabCutProjects\\DLC-Atanu-2024-12-25\\Videos-to-analyze\\Food_Light_CRE_WT_11_25_24_S1Y__Wolf_Squid_Eagle_Lion_Trial_1_bottom_left.mp4\n",
      "Saving filtered csv poses!\n",
      "Filtering with median model C:\\DeepLabCutProjects\\DLC-Atanu-2024-12-25\\Videos-to-analyze\\Food_Light_CRE_WT_11_25_24_S1Y__Wolf_Squid_Eagle_Lion_Trial_1_bottom_right.mp4\n",
      "Saving filtered csv poses!\n",
      "Filtering with median model C:\\DeepLabCutProjects\\DLC-Atanu-2024-12-25\\Videos-to-analyze\\Food_Light_CRE_WT_11_25_24_S1Y__Wolf_Squid_Eagle_Lion_Trial_1_top_left.mp4\n",
      "Saving filtered csv poses!\n",
      "Filtering with median model C:\\DeepLabCutProjects\\DLC-Atanu-2024-12-25\\Videos-to-analyze\\Food_Light_CRE_WT_11_25_24_S1Y__Wolf_Squid_Eagle_Lion_Trial_1_top_right.mp4\n",
      "Saving filtered csv poses!\n",
      "Filtering with median model C:\\DeepLabCutProjects\\DLC-Atanu-2024-12-25\\Videos-to-analyze\\Food_Light_CRE_WT_11_25_24_S2Y__Badger_Snake_None_3_None_4_Trial_1_bottom_left.mp4\n",
      "Saving filtered csv poses!\n",
      "Filtering with median model C:\\DeepLabCutProjects\\DLC-Atanu-2024-12-25\\Videos-to-analyze\\Food_Light_CRE_WT_11_25_24_S2Y__Badger_Snake_None_3_None_4_Trial_1_bottom_right.mp4\n",
      "Saving filtered csv poses!\n",
      "Filtering with median model C:\\DeepLabCutProjects\\DLC-Atanu-2024-12-25\\Videos-to-analyze\\Food_Light_CRE_WT_11_25_24_S2Y__Badger_Snake_None_3_None_4_Trial_1_top_left.mp4\n",
      "Saving filtered csv poses!\n",
      "Filtering with median model C:\\DeepLabCutProjects\\DLC-Atanu-2024-12-25\\Videos-to-analyze\\Food_Light_CRE_WT_11_25_24_S2Y__Badger_Snake_None_3_None_4_Trial_1_top_right.mp4\n",
      "Saving filtered csv poses!\n",
      "Filtering with median model C:\\DeepLabCutProjects\\DLC-Atanu-2024-12-25\\Videos-to-analyze\\Food_Light_CRE_WT_11_25_24_S2Y__Bee_Deer_None_3_None_4_Trial_1_bottom_left.mp4\n",
      "Saving filtered csv poses!\n",
      "Filtering with median model C:\\DeepLabCutProjects\\DLC-Atanu-2024-12-25\\Videos-to-analyze\\Food_Light_CRE_WT_11_25_24_S2Y__Bee_Deer_None_3_None_4_Trial_1_bottom_right.mp4\n",
      "Saving filtered csv poses!\n",
      "Filtering with median model C:\\DeepLabCutProjects\\DLC-Atanu-2024-12-25\\Videos-to-analyze\\Food_Light_CRE_WT_11_25_24_S2Y__Bee_Deer_None_3_None_4_Trial_1_top_left.mp4\n",
      "Saving filtered csv poses!\n",
      "Filtering with median model C:\\DeepLabCutProjects\\DLC-Atanu-2024-12-25\\Videos-to-analyze\\Food_Light_CRE_WT_11_25_24_S2Y__Bee_Deer_None_3_None_4_Trial_1_top_right.mp4\n",
      "Saving filtered csv poses!\n",
      "Filtering with median model C:\\DeepLabCutProjects\\DLC-Atanu-2024-12-25\\Videos-to-analyze\\Food_Light_CRE_WT_11_26_24_S1P__Cat_Goose_None_3_Macaw_Trial_1_bottom_left.mp4\n",
      "Saving filtered csv poses!\n",
      "Filtering with median model C:\\DeepLabCutProjects\\DLC-Atanu-2024-12-25\\Videos-to-analyze\\Food_Light_CRE_WT_11_26_24_S1P__Cat_Goose_None_3_Macaw_Trial_1_bottom_right.mp4\n",
      "Saving filtered csv poses!\n",
      "Filtering with median model C:\\DeepLabCutProjects\\DLC-Atanu-2024-12-25\\Videos-to-analyze\\Food_Light_CRE_WT_11_26_24_S1P__Cat_Goose_None_3_Macaw_Trial_1_top_left.mp4\n",
      "Saving filtered csv poses!\n",
      "Filtering with median model C:\\DeepLabCutProjects\\DLC-Atanu-2024-12-25\\Videos-to-analyze\\Food_Light_CRE_WT_11_26_24_S1P__Cat_Goose_None_3_Macaw_Trial_1_top_right.mp4\n",
      "Saving filtered csv poses!\n",
      "Filtering with median model C:\\DeepLabCutProjects\\DLC-Atanu-2024-12-25\\Videos-to-analyze\\Food_Light_CRE_WT_11_26_24_S1P__Wolf_Squid_Eagle_Lion_Trial_1_bottom_left.mp4\n",
      "Saving filtered csv poses!\n",
      "Filtering with median model C:\\DeepLabCutProjects\\DLC-Atanu-2024-12-25\\Videos-to-analyze\\Food_Light_CRE_WT_11_26_24_S1P__Wolf_Squid_Eagle_Lion_Trial_1_bottom_right.mp4\n",
      "Saving filtered csv poses!\n",
      "Filtering with median model C:\\DeepLabCutProjects\\DLC-Atanu-2024-12-25\\Videos-to-analyze\\Food_Light_CRE_WT_11_26_24_S1P__Wolf_Squid_Eagle_Lion_Trial_1_top_left.mp4\n",
      "Saving filtered csv poses!\n",
      "Filtering with median model C:\\DeepLabCutProjects\\DLC-Atanu-2024-12-25\\Videos-to-analyze\\Food_Light_CRE_WT_11_26_24_S1P__Wolf_Squid_Eagle_Lion_Trial_1_top_right.mp4\n",
      "Saving filtered csv poses!\n",
      "Filtering with median model C:\\DeepLabCutProjects\\DLC-Atanu-2024-12-25\\Videos-to-analyze\\Food_Light_CRE_WT_11_26_24_S2P_Badger_Snake_None_3_None_4_Trial_1_bottom_left.mp4\n",
      "Saving filtered csv poses!\n",
      "Filtering with median model C:\\DeepLabCutProjects\\DLC-Atanu-2024-12-25\\Videos-to-analyze\\Food_Light_CRE_WT_11_26_24_S2P_Badger_Snake_None_3_None_4_Trial_1_bottom_right.mp4\n",
      "Saving filtered csv poses!\n",
      "Filtering with median model C:\\DeepLabCutProjects\\DLC-Atanu-2024-12-25\\Videos-to-analyze\\Food_Light_CRE_WT_11_26_24_S2P_Badger_Snake_None_3_None_4_Trial_1_top_left.mp4\n",
      "Saving filtered csv poses!\n",
      "Filtering with median model C:\\DeepLabCutProjects\\DLC-Atanu-2024-12-25\\Videos-to-analyze\\Food_Light_CRE_WT_11_26_24_S2P_Badger_Snake_None_3_None_4_Trial_1_top_right.mp4\n",
      "Saving filtered csv poses!\n",
      "Filtering with median model C:\\DeepLabCutProjects\\DLC-Atanu-2024-12-25\\Videos-to-analyze\\Food_Light_CRE_WT_11_26_24_S2P__Bee_Deer_None_3_None_4_Trial_1_bottom_left.mp4\n",
      "Saving filtered csv poses!\n",
      "Filtering with median model C:\\DeepLabCutProjects\\DLC-Atanu-2024-12-25\\Videos-to-analyze\\Food_Light_CRE_WT_11_26_24_S2P__Bee_Deer_None_3_None_4_Trial_1_bottom_right.mp4\n",
      "Saving filtered csv poses!\n",
      "Filtering with median model C:\\DeepLabCutProjects\\DLC-Atanu-2024-12-25\\Videos-to-analyze\\Food_Light_CRE_WT_11_26_24_S2P__Bee_Deer_None_3_None_4_Trial_1_top_left.mp4\n",
      "Saving filtered csv poses!\n",
      "Filtering with median model C:\\DeepLabCutProjects\\DLC-Atanu-2024-12-25\\Videos-to-analyze\\Food_Light_CRE_WT_11_26_24_S2P__Bee_Deer_None_3_None_4_Trial_1_top_right.mp4\n",
      "Saving filtered csv poses!\n",
      "Filtering with median model C:\\DeepLabCutProjects\\DLC-Atanu-2024-12-25\\Videos-to-analyze\\Food_Light_CRE_WT_12_12_24_S1P__M1_M2_M3_M4_Trial_1_bottom_left.mp4\n",
      "Saving filtered csv poses!\n",
      "Filtering with median model C:\\DeepLabCutProjects\\DLC-Atanu-2024-12-25\\Videos-to-analyze\\Food_Light_CRE_WT_12_12_24_S1P__M1_M2_M3_M4_Trial_1_bottom_right.mp4\n",
      "Saving filtered csv poses!\n",
      "Filtering with median model C:\\DeepLabCutProjects\\DLC-Atanu-2024-12-25\\Videos-to-analyze\\Food_Light_CRE_WT_12_12_24_S1P__M1_M2_M3_M4_Trial_1_top_left.mp4\n",
      "Saving filtered csv poses!\n",
      "Filtering with median model C:\\DeepLabCutProjects\\DLC-Atanu-2024-12-25\\Videos-to-analyze\\Food_Light_CRE_WT_12_12_24_S1P__M1_M2_M3_M4_Trial_1_top_right.mp4\n",
      "Saving filtered csv poses!\n",
      "Filtering with median model C:\\DeepLabCutProjects\\DLC-Atanu-2024-12-25\\Videos-to-analyze\\Food_Light_CRE_WT_12_12_24_S2Y__M5_M6_None_3_M7_Trial_1_bottom_left.mp4\n",
      "Saving filtered csv poses!\n",
      "Filtering with median model C:\\DeepLabCutProjects\\DLC-Atanu-2024-12-25\\Videos-to-analyze\\Food_Light_CRE_WT_12_12_24_S2Y__M5_M6_None_3_M7_Trial_1_bottom_right.mp4\n",
      "Saving filtered csv poses!\n",
      "Filtering with median model C:\\DeepLabCutProjects\\DLC-Atanu-2024-12-25\\Videos-to-analyze\\Food_Light_CRE_WT_12_12_24_S2Y__M5_M6_None_3_M7_Trial_1_top_left.mp4\n",
      "Saving filtered csv poses!\n",
      "Filtering with median model C:\\DeepLabCutProjects\\DLC-Atanu-2024-12-25\\Videos-to-analyze\\Food_Light_CRE_WT_12_12_24_S2Y__M5_M6_None_3_M7_Trial_1_top_right.mp4\n",
      "Saving filtered csv poses!\n",
      "Filtering with median model C:\\DeepLabCutProjects\\DLC-Atanu-2024-12-25\\Videos-to-analyze\\Food_Light_CRE_WT_12_12_24_S3P__F1_F2_None_3_F3_Trial_1_bottom_left.mp4\n",
      "Saving filtered csv poses!\n",
      "Filtering with median model C:\\DeepLabCutProjects\\DLC-Atanu-2024-12-25\\Videos-to-analyze\\Food_Light_CRE_WT_12_12_24_S3P__F1_F2_None_3_F3_Trial_1_bottom_right.mp4\n",
      "Saving filtered csv poses!\n",
      "Filtering with median model C:\\DeepLabCutProjects\\DLC-Atanu-2024-12-25\\Videos-to-analyze\\Food_Light_CRE_WT_12_12_24_S3P__F1_F2_None_3_F3_Trial_1_top_left.mp4\n",
      "Saving filtered csv poses!\n",
      "Filtering with median model C:\\DeepLabCutProjects\\DLC-Atanu-2024-12-25\\Videos-to-analyze\\Food_Light_CRE_WT_12_12_24_S3P__F1_F2_None_3_F3_Trial_1_top_right.mp4\n",
      "Saving filtered csv poses!\n",
      "Filtering with median model C:\\DeepLabCutProjects\\DLC-Atanu-2024-12-25\\Videos-to-analyze\\Food_Light_CRE_WT_12_12_24_S4Y__F4_F5_None_3_None_4_Trial_1_bottom_left.mp4\n",
      "Saving filtered csv poses!\n",
      "Filtering with median model C:\\DeepLabCutProjects\\DLC-Atanu-2024-12-25\\Videos-to-analyze\\Food_Light_CRE_WT_12_12_24_S4Y__F4_F5_None_3_None_4_Trial_1_bottom_right.mp4\n",
      "Saving filtered csv poses!\n",
      "Filtering with median model C:\\DeepLabCutProjects\\DLC-Atanu-2024-12-25\\Videos-to-analyze\\Food_Light_CRE_WT_12_12_24_S4Y__F4_F5_None_3_None_4_Trial_1_top_left.mp4\n",
      "Saving filtered csv poses!\n",
      "Filtering with median model C:\\DeepLabCutProjects\\DLC-Atanu-2024-12-25\\Videos-to-analyze\\Food_Light_CRE_WT_12_12_24_S4Y__F4_F5_None_3_None_4_Trial_1_top_right.mp4\n",
      "Saving filtered csv poses!\n",
      "Filtering with median model C:\\DeepLabCutProjects\\DLC-Atanu-2024-12-25\\Videos-to-analyze\\Food_Light_CRE_WT_12_17_24_CNO_S1__Leo_Max_Joe_Jet_Trial_1_bottom_left.mp4\n",
      "Saving filtered csv poses!\n",
      "Filtering with median model C:\\DeepLabCutProjects\\DLC-Atanu-2024-12-25\\Videos-to-analyze\\Food_Light_CRE_WT_12_17_24_CNO_S1__Leo_Max_Joe_Jet_Trial_1_bottom_right.mp4\n",
      "Saving filtered csv poses!\n",
      "Filtering with median model C:\\DeepLabCutProjects\\DLC-Atanu-2024-12-25\\Videos-to-analyze\\Food_Light_CRE_WT_12_17_24_CNO_S1__Leo_Max_Joe_Jet_Trial_1_top_left.mp4\n",
      "Saving filtered csv poses!\n",
      "Filtering with median model C:\\DeepLabCutProjects\\DLC-Atanu-2024-12-25\\Videos-to-analyze\\Food_Light_CRE_WT_12_17_24_CNO_S1__Leo_Max_Joe_Jet_Trial_1_top_right.mp4\n",
      "Saving filtered csv poses!\n",
      "Filtering with median model C:\\DeepLabCutProjects\\DLC-Atanu-2024-12-25\\Videos-to-analyze\\Food_Light_CRE_WT_12_17_24_CNO_S1__Wes_Sol_Ida_None_4_Trial_1_bottom_left.mp4\n",
      "Saving filtered csv poses!\n",
      "Filtering with median model C:\\DeepLabCutProjects\\DLC-Atanu-2024-12-25\\Videos-to-analyze\\Food_Light_CRE_WT_12_17_24_CNO_S1__Wes_Sol_Ida_None_4_Trial_1_bottom_right.mp4\n",
      "Saving filtered csv poses!\n",
      "Filtering with median model C:\\DeepLabCutProjects\\DLC-Atanu-2024-12-25\\Videos-to-analyze\\Food_Light_CRE_WT_12_17_24_CNO_S1__Wes_Sol_Ida_None_4_Trial_1_top_left.mp4\n",
      "Saving filtered csv poses!\n",
      "Filtering with median model C:\\DeepLabCutProjects\\DLC-Atanu-2024-12-25\\Videos-to-analyze\\Food_Light_CRE_WT_12_17_24_CNO_S1__Wes_Sol_Ida_None_4_Trial_1_top_right.mp4\n",
      "Saving filtered csv poses!\n",
      "Filtering with median model C:\\DeepLabCutProjects\\DLC-Atanu-2024-12-25\\Videos-to-analyze\\Food_Light_CRE_WT_12_17_24_CNO_S2__Eli_Ben_Jim_None_4_Trial_1_bottom_left.mp4\n",
      "Saving filtered csv poses!\n",
      "Filtering with median model C:\\DeepLabCutProjects\\DLC-Atanu-2024-12-25\\Videos-to-analyze\\Food_Light_CRE_WT_12_17_24_CNO_S2__Eli_Ben_Jim_None_4_Trial_1_bottom_right.mp4\n",
      "Saving filtered csv poses!\n",
      "Filtering with median model C:\\DeepLabCutProjects\\DLC-Atanu-2024-12-25\\Videos-to-analyze\\Food_Light_CRE_WT_12_17_24_CNO_S2__Eli_Ben_Jim_None_4_Trial_1_top_left.mp4\n",
      "Saving filtered csv poses!\n",
      "Filtering with median model C:\\DeepLabCutProjects\\DLC-Atanu-2024-12-25\\Videos-to-analyze\\Food_Light_CRE_WT_12_17_24_CNO_S2__Eli_Ben_Jim_None_4_Trial_1_top_right.mp4\n",
      "Saving filtered csv poses!\n",
      "Filtering with median model C:\\DeepLabCutProjects\\DLC-Atanu-2024-12-25\\Videos-to-analyze\\Food_Light_CRE_WT_12_17_24_CNO_S2__Ivy_May_None_3_None_4_Trial_1_bottom_left.mp4\n",
      "Saving filtered csv poses!\n",
      "Filtering with median model C:\\DeepLabCutProjects\\DLC-Atanu-2024-12-25\\Videos-to-analyze\\Food_Light_CRE_WT_12_17_24_CNO_S2__Ivy_May_None_3_None_4_Trial_1_bottom_right.mp4\n",
      "Saving filtered csv poses!\n",
      "Filtering with median model C:\\DeepLabCutProjects\\DLC-Atanu-2024-12-25\\Videos-to-analyze\\Food_Light_CRE_WT_12_17_24_CNO_S2__Ivy_May_None_3_None_4_Trial_1_top_left.mp4\n",
      "Saving filtered csv poses!\n",
      "Filtering with median model C:\\DeepLabCutProjects\\DLC-Atanu-2024-12-25\\Videos-to-analyze\\Food_Light_CRE_WT_12_17_24_CNO_S2__Ivy_May_None_3_None_4_Trial_1_top_right.mp4\n",
      "Saving filtered csv poses!\n",
      "Filtering with median model C:\\DeepLabCutProjects\\DLC-Atanu-2024-12-25\\Videos-to-analyze\\Food_Light_CRE_WT_12_17_24_CNO_S3__Roy_Sam_None_3_None_4_Trial_1_bottom_left.mp4\n",
      "Saving filtered csv poses!\n",
      "Filtering with median model C:\\DeepLabCutProjects\\DLC-Atanu-2024-12-25\\Videos-to-analyze\\Food_Light_CRE_WT_12_17_24_CNO_S3__Roy_Sam_None_3_None_4_Trial_1_bottom_right.mp4\n",
      "Saving filtered csv poses!\n",
      "Filtering with median model C:\\DeepLabCutProjects\\DLC-Atanu-2024-12-25\\Videos-to-analyze\\Food_Light_CRE_WT_12_17_24_CNO_S3__Roy_Sam_None_3_None_4_Trial_1_top_left.mp4\n",
      "Saving filtered csv poses!\n",
      "Filtering with median model C:\\DeepLabCutProjects\\DLC-Atanu-2024-12-25\\Videos-to-analyze\\Food_Light_CRE_WT_12_17_24_CNO_S3__Roy_Sam_None_3_None_4_Trial_1_top_right.mp4\n",
      "Saving filtered csv poses!\n",
      "Filtering with median model C:\\DeepLabCutProjects\\DLC-Atanu-2024-12-25\\Videos-to-analyze\\Food_Light_CRE_WT_12_4_24_S1Y_P__Cat_Goose_N3_Macaw_Trial_1_bottom_left.mp4\n",
      "Saving filtered csv poses!\n",
      "Filtering with median model C:\\DeepLabCutProjects\\DLC-Atanu-2024-12-25\\Videos-to-analyze\\Food_Light_CRE_WT_12_4_24_S1Y_P__Cat_Goose_N3_Macaw_Trial_1_bottom_right.mp4\n",
      "Saving filtered csv poses!\n",
      "Filtering with median model C:\\DeepLabCutProjects\\DLC-Atanu-2024-12-25\\Videos-to-analyze\\Food_Light_CRE_WT_12_4_24_S1Y_P__Cat_Goose_N3_Macaw_Trial_1_top_left.mp4\n",
      "Saving filtered csv poses!\n",
      "Filtering with median model C:\\DeepLabCutProjects\\DLC-Atanu-2024-12-25\\Videos-to-analyze\\Food_Light_CRE_WT_12_4_24_S1Y_P__Cat_Goose_N3_Macaw_Trial_1_top_right.mp4\n",
      "Saving filtered csv poses!\n",
      "Filtering with median model C:\\DeepLabCutProjects\\DLC-Atanu-2024-12-25\\Videos-to-analyze\\Food_Light_CRE_WT_12_4_24_S1Y__Wolf_Squid_Eagle_Lion_Trial_1_bottom_left.mp4\n",
      "Saving filtered csv poses!\n",
      "Filtering with median model C:\\DeepLabCutProjects\\DLC-Atanu-2024-12-25\\Videos-to-analyze\\Food_Light_CRE_WT_12_4_24_S1Y__Wolf_Squid_Eagle_Lion_Trial_1_bottom_right.mp4\n",
      "Saving filtered csv poses!\n",
      "Filtering with median model C:\\DeepLabCutProjects\\DLC-Atanu-2024-12-25\\Videos-to-analyze\\Food_Light_CRE_WT_12_4_24_S1Y__Wolf_Squid_Eagle_Lion_Trial_1_top_left.mp4\n",
      "Saving filtered csv poses!\n",
      "Filtering with median model C:\\DeepLabCutProjects\\DLC-Atanu-2024-12-25\\Videos-to-analyze\\Food_Light_CRE_WT_12_4_24_S1Y__Wolf_Squid_Eagle_Lion_Trial_1_top_right.mp4\n",
      "Saving filtered csv poses!\n",
      "Filtering with median model C:\\DeepLabCutProjects\\DLC-Atanu-2024-12-25\\Videos-to-analyze\\Food_Light_CRE_WT_12_4_24_S2P_Y__Bee_Deer_None_3_None_4_Trial_1_bottom_left.mp4\n",
      "Saving filtered csv poses!\n",
      "Filtering with median model C:\\DeepLabCutProjects\\DLC-Atanu-2024-12-25\\Videos-to-analyze\\Food_Light_CRE_WT_12_4_24_S2P_Y__Bee_Deer_None_3_None_4_Trial_1_bottom_right.mp4\n",
      "Saving filtered csv poses!\n",
      "Filtering with median model C:\\DeepLabCutProjects\\DLC-Atanu-2024-12-25\\Videos-to-analyze\\Food_Light_CRE_WT_12_4_24_S2P_Y__Bee_Deer_None_3_None_4_Trial_1_top_left.mp4\n",
      "Saving filtered csv poses!\n",
      "Filtering with median model C:\\DeepLabCutProjects\\DLC-Atanu-2024-12-25\\Videos-to-analyze\\Food_Light_CRE_WT_12_4_24_S2P_Y__Bee_Deer_None_3_None_4_Trial_1_top_right.mp4\n",
      "Saving filtered csv poses!\n",
      "Filtering with median model C:\\DeepLabCutProjects\\DLC-Atanu-2024-12-25\\Videos-to-analyze\\Food_Light_CRE_WT_12_4_24_S2P__Badger_Snake_None_3_None_4_Trial_1_bottom_left.mp4\n",
      "Saving filtered csv poses!\n",
      "Filtering with median model C:\\DeepLabCutProjects\\DLC-Atanu-2024-12-25\\Videos-to-analyze\\Food_Light_CRE_WT_12_4_24_S2P__Badger_Snake_None_3_None_4_Trial_1_bottom_right.mp4\n",
      "Saving filtered csv poses!\n",
      "Filtering with median model C:\\DeepLabCutProjects\\DLC-Atanu-2024-12-25\\Videos-to-analyze\\Food_Light_CRE_WT_12_4_24_S2P__Badger_Snake_None_3_None_4_Trial_1_top_left.mp4\n",
      "Saving filtered csv poses!\n",
      "Filtering with median model C:\\DeepLabCutProjects\\DLC-Atanu-2024-12-25\\Videos-to-analyze\\Food_Light_CRE_WT_12_4_24_S2P__Badger_Snake_None_3_None_4_Trial_1_top_right.mp4\n",
      "Saving filtered csv poses!\n",
      "Filtering with median model C:\\DeepLabCutProjects\\DLC-Atanu-2024-12-25\\Videos-to-analyze\\Food_Light_CRE_WT_12_5_24_S1Y__M1_M2_M3_M4_Trial_1_bottom_left.mp4\n",
      "Saving filtered csv poses!\n",
      "Filtering with median model C:\\DeepLabCutProjects\\DLC-Atanu-2024-12-25\\Videos-to-analyze\\Food_Light_CRE_WT_12_5_24_S1Y__M1_M2_M3_M4_Trial_1_bottom_right.mp4\n",
      "Saving filtered csv poses!\n",
      "Filtering with median model C:\\DeepLabCutProjects\\DLC-Atanu-2024-12-25\\Videos-to-analyze\\Food_Light_CRE_WT_12_5_24_S1Y__M1_M2_M3_M4_Trial_1_top_left.mp4\n",
      "Saving filtered csv poses!\n",
      "Filtering with median model C:\\DeepLabCutProjects\\DLC-Atanu-2024-12-25\\Videos-to-analyze\\Food_Light_CRE_WT_12_5_24_S1Y__M1_M2_M3_M4_Trial_1_top_right.mp4\n",
      "Saving filtered csv poses!\n",
      "Filtering with median model C:\\DeepLabCutProjects\\DLC-Atanu-2024-12-25\\Videos-to-analyze\\Food_Light_CRE_WT_12_5_24_S2P__M5_M6_None_3_M7_Trial_1_bottom_left.mp4\n",
      "Saving filtered csv poses!\n",
      "Filtering with median model C:\\DeepLabCutProjects\\DLC-Atanu-2024-12-25\\Videos-to-analyze\\Food_Light_CRE_WT_12_5_24_S2P__M5_M6_None_3_M7_Trial_1_bottom_right.mp4\n",
      "Saving filtered csv poses!\n",
      "Filtering with median model C:\\DeepLabCutProjects\\DLC-Atanu-2024-12-25\\Videos-to-analyze\\Food_Light_CRE_WT_12_5_24_S2P__M5_M6_None_3_M7_Trial_1_top_left.mp4\n",
      "Saving filtered csv poses!\n",
      "Filtering with median model C:\\DeepLabCutProjects\\DLC-Atanu-2024-12-25\\Videos-to-analyze\\Food_Light_CRE_WT_12_5_24_S2P__M5_M6_None_3_M7_Trial_1_top_right.mp4\n",
      "Saving filtered csv poses!\n",
      "Filtering with median model C:\\DeepLabCutProjects\\DLC-Atanu-2024-12-25\\Videos-to-analyze\\Food_Light_CRE_WT_12_5_24_S3Y__F1_F2_Violet_F3_Trial_1_bottom_left.mp4\n",
      "Saving filtered csv poses!\n",
      "Filtering with median model C:\\DeepLabCutProjects\\DLC-Atanu-2024-12-25\\Videos-to-analyze\\Food_Light_CRE_WT_12_5_24_S3Y__F1_F2_Violet_F3_Trial_1_bottom_right.mp4\n",
      "Saving filtered csv poses!\n",
      "Filtering with median model C:\\DeepLabCutProjects\\DLC-Atanu-2024-12-25\\Videos-to-analyze\\Food_Light_CRE_WT_12_5_24_S3Y__F1_F2_Violet_F3_Trial_1_top_left.mp4\n",
      "Saving filtered csv poses!\n",
      "Filtering with median model C:\\DeepLabCutProjects\\DLC-Atanu-2024-12-25\\Videos-to-analyze\\Food_Light_CRE_WT_12_5_24_S3Y__F1_F2_Violet_F3_Trial_1_top_right.mp4\n",
      "Saving filtered csv poses!\n",
      "Filtering with median model C:\\DeepLabCutProjects\\DLC-Atanu-2024-12-25\\Videos-to-analyze\\Food_Light_CRE_WT_12_5_24_S4P__F3_F4_None_3_None_4_Trial_1_bottom_left.mp4\n",
      "Saving filtered csv poses!\n",
      "Filtering with median model C:\\DeepLabCutProjects\\DLC-Atanu-2024-12-25\\Videos-to-analyze\\Food_Light_CRE_WT_12_5_24_S4P__F3_F4_None_3_None_4_Trial_1_bottom_right.mp4\n",
      "Saving filtered csv poses!\n",
      "Filtering with median model C:\\DeepLabCutProjects\\DLC-Atanu-2024-12-25\\Videos-to-analyze\\Food_Light_CRE_WT_12_5_24_S4P__F3_F4_None_3_None_4_Trial_1_top_left.mp4\n",
      "Saving filtered csv poses!\n",
      "Filtering with median model C:\\DeepLabCutProjects\\DLC-Atanu-2024-12-25\\Videos-to-analyze\\Food_Light_CRE_WT_12_5_24_S4P__F3_F4_None_3_None_4_Trial_1_top_right.mp4\n",
      "Saving filtered csv poses!\n",
      "Filtering with median model C:\\DeepLabCutProjects\\DLC-Atanu-2024-12-25\\Videos-to-analyze\\Food_Light_CRE_WT_12_6_24_S1P_Y__Cat_Goose_None_3_Macaw_Trial_1_bottom_left.mp4\n",
      "Saving filtered csv poses!\n",
      "Filtering with median model C:\\DeepLabCutProjects\\DLC-Atanu-2024-12-25\\Videos-to-analyze\\Food_Light_CRE_WT_12_6_24_S1P_Y__Cat_Goose_None_3_Macaw_Trial_1_bottom_right.mp4\n",
      "Saving filtered csv poses!\n",
      "Filtering with median model C:\\DeepLabCutProjects\\DLC-Atanu-2024-12-25\\Videos-to-analyze\\Food_Light_CRE_WT_12_6_24_S1P_Y__Cat_Goose_None_3_Macaw_Trial_1_top_left.mp4\n",
      "Saving filtered csv poses!\n",
      "Filtering with median model C:\\DeepLabCutProjects\\DLC-Atanu-2024-12-25\\Videos-to-analyze\\Food_Light_CRE_WT_12_6_24_S1P_Y__Cat_Goose_None_3_Macaw_Trial_1_top_right.mp4\n",
      "Saving filtered csv poses!\n",
      "Filtering with median model C:\\DeepLabCutProjects\\DLC-Atanu-2024-12-25\\Videos-to-analyze\\Food_Light_CRE_WT_12_6_24_S1P__Wolf_Squid_Eagle_Lion_Trial_1_bottom_left.mp4\n",
      "Saving filtered csv poses!\n",
      "Filtering with median model C:\\DeepLabCutProjects\\DLC-Atanu-2024-12-25\\Videos-to-analyze\\Food_Light_CRE_WT_12_6_24_S1P__Wolf_Squid_Eagle_Lion_Trial_1_bottom_right.mp4\n",
      "Saving filtered csv poses!\n",
      "Filtering with median model C:\\DeepLabCutProjects\\DLC-Atanu-2024-12-25\\Videos-to-analyze\\Food_Light_CRE_WT_12_6_24_S1P__Wolf_Squid_Eagle_Lion_Trial_1_top_left.mp4\n",
      "Saving filtered csv poses!\n",
      "Filtering with median model C:\\DeepLabCutProjects\\DLC-Atanu-2024-12-25\\Videos-to-analyze\\Food_Light_CRE_WT_12_6_24_S1P__Wolf_Squid_Eagle_Lion_Trial_1_top_right.mp4\n",
      "Saving filtered csv poses!\n",
      "Filtering with median model C:\\DeepLabCutProjects\\DLC-Atanu-2024-12-25\\Videos-to-analyze\\Food_Light_CRE_WT_12_6_24_S2Y_Badger_Snake_None_3_None_4_Trial_1_bottom_left.mp4\n",
      "Saving filtered csv poses!\n",
      "Filtering with median model C:\\DeepLabCutProjects\\DLC-Atanu-2024-12-25\\Videos-to-analyze\\Food_Light_CRE_WT_12_6_24_S2Y_Badger_Snake_None_3_None_4_Trial_1_bottom_right.mp4\n",
      "Saving filtered csv poses!\n",
      "Filtering with median model C:\\DeepLabCutProjects\\DLC-Atanu-2024-12-25\\Videos-to-analyze\\Food_Light_CRE_WT_12_6_24_S2Y_Badger_Snake_None_3_None_4_Trial_1_top_left.mp4\n",
      "Saving filtered csv poses!\n",
      "Filtering with median model C:\\DeepLabCutProjects\\DLC-Atanu-2024-12-25\\Videos-to-analyze\\Food_Light_CRE_WT_12_6_24_S2Y_Badger_Snake_None_3_None_4_Trial_1_top_right.mp4\n",
      "Saving filtered csv poses!\n",
      "Filtering with median model C:\\DeepLabCutProjects\\DLC-Atanu-2024-12-25\\Videos-to-analyze\\Food_Light_CRE_WT_12_6_24_S2Y_P__Bee_Deer_None_3_None_4_Trial_1_bottom_left.mp4\n",
      "Saving filtered csv poses!\n",
      "Filtering with median model C:\\DeepLabCutProjects\\DLC-Atanu-2024-12-25\\Videos-to-analyze\\Food_Light_CRE_WT_12_6_24_S2Y_P__Bee_Deer_None_3_None_4_Trial_1_bottom_right.mp4\n",
      "Saving filtered csv poses!\n",
      "Filtering with median model C:\\DeepLabCutProjects\\DLC-Atanu-2024-12-25\\Videos-to-analyze\\Food_Light_CRE_WT_12_6_24_S2Y_P__Bee_Deer_None_3_None_4_Trial_1_top_left.mp4\n",
      "Saving filtered csv poses!\n",
      "Filtering with median model C:\\DeepLabCutProjects\\DLC-Atanu-2024-12-25\\Videos-to-analyze\\Food_Light_CRE_WT_12_6_24_S2Y_P__Bee_Deer_None_3_None_4_Trial_1_top_right.mp4\n",
      "Saving filtered csv poses!\n",
      "Filtering with median model C:\\DeepLabCutProjects\\DLC-Atanu-2024-12-25\\Videos-to-analyze\\Food_Light_CRE_WT_1_23_25_S1_Y_CNO__Leo_Max_Joe_Jet_Trial_1_bottom_left.mp4\n",
      "Saving filtered csv poses!\n",
      "Filtering with median model C:\\DeepLabCutProjects\\DLC-Atanu-2024-12-25\\Videos-to-analyze\\Food_Light_CRE_WT_1_23_25_S1_Y_CNO__Leo_Max_Joe_Jet_Trial_1_bottom_right.mp4\n",
      "Saving filtered csv poses!\n",
      "Filtering with median model C:\\DeepLabCutProjects\\DLC-Atanu-2024-12-25\\Videos-to-analyze\\Food_Light_CRE_WT_1_23_25_S1_Y_CNO__Leo_Max_Joe_Jet_Trial_1_top_left.mp4\n",
      "Saving filtered csv poses!\n",
      "Filtering with median model C:\\DeepLabCutProjects\\DLC-Atanu-2024-12-25\\Videos-to-analyze\\Food_Light_CRE_WT_1_23_25_S1_Y_CNO__Leo_Max_Joe_Jet_Trial_1_top_right.mp4\n",
      "Saving filtered csv poses!\n",
      "Filtering with median model C:\\DeepLabCutProjects\\DLC-Atanu-2024-12-25\\Videos-to-analyze\\Food_Light_CRE_WT_1_23_25_S2_Y_CNO__Eli._Ben_Jim_None_4_Trial_1_bottom_left.mp4\n",
      "Saving filtered csv poses!\n",
      "Filtering with median model C:\\DeepLabCutProjects\\DLC-Atanu-2024-12-25\\Videos-to-analyze\\Food_Light_CRE_WT_1_23_25_S2_Y_CNO__Eli._Ben_Jim_None_4_Trial_1_bottom_right.mp4\n",
      "Saving filtered csv poses!\n",
      "Filtering with median model C:\\DeepLabCutProjects\\DLC-Atanu-2024-12-25\\Videos-to-analyze\\Food_Light_CRE_WT_1_23_25_S2_Y_CNO__Eli._Ben_Jim_None_4_Trial_1_top_left.mp4\n",
      "Saving filtered csv poses!\n",
      "Filtering with median model C:\\DeepLabCutProjects\\DLC-Atanu-2024-12-25\\Videos-to-analyze\\Food_Light_CRE_WT_1_23_25_S2_Y_CNO__Eli._Ben_Jim_None_4_Trial_1_top_right.mp4\n",
      "Saving filtered csv poses!\n",
      "Filtering with median model C:\\DeepLabCutProjects\\DLC-Atanu-2024-12-25\\Videos-to-analyze\\Food_Light_CRE_WT_1_23_25_S3_Y_CNO__Roy_Sam_Snake_Badger_Trial_1_bottom_left.mp4\n",
      "Saving filtered csv poses!\n",
      "Filtering with median model C:\\DeepLabCutProjects\\DLC-Atanu-2024-12-25\\Videos-to-analyze\\Food_Light_CRE_WT_1_23_25_S3_Y_CNO__Roy_Sam_Snake_Badger_Trial_1_bottom_right.mp4\n",
      "Saving filtered csv poses!\n",
      "Filtering with median model C:\\DeepLabCutProjects\\DLC-Atanu-2024-12-25\\Videos-to-analyze\\Food_Light_CRE_WT_1_23_25_S3_Y_CNO__Roy_Sam_Snake_Badger_Trial_1_top_left.mp4\n",
      "Saving filtered csv poses!\n",
      "Filtering with median model C:\\DeepLabCutProjects\\DLC-Atanu-2024-12-25\\Videos-to-analyze\\Food_Light_CRE_WT_1_23_25_S3_Y_CNO__Roy_Sam_Snake_Badger_Trial_1_top_right.mp4\n",
      "Saving filtered csv poses!\n",
      "Filtering with median model C:\\DeepLabCutProjects\\DLC-Atanu-2024-12-25\\Videos-to-analyze\\Food_Light_CRE_WT_1_23_25_S4_Y_CNO__Wolf_Squid_Eagle_Lion_Trial_1_bottom_left.mp4\n",
      "Saving filtered csv poses!\n",
      "Filtering with median model C:\\DeepLabCutProjects\\DLC-Atanu-2024-12-25\\Videos-to-analyze\\Food_Light_CRE_WT_1_23_25_S4_Y_CNO__Wolf_Squid_Eagle_Lion_Trial_1_bottom_right.mp4\n",
      "Saving filtered csv poses!\n",
      "Filtering with median model C:\\DeepLabCutProjects\\DLC-Atanu-2024-12-25\\Videos-to-analyze\\Food_Light_CRE_WT_1_23_25_S4_Y_CNO__Wolf_Squid_Eagle_Lion_Trial_1_top_left.mp4\n",
      "Saving filtered csv poses!\n",
      "Filtering with median model C:\\DeepLabCutProjects\\DLC-Atanu-2024-12-25\\Videos-to-analyze\\Food_Light_CRE_WT_1_23_25_S4_Y_CNO__Wolf_Squid_Eagle_Lion_Trial_1_top_right.mp4\n",
      "Saving filtered csv poses!\n",
      "Filtering with median model C:\\DeepLabCutProjects\\DLC-Atanu-2024-12-25\\Videos-to-analyze\\Food_Light_CRE_WT_1_24_25_S1_Y_CNO__Wes_Kim_Sol_Ida_Trial_1_bottom_left.mp4\n",
      "Saving filtered csv poses!\n",
      "Filtering with median model C:\\DeepLabCutProjects\\DLC-Atanu-2024-12-25\\Videos-to-analyze\\Food_Light_CRE_WT_1_24_25_S1_Y_CNO__Wes_Kim_Sol_Ida_Trial_1_bottom_right.mp4\n",
      "Saving filtered csv poses!\n",
      "Filtering with median model C:\\DeepLabCutProjects\\DLC-Atanu-2024-12-25\\Videos-to-analyze\\Food_Light_CRE_WT_1_24_25_S1_Y_CNO__Wes_Kim_Sol_Ida_Trial_1_top_left.mp4\n",
      "Saving filtered csv poses!\n",
      "Filtering with median model C:\\DeepLabCutProjects\\DLC-Atanu-2024-12-25\\Videos-to-analyze\\Food_Light_CRE_WT_1_24_25_S1_Y_CNO__Wes_Kim_Sol_Ida_Trial_1_top_right.mp4\n",
      "Saving filtered csv poses!\n",
      "Filtering with median model C:\\DeepLabCutProjects\\DLC-Atanu-2024-12-25\\Videos-to-analyze\\Food_Light_CRE_WT_1_24_25_S2_Y_CNO__Ivy_May_Bee_Deer_Trial_1_bottom_left.mp4\n",
      "Saving filtered csv poses!\n",
      "Filtering with median model C:\\DeepLabCutProjects\\DLC-Atanu-2024-12-25\\Videos-to-analyze\\Food_Light_CRE_WT_1_24_25_S2_Y_CNO__Ivy_May_Bee_Deer_Trial_1_bottom_right.mp4\n",
      "Saving filtered csv poses!\n",
      "Filtering with median model C:\\DeepLabCutProjects\\DLC-Atanu-2024-12-25\\Videos-to-analyze\\Food_Light_CRE_WT_1_24_25_S2_Y_CNO__Ivy_May_Bee_Deer_Trial_1_top_left.mp4\n",
      "Saving filtered csv poses!\n",
      "Filtering with median model C:\\DeepLabCutProjects\\DLC-Atanu-2024-12-25\\Videos-to-analyze\\Food_Light_CRE_WT_1_24_25_S2_Y_CNO__Ivy_May_Bee_Deer_Trial_1_top_right.mp4\n",
      "Saving filtered csv poses!\n",
      "Filtering with median model C:\\DeepLabCutProjects\\DLC-Atanu-2024-12-25\\Videos-to-analyze\\Food_Light_CRE_WT_1_24_25_S3_Y_CNO__Cat_Goose_Macaw_None_4_Trial_1_bottom_left.mp4\n",
      "Saving filtered csv poses!\n",
      "Filtering with median model C:\\DeepLabCutProjects\\DLC-Atanu-2024-12-25\\Videos-to-analyze\\Food_Light_CRE_WT_1_24_25_S3_Y_CNO__Cat_Goose_Macaw_None_4_Trial_1_bottom_right.mp4\n",
      "Saving filtered csv poses!\n",
      "Filtering with median model C:\\DeepLabCutProjects\\DLC-Atanu-2024-12-25\\Videos-to-analyze\\Food_Light_CRE_WT_1_24_25_S3_Y_CNO__Cat_Goose_Macaw_None_4_Trial_1_top_left.mp4\n",
      "Saving filtered csv poses!\n",
      "Filtering with median model C:\\DeepLabCutProjects\\DLC-Atanu-2024-12-25\\Videos-to-analyze\\Food_Light_CRE_WT_1_24_25_S3_Y_CNO__Cat_Goose_Macaw_None_4_Trial_1_top_right.mp4\n",
      "Saving filtered csv poses!\n",
      "Filtering with median model C:\\DeepLabCutProjects\\DLC-Atanu-2024-12-25\\Videos-to-analyze\\Food_Light_CRE_WT_1_27_25_Attempt_#2_S1_Y_CNO__Leo_Max_Joe_Jet_Trial_1_bottom_left.mp4\n",
      "Saving filtered csv poses!\n",
      "Filtering with median model C:\\DeepLabCutProjects\\DLC-Atanu-2024-12-25\\Videos-to-analyze\\Food_Light_CRE_WT_1_27_25_Attempt_#2_S1_Y_CNO__Leo_Max_Joe_Jet_Trial_1_bottom_right.mp4\n",
      "Saving filtered csv poses!\n",
      "Filtering with median model C:\\DeepLabCutProjects\\DLC-Atanu-2024-12-25\\Videos-to-analyze\\Food_Light_CRE_WT_1_27_25_Attempt_#2_S1_Y_CNO__Leo_Max_Joe_Jet_Trial_1_top_left.mp4\n",
      "Saving filtered csv poses!\n",
      "Filtering with median model C:\\DeepLabCutProjects\\DLC-Atanu-2024-12-25\\Videos-to-analyze\\Food_Light_CRE_WT_1_27_25_Attempt_#2_S1_Y_CNO__Leo_Max_Joe_Jet_Trial_1_top_right.mp4\n",
      "Saving filtered csv poses!\n",
      "Filtering with median model C:\\DeepLabCutProjects\\DLC-Atanu-2024-12-25\\Videos-to-analyze\\Food_Light_CRE_WT_1_27_25_Attempt_#2_S2_Y_CNO__Eli._Ben_Jim_None_4_Trial_1_bottom_left.mp4\n",
      "Saving filtered csv poses!\n",
      "Filtering with median model C:\\DeepLabCutProjects\\DLC-Atanu-2024-12-25\\Videos-to-analyze\\Food_Light_CRE_WT_1_27_25_Attempt_#2_S2_Y_CNO__Eli._Ben_Jim_None_4_Trial_1_bottom_right.mp4\n",
      "Saving filtered csv poses!\n",
      "Filtering with median model C:\\DeepLabCutProjects\\DLC-Atanu-2024-12-25\\Videos-to-analyze\\Food_Light_CRE_WT_1_27_25_Attempt_#2_S2_Y_CNO__Eli._Ben_Jim_None_4_Trial_1_top_left.mp4\n",
      "Saving filtered csv poses!\n",
      "Filtering with median model C:\\DeepLabCutProjects\\DLC-Atanu-2024-12-25\\Videos-to-analyze\\Food_Light_CRE_WT_1_27_25_Attempt_#2_S2_Y_CNO__Eli._Ben_Jim_None_4_Trial_1_top_right.mp4\n",
      "Saving filtered csv poses!\n",
      "Filtering with median model C:\\DeepLabCutProjects\\DLC-Atanu-2024-12-25\\Videos-to-analyze\\Food_Light_CRE_WT_1_27_25_Attempt_#2_S3_Y_CNO__Roy_Sam_Snake_Badger_Trial_1_bottom_left.mp4\n",
      "Saving filtered csv poses!\n",
      "Filtering with median model C:\\DeepLabCutProjects\\DLC-Atanu-2024-12-25\\Videos-to-analyze\\Food_Light_CRE_WT_1_27_25_Attempt_#2_S3_Y_CNO__Roy_Sam_Snake_Badger_Trial_1_bottom_right.mp4\n",
      "Saving filtered csv poses!\n",
      "Filtering with median model C:\\DeepLabCutProjects\\DLC-Atanu-2024-12-25\\Videos-to-analyze\\Food_Light_CRE_WT_1_27_25_Attempt_#2_S3_Y_CNO__Roy_Sam_Snake_Badger_Trial_1_top_left.mp4\n",
      "Saving filtered csv poses!\n",
      "Filtering with median model C:\\DeepLabCutProjects\\DLC-Atanu-2024-12-25\\Videos-to-analyze\\Food_Light_CRE_WT_1_27_25_Attempt_#2_S3_Y_CNO__Roy_Sam_Snake_Badger_Trial_1_top_right.mp4\n",
      "Saving filtered csv poses!\n",
      "Filtering with median model C:\\DeepLabCutProjects\\DLC-Atanu-2024-12-25\\Videos-to-analyze\\Food_Light_CRE_WT_1_27_25_Attempt_#2_S4_Y_CNO__Wolf_Squid_Eagle_Lion_Trial_1_bottom_left.mp4\n",
      "Saving filtered csv poses!\n",
      "Filtering with median model C:\\DeepLabCutProjects\\DLC-Atanu-2024-12-25\\Videos-to-analyze\\Food_Light_CRE_WT_1_27_25_Attempt_#2_S4_Y_CNO__Wolf_Squid_Eagle_Lion_Trial_1_bottom_right.mp4\n",
      "Saving filtered csv poses!\n",
      "Filtering with median model C:\\DeepLabCutProjects\\DLC-Atanu-2024-12-25\\Videos-to-analyze\\Food_Light_CRE_WT_1_27_25_Attempt_#2_S4_Y_CNO__Wolf_Squid_Eagle_Lion_Trial_1_top_left.mp4\n",
      "Saving filtered csv poses!\n",
      "Filtering with median model C:\\DeepLabCutProjects\\DLC-Atanu-2024-12-25\\Videos-to-analyze\\Food_Light_CRE_WT_1_27_25_Attempt_#2_S4_Y_CNO__Wolf_Squid_Eagle_Lion_Trial_1_top_right.mp4\n",
      "Saving filtered csv poses!\n",
      "Filtering with median model C:\\DeepLabCutProjects\\DLC-Atanu-2024-12-25\\Videos-to-analyze\\Food_Light_CRE_WT_Dwarves_2_20_25_S1_Y_CNO__Dopey_Grumpy_Sneezy_Doc_Trial_1_bottom_left.mp4\n",
      "Saving filtered csv poses!\n",
      "Filtering with median model C:\\DeepLabCutProjects\\DLC-Atanu-2024-12-25\\Videos-to-analyze\\Food_Light_CRE_WT_Dwarves_2_20_25_S1_Y_CNO__Dopey_Grumpy_Sneezy_Doc_Trial_1_bottom_right.mp4\n",
      "Saving filtered csv poses!\n",
      "Filtering with median model C:\\DeepLabCutProjects\\DLC-Atanu-2024-12-25\\Videos-to-analyze\\Food_Light_CRE_WT_Dwarves_2_20_25_S1_Y_CNO__Dopey_Grumpy_Sneezy_Doc_Trial_1_top_left.mp4\n",
      "Saving filtered csv poses!\n",
      "Filtering with median model C:\\DeepLabCutProjects\\DLC-Atanu-2024-12-25\\Videos-to-analyze\\Food_Light_CRE_WT_Dwarves_2_20_25_S1_Y_CNO__Dopey_Grumpy_Sneezy_Doc_Trial_1_top_right.mp4\n",
      "Saving filtered csv poses!\n",
      "Filtering with median model C:\\DeepLabCutProjects\\DLC-Atanu-2024-12-25\\Videos-to-analyze\\Food_Light_CRE_WT_Dwarves_2_20_25_S2_Y_CNO__Bashful_Happy_Sleepy_None_4_Trial_1_bottom_left.mp4\n",
      "Saving filtered csv poses!\n",
      "Filtering with median model C:\\DeepLabCutProjects\\DLC-Atanu-2024-12-25\\Videos-to-analyze\\Food_Light_CRE_WT_Dwarves_2_20_25_S2_Y_CNO__Bashful_Happy_Sleepy_None_4_Trial_1_bottom_right.mp4\n",
      "Saving filtered csv poses!\n",
      "Filtering with median model C:\\DeepLabCutProjects\\DLC-Atanu-2024-12-25\\Videos-to-analyze\\Food_Light_CRE_WT_Dwarves_2_20_25_S2_Y_CNO__Bashful_Happy_Sleepy_None_4_Trial_1_top_left.mp4\n",
      "Saving filtered csv poses!\n",
      "Filtering with median model C:\\DeepLabCutProjects\\DLC-Atanu-2024-12-25\\Videos-to-analyze\\Food_Light_CRE_WT_Dwarves_2_20_25_S2_Y_CNO__Bashful_Happy_Sleepy_None_4_Trial_1_top_right.mp4\n",
      "Saving filtered csv poses!\n",
      "Filtering with median model C:\\DeepLabCutProjects\\DLC-Atanu-2024-12-25\\Videos-to-analyze\\Food_Light_CRE_WT_Gen_2_1_15_S1_P_CNO__A_B_C_F_Trial_1_bottom_left.mp4\n",
      "Saving filtered csv poses!\n",
      "Filtering with median model C:\\DeepLabCutProjects\\DLC-Atanu-2024-12-25\\Videos-to-analyze\\Food_Light_CRE_WT_Gen_2_1_15_S1_P_CNO__A_B_C_F_Trial_1_bottom_right.mp4\n",
      "Saving filtered csv poses!\n",
      "Filtering with median model C:\\DeepLabCutProjects\\DLC-Atanu-2024-12-25\\Videos-to-analyze\\Food_Light_CRE_WT_Gen_2_1_15_S1_P_CNO__A_B_C_F_Trial_1_top_left.mp4\n",
      "Saving filtered csv poses!\n",
      "Filtering with median model C:\\DeepLabCutProjects\\DLC-Atanu-2024-12-25\\Videos-to-analyze\\Food_Light_CRE_WT_Gen_2_1_15_S1_P_CNO__A_B_C_F_Trial_1_top_right.mp4\n",
      "Saving filtered csv poses!\n",
      "Filtering with median model C:\\DeepLabCutProjects\\DLC-Atanu-2024-12-25\\Videos-to-analyze\\Food_Light_CRE_WT_Gen_2_1_15_S2_P_CNO__E_L_G_H_Trial_1_bottom_left.mp4\n",
      "Saving filtered csv poses!\n",
      "Filtering with median model C:\\DeepLabCutProjects\\DLC-Atanu-2024-12-25\\Videos-to-analyze\\Food_Light_CRE_WT_Gen_2_1_15_S2_P_CNO__E_L_G_H_Trial_1_bottom_right.mp4\n",
      "Saving filtered csv poses!\n",
      "Filtering with median model C:\\DeepLabCutProjects\\DLC-Atanu-2024-12-25\\Videos-to-analyze\\Food_Light_CRE_WT_Gen_2_1_15_S2_P_CNO__E_L_G_H_Trial_1_top_left.mp4\n",
      "Saving filtered csv poses!\n",
      "Filtering with median model C:\\DeepLabCutProjects\\DLC-Atanu-2024-12-25\\Videos-to-analyze\\Food_Light_CRE_WT_Gen_2_1_15_S2_P_CNO__E_L_G_H_Trial_1_top_right.mp4\n",
      "Saving filtered csv poses!\n",
      "Filtering with median model C:\\DeepLabCutProjects\\DLC-Atanu-2024-12-25\\Videos-to-analyze\\Food_Light_CRE_WT_Gen_2_1_15_S3_P_CNO__I_J_K_O_Trial_1_bottom_left.mp4\n",
      "Saving filtered csv poses!\n",
      "Filtering with median model C:\\DeepLabCutProjects\\DLC-Atanu-2024-12-25\\Videos-to-analyze\\Food_Light_CRE_WT_Gen_2_1_15_S3_P_CNO__I_J_K_O_Trial_1_bottom_right.mp4\n",
      "Saving filtered csv poses!\n",
      "Filtering with median model C:\\DeepLabCutProjects\\DLC-Atanu-2024-12-25\\Videos-to-analyze\\Food_Light_CRE_WT_Gen_2_1_15_S3_P_CNO__I_J_K_O_Trial_1_top_left.mp4\n",
      "Saving filtered csv poses!\n",
      "Filtering with median model C:\\DeepLabCutProjects\\DLC-Atanu-2024-12-25\\Videos-to-analyze\\Food_Light_CRE_WT_Gen_2_1_15_S3_P_CNO__I_J_K_O_Trial_1_top_right.mp4\n",
      "Saving filtered csv poses!\n",
      "Filtering with median model C:\\DeepLabCutProjects\\DLC-Atanu-2024-12-25\\Videos-to-analyze\\Food_Light_CRE_WT_Gen_2_1_15_S4_P_CNO__M_P_Q_None_4_Trial_1_bottom_left.mp4\n",
      "Saving filtered csv poses!\n",
      "Filtering with median model C:\\DeepLabCutProjects\\DLC-Atanu-2024-12-25\\Videos-to-analyze\\Food_Light_CRE_WT_Gen_2_1_15_S4_P_CNO__M_P_Q_None_4_Trial_1_bottom_right.mp4\n",
      "Saving filtered csv poses!\n",
      "Filtering with median model C:\\DeepLabCutProjects\\DLC-Atanu-2024-12-25\\Videos-to-analyze\\Food_Light_CRE_WT_Gen_2_1_15_S4_P_CNO__M_P_Q_None_4_Trial_1_top_left.mp4\n",
      "Saving filtered csv poses!\n",
      "Filtering with median model C:\\DeepLabCutProjects\\DLC-Atanu-2024-12-25\\Videos-to-analyze\\Food_Light_CRE_WT_Gen_2_1_15_S4_P_CNO__M_P_Q_None_4_Trial_1_top_right.mp4\n",
      "Saving filtered csv poses!\n",
      "Filtering with median model C:\\DeepLabCutProjects\\DLC-Atanu-2024-12-25\\Videos-to-analyze\\Food_Light_CRE_WT_Gen_2_1_16_S1_Y_CNO__Austin_Houston_Toronto_Berlin_Trial_1_bottom_left.mp4\n",
      "Saving filtered csv poses!\n",
      "Filtering with median model C:\\DeepLabCutProjects\\DLC-Atanu-2024-12-25\\Videos-to-analyze\\Food_Light_CRE_WT_Gen_2_1_16_S1_Y_CNO__Austin_Houston_Toronto_Berlin_Trial_1_bottom_right.mp4\n",
      "Saving filtered csv poses!\n",
      "Filtering with median model C:\\DeepLabCutProjects\\DLC-Atanu-2024-12-25\\Videos-to-analyze\\Food_Light_CRE_WT_Gen_2_1_16_S1_Y_CNO__Austin_Houston_Toronto_Berlin_Trial_1_top_left.mp4\n",
      "Saving filtered csv poses!\n",
      "Filtering with median model C:\\DeepLabCutProjects\\DLC-Atanu-2024-12-25\\Videos-to-analyze\\Food_Light_CRE_WT_Gen_2_1_16_S1_Y_CNO__Austin_Houston_Toronto_Berlin_Trial_1_top_right.mp4\n",
      "Saving filtered csv poses!\n",
      "Filtering with median model C:\\DeepLabCutProjects\\DLC-Atanu-2024-12-25\\Videos-to-analyze\\Food_Light_CRE_WT_Gen_2_1_16_S2_Y_CNO__Denver_El_Paso_Waco_None_4_Trial_1_bottom_left.mp4\n",
      "Saving filtered csv poses!\n",
      "Filtering with median model C:\\DeepLabCutProjects\\DLC-Atanu-2024-12-25\\Videos-to-analyze\\Food_Light_CRE_WT_Gen_2_1_16_S2_Y_CNO__Denver_El_Paso_Waco_None_4_Trial_1_bottom_right.mp4\n",
      "Saving filtered csv poses!\n",
      "Filtering with median model C:\\DeepLabCutProjects\\DLC-Atanu-2024-12-25\\Videos-to-analyze\\Food_Light_CRE_WT_Gen_2_1_16_S2_Y_CNO__Denver_El_Paso_Waco_None_4_Trial_1_top_left.mp4\n",
      "Saving filtered csv poses!\n",
      "Filtering with median model C:\\DeepLabCutProjects\\DLC-Atanu-2024-12-25\\Videos-to-analyze\\Food_Light_CRE_WT_Gen_2_1_16_S2_Y_CNO__Denver_El_Paso_Waco_None_4_Trial_1_top_right.mp4\n",
      "Saving filtered csv poses!\n",
      "Filtering with median model C:\\DeepLabCutProjects\\DLC-Atanu-2024-12-25\\Videos-to-analyze\\Food_Light_CRE_WT_Gen_2_1_16_S3_Y_CNO__Lisbon_Nairobi_Rome_Venice_Trial_1_bottom_left.mp4\n",
      "Saving filtered csv poses!\n",
      "Filtering with median model C:\\DeepLabCutProjects\\DLC-Atanu-2024-12-25\\Videos-to-analyze\\Food_Light_CRE_WT_Gen_2_1_16_S3_Y_CNO__Lisbon_Nairobi_Rome_Venice_Trial_1_bottom_right.mp4\n",
      "Saving filtered csv poses!\n",
      "Filtering with median model C:\\DeepLabCutProjects\\DLC-Atanu-2024-12-25\\Videos-to-analyze\\Food_Light_CRE_WT_Gen_2_1_16_S3_Y_CNO__Lisbon_Nairobi_Rome_Venice_Trial_1_top_left.mp4\n",
      "Saving filtered csv poses!\n",
      "Filtering with median model C:\\DeepLabCutProjects\\DLC-Atanu-2024-12-25\\Videos-to-analyze\\Food_Light_CRE_WT_Gen_2_1_16_S3_Y_CNO__Lisbon_Nairobi_Rome_Venice_Trial_1_top_right.mp4\n",
      "Saving filtered csv poses!\n",
      "Filtering with median model C:\\DeepLabCutProjects\\DLC-Atanu-2024-12-25\\Videos-to-analyze\\Food_Light_CRE_WT_Gen_2_1_16_S4_Y_CNO__Paris_London_Phoenix_None_4_Trial_1_bottom_left.mp4\n",
      "Saving filtered csv poses!\n",
      "Filtering with median model C:\\DeepLabCutProjects\\DLC-Atanu-2024-12-25\\Videos-to-analyze\\Food_Light_CRE_WT_Gen_2_1_16_S4_Y_CNO__Paris_London_Phoenix_None_4_Trial_1_bottom_right.mp4\n",
      "Saving filtered csv poses!\n",
      "Filtering with median model C:\\DeepLabCutProjects\\DLC-Atanu-2024-12-25\\Videos-to-analyze\\Food_Light_CRE_WT_Gen_2_1_16_S4_Y_CNO__Paris_London_Phoenix_None_4_Trial_1_top_left.mp4\n",
      "Saving filtered csv poses!\n",
      "Filtering with median model C:\\DeepLabCutProjects\\DLC-Atanu-2024-12-25\\Videos-to-analyze\\Food_Light_CRE_WT_Gen_2_1_16_S4_Y_CNO__Paris_London_Phoenix_None_4_Trial_1_top_right.mp4\n",
      "Saving filtered csv poses!\n",
      "Filtering with median model C:\\DeepLabCutProjects\\DLC-Atanu-2024-12-25\\Videos-to-analyze\\Food_Light_CRE_WT_Gen_2_1_17_S1_P_CNO__Ft_Worth_Orlando_Tampa_Dallas_Trial_1_bottom_left.mp4\n",
      "Saving filtered csv poses!\n",
      "Filtering with median model C:\\DeepLabCutProjects\\DLC-Atanu-2024-12-25\\Videos-to-analyze\\Food_Light_CRE_WT_Gen_2_1_17_S1_P_CNO__Ft_Worth_Orlando_Tampa_Dallas_Trial_1_bottom_right.mp4\n",
      "Saving filtered csv poses!\n",
      "Filtering with median model C:\\DeepLabCutProjects\\DLC-Atanu-2024-12-25\\Videos-to-analyze\\Food_Light_CRE_WT_Gen_2_1_17_S1_P_CNO__Ft_Worth_Orlando_Tampa_Dallas_Trial_1_top_left.mp4\n",
      "Saving filtered csv poses!\n",
      "Filtering with median model C:\\DeepLabCutProjects\\DLC-Atanu-2024-12-25\\Videos-to-analyze\\Food_Light_CRE_WT_Gen_2_1_17_S1_P_CNO__Ft_Worth_Orlando_Tampa_Dallas_Trial_1_top_right.mp4\n",
      "Saving filtered csv poses!\n",
      "Filtering with median model C:\\DeepLabCutProjects\\DLC-Atanu-2024-12-25\\Videos-to-analyze\\Food_Light_CRE_WT_Gen_2_1_17_S2_P_CNO__LA_Seattle_Chicago_Las_Cruces_Trial_1_bottom_left.mp4\n",
      "Saving filtered csv poses!\n",
      "Filtering with median model C:\\DeepLabCutProjects\\DLC-Atanu-2024-12-25\\Videos-to-analyze\\Food_Light_CRE_WT_Gen_2_1_17_S2_P_CNO__LA_Seattle_Chicago_Las_Cruces_Trial_1_bottom_right.mp4\n",
      "Saving filtered csv poses!\n",
      "Filtering with median model C:\\DeepLabCutProjects\\DLC-Atanu-2024-12-25\\Videos-to-analyze\\Food_Light_CRE_WT_Gen_2_1_17_S2_P_CNO__LA_Seattle_Chicago_Las_Cruces_Trial_1_top_left.mp4\n",
      "Saving filtered csv poses!\n",
      "Filtering with median model C:\\DeepLabCutProjects\\DLC-Atanu-2024-12-25\\Videos-to-analyze\\Food_Light_CRE_WT_Gen_2_1_17_S2_P_CNO__LA_Seattle_Chicago_Las_Cruces_Trial_1_top_right.mp4\n",
      "Saving filtered csv poses!\n",
      "Filtering with median model C:\\DeepLabCutProjects\\DLC-Atanu-2024-12-25\\Videos-to-analyze\\Food_Light_CRE_WT_Gen_2_1_17_S3_P_CNO__Tokyo_Ruidoso_New_Orleans_Atlanta_Trial_1_bottom_left.mp4\n",
      "Saving filtered csv poses!\n",
      "Filtering with median model C:\\DeepLabCutProjects\\DLC-Atanu-2024-12-25\\Videos-to-analyze\\Food_Light_CRE_WT_Gen_2_1_17_S3_P_CNO__Tokyo_Ruidoso_New_Orleans_Atlanta_Trial_1_bottom_right.mp4\n",
      "Saving filtered csv poses!\n",
      "Filtering with median model C:\\DeepLabCutProjects\\DLC-Atanu-2024-12-25\\Videos-to-analyze\\Food_Light_CRE_WT_Gen_2_1_17_S3_P_CNO__Tokyo_Ruidoso_New_Orleans_Atlanta_Trial_1_top_left.mp4\n",
      "Saving filtered csv poses!\n",
      "Filtering with median model C:\\DeepLabCutProjects\\DLC-Atanu-2024-12-25\\Videos-to-analyze\\Food_Light_CRE_WT_Gen_2_1_17_S3_P_CNO__Tokyo_Ruidoso_New_Orleans_Atlanta_Trial_1_top_right.mp4\n",
      "Saving filtered csv poses!\n",
      "Filtering with median model C:\\DeepLabCutProjects\\DLC-Atanu-2024-12-25\\Videos-to-analyze\\Food_Light_CRE_WT_Gen_2_1_17_S4_P_CNO__New_York_New_Jersey_Trial_1_bottom_left.mp4\n",
      "Saving filtered csv poses!\n",
      "Filtering with median model C:\\DeepLabCutProjects\\DLC-Atanu-2024-12-25\\Videos-to-analyze\\Food_Light_CRE_WT_Gen_2_1_17_S4_P_CNO__New_York_New_Jersey_Trial_1_bottom_right.mp4\n",
      "Saving filtered csv poses!\n",
      "Filtering with median model C:\\DeepLabCutProjects\\DLC-Atanu-2024-12-25\\Videos-to-analyze\\Food_Light_CRE_WT_Gen_2_1_17_S4_P_CNO__New_York_New_Jersey_Trial_1_top_left.mp4\n",
      "Saving filtered csv poses!\n",
      "Filtering with median model C:\\DeepLabCutProjects\\DLC-Atanu-2024-12-25\\Videos-to-analyze\\Food_Light_CRE_WT_Gen_2_1_17_S4_P_CNO__New_York_New_Jersey_Trial_1_top_right.mp4\n",
      "Saving filtered csv poses!\n",
      "Filtering with median model C:\\DeepLabCutProjects\\DLC-Atanu-2024-12-25\\Videos-to-analyze\\Toy_Light_CRE_WT_Dwarves_2_24_25_S1_Y_CNO__Dopey_Grumpy_Sneezy_Doc_Trial_1_bottom_left.mp4\n",
      "Saving filtered csv poses!\n",
      "Filtering with median model C:\\DeepLabCutProjects\\DLC-Atanu-2024-12-25\\Videos-to-analyze\\Toy_Light_CRE_WT_Dwarves_2_24_25_S1_Y_CNO__Dopey_Grumpy_Sneezy_Doc_Trial_1_bottom_right.mp4\n",
      "Saving filtered csv poses!\n",
      "Filtering with median model C:\\DeepLabCutProjects\\DLC-Atanu-2024-12-25\\Videos-to-analyze\\Toy_Light_CRE_WT_Dwarves_2_24_25_S1_Y_CNO__Dopey_Grumpy_Sneezy_Doc_Trial_1_top_left.mp4\n",
      "Saving filtered csv poses!\n",
      "Filtering with median model C:\\DeepLabCutProjects\\DLC-Atanu-2024-12-25\\Videos-to-analyze\\Toy_Light_CRE_WT_Dwarves_2_24_25_S1_Y_CNO__Dopey_Grumpy_Sneezy_Doc_Trial_1_top_right.mp4\n",
      "Saving filtered csv poses!\n",
      "Filtering with median model C:\\DeepLabCutProjects\\DLC-Atanu-2024-12-25\\Videos-to-analyze\\Toy_Light_CRE_WT_Dwarves_2_24_25_S2_Y_CNO__Bashful_Happy_Sleepy_None_4_Trial_1_bottom_left.mp4\n",
      "Saving filtered csv poses!\n",
      "Filtering with median model C:\\DeepLabCutProjects\\DLC-Atanu-2024-12-25\\Videos-to-analyze\\Toy_Light_CRE_WT_Dwarves_2_24_25_S2_Y_CNO__Bashful_Happy_Sleepy_None_4_Trial_1_bottom_right.mp4\n",
      "Saving filtered csv poses!\n",
      "Filtering with median model C:\\DeepLabCutProjects\\DLC-Atanu-2024-12-25\\Videos-to-analyze\\Toy_Light_CRE_WT_Dwarves_2_24_25_S2_Y_CNO__Bashful_Happy_Sleepy_None_4_Trial_1_top_left.mp4\n",
      "Saving filtered csv poses!\n",
      "Filtering with median model C:\\DeepLabCutProjects\\DLC-Atanu-2024-12-25\\Videos-to-analyze\\Toy_Light_CRE_WT_Dwarves_2_24_25_S2_Y_CNO__Bashful_Happy_Sleepy_None_4_Trial_1_top_right.mp4\n",
      "Saving filtered csv poses!\n",
      "Filtering with median model C:\\DeepLabCutProjects\\DLC-Atanu-2024-12-25\\Videos-to-analyze\\Toy_Light_CRE_WT_Dwarves_Excitatory_+_Ghr_3_12_25_S1_Y_CNO__Dopey_Grumpy_Sneezy_Doc_Trial_1_bottom_left.mp4\n",
      "Saving filtered csv poses!\n",
      "Filtering with median model C:\\DeepLabCutProjects\\DLC-Atanu-2024-12-25\\Videos-to-analyze\\Toy_Light_CRE_WT_Dwarves_Excitatory_+_Ghr_3_12_25_S1_Y_CNO__Dopey_Grumpy_Sneezy_Doc_Trial_1_bottom_right.mp4\n",
      "Saving filtered csv poses!\n",
      "Filtering with median model C:\\DeepLabCutProjects\\DLC-Atanu-2024-12-25\\Videos-to-analyze\\Toy_Light_CRE_WT_Dwarves_Excitatory_+_Ghr_3_12_25_S1_Y_CNO__Dopey_Grumpy_Sneezy_Doc_Trial_1_top_left.mp4\n",
      "Saving filtered csv poses!\n",
      "Filtering with median model C:\\DeepLabCutProjects\\DLC-Atanu-2024-12-25\\Videos-to-analyze\\Toy_Light_CRE_WT_Dwarves_Excitatory_+_Ghr_3_12_25_S1_Y_CNO__Dopey_Grumpy_Sneezy_Doc_Trial_1_top_right.mp4\n",
      "Saving filtered csv poses!\n",
      "Filtering with median model C:\\DeepLabCutProjects\\DLC-Atanu-2024-12-25\\Videos-to-analyze\\Toy_Light_CRE_WT_Dwarves_Excitatory_+_Ghr_3_12_25_S2_Y_CNO__Bashful_Happy_Sleepy_None_4_Trial_1_bottom_left.mp4\n",
      "Saving filtered csv poses!\n",
      "Filtering with median model C:\\DeepLabCutProjects\\DLC-Atanu-2024-12-25\\Videos-to-analyze\\Toy_Light_CRE_WT_Dwarves_Excitatory_+_Ghr_3_12_25_S2_Y_CNO__Bashful_Happy_Sleepy_None_4_Trial_1_bottom_right.mp4\n",
      "Saving filtered csv poses!\n",
      "Filtering with median model C:\\DeepLabCutProjects\\DLC-Atanu-2024-12-25\\Videos-to-analyze\\Toy_Light_CRE_WT_Dwarves_Excitatory_+_Ghr_3_12_25_S2_Y_CNO__Bashful_Happy_Sleepy_None_4_Trial_1_top_left.mp4\n",
      "Saving filtered csv poses!\n",
      "Filtering with median model C:\\DeepLabCutProjects\\DLC-Atanu-2024-12-25\\Videos-to-analyze\\Toy_Light_CRE_WT_Dwarves_Excitatory_+_Ghr_3_12_25_S2_Y_CNO__Bashful_Happy_Sleepy_None_4_Trial_1_top_right.mp4\n",
      "Saving filtered csv poses!\n",
      "Filtering with median model C:\\DeepLabCutProjects\\DLC-Atanu-2024-12-25\\Videos-to-analyze\\Toy_Light_CRE_WT_Dwarves_Excitatory_+_Ghr_3_12_25_S3_Y_CNO__Roy_Sam_Leo_None_4_Trial_1_bottom_left.mp4\n",
      "Saving filtered csv poses!\n",
      "Filtering with median model C:\\DeepLabCutProjects\\DLC-Atanu-2024-12-25\\Videos-to-analyze\\Toy_Light_CRE_WT_Dwarves_Excitatory_+_Ghr_3_12_25_S3_Y_CNO__Roy_Sam_Leo_None_4_Trial_1_bottom_right.mp4\n",
      "Saving filtered csv poses!\n",
      "Filtering with median model C:\\DeepLabCutProjects\\DLC-Atanu-2024-12-25\\Videos-to-analyze\\Toy_Light_CRE_WT_Dwarves_Excitatory_+_Ghr_3_12_25_S3_Y_CNO__Roy_Sam_Leo_None_4_Trial_1_top_left.mp4\n",
      "Saving filtered csv poses!\n",
      "Filtering with median model C:\\DeepLabCutProjects\\DLC-Atanu-2024-12-25\\Videos-to-analyze\\Toy_Light_CRE_WT_Dwarves_Excitatory_+_Ghr_3_12_25_S3_Y_CNO__Roy_Sam_Leo_None_4_Trial_1_top_right.mp4\n",
      "Saving filtered csv poses!\n",
      "Filtering with median model C:\\DeepLabCutProjects\\DLC-Atanu-2024-12-25\\Videos-to-analyze\\Toy_Light_CRE_WT_Dwarves_Excitatory_+_Ghr_3_12_25_S4_Y_CNO__Ivy_May_Ida_None_4_Trial_1_bottom_left.mp4\n",
      "Saving filtered csv poses!\n",
      "Filtering with median model C:\\DeepLabCutProjects\\DLC-Atanu-2024-12-25\\Videos-to-analyze\\Toy_Light_CRE_WT_Dwarves_Excitatory_+_Ghr_3_12_25_S4_Y_CNO__Ivy_May_Ida_None_4_Trial_1_bottom_right.mp4\n",
      "Saving filtered csv poses!\n",
      "Filtering with median model C:\\DeepLabCutProjects\\DLC-Atanu-2024-12-25\\Videos-to-analyze\\Toy_Light_CRE_WT_Dwarves_Excitatory_+_Ghr_3_12_25_S4_Y_CNO__Ivy_May_Ida_None_4_Trial_1_top_left.mp4\n",
      "Saving filtered csv poses!\n",
      "Filtering with median model C:\\DeepLabCutProjects\\DLC-Atanu-2024-12-25\\Videos-to-analyze\\Toy_Light_CRE_WT_Dwarves_Excitatory_+_Ghr_3_12_25_S4_Y_CNO__Ivy_May_Ida_None_4_Trial_1_top_right.mp4\n",
      "Saving filtered csv poses!\n",
      "Filtering with median model C:\\DeepLabCutProjects\\DLC-Atanu-2024-12-25\\Videos-to-analyze\\Toy_Light_CRE_WT_Gen_1_1st_Attempt_12_11_24_S1P_Y__Cat_Goose_None_3_Macaw_Trial_1_bottom_left.mp4\n",
      "Saving filtered csv poses!\n",
      "Filtering with median model C:\\DeepLabCutProjects\\DLC-Atanu-2024-12-25\\Videos-to-analyze\\Toy_Light_CRE_WT_Gen_1_1st_Attempt_12_11_24_S1P_Y__Cat_Goose_None_3_Macaw_Trial_1_bottom_right.mp4\n",
      "Saving filtered csv poses!\n",
      "Filtering with median model C:\\DeepLabCutProjects\\DLC-Atanu-2024-12-25\\Videos-to-analyze\\Toy_Light_CRE_WT_Gen_1_1st_Attempt_12_11_24_S1P_Y__Cat_Goose_None_3_Macaw_Trial_1_top_left.mp4\n",
      "Saving filtered csv poses!\n",
      "Filtering with median model C:\\DeepLabCutProjects\\DLC-Atanu-2024-12-25\\Videos-to-analyze\\Toy_Light_CRE_WT_Gen_1_1st_Attempt_12_11_24_S1P_Y__Cat_Goose_None_3_Macaw_Trial_1_top_right.mp4\n",
      "Saving filtered csv poses!\n",
      "Filtering with median model C:\\DeepLabCutProjects\\DLC-Atanu-2024-12-25\\Videos-to-analyze\\Toy_Light_CRE_WT_Gen_1_1st_Attempt_12_11_24_S1Y__Wolf_Squid_Eagle_Lion_Trial_1_bottom_left.mp4\n",
      "Saving filtered csv poses!\n",
      "Filtering with median model C:\\DeepLabCutProjects\\DLC-Atanu-2024-12-25\\Videos-to-analyze\\Toy_Light_CRE_WT_Gen_1_1st_Attempt_12_11_24_S1Y__Wolf_Squid_Eagle_Lion_Trial_1_bottom_right.mp4\n",
      "Saving filtered csv poses!\n",
      "Filtering with median model C:\\DeepLabCutProjects\\DLC-Atanu-2024-12-25\\Videos-to-analyze\\Toy_Light_CRE_WT_Gen_1_1st_Attempt_12_11_24_S1Y__Wolf_Squid_Eagle_Lion_Trial_1_top_left.mp4\n",
      "Saving filtered csv poses!\n",
      "Filtering with median model C:\\DeepLabCutProjects\\DLC-Atanu-2024-12-25\\Videos-to-analyze\\Toy_Light_CRE_WT_Gen_1_1st_Attempt_12_11_24_S1Y__Wolf_Squid_Eagle_Lion_Trial_1_top_right.mp4\n",
      "Saving filtered csv poses!\n",
      "Filtering with median model C:\\DeepLabCutProjects\\DLC-Atanu-2024-12-25\\Videos-to-analyze\\Toy_Light_CRE_WT_Gen_1_1st_Attempt_12_11_24_S2P__Badger_Snake_None_3_None_4_Trial_1_bottom_left.mp4\n",
      "Saving filtered csv poses!\n",
      "Filtering with median model C:\\DeepLabCutProjects\\DLC-Atanu-2024-12-25\\Videos-to-analyze\\Toy_Light_CRE_WT_Gen_1_1st_Attempt_12_11_24_S2P__Badger_Snake_None_3_None_4_Trial_1_bottom_right.mp4\n",
      "Saving filtered csv poses!\n",
      "Filtering with median model C:\\DeepLabCutProjects\\DLC-Atanu-2024-12-25\\Videos-to-analyze\\Toy_Light_CRE_WT_Gen_1_1st_Attempt_12_11_24_S2P__Badger_Snake_None_3_None_4_Trial_1_top_left.mp4\n",
      "Saving filtered csv poses!\n",
      "Filtering with median model C:\\DeepLabCutProjects\\DLC-Atanu-2024-12-25\\Videos-to-analyze\\Toy_Light_CRE_WT_Gen_1_1st_Attempt_12_11_24_S2P__Badger_Snake_None_3_None_4_Trial_1_top_right.mp4\n",
      "Saving filtered csv poses!\n",
      "Filtering with median model C:\\DeepLabCutProjects\\DLC-Atanu-2024-12-25\\Videos-to-analyze\\Toy_Light_CRE_WT_Gen_1_1st_Attempt_12_11_24_S2Y_P__Bee_Deer_None_3_None_4_Trial_1_bottom_left.mp4\n",
      "Saving filtered csv poses!\n",
      "Filtering with median model C:\\DeepLabCutProjects\\DLC-Atanu-2024-12-25\\Videos-to-analyze\\Toy_Light_CRE_WT_Gen_1_1st_Attempt_12_11_24_S2Y_P__Bee_Deer_None_3_None_4_Trial_1_bottom_right.mp4\n",
      "Saving filtered csv poses!\n",
      "Filtering with median model C:\\DeepLabCutProjects\\DLC-Atanu-2024-12-25\\Videos-to-analyze\\Toy_Light_CRE_WT_Gen_1_1st_Attempt_12_11_24_S2Y_P__Bee_Deer_None_3_None_4_Trial_1_top_left.mp4\n",
      "Saving filtered csv poses!\n",
      "Filtering with median model C:\\DeepLabCutProjects\\DLC-Atanu-2024-12-25\\Videos-to-analyze\\Toy_Light_CRE_WT_Gen_1_1st_Attempt_12_11_24_S2Y_P__Bee_Deer_None_3_None_4_Trial_1_top_right.mp4\n",
      "Saving filtered csv poses!\n",
      "Filtering with median model C:\\DeepLabCutProjects\\DLC-Atanu-2024-12-25\\Videos-to-analyze\\Toy_Light_CRE_WT_Gen_1_1st_Attempt_12_13_24_S1P__Cat_Goose_None_3_Macaw_Trial_1_bottom_left.mp4\n",
      "Saving filtered csv poses!\n",
      "Filtering with median model C:\\DeepLabCutProjects\\DLC-Atanu-2024-12-25\\Videos-to-analyze\\Toy_Light_CRE_WT_Gen_1_1st_Attempt_12_13_24_S1P__Cat_Goose_None_3_Macaw_Trial_1_bottom_right.mp4\n",
      "Saving filtered csv poses!\n",
      "Filtering with median model C:\\DeepLabCutProjects\\DLC-Atanu-2024-12-25\\Videos-to-analyze\\Toy_Light_CRE_WT_Gen_1_1st_Attempt_12_13_24_S1P__Cat_Goose_None_3_Macaw_Trial_1_top_left.mp4\n",
      "Saving filtered csv poses!\n",
      "Filtering with median model C:\\DeepLabCutProjects\\DLC-Atanu-2024-12-25\\Videos-to-analyze\\Toy_Light_CRE_WT_Gen_1_1st_Attempt_12_13_24_S1P__Cat_Goose_None_3_Macaw_Trial_1_top_right.mp4\n",
      "Saving filtered csv poses!\n",
      "Filtering with median model C:\\DeepLabCutProjects\\DLC-Atanu-2024-12-25\\Videos-to-analyze\\Toy_Light_CRE_WT_Gen_1_1st_Attempt_12_13_24_S1P__Wolf_Squid_Eagle_Lion_Trial_1_bottom_left.mp4\n",
      "Saving filtered csv poses!\n",
      "Filtering with median model C:\\DeepLabCutProjects\\DLC-Atanu-2024-12-25\\Videos-to-analyze\\Toy_Light_CRE_WT_Gen_1_1st_Attempt_12_13_24_S1P__Wolf_Squid_Eagle_Lion_Trial_1_bottom_right.mp4\n",
      "Saving filtered csv poses!\n",
      "Filtering with median model C:\\DeepLabCutProjects\\DLC-Atanu-2024-12-25\\Videos-to-analyze\\Toy_Light_CRE_WT_Gen_1_1st_Attempt_12_13_24_S1P__Wolf_Squid_Eagle_Lion_Trial_1_top_left.mp4\n",
      "Saving filtered csv poses!\n",
      "Filtering with median model C:\\DeepLabCutProjects\\DLC-Atanu-2024-12-25\\Videos-to-analyze\\Toy_Light_CRE_WT_Gen_1_1st_Attempt_12_13_24_S1P__Wolf_Squid_Eagle_Lion_Trial_1_top_right.mp4\n",
      "Saving filtered csv poses!\n",
      "Filtering with median model C:\\DeepLabCutProjects\\DLC-Atanu-2024-12-25\\Videos-to-analyze\\Toy_Light_CRE_WT_Gen_1_1st_Attempt_12_13_24_S2P__Badger_Snake_None_3_None_4_Trial_1_bottom_left.mp4\n",
      "Saving filtered csv poses!\n",
      "Filtering with median model C:\\DeepLabCutProjects\\DLC-Atanu-2024-12-25\\Videos-to-analyze\\Toy_Light_CRE_WT_Gen_1_1st_Attempt_12_13_24_S2P__Badger_Snake_None_3_None_4_Trial_1_bottom_right.mp4\n",
      "Saving filtered csv poses!\n",
      "Filtering with median model C:\\DeepLabCutProjects\\DLC-Atanu-2024-12-25\\Videos-to-analyze\\Toy_Light_CRE_WT_Gen_1_1st_Attempt_12_13_24_S2P__Badger_Snake_None_3_None_4_Trial_1_top_left.mp4\n",
      "Saving filtered csv poses!\n",
      "Filtering with median model C:\\DeepLabCutProjects\\DLC-Atanu-2024-12-25\\Videos-to-analyze\\Toy_Light_CRE_WT_Gen_1_1st_Attempt_12_13_24_S2P__Badger_Snake_None_3_None_4_Trial_1_top_right.mp4\n",
      "Saving filtered csv poses!\n",
      "Filtering with median model C:\\DeepLabCutProjects\\DLC-Atanu-2024-12-25\\Videos-to-analyze\\Toy_Light_CRE_WT_Gen_1_1st_Attempt_12_13_24_S2P__Bee_Deer_None_3_None_4_Trial_1_bottom_left.mp4\n",
      "Saving filtered csv poses!\n",
      "Filtering with median model C:\\DeepLabCutProjects\\DLC-Atanu-2024-12-25\\Videos-to-analyze\\Toy_Light_CRE_WT_Gen_1_1st_Attempt_12_13_24_S2P__Bee_Deer_None_3_None_4_Trial_1_bottom_right.mp4\n",
      "Saving filtered csv poses!\n",
      "Filtering with median model C:\\DeepLabCutProjects\\DLC-Atanu-2024-12-25\\Videos-to-analyze\\Toy_Light_CRE_WT_Gen_1_1st_Attempt_12_13_24_S2P__Bee_Deer_None_3_None_4_Trial_1_top_left.mp4\n",
      "Saving filtered csv poses!\n",
      "Filtering with median model C:\\DeepLabCutProjects\\DLC-Atanu-2024-12-25\\Videos-to-analyze\\Toy_Light_CRE_WT_Gen_1_1st_Attempt_12_13_24_S2P__Bee_Deer_None_3_None_4_Trial_1_top_right.mp4\n",
      "Saving filtered csv poses!\n",
      "Filtering with median model C:\\DeepLabCutProjects\\DLC-Atanu-2024-12-25\\Videos-to-analyze\\Toy_Light_CRE_WT_Gen_1_1st_Attempt_12_20_24_CNO_S1__Leo_Max_Joe_Jet_Trial_1_bottom_left.mp4\n",
      "Saving filtered csv poses!\n",
      "Filtering with median model C:\\DeepLabCutProjects\\DLC-Atanu-2024-12-25\\Videos-to-analyze\\Toy_Light_CRE_WT_Gen_1_1st_Attempt_12_20_24_CNO_S1__Leo_Max_Joe_Jet_Trial_1_bottom_right.mp4\n",
      "Saving filtered csv poses!\n",
      "Filtering with median model C:\\DeepLabCutProjects\\DLC-Atanu-2024-12-25\\Videos-to-analyze\\Toy_Light_CRE_WT_Gen_1_1st_Attempt_12_20_24_CNO_S1__Leo_Max_Joe_Jet_Trial_1_top_left.mp4\n",
      "Saving filtered csv poses!\n",
      "Filtering with median model C:\\DeepLabCutProjects\\DLC-Atanu-2024-12-25\\Videos-to-analyze\\Toy_Light_CRE_WT_Gen_1_1st_Attempt_12_20_24_CNO_S1__Leo_Max_Joe_Jet_Trial_1_top_right.mp4\n",
      "Saving filtered csv poses!\n",
      "Filtering with median model C:\\DeepLabCutProjects\\DLC-Atanu-2024-12-25\\Videos-to-analyze\\Toy_Light_CRE_WT_Gen_1_1st_Attempt_12_20_24_CNO_S1__Wes_Kim_Sol_Ida_Trial_1_bottom_left.mp4\n",
      "Saving filtered csv poses!\n",
      "Filtering with median model C:\\DeepLabCutProjects\\DLC-Atanu-2024-12-25\\Videos-to-analyze\\Toy_Light_CRE_WT_Gen_1_1st_Attempt_12_20_24_CNO_S1__Wes_Kim_Sol_Ida_Trial_1_bottom_right.mp4\n",
      "Saving filtered csv poses!\n",
      "Filtering with median model C:\\DeepLabCutProjects\\DLC-Atanu-2024-12-25\\Videos-to-analyze\\Toy_Light_CRE_WT_Gen_1_1st_Attempt_12_20_24_CNO_S1__Wes_Kim_Sol_Ida_Trial_1_top_left.mp4\n",
      "Saving filtered csv poses!\n",
      "Filtering with median model C:\\DeepLabCutProjects\\DLC-Atanu-2024-12-25\\Videos-to-analyze\\Toy_Light_CRE_WT_Gen_1_1st_Attempt_12_20_24_CNO_S1__Wes_Kim_Sol_Ida_Trial_1_top_right.mp4\n",
      "Saving filtered csv poses!\n",
      "Filtering with median model C:\\DeepLabCutProjects\\DLC-Atanu-2024-12-25\\Videos-to-analyze\\Toy_Light_CRE_WT_Gen_1_1st_Attempt_12_20_24_CNO_S2__Eli_Ben_Jim_None_4_Trial_1_bottom_left.mp4\n",
      "Saving filtered csv poses!\n",
      "Filtering with median model C:\\DeepLabCutProjects\\DLC-Atanu-2024-12-25\\Videos-to-analyze\\Toy_Light_CRE_WT_Gen_1_1st_Attempt_12_20_24_CNO_S2__Eli_Ben_Jim_None_4_Trial_1_bottom_right.mp4\n",
      "Saving filtered csv poses!\n",
      "Filtering with median model C:\\DeepLabCutProjects\\DLC-Atanu-2024-12-25\\Videos-to-analyze\\Toy_Light_CRE_WT_Gen_1_1st_Attempt_12_20_24_CNO_S2__Eli_Ben_Jim_None_4_Trial_1_top_left.mp4\n",
      "Saving filtered csv poses!\n",
      "Filtering with median model C:\\DeepLabCutProjects\\DLC-Atanu-2024-12-25\\Videos-to-analyze\\Toy_Light_CRE_WT_Gen_1_1st_Attempt_12_20_24_CNO_S2__Eli_Ben_Jim_None_4_Trial_1_top_right.mp4\n",
      "Saving filtered csv poses!\n",
      "Filtering with median model C:\\DeepLabCutProjects\\DLC-Atanu-2024-12-25\\Videos-to-analyze\\Toy_Light_CRE_WT_Gen_1_1st_Attempt_12_20_24_CNO_S2__Ivy_May_None_3_None_4_Trial_1_bottom_left.mp4\n",
      "Saving filtered csv poses!\n",
      "Filtering with median model C:\\DeepLabCutProjects\\DLC-Atanu-2024-12-25\\Videos-to-analyze\\Toy_Light_CRE_WT_Gen_1_1st_Attempt_12_20_24_CNO_S2__Ivy_May_None_3_None_4_Trial_1_bottom_right.mp4\n",
      "Saving filtered csv poses!\n",
      "Filtering with median model C:\\DeepLabCutProjects\\DLC-Atanu-2024-12-25\\Videos-to-analyze\\Toy_Light_CRE_WT_Gen_1_1st_Attempt_12_20_24_CNO_S2__Ivy_May_None_3_None_4_Trial_1_top_left.mp4\n",
      "Saving filtered csv poses!\n",
      "Filtering with median model C:\\DeepLabCutProjects\\DLC-Atanu-2024-12-25\\Videos-to-analyze\\Toy_Light_CRE_WT_Gen_1_1st_Attempt_12_20_24_CNO_S2__Ivy_May_None_3_None_4_Trial_1_top_right.mp4\n",
      "Saving filtered csv poses!\n",
      "Filtering with median model C:\\DeepLabCutProjects\\DLC-Atanu-2024-12-25\\Videos-to-analyze\\Toy_Light_CRE_WT_Gen_1_2nd_Attempt_1_10_25_S1_Y_CNO__Wes_Kim_Sol_Ida_Trial_1_bottom_left.mp4\n",
      "Saving filtered csv poses!\n",
      "Filtering with median model C:\\DeepLabCutProjects\\DLC-Atanu-2024-12-25\\Videos-to-analyze\\Toy_Light_CRE_WT_Gen_1_2nd_Attempt_1_10_25_S1_Y_CNO__Wes_Kim_Sol_Ida_Trial_1_bottom_right.mp4\n",
      "Saving filtered csv poses!\n",
      "Filtering with median model C:\\DeepLabCutProjects\\DLC-Atanu-2024-12-25\\Videos-to-analyze\\Toy_Light_CRE_WT_Gen_1_2nd_Attempt_1_10_25_S1_Y_CNO__Wes_Kim_Sol_Ida_Trial_1_top_left.mp4\n",
      "Saving filtered csv poses!\n",
      "Filtering with median model C:\\DeepLabCutProjects\\DLC-Atanu-2024-12-25\\Videos-to-analyze\\Toy_Light_CRE_WT_Gen_1_2nd_Attempt_1_10_25_S1_Y_CNO__Wes_Kim_Sol_Ida_Trial_1_top_right.mp4\n",
      "Saving filtered csv poses!\n",
      "Filtering with median model C:\\DeepLabCutProjects\\DLC-Atanu-2024-12-25\\Videos-to-analyze\\Toy_Light_CRE_WT_Gen_1_2nd_Attempt_1_10_25_S2_Y_CNO__Ivy_May_Bee_Deer_Trial_1_bottom_left.mp4\n",
      "Saving filtered csv poses!\n",
      "Filtering with median model C:\\DeepLabCutProjects\\DLC-Atanu-2024-12-25\\Videos-to-analyze\\Toy_Light_CRE_WT_Gen_1_2nd_Attempt_1_10_25_S2_Y_CNO__Ivy_May_Bee_Deer_Trial_1_bottom_right.mp4\n",
      "Saving filtered csv poses!\n",
      "Filtering with median model C:\\DeepLabCutProjects\\DLC-Atanu-2024-12-25\\Videos-to-analyze\\Toy_Light_CRE_WT_Gen_1_2nd_Attempt_1_10_25_S2_Y_CNO__Ivy_May_Bee_Deer_Trial_1_top_left.mp4\n",
      "Saving filtered csv poses!\n",
      "Filtering with median model C:\\DeepLabCutProjects\\DLC-Atanu-2024-12-25\\Videos-to-analyze\\Toy_Light_CRE_WT_Gen_1_2nd_Attempt_1_10_25_S2_Y_CNO__Ivy_May_Bee_Deer_Trial_1_top_right.mp4\n",
      "Saving filtered csv poses!\n",
      "Filtering with median model C:\\DeepLabCutProjects\\DLC-Atanu-2024-12-25\\Videos-to-analyze\\Toy_Light_CRE_WT_Gen_1_2nd_Attempt_1_10_25_S3_Y_CNO__Cat_Goose_Macaw_None_4_Trial_1_bottom_left.mp4\n",
      "Saving filtered csv poses!\n",
      "Filtering with median model C:\\DeepLabCutProjects\\DLC-Atanu-2024-12-25\\Videos-to-analyze\\Toy_Light_CRE_WT_Gen_1_2nd_Attempt_1_10_25_S3_Y_CNO__Cat_Goose_Macaw_None_4_Trial_1_bottom_right.mp4\n",
      "Saving filtered csv poses!\n",
      "Filtering with median model C:\\DeepLabCutProjects\\DLC-Atanu-2024-12-25\\Videos-to-analyze\\Toy_Light_CRE_WT_Gen_1_2nd_Attempt_1_10_25_S3_Y_CNO__Cat_Goose_Macaw_None_4_Trial_1_top_left.mp4\n",
      "Saving filtered csv poses!\n",
      "Filtering with median model C:\\DeepLabCutProjects\\DLC-Atanu-2024-12-25\\Videos-to-analyze\\Toy_Light_CRE_WT_Gen_1_2nd_Attempt_1_10_25_S3_Y_CNO__Cat_Goose_Macaw_None_4_Trial_1_top_right.mp4\n",
      "Saving filtered csv poses!\n",
      "Filtering with median model C:\\DeepLabCutProjects\\DLC-Atanu-2024-12-25\\Videos-to-analyze\\Toy_Light_CRE_WT_Gen_1_2nd_Attempt_1_9_25_S1_Y_CNO__Leo_Max_Joe_Jet_Trial_1_bottom_left.mp4\n",
      "Saving filtered csv poses!\n",
      "Filtering with median model C:\\DeepLabCutProjects\\DLC-Atanu-2024-12-25\\Videos-to-analyze\\Toy_Light_CRE_WT_Gen_1_2nd_Attempt_1_9_25_S1_Y_CNO__Leo_Max_Joe_Jet_Trial_1_bottom_right.mp4\n",
      "Saving filtered csv poses!\n",
      "Filtering with median model C:\\DeepLabCutProjects\\DLC-Atanu-2024-12-25\\Videos-to-analyze\\Toy_Light_CRE_WT_Gen_1_2nd_Attempt_1_9_25_S1_Y_CNO__Leo_Max_Joe_Jet_Trial_1_top_left.mp4\n",
      "Saving filtered csv poses!\n",
      "Filtering with median model C:\\DeepLabCutProjects\\DLC-Atanu-2024-12-25\\Videos-to-analyze\\Toy_Light_CRE_WT_Gen_1_2nd_Attempt_1_9_25_S1_Y_CNO__Leo_Max_Joe_Jet_Trial_1_top_right.mp4\n",
      "Saving filtered csv poses!\n",
      "Filtering with median model C:\\DeepLabCutProjects\\DLC-Atanu-2024-12-25\\Videos-to-analyze\\Toy_Light_CRE_WT_Gen_1_2nd_Attempt_1_9_25_S2_Y_CNO__Eli._Ben_Jim_None_4_Trial_1_bottom_left.mp4\n",
      "Saving filtered csv poses!\n",
      "Filtering with median model C:\\DeepLabCutProjects\\DLC-Atanu-2024-12-25\\Videos-to-analyze\\Toy_Light_CRE_WT_Gen_1_2nd_Attempt_1_9_25_S2_Y_CNO__Eli._Ben_Jim_None_4_Trial_1_bottom_right.mp4\n",
      "Saving filtered csv poses!\n",
      "Filtering with median model C:\\DeepLabCutProjects\\DLC-Atanu-2024-12-25\\Videos-to-analyze\\Toy_Light_CRE_WT_Gen_1_2nd_Attempt_1_9_25_S2_Y_CNO__Eli._Ben_Jim_None_4_Trial_1_top_left.mp4\n",
      "Saving filtered csv poses!\n",
      "Filtering with median model C:\\DeepLabCutProjects\\DLC-Atanu-2024-12-25\\Videos-to-analyze\\Toy_Light_CRE_WT_Gen_1_2nd_Attempt_1_9_25_S2_Y_CNO__Eli._Ben_Jim_None_4_Trial_1_top_right.mp4\n",
      "Saving filtered csv poses!\n",
      "Filtering with median model C:\\DeepLabCutProjects\\DLC-Atanu-2024-12-25\\Videos-to-analyze\\Toy_Light_CRE_WT_Gen_1_2nd_Attempt_1_9_25_S3_Y_CNO__Roy_Sam_Snake_Badger_Trial_1_bottom_left.mp4\n",
      "Saving filtered csv poses!\n",
      "Filtering with median model C:\\DeepLabCutProjects\\DLC-Atanu-2024-12-25\\Videos-to-analyze\\Toy_Light_CRE_WT_Gen_1_2nd_Attempt_1_9_25_S3_Y_CNO__Roy_Sam_Snake_Badger_Trial_1_bottom_right.mp4\n",
      "Saving filtered csv poses!\n",
      "Filtering with median model C:\\DeepLabCutProjects\\DLC-Atanu-2024-12-25\\Videos-to-analyze\\Toy_Light_CRE_WT_Gen_1_2nd_Attempt_1_9_25_S3_Y_CNO__Roy_Sam_Snake_Badger_Trial_1_top_left.mp4\n",
      "Saving filtered csv poses!\n",
      "Filtering with median model C:\\DeepLabCutProjects\\DLC-Atanu-2024-12-25\\Videos-to-analyze\\Toy_Light_CRE_WT_Gen_1_2nd_Attempt_1_9_25_S3_Y_CNO__Roy_Sam_Snake_Badger_Trial_1_top_right.mp4\n",
      "Saving filtered csv poses!\n",
      "Filtering with median model C:\\DeepLabCutProjects\\DLC-Atanu-2024-12-25\\Videos-to-analyze\\Toy_Light_CRE_WT_Gen_1_2nd_Attempt_1_9_25_S4_Y_CNO__Wolf_Squid_Eagle_Lion_Trial_1_bottom_left.mp4\n",
      "Saving filtered csv poses!\n",
      "Filtering with median model C:\\DeepLabCutProjects\\DLC-Atanu-2024-12-25\\Videos-to-analyze\\Toy_Light_CRE_WT_Gen_1_2nd_Attempt_1_9_25_S4_Y_CNO__Wolf_Squid_Eagle_Lion_Trial_1_bottom_right.mp4\n",
      "Saving filtered csv poses!\n",
      "Filtering with median model C:\\DeepLabCutProjects\\DLC-Atanu-2024-12-25\\Videos-to-analyze\\Toy_Light_CRE_WT_Gen_1_2nd_Attempt_1_9_25_S4_Y_CNO__Wolf_Squid_Eagle_Lion_Trial_1_top_left.mp4\n",
      "Saving filtered csv poses!\n",
      "Filtering with median model C:\\DeepLabCutProjects\\DLC-Atanu-2024-12-25\\Videos-to-analyze\\Toy_Light_CRE_WT_Gen_1_2nd_Attempt_1_9_25_S4_Y_CNO__Wolf_Squid_Eagle_Lion_Trial_1_top_right.mp4\n",
      "Saving filtered csv poses!\n",
      "Filtering with median model C:\\DeepLabCutProjects\\DLC-Atanu-2024-12-25\\Videos-to-analyze\\Toy_Light_CRE_WT_Gen_1_3rd_Attempt_1_13_25_S1_Y_CNO__Leo_Max_Joe_Jet_Trial_1_bottom_left.mp4\n",
      "Saving filtered csv poses!\n",
      "Filtering with median model C:\\DeepLabCutProjects\\DLC-Atanu-2024-12-25\\Videos-to-analyze\\Toy_Light_CRE_WT_Gen_1_3rd_Attempt_1_13_25_S1_Y_CNO__Leo_Max_Joe_Jet_Trial_1_bottom_right.mp4\n",
      "Saving filtered csv poses!\n",
      "Filtering with median model C:\\DeepLabCutProjects\\DLC-Atanu-2024-12-25\\Videos-to-analyze\\Toy_Light_CRE_WT_Gen_1_3rd_Attempt_1_13_25_S1_Y_CNO__Leo_Max_Joe_Jet_Trial_1_top_left.mp4\n",
      "Saving filtered csv poses!\n",
      "Filtering with median model C:\\DeepLabCutProjects\\DLC-Atanu-2024-12-25\\Videos-to-analyze\\Toy_Light_CRE_WT_Gen_1_3rd_Attempt_1_13_25_S1_Y_CNO__Leo_Max_Joe_Jet_Trial_1_top_right.mp4\n",
      "Saving filtered csv poses!\n",
      "Filtering with median model C:\\DeepLabCutProjects\\DLC-Atanu-2024-12-25\\Videos-to-analyze\\Toy_Light_CRE_WT_Gen_1_3rd_Attempt_1_13_25_S2_Y_CNO__Eli_Ben_Jim_None_4_Trial_1_bottom_left.mp4\n",
      "Saving filtered csv poses!\n",
      "Filtering with median model C:\\DeepLabCutProjects\\DLC-Atanu-2024-12-25\\Videos-to-analyze\\Toy_Light_CRE_WT_Gen_1_3rd_Attempt_1_13_25_S2_Y_CNO__Eli_Ben_Jim_None_4_Trial_1_bottom_right.mp4\n",
      "Saving filtered csv poses!\n",
      "Filtering with median model C:\\DeepLabCutProjects\\DLC-Atanu-2024-12-25\\Videos-to-analyze\\Toy_Light_CRE_WT_Gen_1_3rd_Attempt_1_13_25_S2_Y_CNO__Eli_Ben_Jim_None_4_Trial_1_top_left.mp4\n",
      "Saving filtered csv poses!\n",
      "Filtering with median model C:\\DeepLabCutProjects\\DLC-Atanu-2024-12-25\\Videos-to-analyze\\Toy_Light_CRE_WT_Gen_1_3rd_Attempt_1_13_25_S2_Y_CNO__Eli_Ben_Jim_None_4_Trial_1_top_right.mp4\n",
      "Saving filtered csv poses!\n",
      "Filtering with median model C:\\DeepLabCutProjects\\DLC-Atanu-2024-12-25\\Videos-to-analyze\\Toy_Light_CRE_WT_Gen_1_3rd_Attempt_1_13_25_S3_Y_CNO__Roy_Sam_Snake_Badger_Trial_1_bottom_left.mp4\n",
      "Saving filtered csv poses!\n",
      "Filtering with median model C:\\DeepLabCutProjects\\DLC-Atanu-2024-12-25\\Videos-to-analyze\\Toy_Light_CRE_WT_Gen_1_3rd_Attempt_1_13_25_S3_Y_CNO__Roy_Sam_Snake_Badger_Trial_1_bottom_right.mp4\n",
      "Saving filtered csv poses!\n",
      "Filtering with median model C:\\DeepLabCutProjects\\DLC-Atanu-2024-12-25\\Videos-to-analyze\\Toy_Light_CRE_WT_Gen_1_3rd_Attempt_1_13_25_S3_Y_CNO__Roy_Sam_Snake_Badger_Trial_1_top_left.mp4\n",
      "Saving filtered csv poses!\n",
      "Filtering with median model C:\\DeepLabCutProjects\\DLC-Atanu-2024-12-25\\Videos-to-analyze\\Toy_Light_CRE_WT_Gen_1_3rd_Attempt_1_13_25_S3_Y_CNO__Roy_Sam_Snake_Badger_Trial_1_top_right.mp4\n",
      "Saving filtered csv poses!\n",
      "Filtering with median model C:\\DeepLabCutProjects\\DLC-Atanu-2024-12-25\\Videos-to-analyze\\Toy_Light_CRE_WT_Gen_1_3rd_Attempt_1_13_25_S4_Y_CNO__Wolf_Squid_Eagle_Lion_Trial_1_bottom_left.mp4\n",
      "Saving filtered csv poses!\n",
      "Filtering with median model C:\\DeepLabCutProjects\\DLC-Atanu-2024-12-25\\Videos-to-analyze\\Toy_Light_CRE_WT_Gen_1_3rd_Attempt_1_13_25_S4_Y_CNO__Wolf_Squid_Eagle_Lion_Trial_1_bottom_right.mp4\n",
      "Saving filtered csv poses!\n",
      "Filtering with median model C:\\DeepLabCutProjects\\DLC-Atanu-2024-12-25\\Videos-to-analyze\\Toy_Light_CRE_WT_Gen_1_3rd_Attempt_1_13_25_S4_Y_CNO__Wolf_Squid_Eagle_Lion_Trial_1_top_left.mp4\n",
      "Saving filtered csv poses!\n",
      "Filtering with median model C:\\DeepLabCutProjects\\DLC-Atanu-2024-12-25\\Videos-to-analyze\\Toy_Light_CRE_WT_Gen_1_3rd_Attempt_1_13_25_S4_Y_CNO__Wolf_Squid_Eagle_Lion_Trial_1_top_right.mp4\n",
      "Saving filtered csv poses!\n",
      "Filtering with median model C:\\DeepLabCutProjects\\DLC-Atanu-2024-12-25\\Videos-to-analyze\\Toy_Light_CRE_WT_Gen_1_3rd_Attempt_1_14_25_S1_Y_CNO__Wes_Kim_Sol_Ida_Trial_1_bottom_left.mp4\n",
      "Saving filtered csv poses!\n",
      "Filtering with median model C:\\DeepLabCutProjects\\DLC-Atanu-2024-12-25\\Videos-to-analyze\\Toy_Light_CRE_WT_Gen_1_3rd_Attempt_1_14_25_S1_Y_CNO__Wes_Kim_Sol_Ida_Trial_1_bottom_right.mp4\n",
      "Saving filtered csv poses!\n",
      "Filtering with median model C:\\DeepLabCutProjects\\DLC-Atanu-2024-12-25\\Videos-to-analyze\\Toy_Light_CRE_WT_Gen_1_3rd_Attempt_1_14_25_S1_Y_CNO__Wes_Kim_Sol_Ida_Trial_1_top_left.mp4\n",
      "Saving filtered csv poses!\n",
      "Filtering with median model C:\\DeepLabCutProjects\\DLC-Atanu-2024-12-25\\Videos-to-analyze\\Toy_Light_CRE_WT_Gen_1_3rd_Attempt_1_14_25_S1_Y_CNO__Wes_Kim_Sol_Ida_Trial_1_top_right.mp4\n",
      "Saving filtered csv poses!\n",
      "Filtering with median model C:\\DeepLabCutProjects\\DLC-Atanu-2024-12-25\\Videos-to-analyze\\Toy_Light_CRE_WT_Gen_1_3rd_Attempt_1_14_25_S2_Y_CNO__Ivy_May_Bee_Deer_Trial_1_bottom_left.mp4\n",
      "Saving filtered csv poses!\n",
      "Filtering with median model C:\\DeepLabCutProjects\\DLC-Atanu-2024-12-25\\Videos-to-analyze\\Toy_Light_CRE_WT_Gen_1_3rd_Attempt_1_14_25_S2_Y_CNO__Ivy_May_Bee_Deer_Trial_1_bottom_right.mp4\n",
      "Saving filtered csv poses!\n",
      "Filtering with median model C:\\DeepLabCutProjects\\DLC-Atanu-2024-12-25\\Videos-to-analyze\\Toy_Light_CRE_WT_Gen_1_3rd_Attempt_1_14_25_S2_Y_CNO__Ivy_May_Bee_Deer_Trial_1_top_left.mp4\n",
      "Saving filtered csv poses!\n",
      "Filtering with median model C:\\DeepLabCutProjects\\DLC-Atanu-2024-12-25\\Videos-to-analyze\\Toy_Light_CRE_WT_Gen_1_3rd_Attempt_1_14_25_S2_Y_CNO__Ivy_May_Bee_Deer_Trial_1_top_right.mp4\n",
      "Saving filtered csv poses!\n",
      "Filtering with median model C:\\DeepLabCutProjects\\DLC-Atanu-2024-12-25\\Videos-to-analyze\\Toy_Light_CRE_WT_Gen_1_3rd_Attempt_1_14_25_S3_Y_CNO__Cat_Goose_Macaw_None_4_Trial_1_bottom_left.mp4\n",
      "Saving filtered csv poses!\n",
      "Filtering with median model C:\\DeepLabCutProjects\\DLC-Atanu-2024-12-25\\Videos-to-analyze\\Toy_Light_CRE_WT_Gen_1_3rd_Attempt_1_14_25_S3_Y_CNO__Cat_Goose_Macaw_None_4_Trial_1_bottom_right.mp4\n",
      "Saving filtered csv poses!\n",
      "Filtering with median model C:\\DeepLabCutProjects\\DLC-Atanu-2024-12-25\\Videos-to-analyze\\Toy_Light_CRE_WT_Gen_1_3rd_Attempt_1_14_25_S3_Y_CNO__Cat_Goose_Macaw_None_4_Trial_1_top_left.mp4\n",
      "Saving filtered csv poses!\n",
      "Filtering with median model C:\\DeepLabCutProjects\\DLC-Atanu-2024-12-25\\Videos-to-analyze\\Toy_Light_CRE_WT_Gen_1_3rd_Attempt_1_14_25_S3_Y_CNO__Cat_Goose_Macaw_None_4_Trial_1_top_right.mp4\n",
      "Saving filtered csv poses!\n",
      "Filtering with median model C:\\DeepLabCutProjects\\DLC-Atanu-2024-12-25\\Videos-to-analyze\\Toy_Light_CRE_WT_Gen_2.5_WT_P_Vs._Y_ONLY_2_25_25_S1_Y_CNO__1_2_3_4_Trial_1_bottom_left.mp4\n",
      "Saving filtered csv poses!\n",
      "Filtering with median model C:\\DeepLabCutProjects\\DLC-Atanu-2024-12-25\\Videos-to-analyze\\Toy_Light_CRE_WT_Gen_2.5_WT_P_Vs._Y_ONLY_2_25_25_S1_Y_CNO__1_2_3_4_Trial_1_bottom_right.mp4\n",
      "Saving filtered csv poses!\n",
      "Filtering with median model C:\\DeepLabCutProjects\\DLC-Atanu-2024-12-25\\Videos-to-analyze\\Toy_Light_CRE_WT_Gen_2.5_WT_P_Vs._Y_ONLY_2_25_25_S1_Y_CNO__1_2_3_4_Trial_1_top_left.mp4\n",
      "Saving filtered csv poses!\n",
      "Filtering with median model C:\\DeepLabCutProjects\\DLC-Atanu-2024-12-25\\Videos-to-analyze\\Toy_Light_CRE_WT_Gen_2.5_WT_P_Vs._Y_ONLY_2_25_25_S1_Y_CNO__1_2_3_4_Trial_1_top_right.mp4\n",
      "Saving filtered csv poses!\n",
      "Filtering with median model C:\\DeepLabCutProjects\\DLC-Atanu-2024-12-25\\Videos-to-analyze\\Toy_Light_CRE_WT_Gen_2.5_WT_P_Vs._Y_ONLY_2_25_25_S2_Y_CNO__5_6_7_8_Trial_1_bottom_left.mp4\n",
      "Saving filtered csv poses!\n",
      "Filtering with median model C:\\DeepLabCutProjects\\DLC-Atanu-2024-12-25\\Videos-to-analyze\\Toy_Light_CRE_WT_Gen_2.5_WT_P_Vs._Y_ONLY_2_25_25_S2_Y_CNO__5_6_7_8_Trial_1_bottom_right.mp4\n",
      "Saving filtered csv poses!\n",
      "Filtering with median model C:\\DeepLabCutProjects\\DLC-Atanu-2024-12-25\\Videos-to-analyze\\Toy_Light_CRE_WT_Gen_2.5_WT_P_Vs._Y_ONLY_2_25_25_S2_Y_CNO__5_6_7_8_Trial_1_top_left.mp4\n",
      "Saving filtered csv poses!\n",
      "Filtering with median model C:\\DeepLabCutProjects\\DLC-Atanu-2024-12-25\\Videos-to-analyze\\Toy_Light_CRE_WT_Gen_2.5_WT_P_Vs._Y_ONLY_2_25_25_S2_Y_CNO__5_6_7_8_Trial_1_top_right.mp4\n",
      "Saving filtered csv poses!\n",
      "Filtering with median model C:\\DeepLabCutProjects\\DLC-Atanu-2024-12-25\\Videos-to-analyze\\Toy_Light_CRE_WT_Gen_2.5_WT_P_Vs._Y_ONLY_2_25_25_S3_Y_CNO__9_10_None_3_None_4_Trial_1_bottom_left.mp4\n",
      "Saving filtered csv poses!\n",
      "Filtering with median model C:\\DeepLabCutProjects\\DLC-Atanu-2024-12-25\\Videos-to-analyze\\Toy_Light_CRE_WT_Gen_2.5_WT_P_Vs._Y_ONLY_2_25_25_S3_Y_CNO__9_10_None_3_None_4_Trial_1_bottom_right.mp4\n",
      "Saving filtered csv poses!\n",
      "Filtering with median model C:\\DeepLabCutProjects\\DLC-Atanu-2024-12-25\\Videos-to-analyze\\Toy_Light_CRE_WT_Gen_2.5_WT_P_Vs._Y_ONLY_2_25_25_S3_Y_CNO__9_10_None_3_None_4_Trial_1_top_left.mp4\n",
      "Saving filtered csv poses!\n",
      "Filtering with median model C:\\DeepLabCutProjects\\DLC-Atanu-2024-12-25\\Videos-to-analyze\\Toy_Light_CRE_WT_Gen_2.5_WT_P_Vs._Y_ONLY_2_25_25_S3_Y_CNO__9_10_None_3_None_4_Trial_1_top_right.mp4\n",
      "Saving filtered csv poses!\n",
      "Filtering with median model C:\\DeepLabCutProjects\\DLC-Atanu-2024-12-25\\Videos-to-analyze\\Toy_Light_CRE_WT_Gen_2.5_WT_P_Vs._Y_ONLY_2_5_25_S1_P_Y__1_2_3_4_Trial_1_bottom_left.mp4\n",
      "Saving filtered csv poses!\n",
      "Filtering with median model C:\\DeepLabCutProjects\\DLC-Atanu-2024-12-25\\Videos-to-analyze\\Toy_Light_CRE_WT_Gen_2.5_WT_P_Vs._Y_ONLY_2_5_25_S1_P_Y__1_2_3_4_Trial_1_bottom_right.mp4\n",
      "Saving filtered csv poses!\n",
      "Filtering with median model C:\\DeepLabCutProjects\\DLC-Atanu-2024-12-25\\Videos-to-analyze\\Toy_Light_CRE_WT_Gen_2.5_WT_P_Vs._Y_ONLY_2_5_25_S1_P_Y__1_2_3_4_Trial_1_top_left.mp4\n",
      "Saving filtered csv poses!\n",
      "Filtering with median model C:\\DeepLabCutProjects\\DLC-Atanu-2024-12-25\\Videos-to-analyze\\Toy_Light_CRE_WT_Gen_2.5_WT_P_Vs._Y_ONLY_2_5_25_S1_P_Y__1_2_3_4_Trial_1_top_right.mp4\n",
      "Saving filtered csv poses!\n",
      "Filtering with median model C:\\DeepLabCutProjects\\DLC-Atanu-2024-12-25\\Videos-to-analyze\\Toy_Light_CRE_WT_Gen_2.5_WT_P_Vs._Y_ONLY_2_5_25_S2_P_Y__5_6_7_8_Trial_1_bottom_left.mp4\n",
      "Saving filtered csv poses!\n",
      "Filtering with median model C:\\DeepLabCutProjects\\DLC-Atanu-2024-12-25\\Videos-to-analyze\\Toy_Light_CRE_WT_Gen_2.5_WT_P_Vs._Y_ONLY_2_5_25_S2_P_Y__5_6_7_8_Trial_1_bottom_right.mp4\n",
      "Saving filtered csv poses!\n",
      "Filtering with median model C:\\DeepLabCutProjects\\DLC-Atanu-2024-12-25\\Videos-to-analyze\\Toy_Light_CRE_WT_Gen_2.5_WT_P_Vs._Y_ONLY_2_5_25_S2_P_Y__5_6_7_8_Trial_1_top_left.mp4\n",
      "Saving filtered csv poses!\n",
      "Filtering with median model C:\\DeepLabCutProjects\\DLC-Atanu-2024-12-25\\Videos-to-analyze\\Toy_Light_CRE_WT_Gen_2.5_WT_P_Vs._Y_ONLY_2_5_25_S2_P_Y__5_6_7_8_Trial_1_top_right.mp4\n",
      "Saving filtered csv poses!\n",
      "Filtering with median model C:\\DeepLabCutProjects\\DLC-Atanu-2024-12-25\\Videos-to-analyze\\Toy_Light_CRE_WT_Gen_2.5_WT_P_Vs._Y_ONLY_2_5_25_S3_P_Y__9_10_None_3_None_4_Trial_1_bottom_left.mp4\n",
      "Saving filtered csv poses!\n",
      "Filtering with median model C:\\DeepLabCutProjects\\DLC-Atanu-2024-12-25\\Videos-to-analyze\\Toy_Light_CRE_WT_Gen_2.5_WT_P_Vs._Y_ONLY_2_5_25_S3_P_Y__9_10_None_3_None_4_Trial_1_bottom_right.mp4\n",
      "Saving filtered csv poses!\n",
      "Filtering with median model C:\\DeepLabCutProjects\\DLC-Atanu-2024-12-25\\Videos-to-analyze\\Toy_Light_CRE_WT_Gen_2.5_WT_P_Vs._Y_ONLY_2_5_25_S3_P_Y__9_10_None_3_None_4_Trial_1_top_left.mp4\n",
      "Saving filtered csv poses!\n",
      "Filtering with median model C:\\DeepLabCutProjects\\DLC-Atanu-2024-12-25\\Videos-to-analyze\\Toy_Light_CRE_WT_Gen_2.5_WT_P_Vs._Y_ONLY_2_5_25_S3_P_Y__9_10_None_3_None_4_Trial_1_top_right.mp4\n",
      "Saving filtered csv poses!\n",
      "Filtering with median model C:\\DeepLabCutProjects\\DLC-Atanu-2024-12-25\\Videos-to-analyze\\Toy_Light_CRE_WT_Gen_2.5_WT_P_Vs._Y_ONLY_2_7_25_S1_P_Y__1_2_3_4_Trial_1_bottom_left.mp4\n",
      "Saving filtered csv poses!\n",
      "Filtering with median model C:\\DeepLabCutProjects\\DLC-Atanu-2024-12-25\\Videos-to-analyze\\Toy_Light_CRE_WT_Gen_2.5_WT_P_Vs._Y_ONLY_2_7_25_S1_P_Y__1_2_3_4_Trial_1_bottom_right.mp4\n",
      "Saving filtered csv poses!\n",
      "Filtering with median model C:\\DeepLabCutProjects\\DLC-Atanu-2024-12-25\\Videos-to-analyze\\Toy_Light_CRE_WT_Gen_2.5_WT_P_Vs._Y_ONLY_2_7_25_S1_P_Y__1_2_3_4_Trial_1_top_left.mp4\n",
      "Saving filtered csv poses!\n",
      "Filtering with median model C:\\DeepLabCutProjects\\DLC-Atanu-2024-12-25\\Videos-to-analyze\\Toy_Light_CRE_WT_Gen_2.5_WT_P_Vs._Y_ONLY_2_7_25_S1_P_Y__1_2_3_4_Trial_1_top_right.mp4\n",
      "Saving filtered csv poses!\n",
      "Filtering with median model C:\\DeepLabCutProjects\\DLC-Atanu-2024-12-25\\Videos-to-analyze\\Toy_Light_CRE_WT_Gen_2.5_WT_P_Vs._Y_ONLY_2_7_25_S2_Y_P__5_6_7_8_Trial_1_bottom_left.mp4\n",
      "Saving filtered csv poses!\n",
      "Filtering with median model C:\\DeepLabCutProjects\\DLC-Atanu-2024-12-25\\Videos-to-analyze\\Toy_Light_CRE_WT_Gen_2.5_WT_P_Vs._Y_ONLY_2_7_25_S2_Y_P__5_6_7_8_Trial_1_bottom_right.mp4\n",
      "Saving filtered csv poses!\n",
      "Filtering with median model C:\\DeepLabCutProjects\\DLC-Atanu-2024-12-25\\Videos-to-analyze\\Toy_Light_CRE_WT_Gen_2.5_WT_P_Vs._Y_ONLY_2_7_25_S2_Y_P__5_6_7_8_Trial_1_top_left.mp4\n",
      "Saving filtered csv poses!\n",
      "Filtering with median model C:\\DeepLabCutProjects\\DLC-Atanu-2024-12-25\\Videos-to-analyze\\Toy_Light_CRE_WT_Gen_2.5_WT_P_Vs._Y_ONLY_2_7_25_S2_Y_P__5_6_7_8_Trial_1_top_right.mp4\n",
      "Saving filtered csv poses!\n",
      "Filtering with median model C:\\DeepLabCutProjects\\DLC-Atanu-2024-12-25\\Videos-to-analyze\\Toy_Light_CRE_WT_Gen_2.5_WT_P_Vs._Y_ONLY_2_7_25_S3_Y_P__9_10_None_3_None_4_Trial_1_bottom_left.mp4\n",
      "Saving filtered csv poses!\n",
      "Filtering with median model C:\\DeepLabCutProjects\\DLC-Atanu-2024-12-25\\Videos-to-analyze\\Toy_Light_CRE_WT_Gen_2.5_WT_P_Vs._Y_ONLY_2_7_25_S3_Y_P__9_10_None_3_None_4_Trial_1_bottom_right.mp4\n",
      "Saving filtered csv poses!\n",
      "Filtering with median model C:\\DeepLabCutProjects\\DLC-Atanu-2024-12-25\\Videos-to-analyze\\Toy_Light_CRE_WT_Gen_2.5_WT_P_Vs._Y_ONLY_2_7_25_S3_Y_P__9_10_None_3_None_4_Trial_1_top_left.mp4\n",
      "Saving filtered csv poses!\n",
      "Filtering with median model C:\\DeepLabCutProjects\\DLC-Atanu-2024-12-25\\Videos-to-analyze\\Toy_Light_CRE_WT_Gen_2.5_WT_P_Vs._Y_ONLY_2_7_25_S3_Y_P__9_10_None_3_None_4_Trial_1_top_right.mp4\n",
      "Saving filtered csv poses!\n",
      "Filtering with median model C:\\DeepLabCutProjects\\DLC-Atanu-2024-12-25\\Videos-to-analyze\\Toy_Light_CRE_WT_Gen_2_1st_Attempt_1_20_S1_Y_CNO__Austin_Houston_Toronto_Berlin_Trial_1_bottom_left.mp4\n",
      "Saving filtered csv poses!\n",
      "Filtering with median model C:\\DeepLabCutProjects\\DLC-Atanu-2024-12-25\\Videos-to-analyze\\Toy_Light_CRE_WT_Gen_2_1st_Attempt_1_20_S1_Y_CNO__Austin_Houston_Toronto_Berlin_Trial_1_bottom_right.mp4\n",
      "Saving filtered csv poses!\n",
      "Filtering with median model C:\\DeepLabCutProjects\\DLC-Atanu-2024-12-25\\Videos-to-analyze\\Toy_Light_CRE_WT_Gen_2_1st_Attempt_1_20_S1_Y_CNO__Austin_Houston_Toronto_Berlin_Trial_1_top_left.mp4\n",
      "Saving filtered csv poses!\n",
      "Filtering with median model C:\\DeepLabCutProjects\\DLC-Atanu-2024-12-25\\Videos-to-analyze\\Toy_Light_CRE_WT_Gen_2_1st_Attempt_1_20_S1_Y_CNO__Austin_Houston_Toronto_Berlin_Trial_1_top_right.mp4\n",
      "Saving filtered csv poses!\n",
      "Filtering with median model C:\\DeepLabCutProjects\\DLC-Atanu-2024-12-25\\Videos-to-analyze\\Toy_Light_CRE_WT_Gen_2_1st_Attempt_1_20_S2_Y_CNO__Denver_El_Paso_Waco_None_4_Trial_1_bottom_left.mp4\n",
      "Saving filtered csv poses!\n",
      "Filtering with median model C:\\DeepLabCutProjects\\DLC-Atanu-2024-12-25\\Videos-to-analyze\\Toy_Light_CRE_WT_Gen_2_1st_Attempt_1_20_S2_Y_CNO__Denver_El_Paso_Waco_None_4_Trial_1_bottom_right.mp4\n",
      "Saving filtered csv poses!\n",
      "Filtering with median model C:\\DeepLabCutProjects\\DLC-Atanu-2024-12-25\\Videos-to-analyze\\Toy_Light_CRE_WT_Gen_2_1st_Attempt_1_20_S2_Y_CNO__Denver_El_Paso_Waco_None_4_Trial_1_top_left.mp4\n",
      "Saving filtered csv poses!\n",
      "Filtering with median model C:\\DeepLabCutProjects\\DLC-Atanu-2024-12-25\\Videos-to-analyze\\Toy_Light_CRE_WT_Gen_2_1st_Attempt_1_20_S2_Y_CNO__Denver_El_Paso_Waco_None_4_Trial_1_top_right.mp4\n",
      "Saving filtered csv poses!\n",
      "Filtering with median model C:\\DeepLabCutProjects\\DLC-Atanu-2024-12-25\\Videos-to-analyze\\Toy_Light_CRE_WT_Gen_2_1st_Attempt_1_20_S3_Y_CNO__Lisbon_Nairobi_Rome_Venice_Trial_1_bottom_left.mp4\n",
      "Saving filtered csv poses!\n",
      "Filtering with median model C:\\DeepLabCutProjects\\DLC-Atanu-2024-12-25\\Videos-to-analyze\\Toy_Light_CRE_WT_Gen_2_1st_Attempt_1_20_S3_Y_CNO__Lisbon_Nairobi_Rome_Venice_Trial_1_bottom_right.mp4\n",
      "Saving filtered csv poses!\n",
      "Filtering with median model C:\\DeepLabCutProjects\\DLC-Atanu-2024-12-25\\Videos-to-analyze\\Toy_Light_CRE_WT_Gen_2_1st_Attempt_1_20_S3_Y_CNO__Lisbon_Nairobi_Rome_Venice_Trial_1_top_left.mp4\n",
      "Saving filtered csv poses!\n",
      "Filtering with median model C:\\DeepLabCutProjects\\DLC-Atanu-2024-12-25\\Videos-to-analyze\\Toy_Light_CRE_WT_Gen_2_1st_Attempt_1_20_S3_Y_CNO__Lisbon_Nairobi_Rome_Venice_Trial_1_top_right.mp4\n",
      "Saving filtered csv poses!\n",
      "Filtering with median model C:\\DeepLabCutProjects\\DLC-Atanu-2024-12-25\\Videos-to-analyze\\Toy_Light_CRE_WT_Gen_2_1st_Attempt_1_20_S4_Y_CNO__Paris_London_Phoenix_None_4_Trial_1_bottom_left.mp4\n",
      "Saving filtered csv poses!\n",
      "Filtering with median model C:\\DeepLabCutProjects\\DLC-Atanu-2024-12-25\\Videos-to-analyze\\Toy_Light_CRE_WT_Gen_2_1st_Attempt_1_20_S4_Y_CNO__Paris_London_Phoenix_None_4_Trial_1_bottom_right.mp4\n",
      "Saving filtered csv poses!\n",
      "Filtering with median model C:\\DeepLabCutProjects\\DLC-Atanu-2024-12-25\\Videos-to-analyze\\Toy_Light_CRE_WT_Gen_2_1st_Attempt_1_20_S4_Y_CNO__Paris_London_Phoenix_None_4_Trial_1_top_left.mp4\n",
      "Saving filtered csv poses!\n",
      "Filtering with median model C:\\DeepLabCutProjects\\DLC-Atanu-2024-12-25\\Videos-to-analyze\\Toy_Light_CRE_WT_Gen_2_1st_Attempt_1_20_S4_Y_CNO__Paris_London_Phoenix_None_4_Trial_1_top_right.mp4\n",
      "Saving filtered csv poses!\n",
      "Filtering with median model C:\\DeepLabCutProjects\\DLC-Atanu-2024-12-25\\Videos-to-analyze\\Toy_Light_CRE_WT_Gen_2_1st_Attempt_1_21_S1_P_CNO__Ft_Worth_Orlando_Tampa_Dallas_Trial_1_bottom_left.mp4\n",
      "Saving filtered csv poses!\n",
      "Filtering with median model C:\\DeepLabCutProjects\\DLC-Atanu-2024-12-25\\Videos-to-analyze\\Toy_Light_CRE_WT_Gen_2_1st_Attempt_1_21_S1_P_CNO__Ft_Worth_Orlando_Tampa_Dallas_Trial_1_bottom_right.mp4\n",
      "Saving filtered csv poses!\n",
      "Filtering with median model C:\\DeepLabCutProjects\\DLC-Atanu-2024-12-25\\Videos-to-analyze\\Toy_Light_CRE_WT_Gen_2_1st_Attempt_1_21_S1_P_CNO__Ft_Worth_Orlando_Tampa_Dallas_Trial_1_top_left.mp4\n",
      "Saving filtered csv poses!\n",
      "Filtering with median model C:\\DeepLabCutProjects\\DLC-Atanu-2024-12-25\\Videos-to-analyze\\Toy_Light_CRE_WT_Gen_2_1st_Attempt_1_21_S1_P_CNO__Ft_Worth_Orlando_Tampa_Dallas_Trial_1_top_right.mp4\n",
      "Saving filtered csv poses!\n",
      "Filtering with median model C:\\DeepLabCutProjects\\DLC-Atanu-2024-12-25\\Videos-to-analyze\\Toy_Light_CRE_WT_Gen_2_1st_Attempt_1_21_S2_P_CNO__LA_Seattle_Chicago_Las_Cruces_Trial_1_bottom_left.mp4\n",
      "Saving filtered csv poses!\n",
      "Filtering with median model C:\\DeepLabCutProjects\\DLC-Atanu-2024-12-25\\Videos-to-analyze\\Toy_Light_CRE_WT_Gen_2_1st_Attempt_1_21_S2_P_CNO__LA_Seattle_Chicago_Las_Cruces_Trial_1_bottom_right.mp4\n",
      "Saving filtered csv poses!\n",
      "Filtering with median model C:\\DeepLabCutProjects\\DLC-Atanu-2024-12-25\\Videos-to-analyze\\Toy_Light_CRE_WT_Gen_2_1st_Attempt_1_21_S2_P_CNO__LA_Seattle_Chicago_Las_Cruces_Trial_1_top_left.mp4\n",
      "Saving filtered csv poses!\n",
      "Filtering with median model C:\\DeepLabCutProjects\\DLC-Atanu-2024-12-25\\Videos-to-analyze\\Toy_Light_CRE_WT_Gen_2_1st_Attempt_1_21_S2_P_CNO__LA_Seattle_Chicago_Las_Cruces_Trial_1_top_right.mp4\n",
      "Saving filtered csv poses!\n",
      "Filtering with median model C:\\DeepLabCutProjects\\DLC-Atanu-2024-12-25\\Videos-to-analyze\\Toy_Light_CRE_WT_Gen_2_1st_Attempt_1_21_S3_P_CNO__Tokyo_Ruidoso_New_Orleans_Atlanta_Trial_1_bottom_left.mp4\n",
      "Saving filtered csv poses!\n",
      "Filtering with median model C:\\DeepLabCutProjects\\DLC-Atanu-2024-12-25\\Videos-to-analyze\\Toy_Light_CRE_WT_Gen_2_1st_Attempt_1_21_S3_P_CNO__Tokyo_Ruidoso_New_Orleans_Atlanta_Trial_1_bottom_right.mp4\n",
      "Saving filtered csv poses!\n",
      "Filtering with median model C:\\DeepLabCutProjects\\DLC-Atanu-2024-12-25\\Videos-to-analyze\\Toy_Light_CRE_WT_Gen_2_1st_Attempt_1_21_S3_P_CNO__Tokyo_Ruidoso_New_Orleans_Atlanta_Trial_1_top_left.mp4\n",
      "Saving filtered csv poses!\n",
      "Filtering with median model C:\\DeepLabCutProjects\\DLC-Atanu-2024-12-25\\Videos-to-analyze\\Toy_Light_CRE_WT_Gen_2_1st_Attempt_1_21_S3_P_CNO__Tokyo_Ruidoso_New_Orleans_Atlanta_Trial_1_top_right.mp4\n",
      "Saving filtered csv poses!\n",
      "Filtering with median model C:\\DeepLabCutProjects\\DLC-Atanu-2024-12-25\\Videos-to-analyze\\Toy_Light_CRE_WT_Gen_2_1st_Attempt_1_21_S4_P_CNO__New_York_New_Jersey_Trial_1_bottom_left.mp4\n",
      "Saving filtered csv poses!\n",
      "Filtering with median model C:\\DeepLabCutProjects\\DLC-Atanu-2024-12-25\\Videos-to-analyze\\Toy_Light_CRE_WT_Gen_2_1st_Attempt_1_21_S4_P_CNO__New_York_New_Jersey_Trial_1_bottom_right.mp4\n",
      "Saving filtered csv poses!\n",
      "Filtering with median model C:\\DeepLabCutProjects\\DLC-Atanu-2024-12-25\\Videos-to-analyze\\Toy_Light_CRE_WT_Gen_2_1st_Attempt_1_21_S4_P_CNO__New_York_New_Jersey_Trial_1_top_left.mp4\n",
      "Saving filtered csv poses!\n",
      "Filtering with median model C:\\DeepLabCutProjects\\DLC-Atanu-2024-12-25\\Videos-to-analyze\\Toy_Light_CRE_WT_Gen_2_1st_Attempt_1_21_S4_P_CNO__New_York_New_Jersey_Trial_1_top_right.mp4\n",
      "Saving filtered csv poses!\n",
      "Filtering with median model C:\\DeepLabCutProjects\\DLC-Atanu-2024-12-25\\Videos-to-analyze\\Toy_Light_CRE_WT_Gen_2_1st_Attempt_1_22_S1_P_CNO__A_B_C_F_Trial_1_bottom_left.mp4\n",
      "Saving filtered csv poses!\n",
      "Filtering with median model C:\\DeepLabCutProjects\\DLC-Atanu-2024-12-25\\Videos-to-analyze\\Toy_Light_CRE_WT_Gen_2_1st_Attempt_1_22_S1_P_CNO__A_B_C_F_Trial_1_bottom_right.mp4\n",
      "Saving filtered csv poses!\n",
      "Filtering with median model C:\\DeepLabCutProjects\\DLC-Atanu-2024-12-25\\Videos-to-analyze\\Toy_Light_CRE_WT_Gen_2_1st_Attempt_1_22_S1_P_CNO__A_B_C_F_Trial_1_top_left.mp4\n",
      "Saving filtered csv poses!\n",
      "Filtering with median model C:\\DeepLabCutProjects\\DLC-Atanu-2024-12-25\\Videos-to-analyze\\Toy_Light_CRE_WT_Gen_2_1st_Attempt_1_22_S1_P_CNO__A_B_C_F_Trial_1_top_right.mp4\n",
      "Saving filtered csv poses!\n",
      "Filtering with median model C:\\DeepLabCutProjects\\DLC-Atanu-2024-12-25\\Videos-to-analyze\\Toy_Light_CRE_WT_Gen_2_1st_Attempt_1_22_S2_P_CNO__E_L_G_H_Trial_1_bottom_left.mp4\n",
      "Saving filtered csv poses!\n",
      "Filtering with median model C:\\DeepLabCutProjects\\DLC-Atanu-2024-12-25\\Videos-to-analyze\\Toy_Light_CRE_WT_Gen_2_1st_Attempt_1_22_S2_P_CNO__E_L_G_H_Trial_1_bottom_right.mp4\n",
      "Saving filtered csv poses!\n",
      "Filtering with median model C:\\DeepLabCutProjects\\DLC-Atanu-2024-12-25\\Videos-to-analyze\\Toy_Light_CRE_WT_Gen_2_1st_Attempt_1_22_S2_P_CNO__E_L_G_H_Trial_1_top_left.mp4\n",
      "Saving filtered csv poses!\n",
      "Filtering with median model C:\\DeepLabCutProjects\\DLC-Atanu-2024-12-25\\Videos-to-analyze\\Toy_Light_CRE_WT_Gen_2_1st_Attempt_1_22_S2_P_CNO__E_L_G_H_Trial_1_top_right.mp4\n",
      "Saving filtered csv poses!\n",
      "Filtering with median model C:\\DeepLabCutProjects\\DLC-Atanu-2024-12-25\\Videos-to-analyze\\Toy_Light_CRE_WT_Gen_2_1st_Attempt_1_22_S3_P_CNO__I_J_K_O_Trial_1_bottom_left.mp4\n",
      "Saving filtered csv poses!\n",
      "Filtering with median model C:\\DeepLabCutProjects\\DLC-Atanu-2024-12-25\\Videos-to-analyze\\Toy_Light_CRE_WT_Gen_2_1st_Attempt_1_22_S3_P_CNO__I_J_K_O_Trial_1_bottom_right.mp4\n",
      "Saving filtered csv poses!\n",
      "Filtering with median model C:\\DeepLabCutProjects\\DLC-Atanu-2024-12-25\\Videos-to-analyze\\Toy_Light_CRE_WT_Gen_2_1st_Attempt_1_22_S3_P_CNO__I_J_K_O_Trial_1_top_left.mp4\n",
      "Saving filtered csv poses!\n",
      "Filtering with median model C:\\DeepLabCutProjects\\DLC-Atanu-2024-12-25\\Videos-to-analyze\\Toy_Light_CRE_WT_Gen_2_1st_Attempt_1_22_S3_P_CNO__I_J_K_O_Trial_1_top_right.mp4\n",
      "Saving filtered csv poses!\n",
      "Filtering with median model C:\\DeepLabCutProjects\\DLC-Atanu-2024-12-25\\Videos-to-analyze\\Toy_Light_CRE_WT_Gen_2_1st_Attempt_1_22_S4_P_CNO__M_P_Q_None_4_Trial_1_bottom_left.mp4\n",
      "Saving filtered csv poses!\n",
      "Filtering with median model C:\\DeepLabCutProjects\\DLC-Atanu-2024-12-25\\Videos-to-analyze\\Toy_Light_CRE_WT_Gen_2_1st_Attempt_1_22_S4_P_CNO__M_P_Q_None_4_Trial_1_bottom_right.mp4\n",
      "Saving filtered csv poses!\n",
      "Filtering with median model C:\\DeepLabCutProjects\\DLC-Atanu-2024-12-25\\Videos-to-analyze\\Toy_Light_CRE_WT_Gen_2_1st_Attempt_1_22_S4_P_CNO__M_P_Q_None_4_Trial_1_top_left.mp4\n",
      "Saving filtered csv poses!\n",
      "Filtering with median model C:\\DeepLabCutProjects\\DLC-Atanu-2024-12-25\\Videos-to-analyze\\Toy_Light_CRE_WT_Gen_2_1st_Attempt_1_22_S4_P_CNO__M_P_Q_None_4_Trial_1_top_right.mp4\n",
      "Saving filtered csv poses!\n",
      "Filtering with median model C:\\DeepLabCutProjects\\DLC-Atanu-2024-12-25\\Videos-to-analyze\\Toy_Light_CRE_WT_Gen_2_2nd_Attempt_1_28_25_S1_Y_CNO_Austin_Houston_Toronto_Berlin_Trial_1_bottom_left.mp4\n",
      "Saving filtered csv poses!\n",
      "Filtering with median model C:\\DeepLabCutProjects\\DLC-Atanu-2024-12-25\\Videos-to-analyze\\Toy_Light_CRE_WT_Gen_2_2nd_Attempt_1_28_25_S1_Y_CNO_Austin_Houston_Toronto_Berlin_Trial_1_bottom_right.mp4\n",
      "Saving filtered csv poses!\n",
      "Filtering with median model C:\\DeepLabCutProjects\\DLC-Atanu-2024-12-25\\Videos-to-analyze\\Toy_Light_CRE_WT_Gen_2_2nd_Attempt_1_28_25_S1_Y_CNO_Austin_Houston_Toronto_Berlin_Trial_1_top_left.mp4\n",
      "Saving filtered csv poses!\n",
      "Filtering with median model C:\\DeepLabCutProjects\\DLC-Atanu-2024-12-25\\Videos-to-analyze\\Toy_Light_CRE_WT_Gen_2_2nd_Attempt_1_28_25_S1_Y_CNO_Austin_Houston_Toronto_Berlin_Trial_1_top_right.mp4\n",
      "Saving filtered csv poses!\n",
      "Filtering with median model C:\\DeepLabCutProjects\\DLC-Atanu-2024-12-25\\Videos-to-analyze\\Toy_Light_CRE_WT_Gen_2_2nd_Attempt_1_28_25_S2_Y_CNO__Denver_El_Paso_Waco_None_4_Trial_1_bottom_left.mp4\n",
      "Saving filtered csv poses!\n",
      "Filtering with median model C:\\DeepLabCutProjects\\DLC-Atanu-2024-12-25\\Videos-to-analyze\\Toy_Light_CRE_WT_Gen_2_2nd_Attempt_1_28_25_S2_Y_CNO__Denver_El_Paso_Waco_None_4_Trial_1_bottom_right.mp4\n",
      "Saving filtered csv poses!\n",
      "Filtering with median model C:\\DeepLabCutProjects\\DLC-Atanu-2024-12-25\\Videos-to-analyze\\Toy_Light_CRE_WT_Gen_2_2nd_Attempt_1_28_25_S2_Y_CNO__Denver_El_Paso_Waco_None_4_Trial_1_top_left.mp4\n",
      "Saving filtered csv poses!\n",
      "Filtering with median model C:\\DeepLabCutProjects\\DLC-Atanu-2024-12-25\\Videos-to-analyze\\Toy_Light_CRE_WT_Gen_2_2nd_Attempt_1_28_25_S2_Y_CNO__Denver_El_Paso_Waco_None_4_Trial_1_top_right.mp4\n",
      "Saving filtered csv poses!\n",
      "Filtering with median model C:\\DeepLabCutProjects\\DLC-Atanu-2024-12-25\\Videos-to-analyze\\Toy_Light_CRE_WT_Gen_2_2nd_Attempt_1_28_25_S3_Y_CNO__Lisbon_Nairobi_Rome_Venice_Trial_1_bottom_left.mp4\n",
      "Saving filtered csv poses!\n",
      "Filtering with median model C:\\DeepLabCutProjects\\DLC-Atanu-2024-12-25\\Videos-to-analyze\\Toy_Light_CRE_WT_Gen_2_2nd_Attempt_1_28_25_S3_Y_CNO__Lisbon_Nairobi_Rome_Venice_Trial_1_bottom_right.mp4\n",
      "Saving filtered csv poses!\n",
      "Filtering with median model C:\\DeepLabCutProjects\\DLC-Atanu-2024-12-25\\Videos-to-analyze\\Toy_Light_CRE_WT_Gen_2_2nd_Attempt_1_28_25_S3_Y_CNO__Lisbon_Nairobi_Rome_Venice_Trial_1_top_left.mp4\n",
      "Saving filtered csv poses!\n",
      "Filtering with median model C:\\DeepLabCutProjects\\DLC-Atanu-2024-12-25\\Videos-to-analyze\\Toy_Light_CRE_WT_Gen_2_2nd_Attempt_1_28_25_S3_Y_CNO__Lisbon_Nairobi_Rome_Venice_Trial_1_top_right.mp4\n",
      "Saving filtered csv poses!\n",
      "Filtering with median model C:\\DeepLabCutProjects\\DLC-Atanu-2024-12-25\\Videos-to-analyze\\Toy_Light_CRE_WT_Gen_2_2nd_Attempt_1_28_25_S4_Y_CNO__Paris_London_Phoenix_None_4_Trial_1_bottom_left.mp4\n",
      "Saving filtered csv poses!\n",
      "Filtering with median model C:\\DeepLabCutProjects\\DLC-Atanu-2024-12-25\\Videos-to-analyze\\Toy_Light_CRE_WT_Gen_2_2nd_Attempt_1_28_25_S4_Y_CNO__Paris_London_Phoenix_None_4_Trial_1_bottom_right.mp4\n",
      "Saving filtered csv poses!\n",
      "Filtering with median model C:\\DeepLabCutProjects\\DLC-Atanu-2024-12-25\\Videos-to-analyze\\Toy_Light_CRE_WT_Gen_2_2nd_Attempt_1_28_25_S4_Y_CNO__Paris_London_Phoenix_None_4_Trial_1_top_left.mp4\n",
      "Saving filtered csv poses!\n",
      "Filtering with median model C:\\DeepLabCutProjects\\DLC-Atanu-2024-12-25\\Videos-to-analyze\\Toy_Light_CRE_WT_Gen_2_2nd_Attempt_1_28_25_S4_Y_CNO__Paris_London_Phoenix_None_4_Trial_1_top_right.mp4\n",
      "Saving filtered csv poses!\n",
      "Filtering with median model C:\\DeepLabCutProjects\\DLC-Atanu-2024-12-25\\Videos-to-analyze\\Toy_Light_CRE_WT_Gen_2_2nd_Attempt_1_29_25_S1_P_CNO__A_B_C_F_Trial_1_bottom_left.mp4\n",
      "Saving filtered csv poses!\n",
      "Filtering with median model C:\\DeepLabCutProjects\\DLC-Atanu-2024-12-25\\Videos-to-analyze\\Toy_Light_CRE_WT_Gen_2_2nd_Attempt_1_29_25_S1_P_CNO__A_B_C_F_Trial_1_bottom_right.mp4\n",
      "Saving filtered csv poses!\n",
      "Filtering with median model C:\\DeepLabCutProjects\\DLC-Atanu-2024-12-25\\Videos-to-analyze\\Toy_Light_CRE_WT_Gen_2_2nd_Attempt_1_29_25_S1_P_CNO__A_B_C_F_Trial_1_top_left.mp4\n",
      "Saving filtered csv poses!\n",
      "Filtering with median model C:\\DeepLabCutProjects\\DLC-Atanu-2024-12-25\\Videos-to-analyze\\Toy_Light_CRE_WT_Gen_2_2nd_Attempt_1_29_25_S1_P_CNO__A_B_C_F_Trial_1_top_right.mp4\n",
      "Saving filtered csv poses!\n",
      "Filtering with median model C:\\DeepLabCutProjects\\DLC-Atanu-2024-12-25\\Videos-to-analyze\\Toy_Light_CRE_WT_Gen_2_2nd_Attempt_1_29_25_S2_P_CNO__E_L_G_H_Trial_1_bottom_left.mp4\n",
      "Saving filtered csv poses!\n",
      "Filtering with median model C:\\DeepLabCutProjects\\DLC-Atanu-2024-12-25\\Videos-to-analyze\\Toy_Light_CRE_WT_Gen_2_2nd_Attempt_1_29_25_S2_P_CNO__E_L_G_H_Trial_1_bottom_right.mp4\n",
      "Saving filtered csv poses!\n",
      "Filtering with median model C:\\DeepLabCutProjects\\DLC-Atanu-2024-12-25\\Videos-to-analyze\\Toy_Light_CRE_WT_Gen_2_2nd_Attempt_1_29_25_S2_P_CNO__E_L_G_H_Trial_1_top_left.mp4\n",
      "Saving filtered csv poses!\n",
      "Filtering with median model C:\\DeepLabCutProjects\\DLC-Atanu-2024-12-25\\Videos-to-analyze\\Toy_Light_CRE_WT_Gen_2_2nd_Attempt_1_29_25_S2_P_CNO__E_L_G_H_Trial_1_top_right.mp4\n",
      "Saving filtered csv poses!\n",
      "Filtering with median model C:\\DeepLabCutProjects\\DLC-Atanu-2024-12-25\\Videos-to-analyze\\Toy_Light_CRE_WT_Gen_2_2nd_Attempt_1_29_25_S3_P_CNO__I_J_K_O_Trial_1_bottom_left.mp4\n",
      "Saving filtered csv poses!\n",
      "Filtering with median model C:\\DeepLabCutProjects\\DLC-Atanu-2024-12-25\\Videos-to-analyze\\Toy_Light_CRE_WT_Gen_2_2nd_Attempt_1_29_25_S3_P_CNO__I_J_K_O_Trial_1_bottom_right.mp4\n",
      "Saving filtered csv poses!\n",
      "Filtering with median model C:\\DeepLabCutProjects\\DLC-Atanu-2024-12-25\\Videos-to-analyze\\Toy_Light_CRE_WT_Gen_2_2nd_Attempt_1_29_25_S3_P_CNO__I_J_K_O_Trial_1_top_left.mp4\n",
      "Saving filtered csv poses!\n",
      "Filtering with median model C:\\DeepLabCutProjects\\DLC-Atanu-2024-12-25\\Videos-to-analyze\\Toy_Light_CRE_WT_Gen_2_2nd_Attempt_1_29_25_S3_P_CNO__I_J_K_O_Trial_1_top_right.mp4\n",
      "Saving filtered csv poses!\n",
      "Filtering with median model C:\\DeepLabCutProjects\\DLC-Atanu-2024-12-25\\Videos-to-analyze\\Toy_Light_CRE_WT_Gen_2_2nd_Attempt_1_29_25_S4_P_CNO__M_P_Q_None_4_Trial_1_bottom_left.mp4\n",
      "Saving filtered csv poses!\n",
      "Filtering with median model C:\\DeepLabCutProjects\\DLC-Atanu-2024-12-25\\Videos-to-analyze\\Toy_Light_CRE_WT_Gen_2_2nd_Attempt_1_29_25_S4_P_CNO__M_P_Q_None_4_Trial_1_bottom_right.mp4\n",
      "Saving filtered csv poses!\n",
      "Filtering with median model C:\\DeepLabCutProjects\\DLC-Atanu-2024-12-25\\Videos-to-analyze\\Toy_Light_CRE_WT_Gen_2_2nd_Attempt_1_29_25_S4_P_CNO__M_P_Q_None_4_Trial_1_top_left.mp4\n",
      "Saving filtered csv poses!\n",
      "Filtering with median model C:\\DeepLabCutProjects\\DLC-Atanu-2024-12-25\\Videos-to-analyze\\Toy_Light_CRE_WT_Gen_2_2nd_Attempt_1_29_25_S4_P_CNO__M_P_Q_None_4_Trial_1_top_right.mp4\n",
      "Saving filtered csv poses!\n",
      "Filtering with median model C:\\DeepLabCutProjects\\DLC-Atanu-2024-12-25\\Videos-to-analyze\\Toy_Light_CRE_WT_Gen_2_2nd_Attempt_1_30_25_S1_P_CNO__Ft_Worth_Orlando_Tampa_Dallas_Trial_1_bottom_left.mp4\n",
      "Saving filtered csv poses!\n",
      "Filtering with median model C:\\DeepLabCutProjects\\DLC-Atanu-2024-12-25\\Videos-to-analyze\\Toy_Light_CRE_WT_Gen_2_2nd_Attempt_1_30_25_S1_P_CNO__Ft_Worth_Orlando_Tampa_Dallas_Trial_1_bottom_right.mp4\n",
      "Saving filtered csv poses!\n",
      "Filtering with median model C:\\DeepLabCutProjects\\DLC-Atanu-2024-12-25\\Videos-to-analyze\\Toy_Light_CRE_WT_Gen_2_2nd_Attempt_1_30_25_S1_P_CNO__Ft_Worth_Orlando_Tampa_Dallas_Trial_1_top_left.mp4\n",
      "Saving filtered csv poses!\n",
      "Filtering with median model C:\\DeepLabCutProjects\\DLC-Atanu-2024-12-25\\Videos-to-analyze\\Toy_Light_CRE_WT_Gen_2_2nd_Attempt_1_30_25_S1_P_CNO__Ft_Worth_Orlando_Tampa_Dallas_Trial_1_top_right.mp4\n",
      "Saving filtered csv poses!\n",
      "Filtering with median model C:\\DeepLabCutProjects\\DLC-Atanu-2024-12-25\\Videos-to-analyze\\Toy_Light_CRE_WT_Gen_2_2nd_Attempt_1_30_25_S2_P_CNO__LA_Seattle_Chicago_Las_Cruces_Trial_1_bottom_left.mp4\n",
      "Saving filtered csv poses!\n",
      "Filtering with median model C:\\DeepLabCutProjects\\DLC-Atanu-2024-12-25\\Videos-to-analyze\\Toy_Light_CRE_WT_Gen_2_2nd_Attempt_1_30_25_S2_P_CNO__LA_Seattle_Chicago_Las_Cruces_Trial_1_bottom_right.mp4\n",
      "Saving filtered csv poses!\n",
      "Filtering with median model C:\\DeepLabCutProjects\\DLC-Atanu-2024-12-25\\Videos-to-analyze\\Toy_Light_CRE_WT_Gen_2_2nd_Attempt_1_30_25_S2_P_CNO__LA_Seattle_Chicago_Las_Cruces_Trial_1_top_left.mp4\n",
      "Saving filtered csv poses!\n",
      "Filtering with median model C:\\DeepLabCutProjects\\DLC-Atanu-2024-12-25\\Videos-to-analyze\\Toy_Light_CRE_WT_Gen_2_2nd_Attempt_1_30_25_S2_P_CNO__LA_Seattle_Chicago_Las_Cruces_Trial_1_top_right.mp4\n",
      "Saving filtered csv poses!\n",
      "Filtering with median model C:\\DeepLabCutProjects\\DLC-Atanu-2024-12-25\\Videos-to-analyze\\Toy_Light_CRE_WT_Gen_2_2nd_Attempt_1_30_25_S3_P_CNO__Tokyo_Ruidoso_New_Orleans_Atlanta_Trial_1_bottom_left.mp4\n",
      "Saving filtered csv poses!\n",
      "Filtering with median model C:\\DeepLabCutProjects\\DLC-Atanu-2024-12-25\\Videos-to-analyze\\Toy_Light_CRE_WT_Gen_2_2nd_Attempt_1_30_25_S3_P_CNO__Tokyo_Ruidoso_New_Orleans_Atlanta_Trial_1_bottom_right.mp4\n",
      "Saving filtered csv poses!\n",
      "Filtering with median model C:\\DeepLabCutProjects\\DLC-Atanu-2024-12-25\\Videos-to-analyze\\Toy_Light_CRE_WT_Gen_2_2nd_Attempt_1_30_25_S3_P_CNO__Tokyo_Ruidoso_New_Orleans_Atlanta_Trial_1_top_left.mp4\n",
      "Saving filtered csv poses!\n",
      "Filtering with median model C:\\DeepLabCutProjects\\DLC-Atanu-2024-12-25\\Videos-to-analyze\\Toy_Light_CRE_WT_Gen_2_2nd_Attempt_1_30_25_S3_P_CNO__Tokyo_Ruidoso_New_Orleans_Atlanta_Trial_1_top_right.mp4\n",
      "Saving filtered csv poses!\n",
      "Filtering with median model C:\\DeepLabCutProjects\\DLC-Atanu-2024-12-25\\Videos-to-analyze\\Toy_Light_CRE_WT_Gen_2_2nd_Attempt_1_30_25_S4_P_CNO__New_York_New_Jersey_Trial_1_bottom_left.mp4\n",
      "Saving filtered csv poses!\n",
      "Filtering with median model C:\\DeepLabCutProjects\\DLC-Atanu-2024-12-25\\Videos-to-analyze\\Toy_Light_CRE_WT_Gen_2_2nd_Attempt_1_30_25_S4_P_CNO__New_York_New_Jersey_Trial_1_bottom_right.mp4\n",
      "Saving filtered csv poses!\n",
      "Filtering with median model C:\\DeepLabCutProjects\\DLC-Atanu-2024-12-25\\Videos-to-analyze\\Toy_Light_CRE_WT_Gen_2_2nd_Attempt_1_30_25_S4_P_CNO__New_York_New_Jersey_Trial_1_top_left.mp4\n",
      "Saving filtered csv poses!\n",
      "Filtering with median model C:\\DeepLabCutProjects\\DLC-Atanu-2024-12-25\\Videos-to-analyze\\Toy_Light_CRE_WT_Gen_2_2nd_Attempt_1_30_25_S4_P_CNO__New_York_New_Jersey_Trial_1_top_right.mp4\n",
      "Saving filtered csv poses!\n",
      "Filtering with median model C:\\DeepLabCutProjects\\DLC-Atanu-2024-12-25\\Videos-to-analyze\\Toy_Light_CRE_WT_Gen_2_3rd_Attempt_2_3_25_S1_Y_CNO__Austin_Houston_Toronto_Berlin_Trial_1_bottom_left.mp4\n",
      "Saving filtered csv poses!\n",
      "Filtering with median model C:\\DeepLabCutProjects\\DLC-Atanu-2024-12-25\\Videos-to-analyze\\Toy_Light_CRE_WT_Gen_2_3rd_Attempt_2_3_25_S1_Y_CNO__Austin_Houston_Toronto_Berlin_Trial_1_bottom_right.mp4\n",
      "Saving filtered csv poses!\n",
      "Filtering with median model C:\\DeepLabCutProjects\\DLC-Atanu-2024-12-25\\Videos-to-analyze\\Toy_Light_CRE_WT_Gen_2_3rd_Attempt_2_3_25_S1_Y_CNO__Austin_Houston_Toronto_Berlin_Trial_1_top_left.mp4\n",
      "Saving filtered csv poses!\n",
      "Filtering with median model C:\\DeepLabCutProjects\\DLC-Atanu-2024-12-25\\Videos-to-analyze\\Toy_Light_CRE_WT_Gen_2_3rd_Attempt_2_3_25_S1_Y_CNO__Austin_Houston_Toronto_Berlin_Trial_1_top_right.mp4\n",
      "Saving filtered csv poses!\n",
      "Filtering with median model C:\\DeepLabCutProjects\\DLC-Atanu-2024-12-25\\Videos-to-analyze\\Toy_Light_CRE_WT_Gen_2_3rd_Attempt_2_3_25_S2_Y_CNO__Denver_El_Paso_Waco_None_4_Trial_1_bottom_left.mp4\n",
      "Saving filtered csv poses!\n",
      "Filtering with median model C:\\DeepLabCutProjects\\DLC-Atanu-2024-12-25\\Videos-to-analyze\\Toy_Light_CRE_WT_Gen_2_3rd_Attempt_2_3_25_S2_Y_CNO__Denver_El_Paso_Waco_None_4_Trial_1_bottom_right.mp4\n",
      "Saving filtered csv poses!\n",
      "Filtering with median model C:\\DeepLabCutProjects\\DLC-Atanu-2024-12-25\\Videos-to-analyze\\Toy_Light_CRE_WT_Gen_2_3rd_Attempt_2_3_25_S2_Y_CNO__Denver_El_Paso_Waco_None_4_Trial_1_top_left.mp4\n",
      "Saving filtered csv poses!\n",
      "Filtering with median model C:\\DeepLabCutProjects\\DLC-Atanu-2024-12-25\\Videos-to-analyze\\Toy_Light_CRE_WT_Gen_2_3rd_Attempt_2_3_25_S2_Y_CNO__Denver_El_Paso_Waco_None_4_Trial_1_top_right.mp4\n",
      "Saving filtered csv poses!\n",
      "Filtering with median model C:\\DeepLabCutProjects\\DLC-Atanu-2024-12-25\\Videos-to-analyze\\Toy_Light_CRE_WT_Gen_2_3rd_Attempt_2_3_25_S3_Y_CNO__Lisbon_Nairobi_Rome_Venice_Trial_1_bottom_left.mp4\n",
      "Saving filtered csv poses!\n",
      "Filtering with median model C:\\DeepLabCutProjects\\DLC-Atanu-2024-12-25\\Videos-to-analyze\\Toy_Light_CRE_WT_Gen_2_3rd_Attempt_2_3_25_S3_Y_CNO__Lisbon_Nairobi_Rome_Venice_Trial_1_bottom_right.mp4\n",
      "Saving filtered csv poses!\n",
      "Filtering with median model C:\\DeepLabCutProjects\\DLC-Atanu-2024-12-25\\Videos-to-analyze\\Toy_Light_CRE_WT_Gen_2_3rd_Attempt_2_3_25_S3_Y_CNO__Lisbon_Nairobi_Rome_Venice_Trial_1_top_left.mp4\n",
      "Saving filtered csv poses!\n",
      "Filtering with median model C:\\DeepLabCutProjects\\DLC-Atanu-2024-12-25\\Videos-to-analyze\\Toy_Light_CRE_WT_Gen_2_3rd_Attempt_2_3_25_S3_Y_CNO__Lisbon_Nairobi_Rome_Venice_Trial_1_top_right.mp4\n",
      "Saving filtered csv poses!\n",
      "Filtering with median model C:\\DeepLabCutProjects\\DLC-Atanu-2024-12-25\\Videos-to-analyze\\Toy_Light_CRE_WT_Gen_2_3rd_Attempt_2_3_25_S4_Y_CNO__Paris_London_Phoenix_None_4_Trial_1_bottom_left.mp4\n",
      "Saving filtered csv poses!\n",
      "Filtering with median model C:\\DeepLabCutProjects\\DLC-Atanu-2024-12-25\\Videos-to-analyze\\Toy_Light_CRE_WT_Gen_2_3rd_Attempt_2_3_25_S4_Y_CNO__Paris_London_Phoenix_None_4_Trial_1_bottom_right.mp4\n",
      "Saving filtered csv poses!\n",
      "Filtering with median model C:\\DeepLabCutProjects\\DLC-Atanu-2024-12-25\\Videos-to-analyze\\Toy_Light_CRE_WT_Gen_2_3rd_Attempt_2_3_25_S4_Y_CNO__Paris_London_Phoenix_None_4_Trial_1_top_left.mp4\n",
      "Saving filtered csv poses!\n",
      "Filtering with median model C:\\DeepLabCutProjects\\DLC-Atanu-2024-12-25\\Videos-to-analyze\\Toy_Light_CRE_WT_Gen_2_3rd_Attempt_2_3_25_S4_Y_CNO__Paris_London_Phoenix_None_4_Trial_1_top_right.mp4\n",
      "Saving filtered csv poses!\n",
      "Filtering with median model C:\\DeepLabCutProjects\\DLC-Atanu-2024-12-25\\Videos-to-analyze\\Toy_Light_CRE_WT_Gen_2_3rd_Attempt_2_4_25_S1_P_CNO__Ft_Worth_Orlando_Tampa_Dallas_Trial_1_bottom_left.mp4\n",
      "Saving filtered csv poses!\n",
      "Filtering with median model C:\\DeepLabCutProjects\\DLC-Atanu-2024-12-25\\Videos-to-analyze\\Toy_Light_CRE_WT_Gen_2_3rd_Attempt_2_4_25_S1_P_CNO__Ft_Worth_Orlando_Tampa_Dallas_Trial_1_bottom_right.mp4\n",
      "Saving filtered csv poses!\n",
      "Filtering with median model C:\\DeepLabCutProjects\\DLC-Atanu-2024-12-25\\Videos-to-analyze\\Toy_Light_CRE_WT_Gen_2_3rd_Attempt_2_4_25_S1_P_CNO__Ft_Worth_Orlando_Tampa_Dallas_Trial_1_top_left.mp4\n",
      "Saving filtered csv poses!\n",
      "Filtering with median model C:\\DeepLabCutProjects\\DLC-Atanu-2024-12-25\\Videos-to-analyze\\Toy_Light_CRE_WT_Gen_2_3rd_Attempt_2_4_25_S1_P_CNO__Ft_Worth_Orlando_Tampa_Dallas_Trial_1_top_right.mp4\n",
      "Saving filtered csv poses!\n",
      "Filtering with median model C:\\DeepLabCutProjects\\DLC-Atanu-2024-12-25\\Videos-to-analyze\\Toy_Light_CRE_WT_Gen_2_3rd_Attempt_2_4_25_S2_P_CNO__LA_Seattle_Chicago_Las_Cruces_Trial_1_bottom_left.mp4\n",
      "Saving filtered csv poses!\n",
      "Filtering with median model C:\\DeepLabCutProjects\\DLC-Atanu-2024-12-25\\Videos-to-analyze\\Toy_Light_CRE_WT_Gen_2_3rd_Attempt_2_4_25_S2_P_CNO__LA_Seattle_Chicago_Las_Cruces_Trial_1_bottom_right.mp4\n",
      "Saving filtered csv poses!\n",
      "Filtering with median model C:\\DeepLabCutProjects\\DLC-Atanu-2024-12-25\\Videos-to-analyze\\Toy_Light_CRE_WT_Gen_2_3rd_Attempt_2_4_25_S2_P_CNO__LA_Seattle_Chicago_Las_Cruces_Trial_1_top_left.mp4\n",
      "Saving filtered csv poses!\n",
      "Filtering with median model C:\\DeepLabCutProjects\\DLC-Atanu-2024-12-25\\Videos-to-analyze\\Toy_Light_CRE_WT_Gen_2_3rd_Attempt_2_4_25_S2_P_CNO__LA_Seattle_Chicago_Las_Cruces_Trial_1_top_right.mp4\n",
      "Saving filtered csv poses!\n",
      "Filtering with median model C:\\DeepLabCutProjects\\DLC-Atanu-2024-12-25\\Videos-to-analyze\\Toy_Light_CRE_WT_Gen_2_3rd_Attempt_2_4_25_S3_P_CNO__Tokyo_Ruidoso_New_Orleans_Atlanta_Trial_1_bottom_left.mp4\n",
      "Saving filtered csv poses!\n",
      "Filtering with median model C:\\DeepLabCutProjects\\DLC-Atanu-2024-12-25\\Videos-to-analyze\\Toy_Light_CRE_WT_Gen_2_3rd_Attempt_2_4_25_S3_P_CNO__Tokyo_Ruidoso_New_Orleans_Atlanta_Trial_1_bottom_right.mp4\n",
      "Saving filtered csv poses!\n",
      "Filtering with median model C:\\DeepLabCutProjects\\DLC-Atanu-2024-12-25\\Videos-to-analyze\\Toy_Light_CRE_WT_Gen_2_3rd_Attempt_2_4_25_S3_P_CNO__Tokyo_Ruidoso_New_Orleans_Atlanta_Trial_1_top_left.mp4\n",
      "Saving filtered csv poses!\n",
      "Filtering with median model C:\\DeepLabCutProjects\\DLC-Atanu-2024-12-25\\Videos-to-analyze\\Toy_Light_CRE_WT_Gen_2_3rd_Attempt_2_4_25_S3_P_CNO__Tokyo_Ruidoso_New_Orleans_Atlanta_Trial_1_top_right.mp4\n",
      "Saving filtered csv poses!\n",
      "Filtering with median model C:\\DeepLabCutProjects\\DLC-Atanu-2024-12-25\\Videos-to-analyze\\Toy_Light_CRE_WT_Gen_2_3rd_Attempt_2_4_25_S4_P_CNO__New_York_New_Jersey_Trial_1_bottom_left.mp4\n",
      "Saving filtered csv poses!\n",
      "Filtering with median model C:\\DeepLabCutProjects\\DLC-Atanu-2024-12-25\\Videos-to-analyze\\Toy_Light_CRE_WT_Gen_2_3rd_Attempt_2_4_25_S4_P_CNO__New_York_New_Jersey_Trial_1_bottom_right.mp4\n",
      "Saving filtered csv poses!\n",
      "Filtering with median model C:\\DeepLabCutProjects\\DLC-Atanu-2024-12-25\\Videos-to-analyze\\Toy_Light_CRE_WT_Gen_2_3rd_Attempt_2_4_25_S4_P_CNO__New_York_New_Jersey_Trial_1_top_left.mp4\n",
      "Saving filtered csv poses!\n",
      "Filtering with median model C:\\DeepLabCutProjects\\DLC-Atanu-2024-12-25\\Videos-to-analyze\\Toy_Light_CRE_WT_Gen_2_3rd_Attempt_2_4_25_S4_P_CNO__New_York_New_Jersey_Trial_1_top_right.mp4\n",
      "Saving filtered csv poses!\n",
      "Filtering with median model C:\\DeepLabCutProjects\\DLC-Atanu-2024-12-25\\Videos-to-analyze\\Toy_Light_CRE_WT_Gen_2_3rd_Attempt_2_5_25_S1_P_CNO__A_B_C_F_Trial_1_bottom_left.mp4\n",
      "Saving filtered csv poses!\n",
      "Filtering with median model C:\\DeepLabCutProjects\\DLC-Atanu-2024-12-25\\Videos-to-analyze\\Toy_Light_CRE_WT_Gen_2_3rd_Attempt_2_5_25_S1_P_CNO__A_B_C_F_Trial_1_bottom_right.mp4\n",
      "Saving filtered csv poses!\n",
      "Filtering with median model C:\\DeepLabCutProjects\\DLC-Atanu-2024-12-25\\Videos-to-analyze\\Toy_Light_CRE_WT_Gen_2_3rd_Attempt_2_5_25_S1_P_CNO__A_B_C_F_Trial_1_top_left.mp4\n",
      "Saving filtered csv poses!\n",
      "Filtering with median model C:\\DeepLabCutProjects\\DLC-Atanu-2024-12-25\\Videos-to-analyze\\Toy_Light_CRE_WT_Gen_2_3rd_Attempt_2_5_25_S1_P_CNO__A_B_C_F_Trial_1_top_right.mp4\n",
      "Saving filtered csv poses!\n",
      "Filtering with median model C:\\DeepLabCutProjects\\DLC-Atanu-2024-12-25\\Videos-to-analyze\\Toy_Light_CRE_WT_Gen_2_3rd_Attempt_2_5_25_S2_P_CNO__E_L_G_H_Trial_1_bottom_left.mp4\n",
      "Saving filtered csv poses!\n",
      "Filtering with median model C:\\DeepLabCutProjects\\DLC-Atanu-2024-12-25\\Videos-to-analyze\\Toy_Light_CRE_WT_Gen_2_3rd_Attempt_2_5_25_S2_P_CNO__E_L_G_H_Trial_1_bottom_right.mp4\n",
      "Saving filtered csv poses!\n",
      "Filtering with median model C:\\DeepLabCutProjects\\DLC-Atanu-2024-12-25\\Videos-to-analyze\\Toy_Light_CRE_WT_Gen_2_3rd_Attempt_2_5_25_S2_P_CNO__E_L_G_H_Trial_1_top_left.mp4\n",
      "Saving filtered csv poses!\n",
      "Filtering with median model C:\\DeepLabCutProjects\\DLC-Atanu-2024-12-25\\Videos-to-analyze\\Toy_Light_CRE_WT_Gen_2_3rd_Attempt_2_5_25_S2_P_CNO__E_L_G_H_Trial_1_top_right.mp4\n",
      "Saving filtered csv poses!\n",
      "Filtering with median model C:\\DeepLabCutProjects\\DLC-Atanu-2024-12-25\\Videos-to-analyze\\Toy_Light_CRE_WT_Gen_2_3rd_Attempt_2_5_25_S3_P_CNO__I_J_K_O_Trial_1_bottom_left.mp4\n",
      "Saving filtered csv poses!\n",
      "Filtering with median model C:\\DeepLabCutProjects\\DLC-Atanu-2024-12-25\\Videos-to-analyze\\Toy_Light_CRE_WT_Gen_2_3rd_Attempt_2_5_25_S3_P_CNO__I_J_K_O_Trial_1_bottom_right.mp4\n",
      "Saving filtered csv poses!\n",
      "Filtering with median model C:\\DeepLabCutProjects\\DLC-Atanu-2024-12-25\\Videos-to-analyze\\Toy_Light_CRE_WT_Gen_2_3rd_Attempt_2_5_25_S3_P_CNO__I_J_K_O_Trial_1_top_left.mp4\n",
      "Saving filtered csv poses!\n",
      "Filtering with median model C:\\DeepLabCutProjects\\DLC-Atanu-2024-12-25\\Videos-to-analyze\\Toy_Light_CRE_WT_Gen_2_3rd_Attempt_2_5_25_S3_P_CNO__I_J_K_O_Trial_1_top_right.mp4\n",
      "Saving filtered csv poses!\n",
      "Filtering with median model C:\\DeepLabCutProjects\\DLC-Atanu-2024-12-25\\Videos-to-analyze\\Toy_Light_CRE_WT_Gen_2_3rd_Attempt_2_5_25_S4_P_CNO__M_P_Q_None_4_Trial_1_bottom_left.mp4\n",
      "Saving filtered csv poses!\n",
      "Filtering with median model C:\\DeepLabCutProjects\\DLC-Atanu-2024-12-25\\Videos-to-analyze\\Toy_Light_CRE_WT_Gen_2_3rd_Attempt_2_5_25_S4_P_CNO__M_P_Q_None_4_Trial_1_bottom_right.mp4\n",
      "Saving filtered csv poses!\n",
      "Filtering with median model C:\\DeepLabCutProjects\\DLC-Atanu-2024-12-25\\Videos-to-analyze\\Toy_Light_CRE_WT_Gen_2_3rd_Attempt_2_5_25_S4_P_CNO__M_P_Q_None_4_Trial_1_top_left.mp4\n",
      "Saving filtered csv poses!\n",
      "Filtering with median model C:\\DeepLabCutProjects\\DLC-Atanu-2024-12-25\\Videos-to-analyze\\Toy_Light_CRE_WT_Gen_2_3rd_Attempt_2_5_25_S4_P_CNO__M_P_Q_None_4_Trial_1_top_right.mp4\n",
      "Saving filtered csv poses!\n",
      "Filtering with median model C:\\DeepLabCutProjects\\DLC-Atanu-2024-12-25\\Videos-to-analyze\\Toy_Light_CRE_WT_Gen_2_Inhibitory_+_Saline_3_7_25_S1_P_CNO__A_B_C_F_Trial_1_bottom_left.mp4\n",
      "Saving filtered csv poses!\n",
      "Filtering with median model C:\\DeepLabCutProjects\\DLC-Atanu-2024-12-25\\Videos-to-analyze\\Toy_Light_CRE_WT_Gen_2_Inhibitory_+_Saline_3_7_25_S1_P_CNO__A_B_C_F_Trial_1_bottom_right.mp4\n",
      "Saving filtered csv poses!\n",
      "Filtering with median model C:\\DeepLabCutProjects\\DLC-Atanu-2024-12-25\\Videos-to-analyze\\Toy_Light_CRE_WT_Gen_2_Inhibitory_+_Saline_3_7_25_S1_P_CNO__A_B_C_F_Trial_1_top_left.mp4\n",
      "Saving filtered csv poses!\n",
      "Filtering with median model C:\\DeepLabCutProjects\\DLC-Atanu-2024-12-25\\Videos-to-analyze\\Toy_Light_CRE_WT_Gen_2_Inhibitory_+_Saline_3_7_25_S1_P_CNO__A_B_C_F_Trial_1_top_right.mp4\n",
      "Saving filtered csv poses!\n",
      "Filtering with median model C:\\DeepLabCutProjects\\DLC-Atanu-2024-12-25\\Videos-to-analyze\\Toy_Light_CRE_WT_Gen_2_Inhibitory_+_Saline_3_7_25_S2_P_CNO__E_L_G_H_Trial_1_bottom_left.mp4\n",
      "Saving filtered csv poses!\n",
      "Filtering with median model C:\\DeepLabCutProjects\\DLC-Atanu-2024-12-25\\Videos-to-analyze\\Toy_Light_CRE_WT_Gen_2_Inhibitory_+_Saline_3_7_25_S2_P_CNO__E_L_G_H_Trial_1_bottom_right.mp4\n",
      "Saving filtered csv poses!\n",
      "Filtering with median model C:\\DeepLabCutProjects\\DLC-Atanu-2024-12-25\\Videos-to-analyze\\Toy_Light_CRE_WT_Gen_2_Inhibitory_+_Saline_3_7_25_S2_P_CNO__E_L_G_H_Trial_1_top_left.mp4\n",
      "Saving filtered csv poses!\n",
      "Filtering with median model C:\\DeepLabCutProjects\\DLC-Atanu-2024-12-25\\Videos-to-analyze\\Toy_Light_CRE_WT_Gen_2_Inhibitory_+_Saline_3_7_25_S2_P_CNO__E_L_G_H_Trial_1_top_right.mp4\n",
      "Saving filtered csv poses!\n",
      "Filtering with median model C:\\DeepLabCutProjects\\DLC-Atanu-2024-12-25\\Videos-to-analyze\\Toy_Light_CRE_WT_Gen_2_Inhibitory_+_Saline_3_7_25_S3_P_CNO__I_J_K_O_Trial_1_bottom_left.mp4\n",
      "Saving filtered csv poses!\n",
      "Filtering with median model C:\\DeepLabCutProjects\\DLC-Atanu-2024-12-25\\Videos-to-analyze\\Toy_Light_CRE_WT_Gen_2_Inhibitory_+_Saline_3_7_25_S3_P_CNO__I_J_K_O_Trial_1_bottom_right.mp4\n",
      "Saving filtered csv poses!\n",
      "Filtering with median model C:\\DeepLabCutProjects\\DLC-Atanu-2024-12-25\\Videos-to-analyze\\Toy_Light_CRE_WT_Gen_2_Inhibitory_+_Saline_3_7_25_S3_P_CNO__I_J_K_O_Trial_1_top_left.mp4\n",
      "Saving filtered csv poses!\n",
      "Filtering with median model C:\\DeepLabCutProjects\\DLC-Atanu-2024-12-25\\Videos-to-analyze\\Toy_Light_CRE_WT_Gen_2_Inhibitory_+_Saline_3_7_25_S3_P_CNO__I_J_K_O_Trial_1_top_right.mp4\n",
      "Saving filtered csv poses!\n",
      "Filtering with median model C:\\DeepLabCutProjects\\DLC-Atanu-2024-12-25\\Videos-to-analyze\\Toy_Light_CRE_WT_Gen_2_Inhibitory_+_Saline_3_7_25_S4_P_CNO__M_P_Q_None_4_Trial_1_bottom_left.mp4\n",
      "Saving filtered csv poses!\n",
      "Filtering with median model C:\\DeepLabCutProjects\\DLC-Atanu-2024-12-25\\Videos-to-analyze\\Toy_Light_CRE_WT_Gen_2_Inhibitory_+_Saline_3_7_25_S4_P_CNO__M_P_Q_None_4_Trial_1_bottom_right.mp4\n",
      "Saving filtered csv poses!\n",
      "Filtering with median model C:\\DeepLabCutProjects\\DLC-Atanu-2024-12-25\\Videos-to-analyze\\Toy_Light_CRE_WT_Gen_2_Inhibitory_+_Saline_3_7_25_S4_P_CNO__M_P_Q_None_4_Trial_1_top_left.mp4\n",
      "Saving filtered csv poses!\n",
      "Filtering with median model C:\\DeepLabCutProjects\\DLC-Atanu-2024-12-25\\Videos-to-analyze\\Toy_Light_CRE_WT_Gen_2_Inhibitory_+_Saline_3_7_25_S4_P_CNO__M_P_Q_None_4_Trial_1_top_right.mp4\n",
      "Saving filtered csv poses!\n",
      "Filtering with median model C:\\DeepLabCutProjects\\DLC-Atanu-2024-12-25\\Videos-to-analyze\\Toy_Light_CRE_WT_Gen_2_Repeat_WT_Y_CNO_2_24_25_S1_Y_CNO__Austin_Houston_Toronto_Berlin_Trial_1_bottom_left.mp4\n",
      "Saving filtered csv poses!\n",
      "Filtering with median model C:\\DeepLabCutProjects\\DLC-Atanu-2024-12-25\\Videos-to-analyze\\Toy_Light_CRE_WT_Gen_2_Repeat_WT_Y_CNO_2_24_25_S1_Y_CNO__Austin_Houston_Toronto_Berlin_Trial_1_bottom_right.mp4\n",
      "Saving filtered csv poses!\n",
      "Filtering with median model C:\\DeepLabCutProjects\\DLC-Atanu-2024-12-25\\Videos-to-analyze\\Toy_Light_CRE_WT_Gen_2_Repeat_WT_Y_CNO_2_24_25_S1_Y_CNO__Austin_Houston_Toronto_Berlin_Trial_1_top_left.mp4\n",
      "Saving filtered csv poses!\n",
      "Filtering with median model C:\\DeepLabCutProjects\\DLC-Atanu-2024-12-25\\Videos-to-analyze\\Toy_Light_CRE_WT_Gen_2_Repeat_WT_Y_CNO_2_24_25_S1_Y_CNO__Austin_Houston_Toronto_Berlin_Trial_1_top_right.mp4\n",
      "Saving filtered csv poses!\n",
      "Filtering with median model C:\\DeepLabCutProjects\\DLC-Atanu-2024-12-25\\Videos-to-analyze\\Toy_Light_CRE_WT_Gen_2_Repeat_WT_Y_CNO_2_24_25_S2_Y_CNO__Denver_El_Paso_Waco_None_3_Trial_1_bottom_left.mp4\n",
      "Saving filtered csv poses!\n",
      "Filtering with median model C:\\DeepLabCutProjects\\DLC-Atanu-2024-12-25\\Videos-to-analyze\\Toy_Light_CRE_WT_Gen_2_Repeat_WT_Y_CNO_2_24_25_S2_Y_CNO__Denver_El_Paso_Waco_None_3_Trial_1_bottom_right.mp4\n",
      "Saving filtered csv poses!\n",
      "Filtering with median model C:\\DeepLabCutProjects\\DLC-Atanu-2024-12-25\\Videos-to-analyze\\Toy_Light_CRE_WT_Gen_2_Repeat_WT_Y_CNO_2_24_25_S2_Y_CNO__Denver_El_Paso_Waco_None_3_Trial_1_top_left.mp4\n",
      "Saving filtered csv poses!\n",
      "Filtering with median model C:\\DeepLabCutProjects\\DLC-Atanu-2024-12-25\\Videos-to-analyze\\Toy_Light_CRE_WT_Gen_2_Repeat_WT_Y_CNO_2_24_25_S2_Y_CNO__Denver_El_Paso_Waco_None_3_Trial_1_top_right.mp4\n",
      "Saving filtered csv poses!\n",
      "Filtering with median model C:\\DeepLabCutProjects\\DLC-Atanu-2024-12-25\\Videos-to-analyze\\Toy_Light_CRE_WT_Gen_2_Repeat_WT_Y_CNO_2_24_25_S3_Y_CNO__Lisbon_Nirobi_Rome_Venice_Trial_1_bottom_left.mp4\n",
      "Saving filtered csv poses!\n",
      "Filtering with median model C:\\DeepLabCutProjects\\DLC-Atanu-2024-12-25\\Videos-to-analyze\\Toy_Light_CRE_WT_Gen_2_Repeat_WT_Y_CNO_2_24_25_S3_Y_CNO__Lisbon_Nirobi_Rome_Venice_Trial_1_bottom_right.mp4\n",
      "Saving filtered csv poses!\n",
      "Filtering with median model C:\\DeepLabCutProjects\\DLC-Atanu-2024-12-25\\Videos-to-analyze\\Toy_Light_CRE_WT_Gen_2_Repeat_WT_Y_CNO_2_24_25_S3_Y_CNO__Lisbon_Nirobi_Rome_Venice_Trial_1_top_left.mp4\n",
      "Saving filtered csv poses!\n",
      "Filtering with median model C:\\DeepLabCutProjects\\DLC-Atanu-2024-12-25\\Videos-to-analyze\\Toy_Light_CRE_WT_Gen_2_Repeat_WT_Y_CNO_2_24_25_S3_Y_CNO__Lisbon_Nirobi_Rome_Venice_Trial_1_top_right.mp4\n",
      "Saving filtered csv poses!\n",
      "Filtering with median model C:\\DeepLabCutProjects\\DLC-Atanu-2024-12-25\\Videos-to-analyze\\Toy_Light_CRE_WT_Gen_2_Repeat_WT_Y_CNO_2_24_25_S4_Y_CNO__Paris_London_Phoenix_None_4_Trial_1_bottom_left.mp4\n",
      "Saving filtered csv poses!\n",
      "Filtering with median model C:\\DeepLabCutProjects\\DLC-Atanu-2024-12-25\\Videos-to-analyze\\Toy_Light_CRE_WT_Gen_2_Repeat_WT_Y_CNO_2_24_25_S4_Y_CNO__Paris_London_Phoenix_None_4_Trial_1_bottom_right.mp4\n",
      "Saving filtered csv poses!\n",
      "Filtering with median model C:\\DeepLabCutProjects\\DLC-Atanu-2024-12-25\\Videos-to-analyze\\Toy_Light_CRE_WT_Gen_2_Repeat_WT_Y_CNO_2_24_25_S4_Y_CNO__Paris_London_Phoenix_None_4_Trial_1_top_left.mp4\n",
      "Saving filtered csv poses!\n",
      "Filtering with median model C:\\DeepLabCutProjects\\DLC-Atanu-2024-12-25\\Videos-to-analyze\\Toy_Light_CRE_WT_Gen_2_Repeat_WT_Y_CNO_2_24_25_S4_Y_CNO__Paris_London_Phoenix_None_4_Trial_1_top_right.mp4\n",
      "Saving filtered csv poses!\n"
     ]
    }
   ],
   "source": [
    "deeplabcut.filterpredictions(config_path, new_videos, shuffle=1, save_as_csv=True, videotype='mp4', destfolder = 'C:/DeepLabCutProjects/DLC-Atanu-2024-12-25/Analyzed-videos/')"
   ]
  },
  {
   "cell_type": "code",
   "execution_count": 32,
   "metadata": {},
   "outputs": [
    {
     "name": "stdout",
     "output_type": "stream",
     "text": [
      "Starting to process video: C:/DeepLabCutProjects/DLC-Atanu-2024-12-25/videos/Trial_10_top_left.mp4\n",
      "Loading C:/DeepLabCutProjects/DLC-Atanu-2024-12-25/videos/Trial_10_top_left.mp4 and data.\n",
      "Duration of video [s]: 37.6, recorded with 10.0 fps!\n",
      "Overall # of frames: 376 with cropped frame dimensions: 640 480\n",
      "Generating frames and creating video.\n"
     ]
    },
    {
     "name": "stderr",
     "output_type": "stream",
     "text": [
      "100%|██████████| 376/376 [00:00<00:00, 656.87it/s]\n"
     ]
    },
    {
     "data": {
      "text/plain": [
       "[True]"
      ]
     },
     "execution_count": 32,
     "metadata": {},
     "output_type": "execute_result"
    }
   ],
   "source": [
    "deeplabcut.create_labeled_video(config_path, new_videos, filtered=True, videotype = 'mp4', save_frames=True, destfolder='C:/DeepLabCutProjects/DLC-Atanu-2024-12-25/videos/')"
   ]
  },
  {
   "cell_type": "markdown",
   "metadata": {},
   "source": [
    "### Extract outlier frames"
   ]
  },
  {
   "cell_type": "markdown",
   "metadata": {},
   "source": [
    "Now this is the interesting part. Instead of including more videos to the project directly, and extracting frames as usual with kmeans, we are taking advantage of the previous model to tell us what frames exactly to label. This active learning step helps us recognize the shortcomings of our model and correct it in a targeted manner."
   ]
  },
  {
   "cell_type": "code",
   "execution_count": 33,
   "metadata": {
    "collapsed": true,
    "jupyter": {
     "outputs_hidden": true
    }
   },
   "outputs": [
    {
     "name": "stdout",
     "output_type": "stream",
     "text": [
      "Method  jump  found  84  putative outlier frames.\n",
      "Do you want to proceed with extracting  20  of those?\n",
      "If this list is very large, perhaps consider changing the parameters (start, stop, p_bound, comparisonbodyparts) or use a different method.\n",
      "Loading video...\n",
      "Cropping coords: None\n",
      "Duration of video [s]:  37.6 , recorded @  10.0 fps!\n",
      "Overall # of frames:  376 with (cropped) frame dimensions: \n",
      "Kmeans-quantization based extracting of frames from 0.0  seconds to 37.6  seconds.\n",
      "Extracting and downsampling... 84  frames from the video.\n"
     ]
    },
    {
     "name": "stderr",
     "output_type": "stream",
     "text": [
      "84it [00:00, 221.57it/s]\n"
     ]
    },
    {
     "name": "stdout",
     "output_type": "stream",
     "text": [
      "Kmeans clustering ... (this might take a while)\n",
      "Let's select frames indices: [48, 150, 174, 179, 86, 26, 194, 265, 2, 108, 185, 104, 173, 243, 35, 21, 105, 200, 56, 314]\n",
      "Attempting to create a symbolic link of the video ...\n",
      "Video C:\\DeepLabCutProjects\\DLC-Atanu-2024-12-25\\videos\\Trial_10_top_left.mp4 already exists. Skipping...\n",
      "New videos were added to the project! Use the function 'extract_frames' to select frames for labeling.\n",
      "The outlier frames are extracted. They are stored in the subdirectory labeled-data\\Trial_10_top_left.\n",
      "Once you extracted frames for all videos, use 'refine_labels' to manually correct the labels.\n"
     ]
    }
   ],
   "source": [
    "deeplabcut.extract_outlier_frames(config_path, new_videos, automatic=True)"
   ]
  },
  {
   "cell_type": "markdown",
   "metadata": {},
   "source": [
    "Now that we have extracted new frames, we need to go back and start labeling. Instead of starting from the beginning, though, we are provided the model predictions and have to drag and drop them in place. **Note:** Make sure to remove labels that are not visible, the model will often guess the expected position based on learned geometric constraints. "
   ]
  },
  {
   "cell_type": "code",
   "execution_count": 62,
   "metadata": {},
   "outputs": [
    {
     "name": "stderr",
     "output_type": "stream",
     "text": [
      "WARNING: QWindowsWindow::setGeometry: Unable to set geometry 1408x749+0+23 (frame: 1424x788-8-8) on QWidgetWindow/\"_QtMainWindowClassWindow\" on \"\\\\.\\DISPLAY209\". Resulting geometry: 1180x749+0+23 (frame: 1196x788-8-8) margins: 8, 31, 8, 8 minimum size: 1408x599 MINMAXINFO(maxSize=POINT(x=0, y=0), maxpos=POINT(x=0, y=0), maxtrack=POINT(x=0, y=0), mintrack=POINT(x=1424, y=638)))\n",
      "WARNING:vispy:QWindowsWindow::setGeometry: Unable to set geometry 1408x749+0+23 (frame: 1424x788-8-8) on QWidgetWindow/\"_QtMainWindowClassWindow\" on \"\\\\.\\DISPLAY209\". Resulting geometry: 1180x749+0+23 (frame: 1196x788-8-8) margins: 8, 31, 8, 8 minimum size: 1408x599 MINMAXINFO(maxSize=POINT(x=0, y=0), maxpos=POINT(x=0, y=0), maxtrack=POINT(x=0, y=0), mintrack=POINT(x=1424, y=638)))\n"
     ]
    }
   ],
   "source": [
    "deeplabcut.refine_labels(config_path )"
   ]
  },
  {
   "cell_type": "markdown",
   "metadata": {},
   "source": [
    "You can again plot your labeled frames to check annotation accuracy."
   ]
  },
  {
   "cell_type": "code",
   "execution_count": 37,
   "metadata": {},
   "outputs": [
    {
     "name": "stdout",
     "output_type": "stream",
     "text": [
      "Creating images with labels by Atanu.\n"
     ]
    },
    {
     "name": "stderr",
     "output_type": "stream",
     "text": [
      "100%|██████████| 20/20 [00:02<00:00,  8.84it/s]"
     ]
    },
    {
     "name": "stdout",
     "output_type": "stream",
     "text": [
      "Attention: C:/DeepLabCutProjects/DLC-Atanu-2024-12-25\\labeled-data\\Trial_10_bottom_left does not appear to have labeled data!\n",
      "If all the labels are ok, then use the function 'create_training_dataset' to create the training dataset!\n"
     ]
    },
    {
     "name": "stderr",
     "output_type": "stream",
     "text": [
      "\n"
     ]
    }
   ],
   "source": [
    "deeplabcut.check_labels(config_path)"
   ]
  },
  {
   "cell_type": "markdown",
   "metadata": {},
   "source": [
    "At this point you could get an error message like [this](https://github.com/DeepLabCut/DeepLabCut/issues/232) telling you that saving the video path failed. In this case, you need to add the new video paths manually for DLC to include these in the new training set. You can either add them by hand, writing in the config.yaml file in the same format as the first video paths (see [here](https://github.com/DeepLabCut/DeepLabCut/issues/663#issuecomment-619274975)), or you can run the following command to add the list of videos to your config file:"
   ]
  },
  {
   "cell_type": "code",
   "execution_count": 21,
   "metadata": {
    "collapsed": true,
    "jupyter": {
     "outputs_hidden": true
    },
    "scrolled": true
   },
   "outputs": [
    {
     "name": "stdout",
     "output_type": "stream",
     "text": [
      "Config file read successfully.\n",
      "Extracting frames based on kmeans ...\n",
      "Kmeans-quantization based extracting of frames from 0.0  seconds to 1200.68  seconds.\n",
      "Extracting and downsampling... 30017  frames from the video.\n"
     ]
    },
    {
     "name": "stderr",
     "output_type": "stream",
     "text": [
      "30017it [00:28, 1070.61it/s]\n",
      "C:\\Users\\FriedmanLab Optogen\\.conda\\envs\\DLC\\lib\\site-packages\\sklearn\\cluster\\_kmeans.py:1934: FutureWarning: The default value of `n_init` will change from 3 to 'auto' in 1.4. Set the value of `n_init` explicitly to suppress the warning\n",
      "  super()._check_params_vs_input(X, default_n_init=3)\n"
     ]
    },
    {
     "name": "stdout",
     "output_type": "stream",
     "text": [
      "Kmeans clustering ... (this might take a while)\n",
      "Extracting frames based on kmeans ...\n",
      "Kmeans-quantization based extracting of frames from 0.0  seconds to 1200.68  seconds.\n",
      "Extracting and downsampling... 30017  frames from the video.\n"
     ]
    },
    {
     "name": "stderr",
     "output_type": "stream",
     "text": [
      "30017it [00:28, 1059.89it/s]\n"
     ]
    },
    {
     "name": "stdout",
     "output_type": "stream",
     "text": [
      "Kmeans clustering ... (this might take a while)\n"
     ]
    },
    {
     "name": "stderr",
     "output_type": "stream",
     "text": [
      "C:\\Users\\FriedmanLab Optogen\\.conda\\envs\\DLC\\lib\\site-packages\\sklearn\\cluster\\_kmeans.py:1934: FutureWarning: The default value of `n_init` will change from 3 to 'auto' in 1.4. Set the value of `n_init` explicitly to suppress the warning\n",
      "  super()._check_params_vs_input(X, default_n_init=3)\n"
     ]
    },
    {
     "name": "stdout",
     "output_type": "stream",
     "text": [
      "Extracting frames based on kmeans ...\n",
      "Kmeans-quantization based extracting of frames from 0.0  seconds to 695.9  seconds.\n",
      "Extracting and downsampling... 6959  frames from the video.\n"
     ]
    },
    {
     "name": "stderr",
     "output_type": "stream",
     "text": [
      "6959it [00:16, 413.81it/s]\n",
      "C:\\Users\\FriedmanLab Optogen\\.conda\\envs\\DLC\\lib\\site-packages\\sklearn\\cluster\\_kmeans.py:1934: FutureWarning: The default value of `n_init` will change from 3 to 'auto' in 1.4. Set the value of `n_init` explicitly to suppress the warning\n",
      "  super()._check_params_vs_input(X, default_n_init=3)\n"
     ]
    },
    {
     "name": "stdout",
     "output_type": "stream",
     "text": [
      "Kmeans clustering ... (this might take a while)\n",
      "Extracting frames based on kmeans ...\n",
      "Kmeans-quantization based extracting of frames from 0.0  seconds to 695.9  seconds.\n",
      "Extracting and downsampling... 6959  frames from the video.\n"
     ]
    },
    {
     "name": "stderr",
     "output_type": "stream",
     "text": [
      "6959it [00:16, 424.57it/s]\n",
      "C:\\Users\\FriedmanLab Optogen\\.conda\\envs\\DLC\\lib\\site-packages\\sklearn\\cluster\\_kmeans.py:1934: FutureWarning: The default value of `n_init` will change from 3 to 'auto' in 1.4. Set the value of `n_init` explicitly to suppress the warning\n",
      "  super()._check_params_vs_input(X, default_n_init=3)\n"
     ]
    },
    {
     "name": "stdout",
     "output_type": "stream",
     "text": [
      "Kmeans clustering ... (this might take a while)\n",
      "Extracting frames based on kmeans ...\n",
      "Kmeans-quantization based extracting of frames from 0.0  seconds to 1200.64  seconds.\n",
      "Extracting and downsampling... 30016  frames from the video.\n"
     ]
    },
    {
     "name": "stderr",
     "output_type": "stream",
     "text": [
      "30016it [00:28, 1059.75it/s]\n",
      "C:\\Users\\FriedmanLab Optogen\\.conda\\envs\\DLC\\lib\\site-packages\\sklearn\\cluster\\_kmeans.py:1934: FutureWarning: The default value of `n_init` will change from 3 to 'auto' in 1.4. Set the value of `n_init` explicitly to suppress the warning\n",
      "  super()._check_params_vs_input(X, default_n_init=3)\n"
     ]
    },
    {
     "name": "stdout",
     "output_type": "stream",
     "text": [
      "Kmeans clustering ... (this might take a while)\n",
      "Frames were successfully extracted, for the videos listed in the config.yaml file.\n",
      "\n",
      "You can now label the frames using the function 'label_frames' (Note, you should label frames extracted from diverse videos (and many videos; we do not recommend training on single videos!)).\n",
      "New videos were added to the project and frames have been extracted for labeling!\n"
     ]
    }
   ],
   "source": [
    "deeplabcut.add_new_videos(config_path, new_videos, copy_videos=True, extract_frames=True)\n",
    "# copy_videos=True. From some tutorial"
   ]
  },
  {
   "cell_type": "markdown",
   "metadata": {},
   "source": [
    "If the permission error persists, try starting a new anaconda terminal as administrator (right click > run as administrator) and then starting jupyter notebook with elevated privileges."
   ]
  },
  {
   "cell_type": "markdown",
   "metadata": {},
   "source": [
    "### Merge Datasets"
   ]
  },
  {
   "cell_type": "markdown",
   "metadata": {},
   "source": [
    "After refining all outlier frames extracted above, merge the datasets to combine old and new labels in your project. "
   ]
  },
  {
   "cell_type": "code",
   "execution_count": 15,
   "metadata": {},
   "outputs": [
    {
     "name": "stdout",
     "output_type": "stream",
     "text": [
      "Merged data sets and updated refinement iteration to 3.\n",
      "Now you can create a new training set for the expanded annotated images (use create_training_dataset).\n"
     ]
    }
   ],
   "source": [
    "deeplabcut.merge_datasets(config_path)"
   ]
  },
  {
   "cell_type": "code",
   "execution_count": 13,
   "metadata": {},
   "outputs": [],
   "source": [
    "deeplabcut.merge_datasets?"
   ]
  },
  {
   "cell_type": "code",
   "execution_count": 44,
   "metadata": {},
   "outputs": [
    {
     "name": "stdout",
     "output_type": "stream",
     "text": [
      "Creating images with labels by Atanu.\n"
     ]
    },
    {
     "name": "stderr",
     "output_type": "stream",
     "text": [
      "100%|██████████| 20/20 [00:02<00:00,  8.84it/s]\n"
     ]
    },
    {
     "name": "stdout",
     "output_type": "stream",
     "text": [
      "Attention: C:/DeepLabCutProjects/DLC-Atanu-2024-12-25\\labeled-data\\Trial_10_bottom_left does not appear to have labeled data!\n"
     ]
    },
    {
     "name": "stderr",
     "output_type": "stream",
     "text": [
      "100%|██████████| 20/20 [00:01<00:00, 10.20it/s]"
     ]
    },
    {
     "name": "stdout",
     "output_type": "stream",
     "text": [
      "If all the labels are ok, then use the function 'create_training_dataset' to create the training dataset!\n"
     ]
    },
    {
     "name": "stderr",
     "output_type": "stream",
     "text": [
      "\n"
     ]
    }
   ],
   "source": [
    "deeplabcut.check_labels(config_path)"
   ]
  },
  {
   "cell_type": "code",
   "execution_count": 70,
   "metadata": {},
   "outputs": [
    {
     "name": "stdout",
     "output_type": "stream",
     "text": [
      "The training dataset is successfully created. Use the function 'train_network' to start training. Happy training!\n"
     ]
    },
    {
     "data": {
      "text/plain": [
       "[(0.95,\n",
       "  1,\n",
       "  (array([147,  35, 105, 108,  85,  69,  96,  46,  62,  23,  47,  28,  82,\n",
       "           56,  81,   9, 123,  53, 149, 145,  21,  30, 127,  97, 121,  73,\n",
       "          130,  86, 124,  15,  76,  16,  38,  32,  94, 100,  72, 151,  39,\n",
       "           93,  78,  41,  68, 113,   6, 114,  14,  50,  87, 146,  26,  22,\n",
       "           42,  64, 134, 118,  24,  74,  91,  84,  66, 111,  57,  67,  19,\n",
       "          139,  83, 133,  92, 116,  51,   7,  34,  43,  80, 117,   8,  20,\n",
       "          110, 115, 129, 120,  44, 109,  98,   5,   0,  90,  54,  95,  49,\n",
       "           10,  60, 126, 131,  58, 144, 138, 119,  71, 136,  27,   1, 137,\n",
       "          103, 102,  52,  75,   2,  77,  99, 104,  55, 140,  29,  17,  79,\n",
       "          106, 112,  48,  13,  36, 122,  45, 143,  11, 148,  63,  88,  70,\n",
       "          132, 142,  89, 135, 101,   3,  61, 141,  25,  40,  65, 125,  18,\n",
       "           31]),\n",
       "   array([107,  12, 150,  59,   4, 128,  33,  37])))]"
      ]
     },
     "execution_count": 70,
     "metadata": {},
     "output_type": "execute_result"
    }
   ],
   "source": [
    "deeplabcut.create_training_dataset(config_path, net_type='resnet_50', augmenter_type='imgaug')"
   ]
  },
  {
   "cell_type": "markdown",
   "metadata": {},
   "source": [
    "**Note:** Make sure that the new videos have been included in the config.yaml file without permission issues (see above)."
   ]
  },
  {
   "cell_type": "markdown",
   "metadata": {},
   "source": [
    "### Re-Train Network"
   ]
  },
  {
   "cell_type": "markdown",
   "metadata": {},
   "source": [
    "When training a new model with an expanded dataset, you could either choose to start fresh with new data, or use the previous model as pre-trained network for your next model. Although not yet extensively verified, lets belief that transfer learning at least won't harm the new model. "
   ]
  },
  {
   "cell_type": "code",
   "execution_count": 42,
   "metadata": {
    "scrolled": true
   },
   "outputs": [
    {
     "name": "stdout",
     "output_type": "stream",
     "text": [
      "Please edit init_weights to include the path to the last pre-trained model...\n"
     ]
    }
   ],
   "source": [
    "pose_cfg =  filedialog.askopenfilename(title='Choose DeepLabCut pose_cfg.yaml file from dlc-models:')\n",
    "import webbrowser\n",
    "webbrowser.open(pose_cfg)\n",
    "print('Please edit init_weights to include the path to the last pre-trained model...')"
   ]
  },
  {
   "cell_type": "code",
   "execution_count": null,
   "metadata": {},
   "outputs": [],
   "source": [
    "# Example of own pre-trained model\n",
    "init_weights: D:\\FacialExpression\\old-DLC-Project\\dlc-models\\iteration-0\\DLCApr14-trainset95shuffle1\\train\\snapshot-1030000"
   ]
  },
  {
   "cell_type": "code",
   "execution_count": 71,
   "metadata": {
    "collapsed": true,
    "jupyter": {
     "outputs_hidden": true
    },
    "scrolled": true
   },
   "outputs": [
    {
     "name": "stderr",
     "output_type": "stream",
     "text": [
      "Config:\n",
      "{'all_joints': [[0], [1], [2], [3]],\n",
      " 'all_joints_names': ['Head', 'Leftear', 'Rightear', 'Tailbase'],\n",
      " 'alpha_r': 0.02,\n",
      " 'apply_prob': 0.5,\n",
      " 'batch_size': 1,\n",
      " 'contrast': {'clahe': True,\n",
      "              'claheratio': 0.1,\n",
      "              'histeq': True,\n",
      "              'histeqratio': 0.1},\n",
      " 'convolution': {'edge': False,\n",
      "                 'emboss': {'alpha': [0.0, 1.0], 'strength': [0.5, 1.5]},\n",
      "                 'embossratio': 0.1,\n",
      "                 'sharpen': False,\n",
      "                 'sharpenratio': 0.3},\n",
      " 'crop_pad': 0,\n",
      " 'cropratio': 0.4,\n",
      " 'dataset': 'training-datasets\\\\iteration-1\\\\UnaugmentedDataSet_DLCDec25\\\\DLC_Atanu95shuffle1.mat',\n",
      " 'dataset_type': 'imgaug',\n",
      " 'decay_steps': 30000,\n",
      " 'deterministic': False,\n",
      " 'display_iters': 1000,\n",
      " 'fg_fraction': 0.25,\n",
      " 'global_scale': 0.8,\n",
      " 'init_weights': 'C:\\\\Users\\\\FriedmanLab '\n",
      "                 'Optogen\\\\.conda\\\\envs\\\\DLC\\\\lib\\\\site-packages\\\\deeplabcut\\\\pose_estimation_tensorflow\\\\models\\\\pretrained\\\\resnet_v1_50.ckpt',\n",
      " 'intermediate_supervision': False,\n",
      " 'intermediate_supervision_layer': 12,\n",
      " 'location_refinement': True,\n",
      " 'locref_huber_loss': True,\n",
      " 'locref_loss_weight': 0.05,\n",
      " 'locref_stdev': 7.2801,\n",
      " 'log_dir': 'log',\n",
      " 'lr_init': 0.0005,\n",
      " 'max_input_size': 1500,\n",
      " 'mean_pixel': [123.68, 116.779, 103.939],\n",
      " 'metadataset': 'training-datasets\\\\iteration-1\\\\UnaugmentedDataSet_DLCDec25\\\\Documentation_data-DLC_95shuffle1.pickle',\n",
      " 'min_input_size': 64,\n",
      " 'mirror': False,\n",
      " 'multi_stage': False,\n",
      " 'multi_step': [[0.005, 10000],\n",
      "                [0.02, 430000],\n",
      "                [0.002, 730000],\n",
      "                [0.001, 1030000]],\n",
      " 'net_type': 'resnet_50',\n",
      " 'num_joints': 4,\n",
      " 'optimizer': 'sgd',\n",
      " 'pairwise_huber_loss': False,\n",
      " 'pairwise_predict': False,\n",
      " 'partaffinityfield_predict': False,\n",
      " 'pos_dist_thresh': 17,\n",
      " 'project_path': 'C:/DeepLabCutProjects/DLC-Atanu-2024-12-25',\n",
      " 'regularize': False,\n",
      " 'rotation': 25,\n",
      " 'rotratio': 0.4,\n",
      " 'save_iters': 50000,\n",
      " 'scale_jitter_lo': 0.5,\n",
      " 'scale_jitter_up': 1.25,\n",
      " 'scoremap_dir': 'test',\n",
      " 'shuffle': True,\n",
      " 'snapshot_prefix': 'C:\\\\DeepLabCutProjects\\\\DLC-Atanu-2024-12-25\\\\dlc-models\\\\iteration-1\\\\DLCDec25-trainset95shuffle1\\\\train\\\\snapshot',\n",
      " 'stride': 8.0,\n",
      " 'weigh_negatives': False,\n",
      " 'weigh_only_present_joints': False,\n",
      " 'weigh_part_predictions': False,\n",
      " 'weight_decay': 0.0001}\n"
     ]
    },
    {
     "name": "stdout",
     "output_type": "stream",
     "text": [
      "Selecting single-animal trainer\n",
      "Batch Size is 1\n"
     ]
    },
    {
     "name": "stderr",
     "output_type": "stream",
     "text": [
      "C:\\Users\\FriedmanLab Optogen\\.conda\\envs\\DLC\\lib\\site-packages\\tensorflow\\python\\keras\\engine\\base_layer_v1.py:1694: UserWarning: `layer.apply` is deprecated and will be removed in a future version. Please use `layer.__call__` method instead.\n",
      "  warnings.warn('`layer.apply` is deprecated and '\n"
     ]
    },
    {
     "name": "stdout",
     "output_type": "stream",
     "text": [
      "Loading ImageNet-pretrained resnet_50\n",
      "Display_iters overwritten as 100\n",
      "Save_iters overwritten as 1000\n",
      "Training parameter:\n",
      "{'stride': 8.0, 'weigh_part_predictions': False, 'weigh_negatives': False, 'fg_fraction': 0.25, 'mean_pixel': [123.68, 116.779, 103.939], 'shuffle': True, 'snapshot_prefix': 'C:\\\\DeepLabCutProjects\\\\DLC-Atanu-2024-12-25\\\\dlc-models\\\\iteration-1\\\\DLCDec25-trainset95shuffle1\\\\train\\\\snapshot', 'log_dir': 'log', 'global_scale': 0.8, 'location_refinement': True, 'locref_stdev': 7.2801, 'locref_loss_weight': 0.05, 'locref_huber_loss': True, 'optimizer': 'sgd', 'intermediate_supervision': False, 'intermediate_supervision_layer': 12, 'regularize': False, 'weight_decay': 0.0001, 'crop_pad': 0, 'scoremap_dir': 'test', 'batch_size': 1, 'dataset_type': 'imgaug', 'deterministic': False, 'mirror': False, 'pairwise_huber_loss': False, 'weigh_only_present_joints': False, 'partaffinityfield_predict': False, 'pairwise_predict': False, 'all_joints': [[0], [1], [2], [3]], 'all_joints_names': ['Head', 'Leftear', 'Rightear', 'Tailbase'], 'alpha_r': 0.02, 'apply_prob': 0.5, 'contrast': {'clahe': True, 'claheratio': 0.1, 'histeq': True, 'histeqratio': 0.1, 'gamma': False, 'sigmoid': False, 'log': False, 'linear': False}, 'convolution': {'edge': False, 'emboss': {'alpha': [0.0, 1.0], 'strength': [0.5, 1.5]}, 'embossratio': 0.1, 'sharpen': False, 'sharpenratio': 0.3}, 'cropratio': 0.4, 'dataset': 'training-datasets\\\\iteration-1\\\\UnaugmentedDataSet_DLCDec25\\\\DLC_Atanu95shuffle1.mat', 'decay_steps': 30000, 'display_iters': 1000, 'init_weights': 'C:\\\\Users\\\\FriedmanLab Optogen\\\\.conda\\\\envs\\\\DLC\\\\lib\\\\site-packages\\\\deeplabcut\\\\pose_estimation_tensorflow\\\\models\\\\pretrained\\\\resnet_v1_50.ckpt', 'lr_init': 0.0005, 'max_input_size': 1500, 'metadataset': 'training-datasets\\\\iteration-1\\\\UnaugmentedDataSet_DLCDec25\\\\Documentation_data-DLC_95shuffle1.pickle', 'min_input_size': 64, 'multi_stage': False, 'multi_step': [[0.005, 10000], [0.02, 430000], [0.002, 730000], [0.001, 1030000]], 'net_type': 'resnet_50', 'num_joints': 4, 'pos_dist_thresh': 17, 'project_path': 'C:/DeepLabCutProjects/DLC-Atanu-2024-12-25', 'rotation': 25, 'rotratio': 0.4, 'save_iters': 50000, 'scale_jitter_lo': 0.5, 'scale_jitter_up': 1.25, 'covering': True, 'elastic_transform': True, 'motion_blur': True, 'motion_blur_params': {'k': 7, 'angle': (-90, 90)}}\n",
      "Starting training....\n"
     ]
    },
    {
     "name": "stderr",
     "output_type": "stream",
     "text": [
      "iteration: 100 loss: 0.0645 lr: 0.005\n",
      "iteration: 200 loss: 0.0290 lr: 0.005\n",
      "iteration: 300 loss: 0.0286 lr: 0.005\n",
      "iteration: 400 loss: 0.0266 lr: 0.005\n",
      "iteration: 500 loss: 0.0251 lr: 0.005\n",
      "iteration: 600 loss: 0.0247 lr: 0.005\n",
      "iteration: 700 loss: 0.0228 lr: 0.005\n",
      "iteration: 800 loss: 0.0229 lr: 0.005\n",
      "iteration: 900 loss: 0.0224 lr: 0.005\n"
     ]
    },
    {
     "ename": "KeyboardInterrupt",
     "evalue": "",
     "output_type": "error",
     "traceback": [
      "\u001b[1;31m---------------------------------------------------------------------------\u001b[0m",
      "\u001b[1;31mKeyboardInterrupt\u001b[0m                         Traceback (most recent call last)",
      "Cell \u001b[1;32mIn[71], line 1\u001b[0m\n\u001b[1;32m----> 1\u001b[0m \u001b[43mdeeplabcut\u001b[49m\u001b[38;5;241;43m.\u001b[39;49m\u001b[43mtrain_network\u001b[49m\u001b[43m(\u001b[49m\u001b[43mconfig_path\u001b[49m\u001b[43m,\u001b[49m\u001b[43m \u001b[49m\u001b[43mshuffle\u001b[49m\u001b[38;5;241;43m=\u001b[39;49m\u001b[38;5;241;43m1\u001b[39;49m\u001b[43m,\u001b[49m\u001b[43m \u001b[49m\u001b[43mdisplayiters\u001b[49m\u001b[38;5;241;43m=\u001b[39;49m\u001b[38;5;241;43m100\u001b[39;49m\u001b[43m,\u001b[49m\u001b[43m \u001b[49m\u001b[43msaveiters\u001b[49m\u001b[38;5;241;43m=\u001b[39;49m\u001b[38;5;241;43m1000\u001b[39;49m\u001b[43m)\u001b[49m\n",
      "File \u001b[1;32m~\\.conda\\envs\\DLC\\lib\\site-packages\\deeplabcut\\pose_estimation_tensorflow\\training.py:284\u001b[0m, in \u001b[0;36mtrain_network\u001b[1;34m(config, shuffle, trainingsetindex, max_snapshots_to_keep, displayiters, saveiters, maxiters, allow_growth, gputouse, autotune, keepdeconvweights, modelprefix, superanimal_name, superanimal_transfer_learning)\u001b[0m\n\u001b[0;32m    273\u001b[0m         train(\n\u001b[0;32m    274\u001b[0m             \u001b[38;5;28mstr\u001b[39m(poseconfigfile),\n\u001b[0;32m    275\u001b[0m             displayiters,\n\u001b[1;32m   (...)\u001b[0m\n\u001b[0;32m    280\u001b[0m             allow_growth\u001b[38;5;241m=\u001b[39mallow_growth,\n\u001b[0;32m    281\u001b[0m         )  \u001b[38;5;66;03m# pass on path and file name for pose_cfg.yaml!\u001b[39;00m\n\u001b[0;32m    283\u001b[0m \u001b[38;5;28;01mexcept\u001b[39;00m \u001b[38;5;167;01mBaseException\u001b[39;00m \u001b[38;5;28;01mas\u001b[39;00m e:\n\u001b[1;32m--> 284\u001b[0m     \u001b[38;5;28;01mraise\u001b[39;00m e\n\u001b[0;32m    285\u001b[0m \u001b[38;5;28;01mfinally\u001b[39;00m:\n\u001b[0;32m    286\u001b[0m     os\u001b[38;5;241m.\u001b[39mchdir(\u001b[38;5;28mstr\u001b[39m(start_path))\n",
      "File \u001b[1;32m~\\.conda\\envs\\DLC\\lib\\site-packages\\deeplabcut\\pose_estimation_tensorflow\\training.py:273\u001b[0m, in \u001b[0;36mtrain_network\u001b[1;34m(config, shuffle, trainingsetindex, max_snapshots_to_keep, displayiters, saveiters, maxiters, allow_growth, gputouse, autotune, keepdeconvweights, modelprefix, superanimal_name, superanimal_transfer_learning)\u001b[0m\n\u001b[0;32m    270\u001b[0m         \u001b[38;5;28;01mfrom\u001b[39;00m \u001b[38;5;21;01mdeeplabcut\u001b[39;00m\u001b[38;5;21;01m.\u001b[39;00m\u001b[38;5;21;01mpose_estimation_tensorflow\u001b[39;00m\u001b[38;5;21;01m.\u001b[39;00m\u001b[38;5;21;01mcore\u001b[39;00m\u001b[38;5;21;01m.\u001b[39;00m\u001b[38;5;21;01mtrain\u001b[39;00m \u001b[38;5;28;01mimport\u001b[39;00m train\n\u001b[0;32m    272\u001b[0m         \u001b[38;5;28mprint\u001b[39m(\u001b[38;5;124m\"\u001b[39m\u001b[38;5;124mSelecting single-animal trainer\u001b[39m\u001b[38;5;124m\"\u001b[39m)\n\u001b[1;32m--> 273\u001b[0m         \u001b[43mtrain\u001b[49m\u001b[43m(\u001b[49m\n\u001b[0;32m    274\u001b[0m \u001b[43m            \u001b[49m\u001b[38;5;28;43mstr\u001b[39;49m\u001b[43m(\u001b[49m\u001b[43mposeconfigfile\u001b[49m\u001b[43m)\u001b[49m\u001b[43m,\u001b[49m\n\u001b[0;32m    275\u001b[0m \u001b[43m            \u001b[49m\u001b[43mdisplayiters\u001b[49m\u001b[43m,\u001b[49m\n\u001b[0;32m    276\u001b[0m \u001b[43m            \u001b[49m\u001b[43msaveiters\u001b[49m\u001b[43m,\u001b[49m\n\u001b[0;32m    277\u001b[0m \u001b[43m            \u001b[49m\u001b[43mmaxiters\u001b[49m\u001b[43m,\u001b[49m\n\u001b[0;32m    278\u001b[0m \u001b[43m            \u001b[49m\u001b[43mmax_to_keep\u001b[49m\u001b[38;5;241;43m=\u001b[39;49m\u001b[43mmax_snapshots_to_keep\u001b[49m\u001b[43m,\u001b[49m\n\u001b[0;32m    279\u001b[0m \u001b[43m            \u001b[49m\u001b[43mkeepdeconvweights\u001b[49m\u001b[38;5;241;43m=\u001b[39;49m\u001b[43mkeepdeconvweights\u001b[49m\u001b[43m,\u001b[49m\n\u001b[0;32m    280\u001b[0m \u001b[43m            \u001b[49m\u001b[43mallow_growth\u001b[49m\u001b[38;5;241;43m=\u001b[39;49m\u001b[43mallow_growth\u001b[49m\u001b[43m,\u001b[49m\n\u001b[0;32m    281\u001b[0m \u001b[43m        \u001b[49m\u001b[43m)\u001b[49m  \u001b[38;5;66;03m# pass on path and file name for pose_cfg.yaml!\u001b[39;00m\n\u001b[0;32m    283\u001b[0m \u001b[38;5;28;01mexcept\u001b[39;00m \u001b[38;5;167;01mBaseException\u001b[39;00m \u001b[38;5;28;01mas\u001b[39;00m e:\n\u001b[0;32m    284\u001b[0m     \u001b[38;5;28;01mraise\u001b[39;00m e\n",
      "File \u001b[1;32m~\\.conda\\envs\\DLC\\lib\\site-packages\\deeplabcut\\pose_estimation_tensorflow\\core\\train.py:287\u001b[0m, in \u001b[0;36mtrain\u001b[1;34m(config_yaml, displayiters, saveiters, maxiters, max_to_keep, keepdeconvweights, allow_growth)\u001b[0m\n\u001b[0;32m    284\u001b[0m     current_lr \u001b[38;5;241m=\u001b[39m lr_gen\u001b[38;5;241m.\u001b[39mget_lr(it \u001b[38;5;241m-\u001b[39m start_iter)\n\u001b[0;32m    285\u001b[0m     lr_dict \u001b[38;5;241m=\u001b[39m {learning_rate: current_lr}\n\u001b[1;32m--> 287\u001b[0m [_, loss_val, summary] \u001b[38;5;241m=\u001b[39m \u001b[43msess\u001b[49m\u001b[38;5;241;43m.\u001b[39;49m\u001b[43mrun\u001b[49m\u001b[43m(\u001b[49m\n\u001b[0;32m    288\u001b[0m \u001b[43m    \u001b[49m\u001b[43m[\u001b[49m\u001b[43mtrain_op\u001b[49m\u001b[43m,\u001b[49m\u001b[43m \u001b[49m\u001b[43mtotal_loss\u001b[49m\u001b[43m,\u001b[49m\u001b[43m \u001b[49m\u001b[43mmerged_summaries\u001b[49m\u001b[43m]\u001b[49m\u001b[43m,\u001b[49m\u001b[43m \u001b[49m\u001b[43mfeed_dict\u001b[49m\u001b[38;5;241;43m=\u001b[39;49m\u001b[43mlr_dict\u001b[49m\n\u001b[0;32m    289\u001b[0m \u001b[43m\u001b[49m\u001b[43m)\u001b[49m\n\u001b[0;32m    290\u001b[0m cum_loss \u001b[38;5;241m+\u001b[39m\u001b[38;5;241m=\u001b[39m loss_val\n\u001b[0;32m    291\u001b[0m train_writer\u001b[38;5;241m.\u001b[39madd_summary(summary, it)\n",
      "File \u001b[1;32m~\\.conda\\envs\\DLC\\lib\\site-packages\\tensorflow\\python\\client\\session.py:968\u001b[0m, in \u001b[0;36mBaseSession.run\u001b[1;34m(self, fetches, feed_dict, options, run_metadata)\u001b[0m\n\u001b[0;32m    965\u001b[0m run_metadata_ptr \u001b[38;5;241m=\u001b[39m tf_session\u001b[38;5;241m.\u001b[39mTF_NewBuffer() \u001b[38;5;28;01mif\u001b[39;00m run_metadata \u001b[38;5;28;01melse\u001b[39;00m \u001b[38;5;28;01mNone\u001b[39;00m\n\u001b[0;32m    967\u001b[0m \u001b[38;5;28;01mtry\u001b[39;00m:\n\u001b[1;32m--> 968\u001b[0m   result \u001b[38;5;241m=\u001b[39m \u001b[38;5;28;43mself\u001b[39;49m\u001b[38;5;241;43m.\u001b[39;49m\u001b[43m_run\u001b[49m\u001b[43m(\u001b[49m\u001b[38;5;28;43;01mNone\u001b[39;49;00m\u001b[43m,\u001b[49m\u001b[43m \u001b[49m\u001b[43mfetches\u001b[49m\u001b[43m,\u001b[49m\u001b[43m \u001b[49m\u001b[43mfeed_dict\u001b[49m\u001b[43m,\u001b[49m\u001b[43m \u001b[49m\u001b[43moptions_ptr\u001b[49m\u001b[43m,\u001b[49m\n\u001b[0;32m    969\u001b[0m \u001b[43m                     \u001b[49m\u001b[43mrun_metadata_ptr\u001b[49m\u001b[43m)\u001b[49m\n\u001b[0;32m    970\u001b[0m   \u001b[38;5;28;01mif\u001b[39;00m run_metadata:\n\u001b[0;32m    971\u001b[0m     proto_data \u001b[38;5;241m=\u001b[39m tf_session\u001b[38;5;241m.\u001b[39mTF_GetBuffer(run_metadata_ptr)\n",
      "File \u001b[1;32m~\\.conda\\envs\\DLC\\lib\\site-packages\\tensorflow\\python\\client\\session.py:1191\u001b[0m, in \u001b[0;36mBaseSession._run\u001b[1;34m(self, handle, fetches, feed_dict, options, run_metadata)\u001b[0m\n\u001b[0;32m   1188\u001b[0m \u001b[38;5;66;03m# We only want to really perform the run if fetches or targets are provided,\u001b[39;00m\n\u001b[0;32m   1189\u001b[0m \u001b[38;5;66;03m# or if the call is a partial run that specifies feeds.\u001b[39;00m\n\u001b[0;32m   1190\u001b[0m \u001b[38;5;28;01mif\u001b[39;00m final_fetches \u001b[38;5;129;01mor\u001b[39;00m final_targets \u001b[38;5;129;01mor\u001b[39;00m (handle \u001b[38;5;129;01mand\u001b[39;00m feed_dict_tensor):\n\u001b[1;32m-> 1191\u001b[0m   results \u001b[38;5;241m=\u001b[39m \u001b[38;5;28;43mself\u001b[39;49m\u001b[38;5;241;43m.\u001b[39;49m\u001b[43m_do_run\u001b[49m\u001b[43m(\u001b[49m\u001b[43mhandle\u001b[49m\u001b[43m,\u001b[49m\u001b[43m \u001b[49m\u001b[43mfinal_targets\u001b[49m\u001b[43m,\u001b[49m\u001b[43m \u001b[49m\u001b[43mfinal_fetches\u001b[49m\u001b[43m,\u001b[49m\n\u001b[0;32m   1192\u001b[0m \u001b[43m                         \u001b[49m\u001b[43mfeed_dict_tensor\u001b[49m\u001b[43m,\u001b[49m\u001b[43m \u001b[49m\u001b[43moptions\u001b[49m\u001b[43m,\u001b[49m\u001b[43m \u001b[49m\u001b[43mrun_metadata\u001b[49m\u001b[43m)\u001b[49m\n\u001b[0;32m   1193\u001b[0m \u001b[38;5;28;01melse\u001b[39;00m:\n\u001b[0;32m   1194\u001b[0m   results \u001b[38;5;241m=\u001b[39m []\n",
      "File \u001b[1;32m~\\.conda\\envs\\DLC\\lib\\site-packages\\tensorflow\\python\\client\\session.py:1371\u001b[0m, in \u001b[0;36mBaseSession._do_run\u001b[1;34m(self, handle, target_list, fetch_list, feed_dict, options, run_metadata)\u001b[0m\n\u001b[0;32m   1368\u001b[0m   \u001b[38;5;28;01mreturn\u001b[39;00m \u001b[38;5;28mself\u001b[39m\u001b[38;5;241m.\u001b[39m_call_tf_sessionprun(handle, feed_dict, fetch_list)\n\u001b[0;32m   1370\u001b[0m \u001b[38;5;28;01mif\u001b[39;00m handle \u001b[38;5;129;01mis\u001b[39;00m \u001b[38;5;28;01mNone\u001b[39;00m:\n\u001b[1;32m-> 1371\u001b[0m   \u001b[38;5;28;01mreturn\u001b[39;00m \u001b[38;5;28;43mself\u001b[39;49m\u001b[38;5;241;43m.\u001b[39;49m\u001b[43m_do_call\u001b[49m\u001b[43m(\u001b[49m\u001b[43m_run_fn\u001b[49m\u001b[43m,\u001b[49m\u001b[43m \u001b[49m\u001b[43mfeeds\u001b[49m\u001b[43m,\u001b[49m\u001b[43m \u001b[49m\u001b[43mfetches\u001b[49m\u001b[43m,\u001b[49m\u001b[43m \u001b[49m\u001b[43mtargets\u001b[49m\u001b[43m,\u001b[49m\u001b[43m \u001b[49m\u001b[43moptions\u001b[49m\u001b[43m,\u001b[49m\n\u001b[0;32m   1372\u001b[0m \u001b[43m                       \u001b[49m\u001b[43mrun_metadata\u001b[49m\u001b[43m)\u001b[49m\n\u001b[0;32m   1373\u001b[0m \u001b[38;5;28;01melse\u001b[39;00m:\n\u001b[0;32m   1374\u001b[0m   \u001b[38;5;28;01mreturn\u001b[39;00m \u001b[38;5;28mself\u001b[39m\u001b[38;5;241m.\u001b[39m_do_call(_prun_fn, handle, feeds, fetches)\n",
      "File \u001b[1;32m~\\.conda\\envs\\DLC\\lib\\site-packages\\tensorflow\\python\\client\\session.py:1378\u001b[0m, in \u001b[0;36mBaseSession._do_call\u001b[1;34m(self, fn, *args)\u001b[0m\n\u001b[0;32m   1376\u001b[0m \u001b[38;5;28;01mdef\u001b[39;00m \u001b[38;5;21m_do_call\u001b[39m(\u001b[38;5;28mself\u001b[39m, fn, \u001b[38;5;241m*\u001b[39margs):\n\u001b[0;32m   1377\u001b[0m   \u001b[38;5;28;01mtry\u001b[39;00m:\n\u001b[1;32m-> 1378\u001b[0m     \u001b[38;5;28;01mreturn\u001b[39;00m \u001b[43mfn\u001b[49m\u001b[43m(\u001b[49m\u001b[38;5;241;43m*\u001b[39;49m\u001b[43margs\u001b[49m\u001b[43m)\u001b[49m\n\u001b[0;32m   1379\u001b[0m   \u001b[38;5;28;01mexcept\u001b[39;00m errors\u001b[38;5;241m.\u001b[39mOpError \u001b[38;5;28;01mas\u001b[39;00m e:\n\u001b[0;32m   1380\u001b[0m     message \u001b[38;5;241m=\u001b[39m compat\u001b[38;5;241m.\u001b[39mas_text(e\u001b[38;5;241m.\u001b[39mmessage)\n",
      "File \u001b[1;32m~\\.conda\\envs\\DLC\\lib\\site-packages\\tensorflow\\python\\client\\session.py:1361\u001b[0m, in \u001b[0;36mBaseSession._do_run.<locals>._run_fn\u001b[1;34m(feed_dict, fetch_list, target_list, options, run_metadata)\u001b[0m\n\u001b[0;32m   1358\u001b[0m \u001b[38;5;28;01mdef\u001b[39;00m \u001b[38;5;21m_run_fn\u001b[39m(feed_dict, fetch_list, target_list, options, run_metadata):\n\u001b[0;32m   1359\u001b[0m   \u001b[38;5;66;03m# Ensure any changes to the graph are reflected in the runtime.\u001b[39;00m\n\u001b[0;32m   1360\u001b[0m   \u001b[38;5;28mself\u001b[39m\u001b[38;5;241m.\u001b[39m_extend_graph()\n\u001b[1;32m-> 1361\u001b[0m   \u001b[38;5;28;01mreturn\u001b[39;00m \u001b[38;5;28;43mself\u001b[39;49m\u001b[38;5;241;43m.\u001b[39;49m\u001b[43m_call_tf_sessionrun\u001b[49m\u001b[43m(\u001b[49m\u001b[43moptions\u001b[49m\u001b[43m,\u001b[49m\u001b[43m \u001b[49m\u001b[43mfeed_dict\u001b[49m\u001b[43m,\u001b[49m\u001b[43m \u001b[49m\u001b[43mfetch_list\u001b[49m\u001b[43m,\u001b[49m\n\u001b[0;32m   1362\u001b[0m \u001b[43m                                  \u001b[49m\u001b[43mtarget_list\u001b[49m\u001b[43m,\u001b[49m\u001b[43m \u001b[49m\u001b[43mrun_metadata\u001b[49m\u001b[43m)\u001b[49m\n",
      "File \u001b[1;32m~\\.conda\\envs\\DLC\\lib\\site-packages\\tensorflow\\python\\client\\session.py:1454\u001b[0m, in \u001b[0;36mBaseSession._call_tf_sessionrun\u001b[1;34m(self, options, feed_dict, fetch_list, target_list, run_metadata)\u001b[0m\n\u001b[0;32m   1452\u001b[0m \u001b[38;5;28;01mdef\u001b[39;00m \u001b[38;5;21m_call_tf_sessionrun\u001b[39m(\u001b[38;5;28mself\u001b[39m, options, feed_dict, fetch_list, target_list,\n\u001b[0;32m   1453\u001b[0m                         run_metadata):\n\u001b[1;32m-> 1454\u001b[0m   \u001b[38;5;28;01mreturn\u001b[39;00m \u001b[43mtf_session\u001b[49m\u001b[38;5;241;43m.\u001b[39;49m\u001b[43mTF_SessionRun_wrapper\u001b[49m\u001b[43m(\u001b[49m\u001b[38;5;28;43mself\u001b[39;49m\u001b[38;5;241;43m.\u001b[39;49m\u001b[43m_session\u001b[49m\u001b[43m,\u001b[49m\u001b[43m \u001b[49m\u001b[43moptions\u001b[49m\u001b[43m,\u001b[49m\u001b[43m \u001b[49m\u001b[43mfeed_dict\u001b[49m\u001b[43m,\u001b[49m\n\u001b[0;32m   1455\u001b[0m \u001b[43m                                          \u001b[49m\u001b[43mfetch_list\u001b[49m\u001b[43m,\u001b[49m\u001b[43m \u001b[49m\u001b[43mtarget_list\u001b[49m\u001b[43m,\u001b[49m\n\u001b[0;32m   1456\u001b[0m \u001b[43m                                          \u001b[49m\u001b[43mrun_metadata\u001b[49m\u001b[43m)\u001b[49m\n",
      "\u001b[1;31mKeyboardInterrupt\u001b[0m: "
     ]
    }
   ],
   "source": [
    "deeplabcut.train_network(config_path, shuffle=1, displayiters=100, saveiters=1000)"
   ]
  },
  {
   "cell_type": "code",
   "execution_count": 72,
   "metadata": {},
   "outputs": [],
   "source": [
    "deeplabcut.train_network?"
   ]
  },
  {
   "cell_type": "markdown",
   "metadata": {},
   "source": [
    "## Start over again..."
   ]
  }
 ],
 "metadata": {
  "interpreter": {
   "hash": "9cf59f4f35cbd5b03b7320385623601e0d1d6065449752291df1bcf50543fed6"
  },
  "kernelspec": {
   "display_name": "Python [conda env:.conda-DLC] *",
   "language": "python",
   "name": "conda-env-.conda-DLC-py"
  },
  "language_info": {
   "codemirror_mode": {
    "name": "ipython",
    "version": 3
   },
   "file_extension": ".py",
   "mimetype": "text/x-python",
   "name": "python",
   "nbconvert_exporter": "python",
   "pygments_lexer": "ipython3",
   "version": "3.8.20"
  }
 },
 "nbformat": 4,
 "nbformat_minor": 4
}
