{
 "cells": [
  {
   "cell_type": "code",
   "execution_count": 7,
   "id": "6b54c475-f57e-406e-936d-e8cc5532b32b",
   "metadata": {},
   "outputs": [
    {
     "name": "stdout",
     "output_type": "stream",
     "text": [
      "Table created (or already exists).\n"
     ]
    }
   ],
   "source": [
    "import psycopg2\n",
    "import os\n",
    "\n",
    "DB_NAME = \"deeplabcut_db\"\n",
    "DB_USER = \"postgres\"\n",
    "DB_PASSWORD = \"1234\"\n",
    "DB_HOST = \"localhost\"  # or your IP\n",
    "DB_PORT = \"5432\"\n",
    "\n",
    "# Connect to PostgreSQL\n",
    "conn = psycopg2.connect(\n",
    "    dbname=DB_NAME,\n",
    "    user=DB_USER,\n",
    "    password=DB_PASSWORD,\n",
    "    host=DB_HOST,\n",
    "    port=DB_PORT\n",
    ")\n",
    "\n",
    "cursor = conn.cursor()\n",
    "\n",
    "# Create table (if it doesn't exist)\n",
    "cursor.execute(\"\"\"\n",
    "    CREATE TABLE IF NOT EXISTS dlc_files (\n",
    "        id SERIAL PRIMARY KEY,\n",
    "        video_path TEXT NOT NULL,\n",
    "        coord_path TEXT NOT NULL\n",
    "    )\n",
    "\"\"\")\n",
    "\n",
    "conn.commit()\n",
    "print(\"Table created (or already exists).\")\n",
    "cursor.close()\n",
    "conn.close()\n"
   ]
  },
  {
   "cell_type": "code",
   "execution_count": 12,
   "id": "26a5ac28-dd7a-4eb8-8b7d-d84442ac2f1f",
   "metadata": {},
   "outputs": [
    {
     "name": "stdout",
     "output_type": "stream",
     "text": [
      "   id  \\\n",
      "0   1   \n",
      "1   2   \n",
      "2   3   \n",
      "3   4   \n",
      "4   5   \n",
      "\n",
      "                                                                                                                                                             video_path  \\\n",
      "0   C:\\DeepLabCutProjects\\DLC-Atanu-2024-12-25\\Videos-to-analyze\\Cre_and_WT_Habituation_Food_and_Maze_12_26_24_S1_Houston_Austin_Toronto_Berlin_Trial_1_bottom_left.mp4   \n",
      "1  C:\\DeepLabCutProjects\\DLC-Atanu-2024-12-25\\Videos-to-analyze\\Cre_and_WT_Habituation_Food_and_Maze_12_26_24_S1_Houston_Austin_Toronto_Berlin_Trial_1_bottom_right.mp4   \n",
      "2      C:\\DeepLabCutProjects\\DLC-Atanu-2024-12-25\\Videos-to-analyze\\Cre_and_WT_Habituation_Food_and_Maze_12_26_24_S1_Houston_Austin_Toronto_Berlin_Trial_1_top_left.mp4   \n",
      "3     C:\\DeepLabCutProjects\\DLC-Atanu-2024-12-25\\Videos-to-analyze\\Cre_and_WT_Habituation_Food_and_Maze_12_26_24_S1_Houston_Austin_Toronto_Berlin_Trial_1_top_right.mp4   \n",
      "4    C:\\DeepLabCutProjects\\DLC-Atanu-2024-12-25\\Videos-to-analyze\\Cre_and_WT_Habituation_Food_and_Maze_12_26_24_S2_Denver_El_Paso_Waco_Ft_Worth_Trial_1_bottom_left.mp4   \n",
      "\n",
      "                                                                                                                                                                                                                  coord_path  \n",
      "0   C:\\DeepLabCutProjects\\DLC-Atanu-2024-12-25\\Analyzed-videos-filtered\\Cre_and_WT_Habituation_Food_and_Maze_12_26_24_S1_Houston_Austin_Toronto_Berlin_Trial_1_bottom_leftDLC_resnet50_DLCDec25shuffle1_1140000_filtered.csv  \n",
      "1  C:\\DeepLabCutProjects\\DLC-Atanu-2024-12-25\\Analyzed-videos-filtered\\Cre_and_WT_Habituation_Food_and_Maze_12_26_24_S1_Houston_Austin_Toronto_Berlin_Trial_1_bottom_rightDLC_resnet50_DLCDec25shuffle1_1140000_filtered.csv  \n",
      "2      C:\\DeepLabCutProjects\\DLC-Atanu-2024-12-25\\Analyzed-videos-filtered\\Cre_and_WT_Habituation_Food_and_Maze_12_26_24_S1_Houston_Austin_Toronto_Berlin_Trial_1_top_leftDLC_resnet50_DLCDec25shuffle1_1140000_filtered.csv  \n",
      "3     C:\\DeepLabCutProjects\\DLC-Atanu-2024-12-25\\Analyzed-videos-filtered\\Cre_and_WT_Habituation_Food_and_Maze_12_26_24_S1_Houston_Austin_Toronto_Berlin_Trial_1_top_rightDLC_resnet50_DLCDec25shuffle1_1140000_filtered.csv  \n",
      "4    C:\\DeepLabCutProjects\\DLC-Atanu-2024-12-25\\Analyzed-videos-filtered\\Cre_and_WT_Habituation_Food_and_Maze_12_26_24_S2_Denver_El_Paso_Waco_Ft_Worth_Trial_1_bottom_leftDLC_resnet50_DLCDec25shuffle1_1140000_filtered.csv  \n"
     ]
    },
    {
     "name": "stderr",
     "output_type": "stream",
     "text": [
      "C:\\Users\\FriedmanLab Optogen\\AppData\\Local\\Temp\\ipykernel_19184\\813352918.py:14: UserWarning: pandas only supports SQLAlchemy connectable (engine/connection) or database string URI or sqlite3 DBAPI2 connection. Other DBAPI2 objects are not tested. Please consider using SQLAlchemy.\n",
      "  df = pd.read_sql_query(\"SELECT * FROM dlc_files\", conn)\n"
     ]
    }
   ],
   "source": [
    "import psycopg2\n",
    "import pandas as pd\n",
    "\n",
    "# Connect to PostgreSQL\n",
    "conn = psycopg2.connect(\n",
    "    dbname=\"deeplabcut_db\",\n",
    "    user=\"postgres\",\n",
    "    password=\"1234\",\n",
    "    host=\"localhost\",\n",
    "    port=\"5432\"\n",
    ")\n",
    "\n",
    "# Run SQL and load results into DataFrame\n",
    "df = pd.read_sql_query(\"SELECT * FROM dlc_files\", conn)\n",
    "\n",
    "# Show it\n",
    "pd.set_option('display.max_colwidth', None)\n",
    "print(df.head())\n",
    "\n",
    "conn.close()"
   ]
  },
  {
   "cell_type": "code",
   "execution_count": 11,
   "id": "e1bf8270-b71e-4cb7-a93e-3611f0319fb5",
   "metadata": {},
   "outputs": [
    {
     "name": "stdout",
     "output_type": "stream",
     "text": [
      "0    C:\\DeepLabCutProjects\\DLC-Atanu-2024-12-25\\Ana...\n",
      "Name: coord_path, dtype: object\n"
     ]
    }
   ],
   "source": [
    "print(df[\"coord_path\"][0:1])"
   ]
  },
  {
   "cell_type": "code",
   "execution_count": null,
   "id": "48a27ad9-4dc8-4ef1-b565-8b4c65ab04df",
   "metadata": {},
   "outputs": [],
   "source": []
  }
 ],
 "metadata": {
  "kernelspec": {
   "display_name": "Python [conda env:.conda-DLC] *",
   "language": "python",
   "name": "conda-env-.conda-DLC-py"
  },
  "language_info": {
   "codemirror_mode": {
    "name": "ipython",
    "version": 3
   },
   "file_extension": ".py",
   "mimetype": "text/x-python",
   "name": "python",
   "nbconvert_exporter": "python",
   "pygments_lexer": "ipython3",
   "version": "3.8.20"
  }
 },
 "nbformat": 4,
 "nbformat_minor": 5
}
