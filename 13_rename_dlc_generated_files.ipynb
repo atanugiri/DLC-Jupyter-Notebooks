{
 "cells": [
  {
   "cell_type": "markdown",
   "id": "9ef19a0f-b1f9-4889-82bd-8479dc1cdb67",
   "metadata": {},
   "source": [
    "## Rename original files for easy parsing (Drop DLC part from the file names)"
   ]
  },
  {
   "cell_type": "code",
   "execution_count": 3,
   "id": "b7d89c6b-f491-4ce6-b79d-f49aaa8dbb0e",
   "metadata": {
    "scrolled": true
   },
   "outputs": [
    {
     "name": "stdout",
     "output_type": "stream",
     "text": [
      "✅ Renamed: Toy_Only_Gen_2_3_4_25_S1_Y_CNO__Austin_Houston_Toronto_Berlin_Trial_1_bottom_rightDLC_resnet50_DLCDec25shuffle1_1140000_filtered.csv  -->  Toy_Only_Gen_2_3_4_25_S1_Y_CNO__Austin_Houston_Toronto_Berlin_Trial_1_bottom_right.csv\n",
      "✅ Renamed: Toy_Only_Gen_2_3_4_25_S1_Y_CNO__Austin_Houston_Toronto_Berlin_Trial_1_top_leftDLC_resnet50_DLCDec25shuffle1_1140000_filtered.csv  -->  Toy_Only_Gen_2_3_4_25_S1_Y_CNO__Austin_Houston_Toronto_Berlin_Trial_1_top_left.csv\n",
      "✅ Renamed: Toy_Only_Gen_2_3_4_25_S1_Y_CNO__Austin_Houston_Toronto_Berlin_Trial_1_top_rightDLC_resnet50_DLCDec25shuffle1_1140000_filtered.csv  -->  Toy_Only_Gen_2_3_4_25_S1_Y_CNO__Austin_Houston_Toronto_Berlin_Trial_1_top_right.csv\n",
      "✅ Renamed: Toy_Only_Gen_2_3_4_25_S2_Y_CNO__Denver_El_Paso_Waco_None_4_Trial_1_bottom_leftDLC_resnet50_DLCDec25shuffle1_1140000_filtered.csv  -->  Toy_Only_Gen_2_3_4_25_S2_Y_CNO__Denver_ElPaso_Waco_None4_Trial_1_bottom_left.csv\n",
      "✅ Renamed: Toy_Only_Gen_2_3_4_25_S2_Y_CNO__Denver_El_Paso_Waco_None_4_Trial_1_bottom_rightDLC_resnet50_DLCDec25shuffle1_1140000_filtered.csv  -->  Toy_Only_Gen_2_3_4_25_S2_Y_CNO__Denver_ElPaso_Waco_None4_Trial_1_bottom_right.csv\n",
      "✅ Renamed: Toy_Only_Gen_2_3_4_25_S2_Y_CNO__Denver_El_Paso_Waco_None_4_Trial_1_top_leftDLC_resnet50_DLCDec25shuffle1_1140000_filtered.csv  -->  Toy_Only_Gen_2_3_4_25_S2_Y_CNO__Denver_ElPaso_Waco_None4_Trial_1_top_left.csv\n",
      "✅ Renamed: Toy_Only_Gen_2_3_4_25_S2_Y_CNO__Denver_El_Paso_Waco_None_4_Trial_1_top_rightDLC_resnet50_DLCDec25shuffle1_1140000_filtered.csv  -->  Toy_Only_Gen_2_3_4_25_S2_Y_CNO__Denver_ElPaso_Waco_None4_Trial_1_top_right.csv\n",
      "✅ Renamed: Toy_Only_Gen_2_3_4_25_S3_Y_CNO__Lisbon_Nairobi_Rome_Venice_Trial_1_bottom_leftDLC_resnet50_DLCDec25shuffle1_1140000_filtered.csv  -->  Toy_Only_Gen_2_3_4_25_S3_Y_CNO__Lisbon_Nairobi_Rome_Venice_Trial_1_bottom_left.csv\n",
      "✅ Renamed: Toy_Only_Gen_2_3_4_25_S3_Y_CNO__Lisbon_Nairobi_Rome_Venice_Trial_1_bottom_rightDLC_resnet50_DLCDec25shuffle1_1140000_filtered.csv  -->  Toy_Only_Gen_2_3_4_25_S3_Y_CNO__Lisbon_Nairobi_Rome_Venice_Trial_1_bottom_right.csv\n",
      "✅ Renamed: Toy_Only_Gen_2_3_4_25_S3_Y_CNO__Lisbon_Nairobi_Rome_Venice_Trial_1_top_leftDLC_resnet50_DLCDec25shuffle1_1140000_filtered.csv  -->  Toy_Only_Gen_2_3_4_25_S3_Y_CNO__Lisbon_Nairobi_Rome_Venice_Trial_1_top_left.csv\n",
      "✅ Renamed: Toy_Only_Gen_2_3_4_25_S3_Y_CNO__Lisbon_Nairobi_Rome_Venice_Trial_1_top_rightDLC_resnet50_DLCDec25shuffle1_1140000_filtered.csv  -->  Toy_Only_Gen_2_3_4_25_S3_Y_CNO__Lisbon_Nairobi_Rome_Venice_Trial_1_top_right.csv\n",
      "✅ Renamed: Toy_Only_Gen_2_3_4_25_S4_Y_CNO__Paris_London_Phoenix_None_4_Trial_1_bottom_leftDLC_resnet50_DLCDec25shuffle1_1140000_filtered.csv  -->  Toy_Only_Gen_2_3_4_25_S4_Y_CNO__Paris_London_Phoenix_None4_Trial_1_bottom_left.csv\n",
      "✅ Renamed: Toy_Only_Gen_2_3_4_25_S4_Y_CNO__Paris_London_Phoenix_None_4_Trial_1_bottom_rightDLC_resnet50_DLCDec25shuffle1_1140000_filtered.csv  -->  Toy_Only_Gen_2_3_4_25_S4_Y_CNO__Paris_London_Phoenix_None4_Trial_1_bottom_right.csv\n",
      "✅ Renamed: Toy_Only_Gen_2_3_4_25_S4_Y_CNO__Paris_London_Phoenix_None_4_Trial_1_top_leftDLC_resnet50_DLCDec25shuffle1_1140000_filtered.csv  -->  Toy_Only_Gen_2_3_4_25_S4_Y_CNO__Paris_London_Phoenix_None4_Trial_1_top_left.csv\n",
      "✅ Renamed: Toy_Only_Gen_2_3_4_25_S4_Y_CNO__Paris_London_Phoenix_None_4_Trial_1_top_rightDLC_resnet50_DLCDec25shuffle1_1140000_filtered.csv  -->  Toy_Only_Gen_2_3_4_25_S4_Y_CNO__Paris_London_Phoenix_None4_Trial_1_top_right.csv\n"
     ]
    }
   ],
   "source": [
    "import os\n",
    "import re\n",
    "\n",
    "folder = r\"C:\\DeepLabCutProjects\\DLC-Atanu-2024-12-25\\Analyzed-videos-filtered-temp\"\n",
    "\n",
    "# Define known multi-word city names to fix\n",
    "city_names = [\n",
    "    'El_Paso', 'New_York', 'New_Jersey', 'New_Orleans',\n",
    "    'Las_Cruces', 'Ft_Worth'\n",
    "]\n",
    "city_replacements = {name: name.replace('_', '') for name in city_names}\n",
    "\n",
    "for file in os.listdir(folder):\n",
    "    if not file.endswith(\".csv\"):\n",
    "        continue\n",
    "\n",
    "    original_path = os.path.join(folder, file)\n",
    "    new_name = file\n",
    "\n",
    "    # Step 1: Remove DLC suffix (if it still exists)\n",
    "    new_name = re.sub(r'DLC_resnet50_.*?_filtered', '', new_name)\n",
    "\n",
    "    # Step 2: Replace 'None_#' with 'None#'\n",
    "    new_name = re.sub(r'None_(\\d+)', r'None\\1', new_name)\n",
    "\n",
    "    # Step 3: Replace multi-word city names\n",
    "    for old, new in city_replacements.items():\n",
    "        new_name = new_name.replace(old, new)\n",
    "\n",
    "    # Skip if no changes needed\n",
    "    if new_name == file:\n",
    "        continue\n",
    "\n",
    "    new_path = os.path.join(folder, new_name)\n",
    "\n",
    "    # Safety: skip if destination file already exists\n",
    "    if os.path.exists(new_path):\n",
    "        print(f\"❗Skipped (target exists): {new_name}\")\n",
    "        continue\n",
    "\n",
    "    # Rename file\n",
    "    os.rename(original_path, new_path)\n",
    "    print(f\"✅ Renamed: {file}  -->  {new_name}\")\n"
   ]
  },
  {
   "cell_type": "markdown",
   "id": "b2df9fca-747b-4685-8a1f-51cf2ed4bcaa",
   "metadata": {},
   "source": [
    "## Separate name block with '____'"
   ]
  },
  {
   "cell_type": "code",
   "execution_count": 4,
   "id": "551da64d-2789-40e8-8c35-65bd38fa058b",
   "metadata": {
    "scrolled": true
   },
   "outputs": [
    {
     "name": "stdout",
     "output_type": "stream",
     "text": [
      "✅ Renamed:\n",
      "Toy_Only_Gen_2_3_4_25_S1_Y_CNO__Austin_Houston_Toronto_Berlin_Trial_1_bottom_right.csv  -->\n",
      "Toy_Only_Gen_2_3_4_25_S1_Y_CNO____Austin_Houston_Toronto_Berlin_____Trial_1_bottom_right.csv\n",
      "\n",
      "✅ Renamed:\n",
      "Toy_Only_Gen_2_3_4_25_S1_Y_CNO__Austin_Houston_Toronto_Berlin_Trial_1_top_left.csv  -->\n",
      "Toy_Only_Gen_2_3_4_25_S1_Y_CNO____Austin_Houston_Toronto_Berlin_____Trial_1_top_left.csv\n",
      "\n",
      "✅ Renamed:\n",
      "Toy_Only_Gen_2_3_4_25_S1_Y_CNO__Austin_Houston_Toronto_Berlin_Trial_1_top_right.csv  -->\n",
      "Toy_Only_Gen_2_3_4_25_S1_Y_CNO____Austin_Houston_Toronto_Berlin_____Trial_1_top_right.csv\n",
      "\n",
      "✅ Renamed:\n",
      "Toy_Only_Gen_2_3_4_25_S2_Y_CNO__Denver_ElPaso_Waco_None4_Trial_1_bottom_left.csv  -->\n",
      "Toy_Only_Gen_2_3_4_25_S2_Y_CNO____Denver_ElPaso_Waco_None4_____Trial_1_bottom_left.csv\n",
      "\n",
      "✅ Renamed:\n",
      "Toy_Only_Gen_2_3_4_25_S2_Y_CNO__Denver_ElPaso_Waco_None4_Trial_1_bottom_right.csv  -->\n",
      "Toy_Only_Gen_2_3_4_25_S2_Y_CNO____Denver_ElPaso_Waco_None4_____Trial_1_bottom_right.csv\n",
      "\n",
      "✅ Renamed:\n",
      "Toy_Only_Gen_2_3_4_25_S2_Y_CNO__Denver_ElPaso_Waco_None4_Trial_1_top_left.csv  -->\n",
      "Toy_Only_Gen_2_3_4_25_S2_Y_CNO____Denver_ElPaso_Waco_None4_____Trial_1_top_left.csv\n",
      "\n",
      "✅ Renamed:\n",
      "Toy_Only_Gen_2_3_4_25_S2_Y_CNO__Denver_ElPaso_Waco_None4_Trial_1_top_right.csv  -->\n",
      "Toy_Only_Gen_2_3_4_25_S2_Y_CNO____Denver_ElPaso_Waco_None4_____Trial_1_top_right.csv\n",
      "\n",
      "✅ Renamed:\n",
      "Toy_Only_Gen_2_3_4_25_S3_Y_CNO__Lisbon_Nairobi_Rome_Venice_Trial_1_bottom_left.csv  -->\n",
      "Toy_Only_Gen_2_3_4_25_S3_Y_CNO____Lisbon_Nairobi_Rome_Venice_____Trial_1_bottom_left.csv\n",
      "\n",
      "✅ Renamed:\n",
      "Toy_Only_Gen_2_3_4_25_S3_Y_CNO__Lisbon_Nairobi_Rome_Venice_Trial_1_bottom_right.csv  -->\n",
      "Toy_Only_Gen_2_3_4_25_S3_Y_CNO____Lisbon_Nairobi_Rome_Venice_____Trial_1_bottom_right.csv\n",
      "\n",
      "✅ Renamed:\n",
      "Toy_Only_Gen_2_3_4_25_S3_Y_CNO__Lisbon_Nairobi_Rome_Venice_Trial_1_top_left.csv  -->\n",
      "Toy_Only_Gen_2_3_4_25_S3_Y_CNO____Lisbon_Nairobi_Rome_Venice_____Trial_1_top_left.csv\n",
      "\n",
      "✅ Renamed:\n",
      "Toy_Only_Gen_2_3_4_25_S3_Y_CNO__Lisbon_Nairobi_Rome_Venice_Trial_1_top_right.csv  -->\n",
      "Toy_Only_Gen_2_3_4_25_S3_Y_CNO____Lisbon_Nairobi_Rome_Venice_____Trial_1_top_right.csv\n",
      "\n",
      "✅ Renamed:\n",
      "Toy_Only_Gen_2_3_4_25_S4_Y_CNO__Paris_London_Phoenix_None4_Trial_1_bottom_left.csv  -->\n",
      "Toy_Only_Gen_2_3_4_25_S4_Y_CNO____Paris_London_Phoenix_None4_____Trial_1_bottom_left.csv\n",
      "\n",
      "✅ Renamed:\n",
      "Toy_Only_Gen_2_3_4_25_S4_Y_CNO__Paris_London_Phoenix_None4_Trial_1_bottom_right.csv  -->\n",
      "Toy_Only_Gen_2_3_4_25_S4_Y_CNO____Paris_London_Phoenix_None4_____Trial_1_bottom_right.csv\n",
      "\n",
      "✅ Renamed:\n",
      "Toy_Only_Gen_2_3_4_25_S4_Y_CNO__Paris_London_Phoenix_None4_Trial_1_top_left.csv  -->\n",
      "Toy_Only_Gen_2_3_4_25_S4_Y_CNO____Paris_London_Phoenix_None4_____Trial_1_top_left.csv\n",
      "\n",
      "✅ Renamed:\n",
      "Toy_Only_Gen_2_3_4_25_S4_Y_CNO__Paris_London_Phoenix_None4_Trial_1_top_right.csv  -->\n",
      "Toy_Only_Gen_2_3_4_25_S4_Y_CNO____Paris_London_Phoenix_None4_____Trial_1_top_right.csv\n",
      "\n"
     ]
    }
   ],
   "source": [
    "import os\n",
    "import re\n",
    "\n",
    "folder = r\"C:\\DeepLabCutProjects\\DLC-Atanu-2024-12-25\\Analyzed-videos-filtered-temp\"\n",
    "\n",
    "for file in os.listdir(folder):\n",
    "    if not file.endswith(\".csv\"):\n",
    "        continue\n",
    "\n",
    "    if \"____Trial\" in file:\n",
    "        continue  # Already processed\n",
    "\n",
    "    # Match the position of Trial_#\n",
    "    trial_match = re.search(r'_Trial_\\d+', file)\n",
    "    if not trial_match:\n",
    "        print(f\"❌ Skipped (no Trial found): {file}\")\n",
    "        continue\n",
    "\n",
    "    trial_start = trial_match.start()\n",
    "    before_trial = file[:trial_start]\n",
    "    after_trial = file[trial_start:]  # Includes _Trial_1...\n",
    "\n",
    "    tokens = before_trial.split('_')\n",
    "    if len(tokens) < 4:\n",
    "        print(f\"❌ Skipped (not enough tokens before Trial): {file}\")\n",
    "        continue\n",
    "\n",
    "    # Get last 4 tokens = animal block\n",
    "    animal_tokens = tokens[-4:]\n",
    "    animal_block = '_'.join(animal_tokens)\n",
    "\n",
    "    # Trim trailing underscore before animal block (if any)\n",
    "    prefix = '_'.join(tokens[:-4])\n",
    "    if prefix.endswith('_'):\n",
    "        prefix = prefix[:-1]  # Remove trailing underscore\n",
    "\n",
    "    # Rebuild filename\n",
    "    new_file = f\"{prefix}____{animal_block}____{after_trial}\"\n",
    "\n",
    "    original_path = os.path.join(folder, file)\n",
    "    new_path = os.path.join(folder, new_file)\n",
    "\n",
    "    if os.path.exists(new_path):\n",
    "        print(f\"⚠️ Skipped (target exists): {new_file}\")\n",
    "        continue\n",
    "\n",
    "    os.rename(original_path, new_path)\n",
    "    print(f\"✅ Renamed:\\n{file}  -->\\n{new_file}\\n\")\n"
   ]
  },
  {
   "cell_type": "markdown",
   "id": "0af7a475-c934-4637-9e9a-e3c7a30628f2",
   "metadata": {},
   "source": [
    "### Validation for extract_animal_name"
   ]
  },
  {
   "cell_type": "code",
   "execution_count": 20,
   "id": "d41a0ab4-c432-450a-9206-3be914d006a3",
   "metadata": {},
   "outputs": [
    {
     "name": "stdout",
     "output_type": "stream",
     "text": [
      "Cre_and_WT_Habituation_Food_and_Maze_12_26_24_S1____Houston_Austin_Toronto_Berlin_____Trial_1_bottom_left.csv --> Toronto\n",
      "Cre_and_WT_Habituation_Food_and_Maze_12_26_24_S1____Houston_Austin_Toronto_Berlin_____Trial_1_bottom_right.csv --> Berlin\n",
      "Cre_and_WT_Habituation_Food_and_Maze_12_26_24_S1____Houston_Austin_Toronto_Berlin_____Trial_1_top_left.csv --> Houston\n",
      "Cre_and_WT_Habituation_Food_and_Maze_12_26_24_S1____Houston_Austin_Toronto_Berlin_____Trial_1_top_right.csv --> Austin\n",
      "Cre_and_WT_Habituation_Food_and_Maze_12_26_24_S2____Denver_ElPaso_Waco_FtWorth_____Trial_1_bottom_left.csv --> Waco\n",
      "Cre_and_WT_Habituation_Food_and_Maze_12_26_24_S2____Denver_ElPaso_Waco_FtWorth_____Trial_1_bottom_right.csv --> FtWorth\n",
      "Cre_and_WT_Habituation_Food_and_Maze_12_26_24_S2____Denver_ElPaso_Waco_FtWorth_____Trial_1_top_left.csv --> Denver\n",
      "Cre_and_WT_Habituation_Food_and_Maze_12_26_24_S2____Denver_ElPaso_Waco_FtWorth_____Trial_1_top_right.csv --> ElPaso\n",
      "Cre_and_WT_Habituation_Food_and_Maze_12_26_24_S3____Orlando_Tampa_Dallas_None4_____Trial_1_bottom_left.csv --> Dallas\n",
      "Cre_and_WT_Habituation_Food_and_Maze_12_26_24_S3____Orlando_Tampa_Dallas_None4_____Trial_1_bottom_right.csv --> None4\n"
     ]
    }
   ],
   "source": [
    "import sys\n",
    "sys.path.append('../Python_scripts')\n",
    "\n",
    "from extract_animal_name import extract_animal_name\n",
    "\n",
    "import os\n",
    "\n",
    "# Folder path\n",
    "folder = r\"C:\\DeepLabCutProjects\\DLC-Atanu-2024-12-25\\Analyzed-videos-filtered\"\n",
    "csv_files = [f for f in os.listdir(folder) if f.endswith(\".csv\")]\n",
    "\n",
    "for file in csv_files[0:10]:\n",
    "    # print(file)\n",
    "    if file.endswith(\".csv\"):\n",
    "        animal_name = extract_animal_name(file)\n",
    "        if animal_name is not None:\n",
    "            print(f\"{file} --> {animal_name}\")\n",
    "        else:\n",
    "            print(f\"[SKIPPED] Pattern not matched: {file}\")\n"
   ]
  },
  {
   "cell_type": "markdown",
   "id": "25c93050-d6b6-4fe9-bb7f-33809475f5d7",
   "metadata": {},
   "source": [
    "### Validation for extract_maze_number"
   ]
  },
  {
   "cell_type": "code",
   "execution_count": 22,
   "id": "1494fb1c-3588-4320-ab75-a3db0784c169",
   "metadata": {},
   "outputs": [
    {
     "name": "stdout",
     "output_type": "stream",
     "text": [
      "Cre_and_WT_Habituation_Food_and_Maze_12_26_24_S1____Houston_Austin_Toronto_Berlin_____Trial_1_bottom_left.csv --> 3\n",
      "Cre_and_WT_Habituation_Food_and_Maze_12_26_24_S1____Houston_Austin_Toronto_Berlin_____Trial_1_bottom_right.csv --> 4\n",
      "Cre_and_WT_Habituation_Food_and_Maze_12_26_24_S1____Houston_Austin_Toronto_Berlin_____Trial_1_top_left.csv --> 1\n",
      "Cre_and_WT_Habituation_Food_and_Maze_12_26_24_S1____Houston_Austin_Toronto_Berlin_____Trial_1_top_right.csv --> 2\n",
      "Cre_and_WT_Habituation_Food_and_Maze_12_26_24_S2____Denver_ElPaso_Waco_FtWorth_____Trial_1_bottom_left.csv --> 3\n",
      "Cre_and_WT_Habituation_Food_and_Maze_12_26_24_S2____Denver_ElPaso_Waco_FtWorth_____Trial_1_bottom_right.csv --> 4\n",
      "Cre_and_WT_Habituation_Food_and_Maze_12_26_24_S2____Denver_ElPaso_Waco_FtWorth_____Trial_1_top_left.csv --> 1\n",
      "Cre_and_WT_Habituation_Food_and_Maze_12_26_24_S2____Denver_ElPaso_Waco_FtWorth_____Trial_1_top_right.csv --> 2\n",
      "Cre_and_WT_Habituation_Food_and_Maze_12_26_24_S3____Orlando_Tampa_Dallas_None4_____Trial_1_bottom_left.csv --> 3\n",
      "Cre_and_WT_Habituation_Food_and_Maze_12_26_24_S3____Orlando_Tampa_Dallas_None4_____Trial_1_bottom_right.csv --> 4\n"
     ]
    }
   ],
   "source": [
    "import sys\n",
    "sys.path.append('../Python_scripts')\n",
    "\n",
    "from extract_maze_number import extract_maze_number\n",
    "\n",
    "import os\n",
    "\n",
    "# Folder path\n",
    "folder = r\"C:\\DeepLabCutProjects\\DLC-Atanu-2024-12-25\\Analyzed-videos-filtered\"\n",
    "csv_files = [f for f in os.listdir(folder) if f.endswith(\".csv\")]\n",
    "\n",
    "for file in csv_files[0:10]:\n",
    "    # print(file)\n",
    "    if file.endswith(\".csv\"):\n",
    "        maze_number = extract_maze_number(file)\n",
    "        if maze_number is not None:\n",
    "            print(f\"{file} --> {maze_number}\")\n",
    "        else:\n",
    "            print(f\"[SKIPPED] Pattern not matched: {file}\")"
   ]
  },
  {
   "cell_type": "code",
   "execution_count": null,
   "id": "dc86f37c-bcc0-4e65-b91d-b8890713b433",
   "metadata": {},
   "outputs": [],
   "source": []
  }
 ],
 "metadata": {
  "kernelspec": {
   "display_name": "Python [conda env:.conda-DLC] *",
   "language": "python",
   "name": "conda-env-.conda-DLC-py"
  },
  "language_info": {
   "codemirror_mode": {
    "name": "ipython",
    "version": 3
   },
   "file_extension": ".py",
   "mimetype": "text/x-python",
   "name": "python",
   "nbconvert_exporter": "python",
   "pygments_lexer": "ipython3",
   "version": "3.8.20"
  }
 },
 "nbformat": 4,
 "nbformat_minor": 5
}
